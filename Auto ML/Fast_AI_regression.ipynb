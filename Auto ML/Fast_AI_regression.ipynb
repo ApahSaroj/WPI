{
  "nbformat": 4,
  "nbformat_minor": 0,
  "metadata": {
    "colab": {
      "name": "Fast AI regression.ipynb",
      "provenance": [],
      "authorship_tag": "ABX9TyNfRNdDwFZmMZtSjVOnJwka",
      "include_colab_link": true
    },
    "kernelspec": {
      "name": "python3",
      "display_name": "Python 3"
    },
    "language_info": {
      "name": "python"
    }
  },
  "cells": [
    {
      "cell_type": "markdown",
      "metadata": {
        "id": "view-in-github",
        "colab_type": "text"
      },
      "source": [
        "<a href=\"https://colab.research.google.com/github/ApahSaroj/WPI/blob/main/Fast_AI_regression.ipynb\" target=\"_parent\"><img src=\"https://colab.research.google.com/assets/colab-badge.svg\" alt=\"Open In Colab\"/></a>"
      ]
    },
    {
      "cell_type": "code",
      "metadata": {
        "id": "yZeiV-LdqMVo"
      },
      "source": [
        "import pandas as pd\n",
        "import numpy as np\n",
        "from fastai.tabular import *"
      ],
      "execution_count": 1,
      "outputs": []
    },
    {
      "cell_type": "code",
      "metadata": {
        "colab": {
          "base_uri": "https://localhost:8080/"
        },
        "id": "egJdvpgAq5S6",
        "outputId": "fb2ec83a-0f84-4e54-bfda-52d48b769820"
      },
      "source": [
        "from google.colab import drive\n",
        "drive.mount('/content/drive')"
      ],
      "execution_count": 2,
      "outputs": [
        {
          "output_type": "stream",
          "text": [
            "Drive already mounted at /content/drive; to attempt to forcibly remount, call drive.mount(\"/content/drive\", force_remount=True).\n"
          ],
          "name": "stdout"
        }
      ]
    },
    {
      "cell_type": "code",
      "metadata": {
        "id": "Kr0Drolsq52Z"
      },
      "source": [
        "#importing the dataset\n",
        "dataset = pd.read_excel('/content/drive/MyDrive/DATA/WQC_test.xlsx')"
      ],
      "execution_count": 3,
      "outputs": []
    },
    {
      "cell_type": "code",
      "metadata": {
        "colab": {
          "base_uri": "https://localhost:8080/",
          "height": 419
        },
        "id": "GiTlz8uXrHnb",
        "outputId": "86e322ca-da20-46d9-f4be-6e285e2b85c3"
      },
      "source": [
        "dataset=dataset.dropna()\n",
        "dataset"
      ],
      "execution_count": 4,
      "outputs": [
        {
          "output_type": "execute_result",
          "data": {
            "text/html": [
              "<div>\n",
              "<style scoped>\n",
              "    .dataframe tbody tr th:only-of-type {\n",
              "        vertical-align: middle;\n",
              "    }\n",
              "\n",
              "    .dataframe tbody tr th {\n",
              "        vertical-align: top;\n",
              "    }\n",
              "\n",
              "    .dataframe thead th {\n",
              "        text-align: right;\n",
              "    }\n",
              "</style>\n",
              "<table border=\"1\" class=\"dataframe\">\n",
              "  <thead>\n",
              "    <tr style=\"text-align: right;\">\n",
              "      <th></th>\n",
              "      <th>Unnamed: 0</th>\n",
              "      <th>pH</th>\n",
              "      <th>DO</th>\n",
              "      <th>TDS</th>\n",
              "      <th>Alkalinity</th>\n",
              "      <th>EC</th>\n",
              "      <th>Na</th>\n",
              "      <th>Ca</th>\n",
              "      <th>Mg</th>\n",
              "      <th>K</th>\n",
              "      <th>F</th>\n",
              "      <th>Cl</th>\n",
              "      <th>Nitrate</th>\n",
              "      <th>Sulphate</th>\n",
              "      <th>Phosphate</th>\n",
              "      <th>WPI</th>\n",
              "      <th>WQC</th>\n",
              "    </tr>\n",
              "  </thead>\n",
              "  <tbody>\n",
              "    <tr>\n",
              "      <th>0</th>\n",
              "      <td>0</td>\n",
              "      <td>8.14</td>\n",
              "      <td>8.7</td>\n",
              "      <td>84.0</td>\n",
              "      <td>52.0</td>\n",
              "      <td>147.8</td>\n",
              "      <td>4.48</td>\n",
              "      <td>44.0</td>\n",
              "      <td>20.0</td>\n",
              "      <td>1.17</td>\n",
              "      <td>0.285</td>\n",
              "      <td>7.80</td>\n",
              "      <td>0.758000</td>\n",
              "      <td>6.534660</td>\n",
              "      <td>0.06211</td>\n",
              "      <td>0.249528</td>\n",
              "      <td>Excellent</td>\n",
              "    </tr>\n",
              "    <tr>\n",
              "      <th>1</th>\n",
              "      <td>1</td>\n",
              "      <td>7.70</td>\n",
              "      <td>8.8</td>\n",
              "      <td>110.0</td>\n",
              "      <td>76.0</td>\n",
              "      <td>188.0</td>\n",
              "      <td>8.61</td>\n",
              "      <td>44.0</td>\n",
              "      <td>36.0</td>\n",
              "      <td>3.46</td>\n",
              "      <td>0.401</td>\n",
              "      <td>14.80</td>\n",
              "      <td>0.196062</td>\n",
              "      <td>8.138620</td>\n",
              "      <td>0.00960</td>\n",
              "      <td>0.216400</td>\n",
              "      <td>Excellent</td>\n",
              "    </tr>\n",
              "    <tr>\n",
              "      <th>2</th>\n",
              "      <td>2</td>\n",
              "      <td>7.60</td>\n",
              "      <td>7.5</td>\n",
              "      <td>75.0</td>\n",
              "      <td>44.0</td>\n",
              "      <td>128.0</td>\n",
              "      <td>8.11</td>\n",
              "      <td>28.0</td>\n",
              "      <td>20.0</td>\n",
              "      <td>2.80</td>\n",
              "      <td>0.379</td>\n",
              "      <td>14.80</td>\n",
              "      <td>0.298875</td>\n",
              "      <td>3.855625</td>\n",
              "      <td>0.01280</td>\n",
              "      <td>0.183814</td>\n",
              "      <td>Excellent</td>\n",
              "    </tr>\n",
              "    <tr>\n",
              "      <th>3</th>\n",
              "      <td>3</td>\n",
              "      <td>8.20</td>\n",
              "      <td>9.1</td>\n",
              "      <td>76.0</td>\n",
              "      <td>56.0</td>\n",
              "      <td>127.0</td>\n",
              "      <td>6.30</td>\n",
              "      <td>44.0</td>\n",
              "      <td>18.0</td>\n",
              "      <td>1.65</td>\n",
              "      <td>0.396</td>\n",
              "      <td>9.60</td>\n",
              "      <td>0.299590</td>\n",
              "      <td>2.238750</td>\n",
              "      <td>0.01536</td>\n",
              "      <td>0.219282</td>\n",
              "      <td>Excellent</td>\n",
              "    </tr>\n",
              "    <tr>\n",
              "      <th>4</th>\n",
              "      <td>4</td>\n",
              "      <td>7.31</td>\n",
              "      <td>7.3</td>\n",
              "      <td>84.0</td>\n",
              "      <td>52.0</td>\n",
              "      <td>140.0</td>\n",
              "      <td>5.50</td>\n",
              "      <td>28.0</td>\n",
              "      <td>20.0</td>\n",
              "      <td>1.61</td>\n",
              "      <td>0.265</td>\n",
              "      <td>8.30</td>\n",
              "      <td>0.106000</td>\n",
              "      <td>5.600000</td>\n",
              "      <td>0.01000</td>\n",
              "      <td>0.165831</td>\n",
              "      <td>Excellent</td>\n",
              "    </tr>\n",
              "    <tr>\n",
              "      <th>...</th>\n",
              "      <td>...</td>\n",
              "      <td>...</td>\n",
              "      <td>...</td>\n",
              "      <td>...</td>\n",
              "      <td>...</td>\n",
              "      <td>...</td>\n",
              "      <td>...</td>\n",
              "      <td>...</td>\n",
              "      <td>...</td>\n",
              "      <td>...</td>\n",
              "      <td>...</td>\n",
              "      <td>...</td>\n",
              "      <td>...</td>\n",
              "      <td>...</td>\n",
              "      <td>...</td>\n",
              "      <td>...</td>\n",
              "      <td>...</td>\n",
              "    </tr>\n",
              "    <tr>\n",
              "      <th>482</th>\n",
              "      <td>482</td>\n",
              "      <td>7.60</td>\n",
              "      <td>5.6</td>\n",
              "      <td>224.0</td>\n",
              "      <td>8.0</td>\n",
              "      <td>370.0</td>\n",
              "      <td>16.14</td>\n",
              "      <td>92.0</td>\n",
              "      <td>24.0</td>\n",
              "      <td>7.60</td>\n",
              "      <td>2.270</td>\n",
              "      <td>23.04</td>\n",
              "      <td>1.352000</td>\n",
              "      <td>104.480000</td>\n",
              "      <td>0.01500</td>\n",
              "      <td>0.419630</td>\n",
              "      <td>Excellent</td>\n",
              "    </tr>\n",
              "    <tr>\n",
              "      <th>483</th>\n",
              "      <td>483</td>\n",
              "      <td>7.30</td>\n",
              "      <td>5.6</td>\n",
              "      <td>266.0</td>\n",
              "      <td>96.0</td>\n",
              "      <td>434.0</td>\n",
              "      <td>20.56</td>\n",
              "      <td>96.0</td>\n",
              "      <td>32.0</td>\n",
              "      <td>9.89</td>\n",
              "      <td>1.550</td>\n",
              "      <td>30.86</td>\n",
              "      <td>7.074000</td>\n",
              "      <td>61.068000</td>\n",
              "      <td>0.03300</td>\n",
              "      <td>0.432996</td>\n",
              "      <td>Excellent</td>\n",
              "    </tr>\n",
              "    <tr>\n",
              "      <th>484</th>\n",
              "      <td>484</td>\n",
              "      <td>5.10</td>\n",
              "      <td>5.8</td>\n",
              "      <td>290.0</td>\n",
              "      <td>12.0</td>\n",
              "      <td>487.0</td>\n",
              "      <td>37.35</td>\n",
              "      <td>60.0</td>\n",
              "      <td>44.0</td>\n",
              "      <td>14.80</td>\n",
              "      <td>0.159</td>\n",
              "      <td>60.13</td>\n",
              "      <td>9.256000</td>\n",
              "      <td>89.910000</td>\n",
              "      <td>0.16300</td>\n",
              "      <td>0.326811</td>\n",
              "      <td>Excellent</td>\n",
              "    </tr>\n",
              "    <tr>\n",
              "      <th>485</th>\n",
              "      <td>485</td>\n",
              "      <td>7.40</td>\n",
              "      <td>6.4</td>\n",
              "      <td>230.0</td>\n",
              "      <td>72.0</td>\n",
              "      <td>385.0</td>\n",
              "      <td>20.06</td>\n",
              "      <td>70.0</td>\n",
              "      <td>42.0</td>\n",
              "      <td>10.35</td>\n",
              "      <td>1.360</td>\n",
              "      <td>32.92</td>\n",
              "      <td>7.110435</td>\n",
              "      <td>48.500000</td>\n",
              "      <td>0.21900</td>\n",
              "      <td>0.509970</td>\n",
              "      <td>Good</td>\n",
              "    </tr>\n",
              "    <tr>\n",
              "      <th>486</th>\n",
              "      <td>486</td>\n",
              "      <td>7.60</td>\n",
              "      <td>6.9</td>\n",
              "      <td>243.0</td>\n",
              "      <td>68.0</td>\n",
              "      <td>410.8</td>\n",
              "      <td>17.41</td>\n",
              "      <td>82.0</td>\n",
              "      <td>50.0</td>\n",
              "      <td>9.92</td>\n",
              "      <td>1.310</td>\n",
              "      <td>34.89</td>\n",
              "      <td>6.385000</td>\n",
              "      <td>59.940000</td>\n",
              "      <td>0.07000</td>\n",
              "      <td>0.422551</td>\n",
              "      <td>Excellent</td>\n",
              "    </tr>\n",
              "  </tbody>\n",
              "</table>\n",
              "<p>485 rows × 17 columns</p>\n",
              "</div>"
            ],
            "text/plain": [
              "     Unnamed: 0    pH   DO    TDS  ...    Sulphate  Phosphate       WPI        WQC\n",
              "0             0  8.14  8.7   84.0  ...    6.534660    0.06211  0.249528  Excellent\n",
              "1             1  7.70  8.8  110.0  ...    8.138620    0.00960  0.216400  Excellent\n",
              "2             2  7.60  7.5   75.0  ...    3.855625    0.01280  0.183814  Excellent\n",
              "3             3  8.20  9.1   76.0  ...    2.238750    0.01536  0.219282  Excellent\n",
              "4             4  7.31  7.3   84.0  ...    5.600000    0.01000  0.165831  Excellent\n",
              "..          ...   ...  ...    ...  ...         ...        ...       ...        ...\n",
              "482         482  7.60  5.6  224.0  ...  104.480000    0.01500  0.419630  Excellent\n",
              "483         483  7.30  5.6  266.0  ...   61.068000    0.03300  0.432996  Excellent\n",
              "484         484  5.10  5.8  290.0  ...   89.910000    0.16300  0.326811  Excellent\n",
              "485         485  7.40  6.4  230.0  ...   48.500000    0.21900  0.509970       Good\n",
              "486         486  7.60  6.9  243.0  ...   59.940000    0.07000  0.422551  Excellent\n",
              "\n",
              "[485 rows x 17 columns]"
            ]
          },
          "metadata": {
            "tags": []
          },
          "execution_count": 4
        }
      ]
    },
    {
      "cell_type": "code",
      "metadata": {
        "colab": {
          "base_uri": "https://localhost:8080/",
          "height": 419
        },
        "id": "WmHTsSzWrMdd",
        "outputId": "0e01a41d-205e-4168-f97d-9a12618578fb"
      },
      "source": [
        "df = dataset.iloc[:,1:17]\n",
        "df"
      ],
      "execution_count": 5,
      "outputs": [
        {
          "output_type": "execute_result",
          "data": {
            "text/html": [
              "<div>\n",
              "<style scoped>\n",
              "    .dataframe tbody tr th:only-of-type {\n",
              "        vertical-align: middle;\n",
              "    }\n",
              "\n",
              "    .dataframe tbody tr th {\n",
              "        vertical-align: top;\n",
              "    }\n",
              "\n",
              "    .dataframe thead th {\n",
              "        text-align: right;\n",
              "    }\n",
              "</style>\n",
              "<table border=\"1\" class=\"dataframe\">\n",
              "  <thead>\n",
              "    <tr style=\"text-align: right;\">\n",
              "      <th></th>\n",
              "      <th>pH</th>\n",
              "      <th>DO</th>\n",
              "      <th>TDS</th>\n",
              "      <th>Alkalinity</th>\n",
              "      <th>EC</th>\n",
              "      <th>Na</th>\n",
              "      <th>Ca</th>\n",
              "      <th>Mg</th>\n",
              "      <th>K</th>\n",
              "      <th>F</th>\n",
              "      <th>Cl</th>\n",
              "      <th>Nitrate</th>\n",
              "      <th>Sulphate</th>\n",
              "      <th>Phosphate</th>\n",
              "      <th>WPI</th>\n",
              "      <th>WQC</th>\n",
              "    </tr>\n",
              "  </thead>\n",
              "  <tbody>\n",
              "    <tr>\n",
              "      <th>0</th>\n",
              "      <td>8.14</td>\n",
              "      <td>8.7</td>\n",
              "      <td>84.0</td>\n",
              "      <td>52.0</td>\n",
              "      <td>147.8</td>\n",
              "      <td>4.48</td>\n",
              "      <td>44.0</td>\n",
              "      <td>20.0</td>\n",
              "      <td>1.17</td>\n",
              "      <td>0.285</td>\n",
              "      <td>7.80</td>\n",
              "      <td>0.758000</td>\n",
              "      <td>6.534660</td>\n",
              "      <td>0.06211</td>\n",
              "      <td>0.249528</td>\n",
              "      <td>Excellent</td>\n",
              "    </tr>\n",
              "    <tr>\n",
              "      <th>1</th>\n",
              "      <td>7.70</td>\n",
              "      <td>8.8</td>\n",
              "      <td>110.0</td>\n",
              "      <td>76.0</td>\n",
              "      <td>188.0</td>\n",
              "      <td>8.61</td>\n",
              "      <td>44.0</td>\n",
              "      <td>36.0</td>\n",
              "      <td>3.46</td>\n",
              "      <td>0.401</td>\n",
              "      <td>14.80</td>\n",
              "      <td>0.196062</td>\n",
              "      <td>8.138620</td>\n",
              "      <td>0.00960</td>\n",
              "      <td>0.216400</td>\n",
              "      <td>Excellent</td>\n",
              "    </tr>\n",
              "    <tr>\n",
              "      <th>2</th>\n",
              "      <td>7.60</td>\n",
              "      <td>7.5</td>\n",
              "      <td>75.0</td>\n",
              "      <td>44.0</td>\n",
              "      <td>128.0</td>\n",
              "      <td>8.11</td>\n",
              "      <td>28.0</td>\n",
              "      <td>20.0</td>\n",
              "      <td>2.80</td>\n",
              "      <td>0.379</td>\n",
              "      <td>14.80</td>\n",
              "      <td>0.298875</td>\n",
              "      <td>3.855625</td>\n",
              "      <td>0.01280</td>\n",
              "      <td>0.183814</td>\n",
              "      <td>Excellent</td>\n",
              "    </tr>\n",
              "    <tr>\n",
              "      <th>3</th>\n",
              "      <td>8.20</td>\n",
              "      <td>9.1</td>\n",
              "      <td>76.0</td>\n",
              "      <td>56.0</td>\n",
              "      <td>127.0</td>\n",
              "      <td>6.30</td>\n",
              "      <td>44.0</td>\n",
              "      <td>18.0</td>\n",
              "      <td>1.65</td>\n",
              "      <td>0.396</td>\n",
              "      <td>9.60</td>\n",
              "      <td>0.299590</td>\n",
              "      <td>2.238750</td>\n",
              "      <td>0.01536</td>\n",
              "      <td>0.219282</td>\n",
              "      <td>Excellent</td>\n",
              "    </tr>\n",
              "    <tr>\n",
              "      <th>4</th>\n",
              "      <td>7.31</td>\n",
              "      <td>7.3</td>\n",
              "      <td>84.0</td>\n",
              "      <td>52.0</td>\n",
              "      <td>140.0</td>\n",
              "      <td>5.50</td>\n",
              "      <td>28.0</td>\n",
              "      <td>20.0</td>\n",
              "      <td>1.61</td>\n",
              "      <td>0.265</td>\n",
              "      <td>8.30</td>\n",
              "      <td>0.106000</td>\n",
              "      <td>5.600000</td>\n",
              "      <td>0.01000</td>\n",
              "      <td>0.165831</td>\n",
              "      <td>Excellent</td>\n",
              "    </tr>\n",
              "    <tr>\n",
              "      <th>...</th>\n",
              "      <td>...</td>\n",
              "      <td>...</td>\n",
              "      <td>...</td>\n",
              "      <td>...</td>\n",
              "      <td>...</td>\n",
              "      <td>...</td>\n",
              "      <td>...</td>\n",
              "      <td>...</td>\n",
              "      <td>...</td>\n",
              "      <td>...</td>\n",
              "      <td>...</td>\n",
              "      <td>...</td>\n",
              "      <td>...</td>\n",
              "      <td>...</td>\n",
              "      <td>...</td>\n",
              "      <td>...</td>\n",
              "    </tr>\n",
              "    <tr>\n",
              "      <th>482</th>\n",
              "      <td>7.60</td>\n",
              "      <td>5.6</td>\n",
              "      <td>224.0</td>\n",
              "      <td>8.0</td>\n",
              "      <td>370.0</td>\n",
              "      <td>16.14</td>\n",
              "      <td>92.0</td>\n",
              "      <td>24.0</td>\n",
              "      <td>7.60</td>\n",
              "      <td>2.270</td>\n",
              "      <td>23.04</td>\n",
              "      <td>1.352000</td>\n",
              "      <td>104.480000</td>\n",
              "      <td>0.01500</td>\n",
              "      <td>0.419630</td>\n",
              "      <td>Excellent</td>\n",
              "    </tr>\n",
              "    <tr>\n",
              "      <th>483</th>\n",
              "      <td>7.30</td>\n",
              "      <td>5.6</td>\n",
              "      <td>266.0</td>\n",
              "      <td>96.0</td>\n",
              "      <td>434.0</td>\n",
              "      <td>20.56</td>\n",
              "      <td>96.0</td>\n",
              "      <td>32.0</td>\n",
              "      <td>9.89</td>\n",
              "      <td>1.550</td>\n",
              "      <td>30.86</td>\n",
              "      <td>7.074000</td>\n",
              "      <td>61.068000</td>\n",
              "      <td>0.03300</td>\n",
              "      <td>0.432996</td>\n",
              "      <td>Excellent</td>\n",
              "    </tr>\n",
              "    <tr>\n",
              "      <th>484</th>\n",
              "      <td>5.10</td>\n",
              "      <td>5.8</td>\n",
              "      <td>290.0</td>\n",
              "      <td>12.0</td>\n",
              "      <td>487.0</td>\n",
              "      <td>37.35</td>\n",
              "      <td>60.0</td>\n",
              "      <td>44.0</td>\n",
              "      <td>14.80</td>\n",
              "      <td>0.159</td>\n",
              "      <td>60.13</td>\n",
              "      <td>9.256000</td>\n",
              "      <td>89.910000</td>\n",
              "      <td>0.16300</td>\n",
              "      <td>0.326811</td>\n",
              "      <td>Excellent</td>\n",
              "    </tr>\n",
              "    <tr>\n",
              "      <th>485</th>\n",
              "      <td>7.40</td>\n",
              "      <td>6.4</td>\n",
              "      <td>230.0</td>\n",
              "      <td>72.0</td>\n",
              "      <td>385.0</td>\n",
              "      <td>20.06</td>\n",
              "      <td>70.0</td>\n",
              "      <td>42.0</td>\n",
              "      <td>10.35</td>\n",
              "      <td>1.360</td>\n",
              "      <td>32.92</td>\n",
              "      <td>7.110435</td>\n",
              "      <td>48.500000</td>\n",
              "      <td>0.21900</td>\n",
              "      <td>0.509970</td>\n",
              "      <td>Good</td>\n",
              "    </tr>\n",
              "    <tr>\n",
              "      <th>486</th>\n",
              "      <td>7.60</td>\n",
              "      <td>6.9</td>\n",
              "      <td>243.0</td>\n",
              "      <td>68.0</td>\n",
              "      <td>410.8</td>\n",
              "      <td>17.41</td>\n",
              "      <td>82.0</td>\n",
              "      <td>50.0</td>\n",
              "      <td>9.92</td>\n",
              "      <td>1.310</td>\n",
              "      <td>34.89</td>\n",
              "      <td>6.385000</td>\n",
              "      <td>59.940000</td>\n",
              "      <td>0.07000</td>\n",
              "      <td>0.422551</td>\n",
              "      <td>Excellent</td>\n",
              "    </tr>\n",
              "  </tbody>\n",
              "</table>\n",
              "<p>485 rows × 16 columns</p>\n",
              "</div>"
            ],
            "text/plain": [
              "       pH   DO    TDS  Alkalinity  ...    Sulphate  Phosphate       WPI        WQC\n",
              "0    8.14  8.7   84.0        52.0  ...    6.534660    0.06211  0.249528  Excellent\n",
              "1    7.70  8.8  110.0        76.0  ...    8.138620    0.00960  0.216400  Excellent\n",
              "2    7.60  7.5   75.0        44.0  ...    3.855625    0.01280  0.183814  Excellent\n",
              "3    8.20  9.1   76.0        56.0  ...    2.238750    0.01536  0.219282  Excellent\n",
              "4    7.31  7.3   84.0        52.0  ...    5.600000    0.01000  0.165831  Excellent\n",
              "..    ...  ...    ...         ...  ...         ...        ...       ...        ...\n",
              "482  7.60  5.6  224.0         8.0  ...  104.480000    0.01500  0.419630  Excellent\n",
              "483  7.30  5.6  266.0        96.0  ...   61.068000    0.03300  0.432996  Excellent\n",
              "484  5.10  5.8  290.0        12.0  ...   89.910000    0.16300  0.326811  Excellent\n",
              "485  7.40  6.4  230.0        72.0  ...   48.500000    0.21900  0.509970       Good\n",
              "486  7.60  6.9  243.0        68.0  ...   59.940000    0.07000  0.422551  Excellent\n",
              "\n",
              "[485 rows x 16 columns]"
            ]
          },
          "metadata": {
            "tags": []
          },
          "execution_count": 5
        }
      ]
    },
    {
      "cell_type": "code",
      "metadata": {
        "id": "_iK750Q3sXGZ"
      },
      "source": [
        "training_set = df"
      ],
      "execution_count": 6,
      "outputs": []
    },
    {
      "cell_type": "code",
      "metadata": {
        "colab": {
          "base_uri": "https://localhost:8080/",
          "height": 204
        },
        "id": "ZCC868zGtxB_",
        "outputId": "5a41cf88-0961-4599-b6ad-5df22cc187bb"
      },
      "source": [
        "training_set.head(5)"
      ],
      "execution_count": 7,
      "outputs": [
        {
          "output_type": "execute_result",
          "data": {
            "text/html": [
              "<div>\n",
              "<style scoped>\n",
              "    .dataframe tbody tr th:only-of-type {\n",
              "        vertical-align: middle;\n",
              "    }\n",
              "\n",
              "    .dataframe tbody tr th {\n",
              "        vertical-align: top;\n",
              "    }\n",
              "\n",
              "    .dataframe thead th {\n",
              "        text-align: right;\n",
              "    }\n",
              "</style>\n",
              "<table border=\"1\" class=\"dataframe\">\n",
              "  <thead>\n",
              "    <tr style=\"text-align: right;\">\n",
              "      <th></th>\n",
              "      <th>pH</th>\n",
              "      <th>DO</th>\n",
              "      <th>TDS</th>\n",
              "      <th>Alkalinity</th>\n",
              "      <th>EC</th>\n",
              "      <th>Na</th>\n",
              "      <th>Ca</th>\n",
              "      <th>Mg</th>\n",
              "      <th>K</th>\n",
              "      <th>F</th>\n",
              "      <th>Cl</th>\n",
              "      <th>Nitrate</th>\n",
              "      <th>Sulphate</th>\n",
              "      <th>Phosphate</th>\n",
              "      <th>WPI</th>\n",
              "      <th>WQC</th>\n",
              "    </tr>\n",
              "  </thead>\n",
              "  <tbody>\n",
              "    <tr>\n",
              "      <th>0</th>\n",
              "      <td>8.14</td>\n",
              "      <td>8.7</td>\n",
              "      <td>84.0</td>\n",
              "      <td>52.0</td>\n",
              "      <td>147.8</td>\n",
              "      <td>4.48</td>\n",
              "      <td>44.0</td>\n",
              "      <td>20.0</td>\n",
              "      <td>1.17</td>\n",
              "      <td>0.285</td>\n",
              "      <td>7.8</td>\n",
              "      <td>0.758000</td>\n",
              "      <td>6.534660</td>\n",
              "      <td>0.06211</td>\n",
              "      <td>0.249528</td>\n",
              "      <td>Excellent</td>\n",
              "    </tr>\n",
              "    <tr>\n",
              "      <th>1</th>\n",
              "      <td>7.70</td>\n",
              "      <td>8.8</td>\n",
              "      <td>110.0</td>\n",
              "      <td>76.0</td>\n",
              "      <td>188.0</td>\n",
              "      <td>8.61</td>\n",
              "      <td>44.0</td>\n",
              "      <td>36.0</td>\n",
              "      <td>3.46</td>\n",
              "      <td>0.401</td>\n",
              "      <td>14.8</td>\n",
              "      <td>0.196062</td>\n",
              "      <td>8.138620</td>\n",
              "      <td>0.00960</td>\n",
              "      <td>0.216400</td>\n",
              "      <td>Excellent</td>\n",
              "    </tr>\n",
              "    <tr>\n",
              "      <th>2</th>\n",
              "      <td>7.60</td>\n",
              "      <td>7.5</td>\n",
              "      <td>75.0</td>\n",
              "      <td>44.0</td>\n",
              "      <td>128.0</td>\n",
              "      <td>8.11</td>\n",
              "      <td>28.0</td>\n",
              "      <td>20.0</td>\n",
              "      <td>2.80</td>\n",
              "      <td>0.379</td>\n",
              "      <td>14.8</td>\n",
              "      <td>0.298875</td>\n",
              "      <td>3.855625</td>\n",
              "      <td>0.01280</td>\n",
              "      <td>0.183814</td>\n",
              "      <td>Excellent</td>\n",
              "    </tr>\n",
              "    <tr>\n",
              "      <th>3</th>\n",
              "      <td>8.20</td>\n",
              "      <td>9.1</td>\n",
              "      <td>76.0</td>\n",
              "      <td>56.0</td>\n",
              "      <td>127.0</td>\n",
              "      <td>6.30</td>\n",
              "      <td>44.0</td>\n",
              "      <td>18.0</td>\n",
              "      <td>1.65</td>\n",
              "      <td>0.396</td>\n",
              "      <td>9.6</td>\n",
              "      <td>0.299590</td>\n",
              "      <td>2.238750</td>\n",
              "      <td>0.01536</td>\n",
              "      <td>0.219282</td>\n",
              "      <td>Excellent</td>\n",
              "    </tr>\n",
              "    <tr>\n",
              "      <th>4</th>\n",
              "      <td>7.31</td>\n",
              "      <td>7.3</td>\n",
              "      <td>84.0</td>\n",
              "      <td>52.0</td>\n",
              "      <td>140.0</td>\n",
              "      <td>5.50</td>\n",
              "      <td>28.0</td>\n",
              "      <td>20.0</td>\n",
              "      <td>1.61</td>\n",
              "      <td>0.265</td>\n",
              "      <td>8.3</td>\n",
              "      <td>0.106000</td>\n",
              "      <td>5.600000</td>\n",
              "      <td>0.01000</td>\n",
              "      <td>0.165831</td>\n",
              "      <td>Excellent</td>\n",
              "    </tr>\n",
              "  </tbody>\n",
              "</table>\n",
              "</div>"
            ],
            "text/plain": [
              "     pH   DO    TDS  Alkalinity  ...  Sulphate  Phosphate       WPI        WQC\n",
              "0  8.14  8.7   84.0        52.0  ...  6.534660    0.06211  0.249528  Excellent\n",
              "1  7.70  8.8  110.0        76.0  ...  8.138620    0.00960  0.216400  Excellent\n",
              "2  7.60  7.5   75.0        44.0  ...  3.855625    0.01280  0.183814  Excellent\n",
              "3  8.20  9.1   76.0        56.0  ...  2.238750    0.01536  0.219282  Excellent\n",
              "4  7.31  7.3   84.0        52.0  ...  5.600000    0.01000  0.165831  Excellent\n",
              "\n",
              "[5 rows x 16 columns]"
            ]
          },
          "metadata": {
            "tags": []
          },
          "execution_count": 7
        }
      ]
    },
    {
      "cell_type": "code",
      "metadata": {
        "colab": {
          "base_uri": "https://localhost:8080/"
        },
        "id": "On6B0rjFtzmA",
        "outputId": "e714b779-6a2d-4e48-8a47-b40c9c62aa4f"
      },
      "source": [
        "# Checking the number of rows\n",
        "print(\"\\n\\nNumber of observations in the datasets :\\n\",'#' * 40)\n",
        "\n",
        "print(\"\\nTraining Set : \",len(training_set))\n",
        "\n",
        "\n",
        "# checking the number of features in the Datasets\n",
        "print(\"\\n\\nNumber of features in the datasets :\\n\",'#' * 40)\n",
        "\n",
        "print(\"\\nTraining Set : \",len(training_set.columns))\n",
        "\n",
        "\n",
        "# checking the features in the Datasets\n",
        "print(\"\\n\\nFeatures in the datasets :\\n\",'#' * 40)\n",
        "\n",
        "print(\"\\nTraining Set : \", list(training_set.columns))\n",
        "\n",
        "\n",
        "# Checking the data types of features\n",
        "print(\"\\n\\nDatatypes of features in the datasets :\\n\",'#' * 40)\n",
        "\n",
        "print(\"\\nTraining Set : \", training_set.dtypes)\n",
        "\n",
        "\n",
        "# checking for NaNs or empty cells\n",
        "print(\"\\n\\nEmpty cells or Nans in the datasets :\\n\",'#' * 40)\n",
        "\n",
        "print(\"\\nTraining Set : \",training_set.isnull().values.any())\n",
        "\n",
        "\n",
        "# checking for NaNs or empty cells by column\n",
        "print(\"\\n\\nNumber of empty cells or Nans in the datasets :\\n\",'#' * 40)\n",
        "\n",
        "print(\"\\nTraining Set : \",\"\\n\", training_set.isnull().sum())\n",
        "\n",
        "\n",
        "#Displaying dataset information\n",
        "print(\"\\n\\nInfo:\\n\",'#' * 40)\n",
        "\n",
        "training_set.info()"
      ],
      "execution_count": 8,
      "outputs": [
        {
          "output_type": "stream",
          "text": [
            "\n",
            "\n",
            "Number of observations in the datasets :\n",
            " ########################################\n",
            "\n",
            "Training Set :  485\n",
            "\n",
            "\n",
            "Number of features in the datasets :\n",
            " ########################################\n",
            "\n",
            "Training Set :  16\n",
            "\n",
            "\n",
            "Features in the datasets :\n",
            " ########################################\n",
            "\n",
            "Training Set :  ['pH', 'DO', 'TDS', 'Alkalinity', 'EC', 'Na', 'Ca', 'Mg', 'K', 'F', 'Cl', 'Nitrate', 'Sulphate', 'Phosphate', 'WPI', 'WQC']\n",
            "\n",
            "\n",
            "Datatypes of features in the datasets :\n",
            " ########################################\n",
            "\n",
            "Training Set :  pH            float64\n",
            "DO            float64\n",
            "TDS           float64\n",
            "Alkalinity    float64\n",
            "EC            float64\n",
            "Na            float64\n",
            "Ca            float64\n",
            "Mg            float64\n",
            "K             float64\n",
            "F             float64\n",
            "Cl            float64\n",
            "Nitrate       float64\n",
            "Sulphate      float64\n",
            "Phosphate     float64\n",
            "WPI           float64\n",
            "WQC            object\n",
            "dtype: object\n",
            "\n",
            "\n",
            "Empty cells or Nans in the datasets :\n",
            " ########################################\n",
            "\n",
            "Training Set :  False\n",
            "\n",
            "\n",
            "Number of empty cells or Nans in the datasets :\n",
            " ########################################\n",
            "\n",
            "Training Set :  \n",
            " pH            0\n",
            "DO            0\n",
            "TDS           0\n",
            "Alkalinity    0\n",
            "EC            0\n",
            "Na            0\n",
            "Ca            0\n",
            "Mg            0\n",
            "K             0\n",
            "F             0\n",
            "Cl            0\n",
            "Nitrate       0\n",
            "Sulphate      0\n",
            "Phosphate     0\n",
            "WPI           0\n",
            "WQC           0\n",
            "dtype: int64\n",
            "\n",
            "\n",
            "Info:\n",
            " ########################################\n",
            "<class 'pandas.core.frame.DataFrame'>\n",
            "Int64Index: 485 entries, 0 to 486\n",
            "Data columns (total 16 columns):\n",
            " #   Column      Non-Null Count  Dtype  \n",
            "---  ------      --------------  -----  \n",
            " 0   pH          485 non-null    float64\n",
            " 1   DO          485 non-null    float64\n",
            " 2   TDS         485 non-null    float64\n",
            " 3   Alkalinity  485 non-null    float64\n",
            " 4   EC          485 non-null    float64\n",
            " 5   Na          485 non-null    float64\n",
            " 6   Ca          485 non-null    float64\n",
            " 7   Mg          485 non-null    float64\n",
            " 8   K           485 non-null    float64\n",
            " 9   F           485 non-null    float64\n",
            " 10  Cl          485 non-null    float64\n",
            " 11  Nitrate     485 non-null    float64\n",
            " 12  Sulphate    485 non-null    float64\n",
            " 13  Phosphate   485 non-null    float64\n",
            " 14  WPI         485 non-null    float64\n",
            " 15  WQC         485 non-null    object \n",
            "dtypes: float64(15), object(1)\n",
            "memory usage: 64.4+ KB\n"
          ],
          "name": "stdout"
        }
      ]
    },
    {
      "cell_type": "code",
      "metadata": {
        "colab": {
          "base_uri": "https://localhost:8080/"
        },
        "id": "CJq2pQa3t7Jc",
        "outputId": "49b527b7-9cbb-4296-d8a6-03edfbe2e571"
      },
      "source": [
        "# Non categorical Features in The dataset\n",
        "training_set.select_dtypes(['int','float']).columns"
      ],
      "execution_count": 9,
      "outputs": [
        {
          "output_type": "execute_result",
          "data": {
            "text/plain": [
              "Index(['pH', 'DO', 'TDS', 'Alkalinity', 'EC', 'Na', 'Ca', 'Mg', 'K', 'F', 'Cl',\n",
              "       'Nitrate', 'Sulphate', 'Phosphate', 'WPI'],\n",
              "      dtype='object')"
            ]
          },
          "metadata": {
            "tags": []
          },
          "execution_count": 9
        }
      ]
    },
    {
      "cell_type": "code",
      "metadata": {
        "colab": {
          "base_uri": "https://localhost:8080/"
        },
        "id": "k4LVDqpyuFRn",
        "outputId": "0c4a27f7-9f69-4bf2-d107-7aa97b402505"
      },
      "source": [
        "#Categotical Features in The Dataset\n",
        "training_set.select_dtypes('object').columns"
      ],
      "execution_count": 10,
      "outputs": [
        {
          "output_type": "execute_result",
          "data": {
            "text/plain": [
              "Index(['WQC'], dtype='object')"
            ]
          },
          "metadata": {
            "tags": []
          },
          "execution_count": 10
        }
      ]
    },
    {
      "cell_type": "code",
      "metadata": {
        "colab": {
          "base_uri": "https://localhost:8080/"
        },
        "id": "Q3QEFKf7uJza",
        "outputId": "cf727d37-0835-4b42-f136-c76604d06d28"
      },
      "source": [
        "#The Unique values in each of the categorical features \n",
        "\n",
        "all_wqc = list(training_set.WQC)\n",
        "\n",
        "\n",
        "print(\"\\nNumber Of Unique Values In WQC : \\n \", len(set(all_wqc)))\n",
        "print(\"\\nThe Unique Values In WQC : \\n \", set(all_wqc))\n",
        "\n"
      ],
      "execution_count": 12,
      "outputs": [
        {
          "output_type": "stream",
          "text": [
            "\n",
            "Number Of Unique Values In WQC : \n",
            "  4\n",
            "\n",
            "The Unique Values In WQC : \n",
            "  {'moderately polluted water', 'Good', 'Excellent', 'highly polluted water'}\n"
          ],
          "name": "stdout"
        }
      ]
    },
    {
      "cell_type": "code",
      "metadata": {
        "id": "WN9Qe_TdvkzI"
      },
      "source": [
        "train_data = training_set"
      ],
      "execution_count": 13,
      "outputs": []
    },
    {
      "cell_type": "code",
      "metadata": {
        "colab": {
          "base_uri": "https://localhost:8080/"
        },
        "id": "sYB9eRZkucsK",
        "outputId": "6d455aea-b486-4942-b4fe-c6a1904063a2"
      },
      "source": [
        "#the dimensions of the training set\n",
        "train_data.shape"
      ],
      "execution_count": 14,
      "outputs": [
        {
          "output_type": "execute_result",
          "data": {
            "text/plain": [
              "(485, 16)"
            ]
          },
          "metadata": {
            "tags": []
          },
          "execution_count": 14
        }
      ]
    },
    {
      "cell_type": "code",
      "metadata": {
        "id": "wWEnRO97v108"
      },
      "source": [
        "#Defining the keyword arguments for fastai's TabularList\n",
        "\n",
        "#Path / default location for saving/loading models\n",
        "path = ''\n",
        "\n",
        "#The dependent variable/target\n",
        "dep_var = 'WPI'\n",
        "\n",
        "#The list of categorical features in the dataset\n",
        "cat_names = ['WQC'] \n",
        "\n",
        "#The list of continuous features in the dataset\n",
        "#Exclude the Dependent variable 'Price'\n",
        "cont_names =['pH', 'DO', 'TDS', 'Alkalinity', 'EC', 'Na', 'Ca','Mg', 'K', 'F', 'Cl',\n",
        "       'Nitrate', 'Sulphate', 'Phosphate' ]  \n",
        "\n",
        "#List of Processes/transforms to be applied to the dataset\n",
        "procs = [FillMissing, Categorify, Normalize]"
      ],
      "execution_count": 15,
      "outputs": []
    },
    {
      "cell_type": "code",
      "metadata": {
        "id": "R8AKJ1e7wQsp"
      },
      "source": [
        "#Start index for creating a validation set from train_data\n",
        "start_indx = len(train_data) - int(len(train_data) * 0.2)\n",
        "\n",
        "#End index for creating a validation set from train_data\n",
        "end_indx = len(train_data)\n",
        "\n",
        "\n",
        "#TabularList for Validation\n",
        "val = (TabularList.from_df(train_data.iloc[start_indx:end_indx].copy(), path=path, cat_names=cat_names, cont_names=cont_names))\n"
      ],
      "execution_count": 17,
      "outputs": []
    },
    {
      "cell_type": "code",
      "metadata": {
        "id": "EKTtaBlbwTSr"
      },
      "source": [
        "#TabularList for training\n",
        "data = (TabularList.from_df(train_data, path=path, cat_names=cat_names, cont_names=cont_names, procs=procs)\n",
        "                           .split_by_idx(list(range(start_indx,end_indx)))\n",
        "                           .label_from_df(cols=dep_var)\n",
        "                           .databunch())"
      ],
      "execution_count": 19,
      "outputs": []
    },
    {
      "cell_type": "code",
      "metadata": {
        "colab": {
          "base_uri": "https://localhost:8080/",
          "height": 359
        },
        "id": "X-dOEr9-wWav",
        "outputId": "91f17905-7f02-40b5-858a-87c86fd416a9"
      },
      "source": [
        "#Display the data batch\n",
        "data.show_batch(rows = 10)"
      ],
      "execution_count": 20,
      "outputs": [
        {
          "output_type": "display_data",
          "data": {
            "text/html": [
              "<table border=\"1\" class=\"dataframe\">\n",
              "  <thead>\n",
              "    <tr style=\"text-align: right;\">\n",
              "      <th>WQC</th>\n",
              "      <th>pH</th>\n",
              "      <th>DO</th>\n",
              "      <th>TDS</th>\n",
              "      <th>Alkalinity</th>\n",
              "      <th>EC</th>\n",
              "      <th>Na</th>\n",
              "      <th>Ca</th>\n",
              "      <th>Mg</th>\n",
              "      <th>K</th>\n",
              "      <th>F</th>\n",
              "      <th>Cl</th>\n",
              "      <th>Nitrate</th>\n",
              "      <th>Sulphate</th>\n",
              "      <th>Phosphate</th>\n",
              "      <th>target</th>\n",
              "    </tr>\n",
              "  </thead>\n",
              "  <tbody>\n",
              "    <tr>\n",
              "      <td>Excellent</td>\n",
              "      <td>0.0018</td>\n",
              "      <td>-0.6270</td>\n",
              "      <td>-0.9639</td>\n",
              "      <td>-0.4863</td>\n",
              "      <td>-0.7637</td>\n",
              "      <td>-0.6432</td>\n",
              "      <td>-0.9021</td>\n",
              "      <td>0.2800</td>\n",
              "      <td>-0.3748</td>\n",
              "      <td>-0.5580</td>\n",
              "      <td>-0.6697</td>\n",
              "      <td>-0.6693</td>\n",
              "      <td>-0.5980</td>\n",
              "      <td>-0.5336</td>\n",
              "      <td>0.18643048</td>\n",
              "    </tr>\n",
              "    <tr>\n",
              "      <td>moderately polluted water</td>\n",
              "      <td>-0.8885</td>\n",
              "      <td>-1.2940</td>\n",
              "      <td>0.5450</td>\n",
              "      <td>0.7477</td>\n",
              "      <td>0.3460</td>\n",
              "      <td>0.8766</td>\n",
              "      <td>0.6302</td>\n",
              "      <td>0.0682</td>\n",
              "      <td>0.5147</td>\n",
              "      <td>1.4731</td>\n",
              "      <td>0.7842</td>\n",
              "      <td>0.7259</td>\n",
              "      <td>0.2314</td>\n",
              "      <td>4.0522</td>\n",
              "      <td>0.7875326</td>\n",
              "    </tr>\n",
              "    <tr>\n",
              "      <td>Excellent</td>\n",
              "      <td>0.5105</td>\n",
              "      <td>1.4884</td>\n",
              "      <td>-0.7660</td>\n",
              "      <td>-0.2395</td>\n",
              "      <td>-0.5958</td>\n",
              "      <td>-0.7439</td>\n",
              "      <td>-0.9021</td>\n",
              "      <td>-0.5672</td>\n",
              "      <td>-0.4727</td>\n",
              "      <td>-0.5297</td>\n",
              "      <td>-0.7702</td>\n",
              "      <td>-0.1755</td>\n",
              "      <td>-0.8143</td>\n",
              "      <td>-0.5067</td>\n",
              "      <td>0.18669778</td>\n",
              "    </tr>\n",
              "    <tr>\n",
              "      <td>Excellent</td>\n",
              "      <td>0.3834</td>\n",
              "      <td>0.1353</td>\n",
              "      <td>-0.3702</td>\n",
              "      <td>-0.2395</td>\n",
              "      <td>-0.2599</td>\n",
              "      <td>-0.1453</td>\n",
              "      <td>-0.3913</td>\n",
              "      <td>0.4918</td>\n",
              "      <td>-0.3882</td>\n",
              "      <td>0.1033</td>\n",
              "      <td>-0.2043</td>\n",
              "      <td>-0.5330</td>\n",
              "      <td>-0.1671</td>\n",
              "      <td>0.9104</td>\n",
              "      <td>0.3815332</td>\n",
              "    </tr>\n",
              "    <tr>\n",
              "      <td>Excellent</td>\n",
              "      <td>0.4088</td>\n",
              "      <td>1.3740</td>\n",
              "      <td>-0.2960</td>\n",
              "      <td>0.2541</td>\n",
              "      <td>-0.3719</td>\n",
              "      <td>-0.3877</td>\n",
              "      <td>-0.2636</td>\n",
              "      <td>-0.1436</td>\n",
              "      <td>-0.3615</td>\n",
              "      <td>-0.4045</td>\n",
              "      <td>-0.4284</td>\n",
              "      <td>-0.4202</td>\n",
              "      <td>-0.8744</td>\n",
              "      <td>-0.5002</td>\n",
              "      <td>0.20623071</td>\n",
              "    </tr>\n",
              "    <tr>\n",
              "      <td>Excellent</td>\n",
              "      <td>-0.1508</td>\n",
              "      <td>0.4212</td>\n",
              "      <td>0.0255</td>\n",
              "      <td>0.7477</td>\n",
              "      <td>0.1319</td>\n",
              "      <td>-0.4586</td>\n",
              "      <td>0.3748</td>\n",
              "      <td>-0.3554</td>\n",
              "      <td>-0.4015</td>\n",
              "      <td>-0.2534</td>\n",
              "      <td>-0.5208</td>\n",
              "      <td>-0.6480</td>\n",
              "      <td>-0.2238</td>\n",
              "      <td>-0.4796</td>\n",
              "      <td>0.22725153</td>\n",
              "    </tr>\n",
              "    <tr>\n",
              "      <td>Excellent</td>\n",
              "      <td>-1.2447</td>\n",
              "      <td>0.3259</td>\n",
              "      <td>0.5203</td>\n",
              "      <td>-0.9799</td>\n",
              "      <td>0.1739</td>\n",
              "      <td>2.5493</td>\n",
              "      <td>0.5025</td>\n",
              "      <td>1.9745</td>\n",
              "      <td>-0.0279</td>\n",
              "      <td>-0.1542</td>\n",
              "      <td>2.5626</td>\n",
              "      <td>-0.2318</td>\n",
              "      <td>0.0146</td>\n",
              "      <td>0.0063</td>\n",
              "      <td>0.27473238</td>\n",
              "    </tr>\n",
              "    <tr>\n",
              "      <td>Excellent</td>\n",
              "      <td>-0.5070</td>\n",
              "      <td>-0.7223</td>\n",
              "      <td>1.7819</td>\n",
              "      <td>1.7349</td>\n",
              "      <td>2.3444</td>\n",
              "      <td>0.9176</td>\n",
              "      <td>1.6517</td>\n",
              "      <td>3.0335</td>\n",
              "      <td>1.7245</td>\n",
              "      <td>1.8274</td>\n",
              "      <td>0.8188</td>\n",
              "      <td>-0.2234</td>\n",
              "      <td>2.1358</td>\n",
              "      <td>-0.4457</td>\n",
              "      <td>0.34336337</td>\n",
              "    </tr>\n",
              "    <tr>\n",
              "      <td>Excellent</td>\n",
              "      <td>0.7649</td>\n",
              "      <td>-0.6270</td>\n",
              "      <td>-0.7166</td>\n",
              "      <td>-0.4863</td>\n",
              "      <td>-0.5538</td>\n",
              "      <td>-0.6208</td>\n",
              "      <td>-0.2636</td>\n",
              "      <td>-1.2026</td>\n",
              "      <td>-0.5438</td>\n",
              "      <td>-0.3218</td>\n",
              "      <td>-0.6559</td>\n",
              "      <td>-0.3856</td>\n",
              "      <td>-0.2629</td>\n",
              "      <td>-0.2758</td>\n",
              "      <td>0.24831748</td>\n",
              "    </tr>\n",
              "    <tr>\n",
              "      <td>Excellent</td>\n",
              "      <td>-1.0157</td>\n",
              "      <td>-0.5317</td>\n",
              "      <td>-0.5434</td>\n",
              "      <td>-0.8565</td>\n",
              "      <td>-0.3439</td>\n",
              "      <td>-0.6227</td>\n",
              "      <td>-0.6467</td>\n",
              "      <td>-0.3554</td>\n",
              "      <td>-0.4549</td>\n",
              "      <td>-0.6218</td>\n",
              "      <td>-0.6547</td>\n",
              "      <td>-0.3624</td>\n",
              "      <td>-0.2336</td>\n",
              "      <td>-0.3207</td>\n",
              "      <td>0.19798928</td>\n",
              "    </tr>\n",
              "  </tbody>\n",
              "</table>"
            ],
            "text/plain": [
              "<IPython.core.display.HTML object>"
            ]
          },
          "metadata": {
            "tags": []
          }
        }
      ]
    },
    {
      "cell_type": "code",
      "metadata": {
        "id": "dGsP83HdwaVj"
      },
      "source": [
        "#Initializing the network\n",
        "learn = tabular_learner(data, layers=[300,200, 100, 50], metrics= [rmse,r2_score])"
      ],
      "execution_count": 21,
      "outputs": []
    },
    {
      "cell_type": "code",
      "metadata": {
        "colab": {
          "base_uri": "https://localhost:8080/"
        },
        "id": "QZE6N24VwiCq",
        "outputId": "a5274344-bb18-4c6b-d30e-e30dd0eccf96"
      },
      "source": [
        "#Show the complete Summary of the model\n",
        "learn.summary"
      ],
      "execution_count": 22,
      "outputs": [
        {
          "output_type": "execute_result",
          "data": {
            "text/plain": [
              "<bound method model_summary of Learner(data=TabularDataBunch;\n",
              "\n",
              "Train: LabelList (388 items)\n",
              "x: TabularList\n",
              "WQC Excellent; pH 0.8667; DO 1.1835; TDS -0.6671; Alkalinity -0.4863; EC -0.5706; Na -0.7458; Ca 0.1195; Mg -0.3554; K -0.7796; F -0.4754; Cl -0.6593; Nitrate -0.3036; Sulphate -0.5921; Phosphate -0.1661; ,WQC Excellent; pH -0.2526; DO 1.2788; TDS -0.0239; Alkalinity 0.9945; EC -0.0080; Na 0.0244; Ca 0.1195; Mg 1.3391; K 0.2389; F -0.2014; Cl 0.1490; Nitrate -0.6125; Sulphate -0.4650; Phosphate -0.5028; ,WQC Excellent; pH -0.5070; DO 0.0400; TDS -0.8897; Alkalinity -0.9799; EC -0.8477; Na -0.0689; Ca -0.9021; Mg -0.3554; K -0.0546; F -0.2534; Cl 0.1490; Nitrate -0.5560; Sulphate -0.8043; Phosphate -0.4823; ,WQC Excellent; pH 1.0193; DO 1.5646; TDS -0.8650; Alkalinity -0.2395; EC -0.8617; Na -0.4064; Ca 0.1195; Mg -0.5672; K -0.5661; F -0.2132; Cl -0.4515; Nitrate -0.5556; Sulphate -0.9324; Phosphate -0.4659; ,WQC Excellent; pH -1.2447; DO -0.1506; TDS -0.6671; Alkalinity -0.4863; EC -0.6798; Na -0.5556; Ca -0.9021; Mg -0.3554; K -0.5839; F -0.5226; Cl -0.6016; Nitrate -0.6620; Sulphate -0.6661; Phosphate -0.5002; \n",
              "y: FloatList\n",
              "0.24952772,0.21639962,0.18381411,0.21928185,0.16583134\n",
              "Path: .;\n",
              "\n",
              "Valid: LabelList (97 items)\n",
              "x: TabularList\n",
              "WQC Excellent; pH 0.6632; DO 1.3740; TDS 0.2977; Alkalinity 1.2413; EC 0.0102; Na 0.3153; Ca 0.6302; Mg 0.7036; K -0.6951; F -0.4683; Cl 0.3684; Nitrate -0.4537; Sulphate -0.7097; Phosphate -0.4373; ,WQC Excellent; pH 0.3579; DO 1.7552; TDS 0.1740; Alkalinity 1.7349; EC -0.1060; Na 0.2164; Ca 0.3748; Mg 0.9154; K 0.3146; F -0.2014; Cl -0.0935; Nitrate -0.5253; Sulphate -0.5764; Phosphate -0.3284; ,WQC Excellent; pH 1.2737; DO 1.5646; TDS 0.7676; Alkalinity 1.2413; EC 0.8456; Na 0.4906; Ca 0.5025; Mg -0.1436; K -0.2547; F -0.1778; Cl 0.5994; Nitrate -0.5797; Sulphate -0.1540; Phosphate -0.3079; ,WQC Excellent; pH 1.5280; DO 0.8976; TDS 0.0255; Alkalinity 0.5009; EC 0.0619; Na -0.0222; Ca 0.2472; Mg 0.7036; K -0.0946; F -0.2061; Cl 0.1028; Nitrate -0.4541; Sulphate -0.6820; Phosphate 0.2235; ,WQC Excellent; pH -0.5070; DO -0.2459; TDS 0.3471; Alkalinity 1.4881; EC 0.4678; Na -0.6115; Ca -0.1359; Mg 0.9154; K 0.9195; F 1.9455; Cl -0.5208; Nitrate -0.0898; Sulphate -0.4760; Phosphate -0.4874; \n",
              "y: FloatList\n",
              "0.24491613,0.25188896,0.28452092,0.3322436,0.27245635\n",
              "Path: .;\n",
              "\n",
              "Test: None, model=TabularModel(\n",
              "  (embeds): ModuleList(\n",
              "    (0): Embedding(5, 4)\n",
              "  )\n",
              "  (emb_drop): Dropout(p=0.0, inplace=False)\n",
              "  (bn_cont): BatchNorm1d(14, eps=1e-05, momentum=0.1, affine=True, track_running_stats=True)\n",
              "  (layers): Sequential(\n",
              "    (0): Linear(in_features=18, out_features=300, bias=True)\n",
              "    (1): ReLU(inplace=True)\n",
              "    (2): BatchNorm1d(300, eps=1e-05, momentum=0.1, affine=True, track_running_stats=True)\n",
              "    (3): Linear(in_features=300, out_features=200, bias=True)\n",
              "    (4): ReLU(inplace=True)\n",
              "    (5): BatchNorm1d(200, eps=1e-05, momentum=0.1, affine=True, track_running_stats=True)\n",
              "    (6): Linear(in_features=200, out_features=100, bias=True)\n",
              "    (7): ReLU(inplace=True)\n",
              "    (8): BatchNorm1d(100, eps=1e-05, momentum=0.1, affine=True, track_running_stats=True)\n",
              "    (9): Linear(in_features=100, out_features=50, bias=True)\n",
              "    (10): ReLU(inplace=True)\n",
              "    (11): BatchNorm1d(50, eps=1e-05, momentum=0.1, affine=True, track_running_stats=True)\n",
              "    (12): Linear(in_features=50, out_features=1, bias=True)\n",
              "  )\n",
              "), opt_func=functools.partial(<class 'torch.optim.adam.Adam'>, betas=(0.9, 0.99)), loss_func=FlattenedLoss of MSELoss(), metrics=[<function root_mean_squared_error at 0x7fad7e189ef0>, <function r2_score at 0x7fad7e18e0e0>], true_wd=True, bn_wd=True, wd=0.01, train_bn=True, path=PosixPath('.'), model_dir='models', callback_fns=[functools.partial(<class 'fastai.basic_train.Recorder'>, add_time=True, silent=False)], callbacks=[], layer_groups=[Sequential(\n",
              "  (0): Embedding(5, 4)\n",
              "  (1): Dropout(p=0.0, inplace=False)\n",
              "  (2): BatchNorm1d(14, eps=1e-05, momentum=0.1, affine=True, track_running_stats=True)\n",
              "  (3): Linear(in_features=18, out_features=300, bias=True)\n",
              "  (4): ReLU(inplace=True)\n",
              "  (5): BatchNorm1d(300, eps=1e-05, momentum=0.1, affine=True, track_running_stats=True)\n",
              "  (6): Linear(in_features=300, out_features=200, bias=True)\n",
              "  (7): ReLU(inplace=True)\n",
              "  (8): BatchNorm1d(200, eps=1e-05, momentum=0.1, affine=True, track_running_stats=True)\n",
              "  (9): Linear(in_features=200, out_features=100, bias=True)\n",
              "  (10): ReLU(inplace=True)\n",
              "  (11): BatchNorm1d(100, eps=1e-05, momentum=0.1, affine=True, track_running_stats=True)\n",
              "  (12): Linear(in_features=100, out_features=50, bias=True)\n",
              "  (13): ReLU(inplace=True)\n",
              "  (14): BatchNorm1d(50, eps=1e-05, momentum=0.1, affine=True, track_running_stats=True)\n",
              "  (15): Linear(in_features=50, out_features=1, bias=True)\n",
              ")], add_time=True, silent=False)>"
            ]
          },
          "metadata": {
            "tags": []
          },
          "execution_count": 22
        }
      ]
    },
    {
      "cell_type": "code",
      "metadata": {
        "colab": {
          "base_uri": "https://localhost:8080/",
          "height": 622
        },
        "id": "b3Ro-_IkwmZv",
        "outputId": "fafcbc33-42a9-4682-cc72-333dc37b9d19"
      },
      "source": [
        "learn.lr_find(start_lr = 1e-05,end_lr = 1e+05, num_it = 100)\n",
        "learn.recorder.plot()"
      ],
      "execution_count": 23,
      "outputs": [
        {
          "output_type": "display_data",
          "data": {
            "text/html": [
              "\n",
              "    <div>\n",
              "        <style>\n",
              "            /* Turns off some styling */\n",
              "            progress {\n",
              "                /* gets rid of default border in Firefox and Opera. */\n",
              "                border: none;\n",
              "                /* Needs to be in here for Safari polyfill so background images work as expected. */\n",
              "                background-size: auto;\n",
              "            }\n",
              "            .progress-bar-interrupted, .progress-bar-interrupted::-webkit-progress-bar {\n",
              "                background: #F44336;\n",
              "            }\n",
              "        </style>\n",
              "      <progress value='8' class='' max='17' style='width:300px; height:20px; vertical-align: middle;'></progress>\n",
              "      47.06% [8/17 00:01<00:01]\n",
              "    </div>\n",
              "    \n",
              "<table border=\"1\" class=\"dataframe\">\n",
              "  <thead>\n",
              "    <tr style=\"text-align: left;\">\n",
              "      <th>epoch</th>\n",
              "      <th>train_loss</th>\n",
              "      <th>valid_loss</th>\n",
              "      <th>root_mean_squared_error</th>\n",
              "      <th>r2_score</th>\n",
              "      <th>time</th>\n",
              "    </tr>\n",
              "  </thead>\n",
              "  <tbody>\n",
              "    <tr>\n",
              "      <td>0</td>\n",
              "      <td>0.548401</td>\n",
              "      <td>#na#</td>\n",
              "      <td>00:00</td>\n",
              "    </tr>\n",
              "    <tr>\n",
              "      <td>1</td>\n",
              "      <td>0.477278</td>\n",
              "      <td>#na#</td>\n",
              "      <td>00:00</td>\n",
              "    </tr>\n",
              "    <tr>\n",
              "      <td>2</td>\n",
              "      <td>0.385213</td>\n",
              "      <td>#na#</td>\n",
              "      <td>00:00</td>\n",
              "    </tr>\n",
              "    <tr>\n",
              "      <td>3</td>\n",
              "      <td>0.332092</td>\n",
              "      <td>#na#</td>\n",
              "      <td>00:00</td>\n",
              "    </tr>\n",
              "    <tr>\n",
              "      <td>4</td>\n",
              "      <td>0.277202</td>\n",
              "      <td>#na#</td>\n",
              "      <td>00:00</td>\n",
              "    </tr>\n",
              "    <tr>\n",
              "      <td>5</td>\n",
              "      <td>0.225173</td>\n",
              "      <td>#na#</td>\n",
              "      <td>00:00</td>\n",
              "    </tr>\n",
              "    <tr>\n",
              "      <td>6</td>\n",
              "      <td>0.185920</td>\n",
              "      <td>#na#</td>\n",
              "      <td>00:00</td>\n",
              "    </tr>\n",
              "    <tr>\n",
              "      <td>7</td>\n",
              "      <td>0.163989</td>\n",
              "      <td>#na#</td>\n",
              "      <td>00:00</td>\n",
              "    </tr>\n",
              "  </tbody>\n",
              "</table><p>\n",
              "\n",
              "    <div>\n",
              "        <style>\n",
              "            /* Turns off some styling */\n",
              "            progress {\n",
              "                /* gets rid of default border in Firefox and Opera. */\n",
              "                border: none;\n",
              "                /* Needs to be in here for Safari polyfill so background images work as expected. */\n",
              "                background-size: auto;\n",
              "            }\n",
              "            .progress-bar-interrupted, .progress-bar-interrupted::-webkit-progress-bar {\n",
              "                background: #F44336;\n",
              "            }\n",
              "        </style>\n",
              "      <progress value='3' class='' max='6' style='width:300px; height:20px; vertical-align: middle;'></progress>\n",
              "      50.00% [3/6 00:00<00:00 0.2960]\n",
              "    </div>\n",
              "    "
            ],
            "text/plain": [
              "<IPython.core.display.HTML object>"
            ]
          },
          "metadata": {
            "tags": []
          }
        },
        {
          "output_type": "stream",
          "text": [
            "LR Finder is complete, type {learner_name}.recorder.plot() to see the graph.\n"
          ],
          "name": "stdout"
        },
        {
          "output_type": "display_data",
          "data": {
            "image/png": "[encoded data removed]",
            "text/plain": [
              "<Figure size 432x288 with 1 Axes>"
            ]
          },
          "metadata": {
            "tags": [],
            "needs_background": "light"
          }
        }
      ]
    },
    {
      "cell_type": "code",
      "metadata": {
        "colab": {
          "base_uri": "https://localhost:8080/",
          "height": 824
        },
        "id": "vGixpr-Zws0v",
        "outputId": "a53fef36-b10d-470c-a6d2-f8338bf47cf8"
      },
      "source": [
        "#Fitting data and training the network\n",
        "learn.fit_one_cycle(25)"
      ],
      "execution_count": 24,
      "outputs": [
        {
          "output_type": "display_data",
          "data": {
            "text/html": [
              "<table border=\"1\" class=\"dataframe\">\n",
              "  <thead>\n",
              "    <tr style=\"text-align: left;\">\n",
              "      <th>epoch</th>\n",
              "      <th>train_loss</th>\n",
              "      <th>valid_loss</th>\n",
              "      <th>root_mean_squared_error</th>\n",
              "      <th>r2_score</th>\n",
              "      <th>time</th>\n",
              "    </tr>\n",
              "  </thead>\n",
              "  <tbody>\n",
              "    <tr>\n",
              "      <td>0</td>\n",
              "      <td>0.454992</td>\n",
              "      <td>0.096628</td>\n",
              "      <td>0.309774</td>\n",
              "      <td>-4.775156</td>\n",
              "      <td>00:00</td>\n",
              "    </tr>\n",
              "    <tr>\n",
              "      <td>1</td>\n",
              "      <td>0.329435</td>\n",
              "      <td>0.122250</td>\n",
              "      <td>0.349421</td>\n",
              "      <td>-6.668114</td>\n",
              "      <td>00:00</td>\n",
              "    </tr>\n",
              "    <tr>\n",
              "      <td>2</td>\n",
              "      <td>0.259872</td>\n",
              "      <td>0.117313</td>\n",
              "      <td>0.339122</td>\n",
              "      <td>-5.615991</td>\n",
              "      <td>00:00</td>\n",
              "    </tr>\n",
              "    <tr>\n",
              "      <td>3</td>\n",
              "      <td>0.209001</td>\n",
              "      <td>0.100372</td>\n",
              "      <td>0.316582</td>\n",
              "      <td>-5.779727</td>\n",
              "      <td>00:00</td>\n",
              "    </tr>\n",
              "    <tr>\n",
              "      <td>4</td>\n",
              "      <td>0.171014</td>\n",
              "      <td>0.047118</td>\n",
              "      <td>0.217056</td>\n",
              "      <td>-2.094960</td>\n",
              "      <td>00:00</td>\n",
              "    </tr>\n",
              "    <tr>\n",
              "      <td>5</td>\n",
              "      <td>0.139848</td>\n",
              "      <td>0.030856</td>\n",
              "      <td>0.175576</td>\n",
              "      <td>-1.068910</td>\n",
              "      <td>00:00</td>\n",
              "    </tr>\n",
              "    <tr>\n",
              "      <td>6</td>\n",
              "      <td>0.115725</td>\n",
              "      <td>0.016354</td>\n",
              "      <td>0.127808</td>\n",
              "      <td>-0.100512</td>\n",
              "      <td>00:00</td>\n",
              "    </tr>\n",
              "    <tr>\n",
              "      <td>7</td>\n",
              "      <td>0.096820</td>\n",
              "      <td>0.011441</td>\n",
              "      <td>0.104944</td>\n",
              "      <td>0.105365</td>\n",
              "      <td>00:00</td>\n",
              "    </tr>\n",
              "    <tr>\n",
              "      <td>8</td>\n",
              "      <td>0.081804</td>\n",
              "      <td>0.011503</td>\n",
              "      <td>0.107247</td>\n",
              "      <td>0.246420</td>\n",
              "      <td>00:00</td>\n",
              "    </tr>\n",
              "    <tr>\n",
              "      <td>9</td>\n",
              "      <td>0.069885</td>\n",
              "      <td>0.012625</td>\n",
              "      <td>0.112226</td>\n",
              "      <td>0.218520</td>\n",
              "      <td>00:00</td>\n",
              "    </tr>\n",
              "    <tr>\n",
              "      <td>10</td>\n",
              "      <td>0.060100</td>\n",
              "      <td>0.006565</td>\n",
              "      <td>0.080759</td>\n",
              "      <td>0.537890</td>\n",
              "      <td>00:00</td>\n",
              "    </tr>\n",
              "    <tr>\n",
              "      <td>11</td>\n",
              "      <td>0.052094</td>\n",
              "      <td>0.008405</td>\n",
              "      <td>0.091139</td>\n",
              "      <td>0.510308</td>\n",
              "      <td>00:00</td>\n",
              "    </tr>\n",
              "    <tr>\n",
              "      <td>12</td>\n",
              "      <td>0.045454</td>\n",
              "      <td>0.005758</td>\n",
              "      <td>0.075873</td>\n",
              "      <td>0.630302</td>\n",
              "      <td>00:00</td>\n",
              "    </tr>\n",
              "    <tr>\n",
              "      <td>13</td>\n",
              "      <td>0.039724</td>\n",
              "      <td>0.008525</td>\n",
              "      <td>0.091367</td>\n",
              "      <td>0.521100</td>\n",
              "      <td>00:00</td>\n",
              "    </tr>\n",
              "    <tr>\n",
              "      <td>14</td>\n",
              "      <td>0.034847</td>\n",
              "      <td>0.006387</td>\n",
              "      <td>0.079898</td>\n",
              "      <td>0.575833</td>\n",
              "      <td>00:00</td>\n",
              "    </tr>\n",
              "    <tr>\n",
              "      <td>15</td>\n",
              "      <td>0.030628</td>\n",
              "      <td>0.007783</td>\n",
              "      <td>0.087938</td>\n",
              "      <td>0.533419</td>\n",
              "      <td>00:00</td>\n",
              "    </tr>\n",
              "    <tr>\n",
              "      <td>16</td>\n",
              "      <td>0.027075</td>\n",
              "      <td>0.007888</td>\n",
              "      <td>0.088560</td>\n",
              "      <td>0.525088</td>\n",
              "      <td>00:00</td>\n",
              "    </tr>\n",
              "    <tr>\n",
              "      <td>17</td>\n",
              "      <td>0.023971</td>\n",
              "      <td>0.006016</td>\n",
              "      <td>0.077512</td>\n",
              "      <td>0.622831</td>\n",
              "      <td>00:00</td>\n",
              "    </tr>\n",
              "    <tr>\n",
              "      <td>18</td>\n",
              "      <td>0.021395</td>\n",
              "      <td>0.006710</td>\n",
              "      <td>0.081593</td>\n",
              "      <td>0.601143</td>\n",
              "      <td>00:00</td>\n",
              "    </tr>\n",
              "    <tr>\n",
              "      <td>19</td>\n",
              "      <td>0.019176</td>\n",
              "      <td>0.007947</td>\n",
              "      <td>0.088291</td>\n",
              "      <td>0.550830</td>\n",
              "      <td>00:00</td>\n",
              "    </tr>\n",
              "    <tr>\n",
              "      <td>20</td>\n",
              "      <td>0.017161</td>\n",
              "      <td>0.008541</td>\n",
              "      <td>0.091356</td>\n",
              "      <td>0.523548</td>\n",
              "      <td>00:00</td>\n",
              "    </tr>\n",
              "    <tr>\n",
              "      <td>21</td>\n",
              "      <td>0.015411</td>\n",
              "      <td>0.007712</td>\n",
              "      <td>0.087021</td>\n",
              "      <td>0.562516</td>\n",
              "      <td>00:00</td>\n",
              "    </tr>\n",
              "    <tr>\n",
              "      <td>22</td>\n",
              "      <td>0.013889</td>\n",
              "      <td>0.007391</td>\n",
              "      <td>0.085397</td>\n",
              "      <td>0.572567</td>\n",
              "      <td>00:00</td>\n",
              "    </tr>\n",
              "    <tr>\n",
              "      <td>23</td>\n",
              "      <td>0.012554</td>\n",
              "      <td>0.007160</td>\n",
              "      <td>0.084266</td>\n",
              "      <td>0.575497</td>\n",
              "      <td>00:00</td>\n",
              "    </tr>\n",
              "    <tr>\n",
              "      <td>24</td>\n",
              "      <td>0.011388</td>\n",
              "      <td>0.006744</td>\n",
              "      <td>0.081895</td>\n",
              "      <td>0.593142</td>\n",
              "      <td>00:00</td>\n",
              "    </tr>\n",
              "  </tbody>\n",
              "</table>"
            ],
            "text/plain": [
              "<IPython.core.display.HTML object>"
            ]
          },
          "metadata": {
            "tags": []
          }
        }
      ]
    },
    {
      "cell_type": "code",
      "metadata": {
        "colab": {
          "base_uri": "https://localhost:8080/",
          "height": 204
        },
        "id": "3DrNLqqjwyw4",
        "outputId": "60cda4cd-6d14-4053-cb38-ccd1476178e4"
      },
      "source": [
        "#Display Predictions On Training Data\n",
        "learn.show_results(ds_type=DatasetType.Train,rows = 5)"
      ],
      "execution_count": 25,
      "outputs": [
        {
          "output_type": "display_data",
          "data": {
            "text/html": [
              "<table border=\"1\" class=\"dataframe\">\n",
              "  <thead>\n",
              "    <tr style=\"text-align: right;\">\n",
              "      <th>WQC</th>\n",
              "      <th>pH</th>\n",
              "      <th>DO</th>\n",
              "      <th>TDS</th>\n",
              "      <th>Alkalinity</th>\n",
              "      <th>EC</th>\n",
              "      <th>Na</th>\n",
              "      <th>Ca</th>\n",
              "      <th>Mg</th>\n",
              "      <th>K</th>\n",
              "      <th>F</th>\n",
              "      <th>Cl</th>\n",
              "      <th>Nitrate</th>\n",
              "      <th>Sulphate</th>\n",
              "      <th>Phosphate</th>\n",
              "      <th>target</th>\n",
              "      <th>prediction</th>\n",
              "    </tr>\n",
              "  </thead>\n",
              "  <tbody>\n",
              "    <tr>\n",
              "      <td>Good</td>\n",
              "      <td>0.7649</td>\n",
              "      <td>0.0400</td>\n",
              "      <td>4.8739</td>\n",
              "      <td>1.7349</td>\n",
              "      <td>4.3862</td>\n",
              "      <td>6.4393</td>\n",
              "      <td>4.7163</td>\n",
              "      <td>1.5509</td>\n",
              "      <td>0.7282</td>\n",
              "      <td>2.8666</td>\n",
              "      <td>6.0109</td>\n",
              "      <td>-0.2316</td>\n",
              "      <td>4.5551</td>\n",
              "      <td>-0.1989</td>\n",
              "      <td>0.516793</td>\n",
              "      <td>[0.561231]</td>\n",
              "    </tr>\n",
              "    <tr>\n",
              "      <td>Excellent</td>\n",
              "      <td>0.5105</td>\n",
              "      <td>1.4884</td>\n",
              "      <td>-0.7660</td>\n",
              "      <td>-0.2395</td>\n",
              "      <td>-0.5958</td>\n",
              "      <td>-0.7439</td>\n",
              "      <td>-0.9021</td>\n",
              "      <td>-0.5672</td>\n",
              "      <td>-0.4727</td>\n",
              "      <td>-0.5297</td>\n",
              "      <td>-0.7702</td>\n",
              "      <td>-0.1755</td>\n",
              "      <td>-0.8143</td>\n",
              "      <td>-0.5067</td>\n",
              "      <td>0.18669778</td>\n",
              "      <td>[0.220704]</td>\n",
              "    </tr>\n",
              "    <tr>\n",
              "      <td>Excellent</td>\n",
              "      <td>-1.0157</td>\n",
              "      <td>1.4693</td>\n",
              "      <td>0.2729</td>\n",
              "      <td>0.8711</td>\n",
              "      <td>0.3278</td>\n",
              "      <td>-0.4176</td>\n",
              "      <td>0.3748</td>\n",
              "      <td>0.0682</td>\n",
              "      <td>-0.2147</td>\n",
              "      <td>-0.4683</td>\n",
              "      <td>-0.4307</td>\n",
              "      <td>-0.0628</td>\n",
              "      <td>0.2892</td>\n",
              "      <td>0.2243</td>\n",
              "      <td>0.28449556</td>\n",
              "      <td>[0.25302]</td>\n",
              "    </tr>\n",
              "    <tr>\n",
              "      <td>Excellent</td>\n",
              "      <td>-0.1254</td>\n",
              "      <td>-1.1035</td>\n",
              "      <td>-0.6176</td>\n",
              "      <td>-0.8565</td>\n",
              "      <td>-0.7791</td>\n",
              "      <td>-0.7477</td>\n",
              "      <td>0.6302</td>\n",
              "      <td>-0.1436</td>\n",
              "      <td>-0.1391</td>\n",
              "      <td>-0.3266</td>\n",
              "      <td>-0.7979</td>\n",
              "      <td>-0.6200</td>\n",
              "      <td>-0.1643</td>\n",
              "      <td>-0.0899</td>\n",
              "      <td>0.26604912</td>\n",
              "      <td>[0.24947]</td>\n",
              "    </tr>\n",
              "    <tr>\n",
              "      <td>Excellent</td>\n",
              "      <td>0.7649</td>\n",
              "      <td>1.1168</td>\n",
              "      <td>-0.2218</td>\n",
              "      <td>-0.3629</td>\n",
              "      <td>-0.1200</td>\n",
              "      <td>-0.6283</td>\n",
              "      <td>-0.1359</td>\n",
              "      <td>-0.7790</td>\n",
              "      <td>-0.8152</td>\n",
              "      <td>2.0636</td>\n",
              "      <td>-0.6593</td>\n",
              "      <td>-0.5175</td>\n",
              "      <td>0.2203</td>\n",
              "      <td>-0.2374</td>\n",
              "      <td>0.29622987</td>\n",
              "      <td>[0.300946]</td>\n",
              "    </tr>\n",
              "  </tbody>\n",
              "</table>"
            ],
            "text/plain": [
              "<IPython.core.display.HTML object>"
            ]
          },
          "metadata": {
            "tags": []
          }
        }
      ]
    },
    {
      "cell_type": "code",
      "metadata": {
        "colab": {
          "base_uri": "https://localhost:8080/",
          "height": 204
        },
        "id": "Fi3p2HmIw6Gb",
        "outputId": "74ca102a-ab94-496f-ba26-9a305d6edb57"
      },
      "source": [
        "#Display Predictions On Validation Data\n",
        "learn.show_results(ds_type=DatasetType.Valid)"
      ],
      "execution_count": 26,
      "outputs": [
        {
          "output_type": "display_data",
          "data": {
            "text/html": [
              "<table border=\"1\" class=\"dataframe\">\n",
              "  <thead>\n",
              "    <tr style=\"text-align: right;\">\n",
              "      <th>WQC</th>\n",
              "      <th>pH</th>\n",
              "      <th>DO</th>\n",
              "      <th>TDS</th>\n",
              "      <th>Alkalinity</th>\n",
              "      <th>EC</th>\n",
              "      <th>Na</th>\n",
              "      <th>Ca</th>\n",
              "      <th>Mg</th>\n",
              "      <th>K</th>\n",
              "      <th>F</th>\n",
              "      <th>Cl</th>\n",
              "      <th>Nitrate</th>\n",
              "      <th>Sulphate</th>\n",
              "      <th>Phosphate</th>\n",
              "      <th>target</th>\n",
              "      <th>prediction</th>\n",
              "    </tr>\n",
              "  </thead>\n",
              "  <tbody>\n",
              "    <tr>\n",
              "      <td>Excellent</td>\n",
              "      <td>0.6632</td>\n",
              "      <td>1.3740</td>\n",
              "      <td>0.2977</td>\n",
              "      <td>1.2413</td>\n",
              "      <td>0.0102</td>\n",
              "      <td>0.3153</td>\n",
              "      <td>0.6302</td>\n",
              "      <td>0.7036</td>\n",
              "      <td>-0.6951</td>\n",
              "      <td>-0.4683</td>\n",
              "      <td>0.3684</td>\n",
              "      <td>-0.4537</td>\n",
              "      <td>-0.7097</td>\n",
              "      <td>-0.4373</td>\n",
              "      <td>0.24491613</td>\n",
              "      <td>[0.247289]</td>\n",
              "    </tr>\n",
              "    <tr>\n",
              "      <td>Excellent</td>\n",
              "      <td>0.3579</td>\n",
              "      <td>1.7552</td>\n",
              "      <td>0.1740</td>\n",
              "      <td>1.7349</td>\n",
              "      <td>-0.1060</td>\n",
              "      <td>0.2164</td>\n",
              "      <td>0.3748</td>\n",
              "      <td>0.9154</td>\n",
              "      <td>0.3146</td>\n",
              "      <td>-0.2014</td>\n",
              "      <td>-0.0935</td>\n",
              "      <td>-0.5253</td>\n",
              "      <td>-0.5764</td>\n",
              "      <td>-0.3284</td>\n",
              "      <td>0.25188896</td>\n",
              "      <td>[0.250183]</td>\n",
              "    </tr>\n",
              "    <tr>\n",
              "      <td>Excellent</td>\n",
              "      <td>1.2737</td>\n",
              "      <td>1.5646</td>\n",
              "      <td>0.7676</td>\n",
              "      <td>1.2413</td>\n",
              "      <td>0.8456</td>\n",
              "      <td>0.4906</td>\n",
              "      <td>0.5025</td>\n",
              "      <td>-0.1436</td>\n",
              "      <td>-0.2547</td>\n",
              "      <td>-0.1778</td>\n",
              "      <td>0.5994</td>\n",
              "      <td>-0.5797</td>\n",
              "      <td>-0.1540</td>\n",
              "      <td>-0.3079</td>\n",
              "      <td>0.28452092</td>\n",
              "      <td>[0.239115]</td>\n",
              "    </tr>\n",
              "    <tr>\n",
              "      <td>Excellent</td>\n",
              "      <td>1.5280</td>\n",
              "      <td>0.8976</td>\n",
              "      <td>0.0255</td>\n",
              "      <td>0.5009</td>\n",
              "      <td>0.0619</td>\n",
              "      <td>-0.0222</td>\n",
              "      <td>0.2472</td>\n",
              "      <td>0.7036</td>\n",
              "      <td>-0.0946</td>\n",
              "      <td>-0.2061</td>\n",
              "      <td>0.1028</td>\n",
              "      <td>-0.4541</td>\n",
              "      <td>-0.6820</td>\n",
              "      <td>0.2235</td>\n",
              "      <td>0.3322436</td>\n",
              "      <td>[0.338167]</td>\n",
              "    </tr>\n",
              "    <tr>\n",
              "      <td>Excellent</td>\n",
              "      <td>-0.5070</td>\n",
              "      <td>-0.2459</td>\n",
              "      <td>0.3471</td>\n",
              "      <td>1.4881</td>\n",
              "      <td>0.4678</td>\n",
              "      <td>-0.6115</td>\n",
              "      <td>-0.1359</td>\n",
              "      <td>0.9154</td>\n",
              "      <td>0.9195</td>\n",
              "      <td>1.9455</td>\n",
              "      <td>-0.5208</td>\n",
              "      <td>-0.0898</td>\n",
              "      <td>-0.4760</td>\n",
              "      <td>-0.4874</td>\n",
              "      <td>0.27245635</td>\n",
              "      <td>[0.265422]</td>\n",
              "    </tr>\n",
              "  </tbody>\n",
              "</table>"
            ],
            "text/plain": [
              "<IPython.core.display.HTML object>"
            ]
          },
          "metadata": {
            "tags": []
          }
        }
      ]
    },
    {
      "cell_type": "code",
      "metadata": {
        "colab": {
          "base_uri": "https://localhost:8080/",
          "height": 102
        },
        "id": "6Nb9zql9xENx",
        "outputId": "a4836a88-fbf5-45f9-84e9-d6491cbf1c6a"
      },
      "source": [
        "#Getting The Training And Validation Errors\n",
        "\n",
        "tr = learn.validate(learn.data.train_dl)\n",
        "va = learn.validate(learn.data.valid_dl)\n",
        "print(\"The Metrics used In Evaluating The Network:\", str(learn.metrics))\n",
        "\n",
        "print(\"\\nThe calculated RMSE & R-Squared For The Training Set :\", tr[1:])\n",
        "print(\"\\nThe calculated RMSE & R-Squared For The Validation Set :\", va[1:])"
      ],
      "execution_count": 27,
      "outputs": [
        {
          "output_type": "display_data",
          "data": {
            "text/html": [
              ""
            ],
            "text/plain": [
              "<IPython.core.display.HTML object>"
            ]
          },
          "metadata": {
            "tags": []
          }
        },
        {
          "output_type": "display_data",
          "data": {
            "text/html": [
              ""
            ],
            "text/plain": [
              "<IPython.core.display.HTML object>"
            ]
          },
          "metadata": {
            "tags": []
          }
        },
        {
          "output_type": "stream",
          "text": [
            "The Metrics used In Evaluating The Network: [<function root_mean_squared_error at 0x7fad7e189ef0>, <function r2_score at 0x7fad7e18e0e0>]\n",
            "\n",
            "The calculated RMSE & R-Squared For The Training Set : [tensor(0.0385), tensor(0.8965)]\n",
            "\n",
            "The calculated RMSE & R-Squared For The Validation Set : [tensor(0.0819), tensor(0.5931)]\n"
          ],
          "name": "stdout"
        }
      ]
    },
    {
      "cell_type": "code",
      "metadata": {
        "colab": {
          "base_uri": "https://localhost:8080/",
          "height": 279
        },
        "id": "hexVCtrUxKEe",
        "outputId": "ae752d3f-c1c1-4923-a864-cfa202fe4ea1"
      },
      "source": [
        "#Plotting The losses for training and validation\n",
        "learn.recorder.plot_losses()"
      ],
      "execution_count": 43,
      "outputs": [
        {
          "output_type": "display_data",
          "data": {
            "image/png": "[encoded data removed]",
            "text/plain": [
              "<Figure size 432x288 with 1 Axes>"
            ]
          },
          "metadata": {
            "tags": [],
            "needs_background": "light"
          }
        }
      ]
    },
    {
      "cell_type": "code",
      "metadata": {
        "colab": {
          "base_uri": "https://localhost:8080/",
          "height": 279
        },
        "id": "ri2Jxj9ExYE2",
        "outputId": "3024c0c9-f9ec-4ea1-eda9-c5f5bf519192"
      },
      "source": [
        "#Plotting Momentum & Learning Rate\n",
        "learn.recorder.plot_lr(show_moms=True)"
      ],
      "execution_count": 28,
      "outputs": [
        {
          "output_type": "display_data",
          "data": {
            "image/png": "[encoded data removed]",
            "text/plain": [
              "<Figure size 864x288 with 2 Axes>"
            ]
          },
          "metadata": {
            "tags": [],
            "needs_background": "light"
          }
        }
      ]
    },
    {
      "cell_type": "code",
      "metadata": {
        "colab": {
          "base_uri": "https://localhost:8080/",
          "height": 497
        },
        "id": "8G_XYrnkxbU7",
        "outputId": "b229b1b0-982b-4859-93a2-c4d8f6e9a279"
      },
      "source": [
        "#Plotting the metrics of evaluation\n",
        "learn.recorder.plot_metrics()"
      ],
      "execution_count": 29,
      "outputs": [
        {
          "output_type": "display_data",
          "data": {
            "image/png": "[encoded data removed]",
            "text/plain": [
              "<Figure size 432x576 with 2 Axes>"
            ]
          },
          "metadata": {
            "tags": [],
            "needs_background": "light"
          }
        }
      ]
    },
    {
      "cell_type": "code",
      "metadata": {
        "id": "wghiLZ28xevo"
      },
      "source": [
        "val = train_data.tail(97)"
      ],
      "execution_count": 30,
      "outputs": []
    },
    {
      "cell_type": "code",
      "metadata": {
        "colab": {
          "base_uri": "https://localhost:8080/",
          "height": 119
        },
        "id": "JsHrU9HYxiu-",
        "outputId": "dad10ef3-7503-4c21-83fa-1bf966b138de"
      },
      "source": [
        "#Converting the prediction to DataFrame for Comparing\n",
        "val_preds = learn.get_preds(ds_type=DatasetType.Valid)[0]\n",
        "val_preds = [i[0] for i in val_preds.tolist()] \n",
        "val['Predicted'] = val_preds"
      ],
      "execution_count": 31,
      "outputs": [
        {
          "output_type": "display_data",
          "data": {
            "text/html": [
              ""
            ],
            "text/plain": [
              "<IPython.core.display.HTML object>"
            ]
          },
          "metadata": {
            "tags": []
          }
        },
        {
          "output_type": "stream",
          "text": [
            "/usr/local/lib/python3.7/dist-packages/ipykernel_launcher.py:4: SettingWithCopyWarning: \n",
            "A value is trying to be set on a copy of a slice from a DataFrame.\n",
            "Try using .loc[row_indexer,col_indexer] = value instead\n",
            "\n",
            "See the caveats in the documentation: https://pandas.pydata.org/pandas-docs/stable/user_guide/indexing.html#returning-a-view-versus-a-copy\n",
            "  after removing the cwd from sys.path.\n"
          ],
          "name": "stderr"
        }
      ]
    },
    {
      "cell_type": "code",
      "metadata": {
        "colab": {
          "base_uri": "https://localhost:8080/",
          "height": 204
        },
        "id": "KXAhwBUFxli_",
        "outputId": "0f708a29-893c-47dd-df7d-4d0066ca305a"
      },
      "source": [
        "val.head()"
      ],
      "execution_count": 32,
      "outputs": [
        {
          "output_type": "execute_result",
          "data": {
            "text/html": [
              "<div>\n",
              "<style scoped>\n",
              "    .dataframe tbody tr th:only-of-type {\n",
              "        vertical-align: middle;\n",
              "    }\n",
              "\n",
              "    .dataframe tbody tr th {\n",
              "        vertical-align: top;\n",
              "    }\n",
              "\n",
              "    .dataframe thead th {\n",
              "        text-align: right;\n",
              "    }\n",
              "</style>\n",
              "<table border=\"1\" class=\"dataframe\">\n",
              "  <thead>\n",
              "    <tr style=\"text-align: right;\">\n",
              "      <th></th>\n",
              "      <th>pH</th>\n",
              "      <th>DO</th>\n",
              "      <th>TDS</th>\n",
              "      <th>Alkalinity</th>\n",
              "      <th>EC</th>\n",
              "      <th>Na</th>\n",
              "      <th>Ca</th>\n",
              "      <th>Mg</th>\n",
              "      <th>K</th>\n",
              "      <th>F</th>\n",
              "      <th>Cl</th>\n",
              "      <th>Nitrate</th>\n",
              "      <th>Sulphate</th>\n",
              "      <th>Phosphate</th>\n",
              "      <th>WPI</th>\n",
              "      <th>WQC</th>\n",
              "      <th>Predicted</th>\n",
              "    </tr>\n",
              "  </thead>\n",
              "  <tbody>\n",
              "    <tr>\n",
              "      <th>390</th>\n",
              "      <td>8.06</td>\n",
              "      <td>8.9</td>\n",
              "      <td>123.0</td>\n",
              "      <td>80.0</td>\n",
              "      <td>189.3</td>\n",
              "      <td>10.17</td>\n",
              "      <td>52.0</td>\n",
              "      <td>30.0</td>\n",
              "      <td>1.36</td>\n",
              "      <td>0.288</td>\n",
              "      <td>16.7</td>\n",
              "      <td>0.485000</td>\n",
              "      <td>5.049510</td>\n",
              "      <td>0.019822</td>\n",
              "      <td>0.244916</td>\n",
              "      <td>Excellent</td>\n",
              "      <td>0.247289</td>\n",
              "    </tr>\n",
              "    <tr>\n",
              "      <th>391</th>\n",
              "      <td>7.94</td>\n",
              "      <td>9.3</td>\n",
              "      <td>118.0</td>\n",
              "      <td>88.0</td>\n",
              "      <td>181.0</td>\n",
              "      <td>9.64</td>\n",
              "      <td>48.0</td>\n",
              "      <td>32.0</td>\n",
              "      <td>3.63</td>\n",
              "      <td>0.401</td>\n",
              "      <td>12.7</td>\n",
              "      <td>0.354665</td>\n",
              "      <td>6.732680</td>\n",
              "      <td>0.036800</td>\n",
              "      <td>0.251889</td>\n",
              "      <td>Excellent</td>\n",
              "      <td>0.250183</td>\n",
              "    </tr>\n",
              "    <tr>\n",
              "      <th>392</th>\n",
              "      <td>8.30</td>\n",
              "      <td>9.1</td>\n",
              "      <td>142.0</td>\n",
              "      <td>80.0</td>\n",
              "      <td>249.0</td>\n",
              "      <td>11.11</td>\n",
              "      <td>50.0</td>\n",
              "      <td>22.0</td>\n",
              "      <td>2.35</td>\n",
              "      <td>0.411</td>\n",
              "      <td>18.7</td>\n",
              "      <td>0.255837</td>\n",
              "      <td>12.064375</td>\n",
              "      <td>0.040000</td>\n",
              "      <td>0.284521</td>\n",
              "      <td>Excellent</td>\n",
              "      <td>0.239115</td>\n",
              "    </tr>\n",
              "    <tr>\n",
              "      <th>393</th>\n",
              "      <td>8.40</td>\n",
              "      <td>8.4</td>\n",
              "      <td>112.0</td>\n",
              "      <td>68.0</td>\n",
              "      <td>193.0</td>\n",
              "      <td>8.36</td>\n",
              "      <td>46.0</td>\n",
              "      <td>30.0</td>\n",
              "      <td>2.71</td>\n",
              "      <td>0.399</td>\n",
              "      <td>14.4</td>\n",
              "      <td>0.484209</td>\n",
              "      <td>5.400000</td>\n",
              "      <td>0.122880</td>\n",
              "      <td>0.332244</td>\n",
              "      <td>Excellent</td>\n",
              "      <td>0.338167</td>\n",
              "    </tr>\n",
              "    <tr>\n",
              "      <th>394</th>\n",
              "      <td>7.60</td>\n",
              "      <td>7.2</td>\n",
              "      <td>125.0</td>\n",
              "      <td>84.0</td>\n",
              "      <td>222.0</td>\n",
              "      <td>5.20</td>\n",
              "      <td>40.0</td>\n",
              "      <td>32.0</td>\n",
              "      <td>4.99</td>\n",
              "      <td>1.310</td>\n",
              "      <td>9.0</td>\n",
              "      <td>1.147000</td>\n",
              "      <td>8.000000</td>\n",
              "      <td>0.012000</td>\n",
              "      <td>0.272456</td>\n",
              "      <td>Excellent</td>\n",
              "      <td>0.265422</td>\n",
              "    </tr>\n",
              "  </tbody>\n",
              "</table>\n",
              "</div>"
            ],
            "text/plain": [
              "       pH   DO    TDS  Alkalinity  ...  Phosphate       WPI        WQC  Predicted\n",
              "390  8.06  8.9  123.0        80.0  ...   0.019822  0.244916  Excellent   0.247289\n",
              "391  7.94  9.3  118.0        88.0  ...   0.036800  0.251889  Excellent   0.250183\n",
              "392  8.30  9.1  142.0        80.0  ...   0.040000  0.284521  Excellent   0.239115\n",
              "393  8.40  8.4  112.0        68.0  ...   0.122880  0.332244  Excellent   0.338167\n",
              "394  7.60  7.2  125.0        84.0  ...   0.012000  0.272456  Excellent   0.265422\n",
              "\n",
              "[5 rows x 17 columns]"
            ]
          },
          "metadata": {
            "tags": []
          },
          "execution_count": 32
        }
      ]
    },
    {
      "cell_type": "code",
      "metadata": {
        "colab": {
          "base_uri": "https://localhost:8080/"
        },
        "id": "Jpz2YY4HxsaI",
        "outputId": "7227ee8f-bd5a-4143-baa8-0dd043818a07"
      },
      "source": [
        "import numpy as np\n",
        "Y_true = val['WPI']\n",
        "pred = val['Predicted']\n",
        "\n",
        "\n",
        "#RMSLE\n",
        "error = np.square(np.log10(pred + 1) - np.log10(Y_true +1)).mean() ** 0.5\n",
        "\n",
        "score = 1 - error\n",
        "print(\"SCORE For Validation : \",score)"
      ],
      "execution_count": 33,
      "outputs": [
        {
          "output_type": "stream",
          "text": [
            "SCORE For Validation :  0.9759134192725971\n"
          ],
          "name": "stdout"
        }
      ]
    },
    {
      "cell_type": "code",
      "metadata": {
        "colab": {
          "base_uri": "https://localhost:8080/",
          "height": 34
        },
        "id": "jy2tVkaXyInk",
        "outputId": "7da7322b-8beb-468e-c0d0-b5d6e5c6610a"
      },
      "source": [
        "print(\"R-Squared For Validation Set : \", r2_score(learn.get_preds(ds_type=DatasetType.Valid)[0], learn.get_preds(ds_type=DatasetType.Valid)[1]))"
      ],
      "execution_count": 34,
      "outputs": [
        {
          "output_type": "display_data",
          "data": {
            "text/html": [
              ""
            ],
            "text/plain": [
              "<IPython.core.display.HTML object>"
            ]
          },
          "metadata": {
            "tags": []
          }
        },
        {
          "output_type": "display_data",
          "data": {
            "text/html": [
              ""
            ],
            "text/plain": [
              "<IPython.core.display.HTML object>"
            ]
          },
          "metadata": {
            "tags": []
          }
        },
        {
          "output_type": "stream",
          "text": [
            "R-Squared For Validation Set :  tensor(0.6446)\n"
          ],
          "name": "stdout"
        }
      ]
    },
    {
      "cell_type": "code",
      "metadata": {
        "colab": {
          "base_uri": "https://localhost:8080/",
          "height": 51
        },
        "id": "rqmtRSYzyOlc",
        "outputId": "f3661837-90ef-4d89-d0c6-4ebf817a947b"
      },
      "source": [
        "print(\"\\nRMSE For Validation Set : \",root_mean_squared_error(learn.get_preds(ds_type=DatasetType.Valid)[0], learn.get_preds(ds_type=DatasetType.Valid)[1]))\n"
      ],
      "execution_count": 35,
      "outputs": [
        {
          "output_type": "display_data",
          "data": {
            "text/html": [
              ""
            ],
            "text/plain": [
              "<IPython.core.display.HTML object>"
            ]
          },
          "metadata": {
            "tags": []
          }
        },
        {
          "output_type": "display_data",
          "data": {
            "text/html": [
              ""
            ],
            "text/plain": [
              "<IPython.core.display.HTML object>"
            ]
          },
          "metadata": {
            "tags": []
          }
        },
        {
          "output_type": "stream",
          "text": [
            "\n",
            "RMSE For Validation Set :  tensor(0.0821)\n"
          ],
          "name": "stdout"
        }
      ]
    },
    {
      "cell_type": "code",
      "metadata": {
        "id": "TVtmSgJQyk1u"
      },
      "source": [
        ""
      ],
      "execution_count": null,
      "outputs": []
    }
  ]
}
