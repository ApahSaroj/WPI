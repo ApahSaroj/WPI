{
  "nbformat": 4,
  "nbformat_minor": 0,
  "metadata": {
    "colab": {
      "name": "wpi forecasting fbprophet & LSTM.ipynb",
      "provenance": [],
      "collapsed_sections": [],
      "authorship_tag": "ABX9TyMmljI8zwYMuBu3D+n83CvP",
      "include_colab_link": true
    },
    "kernelspec": {
      "name": "python3",
      "display_name": "Python 3"
    },
    "language_info": {
      "name": "python"
    },
    "widgets": {
      "application/vnd.jupyter.widget-state+json": {
        "3c8bfde23d364cb3a593d6af87306d40": {
          "model_module": "@jupyter-widgets/controls",
          "model_name": "HBoxModel",
          "state": {
            "_view_name": "HBoxView",
            "_dom_classes": [],
            "_model_name": "HBoxModel",
            "_view_module": "@jupyter-widgets/controls",
            "_model_module_version": "1.5.0",
            "_view_count": null,
            "_view_module_version": "1.5.0",
            "box_style": "",
            "layout": "IPY_MODEL_aff17b6836e74f6abb91afcdd6a3d55a",
            "_model_module": "@jupyter-widgets/controls",
            "children": [
              "IPY_MODEL_1d7bf53852364ef7ae14674ec1e0c69f",
              "IPY_MODEL_172a30b9ad5f452c8541bb3181426f2b"
            ]
          }
        },
        "aff17b6836e74f6abb91afcdd6a3d55a": {
          "model_module": "@jupyter-widgets/base",
          "model_name": "LayoutModel",
          "state": {
            "_view_name": "LayoutView",
            "grid_template_rows": null,
            "right": null,
            "justify_content": null,
            "_view_module": "@jupyter-widgets/base",
            "overflow": null,
            "_model_module_version": "1.2.0",
            "_view_count": null,
            "flex_flow": null,
            "width": null,
            "min_width": null,
            "border": null,
            "align_items": null,
            "bottom": null,
            "_model_module": "@jupyter-widgets/base",
            "top": null,
            "grid_column": null,
            "overflow_y": null,
            "overflow_x": null,
            "grid_auto_flow": null,
            "grid_area": null,
            "grid_template_columns": null,
            "flex": null,
            "_model_name": "LayoutModel",
            "justify_items": null,
            "grid_row": null,
            "max_height": null,
            "align_content": null,
            "visibility": null,
            "align_self": null,
            "height": null,
            "min_height": null,
            "padding": null,
            "grid_auto_rows": null,
            "grid_gap": null,
            "max_width": null,
            "order": null,
            "_view_module_version": "1.2.0",
            "grid_template_areas": null,
            "object_position": null,
            "object_fit": null,
            "grid_auto_columns": null,
            "margin": null,
            "display": null,
            "left": null
          }
        },
        "1d7bf53852364ef7ae14674ec1e0c69f": {
          "model_module": "@jupyter-widgets/controls",
          "model_name": "FloatProgressModel",
          "state": {
            "_view_name": "ProgressView",
            "style": "IPY_MODEL_deb965d5892a42c0b6ff3a96e76ae553",
            "_dom_classes": [],
            "description": "100%",
            "_model_name": "FloatProgressModel",
            "bar_style": "success",
            "max": 10,
            "_view_module": "@jupyter-widgets/controls",
            "_model_module_version": "1.5.0",
            "value": 10,
            "_view_count": null,
            "_view_module_version": "1.5.0",
            "orientation": "horizontal",
            "min": 0,
            "description_tooltip": null,
            "_model_module": "@jupyter-widgets/controls",
            "layout": "IPY_MODEL_e4a290e0fcc144189e1c795a8992fc94"
          }
        },
        "172a30b9ad5f452c8541bb3181426f2b": {
          "model_module": "@jupyter-widgets/controls",
          "model_name": "HTMLModel",
          "state": {
            "_view_name": "HTMLView",
            "style": "IPY_MODEL_2b857780c4824a08ae7adbaa62d2f734",
            "_dom_classes": [],
            "description": "",
            "_model_name": "HTMLModel",
            "placeholder": "​",
            "_view_module": "@jupyter-widgets/controls",
            "_model_module_version": "1.5.0",
            "value": " 10/10 [07:49&lt;00:00, 46.97s/it]",
            "_view_count": null,
            "_view_module_version": "1.5.0",
            "description_tooltip": null,
            "_model_module": "@jupyter-widgets/controls",
            "layout": "IPY_MODEL_fc0bb342f1cf40cf9b8fa70a5f1115bd"
          }
        },
        "deb965d5892a42c0b6ff3a96e76ae553": {
          "model_module": "@jupyter-widgets/controls",
          "model_name": "ProgressStyleModel",
          "state": {
            "_view_name": "StyleView",
            "_model_name": "ProgressStyleModel",
            "description_width": "initial",
            "_view_module": "@jupyter-widgets/base",
            "_model_module_version": "1.5.0",
            "_view_count": null,
            "_view_module_version": "1.2.0",
            "bar_color": null,
            "_model_module": "@jupyter-widgets/controls"
          }
        },
        "e4a290e0fcc144189e1c795a8992fc94": {
          "model_module": "@jupyter-widgets/base",
          "model_name": "LayoutModel",
          "state": {
            "_view_name": "LayoutView",
            "grid_template_rows": null,
            "right": null,
            "justify_content": null,
            "_view_module": "@jupyter-widgets/base",
            "overflow": null,
            "_model_module_version": "1.2.0",
            "_view_count": null,
            "flex_flow": null,
            "width": null,
            "min_width": null,
            "border": null,
            "align_items": null,
            "bottom": null,
            "_model_module": "@jupyter-widgets/base",
            "top": null,
            "grid_column": null,
            "overflow_y": null,
            "overflow_x": null,
            "grid_auto_flow": null,
            "grid_area": null,
            "grid_template_columns": null,
            "flex": null,
            "_model_name": "LayoutModel",
            "justify_items": null,
            "grid_row": null,
            "max_height": null,
            "align_content": null,
            "visibility": null,
            "align_self": null,
            "height": null,
            "min_height": null,
            "padding": null,
            "grid_auto_rows": null,
            "grid_gap": null,
            "max_width": null,
            "order": null,
            "_view_module_version": "1.2.0",
            "grid_template_areas": null,
            "object_position": null,
            "object_fit": null,
            "grid_auto_columns": null,
            "margin": null,
            "display": null,
            "left": null
          }
        },
        "2b857780c4824a08ae7adbaa62d2f734": {
          "model_module": "@jupyter-widgets/controls",
          "model_name": "DescriptionStyleModel",
          "state": {
            "_view_name": "StyleView",
            "_model_name": "DescriptionStyleModel",
            "description_width": "",
            "_view_module": "@jupyter-widgets/base",
            "_model_module_version": "1.5.0",
            "_view_count": null,
            "_view_module_version": "1.2.0",
            "_model_module": "@jupyter-widgets/controls"
          }
        },
        "fc0bb342f1cf40cf9b8fa70a5f1115bd": {
          "model_module": "@jupyter-widgets/base",
          "model_name": "LayoutModel",
          "state": {
            "_view_name": "LayoutView",
            "grid_template_rows": null,
            "right": null,
            "justify_content": null,
            "_view_module": "@jupyter-widgets/base",
            "overflow": null,
            "_model_module_version": "1.2.0",
            "_view_count": null,
            "flex_flow": null,
            "width": null,
            "min_width": null,
            "border": null,
            "align_items": null,
            "bottom": null,
            "_model_module": "@jupyter-widgets/base",
            "top": null,
            "grid_column": null,
            "overflow_y": null,
            "overflow_x": null,
            "grid_auto_flow": null,
            "grid_area": null,
            "grid_template_columns": null,
            "flex": null,
            "_model_name": "LayoutModel",
            "justify_items": null,
            "grid_row": null,
            "max_height": null,
            "align_content": null,
            "visibility": null,
            "align_self": null,
            "height": null,
            "min_height": null,
            "padding": null,
            "grid_auto_rows": null,
            "grid_gap": null,
            "max_width": null,
            "order": null,
            "_view_module_version": "1.2.0",
            "grid_template_areas": null,
            "object_position": null,
            "object_fit": null,
            "grid_auto_columns": null,
            "margin": null,
            "display": null,
            "left": null
          }
        }
      }
    }
  },
  "cells": [
    {
      "cell_type": "markdown",
      "metadata": {
        "id": "view-in-github",
        "colab_type": "text"
      },
      "source": [
        "<a href=\"https://colab.research.google.com/github/ApahSaroj/WPI/blob/main/wpi_forecasting_fbprophet_%26_LSTM.ipynb\" target=\"_parent\"><img src=\"https://colab.research.google.com/assets/colab-badge.svg\" alt=\"Open In Colab\"/></a>"
      ]
    },
    {
      "cell_type": "code",
      "metadata": {
        "colab": {
          "base_uri": "https://localhost:8080/"
        },
        "id": "fHFh7iNbbxmR",
        "outputId": "3afe6958-93f4-4580-c67f-c0b68bbd5b49"
      },
      "source": [
        "pip install pystan"
      ],
      "execution_count": 1,
      "outputs": [
        {
          "output_type": "stream",
          "text": [
            "Requirement already satisfied: pystan in /usr/local/lib/python3.7/dist-packages (2.19.1.1)\n",
            "Requirement already satisfied: Cython!=0.25.1,>=0.22 in /usr/local/lib/python3.7/dist-packages (from pystan) (0.29.23)\n",
            "Requirement already satisfied: numpy>=1.7 in /usr/local/lib/python3.7/dist-packages (from pystan) (1.19.5)\n"
          ],
          "name": "stdout"
        }
      ]
    },
    {
      "cell_type": "code",
      "metadata": {
        "id": "rgXqW31ScAcB"
      },
      "source": [
        "import pandas as pd\n",
        "import fbprophet\n",
        "import matplotlib.pyplot as plt\n",
        "%matplotlib inline"
      ],
      "execution_count": 2,
      "outputs": []
    },
    {
      "cell_type": "code",
      "metadata": {
        "colab": {
          "base_uri": "https://localhost:8080/"
        },
        "id": "47_vlLkKcEZ-",
        "outputId": "ed197a99-3d33-456b-8681-5ea395f6f940"
      },
      "source": [
        "from google.colab import drive\n",
        "\n",
        "drive.mount('/content/drive')"
      ],
      "execution_count": 3,
      "outputs": [
        {
          "output_type": "stream",
          "text": [
            "Mounted at /content/drive\n"
          ],
          "name": "stdout"
        }
      ]
    },
    {
      "cell_type": "code",
      "metadata": {
        "id": "RHxmjByqcNeh"
      },
      "source": [
        "df=pd.read_csv('/content/drive/MyDrive/DATA/timeser.csv')"
      ],
      "execution_count": 6,
      "outputs": []
    },
    {
      "cell_type": "code",
      "metadata": {
        "colab": {
          "base_uri": "https://localhost:8080/",
          "height": 204
        },
        "id": "uEd_JJLCcem0",
        "outputId": "f41ac3c8-122e-4fc0-8520-880a5d26d185"
      },
      "source": [
        "df.head()"
      ],
      "execution_count": 7,
      "outputs": [
        {
          "output_type": "execute_result",
          "data": {
            "text/html": [
              "<div>\n",
              "<style scoped>\n",
              "    .dataframe tbody tr th:only-of-type {\n",
              "        vertical-align: middle;\n",
              "    }\n",
              "\n",
              "    .dataframe tbody tr th {\n",
              "        vertical-align: top;\n",
              "    }\n",
              "\n",
              "    .dataframe thead th {\n",
              "        text-align: right;\n",
              "    }\n",
              "</style>\n",
              "<table border=\"1\" class=\"dataframe\">\n",
              "  <thead>\n",
              "    <tr style=\"text-align: right;\">\n",
              "      <th></th>\n",
              "      <th>Date</th>\n",
              "      <th>pH</th>\n",
              "      <th>DO</th>\n",
              "      <th>TDS</th>\n",
              "      <th>Alkalinity</th>\n",
              "      <th>EC</th>\n",
              "      <th>Na</th>\n",
              "      <th>Ca</th>\n",
              "      <th>Mg</th>\n",
              "      <th>K</th>\n",
              "      <th>F</th>\n",
              "      <th>Cl</th>\n",
              "      <th>Nitrate</th>\n",
              "      <th>Sulphate</th>\n",
              "      <th>Phosphate</th>\n",
              "      <th>WPI</th>\n",
              "    </tr>\n",
              "  </thead>\n",
              "  <tbody>\n",
              "    <tr>\n",
              "      <th>0</th>\n",
              "      <td>01-Jan-14</td>\n",
              "      <td>8.14</td>\n",
              "      <td>8.7</td>\n",
              "      <td>84.0</td>\n",
              "      <td>52</td>\n",
              "      <td>147.8</td>\n",
              "      <td>4.48</td>\n",
              "      <td>44</td>\n",
              "      <td>20</td>\n",
              "      <td>1.17</td>\n",
              "      <td>0.285</td>\n",
              "      <td>7.8</td>\n",
              "      <td>0.758000</td>\n",
              "      <td>6.534660</td>\n",
              "      <td>0.06211</td>\n",
              "      <td>0.249528</td>\n",
              "    </tr>\n",
              "    <tr>\n",
              "      <th>1</th>\n",
              "      <td>02-Jan-14</td>\n",
              "      <td>7.70</td>\n",
              "      <td>8.8</td>\n",
              "      <td>110.0</td>\n",
              "      <td>76</td>\n",
              "      <td>188.0</td>\n",
              "      <td>8.61</td>\n",
              "      <td>44</td>\n",
              "      <td>36</td>\n",
              "      <td>3.46</td>\n",
              "      <td>0.401</td>\n",
              "      <td>14.8</td>\n",
              "      <td>0.196062</td>\n",
              "      <td>8.138620</td>\n",
              "      <td>0.00960</td>\n",
              "      <td>0.216400</td>\n",
              "    </tr>\n",
              "    <tr>\n",
              "      <th>2</th>\n",
              "      <td>03-Jan-14</td>\n",
              "      <td>7.60</td>\n",
              "      <td>7.5</td>\n",
              "      <td>75.0</td>\n",
              "      <td>44</td>\n",
              "      <td>128.0</td>\n",
              "      <td>8.11</td>\n",
              "      <td>28</td>\n",
              "      <td>20</td>\n",
              "      <td>2.80</td>\n",
              "      <td>0.379</td>\n",
              "      <td>14.8</td>\n",
              "      <td>0.298875</td>\n",
              "      <td>3.855625</td>\n",
              "      <td>0.01280</td>\n",
              "      <td>0.183814</td>\n",
              "    </tr>\n",
              "    <tr>\n",
              "      <th>3</th>\n",
              "      <td>04-Jan-14</td>\n",
              "      <td>8.20</td>\n",
              "      <td>9.1</td>\n",
              "      <td>76.0</td>\n",
              "      <td>56</td>\n",
              "      <td>127.0</td>\n",
              "      <td>6.30</td>\n",
              "      <td>44</td>\n",
              "      <td>18</td>\n",
              "      <td>1.65</td>\n",
              "      <td>0.396</td>\n",
              "      <td>9.6</td>\n",
              "      <td>0.299591</td>\n",
              "      <td>2.238750</td>\n",
              "      <td>0.01536</td>\n",
              "      <td>0.219282</td>\n",
              "    </tr>\n",
              "    <tr>\n",
              "      <th>4</th>\n",
              "      <td>05-Jan-14</td>\n",
              "      <td>7.31</td>\n",
              "      <td>7.3</td>\n",
              "      <td>84.0</td>\n",
              "      <td>52</td>\n",
              "      <td>140.0</td>\n",
              "      <td>5.50</td>\n",
              "      <td>28</td>\n",
              "      <td>20</td>\n",
              "      <td>1.61</td>\n",
              "      <td>0.265</td>\n",
              "      <td>8.3</td>\n",
              "      <td>0.106000</td>\n",
              "      <td>5.600000</td>\n",
              "      <td>0.01000</td>\n",
              "      <td>0.165831</td>\n",
              "    </tr>\n",
              "  </tbody>\n",
              "</table>\n",
              "</div>"
            ],
            "text/plain": [
              "        Date    pH   DO    TDS  ...   Nitrate  Sulphate  Phosphate       WPI\n",
              "0  01-Jan-14  8.14  8.7   84.0  ...  0.758000  6.534660    0.06211  0.249528\n",
              "1  02-Jan-14  7.70  8.8  110.0  ...  0.196062  8.138620    0.00960  0.216400\n",
              "2  03-Jan-14  7.60  7.5   75.0  ...  0.298875  3.855625    0.01280  0.183814\n",
              "3  04-Jan-14  8.20  9.1   76.0  ...  0.299591  2.238750    0.01536  0.219282\n",
              "4  05-Jan-14  7.31  7.3   84.0  ...  0.106000  5.600000    0.01000  0.165831\n",
              "\n",
              "[5 rows x 16 columns]"
            ]
          },
          "metadata": {
            "tags": []
          },
          "execution_count": 7
        }
      ]
    },
    {
      "cell_type": "code",
      "metadata": {
        "id": "ncITpdm4c0Tg"
      },
      "source": [
        "df=df.drop(['pH','DO','TDS','Alkalinity',\t'EC',\t'Na',\t'Ca',\t'Mg',\t'K',\t'F',\t'Cl',\t'Nitrate',\t'Sulphate',\t'Phosphate'], axis = 1)"
      ],
      "execution_count": 9,
      "outputs": []
    },
    {
      "cell_type": "code",
      "metadata": {
        "colab": {
          "base_uri": "https://localhost:8080/",
          "height": 204
        },
        "id": "EBTkqL0mc5z7",
        "outputId": "4db87c42-3d50-4bf0-8f48-8fdb9b71dcca"
      },
      "source": [
        "df.head()"
      ],
      "execution_count": 10,
      "outputs": [
        {
          "output_type": "execute_result",
          "data": {
            "text/html": [
              "<div>\n",
              "<style scoped>\n",
              "    .dataframe tbody tr th:only-of-type {\n",
              "        vertical-align: middle;\n",
              "    }\n",
              "\n",
              "    .dataframe tbody tr th {\n",
              "        vertical-align: top;\n",
              "    }\n",
              "\n",
              "    .dataframe thead th {\n",
              "        text-align: right;\n",
              "    }\n",
              "</style>\n",
              "<table border=\"1\" class=\"dataframe\">\n",
              "  <thead>\n",
              "    <tr style=\"text-align: right;\">\n",
              "      <th></th>\n",
              "      <th>Date</th>\n",
              "      <th>WPI</th>\n",
              "    </tr>\n",
              "  </thead>\n",
              "  <tbody>\n",
              "    <tr>\n",
              "      <th>0</th>\n",
              "      <td>01-Jan-14</td>\n",
              "      <td>0.249528</td>\n",
              "    </tr>\n",
              "    <tr>\n",
              "      <th>1</th>\n",
              "      <td>02-Jan-14</td>\n",
              "      <td>0.216400</td>\n",
              "    </tr>\n",
              "    <tr>\n",
              "      <th>2</th>\n",
              "      <td>03-Jan-14</td>\n",
              "      <td>0.183814</td>\n",
              "    </tr>\n",
              "    <tr>\n",
              "      <th>3</th>\n",
              "      <td>04-Jan-14</td>\n",
              "      <td>0.219282</td>\n",
              "    </tr>\n",
              "    <tr>\n",
              "      <th>4</th>\n",
              "      <td>05-Jan-14</td>\n",
              "      <td>0.165831</td>\n",
              "    </tr>\n",
              "  </tbody>\n",
              "</table>\n",
              "</div>"
            ],
            "text/plain": [
              "        Date       WPI\n",
              "0  01-Jan-14  0.249528\n",
              "1  02-Jan-14  0.216400\n",
              "2  03-Jan-14  0.183814\n",
              "3  04-Jan-14  0.219282\n",
              "4  05-Jan-14  0.165831"
            ]
          },
          "metadata": {
            "tags": []
          },
          "execution_count": 10
        }
      ]
    },
    {
      "cell_type": "code",
      "metadata": {
        "colab": {
          "base_uri": "https://localhost:8080/",
          "height": 204
        },
        "id": "E7u5km2WdTKS",
        "outputId": "f2023a3b-c68c-4f2a-ce6e-8223d32c5fb1"
      },
      "source": [
        "df.tail()"
      ],
      "execution_count": 11,
      "outputs": [
        {
          "output_type": "execute_result",
          "data": {
            "text/html": [
              "<div>\n",
              "<style scoped>\n",
              "    .dataframe tbody tr th:only-of-type {\n",
              "        vertical-align: middle;\n",
              "    }\n",
              "\n",
              "    .dataframe tbody tr th {\n",
              "        vertical-align: top;\n",
              "    }\n",
              "\n",
              "    .dataframe thead th {\n",
              "        text-align: right;\n",
              "    }\n",
              "</style>\n",
              "<table border=\"1\" class=\"dataframe\">\n",
              "  <thead>\n",
              "    <tr style=\"text-align: right;\">\n",
              "      <th></th>\n",
              "      <th>Date</th>\n",
              "      <th>WPI</th>\n",
              "    </tr>\n",
              "  </thead>\n",
              "  <tbody>\n",
              "    <tr>\n",
              "      <th>482</th>\n",
              "      <td>28-Apr-15</td>\n",
              "      <td>0.419630</td>\n",
              "    </tr>\n",
              "    <tr>\n",
              "      <th>483</th>\n",
              "      <td>29-Apr-15</td>\n",
              "      <td>0.432996</td>\n",
              "    </tr>\n",
              "    <tr>\n",
              "      <th>484</th>\n",
              "      <td>30-Apr-15</td>\n",
              "      <td>0.326811</td>\n",
              "    </tr>\n",
              "    <tr>\n",
              "      <th>485</th>\n",
              "      <td>01-May-15</td>\n",
              "      <td>0.509970</td>\n",
              "    </tr>\n",
              "    <tr>\n",
              "      <th>486</th>\n",
              "      <td>02-May-15</td>\n",
              "      <td>0.422551</td>\n",
              "    </tr>\n",
              "  </tbody>\n",
              "</table>\n",
              "</div>"
            ],
            "text/plain": [
              "          Date       WPI\n",
              "482  28-Apr-15  0.419630\n",
              "483  29-Apr-15  0.432996\n",
              "484  30-Apr-15  0.326811\n",
              "485  01-May-15  0.509970\n",
              "486  02-May-15  0.422551"
            ]
          },
          "metadata": {
            "tags": []
          },
          "execution_count": 11
        }
      ]
    },
    {
      "cell_type": "code",
      "metadata": {
        "colab": {
          "base_uri": "https://localhost:8080/",
          "height": 282
        },
        "id": "SgpwrgPLdWam",
        "outputId": "275aef47-961e-48be-82bb-2570ad7bed93"
      },
      "source": [
        "df.plot()"
      ],
      "execution_count": 12,
      "outputs": [
        {
          "output_type": "execute_result",
          "data": {
            "text/plain": [
              "<matplotlib.axes._subplots.AxesSubplot at 0x7f39ec3c0210>"
            ]
          },
          "metadata": {
            "tags": []
          },
          "execution_count": 12
        },
        {
          "output_type": "display_data",
          "data": {
            "image/png": "[encoded data removed]",
            "text/plain": [
              "<Figure size 432x288 with 1 Axes>"
            ]
          },
          "metadata": {
            "tags": [],
            "needs_background": "light"
          }
        }
      ]
    },
    {
      "cell_type": "code",
      "metadata": {
        "colab": {
          "base_uri": "https://localhost:8080/",
          "height": 204
        },
        "id": "EkmpC85jdaB4",
        "outputId": "05fd9a23-95ee-4086-eeae-7e4f8866efe8"
      },
      "source": [
        "df.columns = ['ds','y']\n",
        "df.head()"
      ],
      "execution_count": 13,
      "outputs": [
        {
          "output_type": "execute_result",
          "data": {
            "text/html": [
              "<div>\n",
              "<style scoped>\n",
              "    .dataframe tbody tr th:only-of-type {\n",
              "        vertical-align: middle;\n",
              "    }\n",
              "\n",
              "    .dataframe tbody tr th {\n",
              "        vertical-align: top;\n",
              "    }\n",
              "\n",
              "    .dataframe thead th {\n",
              "        text-align: right;\n",
              "    }\n",
              "</style>\n",
              "<table border=\"1\" class=\"dataframe\">\n",
              "  <thead>\n",
              "    <tr style=\"text-align: right;\">\n",
              "      <th></th>\n",
              "      <th>ds</th>\n",
              "      <th>y</th>\n",
              "    </tr>\n",
              "  </thead>\n",
              "  <tbody>\n",
              "    <tr>\n",
              "      <th>0</th>\n",
              "      <td>01-Jan-14</td>\n",
              "      <td>0.249528</td>\n",
              "    </tr>\n",
              "    <tr>\n",
              "      <th>1</th>\n",
              "      <td>02-Jan-14</td>\n",
              "      <td>0.216400</td>\n",
              "    </tr>\n",
              "    <tr>\n",
              "      <th>2</th>\n",
              "      <td>03-Jan-14</td>\n",
              "      <td>0.183814</td>\n",
              "    </tr>\n",
              "    <tr>\n",
              "      <th>3</th>\n",
              "      <td>04-Jan-14</td>\n",
              "      <td>0.219282</td>\n",
              "    </tr>\n",
              "    <tr>\n",
              "      <th>4</th>\n",
              "      <td>05-Jan-14</td>\n",
              "      <td>0.165831</td>\n",
              "    </tr>\n",
              "  </tbody>\n",
              "</table>\n",
              "</div>"
            ],
            "text/plain": [
              "          ds         y\n",
              "0  01-Jan-14  0.249528\n",
              "1  02-Jan-14  0.216400\n",
              "2  03-Jan-14  0.183814\n",
              "3  04-Jan-14  0.219282\n",
              "4  05-Jan-14  0.165831"
            ]
          },
          "metadata": {
            "tags": []
          },
          "execution_count": 13
        }
      ]
    },
    {
      "cell_type": "code",
      "metadata": {
        "id": "ld6ZAfuCdfqQ"
      },
      "source": [
        "df['ds'] = pd.to_datetime(df['ds'])"
      ],
      "execution_count": 14,
      "outputs": []
    },
    {
      "cell_type": "code",
      "metadata": {
        "colab": {
          "base_uri": "https://localhost:8080/",
          "height": 204
        },
        "id": "pYE_sEk9dknh",
        "outputId": "21cb2820-9886-42f1-adf8-83abf01355f4"
      },
      "source": [
        "df.head()"
      ],
      "execution_count": 15,
      "outputs": [
        {
          "output_type": "execute_result",
          "data": {
            "text/html": [
              "<div>\n",
              "<style scoped>\n",
              "    .dataframe tbody tr th:only-of-type {\n",
              "        vertical-align: middle;\n",
              "    }\n",
              "\n",
              "    .dataframe tbody tr th {\n",
              "        vertical-align: top;\n",
              "    }\n",
              "\n",
              "    .dataframe thead th {\n",
              "        text-align: right;\n",
              "    }\n",
              "</style>\n",
              "<table border=\"1\" class=\"dataframe\">\n",
              "  <thead>\n",
              "    <tr style=\"text-align: right;\">\n",
              "      <th></th>\n",
              "      <th>ds</th>\n",
              "      <th>y</th>\n",
              "    </tr>\n",
              "  </thead>\n",
              "  <tbody>\n",
              "    <tr>\n",
              "      <th>0</th>\n",
              "      <td>2014-01-01</td>\n",
              "      <td>0.249528</td>\n",
              "    </tr>\n",
              "    <tr>\n",
              "      <th>1</th>\n",
              "      <td>2014-01-02</td>\n",
              "      <td>0.216400</td>\n",
              "    </tr>\n",
              "    <tr>\n",
              "      <th>2</th>\n",
              "      <td>2014-01-03</td>\n",
              "      <td>0.183814</td>\n",
              "    </tr>\n",
              "    <tr>\n",
              "      <th>3</th>\n",
              "      <td>2014-01-04</td>\n",
              "      <td>0.219282</td>\n",
              "    </tr>\n",
              "    <tr>\n",
              "      <th>4</th>\n",
              "      <td>2014-01-05</td>\n",
              "      <td>0.165831</td>\n",
              "    </tr>\n",
              "  </tbody>\n",
              "</table>\n",
              "</div>"
            ],
            "text/plain": [
              "          ds         y\n",
              "0 2014-01-01  0.249528\n",
              "1 2014-01-02  0.216400\n",
              "2 2014-01-03  0.183814\n",
              "3 2014-01-04  0.219282\n",
              "4 2014-01-05  0.165831"
            ]
          },
          "metadata": {
            "tags": []
          },
          "execution_count": 15
        }
      ]
    },
    {
      "cell_type": "code",
      "metadata": {
        "id": "TdtCYUgcdnVl"
      },
      "source": [
        "from fbprophet import Prophet"
      ],
      "execution_count": 16,
      "outputs": []
    },
    {
      "cell_type": "code",
      "metadata": {
        "colab": {
          "base_uri": "https://localhost:8080/"
        },
        "id": "0x9eaGEhdrXl",
        "outputId": "bf3c54b8-258d-4b2a-9bef-14bc3ea6c495"
      },
      "source": [
        "dir(Prophet)"
      ],
      "execution_count": 17,
      "outputs": [
        {
          "output_type": "execute_result",
          "data": {
            "text/plain": [
              "['__class__',\n",
              " '__delattr__',\n",
              " '__dict__',\n",
              " '__dir__',\n",
              " '__doc__',\n",
              " '__eq__',\n",
              " '__format__',\n",
              " '__ge__',\n",
              " '__getattribute__',\n",
              " '__gt__',\n",
              " '__hash__',\n",
              " '__init__',\n",
              " '__init_subclass__',\n",
              " '__le__',\n",
              " '__lt__',\n",
              " '__module__',\n",
              " '__ne__',\n",
              " '__new__',\n",
              " '__reduce__',\n",
              " '__reduce_ex__',\n",
              " '__repr__',\n",
              " '__setattr__',\n",
              " '__sizeof__',\n",
              " '__str__',\n",
              " '__subclasshook__',\n",
              " '__weakref__',\n",
              " '_load_stan_backend',\n",
              " 'add_country_holidays',\n",
              " 'add_group_component',\n",
              " 'add_regressor',\n",
              " 'add_seasonality',\n",
              " 'construct_holiday_dataframe',\n",
              " 'fit',\n",
              " 'flat_growth_init',\n",
              " 'flat_trend',\n",
              " 'fourier_series',\n",
              " 'initialize_scales',\n",
              " 'linear_growth_init',\n",
              " 'logistic_growth_init',\n",
              " 'make_all_seasonality_features',\n",
              " 'make_future_dataframe',\n",
              " 'make_holiday_features',\n",
              " 'make_seasonality_features',\n",
              " 'parse_seasonality_args',\n",
              " 'percentile',\n",
              " 'piecewise_linear',\n",
              " 'piecewise_logistic',\n",
              " 'plot',\n",
              " 'plot_components',\n",
              " 'predict',\n",
              " 'predict_seasonal_components',\n",
              " 'predict_trend',\n",
              " 'predict_uncertainty',\n",
              " 'predictive_samples',\n",
              " 'regressor_column_matrix',\n",
              " 'sample_model',\n",
              " 'sample_posterior_predictive',\n",
              " 'sample_predictive_trend',\n",
              " 'set_auto_seasonalities',\n",
              " 'set_changepoints',\n",
              " 'setup_dataframe',\n",
              " 'validate_column_name',\n",
              " 'validate_inputs']"
            ]
          },
          "metadata": {
            "tags": []
          },
          "execution_count": 17
        }
      ]
    },
    {
      "cell_type": "code",
      "metadata": {
        "id": "w6nCByhwduJB"
      },
      "source": [
        "# Initialize the Model\n",
        "model=Prophet()"
      ],
      "execution_count": 18,
      "outputs": []
    },
    {
      "cell_type": "code",
      "metadata": {
        "colab": {
          "base_uri": "https://localhost:8080/"
        },
        "id": "lTPJDP4Fdx_S",
        "outputId": "ad8d1f75-25c2-4120-f296-3e371c24b44a"
      },
      "source": [
        "df.columns"
      ],
      "execution_count": 19,
      "outputs": [
        {
          "output_type": "execute_result",
          "data": {
            "text/plain": [
              "Index(['ds', 'y'], dtype='object')"
            ]
          },
          "metadata": {
            "tags": []
          },
          "execution_count": 19
        }
      ]
    },
    {
      "cell_type": "code",
      "metadata": {
        "colab": {
          "base_uri": "https://localhost:8080/"
        },
        "id": "34x82UJLd2t3",
        "outputId": "423ca0e9-acf3-469b-9946-cc4e507b58f8"
      },
      "source": [
        "df.dropna(axis=0,inplace=True)"
      ],
      "execution_count": 20,
      "outputs": [
        {
          "output_type": "stream",
          "text": [
            "INFO:numexpr.utils:NumExpr defaulting to 2 threads.\n"
          ],
          "name": "stderr"
        }
      ]
    },
    {
      "cell_type": "code",
      "metadata": {
        "colab": {
          "base_uri": "https://localhost:8080/",
          "height": 204
        },
        "id": "ROM7nxe2d5TR",
        "outputId": "42091c52-e414-46fe-e77b-c0b4bf0902ce"
      },
      "source": [
        "df.head()"
      ],
      "execution_count": 21,
      "outputs": [
        {
          "output_type": "execute_result",
          "data": {
            "text/html": [
              "<div>\n",
              "<style scoped>\n",
              "    .dataframe tbody tr th:only-of-type {\n",
              "        vertical-align: middle;\n",
              "    }\n",
              "\n",
              "    .dataframe tbody tr th {\n",
              "        vertical-align: top;\n",
              "    }\n",
              "\n",
              "    .dataframe thead th {\n",
              "        text-align: right;\n",
              "    }\n",
              "</style>\n",
              "<table border=\"1\" class=\"dataframe\">\n",
              "  <thead>\n",
              "    <tr style=\"text-align: right;\">\n",
              "      <th></th>\n",
              "      <th>ds</th>\n",
              "      <th>y</th>\n",
              "    </tr>\n",
              "  </thead>\n",
              "  <tbody>\n",
              "    <tr>\n",
              "      <th>0</th>\n",
              "      <td>2014-01-01</td>\n",
              "      <td>0.249528</td>\n",
              "    </tr>\n",
              "    <tr>\n",
              "      <th>1</th>\n",
              "      <td>2014-01-02</td>\n",
              "      <td>0.216400</td>\n",
              "    </tr>\n",
              "    <tr>\n",
              "      <th>2</th>\n",
              "      <td>2014-01-03</td>\n",
              "      <td>0.183814</td>\n",
              "    </tr>\n",
              "    <tr>\n",
              "      <th>3</th>\n",
              "      <td>2014-01-04</td>\n",
              "      <td>0.219282</td>\n",
              "    </tr>\n",
              "    <tr>\n",
              "      <th>4</th>\n",
              "      <td>2014-01-05</td>\n",
              "      <td>0.165831</td>\n",
              "    </tr>\n",
              "  </tbody>\n",
              "</table>\n",
              "</div>"
            ],
            "text/plain": [
              "          ds         y\n",
              "0 2014-01-01  0.249528\n",
              "1 2014-01-02  0.216400\n",
              "2 2014-01-03  0.183814\n",
              "3 2014-01-04  0.219282\n",
              "4 2014-01-05  0.165831"
            ]
          },
          "metadata": {
            "tags": []
          },
          "execution_count": 21
        }
      ]
    },
    {
      "cell_type": "code",
      "metadata": {
        "colab": {
          "base_uri": "https://localhost:8080/"
        },
        "id": "vVWisddDd8RB",
        "outputId": "1dd9530e-df3f-474b-b2b6-6140ec931ae1"
      },
      "source": [
        "model.fit(df)"
      ],
      "execution_count": 22,
      "outputs": [
        {
          "output_type": "stream",
          "text": [
            "INFO:fbprophet:Disabling yearly seasonality. Run prophet with yearly_seasonality=True to override this.\n",
            "INFO:fbprophet:Disabling daily seasonality. Run prophet with daily_seasonality=True to override this.\n"
          ],
          "name": "stderr"
        },
        {
          "output_type": "execute_result",
          "data": {
            "text/plain": [
              "<fbprophet.forecaster.Prophet at 0x7f39ec33e0d0>"
            ]
          },
          "metadata": {
            "tags": []
          },
          "execution_count": 22
        }
      ]
    },
    {
      "cell_type": "code",
      "metadata": {
        "colab": {
          "base_uri": "https://localhost:8080/"
        },
        "id": "Fo-kZOq5d_ZH",
        "outputId": "7d6f0582-34de-4850-b95b-f241aec08fe1"
      },
      "source": [
        "model.component_modes"
      ],
      "execution_count": 23,
      "outputs": [
        {
          "output_type": "execute_result",
          "data": {
            "text/plain": [
              "{'additive': ['weekly',\n",
              "  'additive_terms',\n",
              "  'extra_regressors_additive',\n",
              "  'holidays'],\n",
              " 'multiplicative': ['multiplicative_terms', 'extra_regressors_multiplicative']}"
            ]
          },
          "metadata": {
            "tags": []
          },
          "execution_count": 23
        }
      ]
    },
    {
      "cell_type": "code",
      "metadata": {
        "colab": {
          "base_uri": "https://localhost:8080/",
          "height": 204
        },
        "id": "upZGsbF7eCV-",
        "outputId": "7f764e09-c7fe-4cb0-c638-24f0a925bf70"
      },
      "source": [
        "df.tail()"
      ],
      "execution_count": 24,
      "outputs": [
        {
          "output_type": "execute_result",
          "data": {
            "text/html": [
              "<div>\n",
              "<style scoped>\n",
              "    .dataframe tbody tr th:only-of-type {\n",
              "        vertical-align: middle;\n",
              "    }\n",
              "\n",
              "    .dataframe tbody tr th {\n",
              "        vertical-align: top;\n",
              "    }\n",
              "\n",
              "    .dataframe thead th {\n",
              "        text-align: right;\n",
              "    }\n",
              "</style>\n",
              "<table border=\"1\" class=\"dataframe\">\n",
              "  <thead>\n",
              "    <tr style=\"text-align: right;\">\n",
              "      <th></th>\n",
              "      <th>ds</th>\n",
              "      <th>y</th>\n",
              "    </tr>\n",
              "  </thead>\n",
              "  <tbody>\n",
              "    <tr>\n",
              "      <th>482</th>\n",
              "      <td>2015-04-28</td>\n",
              "      <td>0.419630</td>\n",
              "    </tr>\n",
              "    <tr>\n",
              "      <th>483</th>\n",
              "      <td>2015-04-29</td>\n",
              "      <td>0.432996</td>\n",
              "    </tr>\n",
              "    <tr>\n",
              "      <th>484</th>\n",
              "      <td>2015-04-30</td>\n",
              "      <td>0.326811</td>\n",
              "    </tr>\n",
              "    <tr>\n",
              "      <th>485</th>\n",
              "      <td>2015-05-01</td>\n",
              "      <td>0.509970</td>\n",
              "    </tr>\n",
              "    <tr>\n",
              "      <th>486</th>\n",
              "      <td>2015-05-02</td>\n",
              "      <td>0.422551</td>\n",
              "    </tr>\n",
              "  </tbody>\n",
              "</table>\n",
              "</div>"
            ],
            "text/plain": [
              "            ds         y\n",
              "482 2015-04-28  0.419630\n",
              "483 2015-04-29  0.432996\n",
              "484 2015-04-30  0.326811\n",
              "485 2015-05-01  0.509970\n",
              "486 2015-05-02  0.422551"
            ]
          },
          "metadata": {
            "tags": []
          },
          "execution_count": 24
        }
      ]
    },
    {
      "cell_type": "code",
      "metadata": {
        "id": "d6LsDFJceE8q"
      },
      "source": [
        "### Create future dates of 365 days\n",
        "future_dates=model.make_future_dataframe(periods=365)"
      ],
      "execution_count": 25,
      "outputs": []
    },
    {
      "cell_type": "code",
      "metadata": {
        "colab": {
          "base_uri": "https://localhost:8080/",
          "height": 204
        },
        "id": "NOf7o8oXeIck",
        "outputId": "7ec45393-df34-4d1d-90ed-b72142885f40"
      },
      "source": [
        "future_dates.tail()"
      ],
      "execution_count": 26,
      "outputs": [
        {
          "output_type": "execute_result",
          "data": {
            "text/html": [
              "<div>\n",
              "<style scoped>\n",
              "    .dataframe tbody tr th:only-of-type {\n",
              "        vertical-align: middle;\n",
              "    }\n",
              "\n",
              "    .dataframe tbody tr th {\n",
              "        vertical-align: top;\n",
              "    }\n",
              "\n",
              "    .dataframe thead th {\n",
              "        text-align: right;\n",
              "    }\n",
              "</style>\n",
              "<table border=\"1\" class=\"dataframe\">\n",
              "  <thead>\n",
              "    <tr style=\"text-align: right;\">\n",
              "      <th></th>\n",
              "      <th>ds</th>\n",
              "    </tr>\n",
              "  </thead>\n",
              "  <tbody>\n",
              "    <tr>\n",
              "      <th>847</th>\n",
              "      <td>2016-04-27</td>\n",
              "    </tr>\n",
              "    <tr>\n",
              "      <th>848</th>\n",
              "      <td>2016-04-28</td>\n",
              "    </tr>\n",
              "    <tr>\n",
              "      <th>849</th>\n",
              "      <td>2016-04-29</td>\n",
              "    </tr>\n",
              "    <tr>\n",
              "      <th>850</th>\n",
              "      <td>2016-04-30</td>\n",
              "    </tr>\n",
              "    <tr>\n",
              "      <th>851</th>\n",
              "      <td>2016-05-01</td>\n",
              "    </tr>\n",
              "  </tbody>\n",
              "</table>\n",
              "</div>"
            ],
            "text/plain": [
              "            ds\n",
              "847 2016-04-27\n",
              "848 2016-04-28\n",
              "849 2016-04-29\n",
              "850 2016-04-30\n",
              "851 2016-05-01"
            ]
          },
          "metadata": {
            "tags": []
          },
          "execution_count": 26
        }
      ]
    },
    {
      "cell_type": "code",
      "metadata": {
        "id": "wJKGW5oNeLv_"
      },
      "source": [
        "prediction=model.predict(future_dates)"
      ],
      "execution_count": 27,
      "outputs": []
    },
    {
      "cell_type": "code",
      "metadata": {
        "colab": {
          "base_uri": "https://localhost:8080/",
          "height": 309
        },
        "id": "f2zasVOXeQ6i",
        "outputId": "a019f306-70b7-49ab-809e-487e53b8f0da"
      },
      "source": [
        "prediction.head()"
      ],
      "execution_count": 28,
      "outputs": [
        {
          "output_type": "execute_result",
          "data": {
            "text/html": [
              "<div>\n",
              "<style scoped>\n",
              "    .dataframe tbody tr th:only-of-type {\n",
              "        vertical-align: middle;\n",
              "    }\n",
              "\n",
              "    .dataframe tbody tr th {\n",
              "        vertical-align: top;\n",
              "    }\n",
              "\n",
              "    .dataframe thead th {\n",
              "        text-align: right;\n",
              "    }\n",
              "</style>\n",
              "<table border=\"1\" class=\"dataframe\">\n",
              "  <thead>\n",
              "    <tr style=\"text-align: right;\">\n",
              "      <th></th>\n",
              "      <th>ds</th>\n",
              "      <th>trend</th>\n",
              "      <th>yhat_lower</th>\n",
              "      <th>yhat_upper</th>\n",
              "      <th>trend_lower</th>\n",
              "      <th>trend_upper</th>\n",
              "      <th>additive_terms</th>\n",
              "      <th>additive_terms_lower</th>\n",
              "      <th>additive_terms_upper</th>\n",
              "      <th>weekly</th>\n",
              "      <th>weekly_lower</th>\n",
              "      <th>weekly_upper</th>\n",
              "      <th>multiplicative_terms</th>\n",
              "      <th>multiplicative_terms_lower</th>\n",
              "      <th>multiplicative_terms_upper</th>\n",
              "      <th>yhat</th>\n",
              "    </tr>\n",
              "  </thead>\n",
              "  <tbody>\n",
              "    <tr>\n",
              "      <th>0</th>\n",
              "      <td>2014-01-01</td>\n",
              "      <td>0.298238</td>\n",
              "      <td>0.149753</td>\n",
              "      <td>0.490803</td>\n",
              "      <td>0.298238</td>\n",
              "      <td>0.298238</td>\n",
              "      <td>0.017688</td>\n",
              "      <td>0.017688</td>\n",
              "      <td>0.017688</td>\n",
              "      <td>0.017688</td>\n",
              "      <td>0.017688</td>\n",
              "      <td>0.017688</td>\n",
              "      <td>0.0</td>\n",
              "      <td>0.0</td>\n",
              "      <td>0.0</td>\n",
              "      <td>0.315926</td>\n",
              "    </tr>\n",
              "    <tr>\n",
              "      <th>1</th>\n",
              "      <td>2014-01-02</td>\n",
              "      <td>0.298437</td>\n",
              "      <td>0.141078</td>\n",
              "      <td>0.467224</td>\n",
              "      <td>0.298437</td>\n",
              "      <td>0.298437</td>\n",
              "      <td>-0.011503</td>\n",
              "      <td>-0.011503</td>\n",
              "      <td>-0.011503</td>\n",
              "      <td>-0.011503</td>\n",
              "      <td>-0.011503</td>\n",
              "      <td>-0.011503</td>\n",
              "      <td>0.0</td>\n",
              "      <td>0.0</td>\n",
              "      <td>0.0</td>\n",
              "      <td>0.286934</td>\n",
              "    </tr>\n",
              "    <tr>\n",
              "      <th>2</th>\n",
              "      <td>2014-01-03</td>\n",
              "      <td>0.298636</td>\n",
              "      <td>0.143997</td>\n",
              "      <td>0.476576</td>\n",
              "      <td>0.298636</td>\n",
              "      <td>0.298636</td>\n",
              "      <td>0.010414</td>\n",
              "      <td>0.010414</td>\n",
              "      <td>0.010414</td>\n",
              "      <td>0.010414</td>\n",
              "      <td>0.010414</td>\n",
              "      <td>0.010414</td>\n",
              "      <td>0.0</td>\n",
              "      <td>0.0</td>\n",
              "      <td>0.0</td>\n",
              "      <td>0.309050</td>\n",
              "    </tr>\n",
              "    <tr>\n",
              "      <th>3</th>\n",
              "      <td>2014-01-04</td>\n",
              "      <td>0.298835</td>\n",
              "      <td>0.138050</td>\n",
              "      <td>0.471981</td>\n",
              "      <td>0.298835</td>\n",
              "      <td>0.298835</td>\n",
              "      <td>0.005330</td>\n",
              "      <td>0.005330</td>\n",
              "      <td>0.005330</td>\n",
              "      <td>0.005330</td>\n",
              "      <td>0.005330</td>\n",
              "      <td>0.005330</td>\n",
              "      <td>0.0</td>\n",
              "      <td>0.0</td>\n",
              "      <td>0.0</td>\n",
              "      <td>0.304165</td>\n",
              "    </tr>\n",
              "    <tr>\n",
              "      <th>4</th>\n",
              "      <td>2014-01-05</td>\n",
              "      <td>0.299034</td>\n",
              "      <td>0.109727</td>\n",
              "      <td>0.456432</td>\n",
              "      <td>0.299034</td>\n",
              "      <td>0.299034</td>\n",
              "      <td>-0.013823</td>\n",
              "      <td>-0.013823</td>\n",
              "      <td>-0.013823</td>\n",
              "      <td>-0.013823</td>\n",
              "      <td>-0.013823</td>\n",
              "      <td>-0.013823</td>\n",
              "      <td>0.0</td>\n",
              "      <td>0.0</td>\n",
              "      <td>0.0</td>\n",
              "      <td>0.285211</td>\n",
              "    </tr>\n",
              "  </tbody>\n",
              "</table>\n",
              "</div>"
            ],
            "text/plain": [
              "          ds     trend  ...  multiplicative_terms_upper      yhat\n",
              "0 2014-01-01  0.298238  ...                         0.0  0.315926\n",
              "1 2014-01-02  0.298437  ...                         0.0  0.286934\n",
              "2 2014-01-03  0.298636  ...                         0.0  0.309050\n",
              "3 2014-01-04  0.298835  ...                         0.0  0.304165\n",
              "4 2014-01-05  0.299034  ...                         0.0  0.285211\n",
              "\n",
              "[5 rows x 16 columns]"
            ]
          },
          "metadata": {
            "tags": []
          },
          "execution_count": 28
        }
      ]
    },
    {
      "cell_type": "code",
      "metadata": {
        "colab": {
          "base_uri": "https://localhost:8080/",
          "height": 865
        },
        "id": "yFIO_dsJeUER",
        "outputId": "fd12cdb1-0289-4cd4-a6d8-b3ae1fc57d4e"
      },
      "source": [
        "### plot the predicted projection\n",
        "model.plot(prediction)"
      ],
      "execution_count": 29,
      "outputs": [
        {
          "output_type": "execute_result",
          "data": {
            "image/png": "[encoded data removed]",
            "text/plain": [
              "<Figure size 720x432 with 1 Axes>"
            ]
          },
          "metadata": {
            "tags": []
          },
          "execution_count": 29
        },
        {
          "output_type": "display_data",
          "data": {
            "image/png": "[encoded data removed]",
            "text/plain": [
              "<Figure size 720x432 with 1 Axes>"
            ]
          },
          "metadata": {
            "tags": []
          }
        }
      ]
    },
    {
      "cell_type": "code",
      "metadata": {
        "colab": {
          "base_uri": "https://localhost:8080/",
          "height": 865
        },
        "id": "auxPNhRTeYJB",
        "outputId": "1a9424dc-1855-448e-994b-02555d88119f"
      },
      "source": [
        "#### Visualize Each Components[Trends,yearly]\n",
        "model.plot_components(prediction)"
      ],
      "execution_count": 30,
      "outputs": [
        {
          "output_type": "execute_result",
          "data": {
            "image/png": "[encoded data removed]",
            "text/plain": [
              "<Figure size 648x432 with 2 Axes>"
            ]
          },
          "metadata": {
            "tags": []
          },
          "execution_count": 30
        },
        {
          "output_type": "display_data",
          "data": {
            "image/png": "[encoded data removed]",
            "text/plain": [
              "<Figure size 648x432 with 2 Axes>"
            ]
          },
          "metadata": {
            "tags": []
          }
        }
      ]
    },
    {
      "cell_type": "code",
      "metadata": {
        "colab": {
          "base_uri": "https://localhost:8080/",
          "height": 204
        },
        "id": "XGDfCrd4ejKz",
        "outputId": "e1c6b7c9-4235-4b90-aa3c-9c48eea4a6ec"
      },
      "source": [
        "df.head()"
      ],
      "execution_count": 32,
      "outputs": [
        {
          "output_type": "execute_result",
          "data": {
            "text/html": [
              "<div>\n",
              "<style scoped>\n",
              "    .dataframe tbody tr th:only-of-type {\n",
              "        vertical-align: middle;\n",
              "    }\n",
              "\n",
              "    .dataframe tbody tr th {\n",
              "        vertical-align: top;\n",
              "    }\n",
              "\n",
              "    .dataframe thead th {\n",
              "        text-align: right;\n",
              "    }\n",
              "</style>\n",
              "<table border=\"1\" class=\"dataframe\">\n",
              "  <thead>\n",
              "    <tr style=\"text-align: right;\">\n",
              "      <th></th>\n",
              "      <th>ds</th>\n",
              "      <th>y</th>\n",
              "    </tr>\n",
              "  </thead>\n",
              "  <tbody>\n",
              "    <tr>\n",
              "      <th>0</th>\n",
              "      <td>2014-01-01</td>\n",
              "      <td>0.249528</td>\n",
              "    </tr>\n",
              "    <tr>\n",
              "      <th>1</th>\n",
              "      <td>2014-01-02</td>\n",
              "      <td>0.216400</td>\n",
              "    </tr>\n",
              "    <tr>\n",
              "      <th>2</th>\n",
              "      <td>2014-01-03</td>\n",
              "      <td>0.183814</td>\n",
              "    </tr>\n",
              "    <tr>\n",
              "      <th>3</th>\n",
              "      <td>2014-01-04</td>\n",
              "      <td>0.219282</td>\n",
              "    </tr>\n",
              "    <tr>\n",
              "      <th>4</th>\n",
              "      <td>2014-01-05</td>\n",
              "      <td>0.165831</td>\n",
              "    </tr>\n",
              "  </tbody>\n",
              "</table>\n",
              "</div>"
            ],
            "text/plain": [
              "          ds         y\n",
              "0 2014-01-01  0.249528\n",
              "1 2014-01-02  0.216400\n",
              "2 2014-01-03  0.183814\n",
              "3 2014-01-04  0.219282\n",
              "4 2014-01-05  0.165831"
            ]
          },
          "metadata": {
            "tags": []
          },
          "execution_count": 32
        }
      ]
    },
    {
      "cell_type": "code",
      "metadata": {
        "colab": {
          "base_uri": "https://localhost:8080/",
          "height": 287,
          "referenced_widgets": [
            "3c8bfde23d364cb3a593d6af87306d40",
            "aff17b6836e74f6abb91afcdd6a3d55a",
            "1d7bf53852364ef7ae14674ec1e0c69f",
            "172a30b9ad5f452c8541bb3181426f2b",
            "deb965d5892a42c0b6ff3a96e76ae553",
            "e4a290e0fcc144189e1c795a8992fc94",
            "2b857780c4824a08ae7adbaa62d2f734",
            "fc0bb342f1cf40cf9b8fa70a5f1115bd"
          ]
        },
        "id": "oJCMjxbceoll",
        "outputId": "e43ecda7-fea3-4a28-bfa7-ded61321d75b"
      },
      "source": [
        "from fbprophet.diagnostics import cross_validation\n",
        "df_cv = cross_validation(model, initial='30 days', period='10 days', horizon = '365 days')\n",
        "df_cv.head()"
      ],
      "execution_count": 34,
      "outputs": [
        {
          "output_type": "stream",
          "text": [
            "INFO:fbprophet:Making 10 forecasts with cutoffs between 2014-02-01 00:00:00 and 2014-05-02 00:00:00\n"
          ],
          "name": "stderr"
        },
        {
          "output_type": "display_data",
          "data": {
            "application/vnd.jupyter.widget-view+json": {
              "model_id": "3c8bfde23d364cb3a593d6af87306d40",
              "version_minor": 0,
              "version_major": 2
            },
            "text/plain": [
              "HBox(children=(FloatProgress(value=0.0, max=10.0), HTML(value='')))"
            ]
          },
          "metadata": {
            "tags": []
          }
        },
        {
          "output_type": "stream",
          "text": [
            "INFO:fbprophet:n_changepoints greater than number of observations. Using 24.\n"
          ],
          "name": "stderr"
        },
        {
          "output_type": "stream",
          "text": [
            "\n"
          ],
          "name": "stdout"
        },
        {
          "output_type": "execute_result",
          "data": {
            "text/html": [
              "<div>\n",
              "<style scoped>\n",
              "    .dataframe tbody tr th:only-of-type {\n",
              "        vertical-align: middle;\n",
              "    }\n",
              "\n",
              "    .dataframe tbody tr th {\n",
              "        vertical-align: top;\n",
              "    }\n",
              "\n",
              "    .dataframe thead th {\n",
              "        text-align: right;\n",
              "    }\n",
              "</style>\n",
              "<table border=\"1\" class=\"dataframe\">\n",
              "  <thead>\n",
              "    <tr style=\"text-align: right;\">\n",
              "      <th></th>\n",
              "      <th>ds</th>\n",
              "      <th>yhat</th>\n",
              "      <th>yhat_lower</th>\n",
              "      <th>yhat_upper</th>\n",
              "      <th>y</th>\n",
              "      <th>cutoff</th>\n",
              "    </tr>\n",
              "  </thead>\n",
              "  <tbody>\n",
              "    <tr>\n",
              "      <th>0</th>\n",
              "      <td>2014-02-02</td>\n",
              "      <td>0.284330</td>\n",
              "      <td>0.216668</td>\n",
              "      <td>0.357840</td>\n",
              "      <td>0.188196</td>\n",
              "      <td>2014-02-01</td>\n",
              "    </tr>\n",
              "    <tr>\n",
              "      <th>1</th>\n",
              "      <td>2014-02-03</td>\n",
              "      <td>0.284751</td>\n",
              "      <td>0.210378</td>\n",
              "      <td>0.355021</td>\n",
              "      <td>0.296400</td>\n",
              "      <td>2014-02-01</td>\n",
              "    </tr>\n",
              "    <tr>\n",
              "      <th>2</th>\n",
              "      <td>2014-02-04</td>\n",
              "      <td>0.348888</td>\n",
              "      <td>0.275621</td>\n",
              "      <td>0.419299</td>\n",
              "      <td>0.276786</td>\n",
              "      <td>2014-02-01</td>\n",
              "    </tr>\n",
              "    <tr>\n",
              "      <th>3</th>\n",
              "      <td>2014-02-05</td>\n",
              "      <td>0.356964</td>\n",
              "      <td>0.281954</td>\n",
              "      <td>0.426511</td>\n",
              "      <td>0.296344</td>\n",
              "      <td>2014-02-01</td>\n",
              "    </tr>\n",
              "    <tr>\n",
              "      <th>4</th>\n",
              "      <td>2014-02-06</td>\n",
              "      <td>0.255946</td>\n",
              "      <td>0.183917</td>\n",
              "      <td>0.328786</td>\n",
              "      <td>0.297913</td>\n",
              "      <td>2014-02-01</td>\n",
              "    </tr>\n",
              "  </tbody>\n",
              "</table>\n",
              "</div>"
            ],
            "text/plain": [
              "          ds      yhat  yhat_lower  yhat_upper         y     cutoff\n",
              "0 2014-02-02  0.284330    0.216668    0.357840  0.188196 2014-02-01\n",
              "1 2014-02-03  0.284751    0.210378    0.355021  0.296400 2014-02-01\n",
              "2 2014-02-04  0.348888    0.275621    0.419299  0.276786 2014-02-01\n",
              "3 2014-02-05  0.356964    0.281954    0.426511  0.296344 2014-02-01\n",
              "4 2014-02-06  0.255946    0.183917    0.328786  0.297913 2014-02-01"
            ]
          },
          "metadata": {
            "tags": []
          },
          "execution_count": 34
        }
      ]
    },
    {
      "cell_type": "code",
      "metadata": {
        "colab": {
          "base_uri": "https://localhost:8080/",
          "height": 204
        },
        "id": "wCjOobHXevrV",
        "outputId": "a6440700-75a8-4742-8b56-634fdbc60724"
      },
      "source": [
        "from fbprophet.diagnostics import performance_metrics\n",
        "df_p = performance_metrics(df_cv)\n",
        "df_p.head()"
      ],
      "execution_count": 35,
      "outputs": [
        {
          "output_type": "execute_result",
          "data": {
            "text/html": [
              "<div>\n",
              "<style scoped>\n",
              "    .dataframe tbody tr th:only-of-type {\n",
              "        vertical-align: middle;\n",
              "    }\n",
              "\n",
              "    .dataframe tbody tr th {\n",
              "        vertical-align: top;\n",
              "    }\n",
              "\n",
              "    .dataframe thead th {\n",
              "        text-align: right;\n",
              "    }\n",
              "</style>\n",
              "<table border=\"1\" class=\"dataframe\">\n",
              "  <thead>\n",
              "    <tr style=\"text-align: right;\">\n",
              "      <th></th>\n",
              "      <th>horizon</th>\n",
              "      <th>mse</th>\n",
              "      <th>rmse</th>\n",
              "      <th>mae</th>\n",
              "      <th>mape</th>\n",
              "      <th>mdape</th>\n",
              "      <th>coverage</th>\n",
              "    </tr>\n",
              "  </thead>\n",
              "  <tbody>\n",
              "    <tr>\n",
              "      <th>0</th>\n",
              "      <td>37 days</td>\n",
              "      <td>0.027820</td>\n",
              "      <td>0.166792</td>\n",
              "      <td>0.111189</td>\n",
              "      <td>0.328777</td>\n",
              "      <td>0.285384</td>\n",
              "      <td>0.582192</td>\n",
              "    </tr>\n",
              "    <tr>\n",
              "      <th>1</th>\n",
              "      <td>38 days</td>\n",
              "      <td>0.027726</td>\n",
              "      <td>0.166511</td>\n",
              "      <td>0.111599</td>\n",
              "      <td>0.331348</td>\n",
              "      <td>0.285609</td>\n",
              "      <td>0.579452</td>\n",
              "    </tr>\n",
              "    <tr>\n",
              "      <th>2</th>\n",
              "      <td>39 days</td>\n",
              "      <td>0.027540</td>\n",
              "      <td>0.165953</td>\n",
              "      <td>0.111582</td>\n",
              "      <td>0.332233</td>\n",
              "      <td>0.287640</td>\n",
              "      <td>0.572603</td>\n",
              "    </tr>\n",
              "    <tr>\n",
              "      <th>3</th>\n",
              "      <td>40 days</td>\n",
              "      <td>0.027583</td>\n",
              "      <td>0.166080</td>\n",
              "      <td>0.112125</td>\n",
              "      <td>0.333017</td>\n",
              "      <td>0.289287</td>\n",
              "      <td>0.563014</td>\n",
              "    </tr>\n",
              "    <tr>\n",
              "      <th>4</th>\n",
              "      <td>41 days</td>\n",
              "      <td>0.029102</td>\n",
              "      <td>0.170594</td>\n",
              "      <td>0.114945</td>\n",
              "      <td>0.339432</td>\n",
              "      <td>0.297287</td>\n",
              "      <td>0.553425</td>\n",
              "    </tr>\n",
              "  </tbody>\n",
              "</table>\n",
              "</div>"
            ],
            "text/plain": [
              "  horizon       mse      rmse       mae      mape     mdape  coverage\n",
              "0 37 days  0.027820  0.166792  0.111189  0.328777  0.285384  0.582192\n",
              "1 38 days  0.027726  0.166511  0.111599  0.331348  0.285609  0.579452\n",
              "2 39 days  0.027540  0.165953  0.111582  0.332233  0.287640  0.572603\n",
              "3 40 days  0.027583  0.166080  0.112125  0.333017  0.289287  0.563014\n",
              "4 41 days  0.029102  0.170594  0.114945  0.339432  0.297287  0.553425"
            ]
          },
          "metadata": {
            "tags": []
          },
          "execution_count": 35
        }
      ]
    },
    {
      "cell_type": "code",
      "metadata": {
        "colab": {
          "base_uri": "https://localhost:8080/",
          "height": 204
        },
        "id": "zLm1DqoUfJKt",
        "outputId": "dbce1222-199a-430c-c50c-087d426721c3"
      },
      "source": [
        "df_p.head()"
      ],
      "execution_count": 36,
      "outputs": [
        {
          "output_type": "execute_result",
          "data": {
            "text/html": [
              "<div>\n",
              "<style scoped>\n",
              "    .dataframe tbody tr th:only-of-type {\n",
              "        vertical-align: middle;\n",
              "    }\n",
              "\n",
              "    .dataframe tbody tr th {\n",
              "        vertical-align: top;\n",
              "    }\n",
              "\n",
              "    .dataframe thead th {\n",
              "        text-align: right;\n",
              "    }\n",
              "</style>\n",
              "<table border=\"1\" class=\"dataframe\">\n",
              "  <thead>\n",
              "    <tr style=\"text-align: right;\">\n",
              "      <th></th>\n",
              "      <th>horizon</th>\n",
              "      <th>mse</th>\n",
              "      <th>rmse</th>\n",
              "      <th>mae</th>\n",
              "      <th>mape</th>\n",
              "      <th>mdape</th>\n",
              "      <th>coverage</th>\n",
              "    </tr>\n",
              "  </thead>\n",
              "  <tbody>\n",
              "    <tr>\n",
              "      <th>0</th>\n",
              "      <td>37 days</td>\n",
              "      <td>0.027820</td>\n",
              "      <td>0.166792</td>\n",
              "      <td>0.111189</td>\n",
              "      <td>0.328777</td>\n",
              "      <td>0.285384</td>\n",
              "      <td>0.582192</td>\n",
              "    </tr>\n",
              "    <tr>\n",
              "      <th>1</th>\n",
              "      <td>38 days</td>\n",
              "      <td>0.027726</td>\n",
              "      <td>0.166511</td>\n",
              "      <td>0.111599</td>\n",
              "      <td>0.331348</td>\n",
              "      <td>0.285609</td>\n",
              "      <td>0.579452</td>\n",
              "    </tr>\n",
              "    <tr>\n",
              "      <th>2</th>\n",
              "      <td>39 days</td>\n",
              "      <td>0.027540</td>\n",
              "      <td>0.165953</td>\n",
              "      <td>0.111582</td>\n",
              "      <td>0.332233</td>\n",
              "      <td>0.287640</td>\n",
              "      <td>0.572603</td>\n",
              "    </tr>\n",
              "    <tr>\n",
              "      <th>3</th>\n",
              "      <td>40 days</td>\n",
              "      <td>0.027583</td>\n",
              "      <td>0.166080</td>\n",
              "      <td>0.112125</td>\n",
              "      <td>0.333017</td>\n",
              "      <td>0.289287</td>\n",
              "      <td>0.563014</td>\n",
              "    </tr>\n",
              "    <tr>\n",
              "      <th>4</th>\n",
              "      <td>41 days</td>\n",
              "      <td>0.029102</td>\n",
              "      <td>0.170594</td>\n",
              "      <td>0.114945</td>\n",
              "      <td>0.339432</td>\n",
              "      <td>0.297287</td>\n",
              "      <td>0.553425</td>\n",
              "    </tr>\n",
              "  </tbody>\n",
              "</table>\n",
              "</div>"
            ],
            "text/plain": [
              "  horizon       mse      rmse       mae      mape     mdape  coverage\n",
              "0 37 days  0.027820  0.166792  0.111189  0.328777  0.285384  0.582192\n",
              "1 38 days  0.027726  0.166511  0.111599  0.331348  0.285609  0.579452\n",
              "2 39 days  0.027540  0.165953  0.111582  0.332233  0.287640  0.572603\n",
              "3 40 days  0.027583  0.166080  0.112125  0.333017  0.289287  0.563014\n",
              "4 41 days  0.029102  0.170594  0.114945  0.339432  0.297287  0.553425"
            ]
          },
          "metadata": {
            "tags": []
          },
          "execution_count": 36
        }
      ]
    },
    {
      "cell_type": "code",
      "metadata": {
        "colab": {
          "base_uri": "https://localhost:8080/",
          "height": 388
        },
        "id": "F6DqjgKkfMSG",
        "outputId": "49daab5b-87c8-4226-a93f-236e8ccfeb06"
      },
      "source": [
        "from fbprophet.plot import plot_cross_validation_metric\n",
        "fig = plot_cross_validation_metric(df_cv, metric='rmse')\n"
      ],
      "execution_count": 37,
      "outputs": [
        {
          "output_type": "display_data",
          "data": {
            "image/png": "[encoded data removed]",
            "text/plain": [
              "<Figure size 720x432 with 1 Axes>"
            ]
          },
          "metadata": {
            "tags": []
          }
        }
      ]
    },
    {
      "cell_type": "code",
      "metadata": {
        "id": "R2ITq0NifRB5"
      },
      "source": [
        "import matplotlib.pyplot as plt"
      ],
      "execution_count": 38,
      "outputs": []
    },
    {
      "cell_type": "code",
      "metadata": {
        "colab": {
          "base_uri": "https://localhost:8080/",
          "height": 282
        },
        "id": "4MNR86z6fypw",
        "outputId": "f0b3a796-bf36-4ee8-bfbc-c431f23432d9"
      },
      "source": [
        "plt.plot(df.iloc[:,1])"
      ],
      "execution_count": 39,
      "outputs": [
        {
          "output_type": "execute_result",
          "data": {
            "text/plain": [
              "[<matplotlib.lines.Line2D at 0x7f39daaf54d0>]"
            ]
          },
          "metadata": {
            "tags": []
          },
          "execution_count": 39
        },
        {
          "output_type": "display_data",
          "data": {
            "image/png": "[encoded data removed]",
            "text/plain": [
              "<Figure size 432x288 with 1 Axes>"
            ]
          },
          "metadata": {
            "tags": [],
            "needs_background": "light"
          }
        }
      ]
    },
    {
      "cell_type": "code",
      "metadata": {
        "id": "4x6YDFKRf3hS"
      },
      "source": [
        "from sklearn.preprocessing import MinMaxScaler"
      ],
      "execution_count": 40,
      "outputs": []
    },
    {
      "cell_type": "code",
      "metadata": {
        "colab": {
          "base_uri": "https://localhost:8080/"
        },
        "id": "B3eWky3xf7NY",
        "outputId": "5fb0e0bc-21e4-4cc6-b877-d443f84942f8"
      },
      "source": [
        "df.iloc[:,1]"
      ],
      "execution_count": 41,
      "outputs": [
        {
          "output_type": "execute_result",
          "data": {
            "text/plain": [
              "0      0.249528\n",
              "1      0.216400\n",
              "2      0.183814\n",
              "3      0.219282\n",
              "4      0.165831\n",
              "         ...   \n",
              "482    0.419630\n",
              "483    0.432996\n",
              "484    0.326811\n",
              "485    0.509970\n",
              "486    0.422551\n",
              "Name: y, Length: 487, dtype: float64"
            ]
          },
          "metadata": {
            "tags": []
          },
          "execution_count": 41
        }
      ]
    },
    {
      "cell_type": "code",
      "metadata": {
        "id": "QHJIYFpLf9mF"
      },
      "source": [
        "scaler=MinMaxScaler(feature_range=(0,1))\n",
        "df=scaler.fit_transform(df.iloc[:,1:])"
      ],
      "execution_count": 42,
      "outputs": []
    },
    {
      "cell_type": "code",
      "metadata": {
        "colab": {
          "base_uri": "https://localhost:8080/"
        },
        "id": "FHHKbe8ZgB8x",
        "outputId": "e395876a-27ac-4cfb-e65a-b36e87b8f59e"
      },
      "source": [
        "df.shape"
      ],
      "execution_count": 43,
      "outputs": [
        {
          "output_type": "execute_result",
          "data": {
            "text/plain": [
              "(487, 1)"
            ]
          },
          "metadata": {
            "tags": []
          },
          "execution_count": 43
        }
      ]
    },
    {
      "cell_type": "code",
      "metadata": {
        "colab": {
          "base_uri": "https://localhost:8080/"
        },
        "id": "vMeGEKmFgEPH",
        "outputId": "4229ee32-633b-498f-c841-2026a1ef8495"
      },
      "source": [
        "df"
      ],
      "execution_count": 44,
      "outputs": [
        {
          "output_type": "execute_result",
          "data": {
            "text/plain": [
              "array([[0.09727633],\n",
              "       [0.07520334],\n",
              "       [0.05349187],\n",
              "       [0.07712375],\n",
              "       [0.0415101 ],\n",
              "       [0.1366537 ],\n",
              "       [0.20212597],\n",
              "       [0.12544482],\n",
              "       [0.07755545],\n",
              "       [0.08915552],\n",
              "       [0.1071943 ],\n",
              "       [0.11580438],\n",
              "       [0.09609265],\n",
              "       [0.10254232],\n",
              "       [0.27535308],\n",
              "       [0.07705351],\n",
              "       [0.10815872],\n",
              "       [0.10815872],\n",
              "       [0.09936133],\n",
              "       [0.12399653],\n",
              "       [0.18454926],\n",
              "       [0.17326264],\n",
              "       [0.12057512],\n",
              "       [0.10077749],\n",
              "       [0.10073516],\n",
              "       [0.17755309],\n",
              "       [0.07869256],\n",
              "       [0.11629563],\n",
              "       [0.10009383],\n",
              "       [0.08647194],\n",
              "       [0.06686876],\n",
              "       [0.12252361],\n",
              "       [0.05641125],\n",
              "       [0.12850713],\n",
              "       [0.11543808],\n",
              "       [0.12846973],\n",
              "       [0.12951479],\n",
              "       [0.09019103],\n",
              "       [0.08581482],\n",
              "       [0.06918995],\n",
              "       [0.08511031],\n",
              "       [0.07524431],\n",
              "       [0.29145217],\n",
              "       [0.05776335],\n",
              "       [0.05886534],\n",
              "       [0.05886534],\n",
              "       [0.1228642 ],\n",
              "       [0.1109169 ],\n",
              "       [0.06238051],\n",
              "       [0.06379178],\n",
              "       [0.0781844 ],\n",
              "       [0.09674619],\n",
              "       [0.10021117],\n",
              "       [0.07568704],\n",
              "       [0.09060903],\n",
              "       [0.15979828],\n",
              "       [0.19739811],\n",
              "       [0.24280991],\n",
              "       [0.22020399],\n",
              "       [0.14662642],\n",
              "       [0.09911541],\n",
              "       [0.1082844 ],\n",
              "       [0.11406999],\n",
              "       [0.1504195 ],\n",
              "       [0.15401621],\n",
              "       [0.19695825],\n",
              "       [0.20367557],\n",
              "       [0.10213599],\n",
              "       [0.20252497],\n",
              "       [0.19580921],\n",
              "       [0.22200523],\n",
              "       [0.21330926],\n",
              "       [0.26776983],\n",
              "       [0.09655297],\n",
              "       [0.14438558],\n",
              "       [0.09215124],\n",
              "       [0.230984  ],\n",
              "       [0.12888318],\n",
              "       [0.17717318],\n",
              "       [0.18161872],\n",
              "       [0.20359639],\n",
              "       [0.21225465],\n",
              "       [0.53689411],\n",
              "       [0.20453432],\n",
              "       [0.24409758],\n",
              "       [0.12520279],\n",
              "       [0.13481574],\n",
              "       [0.10341338],\n",
              "       [0.1040019 ],\n",
              "       [0.0844773 ],\n",
              "       [0.08945112],\n",
              "       [0.14591878],\n",
              "       [0.12412498],\n",
              "       [0.08048443],\n",
              "       [0.09546453],\n",
              "       [0.13933521],\n",
              "       [0.13933521],\n",
              "       [0.09331862],\n",
              "       [0.10077155],\n",
              "       [0.08801541],\n",
              "       [0.21205147],\n",
              "       [0.20347587],\n",
              "       [0.18470275],\n",
              "       [0.13659812],\n",
              "       [0.40405443],\n",
              "       [0.1590856 ],\n",
              "       [0.18270548],\n",
              "       [0.12946528],\n",
              "       [0.16791673],\n",
              "       [0.42736803],\n",
              "       [0.17261293],\n",
              "       [0.10033334],\n",
              "       [0.04958265],\n",
              "       [0.07329039],\n",
              "       [0.06214027],\n",
              "       [0.16850028],\n",
              "       [0.09516449],\n",
              "       [0.15851134],\n",
              "       [0.19383864],\n",
              "       [0.09937098],\n",
              "       [0.09791833],\n",
              "       [0.21953926],\n",
              "       [0.12535498],\n",
              "       [0.45574473],\n",
              "       [0.26783727],\n",
              "       [0.1112042 ],\n",
              "       [0.07532097],\n",
              "       [0.10837433],\n",
              "       [0.15874126],\n",
              "       [0.11557074],\n",
              "       [0.18580649],\n",
              "       [0.14166075],\n",
              "       [0.15294342],\n",
              "       [0.23335011],\n",
              "       [0.12513245],\n",
              "       [0.17058224],\n",
              "       [0.09513916],\n",
              "       [0.10749468],\n",
              "       [0.08102566],\n",
              "       [0.15062787],\n",
              "       [0.13261735],\n",
              "       [0.26557604],\n",
              "       [0.20094151],\n",
              "       [1.        ],\n",
              "       [0.12004246],\n",
              "       [0.12032251],\n",
              "       [0.1151661 ],\n",
              "       [0.07592562],\n",
              "       [0.07592562],\n",
              "       [0.11338038],\n",
              "       [0.1231688 ],\n",
              "       [0.12874283],\n",
              "       [0.16043462],\n",
              "       [0.19867674],\n",
              "       [0.13491572],\n",
              "       [0.08915728],\n",
              "       [0.19673854],\n",
              "       [0.18324803],\n",
              "       [0.12379599],\n",
              "       [0.06361855],\n",
              "       [0.09479072],\n",
              "       [0.17993059],\n",
              "       [0.07320274],\n",
              "       [0.06079349],\n",
              "       [0.0870223 ],\n",
              "       [0.05718815],\n",
              "       [0.05794918],\n",
              "       [0.10197653],\n",
              "       [0.08775414],\n",
              "       [0.032884  ],\n",
              "       [0.05187226],\n",
              "       [0.0459666 ],\n",
              "       [0.07490154],\n",
              "       [0.07535355],\n",
              "       [0.09433188],\n",
              "       [0.05663409],\n",
              "       [0.08958239],\n",
              "       [0.08621589],\n",
              "       [0.29475378],\n",
              "       [0.05166564],\n",
              "       [0.05074698],\n",
              "       [0.        ],\n",
              "       [0.09243429],\n",
              "       [0.26377952],\n",
              "       [0.06842788],\n",
              "       [0.12184244],\n",
              "       [0.06483503],\n",
              "       [0.07013369],\n",
              "       [0.07534642],\n",
              "       [0.10012558],\n",
              "       [0.11959493],\n",
              "       [0.06101761],\n",
              "       [0.04999601],\n",
              "       [0.04776991],\n",
              "       [0.06777998],\n",
              "       [0.50758677],\n",
              "       [0.26704254],\n",
              "       [0.16634669],\n",
              "       [0.09262237],\n",
              "       [0.44226981],\n",
              "       [0.44226981],\n",
              "       [0.06293668],\n",
              "       [0.05290975],\n",
              "       [0.39059998],\n",
              "       [0.03938516],\n",
              "       [0.14148664],\n",
              "       [0.04331142],\n",
              "       [0.09069451],\n",
              "       [0.40102385],\n",
              "       [0.09646995],\n",
              "       [0.18523054],\n",
              "       [0.05594859],\n",
              "       [0.1693525 ],\n",
              "       [0.09322891],\n",
              "       [0.09982727],\n",
              "       [0.08753942],\n",
              "       [0.09179474],\n",
              "       [0.07989246],\n",
              "       [0.08494905],\n",
              "       [0.09975763],\n",
              "       [0.06651087],\n",
              "       [0.08974797],\n",
              "       [0.05688272],\n",
              "       [0.13331681],\n",
              "       [0.10120143],\n",
              "       [0.08058685],\n",
              "       [0.10155548],\n",
              "       [0.09209055],\n",
              "       [0.08273825],\n",
              "       [0.08615628],\n",
              "       [0.07438265],\n",
              "       [0.08102793],\n",
              "       [0.1066231 ],\n",
              "       [0.07104732],\n",
              "       [0.08433157],\n",
              "       [0.05550217],\n",
              "       [0.12104309],\n",
              "       [0.04928059],\n",
              "       [0.0699438 ],\n",
              "       [0.11055118],\n",
              "       [0.12925694],\n",
              "       [0.07364541],\n",
              "       [0.06582014],\n",
              "       [0.05523514],\n",
              "       [0.11005765],\n",
              "       [0.05346289],\n",
              "       [0.07004122],\n",
              "       [0.55978536],\n",
              "       [0.08792866],\n",
              "       [0.08371376],\n",
              "       [0.10114203],\n",
              "       [0.06614123],\n",
              "       [0.06614123],\n",
              "       [0.08328088],\n",
              "       [0.17817105],\n",
              "       [0.07973269],\n",
              "       [0.05541324],\n",
              "       [0.10588179],\n",
              "       [0.17287268],\n",
              "       [0.0778704 ],\n",
              "       [0.09510627],\n",
              "       [0.08016817],\n",
              "       [0.07185503],\n",
              "       [0.08455284],\n",
              "       [0.10739054],\n",
              "       [0.08243388],\n",
              "       [0.23084437],\n",
              "       [0.09585219],\n",
              "       [0.11622612],\n",
              "       [0.08519579],\n",
              "       [0.07702598],\n",
              "       [0.1197678 ],\n",
              "       [0.04556069],\n",
              "       [0.09849239],\n",
              "       [0.06795993],\n",
              "       [0.15990294],\n",
              "       [0.1053661 ],\n",
              "       [0.0713742 ],\n",
              "       [0.07278925],\n",
              "       [0.09062018],\n",
              "       [0.09645704],\n",
              "       [0.10353704],\n",
              "       [0.1003127 ],\n",
              "       [0.08543847],\n",
              "       [0.11183115],\n",
              "       [0.11442122],\n",
              "       [0.06925445],\n",
              "       [0.07556949],\n",
              "       [0.09120572],\n",
              "       [0.04114565],\n",
              "       [0.0995689 ],\n",
              "       [0.08205741],\n",
              "       [0.14754564],\n",
              "       [0.10930791],\n",
              "       [0.05156926],\n",
              "       [0.07626127],\n",
              "       [0.08573233],\n",
              "       [0.06125205],\n",
              "       [0.06844752],\n",
              "       [0.09817003],\n",
              "       [0.1131531 ],\n",
              "       [0.09114093],\n",
              "       [0.09353752],\n",
              "       [0.07990323],\n",
              "       [0.07990323],\n",
              "       [0.12986281],\n",
              "       [0.21853518],\n",
              "       [0.12839361],\n",
              "       [0.07102026],\n",
              "       [0.11864057],\n",
              "       [0.15493569],\n",
              "       [0.13834138],\n",
              "       [0.12030612],\n",
              "       [0.10211632],\n",
              "       [0.14474718],\n",
              "       [0.20874393],\n",
              "       [0.07894387],\n",
              "       [0.1163725 ],\n",
              "       [0.09825849],\n",
              "       [0.06977582],\n",
              "       [0.14439435],\n",
              "       [0.07609541],\n",
              "       [0.06719289],\n",
              "       [0.07294062],\n",
              "       [0.06603163],\n",
              "       [0.09917922],\n",
              "       [0.06847299],\n",
              "       [0.07505228],\n",
              "       [0.06447455],\n",
              "       [0.23763823],\n",
              "       [0.10181466],\n",
              "       [0.07608183],\n",
              "       [0.08482456],\n",
              "       [0.08975642],\n",
              "       [0.03775711],\n",
              "       [0.06662991],\n",
              "       [0.0922925 ],\n",
              "       [0.06710768],\n",
              "       [0.06951805],\n",
              "       [0.08948363],\n",
              "       [0.07139332],\n",
              "       [0.03809202],\n",
              "       [0.06662852],\n",
              "       [0.12479968],\n",
              "       [0.08693559],\n",
              "       [0.10375659],\n",
              "       [0.03953273],\n",
              "       [0.08310719],\n",
              "       [0.0844773 ],\n",
              "       [0.08945112],\n",
              "       [0.14591878],\n",
              "       [0.12412498],\n",
              "       [0.08048443],\n",
              "       [0.09546453],\n",
              "       [0.13933521],\n",
              "       [0.13933521],\n",
              "       [0.09331862],\n",
              "       [0.10077155],\n",
              "       [0.08801541],\n",
              "       [0.07862215],\n",
              "       [0.09498157],\n",
              "       [0.1391488 ],\n",
              "       [0.06937396],\n",
              "       [0.09648512],\n",
              "       [0.09850117],\n",
              "       [0.07369657],\n",
              "       [0.12261574],\n",
              "       [0.08180337],\n",
              "       [0.1659637 ],\n",
              "       [0.10692027],\n",
              "       [0.09795009],\n",
              "       [0.08974653],\n",
              "       [0.07567327],\n",
              "       [0.11201776],\n",
              "       [0.08103464],\n",
              "       [0.11142306],\n",
              "       [0.09834655],\n",
              "       [0.07300809],\n",
              "       [0.09483822],\n",
              "       [0.11160176],\n",
              "       [0.12136731],\n",
              "       [0.16295224],\n",
              "       [0.11737963],\n",
              "       [0.1068382 ],\n",
              "       [0.06126844],\n",
              "       [0.09595747],\n",
              "       [0.16245647],\n",
              "       [0.07488232],\n",
              "       [0.09626074],\n",
              "       [0.09574904],\n",
              "       [0.09420366],\n",
              "       [0.09884961],\n",
              "       [0.12059202],\n",
              "       [0.15238925],\n",
              "       [0.11255349],\n",
              "       [0.14320626],\n",
              "       [0.11578028],\n",
              "       [0.10331139],\n",
              "       [0.08110757],\n",
              "       [0.09647611],\n",
              "       [0.10556863],\n",
              "       [0.05221958],\n",
              "       [0.13322107],\n",
              "       [0.11752305],\n",
              "       [0.08016353],\n",
              "       [0.09650384],\n",
              "       [0.26053807],\n",
              "       [0.26053807],\n",
              "       [0.09801667],\n",
              "       [0.12868548],\n",
              "       [0.09132527],\n",
              "       [0.60756765],\n",
              "       [0.14889015],\n",
              "       [0.52473732],\n",
              "       [0.27627272],\n",
              "       [0.15747258],\n",
              "       [0.11782557],\n",
              "       [0.13467705],\n",
              "       [0.05550217],\n",
              "       [0.12104309],\n",
              "       [0.04928059],\n",
              "       [0.0699438 ],\n",
              "       [0.11055118],\n",
              "       [0.12925694],\n",
              "       [0.07364541],\n",
              "       [0.06582014],\n",
              "       [0.05523514],\n",
              "       [0.11005765],\n",
              "       [0.20837744],\n",
              "       [0.29289678],\n",
              "       [0.25527264],\n",
              "       [0.18658753],\n",
              "       [0.31200549],\n",
              "       [0.21315511],\n",
              "       [0.28241659],\n",
              "       [0.22602438],\n",
              "       [0.25066484],\n",
              "       [0.09727633],\n",
              "       [0.07520334],\n",
              "       [0.05349187],\n",
              "       [0.07712375],\n",
              "       [0.0415101 ],\n",
              "       [0.1366537 ],\n",
              "       [0.20212597],\n",
              "       [0.12544482],\n",
              "       [0.07755545],\n",
              "       [0.08915552],\n",
              "       [0.10568214],\n",
              "       [0.12970199],\n",
              "       [0.10556215],\n",
              "       [0.31513549],\n",
              "       [0.06543871],\n",
              "       [0.09297217],\n",
              "       [0.21368634],\n",
              "       [0.13780401],\n",
              "       [0.10289462],\n",
              "       [0.11515838],\n",
              "       [0.10135732],\n",
              "       [0.09716411],\n",
              "       [0.08882367],\n",
              "       [0.1302728 ],\n",
              "       [0.08140963],\n",
              "       [0.13313273],\n",
              "       [0.12904971],\n",
              "       [0.07324057],\n",
              "       [0.05840998],\n",
              "       [0.121734  ],\n",
              "       [0.10085843],\n",
              "       [0.08006298],\n",
              "       [0.17489084],\n",
              "       [0.13538841],\n",
              "       [0.14083191],\n",
              "       [0.0776051 ],\n",
              "       [0.07681646],\n",
              "       [0.09274463],\n",
              "       [0.07949035],\n",
              "       [0.07259802],\n",
              "       [0.24851411],\n",
              "       [0.25174718],\n",
              "       [0.26963149],\n",
              "       [0.18506744],\n",
              "       [0.22991502],\n",
              "       [0.21061434],\n",
              "       [0.21951985],\n",
              "       [0.14876932],\n",
              "       [0.27080662],\n",
              "       [0.21256013]])"
            ]
          },
          "metadata": {
            "tags": []
          },
          "execution_count": 44
        }
      ]
    },
    {
      "cell_type": "code",
      "metadata": {
        "id": "00fm21K0gG61"
      },
      "source": [
        "##splitting dataset into train and test split\n",
        "training_size=int(len(df)*0.65)"
      ],
      "execution_count": 45,
      "outputs": []
    },
    {
      "cell_type": "code",
      "metadata": {
        "colab": {
          "base_uri": "https://localhost:8080/"
        },
        "id": "x0jXv1NVgMGH",
        "outputId": "aa2d9e1b-b235-4045-cb13-7561a23cbc1f"
      },
      "source": [
        "training_size"
      ],
      "execution_count": 46,
      "outputs": [
        {
          "output_type": "execute_result",
          "data": {
            "text/plain": [
              "316"
            ]
          },
          "metadata": {
            "tags": []
          },
          "execution_count": 46
        }
      ]
    },
    {
      "cell_type": "code",
      "metadata": {
        "id": "rnHc674ugOkk"
      },
      "source": [
        "test_size=len(df)-training_size"
      ],
      "execution_count": 47,
      "outputs": []
    },
    {
      "cell_type": "code",
      "metadata": {
        "colab": {
          "base_uri": "https://localhost:8080/"
        },
        "id": "E_p__5VqgRX3",
        "outputId": "9564dbd2-1aaa-4741-b71e-bf3f351d7146"
      },
      "source": [
        "test_size"
      ],
      "execution_count": 48,
      "outputs": [
        {
          "output_type": "execute_result",
          "data": {
            "text/plain": [
              "171"
            ]
          },
          "metadata": {
            "tags": []
          },
          "execution_count": 48
        }
      ]
    },
    {
      "cell_type": "code",
      "metadata": {
        "id": "s-vk6CyHgTig"
      },
      "source": [
        "train_data,test_data=df[0:training_size,:],df[training_size:len(df),:1]"
      ],
      "execution_count": 49,
      "outputs": []
    },
    {
      "cell_type": "code",
      "metadata": {
        "colab": {
          "base_uri": "https://localhost:8080/"
        },
        "id": "eSZyAaVBgWBp",
        "outputId": "1429003d-148d-4df0-a01e-66f2dc4f9c7a"
      },
      "source": [
        "test_data"
      ],
      "execution_count": 50,
      "outputs": [
        {
          "output_type": "execute_result",
          "data": {
            "text/plain": [
              "array([[0.07894387],\n",
              "       [0.1163725 ],\n",
              "       [0.09825849],\n",
              "       [0.06977582],\n",
              "       [0.14439435],\n",
              "       [0.07609541],\n",
              "       [0.06719289],\n",
              "       [0.07294062],\n",
              "       [0.06603163],\n",
              "       [0.09917922],\n",
              "       [0.06847299],\n",
              "       [0.07505228],\n",
              "       [0.06447455],\n",
              "       [0.23763823],\n",
              "       [0.10181466],\n",
              "       [0.07608183],\n",
              "       [0.08482456],\n",
              "       [0.08975642],\n",
              "       [0.03775711],\n",
              "       [0.06662991],\n",
              "       [0.0922925 ],\n",
              "       [0.06710768],\n",
              "       [0.06951805],\n",
              "       [0.08948363],\n",
              "       [0.07139332],\n",
              "       [0.03809202],\n",
              "       [0.06662852],\n",
              "       [0.12479968],\n",
              "       [0.08693559],\n",
              "       [0.10375659],\n",
              "       [0.03953273],\n",
              "       [0.08310719],\n",
              "       [0.0844773 ],\n",
              "       [0.08945112],\n",
              "       [0.14591878],\n",
              "       [0.12412498],\n",
              "       [0.08048443],\n",
              "       [0.09546453],\n",
              "       [0.13933521],\n",
              "       [0.13933521],\n",
              "       [0.09331862],\n",
              "       [0.10077155],\n",
              "       [0.08801541],\n",
              "       [0.07862215],\n",
              "       [0.09498157],\n",
              "       [0.1391488 ],\n",
              "       [0.06937396],\n",
              "       [0.09648512],\n",
              "       [0.09850117],\n",
              "       [0.07369657],\n",
              "       [0.12261574],\n",
              "       [0.08180337],\n",
              "       [0.1659637 ],\n",
              "       [0.10692027],\n",
              "       [0.09795009],\n",
              "       [0.08974653],\n",
              "       [0.07567327],\n",
              "       [0.11201776],\n",
              "       [0.08103464],\n",
              "       [0.11142306],\n",
              "       [0.09834655],\n",
              "       [0.07300809],\n",
              "       [0.09483822],\n",
              "       [0.11160176],\n",
              "       [0.12136731],\n",
              "       [0.16295224],\n",
              "       [0.11737963],\n",
              "       [0.1068382 ],\n",
              "       [0.06126844],\n",
              "       [0.09595747],\n",
              "       [0.16245647],\n",
              "       [0.07488232],\n",
              "       [0.09626074],\n",
              "       [0.09574904],\n",
              "       [0.09420366],\n",
              "       [0.09884961],\n",
              "       [0.12059202],\n",
              "       [0.15238925],\n",
              "       [0.11255349],\n",
              "       [0.14320626],\n",
              "       [0.11578028],\n",
              "       [0.10331139],\n",
              "       [0.08110757],\n",
              "       [0.09647611],\n",
              "       [0.10556863],\n",
              "       [0.05221958],\n",
              "       [0.13322107],\n",
              "       [0.11752305],\n",
              "       [0.08016353],\n",
              "       [0.09650384],\n",
              "       [0.26053807],\n",
              "       [0.26053807],\n",
              "       [0.09801667],\n",
              "       [0.12868548],\n",
              "       [0.09132527],\n",
              "       [0.60756765],\n",
              "       [0.14889015],\n",
              "       [0.52473732],\n",
              "       [0.27627272],\n",
              "       [0.15747258],\n",
              "       [0.11782557],\n",
              "       [0.13467705],\n",
              "       [0.05550217],\n",
              "       [0.12104309],\n",
              "       [0.04928059],\n",
              "       [0.0699438 ],\n",
              "       [0.11055118],\n",
              "       [0.12925694],\n",
              "       [0.07364541],\n",
              "       [0.06582014],\n",
              "       [0.05523514],\n",
              "       [0.11005765],\n",
              "       [0.20837744],\n",
              "       [0.29289678],\n",
              "       [0.25527264],\n",
              "       [0.18658753],\n",
              "       [0.31200549],\n",
              "       [0.21315511],\n",
              "       [0.28241659],\n",
              "       [0.22602438],\n",
              "       [0.25066484],\n",
              "       [0.09727633],\n",
              "       [0.07520334],\n",
              "       [0.05349187],\n",
              "       [0.07712375],\n",
              "       [0.0415101 ],\n",
              "       [0.1366537 ],\n",
              "       [0.20212597],\n",
              "       [0.12544482],\n",
              "       [0.07755545],\n",
              "       [0.08915552],\n",
              "       [0.10568214],\n",
              "       [0.12970199],\n",
              "       [0.10556215],\n",
              "       [0.31513549],\n",
              "       [0.06543871],\n",
              "       [0.09297217],\n",
              "       [0.21368634],\n",
              "       [0.13780401],\n",
              "       [0.10289462],\n",
              "       [0.11515838],\n",
              "       [0.10135732],\n",
              "       [0.09716411],\n",
              "       [0.08882367],\n",
              "       [0.1302728 ],\n",
              "       [0.08140963],\n",
              "       [0.13313273],\n",
              "       [0.12904971],\n",
              "       [0.07324057],\n",
              "       [0.05840998],\n",
              "       [0.121734  ],\n",
              "       [0.10085843],\n",
              "       [0.08006298],\n",
              "       [0.17489084],\n",
              "       [0.13538841],\n",
              "       [0.14083191],\n",
              "       [0.0776051 ],\n",
              "       [0.07681646],\n",
              "       [0.09274463],\n",
              "       [0.07949035],\n",
              "       [0.07259802],\n",
              "       [0.24851411],\n",
              "       [0.25174718],\n",
              "       [0.26963149],\n",
              "       [0.18506744],\n",
              "       [0.22991502],\n",
              "       [0.21061434],\n",
              "       [0.21951985],\n",
              "       [0.14876932],\n",
              "       [0.27080662],\n",
              "       [0.21256013]])"
            ]
          },
          "metadata": {
            "tags": []
          },
          "execution_count": 50
        }
      ]
    },
    {
      "cell_type": "code",
      "metadata": {
        "id": "295-7VsCgY6w"
      },
      "source": [
        "import numpy\n",
        "# convert an array of values into a dataset matrix\n",
        "def create_dataset(dataset, time_step=1):\n",
        "\tdataX, dataY = [], []\n",
        "\tfor i in range(len(dataset)-time_step-1):\n",
        "\t\ta = dataset[i:(i+time_step), 0]   ###i=0, 0,1,2,3\n",
        "\t\tdataX.append(a)\n",
        "\t\tdataY.append(dataset[i + time_step, 0])\n",
        "\treturn numpy.array(dataX), numpy.array(dataY)"
      ],
      "execution_count": 51,
      "outputs": []
    },
    {
      "cell_type": "code",
      "metadata": {
        "id": "yos4BstJgcol"
      },
      "source": [
        "# reshape into X=t,t+1,t+2,t+3 and Y=t+4\n",
        "time_step = 4\n",
        "X_train, y_train = create_dataset(train_data, time_step)\n",
        "X_test, ytest = create_dataset(test_data, time_step)"
      ],
      "execution_count": 52,
      "outputs": []
    },
    {
      "cell_type": "code",
      "metadata": {
        "colab": {
          "base_uri": "https://localhost:8080/"
        },
        "id": "fybCXVUIgfrz",
        "outputId": "b0996184-44d3-489c-90ec-21b1a1dad154"
      },
      "source": [
        "X_train.shape, y_train.shape"
      ],
      "execution_count": 53,
      "outputs": [
        {
          "output_type": "execute_result",
          "data": {
            "text/plain": [
              "((311, 4), (311,))"
            ]
          },
          "metadata": {
            "tags": []
          },
          "execution_count": 53
        }
      ]
    },
    {
      "cell_type": "code",
      "metadata": {
        "id": "X-s6ZsJCgiLY"
      },
      "source": [
        "import numpy as np\n",
        "# reshape input to be [samples, time steps, features] which is required for LSTM\n",
        "X_train =X_train.reshape(X_train.shape[0], 4, 1)\n",
        "X_test = X_test.reshape(X_test.shape[0], 4, 1)"
      ],
      "execution_count": 54,
      "outputs": []
    },
    {
      "cell_type": "code",
      "metadata": {
        "colab": {
          "base_uri": "https://localhost:8080/"
        },
        "id": "O69-F9EmglbB",
        "outputId": "14e4dabe-cfaa-443e-c7eb-1c1b607aaeda"
      },
      "source": [
        "X_train.shape"
      ],
      "execution_count": 55,
      "outputs": [
        {
          "output_type": "execute_result",
          "data": {
            "text/plain": [
              "(311, 4, 1)"
            ]
          },
          "metadata": {
            "tags": []
          },
          "execution_count": 55
        }
      ]
    },
    {
      "cell_type": "code",
      "metadata": {
        "id": "EPOuIX11gnvM"
      },
      "source": [
        "### Create the LSTM model\n",
        "from tensorflow.keras.models import Sequential\n",
        "from tensorflow.keras.layers import Dense\n",
        "from tensorflow.keras.layers import LSTM"
      ],
      "execution_count": 56,
      "outputs": []
    },
    {
      "cell_type": "code",
      "metadata": {
        "colab": {
          "base_uri": "https://localhost:8080/"
        },
        "id": "ojfnSDCXgqiE",
        "outputId": "df8419a8-00b7-4073-bf52-3a7683c63303"
      },
      "source": [
        "model=Sequential()\n",
        "model.add(LSTM(50,return_sequences=True,input_shape=(4,1)))\n",
        "model.add(LSTM(50))\n",
        "model.add(Dense(1))\n",
        "model.compile(loss='mean_squared_error',optimizer='adam')\n",
        "model.fit(X_train,y_train,validation_data=(X_test,ytest),epochs=100,batch_size=1,verbose=1)"
      ],
      "execution_count": 57,
      "outputs": [
        {
          "output_type": "stream",
          "text": [
            "Epoch 1/100\n",
            "311/311 [==============================] - 4s 6ms/step - loss: 0.0095 - val_loss: 0.0063\n",
            "Epoch 2/100\n",
            "311/311 [==============================] - 1s 3ms/step - loss: 0.0091 - val_loss: 0.0055\n",
            "Epoch 3/100\n",
            "311/311 [==============================] - 1s 4ms/step - loss: 0.0089 - val_loss: 0.0057\n",
            "Epoch 4/100\n",
            "311/311 [==============================] - 1s 4ms/step - loss: 0.0091 - val_loss: 0.0055\n",
            "Epoch 5/100\n",
            "311/311 [==============================] - 1s 4ms/step - loss: 0.0088 - val_loss: 0.0053\n",
            "Epoch 6/100\n",
            "311/311 [==============================] - 1s 3ms/step - loss: 0.0089 - val_loss: 0.0055\n",
            "Epoch 7/100\n",
            "311/311 [==============================] - 1s 3ms/step - loss: 0.0090 - val_loss: 0.0054\n",
            "Epoch 8/100\n",
            "311/311 [==============================] - 1s 4ms/step - loss: 0.0090 - val_loss: 0.0056\n",
            "Epoch 9/100\n",
            "311/311 [==============================] - 1s 3ms/step - loss: 0.0089 - val_loss: 0.0052\n",
            "Epoch 10/100\n",
            "311/311 [==============================] - 1s 4ms/step - loss: 0.0087 - val_loss: 0.0055\n",
            "Epoch 11/100\n",
            "311/311 [==============================] - 1s 4ms/step - loss: 0.0088 - val_loss: 0.0060\n",
            "Epoch 12/100\n",
            "311/311 [==============================] - 1s 4ms/step - loss: 0.0087 - val_loss: 0.0051\n",
            "Epoch 13/100\n",
            "311/311 [==============================] - 1s 3ms/step - loss: 0.0088 - val_loss: 0.0053\n",
            "Epoch 14/100\n",
            "311/311 [==============================] - 1s 3ms/step - loss: 0.0087 - val_loss: 0.0055\n",
            "Epoch 15/100\n",
            "311/311 [==============================] - 1s 3ms/step - loss: 0.0087 - val_loss: 0.0051\n",
            "Epoch 16/100\n",
            "311/311 [==============================] - 1s 3ms/step - loss: 0.0087 - val_loss: 0.0052\n",
            "Epoch 17/100\n",
            "311/311 [==============================] - 1s 4ms/step - loss: 0.0087 - val_loss: 0.0053\n",
            "Epoch 18/100\n",
            "311/311 [==============================] - 1s 4ms/step - loss: 0.0088 - val_loss: 0.0052\n",
            "Epoch 19/100\n",
            "311/311 [==============================] - 1s 4ms/step - loss: 0.0087 - val_loss: 0.0055\n",
            "Epoch 20/100\n",
            "311/311 [==============================] - 1s 4ms/step - loss: 0.0087 - val_loss: 0.0053\n",
            "Epoch 21/100\n",
            "311/311 [==============================] - 1s 4ms/step - loss: 0.0086 - val_loss: 0.0054\n",
            "Epoch 22/100\n",
            "311/311 [==============================] - 1s 4ms/step - loss: 0.0089 - val_loss: 0.0055\n",
            "Epoch 23/100\n",
            "311/311 [==============================] - 1s 4ms/step - loss: 0.0087 - val_loss: 0.0052\n",
            "Epoch 24/100\n",
            "311/311 [==============================] - 1s 4ms/step - loss: 0.0087 - val_loss: 0.0055\n",
            "Epoch 25/100\n",
            "311/311 [==============================] - 1s 4ms/step - loss: 0.0087 - val_loss: 0.0053\n",
            "Epoch 26/100\n",
            "311/311 [==============================] - 1s 4ms/step - loss: 0.0086 - val_loss: 0.0052\n",
            "Epoch 27/100\n",
            "311/311 [==============================] - 1s 4ms/step - loss: 0.0086 - val_loss: 0.0051\n",
            "Epoch 28/100\n",
            "311/311 [==============================] - 1s 4ms/step - loss: 0.0086 - val_loss: 0.0051\n",
            "Epoch 29/100\n",
            "311/311 [==============================] - 1s 4ms/step - loss: 0.0087 - val_loss: 0.0052\n",
            "Epoch 30/100\n",
            "311/311 [==============================] - 1s 4ms/step - loss: 0.0085 - val_loss: 0.0052\n",
            "Epoch 31/100\n",
            "311/311 [==============================] - 1s 4ms/step - loss: 0.0086 - val_loss: 0.0052\n",
            "Epoch 32/100\n",
            "311/311 [==============================] - 1s 4ms/step - loss: 0.0086 - val_loss: 0.0051\n",
            "Epoch 33/100\n",
            "311/311 [==============================] - 1s 4ms/step - loss: 0.0085 - val_loss: 0.0052\n",
            "Epoch 34/100\n",
            "311/311 [==============================] - 1s 4ms/step - loss: 0.0085 - val_loss: 0.0052\n",
            "Epoch 35/100\n",
            "311/311 [==============================] - 1s 4ms/step - loss: 0.0085 - val_loss: 0.0052\n",
            "Epoch 36/100\n",
            "311/311 [==============================] - 1s 4ms/step - loss: 0.0084 - val_loss: 0.0058\n",
            "Epoch 37/100\n",
            "311/311 [==============================] - 1s 4ms/step - loss: 0.0085 - val_loss: 0.0051\n",
            "Epoch 38/100\n",
            "311/311 [==============================] - 1s 4ms/step - loss: 0.0085 - val_loss: 0.0057\n",
            "Epoch 39/100\n",
            "311/311 [==============================] - 1s 4ms/step - loss: 0.0085 - val_loss: 0.0052\n",
            "Epoch 40/100\n",
            "311/311 [==============================] - 1s 4ms/step - loss: 0.0085 - val_loss: 0.0068\n",
            "Epoch 41/100\n",
            "311/311 [==============================] - 1s 3ms/step - loss: 0.0086 - val_loss: 0.0052\n",
            "Epoch 42/100\n",
            "311/311 [==============================] - 1s 4ms/step - loss: 0.0085 - val_loss: 0.0049\n",
            "Epoch 43/100\n",
            "311/311 [==============================] - 1s 4ms/step - loss: 0.0083 - val_loss: 0.0051\n",
            "Epoch 44/100\n",
            "311/311 [==============================] - 1s 4ms/step - loss: 0.0085 - val_loss: 0.0051\n",
            "Epoch 45/100\n",
            "311/311 [==============================] - 1s 3ms/step - loss: 0.0083 - val_loss: 0.0051\n",
            "Epoch 46/100\n",
            "311/311 [==============================] - 1s 4ms/step - loss: 0.0084 - val_loss: 0.0051\n",
            "Epoch 47/100\n",
            "311/311 [==============================] - 1s 3ms/step - loss: 0.0083 - val_loss: 0.0056\n",
            "Epoch 48/100\n",
            "311/311 [==============================] - 1s 4ms/step - loss: 0.0085 - val_loss: 0.0051\n",
            "Epoch 49/100\n",
            "311/311 [==============================] - 1s 3ms/step - loss: 0.0084 - val_loss: 0.0050\n",
            "Epoch 50/100\n",
            "311/311 [==============================] - 1s 4ms/step - loss: 0.0083 - val_loss: 0.0052\n",
            "Epoch 51/100\n",
            "311/311 [==============================] - 1s 4ms/step - loss: 0.0083 - val_loss: 0.0053\n",
            "Epoch 52/100\n",
            "311/311 [==============================] - 1s 3ms/step - loss: 0.0083 - val_loss: 0.0053\n",
            "Epoch 53/100\n",
            "311/311 [==============================] - 1s 3ms/step - loss: 0.0083 - val_loss: 0.0049\n",
            "Epoch 54/100\n",
            "311/311 [==============================] - 1s 3ms/step - loss: 0.0082 - val_loss: 0.0053\n",
            "Epoch 55/100\n",
            "311/311 [==============================] - 1s 3ms/step - loss: 0.0081 - val_loss: 0.0050\n",
            "Epoch 56/100\n",
            "311/311 [==============================] - 1s 4ms/step - loss: 0.0080 - val_loss: 0.0055\n",
            "Epoch 57/100\n",
            "311/311 [==============================] - 1s 3ms/step - loss: 0.0081 - val_loss: 0.0057\n",
            "Epoch 58/100\n",
            "311/311 [==============================] - 1s 4ms/step - loss: 0.0082 - val_loss: 0.0049\n",
            "Epoch 59/100\n",
            "311/311 [==============================] - 1s 4ms/step - loss: 0.0080 - val_loss: 0.0049\n",
            "Epoch 60/100\n",
            "311/311 [==============================] - 1s 3ms/step - loss: 0.0081 - val_loss: 0.0049\n",
            "Epoch 61/100\n",
            "311/311 [==============================] - 1s 4ms/step - loss: 0.0078 - val_loss: 0.0055\n",
            "Epoch 62/100\n",
            "311/311 [==============================] - 1s 4ms/step - loss: 0.0081 - val_loss: 0.0050\n",
            "Epoch 63/100\n",
            "311/311 [==============================] - 1s 4ms/step - loss: 0.0080 - val_loss: 0.0051\n",
            "Epoch 64/100\n",
            "311/311 [==============================] - 1s 4ms/step - loss: 0.0080 - val_loss: 0.0049\n",
            "Epoch 65/100\n",
            "311/311 [==============================] - 1s 3ms/step - loss: 0.0080 - val_loss: 0.0051\n",
            "Epoch 66/100\n",
            "311/311 [==============================] - 1s 3ms/step - loss: 0.0079 - val_loss: 0.0050\n",
            "Epoch 67/100\n",
            "311/311 [==============================] - 1s 3ms/step - loss: 0.0078 - val_loss: 0.0050\n",
            "Epoch 68/100\n",
            "311/311 [==============================] - 1s 4ms/step - loss: 0.0080 - val_loss: 0.0051\n",
            "Epoch 69/100\n",
            "311/311 [==============================] - 1s 3ms/step - loss: 0.0080 - val_loss: 0.0050\n",
            "Epoch 70/100\n",
            "311/311 [==============================] - 1s 4ms/step - loss: 0.0078 - val_loss: 0.0049\n",
            "Epoch 71/100\n",
            "311/311 [==============================] - 1s 4ms/step - loss: 0.0080 - val_loss: 0.0050\n",
            "Epoch 72/100\n",
            "311/311 [==============================] - 1s 3ms/step - loss: 0.0079 - val_loss: 0.0050\n",
            "Epoch 73/100\n",
            "311/311 [==============================] - 1s 3ms/step - loss: 0.0081 - val_loss: 0.0051\n",
            "Epoch 74/100\n",
            "311/311 [==============================] - 1s 3ms/step - loss: 0.0079 - val_loss: 0.0051\n",
            "Epoch 75/100\n",
            "311/311 [==============================] - 1s 4ms/step - loss: 0.0078 - val_loss: 0.0053\n",
            "Epoch 76/100\n",
            "311/311 [==============================] - 1s 4ms/step - loss: 0.0078 - val_loss: 0.0056\n",
            "Epoch 77/100\n",
            "311/311 [==============================] - 1s 4ms/step - loss: 0.0078 - val_loss: 0.0050\n",
            "Epoch 78/100\n",
            "311/311 [==============================] - 1s 4ms/step - loss: 0.0078 - val_loss: 0.0050\n",
            "Epoch 79/100\n",
            "311/311 [==============================] - 1s 4ms/step - loss: 0.0078 - val_loss: 0.0051\n",
            "Epoch 80/100\n",
            "311/311 [==============================] - 1s 4ms/step - loss: 0.0077 - val_loss: 0.0050\n",
            "Epoch 81/100\n",
            "311/311 [==============================] - 1s 4ms/step - loss: 0.0078 - val_loss: 0.0053\n",
            "Epoch 82/100\n",
            "311/311 [==============================] - 1s 4ms/step - loss: 0.0078 - val_loss: 0.0058\n",
            "Epoch 83/100\n",
            "311/311 [==============================] - 1s 4ms/step - loss: 0.0077 - val_loss: 0.0052\n",
            "Epoch 84/100\n",
            "311/311 [==============================] - 1s 4ms/step - loss: 0.0078 - val_loss: 0.0054\n",
            "Epoch 85/100\n",
            "311/311 [==============================] - 1s 4ms/step - loss: 0.0076 - val_loss: 0.0084\n",
            "Epoch 86/100\n",
            "311/311 [==============================] - 1s 4ms/step - loss: 0.0079 - val_loss: 0.0054\n",
            "Epoch 87/100\n",
            "311/311 [==============================] - 1s 4ms/step - loss: 0.0078 - val_loss: 0.0053\n",
            "Epoch 88/100\n",
            "311/311 [==============================] - 1s 4ms/step - loss: 0.0077 - val_loss: 0.0053\n",
            "Epoch 89/100\n",
            "311/311 [==============================] - 1s 4ms/step - loss: 0.0077 - val_loss: 0.0052\n",
            "Epoch 90/100\n",
            "311/311 [==============================] - 1s 4ms/step - loss: 0.0075 - val_loss: 0.0052\n",
            "Epoch 91/100\n",
            "311/311 [==============================] - 1s 4ms/step - loss: 0.0076 - val_loss: 0.0055\n",
            "Epoch 92/100\n",
            "311/311 [==============================] - 1s 4ms/step - loss: 0.0077 - val_loss: 0.0053\n",
            "Epoch 93/100\n",
            "311/311 [==============================] - 1s 4ms/step - loss: 0.0075 - val_loss: 0.0058\n",
            "Epoch 94/100\n",
            "311/311 [==============================] - 1s 4ms/step - loss: 0.0076 - val_loss: 0.0056\n",
            "Epoch 95/100\n",
            "311/311 [==============================] - 1s 4ms/step - loss: 0.0076 - val_loss: 0.0056\n",
            "Epoch 96/100\n",
            "311/311 [==============================] - 1s 4ms/step - loss: 0.0073 - val_loss: 0.0054\n",
            "Epoch 97/100\n",
            "311/311 [==============================] - 1s 3ms/step - loss: 0.0076 - val_loss: 0.0053\n",
            "Epoch 98/100\n",
            "311/311 [==============================] - 1s 4ms/step - loss: 0.0074 - val_loss: 0.0053\n",
            "Epoch 99/100\n",
            "311/311 [==============================] - 1s 4ms/step - loss: 0.0074 - val_loss: 0.0054\n",
            "Epoch 100/100\n",
            "311/311 [==============================] - 1s 3ms/step - loss: 0.0075 - val_loss: 0.0054\n"
          ],
          "name": "stdout"
        },
        {
          "output_type": "execute_result",
          "data": {
            "text/plain": [
              "<tensorflow.python.keras.callbacks.History at 0x7f398d909e10>"
            ]
          },
          "metadata": {
            "tags": []
          },
          "execution_count": 57
        }
      ]
    },
    {
      "cell_type": "code",
      "metadata": {
        "id": "VFVVedqIguMg"
      },
      "source": [
        "### Lets Do the prediction and check performance metrics\n",
        "train_predict=model.predict(X_train)\n",
        "test_predict=model.predict(X_test)"
      ],
      "execution_count": 58,
      "outputs": []
    },
    {
      "cell_type": "code",
      "metadata": {
        "colab": {
          "base_uri": "https://localhost:8080/"
        },
        "id": "uKNauREohOBv",
        "outputId": "2ad6c076-d2c1-49cf-b790-0faea4a63189"
      },
      "source": [
        "test_predict"
      ],
      "execution_count": 59,
      "outputs": [
        {
          "output_type": "execute_result",
          "data": {
            "text/plain": [
              "array([[0.09684897],\n",
              "       [0.12450221],\n",
              "       [0.10096097],\n",
              "       [0.09255983],\n",
              "       [0.09392975],\n",
              "       [0.10800566],\n",
              "       [0.11802936],\n",
              "       [0.10525542],\n",
              "       [0.10789949],\n",
              "       [0.09866919],\n",
              "       [0.12500805],\n",
              "       [0.12170613],\n",
              "       [0.08037563],\n",
              "       [0.1085782 ],\n",
              "       [0.10428546],\n",
              "       [0.08948983],\n",
              "       [0.10956892],\n",
              "       [0.11571208],\n",
              "       [0.11902066],\n",
              "       [0.10764655],\n",
              "       [0.10928846],\n",
              "       [0.10883844],\n",
              "       [0.09491565],\n",
              "       [0.11430575],\n",
              "       [0.12100141],\n",
              "       [0.11857384],\n",
              "       [0.11458229],\n",
              "       [0.07132904],\n",
              "       [0.10966343],\n",
              "       [0.10612342],\n",
              "       [0.12072615],\n",
              "       [0.12225859],\n",
              "       [0.12522778],\n",
              "       [0.10232124],\n",
              "       [0.10451915],\n",
              "       [0.12145825],\n",
              "       [0.13049887],\n",
              "       [0.11544271],\n",
              "       [0.1099373 ],\n",
              "       [0.10132708],\n",
              "       [0.09948885],\n",
              "       [0.10633679],\n",
              "       [0.11975616],\n",
              "       [0.10143621],\n",
              "       [0.10376097],\n",
              "       [0.10367512],\n",
              "       [0.10411827],\n",
              "       [0.11707131],\n",
              "       [0.1019242 ],\n",
              "       [0.133407  ],\n",
              "       [0.12295452],\n",
              "       [0.10913292],\n",
              "       [0.10463224],\n",
              "       [0.09561732],\n",
              "       [0.11292947],\n",
              "       [0.10288645],\n",
              "       [0.11596292],\n",
              "       [0.10741542],\n",
              "       [0.09866491],\n",
              "       [0.1047575 ],\n",
              "       [0.11129835],\n",
              "       [0.12051944],\n",
              "       [0.14167008],\n",
              "       [0.13849762],\n",
              "       [0.11950468],\n",
              "       [0.08346778],\n",
              "       [0.10486912],\n",
              "       [0.11894605],\n",
              "       [0.10994247],\n",
              "       [0.10023897],\n",
              "       [0.10347734],\n",
              "       [0.11046514],\n",
              "       [0.10867864],\n",
              "       [0.11760741],\n",
              "       [0.13345435],\n",
              "       [0.13023685],\n",
              "       [0.14329062],\n",
              "       [0.13637342],\n",
              "       [0.11657528],\n",
              "       [0.09812673],\n",
              "       [0.10519344],\n",
              "       [0.10976946],\n",
              "       [0.08994167],\n",
              "       [0.12157774],\n",
              "       [0.11019026],\n",
              "       [0.10935958],\n",
              "       [0.10473092],\n",
              "       [0.14146282],\n",
              "       [0.16626939],\n",
              "       [0.12212089],\n",
              "       [0.14157626],\n",
              "       [0.11672561],\n",
              "       [0.13311465],\n",
              "       [0.13563381],\n",
              "       [0.1158933 ],\n",
              "       [0.13975078],\n",
              "       [0.13433856],\n",
              "       [0.21500583],\n",
              "       [0.16641235],\n",
              "       [0.08424578],\n",
              "       [0.11572313],\n",
              "       [0.080532  ],\n",
              "       [0.10843617],\n",
              "       [0.10964624],\n",
              "       [0.121518  ],\n",
              "       [0.10418793],\n",
              "       [0.08401234],\n",
              "       [0.08803532],\n",
              "       [0.1212044 ],\n",
              "       [0.11905168],\n",
              "       [0.15458037],\n",
              "       [0.2241776 ],\n",
              "       [0.23523387],\n",
              "       [0.27932143],\n",
              "       [0.2722535 ],\n",
              "       [0.24373507],\n",
              "       [0.28610986],\n",
              "       [0.26032454],\n",
              "       [0.20942152],\n",
              "       [0.08644797],\n",
              "       [0.08909614],\n",
              "       [0.10739938],\n",
              "       [0.10594955],\n",
              "       [0.13053155],\n",
              "       [0.11520097],\n",
              "       [0.14086097],\n",
              "       [0.09078015],\n",
              "       [0.10715754],\n",
              "       [0.10786868],\n",
              "       [0.12095811],\n",
              "       [0.11807981],\n",
              "       [0.17314966],\n",
              "       [0.11756265],\n",
              "       [0.05877323],\n",
              "       [0.13574901],\n",
              "       [0.13918269],\n",
              "       [0.11375512],\n",
              "       [0.13519467],\n",
              "       [0.11373522],\n",
              "       [0.10873453],\n",
              "       [0.10238311],\n",
              "       [0.12039633],\n",
              "       [0.10357895],\n",
              "       [0.12400119],\n",
              "       [0.126208  ],\n",
              "       [0.10022847],\n",
              "       [0.07591514],\n",
              "       [0.11501566],\n",
              "       [0.11139542],\n",
              "       [0.10747428],\n",
              "       [0.13691008],\n",
              "       [0.13372777],\n",
              "       [0.14325315],\n",
              "       [0.11020404],\n",
              "       [0.08815272],\n",
              "       [0.10209277],\n",
              "       [0.10611045],\n",
              "       [0.1030419 ],\n",
              "       [0.1298296 ],\n",
              "       [0.14963286],\n",
              "       [0.2051324 ],\n",
              "       [0.2651106 ],\n",
              "       [0.24758716],\n",
              "       [0.26438078],\n",
              "       [0.24673888],\n",
              "       [0.22433874]], dtype=float32)"
            ]
          },
          "metadata": {
            "tags": []
          },
          "execution_count": 59
        }
      ]
    },
    {
      "cell_type": "code",
      "metadata": {
        "id": "DPs2MEjRhRDm"
      },
      "source": [
        "##Transformback to original form\n",
        "train_predict=scaler.inverse_transform(train_predict)\n",
        "test_predict=scaler.inverse_transform(test_predict)"
      ],
      "execution_count": 60,
      "outputs": []
    },
    {
      "cell_type": "code",
      "metadata": {
        "colab": {
          "base_uri": "https://localhost:8080/"
        },
        "id": "9y5AIk1VhUtC",
        "outputId": "8bf4a986-e722-400b-edd7-4360e716ae97"
      },
      "source": [
        "test_predict"
      ],
      "execution_count": 61,
      "outputs": [
        {
          "output_type": "execute_result",
          "data": {
            "text/plain": [
              "array([[0.24888633],\n",
              "       [0.2903895 ],\n",
              "       [0.25505778],\n",
              "       [0.24244899],\n",
              "       [0.24450502],\n",
              "       [0.26563075],\n",
              "       [0.28067476],\n",
              "       [0.26150307],\n",
              "       [0.2654714 ],\n",
              "       [0.25161818],\n",
              "       [0.29114866],\n",
              "       [0.286193  ],\n",
              "       [0.2241624 ],\n",
              "       [0.26649004],\n",
              "       [0.26004732],\n",
              "       [0.2378414 ],\n",
              "       [0.26797697],\n",
              "       [0.2771969 ],\n",
              "       [0.28216255],\n",
              "       [0.2650918 ],\n",
              "       [0.26755604],\n",
              "       [0.26688063],\n",
              "       [0.24598472],\n",
              "       [0.2750862 ],\n",
              "       [0.28513533],\n",
              "       [0.28149194],\n",
              "       [0.27550125],\n",
              "       [0.2105849 ],\n",
              "       [0.2681188 ],\n",
              "       [0.26280582],\n",
              "       [0.2847222 ],\n",
              "       [0.28702217],\n",
              "       [0.29147846],\n",
              "       [0.25709936],\n",
              "       [0.26039806],\n",
              "       [0.285821  ],\n",
              "       [0.29938954],\n",
              "       [0.2767926 ],\n",
              "       [0.26852983],\n",
              "       [0.25560725],\n",
              "       [0.25284836],\n",
              "       [0.26312608],\n",
              "       [0.28326643],\n",
              "       [0.25577104],\n",
              "       [0.25926015],\n",
              "       [0.2591313 ],\n",
              "       [0.2597964 ],\n",
              "       [0.27923688],\n",
              "       [0.25650343],\n",
              "       [0.30375418],\n",
              "       [0.28806666],\n",
              "       [0.2673226 ],\n",
              "       [0.26056778],\n",
              "       [0.2470378 ],\n",
              "       [0.27302063],\n",
              "       [0.25794762],\n",
              "       [0.27757335],\n",
              "       [0.2647449 ],\n",
              "       [0.25161174],\n",
              "       [0.26075578],\n",
              "       [0.27057257],\n",
              "       [0.284412  ],\n",
              "       [0.31615576],\n",
              "       [0.31139442],\n",
              "       [0.282889  ],\n",
              "       [0.22880325],\n",
              "       [0.26092333],\n",
              "       [0.28205055],\n",
              "       [0.2685376 ],\n",
              "       [0.25397417],\n",
              "       [0.25883445],\n",
              "       [0.26932204],\n",
              "       [0.26664078],\n",
              "       [0.2800415 ],\n",
              "       [0.30382526],\n",
              "       [0.2989963 ],\n",
              "       [0.31858796],\n",
              "       [0.30820632],\n",
              "       [0.27849242],\n",
              "       [0.25080404],\n",
              "       [0.26141006],\n",
              "       [0.26827794],\n",
              "       [0.23851953],\n",
              "       [0.2860003 ],\n",
              "       [0.2689095 ],\n",
              "       [0.26766276],\n",
              "       [0.26071587],\n",
              "       [0.3158447 ],\n",
              "       [0.35307547],\n",
              "       [0.28681552],\n",
              "       [0.31601498],\n",
              "       [0.27871802],\n",
              "       [0.30331543],\n",
              "       [0.30709627],\n",
              "       [0.27746886],\n",
              "       [0.31327522],\n",
              "       [0.3051523 ],\n",
              "       [0.42622128],\n",
              "       [0.35329005],\n",
              "       [0.2299709 ],\n",
              "       [0.27721348],\n",
              "       [0.2243971 ],\n",
              "       [0.2662769 ],\n",
              "       [0.26809302],\n",
              "       [0.28591067],\n",
              "       [0.25990096],\n",
              "       [0.22962055],\n",
              "       [0.23565839],\n",
              "       [0.28544   ],\n",
              "       [0.2822091 ],\n",
              "       [0.3355321 ],\n",
              "       [0.43998665],\n",
              "       [0.45658037],\n",
              "       [0.5227489 ],\n",
              "       [0.51214105],\n",
              "       [0.46933934],\n",
              "       [0.5329373 ],\n",
              "       [0.4942375 ],\n",
              "       [0.41784006],\n",
              "       [0.23327604],\n",
              "       [0.23725054],\n",
              "       [0.26472083],\n",
              "       [0.26254487],\n",
              "       [0.2994386 ],\n",
              "       [0.27642977],\n",
              "       [0.31494144],\n",
              "       [0.23977797],\n",
              "       [0.26435786],\n",
              "       [0.26542518],\n",
              "       [0.28507036],\n",
              "       [0.28075048],\n",
              "       [0.36340168],\n",
              "       [0.2799743 ],\n",
              "       [0.1917406 ],\n",
              "       [0.3072692 ],\n",
              "       [0.31242257],\n",
              "       [0.2742598 ],\n",
              "       [0.3064372 ],\n",
              "       [0.27422994],\n",
              "       [0.26672468],\n",
              "       [0.2571922 ],\n",
              "       [0.28422722],\n",
              "       [0.25898698],\n",
              "       [0.28963754],\n",
              "       [0.29294962],\n",
              "       [0.2539584 ],\n",
              "       [0.21746792],\n",
              "       [0.27615166],\n",
              "       [0.27071825],\n",
              "       [0.26483324],\n",
              "       [0.30901176],\n",
              "       [0.3042356 ],\n",
              "       [0.31853172],\n",
              "       [0.26893017],\n",
              "       [0.2358346 ],\n",
              "       [0.25675642],\n",
              "       [0.26278636],\n",
              "       [0.25818095],\n",
              "       [0.29838508],\n",
              "       [0.32810664],\n",
              "       [0.41140276],\n",
              "       [0.5014207 ],\n",
              "       [0.47512075],\n",
              "       [0.5003253 ],\n",
              "       [0.4738476 ],\n",
              "       [0.4402285 ]], dtype=float32)"
            ]
          },
          "metadata": {
            "tags": []
          },
          "execution_count": 61
        }
      ]
    },
    {
      "cell_type": "code",
      "metadata": {
        "colab": {
          "base_uri": "https://localhost:8080/"
        },
        "id": "vbUb5SWlhW3H",
        "outputId": "83a009e5-f2a3-46b8-ed6c-f82bea15fae3"
      },
      "source": [
        "y_train.shape,train_predict.shape,train_predict"
      ],
      "execution_count": 62,
      "outputs": [
        {
          "output_type": "execute_result",
          "data": {
            "text/plain": [
              "((311,), (311, 1), array([[0.26472083],\n",
              "        [0.26254487],\n",
              "        [0.2994386 ],\n",
              "        [0.27642977],\n",
              "        [0.31494144],\n",
              "        [0.23977797],\n",
              "        [0.26435786],\n",
              "        [0.2663408 ],\n",
              "        [0.27951798],\n",
              "        [0.27028072],\n",
              "        [0.2697369 ],\n",
              "        [0.33560047],\n",
              "        [0.28520352],\n",
              "        [0.22114266],\n",
              "        [0.27745727],\n",
              "        [0.27317595],\n",
              "        [0.28607056],\n",
              "        [0.32431477],\n",
              "        [0.3579792 ],\n",
              "        [0.33032465],\n",
              "        [0.29050016],\n",
              "        [0.2769027 ],\n",
              "        [0.31714126],\n",
              "        [0.27011204],\n",
              "        [0.26982555],\n",
              "        [0.26871237],\n",
              "        [0.26238114],\n",
              "        [0.23671125],\n",
              "        [0.27801755],\n",
              "        [0.24556543],\n",
              "        [0.2875472 ],\n",
              "        [0.26854494],\n",
              "        [0.29659632],\n",
              "        [0.308774  ],\n",
              "        [0.2700924 ],\n",
              "        [0.2510023 ],\n",
              "        [0.2379239 ],\n",
              "        [0.2627489 ],\n",
              "        [0.25997534],\n",
              "        [0.2944423 ],\n",
              "        [0.26153454],\n",
              "        [0.17515488],\n",
              "        [0.26033032],\n",
              "        [0.29171816],\n",
              "        [0.27777326],\n",
              "        [0.25192007],\n",
              "        [0.231797  ],\n",
              "        [0.2596875 ],\n",
              "        [0.2800539 ],\n",
              "        [0.27602637],\n",
              "        [0.25706685],\n",
              "        [0.26059392],\n",
              "        [0.2879259 ],\n",
              "        [0.3193448 ],\n",
              "        [0.40101638],\n",
              "        [0.47088704],\n",
              "        [0.41324687],\n",
              "        [0.3234455 ],\n",
              "        [0.2993069 ],\n",
              "        [0.28344348],\n",
              "        [0.3062859 ],\n",
              "        [0.33075407],\n",
              "        [0.3807643 ],\n",
              "        [0.4316838 ],\n",
              "        [0.33055988],\n",
              "        [0.3854492 ],\n",
              "        [0.41014194],\n",
              "        [0.41496307],\n",
              "        [0.4861148 ],\n",
              "        [0.50553876],\n",
              "        [0.38358623],\n",
              "        [0.2972478 ],\n",
              "        [0.2830366 ],\n",
              "        [0.34662172],\n",
              "        [0.34445766],\n",
              "        [0.3390042 ],\n",
              "        [0.4161864 ],\n",
              "        [0.4168386 ],\n",
              "        [0.46352226],\n",
              "        [0.44284013],\n",
              "        [0.3993109 ],\n",
              "        [0.3104963 ],\n",
              "        [0.356797  ],\n",
              "        [0.32106277],\n",
              "        [0.30962887],\n",
              "        [0.2749099 ],\n",
              "        [0.25386408],\n",
              "        [0.25789645],\n",
              "        [0.28742728],\n",
              "        [0.29147846],\n",
              "        [0.25709936],\n",
              "        [0.26039806],\n",
              "        [0.285821  ],\n",
              "        [0.29938954],\n",
              "        [0.2767926 ],\n",
              "        [0.26852983],\n",
              "        [0.25560725],\n",
              "        [0.31328493],\n",
              "        [0.34966704],\n",
              "        [0.38397425],\n",
              "        [0.39522934],\n",
              "        [0.47708836],\n",
              "        [0.40589148],\n",
              "        [0.29053327],\n",
              "        [0.35404003],\n",
              "        [0.3681236 ],\n",
              "        [0.4322353 ],\n",
              "        [0.37706473],\n",
              "        [0.24149226],\n",
              "        [0.27068523],\n",
              "        [0.24726294],\n",
              "        [0.2585618 ],\n",
              "        [0.2942576 ],\n",
              "        [0.27243322],\n",
              "        [0.30979097],\n",
              "        [0.36990947],\n",
              "        [0.3034015 ],\n",
              "        [0.25889558],\n",
              "        [0.36068386],\n",
              "        [0.32200488],\n",
              "        [0.39295864],\n",
              "        [0.42367142],\n",
              "        [0.26824486],\n",
              "        [0.38788235],\n",
              "        [0.29682276],\n",
              "        [0.29218778],\n",
              "        [0.296301  ],\n",
              "        [0.34998125],\n",
              "        [0.36110467],\n",
              "        [0.3444104 ],\n",
              "        [0.43537202],\n",
              "        [0.36712053],\n",
              "        [0.34800348],\n",
              "        [0.31827223],\n",
              "        [0.27041596],\n",
              "        [0.25222662],\n",
              "        [0.29532385],\n",
              "        [0.29673803],\n",
              "        [0.36712512],\n",
              "        [0.4338345 ],\n",
              "        [0.30440912],\n",
              "        [0.27898273],\n",
              "        [0.28844437],\n",
              "        [0.22625981],\n",
              "        [0.24842088],\n",
              "        [0.24143863],\n",
              "        [0.27034402],\n",
              "        [0.28011003],\n",
              "        [0.29550767],\n",
              "        [0.331117  ],\n",
              "        [0.37978482],\n",
              "        [0.36172336],\n",
              "        [0.27024144],\n",
              "        [0.37067264],\n",
              "        [0.3612073 ],\n",
              "        [0.3234481 ],\n",
              "        [0.23963651],\n",
              "        [0.26486877],\n",
              "        [0.28961334],\n",
              "        [0.268905  ],\n",
              "        [0.20968173],\n",
              "        [0.25833374],\n",
              "        [0.26177934],\n",
              "        [0.269375  ],\n",
              "        [0.27942905],\n",
              "        [0.27605325],\n",
              "        [0.23968762],\n",
              "        [0.25567898],\n",
              "        [0.28426996],\n",
              "        [0.30764896],\n",
              "        [0.2874945 ],\n",
              "        [0.28607783],\n",
              "        [0.25308612],\n",
              "        [0.27239183],\n",
              "        [0.26199958],\n",
              "        [0.29530424],\n",
              "        [0.25518388],\n",
              "        [0.16239132],\n",
              "        [0.23429382],\n",
              "        [0.33641514],\n",
              "        [0.25787482],\n",
              "        [0.2888925 ],\n",
              "        [0.23805292],\n",
              "        [0.23806073],\n",
              "        [0.25448817],\n",
              "        [0.2518066 ],\n",
              "        [0.27960044],\n",
              "        [0.27951774],\n",
              "        [0.24786372],\n",
              "        [0.22333944],\n",
              "        [0.25017285],\n",
              "        [0.29476973],\n",
              "        [0.25034696],\n",
              "        [0.27786928],\n",
              "        [0.28717488],\n",
              "        [0.41120324],\n",
              "        [0.458694  ],\n",
              "        [0.33948466],\n",
              "        [0.15902263],\n",
              "        [0.5266323 ],\n",
              "        [0.2699845 ],\n",
              "        [0.25160226],\n",
              "        [0.23381974],\n",
              "        [0.23032004],\n",
              "        [0.27973747],\n",
              "        [0.27534196],\n",
              "        [0.2906266 ],\n",
              "        [0.2536593 ],\n",
              "        [0.23472373],\n",
              "        [0.30225766],\n",
              "        [0.26599345],\n",
              "        [0.27083257],\n",
              "        [0.25682235],\n",
              "        [0.26220858],\n",
              "        [0.2533277 ],\n",
              "        [0.26076147],\n",
              "        [0.26758686],\n",
              "        [0.25253928],\n",
              "        [0.26492235],\n",
              "        [0.24375308],\n",
              "        [0.2897063 ],\n",
              "        [0.26651677],\n",
              "        [0.26395494],\n",
              "        [0.26495454],\n",
              "        [0.2611242 ],\n",
              "        [0.26005438],\n",
              "        [0.2568988 ],\n",
              "        [0.25366834],\n",
              "        [0.26250768],\n",
              "        [0.27235624],\n",
              "        [0.25812513],\n",
              "        [0.26114285],\n",
              "        [0.23933126],\n",
              "        [0.28628126],\n",
              "        [0.24590221],\n",
              "        [0.2662769 ],\n",
              "        [0.26809302],\n",
              "        [0.28591067],\n",
              "        [0.25990096],\n",
              "        [0.22962055],\n",
              "        [0.23565839],\n",
              "        [0.28544   ],\n",
              "        [0.2609449 ],\n",
              "        [0.26955009],\n",
              "        [0.25674483],\n",
              "        [0.2736209 ],\n",
              "        [0.23344375],\n",
              "        [0.22978246],\n",
              "        [0.24873067],\n",
              "        [0.25085253],\n",
              "        [0.26328036],\n",
              "        [0.28683403],\n",
              "        [0.2714436 ],\n",
              "        [0.21013941],\n",
              "        [0.2734209 ],\n",
              "        [0.28079495],\n",
              "        [0.27410254],\n",
              "        [0.24887751],\n",
              "        [0.24681924],\n",
              "        [0.2564859 ],\n",
              "        [0.2611691 ],\n",
              "        [0.27389836],\n",
              "        [0.26485327],\n",
              "        [0.3155984 ],\n",
              "        [0.29498667],\n",
              "        [0.26126403],\n",
              "        [0.26639068],\n",
              "        [0.24810068],\n",
              "        [0.27486575],\n",
              "        [0.23639975],\n",
              "        [0.27278137],\n",
              "        [0.24556977],\n",
              "        [0.29761034],\n",
              "        [0.27579746],\n",
              "        [0.24559602],\n",
              "        [0.23900038],\n",
              "        [0.26202023],\n",
              "        [0.2727002 ],\n",
              "        [0.27454138],\n",
              "        [0.269699  ],\n",
              "        [0.257782  ],\n",
              "        [0.27352497],\n",
              "        [0.27655336],\n",
              "        [0.24849801],\n",
              "        [0.24302742],\n",
              "        [0.25959608],\n",
              "        [0.24915014],\n",
              "        [0.28307405],\n",
              "        [0.2619654 ],\n",
              "        [0.2963559 ],\n",
              "        [0.2811727 ],\n",
              "        [0.22222997],\n",
              "        [0.24461587],\n",
              "        [0.26107672],\n",
              "        [0.2711332 ],\n",
              "        [0.26363415],\n",
              "        [0.27407458],\n",
              "        [0.2798995 ],\n",
              "        [0.27072933],\n",
              "        [0.2622396 ],\n",
              "        [0.24983229],\n",
              "        [0.256098  ],\n",
              "        [0.27969515],\n",
              "        [0.3059565 ],\n",
              "        [0.32916525],\n",
              "        [0.22464938],\n",
              "        [0.3002405 ],\n",
              "        [0.2940117 ],\n",
              "        [0.31187096],\n",
              "        [0.31025547],\n",
              "        [0.2863292 ]], dtype=float32))"
            ]
          },
          "metadata": {
            "tags": []
          },
          "execution_count": 62
        }
      ]
    },
    {
      "cell_type": "code",
      "metadata": {
        "colab": {
          "base_uri": "https://localhost:8080/"
        },
        "id": "uzStTPBbhaOf",
        "outputId": "4a6f29a2-b201-4df2-a10a-5f9bf4399f3d"
      },
      "source": [
        "### Calculate RMSE performance metrics\n",
        "import math\n",
        "from sklearn.metrics import mean_squared_error\n",
        "math.sqrt(mean_squared_error(y_train,train_predict))"
      ],
      "execution_count": 63,
      "outputs": [
        {
          "output_type": "execute_result",
          "data": {
            "text/plain": [
              "0.18358811709959558"
            ]
          },
          "metadata": {
            "tags": []
          },
          "execution_count": 63
        }
      ]
    },
    {
      "cell_type": "code",
      "metadata": {
        "colab": {
          "base_uri": "https://localhost:8080/"
        },
        "id": "114OiY5Uhd6c",
        "outputId": "ba2dc226-13f7-4e91-f039-1d133ae1f38f"
      },
      "source": [
        "### Test Data RMSE\n",
        "math.sqrt(mean_squared_error(ytest,test_predict))"
      ],
      "execution_count": 64,
      "outputs": [
        {
          "output_type": "execute_result",
          "data": {
            "text/plain": [
              "0.18499390035671373"
            ]
          },
          "metadata": {
            "tags": []
          },
          "execution_count": 64
        }
      ]
    },
    {
      "cell_type": "code",
      "metadata": {
        "colab": {
          "base_uri": "https://localhost:8080/",
          "height": 265
        },
        "id": "OFuJk1IPhg9C",
        "outputId": "dd0d89d9-2367-47b1-9376-86841392e6a7"
      },
      "source": [
        "### Plotting \n",
        "# shift train predictions for plotting\n",
        "lookback=4\n",
        "trainPredictPlot = numpy.empty_like(df)\n",
        "trainPredictPlot[:, :] = np.nan\n",
        "trainPredictPlot[lookback:len(train_predict)+lookback, :] = train_predict\n",
        "# shift test predictions for plotting\n",
        "testPredictPlot = numpy.empty_like(df)\n",
        "testPredictPlot[:, :] = numpy.nan\n",
        "testPredictPlot[len(train_predict)+(lookback*2)+1:len(df)-1, :] = test_predict\n",
        "# plot baseline and predictions\n",
        "plt.plot(scaler.inverse_transform(df))\n",
        "plt.plot(trainPredictPlot)\n",
        "plt.plot(testPredictPlot)\n",
        "plt.show()"
      ],
      "execution_count": 68,
      "outputs": [
        {
          "output_type": "display_data",
          "data": {
            "image/png": "[encoded data removed]",
            "text/plain": [
              "<Figure size 432x288 with 1 Axes>"
            ]
          },
          "metadata": {
            "tags": [],
            "needs_background": "light"
          }
        }
      ]
    },
    {
      "cell_type": "code",
      "metadata": {
        "id": "ZFRvlGfshk7B"
      },
      "source": [
        ""
      ],
      "execution_count": null,
      "outputs": []
    }
  ]
}
