{
  "nbformat": 4,
  "nbformat_minor": 0,
  "metadata": {
    "colab": {
      "name": "Estimating Missing Values.ipynb",
      "provenance": [],
      "authorship_tag": "ABX9TyM2J+lJdT1DKrvXmJl4d3U7",
      "include_colab_link": true
    },
    "kernelspec": {
      "name": "python3",
      "display_name": "Python 3"
    },
    "language_info": {
      "name": "python"
    }
  },
  "cells": [
    {
      "cell_type": "markdown",
      "metadata": {
        "id": "view-in-github",
        "colab_type": "text"
      },
      "source": [
        "<a href=\"https://colab.research.google.com/github/ApahSaroj/WPI/blob/main/Estimating_Missing_Values.ipynb\" target=\"_parent\"><img src=\"https://colab.research.google.com/assets/colab-badge.svg\" alt=\"Open In Colab\"/></a>"
      ]
    },
    {
      "cell_type": "code",
      "metadata": {
        "id": "LKwpiZUH-Lds"
      },
      "source": [
        "from google.colab import drive"
      ],
      "execution_count": 1,
      "outputs": []
    },
    {
      "cell_type": "code",
      "metadata": {
        "colab": {
          "base_uri": "https://localhost:8080/"
        },
        "id": "0obKgvuL_zwm",
        "outputId": "95101025-69ef-4c62-c4b3-2b69dcd26bd4"
      },
      "source": [
        "drive.mount('/content/drive')"
      ],
      "execution_count": 2,
      "outputs": [
        {
          "output_type": "stream",
          "text": [
            "Mounted at /content/drive\n"
          ],
          "name": "stdout"
        }
      ]
    },
    {
      "cell_type": "code",
      "metadata": {
        "colab": {
          "base_uri": "https://localhost:8080/",
          "height": 419
        },
        "id": "3JSW7n3l_3rF",
        "outputId": "075ed76c-0a63-45b4-edf0-0e983c80072a"
      },
      "source": [
        "import pandas as pd\n",
        "df = pd.read_csv('/content/drive/MyDrive/DATA/missdata.csv')\n",
        "df"
      ],
      "execution_count": 3,
      "outputs": [
        {
          "output_type": "execute_result",
          "data": {
            "text/html": [
              "<div>\n",
              "<style scoped>\n",
              "    .dataframe tbody tr th:only-of-type {\n",
              "        vertical-align: middle;\n",
              "    }\n",
              "\n",
              "    .dataframe tbody tr th {\n",
              "        vertical-align: top;\n",
              "    }\n",
              "\n",
              "    .dataframe thead th {\n",
              "        text-align: right;\n",
              "    }\n",
              "</style>\n",
              "<table border=\"1\" class=\"dataframe\">\n",
              "  <thead>\n",
              "    <tr style=\"text-align: right;\">\n",
              "      <th></th>\n",
              "      <th>Date</th>\n",
              "      <th>pH</th>\n",
              "      <th>DO</th>\n",
              "      <th>TDS</th>\n",
              "      <th>Alkalinity</th>\n",
              "      <th>EC</th>\n",
              "      <th>Na</th>\n",
              "      <th>Ca</th>\n",
              "      <th>Mg</th>\n",
              "      <th>K</th>\n",
              "      <th>F</th>\n",
              "      <th>Cl</th>\n",
              "      <th>Nitrate</th>\n",
              "      <th>Sulphate</th>\n",
              "      <th>Phosphate</th>\n",
              "      <th>WPI</th>\n",
              "    </tr>\n",
              "  </thead>\n",
              "  <tbody>\n",
              "    <tr>\n",
              "      <th>0</th>\n",
              "      <td>01-Jan-14</td>\n",
              "      <td>8.14</td>\n",
              "      <td>8.7</td>\n",
              "      <td>84.0</td>\n",
              "      <td>52</td>\n",
              "      <td>147.8</td>\n",
              "      <td>4.48</td>\n",
              "      <td>44.0</td>\n",
              "      <td>20.0</td>\n",
              "      <td>1.17</td>\n",
              "      <td>0.285</td>\n",
              "      <td>7.80</td>\n",
              "      <td>0.758000</td>\n",
              "      <td>6.534660</td>\n",
              "      <td>0.06211</td>\n",
              "      <td>0.249528</td>\n",
              "    </tr>\n",
              "    <tr>\n",
              "      <th>1</th>\n",
              "      <td>02-Jan-14</td>\n",
              "      <td>7.70</td>\n",
              "      <td>8.8</td>\n",
              "      <td>110.0</td>\n",
              "      <td>76</td>\n",
              "      <td>188.0</td>\n",
              "      <td>8.61</td>\n",
              "      <td>44.0</td>\n",
              "      <td>36.0</td>\n",
              "      <td>3.46</td>\n",
              "      <td>0.401</td>\n",
              "      <td>14.80</td>\n",
              "      <td>0.196062</td>\n",
              "      <td>8.138620</td>\n",
              "      <td>0.00960</td>\n",
              "      <td>0.216400</td>\n",
              "    </tr>\n",
              "    <tr>\n",
              "      <th>2</th>\n",
              "      <td>03-Jan-14</td>\n",
              "      <td>7.60</td>\n",
              "      <td>7.5</td>\n",
              "      <td>75.0</td>\n",
              "      <td>44</td>\n",
              "      <td>128.0</td>\n",
              "      <td>8.11</td>\n",
              "      <td>28.0</td>\n",
              "      <td>20.0</td>\n",
              "      <td>2.80</td>\n",
              "      <td>0.379</td>\n",
              "      <td>14.80</td>\n",
              "      <td>0.298875</td>\n",
              "      <td>3.855625</td>\n",
              "      <td>0.01280</td>\n",
              "      <td>0.183814</td>\n",
              "    </tr>\n",
              "    <tr>\n",
              "      <th>3</th>\n",
              "      <td>04-Jan-14</td>\n",
              "      <td>NaN</td>\n",
              "      <td>9.1</td>\n",
              "      <td>76.0</td>\n",
              "      <td>56</td>\n",
              "      <td>127.0</td>\n",
              "      <td>NaN</td>\n",
              "      <td>44.0</td>\n",
              "      <td>18.0</td>\n",
              "      <td>1.65</td>\n",
              "      <td>0.396</td>\n",
              "      <td>9.60</td>\n",
              "      <td>0.299591</td>\n",
              "      <td>2.238750</td>\n",
              "      <td>0.01536</td>\n",
              "      <td>0.219282</td>\n",
              "    </tr>\n",
              "    <tr>\n",
              "      <th>4</th>\n",
              "      <td>05-Jan-14</td>\n",
              "      <td>NaN</td>\n",
              "      <td>7.3</td>\n",
              "      <td>84.0</td>\n",
              "      <td>52</td>\n",
              "      <td>140.0</td>\n",
              "      <td>NaN</td>\n",
              "      <td>28.0</td>\n",
              "      <td>20.0</td>\n",
              "      <td>1.61</td>\n",
              "      <td>0.265</td>\n",
              "      <td>8.30</td>\n",
              "      <td>0.106000</td>\n",
              "      <td>5.600000</td>\n",
              "      <td>0.01000</td>\n",
              "      <td>0.165831</td>\n",
              "    </tr>\n",
              "    <tr>\n",
              "      <th>...</th>\n",
              "      <td>...</td>\n",
              "      <td>...</td>\n",
              "      <td>...</td>\n",
              "      <td>...</td>\n",
              "      <td>...</td>\n",
              "      <td>...</td>\n",
              "      <td>...</td>\n",
              "      <td>...</td>\n",
              "      <td>...</td>\n",
              "      <td>...</td>\n",
              "      <td>...</td>\n",
              "      <td>...</td>\n",
              "      <td>...</td>\n",
              "      <td>...</td>\n",
              "      <td>...</td>\n",
              "      <td>...</td>\n",
              "    </tr>\n",
              "    <tr>\n",
              "      <th>482</th>\n",
              "      <td>28-Apr-15</td>\n",
              "      <td>7.60</td>\n",
              "      <td>5.6</td>\n",
              "      <td>NaN</td>\n",
              "      <td>8</td>\n",
              "      <td>370.0</td>\n",
              "      <td>16.14</td>\n",
              "      <td>92.0</td>\n",
              "      <td>24.0</td>\n",
              "      <td>7.60</td>\n",
              "      <td>2.270</td>\n",
              "      <td>23.04</td>\n",
              "      <td>1.352000</td>\n",
              "      <td>104.480000</td>\n",
              "      <td>0.01500</td>\n",
              "      <td>0.419630</td>\n",
              "    </tr>\n",
              "    <tr>\n",
              "      <th>483</th>\n",
              "      <td>29-Apr-15</td>\n",
              "      <td>7.30</td>\n",
              "      <td>5.6</td>\n",
              "      <td>NaN</td>\n",
              "      <td>96</td>\n",
              "      <td>434.0</td>\n",
              "      <td>20.56</td>\n",
              "      <td>96.0</td>\n",
              "      <td>32.0</td>\n",
              "      <td>9.89</td>\n",
              "      <td>1.550</td>\n",
              "      <td>30.86</td>\n",
              "      <td>7.074000</td>\n",
              "      <td>61.068000</td>\n",
              "      <td>0.03300</td>\n",
              "      <td>0.432996</td>\n",
              "    </tr>\n",
              "    <tr>\n",
              "      <th>484</th>\n",
              "      <td>30-Apr-15</td>\n",
              "      <td>5.10</td>\n",
              "      <td>5.8</td>\n",
              "      <td>290.0</td>\n",
              "      <td>12</td>\n",
              "      <td>487.0</td>\n",
              "      <td>37.35</td>\n",
              "      <td>60.0</td>\n",
              "      <td>44.0</td>\n",
              "      <td>14.80</td>\n",
              "      <td>0.159</td>\n",
              "      <td>60.13</td>\n",
              "      <td>9.256000</td>\n",
              "      <td>89.910000</td>\n",
              "      <td>0.16300</td>\n",
              "      <td>0.326811</td>\n",
              "    </tr>\n",
              "    <tr>\n",
              "      <th>485</th>\n",
              "      <td>01-May-15</td>\n",
              "      <td>7.40</td>\n",
              "      <td>6.4</td>\n",
              "      <td>NaN</td>\n",
              "      <td>72</td>\n",
              "      <td>385.0</td>\n",
              "      <td>20.06</td>\n",
              "      <td>70.0</td>\n",
              "      <td>42.0</td>\n",
              "      <td>10.35</td>\n",
              "      <td>1.360</td>\n",
              "      <td>32.92</td>\n",
              "      <td>7.110435</td>\n",
              "      <td>48.500000</td>\n",
              "      <td>0.21900</td>\n",
              "      <td>0.509970</td>\n",
              "    </tr>\n",
              "    <tr>\n",
              "      <th>486</th>\n",
              "      <td>02-May-15</td>\n",
              "      <td>7.60</td>\n",
              "      <td>6.9</td>\n",
              "      <td>NaN</td>\n",
              "      <td>68</td>\n",
              "      <td>410.8</td>\n",
              "      <td>17.41</td>\n",
              "      <td>82.0</td>\n",
              "      <td>50.0</td>\n",
              "      <td>9.92</td>\n",
              "      <td>1.310</td>\n",
              "      <td>34.89</td>\n",
              "      <td>6.385000</td>\n",
              "      <td>59.940000</td>\n",
              "      <td>0.07000</td>\n",
              "      <td>0.422551</td>\n",
              "    </tr>\n",
              "  </tbody>\n",
              "</table>\n",
              "<p>487 rows × 16 columns</p>\n",
              "</div>"
            ],
            "text/plain": [
              "          Date    pH   DO    TDS  ...   Nitrate    Sulphate  Phosphate       WPI\n",
              "0    01-Jan-14  8.14  8.7   84.0  ...  0.758000    6.534660    0.06211  0.249528\n",
              "1    02-Jan-14  7.70  8.8  110.0  ...  0.196062    8.138620    0.00960  0.216400\n",
              "2    03-Jan-14  7.60  7.5   75.0  ...  0.298875    3.855625    0.01280  0.183814\n",
              "3    04-Jan-14   NaN  9.1   76.0  ...  0.299591    2.238750    0.01536  0.219282\n",
              "4    05-Jan-14   NaN  7.3   84.0  ...  0.106000    5.600000    0.01000  0.165831\n",
              "..         ...   ...  ...    ...  ...       ...         ...        ...       ...\n",
              "482  28-Apr-15  7.60  5.6    NaN  ...  1.352000  104.480000    0.01500  0.419630\n",
              "483  29-Apr-15  7.30  5.6    NaN  ...  7.074000   61.068000    0.03300  0.432996\n",
              "484  30-Apr-15  5.10  5.8  290.0  ...  9.256000   89.910000    0.16300  0.326811\n",
              "485  01-May-15  7.40  6.4    NaN  ...  7.110435   48.500000    0.21900  0.509970\n",
              "486  02-May-15  7.60  6.9    NaN  ...  6.385000   59.940000    0.07000  0.422551\n",
              "\n",
              "[487 rows x 16 columns]"
            ]
          },
          "metadata": {
            "tags": []
          },
          "execution_count": 3
        }
      ]
    },
    {
      "cell_type": "code",
      "metadata": {
        "colab": {
          "base_uri": "https://localhost:8080/"
        },
        "id": "S4MjbuW8AIEK",
        "outputId": "4780167f-7b58-4739-9234-e255ea86c90b"
      },
      "source": [
        "df.info()"
      ],
      "execution_count": 4,
      "outputs": [
        {
          "output_type": "stream",
          "text": [
            "<class 'pandas.core.frame.DataFrame'>\n",
            "RangeIndex: 487 entries, 0 to 486\n",
            "Data columns (total 16 columns):\n",
            " #   Column      Non-Null Count  Dtype  \n",
            "---  ------      --------------  -----  \n",
            " 0   Date        487 non-null    object \n",
            " 1   pH          485 non-null    float64\n",
            " 2   DO          486 non-null    float64\n",
            " 3   TDS         383 non-null    float64\n",
            " 4   Alkalinity  487 non-null    int64  \n",
            " 5   EC          483 non-null    float64\n",
            " 6   Na          485 non-null    float64\n",
            " 7   Ca          445 non-null    float64\n",
            " 8   Mg          448 non-null    float64\n",
            " 9   K           433 non-null    float64\n",
            " 10  F           422 non-null    float64\n",
            " 11  Cl          466 non-null    float64\n",
            " 12  Nitrate     485 non-null    float64\n",
            " 13  Sulphate    460 non-null    float64\n",
            " 14  Phosphate   395 non-null    float64\n",
            " 15  WPI         400 non-null    float64\n",
            "dtypes: float64(14), int64(1), object(1)\n",
            "memory usage: 61.0+ KB\n"
          ],
          "name": "stdout"
        }
      ]
    },
    {
      "cell_type": "code",
      "metadata": {
        "colab": {
          "base_uri": "https://localhost:8080/",
          "height": 419
        },
        "id": "Isd1KHIiAOpF",
        "outputId": "10c52b9a-90a5-43ef-b45b-e81be9e36f2d"
      },
      "source": [
        "df.isnull()"
      ],
      "execution_count": 7,
      "outputs": [
        {
          "output_type": "execute_result",
          "data": {
            "text/html": [
              "<div>\n",
              "<style scoped>\n",
              "    .dataframe tbody tr th:only-of-type {\n",
              "        vertical-align: middle;\n",
              "    }\n",
              "\n",
              "    .dataframe tbody tr th {\n",
              "        vertical-align: top;\n",
              "    }\n",
              "\n",
              "    .dataframe thead th {\n",
              "        text-align: right;\n",
              "    }\n",
              "</style>\n",
              "<table border=\"1\" class=\"dataframe\">\n",
              "  <thead>\n",
              "    <tr style=\"text-align: right;\">\n",
              "      <th></th>\n",
              "      <th>Date</th>\n",
              "      <th>pH</th>\n",
              "      <th>DO</th>\n",
              "      <th>TDS</th>\n",
              "      <th>Alkalinity</th>\n",
              "      <th>EC</th>\n",
              "      <th>Na</th>\n",
              "      <th>Ca</th>\n",
              "      <th>Mg</th>\n",
              "      <th>K</th>\n",
              "      <th>F</th>\n",
              "      <th>Cl</th>\n",
              "      <th>Nitrate</th>\n",
              "      <th>Sulphate</th>\n",
              "      <th>Phosphate</th>\n",
              "      <th>WPI</th>\n",
              "    </tr>\n",
              "  </thead>\n",
              "  <tbody>\n",
              "    <tr>\n",
              "      <th>0</th>\n",
              "      <td>False</td>\n",
              "      <td>False</td>\n",
              "      <td>False</td>\n",
              "      <td>False</td>\n",
              "      <td>False</td>\n",
              "      <td>False</td>\n",
              "      <td>False</td>\n",
              "      <td>False</td>\n",
              "      <td>False</td>\n",
              "      <td>False</td>\n",
              "      <td>False</td>\n",
              "      <td>False</td>\n",
              "      <td>False</td>\n",
              "      <td>False</td>\n",
              "      <td>False</td>\n",
              "      <td>False</td>\n",
              "    </tr>\n",
              "    <tr>\n",
              "      <th>1</th>\n",
              "      <td>False</td>\n",
              "      <td>False</td>\n",
              "      <td>False</td>\n",
              "      <td>False</td>\n",
              "      <td>False</td>\n",
              "      <td>False</td>\n",
              "      <td>False</td>\n",
              "      <td>False</td>\n",
              "      <td>False</td>\n",
              "      <td>False</td>\n",
              "      <td>False</td>\n",
              "      <td>False</td>\n",
              "      <td>False</td>\n",
              "      <td>False</td>\n",
              "      <td>False</td>\n",
              "      <td>False</td>\n",
              "    </tr>\n",
              "    <tr>\n",
              "      <th>2</th>\n",
              "      <td>False</td>\n",
              "      <td>False</td>\n",
              "      <td>False</td>\n",
              "      <td>False</td>\n",
              "      <td>False</td>\n",
              "      <td>False</td>\n",
              "      <td>False</td>\n",
              "      <td>False</td>\n",
              "      <td>False</td>\n",
              "      <td>False</td>\n",
              "      <td>False</td>\n",
              "      <td>False</td>\n",
              "      <td>False</td>\n",
              "      <td>False</td>\n",
              "      <td>False</td>\n",
              "      <td>False</td>\n",
              "    </tr>\n",
              "    <tr>\n",
              "      <th>3</th>\n",
              "      <td>False</td>\n",
              "      <td>True</td>\n",
              "      <td>False</td>\n",
              "      <td>False</td>\n",
              "      <td>False</td>\n",
              "      <td>False</td>\n",
              "      <td>True</td>\n",
              "      <td>False</td>\n",
              "      <td>False</td>\n",
              "      <td>False</td>\n",
              "      <td>False</td>\n",
              "      <td>False</td>\n",
              "      <td>False</td>\n",
              "      <td>False</td>\n",
              "      <td>False</td>\n",
              "      <td>False</td>\n",
              "    </tr>\n",
              "    <tr>\n",
              "      <th>4</th>\n",
              "      <td>False</td>\n",
              "      <td>True</td>\n",
              "      <td>False</td>\n",
              "      <td>False</td>\n",
              "      <td>False</td>\n",
              "      <td>False</td>\n",
              "      <td>True</td>\n",
              "      <td>False</td>\n",
              "      <td>False</td>\n",
              "      <td>False</td>\n",
              "      <td>False</td>\n",
              "      <td>False</td>\n",
              "      <td>False</td>\n",
              "      <td>False</td>\n",
              "      <td>False</td>\n",
              "      <td>False</td>\n",
              "    </tr>\n",
              "    <tr>\n",
              "      <th>...</th>\n",
              "      <td>...</td>\n",
              "      <td>...</td>\n",
              "      <td>...</td>\n",
              "      <td>...</td>\n",
              "      <td>...</td>\n",
              "      <td>...</td>\n",
              "      <td>...</td>\n",
              "      <td>...</td>\n",
              "      <td>...</td>\n",
              "      <td>...</td>\n",
              "      <td>...</td>\n",
              "      <td>...</td>\n",
              "      <td>...</td>\n",
              "      <td>...</td>\n",
              "      <td>...</td>\n",
              "      <td>...</td>\n",
              "    </tr>\n",
              "    <tr>\n",
              "      <th>482</th>\n",
              "      <td>False</td>\n",
              "      <td>False</td>\n",
              "      <td>False</td>\n",
              "      <td>True</td>\n",
              "      <td>False</td>\n",
              "      <td>False</td>\n",
              "      <td>False</td>\n",
              "      <td>False</td>\n",
              "      <td>False</td>\n",
              "      <td>False</td>\n",
              "      <td>False</td>\n",
              "      <td>False</td>\n",
              "      <td>False</td>\n",
              "      <td>False</td>\n",
              "      <td>False</td>\n",
              "      <td>False</td>\n",
              "    </tr>\n",
              "    <tr>\n",
              "      <th>483</th>\n",
              "      <td>False</td>\n",
              "      <td>False</td>\n",
              "      <td>False</td>\n",
              "      <td>True</td>\n",
              "      <td>False</td>\n",
              "      <td>False</td>\n",
              "      <td>False</td>\n",
              "      <td>False</td>\n",
              "      <td>False</td>\n",
              "      <td>False</td>\n",
              "      <td>False</td>\n",
              "      <td>False</td>\n",
              "      <td>False</td>\n",
              "      <td>False</td>\n",
              "      <td>False</td>\n",
              "      <td>False</td>\n",
              "    </tr>\n",
              "    <tr>\n",
              "      <th>484</th>\n",
              "      <td>False</td>\n",
              "      <td>False</td>\n",
              "      <td>False</td>\n",
              "      <td>False</td>\n",
              "      <td>False</td>\n",
              "      <td>False</td>\n",
              "      <td>False</td>\n",
              "      <td>False</td>\n",
              "      <td>False</td>\n",
              "      <td>False</td>\n",
              "      <td>False</td>\n",
              "      <td>False</td>\n",
              "      <td>False</td>\n",
              "      <td>False</td>\n",
              "      <td>False</td>\n",
              "      <td>False</td>\n",
              "    </tr>\n",
              "    <tr>\n",
              "      <th>485</th>\n",
              "      <td>False</td>\n",
              "      <td>False</td>\n",
              "      <td>False</td>\n",
              "      <td>True</td>\n",
              "      <td>False</td>\n",
              "      <td>False</td>\n",
              "      <td>False</td>\n",
              "      <td>False</td>\n",
              "      <td>False</td>\n",
              "      <td>False</td>\n",
              "      <td>False</td>\n",
              "      <td>False</td>\n",
              "      <td>False</td>\n",
              "      <td>False</td>\n",
              "      <td>False</td>\n",
              "      <td>False</td>\n",
              "    </tr>\n",
              "    <tr>\n",
              "      <th>486</th>\n",
              "      <td>False</td>\n",
              "      <td>False</td>\n",
              "      <td>False</td>\n",
              "      <td>True</td>\n",
              "      <td>False</td>\n",
              "      <td>False</td>\n",
              "      <td>False</td>\n",
              "      <td>False</td>\n",
              "      <td>False</td>\n",
              "      <td>False</td>\n",
              "      <td>False</td>\n",
              "      <td>False</td>\n",
              "      <td>False</td>\n",
              "      <td>False</td>\n",
              "      <td>False</td>\n",
              "      <td>False</td>\n",
              "    </tr>\n",
              "  </tbody>\n",
              "</table>\n",
              "<p>487 rows × 16 columns</p>\n",
              "</div>"
            ],
            "text/plain": [
              "      Date     pH     DO    TDS  ...  Nitrate  Sulphate  Phosphate    WPI\n",
              "0    False  False  False  False  ...    False     False      False  False\n",
              "1    False  False  False  False  ...    False     False      False  False\n",
              "2    False  False  False  False  ...    False     False      False  False\n",
              "3    False   True  False  False  ...    False     False      False  False\n",
              "4    False   True  False  False  ...    False     False      False  False\n",
              "..     ...    ...    ...    ...  ...      ...       ...        ...    ...\n",
              "482  False  False  False   True  ...    False     False      False  False\n",
              "483  False  False  False   True  ...    False     False      False  False\n",
              "484  False  False  False  False  ...    False     False      False  False\n",
              "485  False  False  False   True  ...    False     False      False  False\n",
              "486  False  False  False   True  ...    False     False      False  False\n",
              "\n",
              "[487 rows x 16 columns]"
            ]
          },
          "metadata": {
            "tags": []
          },
          "execution_count": 7
        }
      ]
    },
    {
      "cell_type": "code",
      "metadata": {
        "colab": {
          "base_uri": "https://localhost:8080/"
        },
        "id": "K_9XTYFKAWyk",
        "outputId": "2a41ae3a-5e1b-4758-f19a-e70fac54ea4c"
      },
      "source": [
        "print(df.describe())"
      ],
      "execution_count": 8,
      "outputs": [
        {
          "output_type": "stream",
          "text": [
            "               pH          DO         TDS  ...    Sulphate   Phosphate         WPI\n",
            "count  485.000000  486.000000  383.000000  ...  460.000000  395.000000  400.000000\n",
            "mean     7.809499    7.445144  115.851958  ...   14.195187    0.094645    0.296527\n",
            "std      0.411056    1.105480   46.954561  ...   14.264553    0.167975    0.141283\n",
            "min      5.100000    4.200000   56.000000  ...    0.792000    0.000000    0.160199\n",
            "25%      7.570000    6.712500   84.000000  ...    5.347729    0.024500    0.221366\n",
            "50%      7.860000    7.400000  102.000000  ...    9.109687    0.047000    0.253162\n",
            "75%      8.100000    8.100000  128.500000  ...   17.160000    0.093252    0.312652\n",
            "max      8.570000   13.500000  294.000000  ...  104.480000    1.765000    1.604375\n",
            "\n",
            "[8 rows x 15 columns]\n"
          ],
          "name": "stdout"
        }
      ]
    },
    {
      "cell_type": "code",
      "metadata": {
        "colab": {
          "base_uri": "https://localhost:8080/"
        },
        "id": "BB4-HOvwBkSa",
        "outputId": "a057e923-e142-4e3d-e36b-4dd7da404e89"
      },
      "source": [
        "print(df.isnull().sum())"
      ],
      "execution_count": 9,
      "outputs": [
        {
          "output_type": "stream",
          "text": [
            "Date            0\n",
            "pH              2\n",
            "DO              1\n",
            "TDS           104\n",
            "Alkalinity      0\n",
            "EC              4\n",
            "Na              2\n",
            "Ca             42\n",
            "Mg             39\n",
            "K              54\n",
            "F              65\n",
            "Cl             21\n",
            "Nitrate         2\n",
            "Sulphate       27\n",
            "Phosphate      92\n",
            "WPI            87\n",
            "dtype: int64\n"
          ],
          "name": "stdout"
        }
      ]
    },
    {
      "cell_type": "code",
      "metadata": {
        "colab": {
          "base_uri": "https://localhost:8080/"
        },
        "id": "jZqkyF2jBzib",
        "outputId": "dbdcd876-6ba2-4740-e0a1-d593a90e9139"
      },
      "source": [
        "print(df.head())"
      ],
      "execution_count": 10,
      "outputs": [
        {
          "output_type": "stream",
          "text": [
            "        Date    pH   DO    TDS  ...   Nitrate  Sulphate  Phosphate       WPI\n",
            "0  01-Jan-14  8.14  8.7   84.0  ...  0.758000  6.534660    0.06211  0.249528\n",
            "1  02-Jan-14  7.70  8.8  110.0  ...  0.196062  8.138620    0.00960  0.216400\n",
            "2  03-Jan-14  7.60  7.5   75.0  ...  0.298875  3.855625    0.01280  0.183814\n",
            "3  04-Jan-14   NaN  9.1   76.0  ...  0.299591  2.238750    0.01536  0.219282\n",
            "4  05-Jan-14   NaN  7.3   84.0  ...  0.106000  5.600000    0.01000  0.165831\n",
            "\n",
            "[5 rows x 16 columns]\n"
          ],
          "name": "stdout"
        }
      ]
    },
    {
      "cell_type": "code",
      "metadata": {
        "colab": {
          "base_uri": "https://localhost:8080/"
        },
        "id": "OlGK43P3C2ym",
        "outputId": "eedec1a0-bc32-4226-b519-e2291f9fc081"
      },
      "source": [
        "print(df['TDS'].head(100))"
      ],
      "execution_count": 12,
      "outputs": [
        {
          "output_type": "stream",
          "text": [
            "0      84.0\n",
            "1     110.0\n",
            "2      75.0\n",
            "3      76.0\n",
            "4      84.0\n",
            "      ...  \n",
            "95     88.0\n",
            "96     88.0\n",
            "97     98.0\n",
            "98    108.0\n",
            "99     92.0\n",
            "Name: TDS, Length: 100, dtype: float64\n"
          ],
          "name": "stdout"
        }
      ]
    },
    {
      "cell_type": "code",
      "metadata": {
        "colab": {
          "base_uri": "https://localhost:8080/"
        },
        "id": "F-7ghHDqEKPP",
        "outputId": "5b32f1aa-bc3e-4fc1-e649-1d263ca8c697"
      },
      "source": [
        "# a list with all missing value formats\n",
        "missing_value_formats = [\"n.a.\",\"?\",\"NA\",\"n/a\", \"na\", \"--\"]\n",
        "df = pd.read_csv(\"/content/drive/MyDrive/DATA/missdata.csv\", na_values = missing_value_formats)\n",
        "\n",
        "\n",
        "print(df['pH'].head(10))"
      ],
      "execution_count": 13,
      "outputs": [
        {
          "output_type": "stream",
          "text": [
            "0    8.14\n",
            "1    7.70\n",
            "2    7.60\n",
            "3     NaN\n",
            "4     NaN\n",
            "5    8.40\n",
            "6    7.40\n",
            "7    7.90\n",
            "8    8.00\n",
            "9    7.40\n",
            "Name: pH, dtype: float64\n"
          ],
          "name": "stdout"
        }
      ]
    },
    {
      "cell_type": "code",
      "metadata": {
        "colab": {
          "base_uri": "https://localhost:8080/"
        },
        "id": "FHjCgJQLEh2f",
        "outputId": "94d55720-d8de-4b80-cad1-9d6ec8714bc1"
      },
      "source": [
        "import pandas as pd\n",
        "\n",
        "missing_value_formats = [\"n.a.\",\"?\",\"NA\",\"n/a\", \"na\", \"--\"]\n",
        "df = pd.read_csv(\"/content/drive/MyDrive/DATA/missdata.csv\", na_values = missing_value_formats)\n",
        "\n",
        "def make_int(i):\n",
        "    try:\n",
        "        return int(i)\n",
        "    except:\n",
        "        return pd.np.nan\n",
        "\n",
        "# apply make_int function to the entire series using map\n",
        "df['pH'] = df['pH'].map(make_int)\n",
        "print(df['pH'].head())"
      ],
      "execution_count": 15,
      "outputs": [
        {
          "output_type": "stream",
          "text": [
            "0    8.0\n",
            "1    7.0\n",
            "2    7.0\n",
            "3    NaN\n",
            "4    NaN\n",
            "Name: pH, dtype: float64\n"
          ],
          "name": "stdout"
        },
        {
          "output_type": "stream",
          "text": [
            "/usr/local/lib/python3.7/dist-packages/ipykernel_launcher.py:10: FutureWarning: The pandas.np module is deprecated and will be removed from pandas in a future version. Import numpy directly instead\n",
            "  # Remove the CWD from sys.path while we load stuff.\n"
          ],
          "name": "stderr"
        }
      ]
    },
    {
      "cell_type": "code",
      "metadata": {
        "colab": {
          "base_uri": "https://localhost:8080/"
        },
        "id": "V5tzLmN6E4UV",
        "outputId": "526ef249-ae3a-480f-9087-f148021c17b0"
      },
      "source": [
        "# NaN values are marked True\n",
        "print(df['pH'].isnull().head(10))\n",
        "# NaN values are marked False \n",
        "print(df['pH'].notnull().head(10))"
      ],
      "execution_count": 17,
      "outputs": [
        {
          "output_type": "stream",
          "text": [
            "0    False\n",
            "1    False\n",
            "2    False\n",
            "3     True\n",
            "4     True\n",
            "5    False\n",
            "6    False\n",
            "7    False\n",
            "8    False\n",
            "9    False\n",
            "Name: pH, dtype: bool\n",
            "0     True\n",
            "1     True\n",
            "2     True\n",
            "3    False\n",
            "4    False\n",
            "5     True\n",
            "6     True\n",
            "7     True\n",
            "8     True\n",
            "9     True\n",
            "Name: pH, dtype: bool\n"
          ],
          "name": "stdout"
        }
      ]
    },
    {
      "cell_type": "code",
      "metadata": {
        "colab": {
          "base_uri": "https://localhost:8080/"
        },
        "id": "8zffSXeNFJ4I",
        "outputId": "09647185-d109-4a9f-d1df-cb3e9f6b31ca"
      },
      "source": [
        "# notnull will return False for all NaN values\n",
        "null_filter = df['pH'].notnull()\n",
        "# prints only those rows where null_filter is True\n",
        "print(df[null_filter])"
      ],
      "execution_count": 18,
      "outputs": [
        {
          "output_type": "stream",
          "text": [
            "          Date   pH   DO    TDS  ...   Nitrate    Sulphate  Phosphate       WPI\n",
            "0    01-Jan-14  8.0  8.7   84.0  ...  0.758000    6.534660    0.06211  0.249528\n",
            "1    02-Jan-14  7.0  8.8  110.0  ...  0.196062    8.138620    0.00960  0.216400\n",
            "2    03-Jan-14  7.0  7.5   75.0  ...  0.298875    3.855625    0.01280  0.183814\n",
            "5    06-Jan-14  8.0  7.4  103.0  ...  0.506000   12.810000    0.10600  0.308627\n",
            "6    07-Jan-14  7.0  NaN    NaN  ...  0.314000   20.521000    0.24300  0.406891\n",
            "..         ...  ...  ...    ...  ...       ...         ...        ...       ...\n",
            "482  28-Apr-15  7.0  5.6    NaN  ...  1.352000  104.480000    0.01500  0.419630\n",
            "483  29-Apr-15  7.0  5.6    NaN  ...  7.074000   61.068000    0.03300  0.432996\n",
            "484  30-Apr-15  5.0  5.8  290.0  ...  9.256000   89.910000    0.16300  0.326811\n",
            "485  01-May-15  7.0  6.4    NaN  ...  7.110435   48.500000    0.21900  0.509970\n",
            "486  02-May-15  7.0  6.9    NaN  ...  6.385000   59.940000    0.07000  0.422551\n",
            "\n",
            "[485 rows x 16 columns]\n"
          ],
          "name": "stdout"
        }
      ]
    },
    {
      "cell_type": "code",
      "metadata": {
        "colab": {
          "base_uri": "https://localhost:8080/"
        },
        "id": "Dsk-VbePFd4k",
        "outputId": "3733fdd9-94b6-4043-ead1-ef91748d276b"
      },
      "source": [
        "print(df.isnull().values.any())\n"
      ],
      "execution_count": 20,
      "outputs": [
        {
          "output_type": "stream",
          "text": [
            "True\n"
          ],
          "name": "stdout"
        }
      ]
    },
    {
      "cell_type": "code",
      "metadata": {
        "colab": {
          "base_uri": "https://localhost:8080/"
        },
        "id": "4N85p1dxFkO6",
        "outputId": "295a9283-f584-429f-fe68-dd3a4e2c3006"
      },
      "source": [
        "print(df.isnull().sum())"
      ],
      "execution_count": 21,
      "outputs": [
        {
          "output_type": "stream",
          "text": [
            "Date            0\n",
            "pH              2\n",
            "DO              1\n",
            "TDS           104\n",
            "Alkalinity      0\n",
            "EC              4\n",
            "Na              2\n",
            "Ca             42\n",
            "Mg             39\n",
            "K              54\n",
            "F              65\n",
            "Cl             21\n",
            "Nitrate         2\n",
            "Sulphate       27\n",
            "Phosphate      92\n",
            "WPI            87\n",
            "dtype: int64\n"
          ],
          "name": "stdout"
        }
      ]
    },
    {
      "cell_type": "markdown",
      "metadata": {
        "id": "UBFPJp2uGBkl"
      },
      "source": [
        "Imputing Missing Values in our Dataset"
      ]
    },
    {
      "cell_type": "markdown",
      "metadata": {
        "id": "RVaV-ygNGZKP"
      },
      "source": [
        "replace missing values with 0"
      ]
    },
    {
      "cell_type": "code",
      "metadata": {
        "colab": {
          "base_uri": "https://localhost:8080/"
        },
        "id": "CNt2dPGPFqGy",
        "outputId": "3d43ebb0-174c-4ada-a385-d502b63ca31c"
      },
      "source": [
        "df['pH'].fillna(0, inplace=True)\n",
        "print(df['pH'].head(10))"
      ],
      "execution_count": 23,
      "outputs": [
        {
          "output_type": "stream",
          "text": [
            "0    8.0\n",
            "1    7.0\n",
            "2    7.0\n",
            "3    0.0\n",
            "4    0.0\n",
            "5    8.0\n",
            "6    7.0\n",
            "7    7.0\n",
            "8    8.0\n",
            "9    7.0\n",
            "Name: pH, dtype: float64\n"
          ],
          "name": "stdout"
        }
      ]
    },
    {
      "cell_type": "code",
      "metadata": {
        "colab": {
          "base_uri": "https://localhost:8080/"
        },
        "id": "CSKJPrgiGQfG",
        "outputId": "5e1148b1-26ce-4588-c8e5-2532afebf0d4"
      },
      "source": [
        "df.fillna(0, inplace=True)\n",
        "print(df.head(10))"
      ],
      "execution_count": 24,
      "outputs": [
        {
          "output_type": "stream",
          "text": [
            "        Date   pH   DO    TDS  ...   Nitrate   Sulphate  Phosphate       WPI\n",
            "0  01-Jan-14  8.0  8.7   84.0  ...  0.758000   6.534660    0.06211  0.249528\n",
            "1  02-Jan-14  7.0  8.8  110.0  ...  0.196062   8.138620    0.00960  0.216400\n",
            "2  03-Jan-14  7.0  7.5   75.0  ...  0.298875   3.855625    0.01280  0.183814\n",
            "3  04-Jan-14  0.0  9.1   76.0  ...  0.299591   2.238750    0.01536  0.219282\n",
            "4  05-Jan-14  0.0  7.3   84.0  ...  0.106000   5.600000    0.01000  0.165831\n",
            "5  06-Jan-14  8.0  7.4  103.0  ...  0.506000  12.810000    0.10600  0.308627\n",
            "6  07-Jan-14  7.0  0.0    0.0  ...  0.314000  20.521000    0.24300  0.406891\n",
            "7  08-Jan-14  7.0  6.8   94.0  ...  1.423000   8.830000    0.04500  0.291804\n",
            "8  09-Jan-14  8.0  8.0  106.0  ...  0.157806   7.400000    0.01400  0.219930\n",
            "9  10-Jan-14  7.0  5.9  117.0  ...  0.059000   7.711000    0.00000  0.237340\n",
            "\n",
            "[10 rows x 16 columns]\n"
          ],
          "name": "stdout"
        }
      ]
    },
    {
      "cell_type": "markdown",
      "metadata": {
        "id": "9wveKAIhGjsu"
      },
      "source": [
        "Replacing NaNs with the value from the previous row or the next row"
      ]
    },
    {
      "cell_type": "code",
      "metadata": {
        "colab": {
          "base_uri": "https://localhost:8080/"
        },
        "id": "Ku5oMZG7I6Ns",
        "outputId": "a03450af-487f-44e7-a64c-f8722951e1d9"
      },
      "source": [
        "import numpy as np\n",
        "df = df.replace(0, np.nan)\n",
        "print(df.head(10))"
      ],
      "execution_count": 37,
      "outputs": [
        {
          "output_type": "stream",
          "text": [
            "        Date   pH   DO    TDS  ...   Nitrate   Sulphate  Phosphate       WPI\n",
            "0  01-Jan-14  8.0  8.7   84.0  ...  0.758000   6.534660    0.06211  0.249528\n",
            "1  02-Jan-14  7.0  8.8  110.0  ...  0.196062   8.138620    0.00960  0.216400\n",
            "2  03-Jan-14  7.0  7.5   75.0  ...  0.298875   3.855625    0.01280  0.183814\n",
            "3  04-Jan-14  NaN  9.1   76.0  ...  0.299591   2.238750    0.01536  0.219282\n",
            "4  05-Jan-14  NaN  7.3   84.0  ...  0.106000   5.600000    0.01000  0.165831\n",
            "5  06-Jan-14  8.0  7.4  103.0  ...  0.506000  12.810000    0.10600  0.308627\n",
            "6  07-Jan-14  7.0  NaN    NaN  ...  0.314000  20.521000    0.24300  0.406891\n",
            "7  08-Jan-14  7.0  6.8   94.0  ...  1.423000   8.830000    0.04500  0.291804\n",
            "8  09-Jan-14  8.0  8.0  106.0  ...  0.157806   7.400000    0.01400  0.219930\n",
            "9  10-Jan-14  7.0  5.9  117.0  ...  0.059000   7.711000        NaN  0.237340\n",
            "\n",
            "[10 rows x 16 columns]\n"
          ],
          "name": "stdout"
        }
      ]
    },
    {
      "cell_type": "code",
      "metadata": {
        "colab": {
          "base_uri": "https://localhost:8080/"
        },
        "id": "hCMmyY4EGXfl",
        "outputId": "4c074976-df3c-4c63-dd52-51cc75c24d1d"
      },
      "source": [
        "df['pH'].fillna(method='pad', inplace=True)\n",
        "print(df['pH'].head(10))"
      ],
      "execution_count": 38,
      "outputs": [
        {
          "output_type": "stream",
          "text": [
            "0    8.0\n",
            "1    7.0\n",
            "2    7.0\n",
            "3    7.0\n",
            "4    7.0\n",
            "5    8.0\n",
            "6    7.0\n",
            "7    7.0\n",
            "8    8.0\n",
            "9    7.0\n",
            "Name: pH, dtype: float64\n"
          ],
          "name": "stdout"
        }
      ]
    },
    {
      "cell_type": "code",
      "metadata": {
        "colab": {
          "base_uri": "https://localhost:8080/"
        },
        "id": "y4nVk35AGvn_",
        "outputId": "23621f25-b55e-4d54-b942-7545bae8e92b"
      },
      "source": [
        "df['pH'].fillna(method='bfill', inplace=True)\n",
        "print(df['pH'].head(10))"
      ],
      "execution_count": 39,
      "outputs": [
        {
          "output_type": "stream",
          "text": [
            "0    8.0\n",
            "1    7.0\n",
            "2    7.0\n",
            "3    7.0\n",
            "4    7.0\n",
            "5    8.0\n",
            "6    7.0\n",
            "7    7.0\n",
            "8    8.0\n",
            "9    7.0\n",
            "Name: pH, dtype: float64\n"
          ],
          "name": "stdout"
        }
      ]
    },
    {
      "cell_type": "code",
      "metadata": {
        "colab": {
          "base_uri": "https://localhost:8080/"
        },
        "id": "hmyVuVC6G4T8",
        "outputId": "f0e6407b-c2a0-42f6-a8f8-d837b8ff5927"
      },
      "source": [
        "df.fillna(method='pad', inplace=True)\n",
        "print(df.head(10))"
      ],
      "execution_count": 40,
      "outputs": [
        {
          "output_type": "stream",
          "text": [
            "        Date   pH   DO    TDS  ...   Nitrate   Sulphate  Phosphate       WPI\n",
            "0  01-Jan-14  8.0  8.7   84.0  ...  0.758000   6.534660    0.06211  0.249528\n",
            "1  02-Jan-14  7.0  8.8  110.0  ...  0.196062   8.138620    0.00960  0.216400\n",
            "2  03-Jan-14  7.0  7.5   75.0  ...  0.298875   3.855625    0.01280  0.183814\n",
            "3  04-Jan-14  7.0  9.1   76.0  ...  0.299591   2.238750    0.01536  0.219282\n",
            "4  05-Jan-14  7.0  7.3   84.0  ...  0.106000   5.600000    0.01000  0.165831\n",
            "5  06-Jan-14  8.0  7.4  103.0  ...  0.506000  12.810000    0.10600  0.308627\n",
            "6  07-Jan-14  7.0  7.4  103.0  ...  0.314000  20.521000    0.24300  0.406891\n",
            "7  08-Jan-14  7.0  6.8   94.0  ...  1.423000   8.830000    0.04500  0.291804\n",
            "8  09-Jan-14  8.0  8.0  106.0  ...  0.157806   7.400000    0.01400  0.219930\n",
            "9  10-Jan-14  7.0  5.9  117.0  ...  0.059000   7.711000    0.01400  0.237340\n",
            "\n",
            "[10 rows x 16 columns]\n"
          ],
          "name": "stdout"
        }
      ]
    },
    {
      "cell_type": "code",
      "metadata": {
        "colab": {
          "base_uri": "https://localhost:8080/"
        },
        "id": "vpjnYyyDHAjO",
        "outputId": "dc421bf8-de18-4ad2-c68c-cfa8ae48064b"
      },
      "source": [
        "df.fillna(method='bfill', inplace=True)\n",
        "print(df.head(10))"
      ],
      "execution_count": 41,
      "outputs": [
        {
          "output_type": "stream",
          "text": [
            "        Date   pH   DO    TDS  ...   Nitrate   Sulphate  Phosphate       WPI\n",
            "0  01-Jan-14  8.0  8.7   84.0  ...  0.758000   6.534660    0.06211  0.249528\n",
            "1  02-Jan-14  7.0  8.8  110.0  ...  0.196062   8.138620    0.00960  0.216400\n",
            "2  03-Jan-14  7.0  7.5   75.0  ...  0.298875   3.855625    0.01280  0.183814\n",
            "3  04-Jan-14  7.0  9.1   76.0  ...  0.299591   2.238750    0.01536  0.219282\n",
            "4  05-Jan-14  7.0  7.3   84.0  ...  0.106000   5.600000    0.01000  0.165831\n",
            "5  06-Jan-14  8.0  7.4  103.0  ...  0.506000  12.810000    0.10600  0.308627\n",
            "6  07-Jan-14  7.0  7.4  103.0  ...  0.314000  20.521000    0.24300  0.406891\n",
            "7  08-Jan-14  7.0  6.8   94.0  ...  1.423000   8.830000    0.04500  0.291804\n",
            "8  09-Jan-14  8.0  8.0  106.0  ...  0.157806   7.400000    0.01400  0.219930\n",
            "9  10-Jan-14  7.0  5.9  117.0  ...  0.059000   7.711000    0.01400  0.237340\n",
            "\n",
            "[10 rows x 16 columns]\n"
          ],
          "name": "stdout"
        }
      ]
    },
    {
      "cell_type": "markdown",
      "metadata": {
        "id": "gS2uRTSeHQO3"
      },
      "source": [
        "Replacing NaNs using Median/Mean of the column"
      ]
    },
    {
      "cell_type": "code",
      "metadata": {
        "colab": {
          "base_uri": "https://localhost:8080/"
        },
        "id": "1O1eQTQKHLoV",
        "outputId": "114c9b25-5d02-49d9-f656-a1a62f8b48a6"
      },
      "source": [
        "# using median\n",
        "df['pH'].fillna(df['pH'].median(), inplace=True)\n",
        "print(df['pH'].head(10))"
      ],
      "execution_count": 42,
      "outputs": [
        {
          "output_type": "stream",
          "text": [
            "0    8.0\n",
            "1    7.0\n",
            "2    7.0\n",
            "3    7.0\n",
            "4    7.0\n",
            "5    8.0\n",
            "6    7.0\n",
            "7    7.0\n",
            "8    8.0\n",
            "9    7.0\n",
            "Name: pH, dtype: float64\n"
          ],
          "name": "stdout"
        }
      ]
    },
    {
      "cell_type": "code",
      "metadata": {
        "colab": {
          "base_uri": "https://localhost:8080/"
        },
        "id": "1jiMgCwSHazz",
        "outputId": "597a5433-43cc-4b1e-e16f-0123672e79fb"
      },
      "source": [
        "#using mean\n",
        "df['pH'].fillna(int(df['pH'].mean()), inplace=True)\n",
        "print(df['pH'].head(10))"
      ],
      "execution_count": 43,
      "outputs": [
        {
          "output_type": "stream",
          "text": [
            "0    8.0\n",
            "1    7.0\n",
            "2    7.0\n",
            "3    7.0\n",
            "4    7.0\n",
            "5    8.0\n",
            "6    7.0\n",
            "7    7.0\n",
            "8    8.0\n",
            "9    7.0\n",
            "Name: pH, dtype: float64\n"
          ],
          "name": "stdout"
        }
      ]
    },
    {
      "cell_type": "code",
      "metadata": {
        "colab": {
          "base_uri": "https://localhost:8080/"
        },
        "id": "bpIoR3h_IOk5",
        "outputId": "3d284d76-d0d4-4609-c31b-f8ba004348a6"
      },
      "source": [
        "df.isnull().values.any()"
      ],
      "execution_count": 46,
      "outputs": [
        {
          "output_type": "execute_result",
          "data": {
            "text/plain": [
              "False"
            ]
          },
          "metadata": {
            "tags": []
          },
          "execution_count": 46
        }
      ]
    },
    {
      "cell_type": "code",
      "metadata": {
        "colab": {
          "base_uri": "https://localhost:8080/"
        },
        "id": "ZFbz2C2GIfKK",
        "outputId": "ca1b0b9d-3982-4c2d-affa-479f0998dd0c"
      },
      "source": [
        "df.isnull().sum().sum()"
      ],
      "execution_count": 47,
      "outputs": [
        {
          "output_type": "execute_result",
          "data": {
            "text/plain": [
              "0"
            ]
          },
          "metadata": {
            "tags": []
          },
          "execution_count": 47
        }
      ]
    },
    {
      "cell_type": "code",
      "metadata": {
        "id": "L7QngcTZKMUB",
        "outputId": "e1b7ac28-9975-4269-87e8-01b5efac316f",
        "colab": {
          "base_uri": "https://localhost:8080/"
        }
      },
      "source": [
        "# using median\n",
        "df.fillna(df.median(), inplace=True)\n",
        "print(df.head(10))"
      ],
      "execution_count": 48,
      "outputs": [
        {
          "output_type": "stream",
          "text": [
            "        Date   pH   DO    TDS  ...   Nitrate   Sulphate  Phosphate       WPI\n",
            "0  01-Jan-14  8.0  8.7   84.0  ...  0.758000   6.534660    0.06211  0.249528\n",
            "1  02-Jan-14  7.0  8.8  110.0  ...  0.196062   8.138620    0.00960  0.216400\n",
            "2  03-Jan-14  7.0  7.5   75.0  ...  0.298875   3.855625    0.01280  0.183814\n",
            "3  04-Jan-14  7.0  9.1   76.0  ...  0.299591   2.238750    0.01536  0.219282\n",
            "4  05-Jan-14  7.0  7.3   84.0  ...  0.106000   5.600000    0.01000  0.165831\n",
            "5  06-Jan-14  8.0  7.4  103.0  ...  0.506000  12.810000    0.10600  0.308627\n",
            "6  07-Jan-14  7.0  7.4  103.0  ...  0.314000  20.521000    0.24300  0.406891\n",
            "7  08-Jan-14  7.0  6.8   94.0  ...  1.423000   8.830000    0.04500  0.291804\n",
            "8  09-Jan-14  8.0  8.0  106.0  ...  0.157806   7.400000    0.01400  0.219930\n",
            "9  10-Jan-14  7.0  5.9  117.0  ...  0.059000   7.711000    0.01400  0.237340\n",
            "\n",
            "[10 rows x 16 columns]\n"
          ],
          "name": "stdout"
        }
      ]
    },
    {
      "cell_type": "markdown",
      "metadata": {
        "id": "ju1QoBBgKz-b"
      },
      "source": [
        "Using the interpolate method"
      ]
    },
    {
      "cell_type": "code",
      "metadata": {
        "id": "9etuD4XpKfR1",
        "outputId": "3610141b-295b-4df9-aad8-d4c064afdf03",
        "colab": {
          "base_uri": "https://localhost:8080/"
        }
      },
      "source": [
        "df['pH'].interpolate(method='linear', direction = 'forward', inplace=True) \n",
        "print(df['pH'].head(10))"
      ],
      "execution_count": 50,
      "outputs": [
        {
          "output_type": "stream",
          "text": [
            "0    8.0\n",
            "1    7.0\n",
            "2    7.0\n",
            "3    7.0\n",
            "4    7.0\n",
            "5    8.0\n",
            "6    7.0\n",
            "7    7.0\n",
            "8    8.0\n",
            "9    7.0\n",
            "Name: pH, dtype: float64\n"
          ],
          "name": "stdout"
        }
      ]
    },
    {
      "cell_type": "code",
      "metadata": {
        "id": "arq6z9FvK7fm",
        "outputId": "56b4747b-9814-4b2a-95ac-cfef62d41fe7",
        "colab": {
          "base_uri": "https://localhost:8080/"
        }
      },
      "source": [
        "df.interpolate(method='linear', direction = 'forward', inplace=True) \n",
        "print(df.head(10))"
      ],
      "execution_count": 51,
      "outputs": [
        {
          "output_type": "stream",
          "text": [
            "        Date   pH   DO    TDS  ...   Nitrate   Sulphate  Phosphate       WPI\n",
            "0  01-Jan-14  8.0  8.7   84.0  ...  0.758000   6.534660    0.06211  0.249528\n",
            "1  02-Jan-14  7.0  8.8  110.0  ...  0.196062   8.138620    0.00960  0.216400\n",
            "2  03-Jan-14  7.0  7.5   75.0  ...  0.298875   3.855625    0.01280  0.183814\n",
            "3  04-Jan-14  7.0  9.1   76.0  ...  0.299591   2.238750    0.01536  0.219282\n",
            "4  05-Jan-14  7.0  7.3   84.0  ...  0.106000   5.600000    0.01000  0.165831\n",
            "5  06-Jan-14  8.0  7.4  103.0  ...  0.506000  12.810000    0.10600  0.308627\n",
            "6  07-Jan-14  7.0  7.4  103.0  ...  0.314000  20.521000    0.24300  0.406891\n",
            "7  08-Jan-14  7.0  6.8   94.0  ...  1.423000   8.830000    0.04500  0.291804\n",
            "8  09-Jan-14  8.0  8.0  106.0  ...  0.157806   7.400000    0.01400  0.219930\n",
            "9  10-Jan-14  7.0  5.9  117.0  ...  0.059000   7.711000    0.01400  0.237340\n",
            "\n",
            "[10 rows x 16 columns]\n"
          ],
          "name": "stdout"
        }
      ]
    },
    {
      "cell_type": "code",
      "metadata": {
        "id": "ivcRUuSeL5TN",
        "outputId": "53e77488-e862-47ad-adb2-e94c88887561",
        "colab": {
          "base_uri": "https://localhost:8080/",
          "height": 17
        }
      },
      "source": [
        "from google.colab import files\n",
        "\n",
        "# e.g. save pandas output as csv\n",
        "df.to_csv('inter.csv')\n",
        "\n",
        "# or any other file as usual\n",
        "# with open('example.csv', 'w') as f:\n",
        "#   f.write('your strings here')\n",
        "\n",
        "files.download('inter.csv')"
      ],
      "execution_count": 54,
      "outputs": [
        {
          "output_type": "display_data",
          "data": {
            "application/javascript": [
              "\n",
              "    async function download(id, filename, size) {\n",
              "      if (!google.colab.kernel.accessAllowed) {\n",
              "        return;\n",
              "      }\n",
              "      const div = document.createElement('div');\n",
              "      const label = document.createElement('label');\n",
              "      label.textContent = `Downloading \"${filename}\": `;\n",
              "      div.appendChild(label);\n",
              "      const progress = document.createElement('progress');\n",
              "      progress.max = size;\n",
              "      div.appendChild(progress);\n",
              "      document.body.appendChild(div);\n",
              "\n",
              "      const buffers = [];\n",
              "      let downloaded = 0;\n",
              "\n",
              "      const channel = await google.colab.kernel.comms.open(id);\n",
              "      // Send a message to notify the kernel that we're ready.\n",
              "      channel.send({})\n",
              "\n",
              "      for await (const message of channel.messages) {\n",
              "        // Send a message to notify the kernel that we're ready.\n",
              "        channel.send({})\n",
              "        if (message.buffers) {\n",
              "          for (const buffer of message.buffers) {\n",
              "            buffers.push(buffer);\n",
              "            downloaded += buffer.byteLength;\n",
              "            progress.value = downloaded;\n",
              "          }\n",
              "        }\n",
              "      }\n",
              "      const blob = new Blob(buffers, {type: 'application/binary'});\n",
              "      const a = document.createElement('a');\n",
              "      a.href = window.URL.createObjectURL(blob);\n",
              "      a.download = filename;\n",
              "      div.appendChild(a);\n",
              "      a.click();\n",
              "      div.remove();\n",
              "    }\n",
              "  "
            ],
            "text/plain": [
              "<IPython.core.display.Javascript object>"
            ]
          },
          "metadata": {
            "tags": []
          }
        },
        {
          "output_type": "display_data",
          "data": {
            "application/javascript": [
              "download(\"download_292328c5-980b-468e-abfd-78621bf3b5bd\", \"inter.csv\", 54095)"
            ],
            "text/plain": [
              "<IPython.core.display.Javascript object>"
            ]
          },
          "metadata": {
            "tags": []
          }
        }
      ]
    },
    {
      "cell_type": "markdown",
      "metadata": {
        "id": "mC3d7wvvLUcQ"
      },
      "source": [
        "Imputing the Time-Series"
      ]
    },
    {
      "cell_type": "code",
      "metadata": {
        "id": "rUCPslpjLB8o"
      },
      "source": [
        "# Import the required libraries\n",
        "import pandas as pd\n",
        "import numpy as np\n",
        "import matplotlib.pyplot as plt\n",
        "# Import a scoring metric to compare methods\n",
        "from sklearn.metrics import r2_score\n",
        "%matplotlib inline"
      ],
      "execution_count": 55,
      "outputs": []
    },
    {
      "cell_type": "code",
      "metadata": {
        "id": "h08jQ8ZyN8OB"
      },
      "source": [
        ""
      ],
      "execution_count": null,
      "outputs": []
    }
  ]
}