{
  "nbformat": 4,
  "nbformat_minor": 0,
  "metadata": {
    "colab": {
      "name": "WPI ML model.ipynb",
      "provenance": [],
      "collapsed_sections": [],
      "authorship_tag": "ABX9TyNtJ6tOjmTVaWppTh4s0U6k",
      "include_colab_link": true
    },
    "kernelspec": {
      "name": "python3",
      "display_name": "Python 3"
    },
    "language_info": {
      "name": "python"
    }
  },
  "cells": [
    {
      "cell_type": "markdown",
      "metadata": {
        "id": "view-in-github",
        "colab_type": "text"
      },
      "source": [
        "<a href=\"https://colab.research.google.com/github/ApahSaroj/WPI/blob/main/WPI_ML_model.ipynb\" target=\"_parent\"><img src=\"https://colab.research.google.com/assets/colab-badge.svg\" alt=\"Open In Colab\"/></a>"
      ]
    },
    {
      "cell_type": "code",
      "metadata": {
        "id": "rzrEPlBF6noS"
      },
      "source": [
        "import pandas as pd"
      ],
      "execution_count": 1,
      "outputs": []
    },
    {
      "cell_type": "code",
      "metadata": {
        "id": "rmLN8Mdr6x2F"
      },
      "source": [
        "from google.colab import drive"
      ],
      "execution_count": 2,
      "outputs": []
    },
    {
      "cell_type": "code",
      "metadata": {
        "colab": {
          "base_uri": "https://localhost:8080/"
        },
        "id": "5ag3nt6F62Jh",
        "outputId": "89c16d1e-6e9c-47ca-aacc-f1dba6a6eb4b"
      },
      "source": [
        "drive.mount('/content/drive')"
      ],
      "execution_count": 3,
      "outputs": [
        {
          "output_type": "stream",
          "text": [
            "Drive already mounted at /content/drive; to attempt to forcibly remount, call drive.mount(\"/content/drive\", force_remount=True).\n"
          ],
          "name": "stdout"
        }
      ]
    },
    {
      "cell_type": "code",
      "metadata": {
        "colab": {
          "base_uri": "https://localhost:8080/",
          "height": 456
        },
        "id": "3QnvMpmf658P",
        "outputId": "6d16de04-fd22-4036-e19f-4f75028c8ca4"
      },
      "source": [
        "df = pd.read_excel('/content/drive/MyDrive/DATA/WQC_test.xlsx')\n",
        "df"
      ],
      "execution_count": 4,
      "outputs": [
        {
          "output_type": "execute_result",
          "data": {
            "text/html": [
              "<div>\n",
              "<style scoped>\n",
              "    .dataframe tbody tr th:only-of-type {\n",
              "        vertical-align: middle;\n",
              "    }\n",
              "\n",
              "    .dataframe tbody tr th {\n",
              "        vertical-align: top;\n",
              "    }\n",
              "\n",
              "    .dataframe thead th {\n",
              "        text-align: right;\n",
              "    }\n",
              "</style>\n",
              "<table border=\"1\" class=\"dataframe\">\n",
              "  <thead>\n",
              "    <tr style=\"text-align: right;\">\n",
              "      <th></th>\n",
              "      <th>Unnamed: 0</th>\n",
              "      <th>pH</th>\n",
              "      <th>DO</th>\n",
              "      <th>TDS</th>\n",
              "      <th>Alkalinity</th>\n",
              "      <th>EC</th>\n",
              "      <th>Na</th>\n",
              "      <th>Ca</th>\n",
              "      <th>Mg</th>\n",
              "      <th>K</th>\n",
              "      <th>F</th>\n",
              "      <th>Cl</th>\n",
              "      <th>Nitrate</th>\n",
              "      <th>Sulphate</th>\n",
              "      <th>Phosphate</th>\n",
              "      <th>WPI</th>\n",
              "      <th>WQC</th>\n",
              "    </tr>\n",
              "  </thead>\n",
              "  <tbody>\n",
              "    <tr>\n",
              "      <th>0</th>\n",
              "      <td>0</td>\n",
              "      <td>8.14</td>\n",
              "      <td>8.7</td>\n",
              "      <td>84.0</td>\n",
              "      <td>52.0</td>\n",
              "      <td>147.8</td>\n",
              "      <td>4.48</td>\n",
              "      <td>44.0</td>\n",
              "      <td>20.0</td>\n",
              "      <td>1.17</td>\n",
              "      <td>0.285</td>\n",
              "      <td>7.80</td>\n",
              "      <td>0.758000</td>\n",
              "      <td>6.534660</td>\n",
              "      <td>0.06211</td>\n",
              "      <td>0.249528</td>\n",
              "      <td>Excellent</td>\n",
              "    </tr>\n",
              "    <tr>\n",
              "      <th>1</th>\n",
              "      <td>1</td>\n",
              "      <td>7.70</td>\n",
              "      <td>8.8</td>\n",
              "      <td>110.0</td>\n",
              "      <td>76.0</td>\n",
              "      <td>188.0</td>\n",
              "      <td>8.61</td>\n",
              "      <td>44.0</td>\n",
              "      <td>36.0</td>\n",
              "      <td>3.46</td>\n",
              "      <td>0.401</td>\n",
              "      <td>14.80</td>\n",
              "      <td>0.196062</td>\n",
              "      <td>8.138620</td>\n",
              "      <td>0.00960</td>\n",
              "      <td>0.216400</td>\n",
              "      <td>Excellent</td>\n",
              "    </tr>\n",
              "    <tr>\n",
              "      <th>2</th>\n",
              "      <td>2</td>\n",
              "      <td>7.60</td>\n",
              "      <td>7.5</td>\n",
              "      <td>75.0</td>\n",
              "      <td>44.0</td>\n",
              "      <td>128.0</td>\n",
              "      <td>8.11</td>\n",
              "      <td>28.0</td>\n",
              "      <td>20.0</td>\n",
              "      <td>2.80</td>\n",
              "      <td>0.379</td>\n",
              "      <td>14.80</td>\n",
              "      <td>0.298875</td>\n",
              "      <td>3.855625</td>\n",
              "      <td>0.01280</td>\n",
              "      <td>0.183814</td>\n",
              "      <td>Excellent</td>\n",
              "    </tr>\n",
              "    <tr>\n",
              "      <th>3</th>\n",
              "      <td>3</td>\n",
              "      <td>8.20</td>\n",
              "      <td>9.1</td>\n",
              "      <td>76.0</td>\n",
              "      <td>56.0</td>\n",
              "      <td>127.0</td>\n",
              "      <td>6.30</td>\n",
              "      <td>44.0</td>\n",
              "      <td>18.0</td>\n",
              "      <td>1.65</td>\n",
              "      <td>0.396</td>\n",
              "      <td>9.60</td>\n",
              "      <td>0.299590</td>\n",
              "      <td>2.238750</td>\n",
              "      <td>0.01536</td>\n",
              "      <td>0.219282</td>\n",
              "      <td>Excellent</td>\n",
              "    </tr>\n",
              "    <tr>\n",
              "      <th>4</th>\n",
              "      <td>4</td>\n",
              "      <td>7.31</td>\n",
              "      <td>7.3</td>\n",
              "      <td>84.0</td>\n",
              "      <td>52.0</td>\n",
              "      <td>140.0</td>\n",
              "      <td>5.50</td>\n",
              "      <td>28.0</td>\n",
              "      <td>20.0</td>\n",
              "      <td>1.61</td>\n",
              "      <td>0.265</td>\n",
              "      <td>8.30</td>\n",
              "      <td>0.106000</td>\n",
              "      <td>5.600000</td>\n",
              "      <td>0.01000</td>\n",
              "      <td>0.165831</td>\n",
              "      <td>Excellent</td>\n",
              "    </tr>\n",
              "    <tr>\n",
              "      <th>...</th>\n",
              "      <td>...</td>\n",
              "      <td>...</td>\n",
              "      <td>...</td>\n",
              "      <td>...</td>\n",
              "      <td>...</td>\n",
              "      <td>...</td>\n",
              "      <td>...</td>\n",
              "      <td>...</td>\n",
              "      <td>...</td>\n",
              "      <td>...</td>\n",
              "      <td>...</td>\n",
              "      <td>...</td>\n",
              "      <td>...</td>\n",
              "      <td>...</td>\n",
              "      <td>...</td>\n",
              "      <td>...</td>\n",
              "      <td>...</td>\n",
              "    </tr>\n",
              "    <tr>\n",
              "      <th>482</th>\n",
              "      <td>482</td>\n",
              "      <td>7.60</td>\n",
              "      <td>5.6</td>\n",
              "      <td>224.0</td>\n",
              "      <td>8.0</td>\n",
              "      <td>370.0</td>\n",
              "      <td>16.14</td>\n",
              "      <td>92.0</td>\n",
              "      <td>24.0</td>\n",
              "      <td>7.60</td>\n",
              "      <td>2.270</td>\n",
              "      <td>23.04</td>\n",
              "      <td>1.352000</td>\n",
              "      <td>104.480000</td>\n",
              "      <td>0.01500</td>\n",
              "      <td>0.419630</td>\n",
              "      <td>Excellent</td>\n",
              "    </tr>\n",
              "    <tr>\n",
              "      <th>483</th>\n",
              "      <td>483</td>\n",
              "      <td>7.30</td>\n",
              "      <td>5.6</td>\n",
              "      <td>266.0</td>\n",
              "      <td>96.0</td>\n",
              "      <td>434.0</td>\n",
              "      <td>20.56</td>\n",
              "      <td>96.0</td>\n",
              "      <td>32.0</td>\n",
              "      <td>9.89</td>\n",
              "      <td>1.550</td>\n",
              "      <td>30.86</td>\n",
              "      <td>7.074000</td>\n",
              "      <td>61.068000</td>\n",
              "      <td>0.03300</td>\n",
              "      <td>0.432996</td>\n",
              "      <td>Excellent</td>\n",
              "    </tr>\n",
              "    <tr>\n",
              "      <th>484</th>\n",
              "      <td>484</td>\n",
              "      <td>5.10</td>\n",
              "      <td>5.8</td>\n",
              "      <td>290.0</td>\n",
              "      <td>12.0</td>\n",
              "      <td>487.0</td>\n",
              "      <td>37.35</td>\n",
              "      <td>60.0</td>\n",
              "      <td>44.0</td>\n",
              "      <td>14.80</td>\n",
              "      <td>0.159</td>\n",
              "      <td>60.13</td>\n",
              "      <td>9.256000</td>\n",
              "      <td>89.910000</td>\n",
              "      <td>0.16300</td>\n",
              "      <td>0.326811</td>\n",
              "      <td>Excellent</td>\n",
              "    </tr>\n",
              "    <tr>\n",
              "      <th>485</th>\n",
              "      <td>485</td>\n",
              "      <td>7.40</td>\n",
              "      <td>6.4</td>\n",
              "      <td>230.0</td>\n",
              "      <td>72.0</td>\n",
              "      <td>385.0</td>\n",
              "      <td>20.06</td>\n",
              "      <td>70.0</td>\n",
              "      <td>42.0</td>\n",
              "      <td>10.35</td>\n",
              "      <td>1.360</td>\n",
              "      <td>32.92</td>\n",
              "      <td>7.110435</td>\n",
              "      <td>48.500000</td>\n",
              "      <td>0.21900</td>\n",
              "      <td>0.509970</td>\n",
              "      <td>Good</td>\n",
              "    </tr>\n",
              "    <tr>\n",
              "      <th>486</th>\n",
              "      <td>486</td>\n",
              "      <td>7.60</td>\n",
              "      <td>6.9</td>\n",
              "      <td>243.0</td>\n",
              "      <td>68.0</td>\n",
              "      <td>410.8</td>\n",
              "      <td>17.41</td>\n",
              "      <td>82.0</td>\n",
              "      <td>50.0</td>\n",
              "      <td>9.92</td>\n",
              "      <td>1.310</td>\n",
              "      <td>34.89</td>\n",
              "      <td>6.385000</td>\n",
              "      <td>59.940000</td>\n",
              "      <td>0.07000</td>\n",
              "      <td>0.422551</td>\n",
              "      <td>Excellent</td>\n",
              "    </tr>\n",
              "  </tbody>\n",
              "</table>\n",
              "<p>487 rows × 17 columns</p>\n",
              "</div>"
            ],
            "text/plain": [
              "     Unnamed: 0    pH   DO    TDS  ...    Sulphate  Phosphate       WPI        WQC\n",
              "0             0  8.14  8.7   84.0  ...    6.534660    0.06211  0.249528  Excellent\n",
              "1             1  7.70  8.8  110.0  ...    8.138620    0.00960  0.216400  Excellent\n",
              "2             2  7.60  7.5   75.0  ...    3.855625    0.01280  0.183814  Excellent\n",
              "3             3  8.20  9.1   76.0  ...    2.238750    0.01536  0.219282  Excellent\n",
              "4             4  7.31  7.3   84.0  ...    5.600000    0.01000  0.165831  Excellent\n",
              "..          ...   ...  ...    ...  ...         ...        ...       ...        ...\n",
              "482         482  7.60  5.6  224.0  ...  104.480000    0.01500  0.419630  Excellent\n",
              "483         483  7.30  5.6  266.0  ...   61.068000    0.03300  0.432996  Excellent\n",
              "484         484  5.10  5.8  290.0  ...   89.910000    0.16300  0.326811  Excellent\n",
              "485         485  7.40  6.4  230.0  ...   48.500000    0.21900  0.509970       Good\n",
              "486         486  7.60  6.9  243.0  ...   59.940000    0.07000  0.422551  Excellent\n",
              "\n",
              "[487 rows x 17 columns]"
            ]
          },
          "metadata": {
            "tags": []
          },
          "execution_count": 4
        }
      ]
    },
    {
      "cell_type": "code",
      "metadata": {
        "colab": {
          "base_uri": "https://localhost:8080/",
          "height": 241
        },
        "id": "8Bb_Ls8y7FtN",
        "outputId": "9e3fdb99-2791-4c65-b6e6-46fc431d3b91"
      },
      "source": [
        "df.head()"
      ],
      "execution_count": 5,
      "outputs": [
        {
          "output_type": "execute_result",
          "data": {
            "text/html": [
              "<div>\n",
              "<style scoped>\n",
              "    .dataframe tbody tr th:only-of-type {\n",
              "        vertical-align: middle;\n",
              "    }\n",
              "\n",
              "    .dataframe tbody tr th {\n",
              "        vertical-align: top;\n",
              "    }\n",
              "\n",
              "    .dataframe thead th {\n",
              "        text-align: right;\n",
              "    }\n",
              "</style>\n",
              "<table border=\"1\" class=\"dataframe\">\n",
              "  <thead>\n",
              "    <tr style=\"text-align: right;\">\n",
              "      <th></th>\n",
              "      <th>Unnamed: 0</th>\n",
              "      <th>pH</th>\n",
              "      <th>DO</th>\n",
              "      <th>TDS</th>\n",
              "      <th>Alkalinity</th>\n",
              "      <th>EC</th>\n",
              "      <th>Na</th>\n",
              "      <th>Ca</th>\n",
              "      <th>Mg</th>\n",
              "      <th>K</th>\n",
              "      <th>F</th>\n",
              "      <th>Cl</th>\n",
              "      <th>Nitrate</th>\n",
              "      <th>Sulphate</th>\n",
              "      <th>Phosphate</th>\n",
              "      <th>WPI</th>\n",
              "      <th>WQC</th>\n",
              "    </tr>\n",
              "  </thead>\n",
              "  <tbody>\n",
              "    <tr>\n",
              "      <th>0</th>\n",
              "      <td>0</td>\n",
              "      <td>8.14</td>\n",
              "      <td>8.7</td>\n",
              "      <td>84.0</td>\n",
              "      <td>52.0</td>\n",
              "      <td>147.8</td>\n",
              "      <td>4.48</td>\n",
              "      <td>44.0</td>\n",
              "      <td>20.0</td>\n",
              "      <td>1.17</td>\n",
              "      <td>0.285</td>\n",
              "      <td>7.8</td>\n",
              "      <td>0.758000</td>\n",
              "      <td>6.534660</td>\n",
              "      <td>0.06211</td>\n",
              "      <td>0.249528</td>\n",
              "      <td>Excellent</td>\n",
              "    </tr>\n",
              "    <tr>\n",
              "      <th>1</th>\n",
              "      <td>1</td>\n",
              "      <td>7.70</td>\n",
              "      <td>8.8</td>\n",
              "      <td>110.0</td>\n",
              "      <td>76.0</td>\n",
              "      <td>188.0</td>\n",
              "      <td>8.61</td>\n",
              "      <td>44.0</td>\n",
              "      <td>36.0</td>\n",
              "      <td>3.46</td>\n",
              "      <td>0.401</td>\n",
              "      <td>14.8</td>\n",
              "      <td>0.196062</td>\n",
              "      <td>8.138620</td>\n",
              "      <td>0.00960</td>\n",
              "      <td>0.216400</td>\n",
              "      <td>Excellent</td>\n",
              "    </tr>\n",
              "    <tr>\n",
              "      <th>2</th>\n",
              "      <td>2</td>\n",
              "      <td>7.60</td>\n",
              "      <td>7.5</td>\n",
              "      <td>75.0</td>\n",
              "      <td>44.0</td>\n",
              "      <td>128.0</td>\n",
              "      <td>8.11</td>\n",
              "      <td>28.0</td>\n",
              "      <td>20.0</td>\n",
              "      <td>2.80</td>\n",
              "      <td>0.379</td>\n",
              "      <td>14.8</td>\n",
              "      <td>0.298875</td>\n",
              "      <td>3.855625</td>\n",
              "      <td>0.01280</td>\n",
              "      <td>0.183814</td>\n",
              "      <td>Excellent</td>\n",
              "    </tr>\n",
              "    <tr>\n",
              "      <th>3</th>\n",
              "      <td>3</td>\n",
              "      <td>8.20</td>\n",
              "      <td>9.1</td>\n",
              "      <td>76.0</td>\n",
              "      <td>56.0</td>\n",
              "      <td>127.0</td>\n",
              "      <td>6.30</td>\n",
              "      <td>44.0</td>\n",
              "      <td>18.0</td>\n",
              "      <td>1.65</td>\n",
              "      <td>0.396</td>\n",
              "      <td>9.6</td>\n",
              "      <td>0.299590</td>\n",
              "      <td>2.238750</td>\n",
              "      <td>0.01536</td>\n",
              "      <td>0.219282</td>\n",
              "      <td>Excellent</td>\n",
              "    </tr>\n",
              "    <tr>\n",
              "      <th>4</th>\n",
              "      <td>4</td>\n",
              "      <td>7.31</td>\n",
              "      <td>7.3</td>\n",
              "      <td>84.0</td>\n",
              "      <td>52.0</td>\n",
              "      <td>140.0</td>\n",
              "      <td>5.50</td>\n",
              "      <td>28.0</td>\n",
              "      <td>20.0</td>\n",
              "      <td>1.61</td>\n",
              "      <td>0.265</td>\n",
              "      <td>8.3</td>\n",
              "      <td>0.106000</td>\n",
              "      <td>5.600000</td>\n",
              "      <td>0.01000</td>\n",
              "      <td>0.165831</td>\n",
              "      <td>Excellent</td>\n",
              "    </tr>\n",
              "  </tbody>\n",
              "</table>\n",
              "</div>"
            ],
            "text/plain": [
              "   Unnamed: 0    pH   DO    TDS  ...  Sulphate  Phosphate       WPI        WQC\n",
              "0           0  8.14  8.7   84.0  ...  6.534660    0.06211  0.249528  Excellent\n",
              "1           1  7.70  8.8  110.0  ...  8.138620    0.00960  0.216400  Excellent\n",
              "2           2  7.60  7.5   75.0  ...  3.855625    0.01280  0.183814  Excellent\n",
              "3           3  8.20  9.1   76.0  ...  2.238750    0.01536  0.219282  Excellent\n",
              "4           4  7.31  7.3   84.0  ...  5.600000    0.01000  0.165831  Excellent\n",
              "\n",
              "[5 rows x 17 columns]"
            ]
          },
          "metadata": {
            "tags": []
          },
          "execution_count": 5
        }
      ]
    },
    {
      "cell_type": "code",
      "metadata": {
        "colab": {
          "base_uri": "https://localhost:8080/"
        },
        "id": "JJjfp5eO7JWE",
        "outputId": "2fb0be3c-c74b-4fed-a545-d7904ad6b114"
      },
      "source": [
        "len(df)"
      ],
      "execution_count": 6,
      "outputs": [
        {
          "output_type": "execute_result",
          "data": {
            "text/plain": [
              "487"
            ]
          },
          "metadata": {
            "tags": []
          },
          "execution_count": 6
        }
      ]
    },
    {
      "cell_type": "code",
      "metadata": {
        "colab": {
          "base_uri": "https://localhost:8080/"
        },
        "id": "Hv3qR4dT7Mbd",
        "outputId": "8e0359eb-4936-482b-fe4a-3b587c5a1d16"
      },
      "source": [
        "df.columns"
      ],
      "execution_count": 7,
      "outputs": [
        {
          "output_type": "execute_result",
          "data": {
            "text/plain": [
              "Index(['Unnamed: 0', 'pH', 'DO', 'TDS', 'Alkalinity', 'EC', 'Na', 'Ca', 'Mg',\n",
              "       'K', 'F', 'Cl', 'Nitrate', 'Sulphate', 'Phosphate', 'WPI', 'WQC'],\n",
              "      dtype='object')"
            ]
          },
          "metadata": {
            "tags": []
          },
          "execution_count": 7
        }
      ]
    },
    {
      "cell_type": "code",
      "metadata": {
        "colab": {
          "base_uri": "https://localhost:8080/"
        },
        "id": "nGhKx-qi7PR6",
        "outputId": "8ffdad39-ca06-4339-cd55-3944f74d06a9"
      },
      "source": [
        "df.dtypes"
      ],
      "execution_count": 8,
      "outputs": [
        {
          "output_type": "execute_result",
          "data": {
            "text/plain": [
              "Unnamed: 0      int64\n",
              "pH            float64\n",
              "DO            float64\n",
              "TDS           float64\n",
              "Alkalinity    float64\n",
              "EC            float64\n",
              "Na            float64\n",
              "Ca            float64\n",
              "Mg            float64\n",
              "K             float64\n",
              "F             float64\n",
              "Cl            float64\n",
              "Nitrate       float64\n",
              "Sulphate      float64\n",
              "Phosphate     float64\n",
              "WPI           float64\n",
              "WQC            object\n",
              "dtype: object"
            ]
          },
          "metadata": {
            "tags": []
          },
          "execution_count": 8
        }
      ]
    },
    {
      "cell_type": "code",
      "metadata": {
        "colab": {
          "base_uri": "https://localhost:8080/",
          "height": 204
        },
        "id": "giP2BOwp7SKu",
        "outputId": "d55514df-38df-4f00-e489-49aa868ccfef"
      },
      "source": [
        "df.drop(df.columns[df.columns.str.contains('unnamed',case = False)],axis = 1, inplace = True)\n",
        "df.head()"
      ],
      "execution_count": 9,
      "outputs": [
        {
          "output_type": "execute_result",
          "data": {
            "text/html": [
              "<div>\n",
              "<style scoped>\n",
              "    .dataframe tbody tr th:only-of-type {\n",
              "        vertical-align: middle;\n",
              "    }\n",
              "\n",
              "    .dataframe tbody tr th {\n",
              "        vertical-align: top;\n",
              "    }\n",
              "\n",
              "    .dataframe thead th {\n",
              "        text-align: right;\n",
              "    }\n",
              "</style>\n",
              "<table border=\"1\" class=\"dataframe\">\n",
              "  <thead>\n",
              "    <tr style=\"text-align: right;\">\n",
              "      <th></th>\n",
              "      <th>pH</th>\n",
              "      <th>DO</th>\n",
              "      <th>TDS</th>\n",
              "      <th>Alkalinity</th>\n",
              "      <th>EC</th>\n",
              "      <th>Na</th>\n",
              "      <th>Ca</th>\n",
              "      <th>Mg</th>\n",
              "      <th>K</th>\n",
              "      <th>F</th>\n",
              "      <th>Cl</th>\n",
              "      <th>Nitrate</th>\n",
              "      <th>Sulphate</th>\n",
              "      <th>Phosphate</th>\n",
              "      <th>WPI</th>\n",
              "      <th>WQC</th>\n",
              "    </tr>\n",
              "  </thead>\n",
              "  <tbody>\n",
              "    <tr>\n",
              "      <th>0</th>\n",
              "      <td>8.14</td>\n",
              "      <td>8.7</td>\n",
              "      <td>84.0</td>\n",
              "      <td>52.0</td>\n",
              "      <td>147.8</td>\n",
              "      <td>4.48</td>\n",
              "      <td>44.0</td>\n",
              "      <td>20.0</td>\n",
              "      <td>1.17</td>\n",
              "      <td>0.285</td>\n",
              "      <td>7.8</td>\n",
              "      <td>0.758000</td>\n",
              "      <td>6.534660</td>\n",
              "      <td>0.06211</td>\n",
              "      <td>0.249528</td>\n",
              "      <td>Excellent</td>\n",
              "    </tr>\n",
              "    <tr>\n",
              "      <th>1</th>\n",
              "      <td>7.70</td>\n",
              "      <td>8.8</td>\n",
              "      <td>110.0</td>\n",
              "      <td>76.0</td>\n",
              "      <td>188.0</td>\n",
              "      <td>8.61</td>\n",
              "      <td>44.0</td>\n",
              "      <td>36.0</td>\n",
              "      <td>3.46</td>\n",
              "      <td>0.401</td>\n",
              "      <td>14.8</td>\n",
              "      <td>0.196062</td>\n",
              "      <td>8.138620</td>\n",
              "      <td>0.00960</td>\n",
              "      <td>0.216400</td>\n",
              "      <td>Excellent</td>\n",
              "    </tr>\n",
              "    <tr>\n",
              "      <th>2</th>\n",
              "      <td>7.60</td>\n",
              "      <td>7.5</td>\n",
              "      <td>75.0</td>\n",
              "      <td>44.0</td>\n",
              "      <td>128.0</td>\n",
              "      <td>8.11</td>\n",
              "      <td>28.0</td>\n",
              "      <td>20.0</td>\n",
              "      <td>2.80</td>\n",
              "      <td>0.379</td>\n",
              "      <td>14.8</td>\n",
              "      <td>0.298875</td>\n",
              "      <td>3.855625</td>\n",
              "      <td>0.01280</td>\n",
              "      <td>0.183814</td>\n",
              "      <td>Excellent</td>\n",
              "    </tr>\n",
              "    <tr>\n",
              "      <th>3</th>\n",
              "      <td>8.20</td>\n",
              "      <td>9.1</td>\n",
              "      <td>76.0</td>\n",
              "      <td>56.0</td>\n",
              "      <td>127.0</td>\n",
              "      <td>6.30</td>\n",
              "      <td>44.0</td>\n",
              "      <td>18.0</td>\n",
              "      <td>1.65</td>\n",
              "      <td>0.396</td>\n",
              "      <td>9.6</td>\n",
              "      <td>0.299590</td>\n",
              "      <td>2.238750</td>\n",
              "      <td>0.01536</td>\n",
              "      <td>0.219282</td>\n",
              "      <td>Excellent</td>\n",
              "    </tr>\n",
              "    <tr>\n",
              "      <th>4</th>\n",
              "      <td>7.31</td>\n",
              "      <td>7.3</td>\n",
              "      <td>84.0</td>\n",
              "      <td>52.0</td>\n",
              "      <td>140.0</td>\n",
              "      <td>5.50</td>\n",
              "      <td>28.0</td>\n",
              "      <td>20.0</td>\n",
              "      <td>1.61</td>\n",
              "      <td>0.265</td>\n",
              "      <td>8.3</td>\n",
              "      <td>0.106000</td>\n",
              "      <td>5.600000</td>\n",
              "      <td>0.01000</td>\n",
              "      <td>0.165831</td>\n",
              "      <td>Excellent</td>\n",
              "    </tr>\n",
              "  </tbody>\n",
              "</table>\n",
              "</div>"
            ],
            "text/plain": [
              "     pH   DO    TDS  Alkalinity  ...  Sulphate  Phosphate       WPI        WQC\n",
              "0  8.14  8.7   84.0        52.0  ...  6.534660    0.06211  0.249528  Excellent\n",
              "1  7.70  8.8  110.0        76.0  ...  8.138620    0.00960  0.216400  Excellent\n",
              "2  7.60  7.5   75.0        44.0  ...  3.855625    0.01280  0.183814  Excellent\n",
              "3  8.20  9.1   76.0        56.0  ...  2.238750    0.01536  0.219282  Excellent\n",
              "4  7.31  7.3   84.0        52.0  ...  5.600000    0.01000  0.165831  Excellent\n",
              "\n",
              "[5 rows x 16 columns]"
            ]
          },
          "metadata": {
            "tags": []
          },
          "execution_count": 9
        }
      ]
    },
    {
      "cell_type": "code",
      "metadata": {
        "colab": {
          "base_uri": "https://localhost:8080/",
          "height": 317
        },
        "id": "a_EEnVgD7e3u",
        "outputId": "d133b23e-4f0a-44f0-f237-37564fcd691b"
      },
      "source": [
        "df.describe()"
      ],
      "execution_count": 10,
      "outputs": [
        {
          "output_type": "execute_result",
          "data": {
            "text/html": [
              "<div>\n",
              "<style scoped>\n",
              "    .dataframe tbody tr th:only-of-type {\n",
              "        vertical-align: middle;\n",
              "    }\n",
              "\n",
              "    .dataframe tbody tr th {\n",
              "        vertical-align: top;\n",
              "    }\n",
              "\n",
              "    .dataframe thead th {\n",
              "        text-align: right;\n",
              "    }\n",
              "</style>\n",
              "<table border=\"1\" class=\"dataframe\">\n",
              "  <thead>\n",
              "    <tr style=\"text-align: right;\">\n",
              "      <th></th>\n",
              "      <th>pH</th>\n",
              "      <th>DO</th>\n",
              "      <th>TDS</th>\n",
              "      <th>Alkalinity</th>\n",
              "      <th>EC</th>\n",
              "      <th>Na</th>\n",
              "      <th>Ca</th>\n",
              "      <th>Mg</th>\n",
              "      <th>K</th>\n",
              "      <th>F</th>\n",
              "      <th>Cl</th>\n",
              "      <th>Nitrate</th>\n",
              "      <th>Sulphate</th>\n",
              "      <th>Phosphate</th>\n",
              "      <th>WPI</th>\n",
              "    </tr>\n",
              "  </thead>\n",
              "  <tbody>\n",
              "    <tr>\n",
              "      <th>count</th>\n",
              "      <td>487.000000</td>\n",
              "      <td>487.000000</td>\n",
              "      <td>487.000000</td>\n",
              "      <td>487.000000</td>\n",
              "      <td>487.000000</td>\n",
              "      <td>487.000000</td>\n",
              "      <td>487.000000</td>\n",
              "      <td>487.000000</td>\n",
              "      <td>487.000000</td>\n",
              "      <td>487.000000</td>\n",
              "      <td>487.000000</td>\n",
              "      <td>487.000000</td>\n",
              "      <td>487.000000</td>\n",
              "      <td>485.000000</td>\n",
              "      <td>487.000000</td>\n",
              "    </tr>\n",
              "    <tr>\n",
              "      <th>mean</th>\n",
              "      <td>7.809275</td>\n",
              "      <td>7.441561</td>\n",
              "      <td>115.752156</td>\n",
              "      <td>62.225873</td>\n",
              "      <td>196.536591</td>\n",
              "      <td>8.906119</td>\n",
              "      <td>43.683778</td>\n",
              "      <td>24.361396</td>\n",
              "      <td>3.036222</td>\n",
              "      <td>0.511795</td>\n",
              "      <td>14.175075</td>\n",
              "      <td>1.286371</td>\n",
              "      <td>14.791693</td>\n",
              "      <td>0.089608</td>\n",
              "      <td>0.293491</td>\n",
              "    </tr>\n",
              "    <tr>\n",
              "      <th>std</th>\n",
              "      <td>0.411216</td>\n",
              "      <td>1.107170</td>\n",
              "      <td>47.283961</td>\n",
              "      <td>20.068358</td>\n",
              "      <td>81.088229</td>\n",
              "      <td>5.719637</td>\n",
              "      <td>17.846355</td>\n",
              "      <td>10.815360</td>\n",
              "      <td>2.304195</td>\n",
              "      <td>0.494124</td>\n",
              "      <td>9.279435</td>\n",
              "      <td>1.838680</td>\n",
              "      <td>14.644176</td>\n",
              "      <td>0.156697</td>\n",
              "      <td>0.132387</td>\n",
              "    </tr>\n",
              "    <tr>\n",
              "      <th>min</th>\n",
              "      <td>5.100000</td>\n",
              "      <td>4.200000</td>\n",
              "      <td>56.000000</td>\n",
              "      <td>8.000000</td>\n",
              "      <td>98.000000</td>\n",
              "      <td>2.190000</td>\n",
              "      <td>14.000000</td>\n",
              "      <td>2.000000</td>\n",
              "      <td>0.500000</td>\n",
              "      <td>0.059000</td>\n",
              "      <td>3.800000</td>\n",
              "      <td>0.003985</td>\n",
              "      <td>0.792000</td>\n",
              "      <td>0.000000</td>\n",
              "      <td>0.103531</td>\n",
              "    </tr>\n",
              "    <tr>\n",
              "      <th>25%</th>\n",
              "      <td>7.560000</td>\n",
              "      <td>6.700000</td>\n",
              "      <td>84.000000</td>\n",
              "      <td>50.000000</td>\n",
              "      <td>140.000000</td>\n",
              "      <td>5.295000</td>\n",
              "      <td>32.000000</td>\n",
              "      <td>16.000000</td>\n",
              "      <td>1.735000</td>\n",
              "      <td>0.249000</td>\n",
              "      <td>8.625625</td>\n",
              "      <td>0.244000</td>\n",
              "      <td>5.472000</td>\n",
              "      <td>0.023700</td>\n",
              "      <td>0.221584</td>\n",
              "    </tr>\n",
              "    <tr>\n",
              "      <th>50%</th>\n",
              "      <td>7.860000</td>\n",
              "      <td>7.400000</td>\n",
              "      <td>102.000000</td>\n",
              "      <td>56.000000</td>\n",
              "      <td>171.000000</td>\n",
              "      <td>7.100000</td>\n",
              "      <td>40.000000</td>\n",
              "      <td>22.000000</td>\n",
              "      <td>2.410000</td>\n",
              "      <td>0.312000</td>\n",
              "      <td>11.100000</td>\n",
              "      <td>0.527000</td>\n",
              "      <td>9.450000</td>\n",
              "      <td>0.046253</td>\n",
              "      <td>0.254116</td>\n",
              "    </tr>\n",
              "    <tr>\n",
              "      <th>75%</th>\n",
              "      <td>8.100000</td>\n",
              "      <td>8.100000</td>\n",
              "      <td>129.000000</td>\n",
              "      <td>72.000000</td>\n",
              "      <td>219.500000</td>\n",
              "      <td>10.235000</td>\n",
              "      <td>52.000000</td>\n",
              "      <td>28.000000</td>\n",
              "      <td>3.400000</td>\n",
              "      <td>0.468000</td>\n",
              "      <td>16.370625</td>\n",
              "      <td>1.506928</td>\n",
              "      <td>18.030000</td>\n",
              "      <td>0.091000</td>\n",
              "      <td>0.312652</td>\n",
              "    </tr>\n",
              "    <tr>\n",
              "      <th>max</th>\n",
              "      <td>8.570000</td>\n",
              "      <td>13.500000</td>\n",
              "      <td>308.000000</td>\n",
              "      <td>170.000000</td>\n",
              "      <td>502.000000</td>\n",
              "      <td>48.350000</td>\n",
              "      <td>146.000000</td>\n",
              "      <td>84.000000</td>\n",
              "      <td>18.020000</td>\n",
              "      <td>3.060000</td>\n",
              "      <td>73.300000</td>\n",
              "      <td>9.716972</td>\n",
              "      <td>104.480000</td>\n",
              "      <td>1.765000</td>\n",
              "      <td>1.604375</td>\n",
              "    </tr>\n",
              "  </tbody>\n",
              "</table>\n",
              "</div>"
            ],
            "text/plain": [
              "               pH          DO         TDS  ...    Sulphate   Phosphate         WPI\n",
              "count  487.000000  487.000000  487.000000  ...  487.000000  485.000000  487.000000\n",
              "mean     7.809275    7.441561  115.752156  ...   14.791693    0.089608    0.293491\n",
              "std      0.411216    1.107170   47.283961  ...   14.644176    0.156697    0.132387\n",
              "min      5.100000    4.200000   56.000000  ...    0.792000    0.000000    0.103531\n",
              "25%      7.560000    6.700000   84.000000  ...    5.472000    0.023700    0.221584\n",
              "50%      7.860000    7.400000  102.000000  ...    9.450000    0.046253    0.254116\n",
              "75%      8.100000    8.100000  129.000000  ...   18.030000    0.091000    0.312652\n",
              "max      8.570000   13.500000  308.000000  ...  104.480000    1.765000    1.604375\n",
              "\n",
              "[8 rows x 15 columns]"
            ]
          },
          "metadata": {
            "tags": []
          },
          "execution_count": 10
        }
      ]
    },
    {
      "cell_type": "code",
      "metadata": {
        "colab": {
          "base_uri": "https://localhost:8080/",
          "height": 173
        },
        "id": "bUTCwy7r7jfi",
        "outputId": "61eb9c59-0e22-43a0-aa53-c3336e229505"
      },
      "source": [
        "df.describe(include=['object'])"
      ],
      "execution_count": 11,
      "outputs": [
        {
          "output_type": "execute_result",
          "data": {
            "text/html": [
              "<div>\n",
              "<style scoped>\n",
              "    .dataframe tbody tr th:only-of-type {\n",
              "        vertical-align: middle;\n",
              "    }\n",
              "\n",
              "    .dataframe tbody tr th {\n",
              "        vertical-align: top;\n",
              "    }\n",
              "\n",
              "    .dataframe thead th {\n",
              "        text-align: right;\n",
              "    }\n",
              "</style>\n",
              "<table border=\"1\" class=\"dataframe\">\n",
              "  <thead>\n",
              "    <tr style=\"text-align: right;\">\n",
              "      <th></th>\n",
              "      <th>WQC</th>\n",
              "    </tr>\n",
              "  </thead>\n",
              "  <tbody>\n",
              "    <tr>\n",
              "      <th>count</th>\n",
              "      <td>487</td>\n",
              "    </tr>\n",
              "    <tr>\n",
              "      <th>unique</th>\n",
              "      <td>4</td>\n",
              "    </tr>\n",
              "    <tr>\n",
              "      <th>top</th>\n",
              "      <td>Excellent</td>\n",
              "    </tr>\n",
              "    <tr>\n",
              "      <th>freq</th>\n",
              "      <td>460</td>\n",
              "    </tr>\n",
              "  </tbody>\n",
              "</table>\n",
              "</div>"
            ],
            "text/plain": [
              "              WQC\n",
              "count         487\n",
              "unique          4\n",
              "top     Excellent\n",
              "freq          460"
            ]
          },
          "metadata": {
            "tags": []
          },
          "execution_count": 11
        }
      ]
    },
    {
      "cell_type": "code",
      "metadata": {
        "colab": {
          "base_uri": "https://localhost:8080/"
        },
        "id": "HIFKzuRh7q--",
        "outputId": "abcae8b9-9184-4a9a-c861-b4bde8d86e8a"
      },
      "source": [
        "df.isnull().sum()"
      ],
      "execution_count": 12,
      "outputs": [
        {
          "output_type": "execute_result",
          "data": {
            "text/plain": [
              "pH            0\n",
              "DO            0\n",
              "TDS           0\n",
              "Alkalinity    0\n",
              "EC            0\n",
              "Na            0\n",
              "Ca            0\n",
              "Mg            0\n",
              "K             0\n",
              "F             0\n",
              "Cl            0\n",
              "Nitrate       0\n",
              "Sulphate      0\n",
              "Phosphate     2\n",
              "WPI           0\n",
              "WQC           0\n",
              "dtype: int64"
            ]
          },
          "metadata": {
            "tags": []
          },
          "execution_count": 12
        }
      ]
    },
    {
      "cell_type": "code",
      "metadata": {
        "id": "A0-iOgSt73X8"
      },
      "source": [
        "data=df.dropna()"
      ],
      "execution_count": 13,
      "outputs": []
    },
    {
      "cell_type": "code",
      "metadata": {
        "colab": {
          "base_uri": "https://localhost:8080/",
          "height": 204
        },
        "id": "LQLXfZGJ-yEu",
        "outputId": "f660c826-2696-4524-ee5e-e1fb5003a1aa"
      },
      "source": [
        "data.head()"
      ],
      "execution_count": 14,
      "outputs": [
        {
          "output_type": "execute_result",
          "data": {
            "text/html": [
              "<div>\n",
              "<style scoped>\n",
              "    .dataframe tbody tr th:only-of-type {\n",
              "        vertical-align: middle;\n",
              "    }\n",
              "\n",
              "    .dataframe tbody tr th {\n",
              "        vertical-align: top;\n",
              "    }\n",
              "\n",
              "    .dataframe thead th {\n",
              "        text-align: right;\n",
              "    }\n",
              "</style>\n",
              "<table border=\"1\" class=\"dataframe\">\n",
              "  <thead>\n",
              "    <tr style=\"text-align: right;\">\n",
              "      <th></th>\n",
              "      <th>pH</th>\n",
              "      <th>DO</th>\n",
              "      <th>TDS</th>\n",
              "      <th>Alkalinity</th>\n",
              "      <th>EC</th>\n",
              "      <th>Na</th>\n",
              "      <th>Ca</th>\n",
              "      <th>Mg</th>\n",
              "      <th>K</th>\n",
              "      <th>F</th>\n",
              "      <th>Cl</th>\n",
              "      <th>Nitrate</th>\n",
              "      <th>Sulphate</th>\n",
              "      <th>Phosphate</th>\n",
              "      <th>WPI</th>\n",
              "      <th>WQC</th>\n",
              "    </tr>\n",
              "  </thead>\n",
              "  <tbody>\n",
              "    <tr>\n",
              "      <th>0</th>\n",
              "      <td>8.14</td>\n",
              "      <td>8.7</td>\n",
              "      <td>84.0</td>\n",
              "      <td>52.0</td>\n",
              "      <td>147.8</td>\n",
              "      <td>4.48</td>\n",
              "      <td>44.0</td>\n",
              "      <td>20.0</td>\n",
              "      <td>1.17</td>\n",
              "      <td>0.285</td>\n",
              "      <td>7.8</td>\n",
              "      <td>0.758000</td>\n",
              "      <td>6.534660</td>\n",
              "      <td>0.06211</td>\n",
              "      <td>0.249528</td>\n",
              "      <td>Excellent</td>\n",
              "    </tr>\n",
              "    <tr>\n",
              "      <th>1</th>\n",
              "      <td>7.70</td>\n",
              "      <td>8.8</td>\n",
              "      <td>110.0</td>\n",
              "      <td>76.0</td>\n",
              "      <td>188.0</td>\n",
              "      <td>8.61</td>\n",
              "      <td>44.0</td>\n",
              "      <td>36.0</td>\n",
              "      <td>3.46</td>\n",
              "      <td>0.401</td>\n",
              "      <td>14.8</td>\n",
              "      <td>0.196062</td>\n",
              "      <td>8.138620</td>\n",
              "      <td>0.00960</td>\n",
              "      <td>0.216400</td>\n",
              "      <td>Excellent</td>\n",
              "    </tr>\n",
              "    <tr>\n",
              "      <th>2</th>\n",
              "      <td>7.60</td>\n",
              "      <td>7.5</td>\n",
              "      <td>75.0</td>\n",
              "      <td>44.0</td>\n",
              "      <td>128.0</td>\n",
              "      <td>8.11</td>\n",
              "      <td>28.0</td>\n",
              "      <td>20.0</td>\n",
              "      <td>2.80</td>\n",
              "      <td>0.379</td>\n",
              "      <td>14.8</td>\n",
              "      <td>0.298875</td>\n",
              "      <td>3.855625</td>\n",
              "      <td>0.01280</td>\n",
              "      <td>0.183814</td>\n",
              "      <td>Excellent</td>\n",
              "    </tr>\n",
              "    <tr>\n",
              "      <th>3</th>\n",
              "      <td>8.20</td>\n",
              "      <td>9.1</td>\n",
              "      <td>76.0</td>\n",
              "      <td>56.0</td>\n",
              "      <td>127.0</td>\n",
              "      <td>6.30</td>\n",
              "      <td>44.0</td>\n",
              "      <td>18.0</td>\n",
              "      <td>1.65</td>\n",
              "      <td>0.396</td>\n",
              "      <td>9.6</td>\n",
              "      <td>0.299590</td>\n",
              "      <td>2.238750</td>\n",
              "      <td>0.01536</td>\n",
              "      <td>0.219282</td>\n",
              "      <td>Excellent</td>\n",
              "    </tr>\n",
              "    <tr>\n",
              "      <th>4</th>\n",
              "      <td>7.31</td>\n",
              "      <td>7.3</td>\n",
              "      <td>84.0</td>\n",
              "      <td>52.0</td>\n",
              "      <td>140.0</td>\n",
              "      <td>5.50</td>\n",
              "      <td>28.0</td>\n",
              "      <td>20.0</td>\n",
              "      <td>1.61</td>\n",
              "      <td>0.265</td>\n",
              "      <td>8.3</td>\n",
              "      <td>0.106000</td>\n",
              "      <td>5.600000</td>\n",
              "      <td>0.01000</td>\n",
              "      <td>0.165831</td>\n",
              "      <td>Excellent</td>\n",
              "    </tr>\n",
              "  </tbody>\n",
              "</table>\n",
              "</div>"
            ],
            "text/plain": [
              "     pH   DO    TDS  Alkalinity  ...  Sulphate  Phosphate       WPI        WQC\n",
              "0  8.14  8.7   84.0        52.0  ...  6.534660    0.06211  0.249528  Excellent\n",
              "1  7.70  8.8  110.0        76.0  ...  8.138620    0.00960  0.216400  Excellent\n",
              "2  7.60  7.5   75.0        44.0  ...  3.855625    0.01280  0.183814  Excellent\n",
              "3  8.20  9.1   76.0        56.0  ...  2.238750    0.01536  0.219282  Excellent\n",
              "4  7.31  7.3   84.0        52.0  ...  5.600000    0.01000  0.165831  Excellent\n",
              "\n",
              "[5 rows x 16 columns]"
            ]
          },
          "metadata": {
            "tags": []
          },
          "execution_count": 14
        }
      ]
    },
    {
      "cell_type": "code",
      "metadata": {
        "colab": {
          "base_uri": "https://localhost:8080/"
        },
        "id": "VGgEtPJg-3pc",
        "outputId": "ba9d6295-fd45-4954-ae43-5f82c24b111b"
      },
      "source": [
        "data.isnull().sum()"
      ],
      "execution_count": 15,
      "outputs": [
        {
          "output_type": "execute_result",
          "data": {
            "text/plain": [
              "pH            0\n",
              "DO            0\n",
              "TDS           0\n",
              "Alkalinity    0\n",
              "EC            0\n",
              "Na            0\n",
              "Ca            0\n",
              "Mg            0\n",
              "K             0\n",
              "F             0\n",
              "Cl            0\n",
              "Nitrate       0\n",
              "Sulphate      0\n",
              "Phosphate     0\n",
              "WPI           0\n",
              "WQC           0\n",
              "dtype: int64"
            ]
          },
          "metadata": {
            "tags": []
          },
          "execution_count": 15
        }
      ]
    },
    {
      "cell_type": "code",
      "metadata": {
        "id": "FqTGGTXV8Boa"
      },
      "source": [
        "import seaborn as sns\n",
        "from matplotlib import pyplot as plt"
      ],
      "execution_count": 16,
      "outputs": []
    },
    {
      "cell_type": "code",
      "metadata": {
        "id": "juZFDgEO8FlG"
      },
      "source": [
        "#plt.figure(figsize=(14,14))\n",
        "#sns.pairplot(data)\n",
        "#plt.show()"
      ],
      "execution_count": 17,
      "outputs": []
    },
    {
      "cell_type": "code",
      "metadata": {
        "colab": {
          "base_uri": "https://localhost:8080/",
          "height": 534
        },
        "id": "T1p_BmcL8IsX",
        "outputId": "8346d1d1-a52a-41d1-a2cc-88210017b968"
      },
      "source": [
        "data.corr()"
      ],
      "execution_count": 18,
      "outputs": [
        {
          "output_type": "execute_result",
          "data": {
            "text/html": [
              "<div>\n",
              "<style scoped>\n",
              "    .dataframe tbody tr th:only-of-type {\n",
              "        vertical-align: middle;\n",
              "    }\n",
              "\n",
              "    .dataframe tbody tr th {\n",
              "        vertical-align: top;\n",
              "    }\n",
              "\n",
              "    .dataframe thead th {\n",
              "        text-align: right;\n",
              "    }\n",
              "</style>\n",
              "<table border=\"1\" class=\"dataframe\">\n",
              "  <thead>\n",
              "    <tr style=\"text-align: right;\">\n",
              "      <th></th>\n",
              "      <th>pH</th>\n",
              "      <th>DO</th>\n",
              "      <th>TDS</th>\n",
              "      <th>Alkalinity</th>\n",
              "      <th>EC</th>\n",
              "      <th>Na</th>\n",
              "      <th>Ca</th>\n",
              "      <th>Mg</th>\n",
              "      <th>K</th>\n",
              "      <th>F</th>\n",
              "      <th>Cl</th>\n",
              "      <th>Nitrate</th>\n",
              "      <th>Sulphate</th>\n",
              "      <th>Phosphate</th>\n",
              "      <th>WPI</th>\n",
              "    </tr>\n",
              "  </thead>\n",
              "  <tbody>\n",
              "    <tr>\n",
              "      <th>pH</th>\n",
              "      <td>1.000000</td>\n",
              "      <td>0.211109</td>\n",
              "      <td>-0.236712</td>\n",
              "      <td>0.175510</td>\n",
              "      <td>-0.243521</td>\n",
              "      <td>-0.273298</td>\n",
              "      <td>-0.103435</td>\n",
              "      <td>-0.060885</td>\n",
              "      <td>-0.344524</td>\n",
              "      <td>-0.227349</td>\n",
              "      <td>-0.294046</td>\n",
              "      <td>-0.396854</td>\n",
              "      <td>-0.386411</td>\n",
              "      <td>-0.040246</td>\n",
              "      <td>-0.004190</td>\n",
              "    </tr>\n",
              "    <tr>\n",
              "      <th>DO</th>\n",
              "      <td>0.211109</td>\n",
              "      <td>1.000000</td>\n",
              "      <td>-0.222928</td>\n",
              "      <td>-0.036796</td>\n",
              "      <td>-0.226791</td>\n",
              "      <td>-0.181963</td>\n",
              "      <td>-0.182463</td>\n",
              "      <td>-0.067469</td>\n",
              "      <td>-0.268489</td>\n",
              "      <td>-0.232656</td>\n",
              "      <td>-0.177212</td>\n",
              "      <td>-0.139853</td>\n",
              "      <td>-0.291412</td>\n",
              "      <td>0.066248</td>\n",
              "      <td>-0.087564</td>\n",
              "    </tr>\n",
              "    <tr>\n",
              "      <th>TDS</th>\n",
              "      <td>-0.236712</td>\n",
              "      <td>-0.222928</td>\n",
              "      <td>1.000000</td>\n",
              "      <td>0.637716</td>\n",
              "      <td>0.984754</td>\n",
              "      <td>0.833671</td>\n",
              "      <td>0.892126</td>\n",
              "      <td>0.705149</td>\n",
              "      <td>0.754319</td>\n",
              "      <td>0.744330</td>\n",
              "      <td>0.841918</td>\n",
              "      <td>0.539486</td>\n",
              "      <td>0.831473</td>\n",
              "      <td>0.077804</td>\n",
              "      <td>0.508326</td>\n",
              "    </tr>\n",
              "    <tr>\n",
              "      <th>Alkalinity</th>\n",
              "      <td>0.175510</td>\n",
              "      <td>-0.036796</td>\n",
              "      <td>0.637716</td>\n",
              "      <td>1.000000</td>\n",
              "      <td>0.614956</td>\n",
              "      <td>0.381228</td>\n",
              "      <td>0.696089</td>\n",
              "      <td>0.658814</td>\n",
              "      <td>0.289176</td>\n",
              "      <td>0.360956</td>\n",
              "      <td>0.384024</td>\n",
              "      <td>0.094369</td>\n",
              "      <td>0.229730</td>\n",
              "      <td>-0.025792</td>\n",
              "      <td>0.306938</td>\n",
              "    </tr>\n",
              "    <tr>\n",
              "      <th>EC</th>\n",
              "      <td>-0.243521</td>\n",
              "      <td>-0.226791</td>\n",
              "      <td>0.984754</td>\n",
              "      <td>0.614956</td>\n",
              "      <td>1.000000</td>\n",
              "      <td>0.821030</td>\n",
              "      <td>0.880295</td>\n",
              "      <td>0.687292</td>\n",
              "      <td>0.744921</td>\n",
              "      <td>0.732718</td>\n",
              "      <td>0.826369</td>\n",
              "      <td>0.534420</td>\n",
              "      <td>0.833973</td>\n",
              "      <td>0.091789</td>\n",
              "      <td>0.513956</td>\n",
              "    </tr>\n",
              "    <tr>\n",
              "      <th>Na</th>\n",
              "      <td>-0.273298</td>\n",
              "      <td>-0.181963</td>\n",
              "      <td>0.833671</td>\n",
              "      <td>0.381228</td>\n",
              "      <td>0.821030</td>\n",
              "      <td>1.000000</td>\n",
              "      <td>0.634518</td>\n",
              "      <td>0.500436</td>\n",
              "      <td>0.709595</td>\n",
              "      <td>0.633003</td>\n",
              "      <td>0.973823</td>\n",
              "      <td>0.480209</td>\n",
              "      <td>0.660852</td>\n",
              "      <td>0.105225</td>\n",
              "      <td>0.437277</td>\n",
              "    </tr>\n",
              "    <tr>\n",
              "      <th>Ca</th>\n",
              "      <td>-0.103435</td>\n",
              "      <td>-0.182463</td>\n",
              "      <td>0.892126</td>\n",
              "      <td>0.696089</td>\n",
              "      <td>0.880295</td>\n",
              "      <td>0.634518</td>\n",
              "      <td>1.000000</td>\n",
              "      <td>0.585701</td>\n",
              "      <td>0.585581</td>\n",
              "      <td>0.624190</td>\n",
              "      <td>0.635604</td>\n",
              "      <td>0.413112</td>\n",
              "      <td>0.729384</td>\n",
              "      <td>0.039442</td>\n",
              "      <td>0.462190</td>\n",
              "    </tr>\n",
              "    <tr>\n",
              "      <th>Mg</th>\n",
              "      <td>-0.060885</td>\n",
              "      <td>-0.067469</td>\n",
              "      <td>0.705149</td>\n",
              "      <td>0.658814</td>\n",
              "      <td>0.687292</td>\n",
              "      <td>0.500436</td>\n",
              "      <td>0.585701</td>\n",
              "      <td>1.000000</td>\n",
              "      <td>0.462190</td>\n",
              "      <td>0.562817</td>\n",
              "      <td>0.526408</td>\n",
              "      <td>0.276092</td>\n",
              "      <td>0.538041</td>\n",
              "      <td>0.004944</td>\n",
              "      <td>0.331117</td>\n",
              "    </tr>\n",
              "    <tr>\n",
              "      <th>K</th>\n",
              "      <td>-0.344524</td>\n",
              "      <td>-0.268489</td>\n",
              "      <td>0.754319</td>\n",
              "      <td>0.289176</td>\n",
              "      <td>0.744921</td>\n",
              "      <td>0.709595</td>\n",
              "      <td>0.585581</td>\n",
              "      <td>0.462190</td>\n",
              "      <td>1.000000</td>\n",
              "      <td>0.633910</td>\n",
              "      <td>0.728000</td>\n",
              "      <td>0.599805</td>\n",
              "      <td>0.704721</td>\n",
              "      <td>0.064916</td>\n",
              "      <td>0.376962</td>\n",
              "    </tr>\n",
              "    <tr>\n",
              "      <th>F</th>\n",
              "      <td>-0.227349</td>\n",
              "      <td>-0.232656</td>\n",
              "      <td>0.744330</td>\n",
              "      <td>0.360956</td>\n",
              "      <td>0.732718</td>\n",
              "      <td>0.633003</td>\n",
              "      <td>0.624190</td>\n",
              "      <td>0.562817</td>\n",
              "      <td>0.633910</td>\n",
              "      <td>1.000000</td>\n",
              "      <td>0.651898</td>\n",
              "      <td>0.556951</td>\n",
              "      <td>0.713750</td>\n",
              "      <td>0.090891</td>\n",
              "      <td>0.478907</td>\n",
              "    </tr>\n",
              "    <tr>\n",
              "      <th>Cl</th>\n",
              "      <td>-0.294046</td>\n",
              "      <td>-0.177212</td>\n",
              "      <td>0.841918</td>\n",
              "      <td>0.384024</td>\n",
              "      <td>0.826369</td>\n",
              "      <td>0.973823</td>\n",
              "      <td>0.635604</td>\n",
              "      <td>0.526408</td>\n",
              "      <td>0.728000</td>\n",
              "      <td>0.651898</td>\n",
              "      <td>1.000000</td>\n",
              "      <td>0.506323</td>\n",
              "      <td>0.662083</td>\n",
              "      <td>0.096783</td>\n",
              "      <td>0.432111</td>\n",
              "    </tr>\n",
              "    <tr>\n",
              "      <th>Nitrate</th>\n",
              "      <td>-0.396854</td>\n",
              "      <td>-0.139853</td>\n",
              "      <td>0.539486</td>\n",
              "      <td>0.094369</td>\n",
              "      <td>0.534420</td>\n",
              "      <td>0.480209</td>\n",
              "      <td>0.413112</td>\n",
              "      <td>0.276092</td>\n",
              "      <td>0.599805</td>\n",
              "      <td>0.556951</td>\n",
              "      <td>0.506323</td>\n",
              "      <td>1.000000</td>\n",
              "      <td>0.549315</td>\n",
              "      <td>0.134984</td>\n",
              "      <td>0.342504</td>\n",
              "    </tr>\n",
              "    <tr>\n",
              "      <th>Sulphate</th>\n",
              "      <td>-0.386411</td>\n",
              "      <td>-0.291412</td>\n",
              "      <td>0.831473</td>\n",
              "      <td>0.229730</td>\n",
              "      <td>0.833973</td>\n",
              "      <td>0.660852</td>\n",
              "      <td>0.729384</td>\n",
              "      <td>0.538041</td>\n",
              "      <td>0.704721</td>\n",
              "      <td>0.713750</td>\n",
              "      <td>0.662083</td>\n",
              "      <td>0.549315</td>\n",
              "      <td>1.000000</td>\n",
              "      <td>0.094104</td>\n",
              "      <td>0.437575</td>\n",
              "    </tr>\n",
              "    <tr>\n",
              "      <th>Phosphate</th>\n",
              "      <td>-0.040246</td>\n",
              "      <td>0.066248</td>\n",
              "      <td>0.077804</td>\n",
              "      <td>-0.025792</td>\n",
              "      <td>0.091789</td>\n",
              "      <td>0.105225</td>\n",
              "      <td>0.039442</td>\n",
              "      <td>0.004944</td>\n",
              "      <td>0.064916</td>\n",
              "      <td>0.090891</td>\n",
              "      <td>0.096783</td>\n",
              "      <td>0.134984</td>\n",
              "      <td>0.094104</td>\n",
              "      <td>1.000000</td>\n",
              "      <td>0.873994</td>\n",
              "    </tr>\n",
              "    <tr>\n",
              "      <th>WPI</th>\n",
              "      <td>-0.004190</td>\n",
              "      <td>-0.087564</td>\n",
              "      <td>0.508326</td>\n",
              "      <td>0.306938</td>\n",
              "      <td>0.513956</td>\n",
              "      <td>0.437277</td>\n",
              "      <td>0.462190</td>\n",
              "      <td>0.331117</td>\n",
              "      <td>0.376962</td>\n",
              "      <td>0.478907</td>\n",
              "      <td>0.432111</td>\n",
              "      <td>0.342504</td>\n",
              "      <td>0.437575</td>\n",
              "      <td>0.873994</td>\n",
              "      <td>1.000000</td>\n",
              "    </tr>\n",
              "  </tbody>\n",
              "</table>\n",
              "</div>"
            ],
            "text/plain": [
              "                  pH        DO       TDS  ...  Sulphate  Phosphate       WPI\n",
              "pH          1.000000  0.211109 -0.236712  ... -0.386411  -0.040246 -0.004190\n",
              "DO          0.211109  1.000000 -0.222928  ... -0.291412   0.066248 -0.087564\n",
              "TDS        -0.236712 -0.222928  1.000000  ...  0.831473   0.077804  0.508326\n",
              "Alkalinity  0.175510 -0.036796  0.637716  ...  0.229730  -0.025792  0.306938\n",
              "EC         -0.243521 -0.226791  0.984754  ...  0.833973   0.091789  0.513956\n",
              "Na         -0.273298 -0.181963  0.833671  ...  0.660852   0.105225  0.437277\n",
              "Ca         -0.103435 -0.182463  0.892126  ...  0.729384   0.039442  0.462190\n",
              "Mg         -0.060885 -0.067469  0.705149  ...  0.538041   0.004944  0.331117\n",
              "K          -0.344524 -0.268489  0.754319  ...  0.704721   0.064916  0.376962\n",
              "F          -0.227349 -0.232656  0.744330  ...  0.713750   0.090891  0.478907\n",
              "Cl         -0.294046 -0.177212  0.841918  ...  0.662083   0.096783  0.432111\n",
              "Nitrate    -0.396854 -0.139853  0.539486  ...  0.549315   0.134984  0.342504\n",
              "Sulphate   -0.386411 -0.291412  0.831473  ...  1.000000   0.094104  0.437575\n",
              "Phosphate  -0.040246  0.066248  0.077804  ...  0.094104   1.000000  0.873994\n",
              "WPI        -0.004190 -0.087564  0.508326  ...  0.437575   0.873994  1.000000\n",
              "\n",
              "[15 rows x 15 columns]"
            ]
          },
          "metadata": {
            "tags": []
          },
          "execution_count": 18
        }
      ]
    },
    {
      "cell_type": "code",
      "metadata": {
        "colab": {
          "base_uri": "https://localhost:8080/",
          "height": 584
        },
        "id": "D6r1PhH78l5n",
        "outputId": "f3080432-8438-41a1-adc2-b0cbfdf6332b"
      },
      "source": [
        "plt.figure(figsize=(9,9))\n",
        "sns.heatmap(data.corr())\n",
        "plt.show()"
      ],
      "execution_count": 19,
      "outputs": [
        {
          "output_type": "display_data",
          "data": {
            "image/png": "[encoded data removed]",
            "text/plain": [
              "<Figure size 648x648 with 2 Axes>"
            ]
          },
          "metadata": {
            "tags": [],
            "needs_background": "light"
          }
        }
      ]
    },
    {
      "cell_type": "code",
      "metadata": {
        "colab": {
          "base_uri": "https://localhost:8080/"
        },
        "id": "zPbC8Ygm8uR8",
        "outputId": "814b85be-5a68-403d-9377-d684d5c7b277"
      },
      "source": [
        "data['WQC'].unique()"
      ],
      "execution_count": 20,
      "outputs": [
        {
          "output_type": "execute_result",
          "data": {
            "text/plain": [
              "array(['Excellent', 'Good', 'moderately polluted water',\n",
              "       'highly polluted water'], dtype=object)"
            ]
          },
          "metadata": {
            "tags": []
          },
          "execution_count": 20
        }
      ]
    },
    {
      "cell_type": "code",
      "metadata": {
        "colab": {
          "base_uri": "https://localhost:8080/",
          "height": 204
        },
        "id": "LApmmK8583AC",
        "outputId": "65c6b10b-6b87-40ac-f0bc-5053ed6d934f"
      },
      "source": [
        "pd.get_dummies(data['WQC']).head()"
      ],
      "execution_count": 21,
      "outputs": [
        {
          "output_type": "execute_result",
          "data": {
            "text/html": [
              "<div>\n",
              "<style scoped>\n",
              "    .dataframe tbody tr th:only-of-type {\n",
              "        vertical-align: middle;\n",
              "    }\n",
              "\n",
              "    .dataframe tbody tr th {\n",
              "        vertical-align: top;\n",
              "    }\n",
              "\n",
              "    .dataframe thead th {\n",
              "        text-align: right;\n",
              "    }\n",
              "</style>\n",
              "<table border=\"1\" class=\"dataframe\">\n",
              "  <thead>\n",
              "    <tr style=\"text-align: right;\">\n",
              "      <th></th>\n",
              "      <th>Excellent</th>\n",
              "      <th>Good</th>\n",
              "      <th>highly polluted water</th>\n",
              "      <th>moderately polluted water</th>\n",
              "    </tr>\n",
              "  </thead>\n",
              "  <tbody>\n",
              "    <tr>\n",
              "      <th>0</th>\n",
              "      <td>1</td>\n",
              "      <td>0</td>\n",
              "      <td>0</td>\n",
              "      <td>0</td>\n",
              "    </tr>\n",
              "    <tr>\n",
              "      <th>1</th>\n",
              "      <td>1</td>\n",
              "      <td>0</td>\n",
              "      <td>0</td>\n",
              "      <td>0</td>\n",
              "    </tr>\n",
              "    <tr>\n",
              "      <th>2</th>\n",
              "      <td>1</td>\n",
              "      <td>0</td>\n",
              "      <td>0</td>\n",
              "      <td>0</td>\n",
              "    </tr>\n",
              "    <tr>\n",
              "      <th>3</th>\n",
              "      <td>1</td>\n",
              "      <td>0</td>\n",
              "      <td>0</td>\n",
              "      <td>0</td>\n",
              "    </tr>\n",
              "    <tr>\n",
              "      <th>4</th>\n",
              "      <td>1</td>\n",
              "      <td>0</td>\n",
              "      <td>0</td>\n",
              "      <td>0</td>\n",
              "    </tr>\n",
              "  </tbody>\n",
              "</table>\n",
              "</div>"
            ],
            "text/plain": [
              "   Excellent  Good  highly polluted water  moderately polluted water\n",
              "0          1     0                      0                          0\n",
              "1          1     0                      0                          0\n",
              "2          1     0                      0                          0\n",
              "3          1     0                      0                          0\n",
              "4          1     0                      0                          0"
            ]
          },
          "metadata": {
            "tags": []
          },
          "execution_count": 21
        }
      ]
    },
    {
      "cell_type": "code",
      "metadata": {
        "id": "YPG-J2b888iW"
      },
      "source": [
        "abt = pd.get_dummies(data)"
      ],
      "execution_count": 22,
      "outputs": []
    },
    {
      "cell_type": "code",
      "metadata": {
        "colab": {
          "base_uri": "https://localhost:8080/",
          "height": 258
        },
        "id": "tOq6fmVt9GtC",
        "outputId": "3e22307d-cfab-4bf9-f2f3-d6ac0bcdbe5b"
      },
      "source": [
        "abt.head()"
      ],
      "execution_count": 23,
      "outputs": [
        {
          "output_type": "execute_result",
          "data": {
            "text/html": [
              "<div>\n",
              "<style scoped>\n",
              "    .dataframe tbody tr th:only-of-type {\n",
              "        vertical-align: middle;\n",
              "    }\n",
              "\n",
              "    .dataframe tbody tr th {\n",
              "        vertical-align: top;\n",
              "    }\n",
              "\n",
              "    .dataframe thead th {\n",
              "        text-align: right;\n",
              "    }\n",
              "</style>\n",
              "<table border=\"1\" class=\"dataframe\">\n",
              "  <thead>\n",
              "    <tr style=\"text-align: right;\">\n",
              "      <th></th>\n",
              "      <th>pH</th>\n",
              "      <th>DO</th>\n",
              "      <th>TDS</th>\n",
              "      <th>Alkalinity</th>\n",
              "      <th>EC</th>\n",
              "      <th>Na</th>\n",
              "      <th>Ca</th>\n",
              "      <th>Mg</th>\n",
              "      <th>K</th>\n",
              "      <th>F</th>\n",
              "      <th>Cl</th>\n",
              "      <th>Nitrate</th>\n",
              "      <th>Sulphate</th>\n",
              "      <th>Phosphate</th>\n",
              "      <th>WPI</th>\n",
              "      <th>WQC_Excellent</th>\n",
              "      <th>WQC_Good</th>\n",
              "      <th>WQC_highly polluted water</th>\n",
              "      <th>WQC_moderately polluted water</th>\n",
              "    </tr>\n",
              "  </thead>\n",
              "  <tbody>\n",
              "    <tr>\n",
              "      <th>0</th>\n",
              "      <td>8.14</td>\n",
              "      <td>8.7</td>\n",
              "      <td>84.0</td>\n",
              "      <td>52.0</td>\n",
              "      <td>147.8</td>\n",
              "      <td>4.48</td>\n",
              "      <td>44.0</td>\n",
              "      <td>20.0</td>\n",
              "      <td>1.17</td>\n",
              "      <td>0.285</td>\n",
              "      <td>7.8</td>\n",
              "      <td>0.758000</td>\n",
              "      <td>6.534660</td>\n",
              "      <td>0.06211</td>\n",
              "      <td>0.249528</td>\n",
              "      <td>1</td>\n",
              "      <td>0</td>\n",
              "      <td>0</td>\n",
              "      <td>0</td>\n",
              "    </tr>\n",
              "    <tr>\n",
              "      <th>1</th>\n",
              "      <td>7.70</td>\n",
              "      <td>8.8</td>\n",
              "      <td>110.0</td>\n",
              "      <td>76.0</td>\n",
              "      <td>188.0</td>\n",
              "      <td>8.61</td>\n",
              "      <td>44.0</td>\n",
              "      <td>36.0</td>\n",
              "      <td>3.46</td>\n",
              "      <td>0.401</td>\n",
              "      <td>14.8</td>\n",
              "      <td>0.196062</td>\n",
              "      <td>8.138620</td>\n",
              "      <td>0.00960</td>\n",
              "      <td>0.216400</td>\n",
              "      <td>1</td>\n",
              "      <td>0</td>\n",
              "      <td>0</td>\n",
              "      <td>0</td>\n",
              "    </tr>\n",
              "    <tr>\n",
              "      <th>2</th>\n",
              "      <td>7.60</td>\n",
              "      <td>7.5</td>\n",
              "      <td>75.0</td>\n",
              "      <td>44.0</td>\n",
              "      <td>128.0</td>\n",
              "      <td>8.11</td>\n",
              "      <td>28.0</td>\n",
              "      <td>20.0</td>\n",
              "      <td>2.80</td>\n",
              "      <td>0.379</td>\n",
              "      <td>14.8</td>\n",
              "      <td>0.298875</td>\n",
              "      <td>3.855625</td>\n",
              "      <td>0.01280</td>\n",
              "      <td>0.183814</td>\n",
              "      <td>1</td>\n",
              "      <td>0</td>\n",
              "      <td>0</td>\n",
              "      <td>0</td>\n",
              "    </tr>\n",
              "    <tr>\n",
              "      <th>3</th>\n",
              "      <td>8.20</td>\n",
              "      <td>9.1</td>\n",
              "      <td>76.0</td>\n",
              "      <td>56.0</td>\n",
              "      <td>127.0</td>\n",
              "      <td>6.30</td>\n",
              "      <td>44.0</td>\n",
              "      <td>18.0</td>\n",
              "      <td>1.65</td>\n",
              "      <td>0.396</td>\n",
              "      <td>9.6</td>\n",
              "      <td>0.299590</td>\n",
              "      <td>2.238750</td>\n",
              "      <td>0.01536</td>\n",
              "      <td>0.219282</td>\n",
              "      <td>1</td>\n",
              "      <td>0</td>\n",
              "      <td>0</td>\n",
              "      <td>0</td>\n",
              "    </tr>\n",
              "    <tr>\n",
              "      <th>4</th>\n",
              "      <td>7.31</td>\n",
              "      <td>7.3</td>\n",
              "      <td>84.0</td>\n",
              "      <td>52.0</td>\n",
              "      <td>140.0</td>\n",
              "      <td>5.50</td>\n",
              "      <td>28.0</td>\n",
              "      <td>20.0</td>\n",
              "      <td>1.61</td>\n",
              "      <td>0.265</td>\n",
              "      <td>8.3</td>\n",
              "      <td>0.106000</td>\n",
              "      <td>5.600000</td>\n",
              "      <td>0.01000</td>\n",
              "      <td>0.165831</td>\n",
              "      <td>1</td>\n",
              "      <td>0</td>\n",
              "      <td>0</td>\n",
              "      <td>0</td>\n",
              "    </tr>\n",
              "  </tbody>\n",
              "</table>\n",
              "</div>"
            ],
            "text/plain": [
              "     pH   DO  ...  WQC_highly polluted water  WQC_moderately polluted water\n",
              "0  8.14  8.7  ...                          0                              0\n",
              "1  7.70  8.8  ...                          0                              0\n",
              "2  7.60  7.5  ...                          0                              0\n",
              "3  8.20  9.1  ...                          0                              0\n",
              "4  7.31  7.3  ...                          0                              0\n",
              "\n",
              "[5 rows x 19 columns]"
            ]
          },
          "metadata": {
            "tags": []
          },
          "execution_count": 23
        }
      ]
    },
    {
      "cell_type": "code",
      "metadata": {
        "colab": {
          "base_uri": "https://localhost:8080/"
        },
        "id": "ONE0pDMu9JXY",
        "outputId": "f11b9b44-a348-4f2b-b05c-18a917dfdd65"
      },
      "source": [
        "abt.dtypes"
      ],
      "execution_count": 24,
      "outputs": [
        {
          "output_type": "execute_result",
          "data": {
            "text/plain": [
              "pH                               float64\n",
              "DO                               float64\n",
              "TDS                              float64\n",
              "Alkalinity                       float64\n",
              "EC                               float64\n",
              "Na                               float64\n",
              "Ca                               float64\n",
              "Mg                               float64\n",
              "K                                float64\n",
              "F                                float64\n",
              "Cl                               float64\n",
              "Nitrate                          float64\n",
              "Sulphate                         float64\n",
              "Phosphate                        float64\n",
              "WPI                              float64\n",
              "WQC_Excellent                      uint8\n",
              "WQC_Good                           uint8\n",
              "WQC_highly polluted water          uint8\n",
              "WQC_moderately polluted water      uint8\n",
              "dtype: object"
            ]
          },
          "metadata": {
            "tags": []
          },
          "execution_count": 24
        }
      ]
    },
    {
      "cell_type": "code",
      "metadata": {
        "id": "GSzLlveJ9NuU"
      },
      "source": [
        "y = abt['WPI']\n",
        "X = abt.drop('WPI', axis=1)"
      ],
      "execution_count": 25,
      "outputs": []
    },
    {
      "cell_type": "code",
      "metadata": {
        "id": "EBBfc5vB9Zkj"
      },
      "source": [
        "random_state=1234"
      ],
      "execution_count": 26,
      "outputs": []
    },
    {
      "cell_type": "code",
      "metadata": {
        "id": "P0okr8SA9dHv"
      },
      "source": [
        "from sklearn.model_selection import train_test_split\n",
        "X_train, X_test, y_train, y_test = train_test_split(X,y, test_size=0.3, random_state=random_state)"
      ],
      "execution_count": 27,
      "outputs": []
    },
    {
      "cell_type": "code",
      "metadata": {
        "colab": {
          "base_uri": "https://localhost:8080/"
        },
        "id": "_Lx-XN959hZa",
        "outputId": "f427c35d-aa01-47a3-d53e-a568942137e1"
      },
      "source": [
        "print(len(X_train), len(X_test), len(y_train), len(y_test))"
      ],
      "execution_count": 28,
      "outputs": [
        {
          "output_type": "stream",
          "text": [
            "339 146 339 146\n"
          ],
          "name": "stdout"
        }
      ]
    },
    {
      "cell_type": "code",
      "metadata": {
        "id": "IHqca74u9kM0"
      },
      "source": [
        "from sklearn.pipeline import make_pipeline"
      ],
      "execution_count": 29,
      "outputs": []
    },
    {
      "cell_type": "code",
      "metadata": {
        "id": "eOwUhwmf9p0D"
      },
      "source": [
        "from sklearn.preprocessing import StandardScaler"
      ],
      "execution_count": 30,
      "outputs": []
    },
    {
      "cell_type": "code",
      "metadata": {
        "id": "g_4kjq8Q9tfl"
      },
      "source": [
        "from sklearn.linear_model import Ridge, Lasso, ElasticNet\n",
        "from sklearn.ensemble import RandomForestRegressor, GradientBoostingRegressor"
      ],
      "execution_count": 31,
      "outputs": []
    },
    {
      "cell_type": "code",
      "metadata": {
        "id": "zLxSpU3A9wiP"
      },
      "source": [
        "pipelines = {\n",
        "    'rf':make_pipeline(StandardScaler(), RandomForestRegressor(random_state=random_state)),\n",
        "    'gb':make_pipeline(StandardScaler(), GradientBoostingRegressor(random_state=random_state)),\n",
        "    'enet':make_pipeline(StandardScaler(), ElasticNet(random_state=random_state)),\n",
        "    'ridge':make_pipeline(StandardScaler(), Ridge(random_state=random_state)),\n",
        "    'lasso':make_pipeline(StandardScaler(), Lasso(random_state=random_state))\n",
        "}"
      ],
      "execution_count": 32,
      "outputs": []
    },
    {
      "cell_type": "code",
      "metadata": {
        "id": "Mj8wG5nN95it"
      },
      "source": [
        "grid = {\n",
        "    'rf':{'randomforestregressor__n_estimators':[10,20,30]},\n",
        "    'gb':{'gradientboostingregressor__alpha':[0.5,0.9,0.99]},\n",
        "    'enet':{'elasticnet__alpha':[0.5,0.9,0.99]},\n",
        "    'ridge':{'ridge__alpha':[0.5,0.9,0.99]},\n",
        "    'lasso':{'lasso__alpha':[0.5,0.9,0.99]}\n",
        "}"
      ],
      "execution_count": 33,
      "outputs": []
    },
    {
      "cell_type": "code",
      "metadata": {
        "colab": {
          "base_uri": "https://localhost:8080/"
        },
        "id": "YxQOQQHK9_ty",
        "outputId": "f7eb888b-afb7-4168-f79e-5cba090cb457"
      },
      "source": [
        "Lasso().get_params()"
      ],
      "execution_count": 34,
      "outputs": [
        {
          "output_type": "execute_result",
          "data": {
            "text/plain": [
              "{'alpha': 1.0,\n",
              " 'copy_X': True,\n",
              " 'fit_intercept': True,\n",
              " 'max_iter': 1000,\n",
              " 'normalize': False,\n",
              " 'positive': False,\n",
              " 'precompute': False,\n",
              " 'random_state': None,\n",
              " 'selection': 'cyclic',\n",
              " 'tol': 0.0001,\n",
              " 'warm_start': False}"
            ]
          },
          "metadata": {
            "tags": []
          },
          "execution_count": 34
        }
      ]
    },
    {
      "cell_type": "code",
      "metadata": {
        "id": "2IN_DyOV-C4l"
      },
      "source": [
        "from sklearn.model_selection import  GridSearchCV"
      ],
      "execution_count": 35,
      "outputs": []
    },
    {
      "cell_type": "code",
      "metadata": {
        "colab": {
          "base_uri": "https://localhost:8080/"
        },
        "id": "G4-4Ujc7-HB3",
        "outputId": "77507749-0b91-4816-b3a3-ccd8cae008fb"
      },
      "source": [
        "fit_models = {}\n",
        "for algo, pipeline in pipelines.items():\n",
        "    # 4.1 Create a Grid Search CV instance\n",
        "    model = GridSearchCV(pipeline, grid[algo], cv=10, n_jobs=-1)\n",
        "    # 4.2 Fit the model\n",
        "    model.fit(X_train, y_train)\n",
        "    # 4.3 Save it to the fit models dictionary\n",
        "    fit_models[algo] = model\n",
        "    print(algo, 'model has been fit.')"
      ],
      "execution_count": 36,
      "outputs": [
        {
          "output_type": "stream",
          "text": [
            "rf model has been fit.\n",
            "gb model has been fit.\n",
            "enet model has been fit.\n",
            "ridge model has been fit.\n",
            "lasso model has been fit.\n"
          ],
          "name": "stdout"
        }
      ]
    },
    {
      "cell_type": "code",
      "metadata": {
        "colab": {
          "base_uri": "https://localhost:8080/"
        },
        "id": "mTc9semL-K6k",
        "outputId": "044b9af3-1d89-4805-ce9a-7c1e00d85c18"
      },
      "source": [
        "fit_models"
      ],
      "execution_count": 37,
      "outputs": [
        {
          "output_type": "execute_result",
          "data": {
            "text/plain": [
              "{'enet': GridSearchCV(cv=10, error_score=nan,\n",
              "              estimator=Pipeline(memory=None,\n",
              "                                 steps=[('standardscaler',\n",
              "                                         StandardScaler(copy=True,\n",
              "                                                        with_mean=True,\n",
              "                                                        with_std=True)),\n",
              "                                        ('elasticnet',\n",
              "                                         ElasticNet(alpha=1.0, copy_X=True,\n",
              "                                                    fit_intercept=True,\n",
              "                                                    l1_ratio=0.5, max_iter=1000,\n",
              "                                                    normalize=False,\n",
              "                                                    positive=False,\n",
              "                                                    precompute=False,\n",
              "                                                    random_state=1234,\n",
              "                                                    selection='cyclic',\n",
              "                                                    tol=0.0001,\n",
              "                                                    warm_start=False))],\n",
              "                                 verbose=False),\n",
              "              iid='deprecated', n_jobs=-1,\n",
              "              param_grid={'elasticnet__alpha': [0.5, 0.9, 0.99]},\n",
              "              pre_dispatch='2*n_jobs', refit=True, return_train_score=False,\n",
              "              scoring=None, verbose=0),\n",
              " 'gb': GridSearchCV(cv=10, error_score=nan,\n",
              "              estimator=Pipeline(memory=None,\n",
              "                                 steps=[('standardscaler',\n",
              "                                         StandardScaler(copy=True,\n",
              "                                                        with_mean=True,\n",
              "                                                        with_std=True)),\n",
              "                                        ('gradientboostingregressor',\n",
              "                                         GradientBoostingRegressor(alpha=0.9,\n",
              "                                                                   ccp_alpha=0.0,\n",
              "                                                                   criterion='friedman_mse',\n",
              "                                                                   init=None,\n",
              "                                                                   learning_rate=0.1,\n",
              "                                                                   loss='ls',\n",
              "                                                                   max_depth=3,\n",
              "                                                                   max_features=None,\n",
              "                                                                   max_leaf_nodes=None,\n",
              "                                                                   min_impurit...\n",
              "                                                                   min_weight_fraction_leaf=0.0,\n",
              "                                                                   n_estimators=100,\n",
              "                                                                   n_iter_no_change=None,\n",
              "                                                                   presort='deprecated',\n",
              "                                                                   random_state=1234,\n",
              "                                                                   subsample=1.0,\n",
              "                                                                   tol=0.0001,\n",
              "                                                                   validation_fraction=0.1,\n",
              "                                                                   verbose=0,\n",
              "                                                                   warm_start=False))],\n",
              "                                 verbose=False),\n",
              "              iid='deprecated', n_jobs=-1,\n",
              "              param_grid={'gradientboostingregressor__alpha': [0.5, 0.9, 0.99]},\n",
              "              pre_dispatch='2*n_jobs', refit=True, return_train_score=False,\n",
              "              scoring=None, verbose=0),\n",
              " 'lasso': GridSearchCV(cv=10, error_score=nan,\n",
              "              estimator=Pipeline(memory=None,\n",
              "                                 steps=[('standardscaler',\n",
              "                                         StandardScaler(copy=True,\n",
              "                                                        with_mean=True,\n",
              "                                                        with_std=True)),\n",
              "                                        ('lasso',\n",
              "                                         Lasso(alpha=1.0, copy_X=True,\n",
              "                                               fit_intercept=True, max_iter=1000,\n",
              "                                               normalize=False, positive=False,\n",
              "                                               precompute=False,\n",
              "                                               random_state=1234,\n",
              "                                               selection='cyclic', tol=0.0001,\n",
              "                                               warm_start=False))],\n",
              "                                 verbose=False),\n",
              "              iid='deprecated', n_jobs=-1,\n",
              "              param_grid={'lasso__alpha': [0.5, 0.9, 0.99]},\n",
              "              pre_dispatch='2*n_jobs', refit=True, return_train_score=False,\n",
              "              scoring=None, verbose=0),\n",
              " 'rf': GridSearchCV(cv=10, error_score=nan,\n",
              "              estimator=Pipeline(memory=None,\n",
              "                                 steps=[('standardscaler',\n",
              "                                         StandardScaler(copy=True,\n",
              "                                                        with_mean=True,\n",
              "                                                        with_std=True)),\n",
              "                                        ('randomforestregressor',\n",
              "                                         RandomForestRegressor(bootstrap=True,\n",
              "                                                               ccp_alpha=0.0,\n",
              "                                                               criterion='mse',\n",
              "                                                               max_depth=None,\n",
              "                                                               max_features='auto',\n",
              "                                                               max_leaf_nodes=None,\n",
              "                                                               max_samples=None,\n",
              "                                                               min_impurity_decrease=0.0,\n",
              "                                                               min_impurity_...e,\n",
              "                                                               min_samples_leaf=1,\n",
              "                                                               min_samples_split=2,\n",
              "                                                               min_weight_fraction_leaf=0.0,\n",
              "                                                               n_estimators=100,\n",
              "                                                               n_jobs=None,\n",
              "                                                               oob_score=False,\n",
              "                                                               random_state=1234,\n",
              "                                                               verbose=0,\n",
              "                                                               warm_start=False))],\n",
              "                                 verbose=False),\n",
              "              iid='deprecated', n_jobs=-1,\n",
              "              param_grid={'randomforestregressor__n_estimators': [10, 20, 30]},\n",
              "              pre_dispatch='2*n_jobs', refit=True, return_train_score=False,\n",
              "              scoring=None, verbose=0),\n",
              " 'ridge': GridSearchCV(cv=10, error_score=nan,\n",
              "              estimator=Pipeline(memory=None,\n",
              "                                 steps=[('standardscaler',\n",
              "                                         StandardScaler(copy=True,\n",
              "                                                        with_mean=True,\n",
              "                                                        with_std=True)),\n",
              "                                        ('ridge',\n",
              "                                         Ridge(alpha=1.0, copy_X=True,\n",
              "                                               fit_intercept=True, max_iter=None,\n",
              "                                               normalize=False,\n",
              "                                               random_state=1234, solver='auto',\n",
              "                                               tol=0.001))],\n",
              "                                 verbose=False),\n",
              "              iid='deprecated', n_jobs=-1,\n",
              "              param_grid={'ridge__alpha': [0.5, 0.9, 0.99]},\n",
              "              pre_dispatch='2*n_jobs', refit=True, return_train_score=False,\n",
              "              scoring=None, verbose=0)}"
            ]
          },
          "metadata": {
            "tags": []
          },
          "execution_count": 37
        }
      ]
    },
    {
      "cell_type": "code",
      "metadata": {
        "colab": {
          "base_uri": "https://localhost:8080/"
        },
        "id": "ae_xtJL5_e1S",
        "outputId": "638d9bb6-24c6-4792-eb29-9f22f8ca56f6"
      },
      "source": [
        "fit_models['rf']"
      ],
      "execution_count": 38,
      "outputs": [
        {
          "output_type": "execute_result",
          "data": {
            "text/plain": [
              "GridSearchCV(cv=10, error_score=nan,\n",
              "             estimator=Pipeline(memory=None,\n",
              "                                steps=[('standardscaler',\n",
              "                                        StandardScaler(copy=True,\n",
              "                                                       with_mean=True,\n",
              "                                                       with_std=True)),\n",
              "                                       ('randomforestregressor',\n",
              "                                        RandomForestRegressor(bootstrap=True,\n",
              "                                                              ccp_alpha=0.0,\n",
              "                                                              criterion='mse',\n",
              "                                                              max_depth=None,\n",
              "                                                              max_features='auto',\n",
              "                                                              max_leaf_nodes=None,\n",
              "                                                              max_samples=None,\n",
              "                                                              min_impurity_decrease=0.0,\n",
              "                                                              min_impurity_...e,\n",
              "                                                              min_samples_leaf=1,\n",
              "                                                              min_samples_split=2,\n",
              "                                                              min_weight_fraction_leaf=0.0,\n",
              "                                                              n_estimators=100,\n",
              "                                                              n_jobs=None,\n",
              "                                                              oob_score=False,\n",
              "                                                              random_state=1234,\n",
              "                                                              verbose=0,\n",
              "                                                              warm_start=False))],\n",
              "                                verbose=False),\n",
              "             iid='deprecated', n_jobs=-1,\n",
              "             param_grid={'randomforestregressor__n_estimators': [10, 20, 30]},\n",
              "             pre_dispatch='2*n_jobs', refit=True, return_train_score=False,\n",
              "             scoring=None, verbose=0)"
            ]
          },
          "metadata": {
            "tags": []
          },
          "execution_count": 38
        }
      ]
    },
    {
      "cell_type": "code",
      "metadata": {
        "colab": {
          "base_uri": "https://localhost:8080/"
        },
        "id": "fHXTUN7I_rPK",
        "outputId": "e9725eba-c34b-4e19-8a08-47c11e921246"
      },
      "source": [
        "fit_models['rf'].predict(X_test)"
      ],
      "execution_count": 39,
      "outputs": [
        {
          "output_type": "execute_result",
          "data": {
            "text/plain": [
              "array([0.21374466, 0.25122275, 0.21462177, 0.8164915 , 0.19638587,\n",
              "       0.5060213 , 0.38785945, 0.2021193 , 0.23437411, 0.39120767,\n",
              "       0.22691879, 0.32724907, 0.25375726, 0.27598457, 0.20055411,\n",
              "       0.24846753, 0.22835597, 0.21285425, 0.24940312, 0.28266407,\n",
              "       0.26847768, 0.42167554, 0.29364813, 0.21197292, 0.27250374,\n",
              "       0.24268265, 0.27433888, 0.30230445, 0.88088005, 0.34924125,\n",
              "       0.20659366, 0.31216021, 0.22900914, 0.31693086, 0.23546052,\n",
              "       0.28697196, 0.28480558, 0.29626547, 0.31693086, 0.29610089,\n",
              "       0.37284816, 0.44441829, 0.19780456, 0.38799138, 0.38889035,\n",
              "       0.23843891, 0.23343239, 0.25797221, 0.20313291, 0.26575639,\n",
              "       0.24619139, 0.2333881 , 0.34414444, 0.24712809, 0.34118493,\n",
              "       0.34290799, 0.29415369, 0.39143169, 0.31567483, 0.22448554,\n",
              "       0.23389202, 0.24310274, 0.1814327 , 0.29759129, 0.27689907,\n",
              "       0.24219186, 0.34413534, 0.23972724, 0.25099498, 0.28796671,\n",
              "       0.30058264, 0.3214246 , 0.63814519, 0.22132733, 0.3615927 ,\n",
              "       0.25037299, 0.30250129, 0.25158011, 0.1969633 , 0.33896437,\n",
              "       0.23719797, 0.2456096 , 0.27183267, 0.22200815, 0.21878924,\n",
              "       0.21883529, 0.24039256, 0.273262  , 0.25059658, 0.24304778,\n",
              "       0.19881847, 0.30072972, 0.24846753, 0.26981422, 0.22728489,\n",
              "       0.36632827, 0.1913378 , 0.39592651, 0.18551852, 0.28255942,\n",
              "       0.23363642, 0.40383638, 0.187329  , 0.24322932, 0.38404481,\n",
              "       0.28903789, 0.39053063, 0.37102114, 0.68162152, 0.27639259,\n",
              "       0.19969591, 0.77421382, 0.33054034, 0.24259349, 0.18100131,\n",
              "       0.23244091, 1.06909293, 0.2311241 , 0.24217631, 0.2112881 ,\n",
              "       0.2695249 , 0.21815345, 0.21155554, 0.26863066, 0.24375781,\n",
              "       0.23808787, 0.25940164, 0.22355092, 0.27640624, 0.39506054,\n",
              "       0.2676347 , 0.18029007, 0.26256085, 0.24446031, 0.28015729,\n",
              "       0.23972724, 0.24323843, 0.2337585 , 0.24868954, 0.37826263,\n",
              "       0.23152615, 0.23899614, 0.28682455, 0.21257349, 0.20475506,\n",
              "       0.40514804])"
            ]
          },
          "metadata": {
            "tags": []
          },
          "execution_count": 39
        }
      ]
    },
    {
      "cell_type": "code",
      "metadata": {
        "id": "zybjTkh2_xdK"
      },
      "source": [
        "from sklearn.metrics import mean_squared_error"
      ],
      "execution_count": 40,
      "outputs": []
    },
    {
      "cell_type": "code",
      "metadata": {
        "colab": {
          "base_uri": "https://localhost:8080/"
        },
        "id": "C-K6WtK__0bh",
        "outputId": "f618b7f3-3537-44d1-8130-aefa9b254606"
      },
      "source": [
        "for algo, model in fit_models.items():\n",
        "    yhat = model.predict(X_test)\n",
        "    print('MSE for', algo, 'is', mean_squared_error(y_test, yhat))"
      ],
      "execution_count": 41,
      "outputs": [
        {
          "output_type": "stream",
          "text": [
            "MSE for rf is 0.0005743967945788149\n",
            "MSE for gb is 0.00027784915342593183\n",
            "MSE for enet is 0.016712348640094615\n",
            "MSE for ridge is 2.417654721566049e-07\n",
            "MSE for lasso is 0.016712348640094615\n"
          ],
          "name": "stdout"
        }
      ]
    },
    {
      "cell_type": "code",
      "metadata": {
        "id": "yBYEKoLAAAWl"
      },
      "source": [
        "bestmod = fit_models['gb'].best_estimator_"
      ],
      "execution_count": 42,
      "outputs": []
    },
    {
      "cell_type": "code",
      "metadata": {
        "colab": {
          "base_uri": "https://localhost:8080/"
        },
        "id": "3tzhzLwnAD8D",
        "outputId": "e3af2f05-5ae0-4246-8d22-8bd36a457284"
      },
      "source": [
        "bestmod.predict(X_test)"
      ],
      "execution_count": 43,
      "outputs": [
        {
          "output_type": "execute_result",
          "data": {
            "text/plain": [
              "array([0.22172769, 0.25055355, 0.19468993, 0.75573586, 0.19316207,\n",
              "       0.51134475, 0.42197752, 0.20157217, 0.23947042, 0.35188219,\n",
              "       0.2254937 , 0.33167954, 0.23926185, 0.28057358, 0.18546662,\n",
              "       0.25001637, 0.24245214, 0.18888096, 0.24962063, 0.28560795,\n",
              "       0.26891146, 0.44066302, 0.28911025, 0.22199347, 0.26213248,\n",
              "       0.24538102, 0.25898392, 0.31349628, 0.83094053, 0.33653286,\n",
              "       0.2071899 , 0.30962413, 0.23061003, 0.32640891, 0.22582419,\n",
              "       0.30350937, 0.29213577, 0.30237143, 0.32640891, 0.29759258,\n",
              "       0.41279552, 0.42122779, 0.19293277, 0.40335508, 0.40538376,\n",
              "       0.25004772, 0.22352264, 0.25806015, 0.19238535, 0.25381877,\n",
              "       0.2345462 , 0.23983656, 0.34502257, 0.25430334, 0.3260298 ,\n",
              "       0.31462089, 0.28252685, 0.41408862, 0.31480512, 0.23321596,\n",
              "       0.22073623, 0.24302808, 0.17673348, 0.29713909, 0.27340804,\n",
              "       0.23723978, 0.39790867, 0.23040308, 0.26434528, 0.29064476,\n",
              "       0.31822078, 0.32139406, 0.64994508, 0.21184311, 0.37848237,\n",
              "       0.24026822, 0.30279765, 0.25973029, 0.19781426, 0.3709    ,\n",
              "       0.23269881, 0.24726484, 0.28397822, 0.22773044, 0.21111066,\n",
              "       0.21510247, 0.23894186, 0.26828781, 0.22706456, 0.25497493,\n",
              "       0.19989833, 0.28438388, 0.25001637, 0.26476537, 0.23106652,\n",
              "       0.38204587, 0.1723891 , 0.42148564, 0.17629086, 0.28342481,\n",
              "       0.23059277, 0.41737448, 0.18706494, 0.24362313, 0.37768716,\n",
              "       0.27027673, 0.36369863, 0.35352291, 0.72624842, 0.27536987,\n",
              "       0.19860988, 0.76958504, 0.3231832 , 0.24384625, 0.17790758,\n",
              "       0.23393641, 1.07689153, 0.23269133, 0.2352749 , 0.21429932,\n",
              "       0.25900291, 0.22671121, 0.20899099, 0.27339517, 0.24889559,\n",
              "       0.23729934, 0.26216282, 0.23269831, 0.25743659, 0.38626706,\n",
              "       0.28137769, 0.17493293, 0.26468807, 0.2346194 , 0.27980164,\n",
              "       0.23040308, 0.2427133 , 0.24315856, 0.24387606, 0.366602  ,\n",
              "       0.23577663, 0.23743887, 0.30030895, 0.204565  , 0.21057751,\n",
              "       0.41067937])"
            ]
          },
          "metadata": {
            "tags": []
          },
          "execution_count": 43
        }
      ]
    },
    {
      "cell_type": "code",
      "metadata": {
        "id": "eENnFtjeAHCL"
      },
      "source": [
        "import pickle as pkl"
      ],
      "execution_count": 44,
      "outputs": []
    },
    {
      "cell_type": "code",
      "metadata": {
        "id": "dak2qojAALOI"
      },
      "source": [
        "with open('saved_model.pkl', 'wb') as f:\n",
        "    pkl.dump(bestmod, f)"
      ],
      "execution_count": 45,
      "outputs": []
    },
    {
      "cell_type": "code",
      "metadata": {
        "id": "ca5_LuaTAPoE"
      },
      "source": [
        "del bestmod"
      ],
      "execution_count": 46,
      "outputs": []
    },
    {
      "cell_type": "code",
      "metadata": {
        "id": "kdfu0N-6AZWW"
      },
      "source": [
        "with open('saved_model.pkl', 'rb') as f:\n",
        "    model = pkl.load(f)"
      ],
      "execution_count": 47,
      "outputs": []
    },
    {
      "cell_type": "code",
      "metadata": {
        "colab": {
          "base_uri": "https://localhost:8080/"
        },
        "id": "3qLnzE0CAhk2",
        "outputId": "4136584b-ee77-45fe-aa28-3ff9f86022f1"
      },
      "source": [
        "model"
      ],
      "execution_count": 48,
      "outputs": [
        {
          "output_type": "execute_result",
          "data": {
            "text/plain": [
              "Pipeline(memory=None,\n",
              "         steps=[('standardscaler',\n",
              "                 StandardScaler(copy=True, with_mean=True, with_std=True)),\n",
              "                ('gradientboostingregressor',\n",
              "                 GradientBoostingRegressor(alpha=0.5, ccp_alpha=0.0,\n",
              "                                           criterion='friedman_mse', init=None,\n",
              "                                           learning_rate=0.1, loss='ls',\n",
              "                                           max_depth=3, max_features=None,\n",
              "                                           max_leaf_nodes=None,\n",
              "                                           min_impurity_decrease=0.0,\n",
              "                                           min_impurity_split=None,\n",
              "                                           min_samples_leaf=1,\n",
              "                                           min_samples_split=2,\n",
              "                                           min_weight_fraction_leaf=0.0,\n",
              "                                           n_estimators=100,\n",
              "                                           n_iter_no_change=None,\n",
              "                                           presort='deprecated',\n",
              "                                           random_state=1234, subsample=1.0,\n",
              "                                           tol=0.0001, validation_fraction=0.1,\n",
              "                                           verbose=0, warm_start=False))],\n",
              "         verbose=False)"
            ]
          },
          "metadata": {
            "tags": []
          },
          "execution_count": 48
        }
      ]
    },
    {
      "cell_type": "code",
      "metadata": {
        "colab": {
          "base_uri": "https://localhost:8080/"
        },
        "id": "PPJvgcOUBHjr",
        "outputId": "8de25aaf-00be-4cdc-ddd8-3bdafa560a2d"
      },
      "source": [
        "model.predict(X_test)"
      ],
      "execution_count": 49,
      "outputs": [
        {
          "output_type": "execute_result",
          "data": {
            "text/plain": [
              "array([0.22172769, 0.25055355, 0.19468993, 0.75573586, 0.19316207,\n",
              "       0.51134475, 0.42197752, 0.20157217, 0.23947042, 0.35188219,\n",
              "       0.2254937 , 0.33167954, 0.23926185, 0.28057358, 0.18546662,\n",
              "       0.25001637, 0.24245214, 0.18888096, 0.24962063, 0.28560795,\n",
              "       0.26891146, 0.44066302, 0.28911025, 0.22199347, 0.26213248,\n",
              "       0.24538102, 0.25898392, 0.31349628, 0.83094053, 0.33653286,\n",
              "       0.2071899 , 0.30962413, 0.23061003, 0.32640891, 0.22582419,\n",
              "       0.30350937, 0.29213577, 0.30237143, 0.32640891, 0.29759258,\n",
              "       0.41279552, 0.42122779, 0.19293277, 0.40335508, 0.40538376,\n",
              "       0.25004772, 0.22352264, 0.25806015, 0.19238535, 0.25381877,\n",
              "       0.2345462 , 0.23983656, 0.34502257, 0.25430334, 0.3260298 ,\n",
              "       0.31462089, 0.28252685, 0.41408862, 0.31480512, 0.23321596,\n",
              "       0.22073623, 0.24302808, 0.17673348, 0.29713909, 0.27340804,\n",
              "       0.23723978, 0.39790867, 0.23040308, 0.26434528, 0.29064476,\n",
              "       0.31822078, 0.32139406, 0.64994508, 0.21184311, 0.37848237,\n",
              "       0.24026822, 0.30279765, 0.25973029, 0.19781426, 0.3709    ,\n",
              "       0.23269881, 0.24726484, 0.28397822, 0.22773044, 0.21111066,\n",
              "       0.21510247, 0.23894186, 0.26828781, 0.22706456, 0.25497493,\n",
              "       0.19989833, 0.28438388, 0.25001637, 0.26476537, 0.23106652,\n",
              "       0.38204587, 0.1723891 , 0.42148564, 0.17629086, 0.28342481,\n",
              "       0.23059277, 0.41737448, 0.18706494, 0.24362313, 0.37768716,\n",
              "       0.27027673, 0.36369863, 0.35352291, 0.72624842, 0.27536987,\n",
              "       0.19860988, 0.76958504, 0.3231832 , 0.24384625, 0.17790758,\n",
              "       0.23393641, 1.07689153, 0.23269133, 0.2352749 , 0.21429932,\n",
              "       0.25900291, 0.22671121, 0.20899099, 0.27339517, 0.24889559,\n",
              "       0.23729934, 0.26216282, 0.23269831, 0.25743659, 0.38626706,\n",
              "       0.28137769, 0.17493293, 0.26468807, 0.2346194 , 0.27980164,\n",
              "       0.23040308, 0.2427133 , 0.24315856, 0.24387606, 0.366602  ,\n",
              "       0.23577663, 0.23743887, 0.30030895, 0.204565  , 0.21057751,\n",
              "       0.41067937])"
            ]
          },
          "metadata": {
            "tags": []
          },
          "execution_count": 49
        }
      ]
    },
    {
      "cell_type": "code",
      "metadata": {
        "id": "RITv2OCpcqpV"
      },
      "source": [
        ""
      ],
      "execution_count": 52,
      "outputs": []
    }
  ]
}