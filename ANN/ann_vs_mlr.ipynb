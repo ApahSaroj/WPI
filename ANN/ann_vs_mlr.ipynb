{
  "nbformat": 4,
  "nbformat_minor": 0,
  "metadata": {
    "colab": {
      "name": "ann vs mlr.ipynb",
      "provenance": [],
      "authorship_tag": "ABX9TyN5RngspzeQ1j7v7tsYDFvr",
      "include_colab_link": true
    },
    "kernelspec": {
      "name": "python3",
      "display_name": "Python 3"
    },
    "language_info": {
      "name": "python"
    }
  },
  "cells": [
    {
      "cell_type": "markdown",
      "metadata": {
        "id": "view-in-github",
        "colab_type": "text"
      },
      "source": [
        "<a href=\"https://colab.research.google.com/github/ApahSaroj/WPI/blob/main/ann_vs_mlr.ipynb\" target=\"_parent\"><img src=\"https://colab.research.google.com/assets/colab-badge.svg\" alt=\"Open In Colab\"/></a>"
      ]
    },
    {
      "cell_type": "code",
      "metadata": {
        "id": "QQO4Cc9H3C6s"
      },
      "source": [
        "# Import Libraries\n",
        "import pandas as pd\n",
        "import numpy as np\n",
        "import seaborn as sns\n",
        "import matplotlib.pyplot as plt\n",
        "%matplotlib inline"
      ],
      "execution_count": 1,
      "outputs": []
    },
    {
      "cell_type": "code",
      "metadata": {
        "colab": {
          "base_uri": "https://localhost:8080/"
        },
        "id": "nXYck_rYo-ad",
        "outputId": "d4cf5a54-9cb2-4e2d-88eb-cdcee6d8b463"
      },
      "source": [
        "from google.colab import drive\n",
        "\n",
        "drive.mount('/content/drive')"
      ],
      "execution_count": 2,
      "outputs": [
        {
          "output_type": "stream",
          "text": [
            "Drive already mounted at /content/drive; to attempt to forcibly remount, call drive.mount(\"/content/drive\", force_remount=True).\n"
          ],
          "name": "stdout"
        }
      ]
    },
    {
      "cell_type": "code",
      "metadata": {
        "colab": {
          "base_uri": "https://localhost:8080/",
          "height": 419
        },
        "id": "p2WOBAf5pMou",
        "outputId": "10ecc7a4-347d-4fb5-e500-a24e0f40b4b2"
      },
      "source": [
        "import pandas as pd\n",
        "\n",
        "df = pd.read_csv('/content/drive/MyDrive/DATA/timeser.csv')\n",
        "df.dropna(inplace=True)\n",
        "\n",
        "df"
      ],
      "execution_count": 3,
      "outputs": [
        {
          "output_type": "execute_result",
          "data": {
            "text/html": [
              "<div>\n",
              "<style scoped>\n",
              "    .dataframe tbody tr th:only-of-type {\n",
              "        vertical-align: middle;\n",
              "    }\n",
              "\n",
              "    .dataframe tbody tr th {\n",
              "        vertical-align: top;\n",
              "    }\n",
              "\n",
              "    .dataframe thead th {\n",
              "        text-align: right;\n",
              "    }\n",
              "</style>\n",
              "<table border=\"1\" class=\"dataframe\">\n",
              "  <thead>\n",
              "    <tr style=\"text-align: right;\">\n",
              "      <th></th>\n",
              "      <th>Date</th>\n",
              "      <th>pH</th>\n",
              "      <th>DO</th>\n",
              "      <th>TDS</th>\n",
              "      <th>Alkalinity</th>\n",
              "      <th>EC</th>\n",
              "      <th>Na</th>\n",
              "      <th>Ca</th>\n",
              "      <th>Mg</th>\n",
              "      <th>K</th>\n",
              "      <th>F</th>\n",
              "      <th>Cl</th>\n",
              "      <th>Nitrate</th>\n",
              "      <th>Sulphate</th>\n",
              "      <th>Phosphate</th>\n",
              "      <th>WPI</th>\n",
              "    </tr>\n",
              "  </thead>\n",
              "  <tbody>\n",
              "    <tr>\n",
              "      <th>0</th>\n",
              "      <td>01-Jan-14</td>\n",
              "      <td>8.14</td>\n",
              "      <td>8.7</td>\n",
              "      <td>84.0</td>\n",
              "      <td>52</td>\n",
              "      <td>147.8</td>\n",
              "      <td>4.48</td>\n",
              "      <td>44</td>\n",
              "      <td>20</td>\n",
              "      <td>1.17</td>\n",
              "      <td>0.285</td>\n",
              "      <td>7.80</td>\n",
              "      <td>0.758000</td>\n",
              "      <td>6.534660</td>\n",
              "      <td>0.06211</td>\n",
              "      <td>0.249528</td>\n",
              "    </tr>\n",
              "    <tr>\n",
              "      <th>1</th>\n",
              "      <td>02-Jan-14</td>\n",
              "      <td>7.70</td>\n",
              "      <td>8.8</td>\n",
              "      <td>110.0</td>\n",
              "      <td>76</td>\n",
              "      <td>188.0</td>\n",
              "      <td>8.61</td>\n",
              "      <td>44</td>\n",
              "      <td>36</td>\n",
              "      <td>3.46</td>\n",
              "      <td>0.401</td>\n",
              "      <td>14.80</td>\n",
              "      <td>0.196062</td>\n",
              "      <td>8.138620</td>\n",
              "      <td>0.00960</td>\n",
              "      <td>0.216400</td>\n",
              "    </tr>\n",
              "    <tr>\n",
              "      <th>2</th>\n",
              "      <td>03-Jan-14</td>\n",
              "      <td>7.60</td>\n",
              "      <td>7.5</td>\n",
              "      <td>75.0</td>\n",
              "      <td>44</td>\n",
              "      <td>128.0</td>\n",
              "      <td>8.11</td>\n",
              "      <td>28</td>\n",
              "      <td>20</td>\n",
              "      <td>2.80</td>\n",
              "      <td>0.379</td>\n",
              "      <td>14.80</td>\n",
              "      <td>0.298875</td>\n",
              "      <td>3.855625</td>\n",
              "      <td>0.01280</td>\n",
              "      <td>0.183814</td>\n",
              "    </tr>\n",
              "    <tr>\n",
              "      <th>3</th>\n",
              "      <td>04-Jan-14</td>\n",
              "      <td>8.20</td>\n",
              "      <td>9.1</td>\n",
              "      <td>76.0</td>\n",
              "      <td>56</td>\n",
              "      <td>127.0</td>\n",
              "      <td>6.30</td>\n",
              "      <td>44</td>\n",
              "      <td>18</td>\n",
              "      <td>1.65</td>\n",
              "      <td>0.396</td>\n",
              "      <td>9.60</td>\n",
              "      <td>0.299591</td>\n",
              "      <td>2.238750</td>\n",
              "      <td>0.01536</td>\n",
              "      <td>0.219282</td>\n",
              "    </tr>\n",
              "    <tr>\n",
              "      <th>4</th>\n",
              "      <td>05-Jan-14</td>\n",
              "      <td>7.31</td>\n",
              "      <td>7.3</td>\n",
              "      <td>84.0</td>\n",
              "      <td>52</td>\n",
              "      <td>140.0</td>\n",
              "      <td>5.50</td>\n",
              "      <td>28</td>\n",
              "      <td>20</td>\n",
              "      <td>1.61</td>\n",
              "      <td>0.265</td>\n",
              "      <td>8.30</td>\n",
              "      <td>0.106000</td>\n",
              "      <td>5.600000</td>\n",
              "      <td>0.01000</td>\n",
              "      <td>0.165831</td>\n",
              "    </tr>\n",
              "    <tr>\n",
              "      <th>...</th>\n",
              "      <td>...</td>\n",
              "      <td>...</td>\n",
              "      <td>...</td>\n",
              "      <td>...</td>\n",
              "      <td>...</td>\n",
              "      <td>...</td>\n",
              "      <td>...</td>\n",
              "      <td>...</td>\n",
              "      <td>...</td>\n",
              "      <td>...</td>\n",
              "      <td>...</td>\n",
              "      <td>...</td>\n",
              "      <td>...</td>\n",
              "      <td>...</td>\n",
              "      <td>...</td>\n",
              "      <td>...</td>\n",
              "    </tr>\n",
              "    <tr>\n",
              "      <th>482</th>\n",
              "      <td>28-Apr-15</td>\n",
              "      <td>7.60</td>\n",
              "      <td>5.6</td>\n",
              "      <td>224.0</td>\n",
              "      <td>8</td>\n",
              "      <td>370.0</td>\n",
              "      <td>16.14</td>\n",
              "      <td>92</td>\n",
              "      <td>24</td>\n",
              "      <td>7.60</td>\n",
              "      <td>2.270</td>\n",
              "      <td>23.04</td>\n",
              "      <td>1.352000</td>\n",
              "      <td>104.480000</td>\n",
              "      <td>0.01500</td>\n",
              "      <td>0.419630</td>\n",
              "    </tr>\n",
              "    <tr>\n",
              "      <th>483</th>\n",
              "      <td>29-Apr-15</td>\n",
              "      <td>7.30</td>\n",
              "      <td>5.6</td>\n",
              "      <td>266.0</td>\n",
              "      <td>96</td>\n",
              "      <td>434.0</td>\n",
              "      <td>20.56</td>\n",
              "      <td>96</td>\n",
              "      <td>32</td>\n",
              "      <td>9.89</td>\n",
              "      <td>1.550</td>\n",
              "      <td>30.86</td>\n",
              "      <td>7.074000</td>\n",
              "      <td>61.068000</td>\n",
              "      <td>0.03300</td>\n",
              "      <td>0.432996</td>\n",
              "    </tr>\n",
              "    <tr>\n",
              "      <th>484</th>\n",
              "      <td>30-Apr-15</td>\n",
              "      <td>5.10</td>\n",
              "      <td>5.8</td>\n",
              "      <td>290.0</td>\n",
              "      <td>12</td>\n",
              "      <td>487.0</td>\n",
              "      <td>37.35</td>\n",
              "      <td>60</td>\n",
              "      <td>44</td>\n",
              "      <td>14.80</td>\n",
              "      <td>0.159</td>\n",
              "      <td>60.13</td>\n",
              "      <td>9.256000</td>\n",
              "      <td>89.910000</td>\n",
              "      <td>0.16300</td>\n",
              "      <td>0.326811</td>\n",
              "    </tr>\n",
              "    <tr>\n",
              "      <th>485</th>\n",
              "      <td>01-May-15</td>\n",
              "      <td>7.40</td>\n",
              "      <td>6.4</td>\n",
              "      <td>230.0</td>\n",
              "      <td>72</td>\n",
              "      <td>385.0</td>\n",
              "      <td>20.06</td>\n",
              "      <td>70</td>\n",
              "      <td>42</td>\n",
              "      <td>10.35</td>\n",
              "      <td>1.360</td>\n",
              "      <td>32.92</td>\n",
              "      <td>7.110435</td>\n",
              "      <td>48.500000</td>\n",
              "      <td>0.21900</td>\n",
              "      <td>0.509970</td>\n",
              "    </tr>\n",
              "    <tr>\n",
              "      <th>486</th>\n",
              "      <td>02-May-15</td>\n",
              "      <td>7.60</td>\n",
              "      <td>6.9</td>\n",
              "      <td>243.0</td>\n",
              "      <td>68</td>\n",
              "      <td>410.8</td>\n",
              "      <td>17.41</td>\n",
              "      <td>82</td>\n",
              "      <td>50</td>\n",
              "      <td>9.92</td>\n",
              "      <td>1.310</td>\n",
              "      <td>34.89</td>\n",
              "      <td>6.385000</td>\n",
              "      <td>59.940000</td>\n",
              "      <td>0.07000</td>\n",
              "      <td>0.422551</td>\n",
              "    </tr>\n",
              "  </tbody>\n",
              "</table>\n",
              "<p>485 rows × 16 columns</p>\n",
              "</div>"
            ],
            "text/plain": [
              "          Date    pH   DO    TDS  ...   Nitrate    Sulphate  Phosphate       WPI\n",
              "0    01-Jan-14  8.14  8.7   84.0  ...  0.758000    6.534660    0.06211  0.249528\n",
              "1    02-Jan-14  7.70  8.8  110.0  ...  0.196062    8.138620    0.00960  0.216400\n",
              "2    03-Jan-14  7.60  7.5   75.0  ...  0.298875    3.855625    0.01280  0.183814\n",
              "3    04-Jan-14  8.20  9.1   76.0  ...  0.299591    2.238750    0.01536  0.219282\n",
              "4    05-Jan-14  7.31  7.3   84.0  ...  0.106000    5.600000    0.01000  0.165831\n",
              "..         ...   ...  ...    ...  ...       ...         ...        ...       ...\n",
              "482  28-Apr-15  7.60  5.6  224.0  ...  1.352000  104.480000    0.01500  0.419630\n",
              "483  29-Apr-15  7.30  5.6  266.0  ...  7.074000   61.068000    0.03300  0.432996\n",
              "484  30-Apr-15  5.10  5.8  290.0  ...  9.256000   89.910000    0.16300  0.326811\n",
              "485  01-May-15  7.40  6.4  230.0  ...  7.110435   48.500000    0.21900  0.509970\n",
              "486  02-May-15  7.60  6.9  243.0  ...  6.385000   59.940000    0.07000  0.422551\n",
              "\n",
              "[485 rows x 16 columns]"
            ]
          },
          "metadata": {
            "tags": []
          },
          "execution_count": 3
        }
      ]
    },
    {
      "cell_type": "code",
      "metadata": {
        "id": "SETcL2Zaq_C0",
        "colab": {
          "base_uri": "https://localhost:8080/",
          "height": 317
        },
        "outputId": "4fa17d3e-49e3-4923-a4ff-ea727ae8ed22"
      },
      "source": [
        "df.describe()"
      ],
      "execution_count": 4,
      "outputs": [
        {
          "output_type": "execute_result",
          "data": {
            "text/html": [
              "<div>\n",
              "<style scoped>\n",
              "    .dataframe tbody tr th:only-of-type {\n",
              "        vertical-align: middle;\n",
              "    }\n",
              "\n",
              "    .dataframe tbody tr th {\n",
              "        vertical-align: top;\n",
              "    }\n",
              "\n",
              "    .dataframe thead th {\n",
              "        text-align: right;\n",
              "    }\n",
              "</style>\n",
              "<table border=\"1\" class=\"dataframe\">\n",
              "  <thead>\n",
              "    <tr style=\"text-align: right;\">\n",
              "      <th></th>\n",
              "      <th>pH</th>\n",
              "      <th>DO</th>\n",
              "      <th>TDS</th>\n",
              "      <th>Alkalinity</th>\n",
              "      <th>EC</th>\n",
              "      <th>Na</th>\n",
              "      <th>Ca</th>\n",
              "      <th>Mg</th>\n",
              "      <th>K</th>\n",
              "      <th>F</th>\n",
              "      <th>Cl</th>\n",
              "      <th>Nitrate</th>\n",
              "      <th>Sulphate</th>\n",
              "      <th>Phosphate</th>\n",
              "      <th>WPI</th>\n",
              "    </tr>\n",
              "  </thead>\n",
              "  <tbody>\n",
              "    <tr>\n",
              "      <th>count</th>\n",
              "      <td>485.000000</td>\n",
              "      <td>485.000000</td>\n",
              "      <td>485.000000</td>\n",
              "      <td>485.000000</td>\n",
              "      <td>485.000000</td>\n",
              "      <td>485.000000</td>\n",
              "      <td>485.000000</td>\n",
              "      <td>485.000000</td>\n",
              "      <td>485.000000</td>\n",
              "      <td>485.000000</td>\n",
              "      <td>485.000000</td>\n",
              "      <td>485.000000</td>\n",
              "      <td>485.000000</td>\n",
              "      <td>485.000000</td>\n",
              "      <td>485.000000</td>\n",
              "    </tr>\n",
              "    <tr>\n",
              "      <th>mean</th>\n",
              "      <td>7.808880</td>\n",
              "      <td>7.436784</td>\n",
              "      <td>115.889278</td>\n",
              "      <td>62.251546</td>\n",
              "      <td>196.757361</td>\n",
              "      <td>8.911093</td>\n",
              "      <td>43.756701</td>\n",
              "      <td>24.387629</td>\n",
              "      <td>3.042495</td>\n",
              "      <td>0.512101</td>\n",
              "      <td>14.180745</td>\n",
              "      <td>1.291492</td>\n",
              "      <td>14.829563</td>\n",
              "      <td>0.089608</td>\n",
              "      <td>0.293930</td>\n",
              "    </tr>\n",
              "    <tr>\n",
              "      <th>std</th>\n",
              "      <td>0.411552</td>\n",
              "      <td>1.106868</td>\n",
              "      <td>47.332843</td>\n",
              "      <td>20.104135</td>\n",
              "      <td>81.181745</td>\n",
              "      <td>5.730719</td>\n",
              "      <td>17.846411</td>\n",
              "      <td>10.829170</td>\n",
              "      <td>2.306840</td>\n",
              "      <td>0.495054</td>\n",
              "      <td>9.297846</td>\n",
              "      <td>1.840738</td>\n",
              "      <td>14.662305</td>\n",
              "      <td>0.156697</td>\n",
              "      <td>0.132472</td>\n",
              "    </tr>\n",
              "    <tr>\n",
              "      <th>min</th>\n",
              "      <td>5.100000</td>\n",
              "      <td>4.200000</td>\n",
              "      <td>56.000000</td>\n",
              "      <td>8.000000</td>\n",
              "      <td>98.000000</td>\n",
              "      <td>2.190000</td>\n",
              "      <td>14.000000</td>\n",
              "      <td>2.000000</td>\n",
              "      <td>0.500000</td>\n",
              "      <td>0.059000</td>\n",
              "      <td>3.800000</td>\n",
              "      <td>0.003985</td>\n",
              "      <td>0.792000</td>\n",
              "      <td>0.000000</td>\n",
              "      <td>0.103531</td>\n",
              "    </tr>\n",
              "    <tr>\n",
              "      <th>25%</th>\n",
              "      <td>7.550000</td>\n",
              "      <td>6.700000</td>\n",
              "      <td>84.000000</td>\n",
              "      <td>50.000000</td>\n",
              "      <td>140.000000</td>\n",
              "      <td>5.290000</td>\n",
              "      <td>32.000000</td>\n",
              "      <td>16.000000</td>\n",
              "      <td>1.770000</td>\n",
              "      <td>0.249000</td>\n",
              "      <td>8.600000</td>\n",
              "      <td>0.246000</td>\n",
              "      <td>5.544000</td>\n",
              "      <td>0.023700</td>\n",
              "      <td>0.222014</td>\n",
              "    </tr>\n",
              "    <tr>\n",
              "      <th>50%</th>\n",
              "      <td>7.860000</td>\n",
              "      <td>7.400000</td>\n",
              "      <td>102.000000</td>\n",
              "      <td>56.000000</td>\n",
              "      <td>171.100000</td>\n",
              "      <td>7.100000</td>\n",
              "      <td>40.000000</td>\n",
              "      <td>22.000000</td>\n",
              "      <td>2.420000</td>\n",
              "      <td>0.312000</td>\n",
              "      <td>11.000000</td>\n",
              "      <td>0.535983</td>\n",
              "      <td>9.570000</td>\n",
              "      <td>0.046252</td>\n",
              "      <td>0.254719</td>\n",
              "    </tr>\n",
              "    <tr>\n",
              "      <th>75%</th>\n",
              "      <td>8.100000</td>\n",
              "      <td>8.100000</td>\n",
              "      <td>129.000000</td>\n",
              "      <td>72.000000</td>\n",
              "      <td>220.000000</td>\n",
              "      <td>10.240000</td>\n",
              "      <td>52.000000</td>\n",
              "      <td>28.000000</td>\n",
              "      <td>3.400000</td>\n",
              "      <td>0.466000</td>\n",
              "      <td>16.400000</td>\n",
              "      <td>1.526653</td>\n",
              "      <td>18.030000</td>\n",
              "      <td>0.091000</td>\n",
              "      <td>0.312652</td>\n",
              "    </tr>\n",
              "    <tr>\n",
              "      <th>max</th>\n",
              "      <td>8.570000</td>\n",
              "      <td>13.500000</td>\n",
              "      <td>308.000000</td>\n",
              "      <td>170.000000</td>\n",
              "      <td>502.000000</td>\n",
              "      <td>48.350000</td>\n",
              "      <td>146.000000</td>\n",
              "      <td>84.000000</td>\n",
              "      <td>18.020000</td>\n",
              "      <td>3.060000</td>\n",
              "      <td>73.300000</td>\n",
              "      <td>9.716972</td>\n",
              "      <td>104.480000</td>\n",
              "      <td>1.765000</td>\n",
              "      <td>1.604375</td>\n",
              "    </tr>\n",
              "  </tbody>\n",
              "</table>\n",
              "</div>"
            ],
            "text/plain": [
              "               pH          DO         TDS  ...    Sulphate   Phosphate         WPI\n",
              "count  485.000000  485.000000  485.000000  ...  485.000000  485.000000  485.000000\n",
              "mean     7.808880    7.436784  115.889278  ...   14.829563    0.089608    0.293930\n",
              "std      0.411552    1.106868   47.332843  ...   14.662305    0.156697    0.132472\n",
              "min      5.100000    4.200000   56.000000  ...    0.792000    0.000000    0.103531\n",
              "25%      7.550000    6.700000   84.000000  ...    5.544000    0.023700    0.222014\n",
              "50%      7.860000    7.400000  102.000000  ...    9.570000    0.046252    0.254719\n",
              "75%      8.100000    8.100000  129.000000  ...   18.030000    0.091000    0.312652\n",
              "max      8.570000   13.500000  308.000000  ...  104.480000    1.765000    1.604375\n",
              "\n",
              "[8 rows x 15 columns]"
            ]
          },
          "metadata": {
            "tags": []
          },
          "execution_count": 4
        }
      ]
    },
    {
      "cell_type": "code",
      "metadata": {
        "colab": {
          "base_uri": "https://localhost:8080/"
        },
        "id": "Pey8H4TL3VOC",
        "outputId": "acd2dd00-c275-4f46-b647-b605db79df6a"
      },
      "source": [
        "df.info()"
      ],
      "execution_count": 5,
      "outputs": [
        {
          "output_type": "stream",
          "text": [
            "<class 'pandas.core.frame.DataFrame'>\n",
            "Int64Index: 485 entries, 0 to 486\n",
            "Data columns (total 16 columns):\n",
            " #   Column      Non-Null Count  Dtype  \n",
            "---  ------      --------------  -----  \n",
            " 0   Date        485 non-null    object \n",
            " 1   pH          485 non-null    float64\n",
            " 2   DO          485 non-null    float64\n",
            " 3   TDS         485 non-null    float64\n",
            " 4   Alkalinity  485 non-null    int64  \n",
            " 5   EC          485 non-null    float64\n",
            " 6   Na          485 non-null    float64\n",
            " 7   Ca          485 non-null    int64  \n",
            " 8   Mg          485 non-null    int64  \n",
            " 9   K           485 non-null    float64\n",
            " 10  F           485 non-null    float64\n",
            " 11  Cl          485 non-null    float64\n",
            " 12  Nitrate     485 non-null    float64\n",
            " 13  Sulphate    485 non-null    float64\n",
            " 14  Phosphate   485 non-null    float64\n",
            " 15  WPI         485 non-null    float64\n",
            "dtypes: float64(12), int64(3), object(1)\n",
            "memory usage: 64.4+ KB\n"
          ],
          "name": "stdout"
        }
      ]
    },
    {
      "cell_type": "code",
      "metadata": {
        "colab": {
          "base_uri": "https://localhost:8080/"
        },
        "id": "5cEa9FsS3YjZ",
        "outputId": "410cde01-39a8-4a7e-f1cb-20f68d92ff4b"
      },
      "source": [
        "df.shape"
      ],
      "execution_count": 6,
      "outputs": [
        {
          "output_type": "execute_result",
          "data": {
            "text/plain": [
              "(485, 16)"
            ]
          },
          "metadata": {
            "tags": []
          },
          "execution_count": 6
        }
      ]
    },
    {
      "cell_type": "code",
      "metadata": {
        "colab": {
          "base_uri": "https://localhost:8080/",
          "height": 296
        },
        "id": "SdmS7Qnu3c6r",
        "outputId": "7eba9479-b860-4c40-835c-9ab05c06cbf2"
      },
      "source": [
        "sns.scatterplot(x='TDS', y='WPI', data = df)"
      ],
      "execution_count": 7,
      "outputs": [
        {
          "output_type": "execute_result",
          "data": {
            "text/plain": [
              "<matplotlib.axes._subplots.AxesSubplot at 0x7f569cb55690>"
            ]
          },
          "metadata": {
            "tags": []
          },
          "execution_count": 7
        },
        {
          "output_type": "display_data",
          "data": {
            "image/png": "[encoded data removed]",
            "text/plain": [
              "<Figure size 432x288 with 1 Axes>"
            ]
          },
          "metadata": {
            "tags": [],
            "needs_background": "light"
          }
        }
      ]
    },
    {
      "cell_type": "code",
      "metadata": {
        "colab": {
          "base_uri": "https://localhost:8080/",
          "height": 1000
        },
        "id": "M_8inHbB3jZB",
        "outputId": "6dcf87f6-1aef-4b4f-b22c-2f5bad22fff7"
      },
      "source": [
        "# Plot distrbutions\n",
        "df.hist(bins=20, figsize=(20,20), color='r')"
      ],
      "execution_count": 8,
      "outputs": [
        {
          "output_type": "execute_result",
          "data": {
            "text/plain": [
              "array([[<matplotlib.axes._subplots.AxesSubplot object at 0x7f569c2d5910>,\n",
              "        <matplotlib.axes._subplots.AxesSubplot object at 0x7f569c286fd0>,\n",
              "        <matplotlib.axes._subplots.AxesSubplot object at 0x7f569c2466d0>,\n",
              "        <matplotlib.axes._subplots.AxesSubplot object at 0x7f569c1fdd50>],\n",
              "       [<matplotlib.axes._subplots.AxesSubplot object at 0x7f569c1be410>,\n",
              "        <matplotlib.axes._subplots.AxesSubplot object at 0x7f569c174a90>,\n",
              "        <matplotlib.axes._subplots.AxesSubplot object at 0x7f569c1381d0>,\n",
              "        <matplotlib.axes._subplots.AxesSubplot object at 0x7f569c0ec790>],\n",
              "       [<matplotlib.axes._subplots.AxesSubplot object at 0x7f569c0ec7d0>,\n",
              "        <matplotlib.axes._subplots.AxesSubplot object at 0x7f569c0a2f50>,\n",
              "        <matplotlib.axes._subplots.AxesSubplot object at 0x7f569c25eb10>,\n",
              "        <matplotlib.axes._subplots.AxesSubplot object at 0x7f569c143150>],\n",
              "       [<matplotlib.axes._subplots.AxesSubplot object at 0x7f569c003b50>,\n",
              "        <matplotlib.axes._subplots.AxesSubplot object at 0x7f569bfc5210>,\n",
              "        <matplotlib.axes._subplots.AxesSubplot object at 0x7f569bf7c890>,\n",
              "        <matplotlib.axes._subplots.AxesSubplot object at 0x7f569bf33f10>]],\n",
              "      dtype=object)"
            ]
          },
          "metadata": {
            "tags": []
          },
          "execution_count": 8
        },
        {
          "output_type": "display_data",
          "data": {
            "image/png": "[encoded data removed]",
            "text/plain": [
              "<Figure size 1440x1440 with 16 Axes>"
            ]
          },
          "metadata": {
            "tags": [],
            "needs_background": "light"
          }
        }
      ]
    },
    {
      "cell_type": "code",
      "metadata": {
        "colab": {
          "base_uri": "https://localhost:8080/",
          "height": 1000
        },
        "id": "zKIGKKEv3rUl",
        "outputId": "926c75dd-e71c-4376-e73b-c33f194ce633"
      },
      "source": [
        "# Plot correlations\n",
        "\n",
        "f,ax = plt.subplots(figsize = (20,20))\n",
        "sns.heatmap(df.corr(), annot = True)"
      ],
      "execution_count": 9,
      "outputs": [
        {
          "output_type": "execute_result",
          "data": {
            "text/plain": [
              "<matplotlib.axes._subplots.AxesSubplot at 0x7f569b8db750>"
            ]
          },
          "metadata": {
            "tags": []
          },
          "execution_count": 9
        },
        {
          "output_type": "display_data",
          "data": {
            "image/png": "[encoded data removed]",
            "text/plain": [
              "<Figure size 1440x1440 with 2 Axes>"
            ]
          },
          "metadata": {
            "tags": [],
            "needs_background": "light"
          }
        }
      ]
    },
    {
      "cell_type": "code",
      "metadata": {
        "id": "TJGx_3A436YE"
      },
      "source": [
        "selected_features = ['pH',\t'DO',\t'TDS',\t'Alkalinity',\t'EC',\t'Na',\t'Ca',\t'Mg',\t'K',\t'F',\t'Cl',\t'Nitrate',\t'Sulphate',\t'Phosphate']"
      ],
      "execution_count": 10,
      "outputs": []
    },
    {
      "cell_type": "code",
      "metadata": {
        "id": "Od1lTx9J4Xtr"
      },
      "source": [
        "X = df[selected_features]"
      ],
      "execution_count": 11,
      "outputs": []
    },
    {
      "cell_type": "code",
      "metadata": {
        "colab": {
          "base_uri": "https://localhost:8080/",
          "height": 419
        },
        "id": "_cByjkPH4cFJ",
        "outputId": "b121175e-c62e-4bd1-c345-b24d0585e937"
      },
      "source": [
        "X"
      ],
      "execution_count": 12,
      "outputs": [
        {
          "output_type": "execute_result",
          "data": {
            "text/html": [
              "<div>\n",
              "<style scoped>\n",
              "    .dataframe tbody tr th:only-of-type {\n",
              "        vertical-align: middle;\n",
              "    }\n",
              "\n",
              "    .dataframe tbody tr th {\n",
              "        vertical-align: top;\n",
              "    }\n",
              "\n",
              "    .dataframe thead th {\n",
              "        text-align: right;\n",
              "    }\n",
              "</style>\n",
              "<table border=\"1\" class=\"dataframe\">\n",
              "  <thead>\n",
              "    <tr style=\"text-align: right;\">\n",
              "      <th></th>\n",
              "      <th>pH</th>\n",
              "      <th>DO</th>\n",
              "      <th>TDS</th>\n",
              "      <th>Alkalinity</th>\n",
              "      <th>EC</th>\n",
              "      <th>Na</th>\n",
              "      <th>Ca</th>\n",
              "      <th>Mg</th>\n",
              "      <th>K</th>\n",
              "      <th>F</th>\n",
              "      <th>Cl</th>\n",
              "      <th>Nitrate</th>\n",
              "      <th>Sulphate</th>\n",
              "      <th>Phosphate</th>\n",
              "    </tr>\n",
              "  </thead>\n",
              "  <tbody>\n",
              "    <tr>\n",
              "      <th>0</th>\n",
              "      <td>8.14</td>\n",
              "      <td>8.7</td>\n",
              "      <td>84.0</td>\n",
              "      <td>52</td>\n",
              "      <td>147.8</td>\n",
              "      <td>4.48</td>\n",
              "      <td>44</td>\n",
              "      <td>20</td>\n",
              "      <td>1.17</td>\n",
              "      <td>0.285</td>\n",
              "      <td>7.80</td>\n",
              "      <td>0.758000</td>\n",
              "      <td>6.534660</td>\n",
              "      <td>0.06211</td>\n",
              "    </tr>\n",
              "    <tr>\n",
              "      <th>1</th>\n",
              "      <td>7.70</td>\n",
              "      <td>8.8</td>\n",
              "      <td>110.0</td>\n",
              "      <td>76</td>\n",
              "      <td>188.0</td>\n",
              "      <td>8.61</td>\n",
              "      <td>44</td>\n",
              "      <td>36</td>\n",
              "      <td>3.46</td>\n",
              "      <td>0.401</td>\n",
              "      <td>14.80</td>\n",
              "      <td>0.196062</td>\n",
              "      <td>8.138620</td>\n",
              "      <td>0.00960</td>\n",
              "    </tr>\n",
              "    <tr>\n",
              "      <th>2</th>\n",
              "      <td>7.60</td>\n",
              "      <td>7.5</td>\n",
              "      <td>75.0</td>\n",
              "      <td>44</td>\n",
              "      <td>128.0</td>\n",
              "      <td>8.11</td>\n",
              "      <td>28</td>\n",
              "      <td>20</td>\n",
              "      <td>2.80</td>\n",
              "      <td>0.379</td>\n",
              "      <td>14.80</td>\n",
              "      <td>0.298875</td>\n",
              "      <td>3.855625</td>\n",
              "      <td>0.01280</td>\n",
              "    </tr>\n",
              "    <tr>\n",
              "      <th>3</th>\n",
              "      <td>8.20</td>\n",
              "      <td>9.1</td>\n",
              "      <td>76.0</td>\n",
              "      <td>56</td>\n",
              "      <td>127.0</td>\n",
              "      <td>6.30</td>\n",
              "      <td>44</td>\n",
              "      <td>18</td>\n",
              "      <td>1.65</td>\n",
              "      <td>0.396</td>\n",
              "      <td>9.60</td>\n",
              "      <td>0.299591</td>\n",
              "      <td>2.238750</td>\n",
              "      <td>0.01536</td>\n",
              "    </tr>\n",
              "    <tr>\n",
              "      <th>4</th>\n",
              "      <td>7.31</td>\n",
              "      <td>7.3</td>\n",
              "      <td>84.0</td>\n",
              "      <td>52</td>\n",
              "      <td>140.0</td>\n",
              "      <td>5.50</td>\n",
              "      <td>28</td>\n",
              "      <td>20</td>\n",
              "      <td>1.61</td>\n",
              "      <td>0.265</td>\n",
              "      <td>8.30</td>\n",
              "      <td>0.106000</td>\n",
              "      <td>5.600000</td>\n",
              "      <td>0.01000</td>\n",
              "    </tr>\n",
              "    <tr>\n",
              "      <th>...</th>\n",
              "      <td>...</td>\n",
              "      <td>...</td>\n",
              "      <td>...</td>\n",
              "      <td>...</td>\n",
              "      <td>...</td>\n",
              "      <td>...</td>\n",
              "      <td>...</td>\n",
              "      <td>...</td>\n",
              "      <td>...</td>\n",
              "      <td>...</td>\n",
              "      <td>...</td>\n",
              "      <td>...</td>\n",
              "      <td>...</td>\n",
              "      <td>...</td>\n",
              "    </tr>\n",
              "    <tr>\n",
              "      <th>482</th>\n",
              "      <td>7.60</td>\n",
              "      <td>5.6</td>\n",
              "      <td>224.0</td>\n",
              "      <td>8</td>\n",
              "      <td>370.0</td>\n",
              "      <td>16.14</td>\n",
              "      <td>92</td>\n",
              "      <td>24</td>\n",
              "      <td>7.60</td>\n",
              "      <td>2.270</td>\n",
              "      <td>23.04</td>\n",
              "      <td>1.352000</td>\n",
              "      <td>104.480000</td>\n",
              "      <td>0.01500</td>\n",
              "    </tr>\n",
              "    <tr>\n",
              "      <th>483</th>\n",
              "      <td>7.30</td>\n",
              "      <td>5.6</td>\n",
              "      <td>266.0</td>\n",
              "      <td>96</td>\n",
              "      <td>434.0</td>\n",
              "      <td>20.56</td>\n",
              "      <td>96</td>\n",
              "      <td>32</td>\n",
              "      <td>9.89</td>\n",
              "      <td>1.550</td>\n",
              "      <td>30.86</td>\n",
              "      <td>7.074000</td>\n",
              "      <td>61.068000</td>\n",
              "      <td>0.03300</td>\n",
              "    </tr>\n",
              "    <tr>\n",
              "      <th>484</th>\n",
              "      <td>5.10</td>\n",
              "      <td>5.8</td>\n",
              "      <td>290.0</td>\n",
              "      <td>12</td>\n",
              "      <td>487.0</td>\n",
              "      <td>37.35</td>\n",
              "      <td>60</td>\n",
              "      <td>44</td>\n",
              "      <td>14.80</td>\n",
              "      <td>0.159</td>\n",
              "      <td>60.13</td>\n",
              "      <td>9.256000</td>\n",
              "      <td>89.910000</td>\n",
              "      <td>0.16300</td>\n",
              "    </tr>\n",
              "    <tr>\n",
              "      <th>485</th>\n",
              "      <td>7.40</td>\n",
              "      <td>6.4</td>\n",
              "      <td>230.0</td>\n",
              "      <td>72</td>\n",
              "      <td>385.0</td>\n",
              "      <td>20.06</td>\n",
              "      <td>70</td>\n",
              "      <td>42</td>\n",
              "      <td>10.35</td>\n",
              "      <td>1.360</td>\n",
              "      <td>32.92</td>\n",
              "      <td>7.110435</td>\n",
              "      <td>48.500000</td>\n",
              "      <td>0.21900</td>\n",
              "    </tr>\n",
              "    <tr>\n",
              "      <th>486</th>\n",
              "      <td>7.60</td>\n",
              "      <td>6.9</td>\n",
              "      <td>243.0</td>\n",
              "      <td>68</td>\n",
              "      <td>410.8</td>\n",
              "      <td>17.41</td>\n",
              "      <td>82</td>\n",
              "      <td>50</td>\n",
              "      <td>9.92</td>\n",
              "      <td>1.310</td>\n",
              "      <td>34.89</td>\n",
              "      <td>6.385000</td>\n",
              "      <td>59.940000</td>\n",
              "      <td>0.07000</td>\n",
              "    </tr>\n",
              "  </tbody>\n",
              "</table>\n",
              "<p>485 rows × 14 columns</p>\n",
              "</div>"
            ],
            "text/plain": [
              "       pH   DO    TDS  Alkalinity  ...     Cl   Nitrate    Sulphate  Phosphate\n",
              "0    8.14  8.7   84.0          52  ...   7.80  0.758000    6.534660    0.06211\n",
              "1    7.70  8.8  110.0          76  ...  14.80  0.196062    8.138620    0.00960\n",
              "2    7.60  7.5   75.0          44  ...  14.80  0.298875    3.855625    0.01280\n",
              "3    8.20  9.1   76.0          56  ...   9.60  0.299591    2.238750    0.01536\n",
              "4    7.31  7.3   84.0          52  ...   8.30  0.106000    5.600000    0.01000\n",
              "..    ...  ...    ...         ...  ...    ...       ...         ...        ...\n",
              "482  7.60  5.6  224.0           8  ...  23.04  1.352000  104.480000    0.01500\n",
              "483  7.30  5.6  266.0          96  ...  30.86  7.074000   61.068000    0.03300\n",
              "484  5.10  5.8  290.0          12  ...  60.13  9.256000   89.910000    0.16300\n",
              "485  7.40  6.4  230.0          72  ...  32.92  7.110435   48.500000    0.21900\n",
              "486  7.60  6.9  243.0          68  ...  34.89  6.385000   59.940000    0.07000\n",
              "\n",
              "[485 rows x 14 columns]"
            ]
          },
          "metadata": {
            "tags": []
          },
          "execution_count": 12
        }
      ]
    },
    {
      "cell_type": "code",
      "metadata": {
        "id": "Hu1brGEo4dOd"
      },
      "source": [
        "y = df['WPI']"
      ],
      "execution_count": 13,
      "outputs": []
    },
    {
      "cell_type": "code",
      "metadata": {
        "colab": {
          "base_uri": "https://localhost:8080/"
        },
        "id": "VgpCcavr4jD7",
        "outputId": "1a276eb5-dd74-4931-f2e2-b3ffacaa4b2b"
      },
      "source": [
        "X.shape"
      ],
      "execution_count": 14,
      "outputs": [
        {
          "output_type": "execute_result",
          "data": {
            "text/plain": [
              "(485, 14)"
            ]
          },
          "metadata": {
            "tags": []
          },
          "execution_count": 14
        }
      ]
    },
    {
      "cell_type": "code",
      "metadata": {
        "colab": {
          "base_uri": "https://localhost:8080/"
        },
        "id": "ncVCKQsP4l9g",
        "outputId": "3fd84be7-7e1b-407f-e66a-2f770c932ec9"
      },
      "source": [
        "y.shape"
      ],
      "execution_count": 15,
      "outputs": [
        {
          "output_type": "execute_result",
          "data": {
            "text/plain": [
              "(485,)"
            ]
          },
          "metadata": {
            "tags": []
          },
          "execution_count": 15
        }
      ]
    },
    {
      "cell_type": "code",
      "metadata": {
        "id": "bF9nsmuQ4oh0"
      },
      "source": [
        "from sklearn.preprocessing import MinMaxScaler\n",
        "scaler = MinMaxScaler()\n",
        "X_scaled = scaler.fit_transform(X)"
      ],
      "execution_count": 16,
      "outputs": []
    },
    {
      "cell_type": "code",
      "metadata": {
        "colab": {
          "base_uri": "https://localhost:8080/"
        },
        "id": "bLV4vQBN4v4_",
        "outputId": "08cb2cf1-f537-4a89-e5d4-fd1e3de64bbd"
      },
      "source": [
        "X_scaled"
      ],
      "execution_count": 17,
      "outputs": [
        {
          "output_type": "execute_result",
          "data": {
            "text/plain": [
              "array([[0.87608069, 0.48387097, 0.11111111, ..., 0.07762957, 0.05538404,\n",
              "        0.03519008],\n",
              "       [0.74927954, 0.49462366, 0.21428571, ..., 0.01977528, 0.07085314,\n",
              "        0.00543909],\n",
              "       [0.7204611 , 0.35483871, 0.07539683, ..., 0.03036038, 0.02954657,\n",
              "        0.00725212],\n",
              "       ...,\n",
              "       [0.        , 0.17204301, 0.92857143, ..., 0.95254066, 0.85948229,\n",
              "        0.09235127],\n",
              "       [0.66282421, 0.23655914, 0.69047619, ..., 0.73164419, 0.4601111 ,\n",
              "        0.12407932],\n",
              "       [0.7204611 , 0.29032258, 0.74206349, ..., 0.65695702, 0.5704421 ,\n",
              "        0.03966006]])"
            ]
          },
          "metadata": {
            "tags": []
          },
          "execution_count": 17
        }
      ]
    },
    {
      "cell_type": "code",
      "metadata": {
        "colab": {
          "base_uri": "https://localhost:8080/"
        },
        "id": "cKPhiGwP4y-C",
        "outputId": "0aa7688e-a806-4df3-cf52-7f3a08849d6f"
      },
      "source": [
        "X_scaled.shape"
      ],
      "execution_count": 18,
      "outputs": [
        {
          "output_type": "execute_result",
          "data": {
            "text/plain": [
              "(485, 14)"
            ]
          },
          "metadata": {
            "tags": []
          },
          "execution_count": 18
        }
      ]
    },
    {
      "cell_type": "code",
      "metadata": {
        "id": "BPXpGwbp42FL"
      },
      "source": [
        "#reshape y for scale\n",
        "\n",
        "y = y.values.reshape(-1,1)"
      ],
      "execution_count": 19,
      "outputs": []
    },
    {
      "cell_type": "code",
      "metadata": {
        "colab": {
          "base_uri": "https://localhost:8080/"
        },
        "id": "pgFYO1uJ45mt",
        "outputId": "9552036b-981f-46ab-d01a-6bf36687ffe5"
      },
      "source": [
        "y.shape"
      ],
      "execution_count": 20,
      "outputs": [
        {
          "output_type": "execute_result",
          "data": {
            "text/plain": [
              "(485, 1)"
            ]
          },
          "metadata": {
            "tags": []
          },
          "execution_count": 20
        }
      ]
    },
    {
      "cell_type": "code",
      "metadata": {
        "id": "Pppq_rxn478u"
      },
      "source": [
        "y_scaled = scaler.fit_transform(y)"
      ],
      "execution_count": 21,
      "outputs": []
    },
    {
      "cell_type": "code",
      "metadata": {
        "colab": {
          "base_uri": "https://localhost:8080/"
        },
        "id": "wOdojrJm5AKG",
        "outputId": "93223964-21a8-4d08-96a7-447fed83e3cb"
      },
      "source": [
        "y_scaled"
      ],
      "execution_count": 22,
      "outputs": [
        {
          "output_type": "execute_result",
          "data": {
            "text/plain": [
              "array([[0.09727633],\n",
              "       [0.07520334],\n",
              "       [0.05349187],\n",
              "       [0.07712375],\n",
              "       [0.0415101 ],\n",
              "       [0.1366537 ],\n",
              "       [0.20212597],\n",
              "       [0.12544482],\n",
              "       [0.07755545],\n",
              "       [0.08915552],\n",
              "       [0.1071943 ],\n",
              "       [0.11580438],\n",
              "       [0.09609265],\n",
              "       [0.10254232],\n",
              "       [0.27535308],\n",
              "       [0.07705351],\n",
              "       [0.10815872],\n",
              "       [0.10815872],\n",
              "       [0.09936133],\n",
              "       [0.12399653],\n",
              "       [0.18454926],\n",
              "       [0.17326264],\n",
              "       [0.12057512],\n",
              "       [0.10077749],\n",
              "       [0.10073516],\n",
              "       [0.17755309],\n",
              "       [0.07869256],\n",
              "       [0.11629563],\n",
              "       [0.10009383],\n",
              "       [0.08647194],\n",
              "       [0.06686876],\n",
              "       [0.12252361],\n",
              "       [0.05641125],\n",
              "       [0.12850713],\n",
              "       [0.11543808],\n",
              "       [0.12846973],\n",
              "       [0.12951479],\n",
              "       [0.09019103],\n",
              "       [0.08581482],\n",
              "       [0.06918995],\n",
              "       [0.08511031],\n",
              "       [0.07524431],\n",
              "       [0.29145217],\n",
              "       [0.05776335],\n",
              "       [0.05886534],\n",
              "       [0.05886534],\n",
              "       [0.1228642 ],\n",
              "       [0.1109169 ],\n",
              "       [0.06238051],\n",
              "       [0.06379178],\n",
              "       [0.0781844 ],\n",
              "       [0.09674619],\n",
              "       [0.10021117],\n",
              "       [0.07568704],\n",
              "       [0.09060903],\n",
              "       [0.15979828],\n",
              "       [0.19739811],\n",
              "       [0.24280991],\n",
              "       [0.22020399],\n",
              "       [0.14662642],\n",
              "       [0.09911541],\n",
              "       [0.1082844 ],\n",
              "       [0.11406999],\n",
              "       [0.1504195 ],\n",
              "       [0.15401621],\n",
              "       [0.19695825],\n",
              "       [0.20367557],\n",
              "       [0.10213599],\n",
              "       [0.20252497],\n",
              "       [0.19580921],\n",
              "       [0.22200523],\n",
              "       [0.21330926],\n",
              "       [0.26776983],\n",
              "       [0.09655297],\n",
              "       [0.14438558],\n",
              "       [0.09215124],\n",
              "       [0.230984  ],\n",
              "       [0.12888318],\n",
              "       [0.17717318],\n",
              "       [0.18161872],\n",
              "       [0.20359639],\n",
              "       [0.21225465],\n",
              "       [0.53689411],\n",
              "       [0.20453432],\n",
              "       [0.24409758],\n",
              "       [0.12520279],\n",
              "       [0.13481574],\n",
              "       [0.10341338],\n",
              "       [0.1040019 ],\n",
              "       [0.0844773 ],\n",
              "       [0.08945112],\n",
              "       [0.14591878],\n",
              "       [0.12412498],\n",
              "       [0.08048443],\n",
              "       [0.09546453],\n",
              "       [0.13933521],\n",
              "       [0.13933521],\n",
              "       [0.09331862],\n",
              "       [0.10077155],\n",
              "       [0.08801541],\n",
              "       [0.21205147],\n",
              "       [0.20347587],\n",
              "       [0.18470275],\n",
              "       [0.13659812],\n",
              "       [0.40405443],\n",
              "       [0.1590856 ],\n",
              "       [0.18270548],\n",
              "       [0.12946528],\n",
              "       [0.16791673],\n",
              "       [0.42736803],\n",
              "       [0.17261293],\n",
              "       [0.10033334],\n",
              "       [0.04958265],\n",
              "       [0.07329039],\n",
              "       [0.06214027],\n",
              "       [0.16850028],\n",
              "       [0.09516449],\n",
              "       [0.15851134],\n",
              "       [0.19383864],\n",
              "       [0.09937098],\n",
              "       [0.09791833],\n",
              "       [0.21953926],\n",
              "       [0.12535498],\n",
              "       [0.45574473],\n",
              "       [0.26783727],\n",
              "       [0.1112042 ],\n",
              "       [0.07532097],\n",
              "       [0.10837433],\n",
              "       [0.15874126],\n",
              "       [0.11557074],\n",
              "       [0.18580649],\n",
              "       [0.14166075],\n",
              "       [0.15294342],\n",
              "       [0.23335011],\n",
              "       [0.12513245],\n",
              "       [0.17058224],\n",
              "       [0.09513916],\n",
              "       [0.10749468],\n",
              "       [0.08102566],\n",
              "       [0.15062787],\n",
              "       [0.13261735],\n",
              "       [0.26557604],\n",
              "       [0.20094151],\n",
              "       [1.        ],\n",
              "       [0.12004246],\n",
              "       [0.12032251],\n",
              "       [0.1151661 ],\n",
              "       [0.07592562],\n",
              "       [0.07592562],\n",
              "       [0.11338038],\n",
              "       [0.1231688 ],\n",
              "       [0.12874283],\n",
              "       [0.16043462],\n",
              "       [0.19867674],\n",
              "       [0.13491572],\n",
              "       [0.08915728],\n",
              "       [0.19673854],\n",
              "       [0.18324803],\n",
              "       [0.12379599],\n",
              "       [0.06361855],\n",
              "       [0.09479072],\n",
              "       [0.17993059],\n",
              "       [0.06079349],\n",
              "       [0.0870223 ],\n",
              "       [0.05718815],\n",
              "       [0.05794918],\n",
              "       [0.10197653],\n",
              "       [0.08775414],\n",
              "       [0.032884  ],\n",
              "       [0.05187226],\n",
              "       [0.0459666 ],\n",
              "       [0.07490154],\n",
              "       [0.07535355],\n",
              "       [0.09433188],\n",
              "       [0.05663409],\n",
              "       [0.08958239],\n",
              "       [0.08621589],\n",
              "       [0.29475378],\n",
              "       [0.05166564],\n",
              "       [0.05074698],\n",
              "       [0.        ],\n",
              "       [0.09243429],\n",
              "       [0.26377952],\n",
              "       [0.06842788],\n",
              "       [0.12184244],\n",
              "       [0.06483503],\n",
              "       [0.07013369],\n",
              "       [0.07534642],\n",
              "       [0.10012558],\n",
              "       [0.11959493],\n",
              "       [0.06101761],\n",
              "       [0.04999601],\n",
              "       [0.04776991],\n",
              "       [0.06777998],\n",
              "       [0.50758677],\n",
              "       [0.26704254],\n",
              "       [0.16634669],\n",
              "       [0.09262237],\n",
              "       [0.44226981],\n",
              "       [0.44226981],\n",
              "       [0.06293668],\n",
              "       [0.05290975],\n",
              "       [0.39059998],\n",
              "       [0.03938516],\n",
              "       [0.14148664],\n",
              "       [0.04331142],\n",
              "       [0.09069451],\n",
              "       [0.40102385],\n",
              "       [0.09646995],\n",
              "       [0.18523054],\n",
              "       [0.05594859],\n",
              "       [0.1693525 ],\n",
              "       [0.09322891],\n",
              "       [0.09982727],\n",
              "       [0.08753942],\n",
              "       [0.09179474],\n",
              "       [0.07989246],\n",
              "       [0.08494905],\n",
              "       [0.09975763],\n",
              "       [0.06651087],\n",
              "       [0.08974797],\n",
              "       [0.05688272],\n",
              "       [0.13331681],\n",
              "       [0.10120143],\n",
              "       [0.08058685],\n",
              "       [0.10155548],\n",
              "       [0.09209055],\n",
              "       [0.08273825],\n",
              "       [0.08615628],\n",
              "       [0.07438265],\n",
              "       [0.08102793],\n",
              "       [0.1066231 ],\n",
              "       [0.07104732],\n",
              "       [0.08433157],\n",
              "       [0.05550217],\n",
              "       [0.12104309],\n",
              "       [0.04928059],\n",
              "       [0.0699438 ],\n",
              "       [0.11055118],\n",
              "       [0.12925694],\n",
              "       [0.07364541],\n",
              "       [0.06582014],\n",
              "       [0.05523514],\n",
              "       [0.11005765],\n",
              "       [0.05346289],\n",
              "       [0.07004122],\n",
              "       [0.55978536],\n",
              "       [0.08792866],\n",
              "       [0.08371376],\n",
              "       [0.10114203],\n",
              "       [0.06614123],\n",
              "       [0.06614123],\n",
              "       [0.08328088],\n",
              "       [0.17817105],\n",
              "       [0.07973269],\n",
              "       [0.05541324],\n",
              "       [0.10588179],\n",
              "       [0.17287268],\n",
              "       [0.0778704 ],\n",
              "       [0.09510627],\n",
              "       [0.08016817],\n",
              "       [0.07185503],\n",
              "       [0.08455284],\n",
              "       [0.10739054],\n",
              "       [0.08243388],\n",
              "       [0.23084437],\n",
              "       [0.09585219],\n",
              "       [0.11622612],\n",
              "       [0.08519579],\n",
              "       [0.07702598],\n",
              "       [0.1197678 ],\n",
              "       [0.04556069],\n",
              "       [0.09849239],\n",
              "       [0.06795993],\n",
              "       [0.15990294],\n",
              "       [0.1053661 ],\n",
              "       [0.0713742 ],\n",
              "       [0.07278925],\n",
              "       [0.09062018],\n",
              "       [0.09645704],\n",
              "       [0.10353704],\n",
              "       [0.1003127 ],\n",
              "       [0.08543847],\n",
              "       [0.11183115],\n",
              "       [0.11442122],\n",
              "       [0.06925445],\n",
              "       [0.07556949],\n",
              "       [0.09120572],\n",
              "       [0.04114565],\n",
              "       [0.0995689 ],\n",
              "       [0.08205741],\n",
              "       [0.14754564],\n",
              "       [0.10930791],\n",
              "       [0.05156926],\n",
              "       [0.07626127],\n",
              "       [0.08573233],\n",
              "       [0.06125205],\n",
              "       [0.06844752],\n",
              "       [0.09817003],\n",
              "       [0.1131531 ],\n",
              "       [0.09114093],\n",
              "       [0.09353752],\n",
              "       [0.07990323],\n",
              "       [0.07990323],\n",
              "       [0.12986281],\n",
              "       [0.21853518],\n",
              "       [0.12839361],\n",
              "       [0.07102026],\n",
              "       [0.11864057],\n",
              "       [0.15493569],\n",
              "       [0.13834138],\n",
              "       [0.12030612],\n",
              "       [0.10211632],\n",
              "       [0.14474718],\n",
              "       [0.20874393],\n",
              "       [0.07894387],\n",
              "       [0.1163725 ],\n",
              "       [0.09825849],\n",
              "       [0.06977582],\n",
              "       [0.14439435],\n",
              "       [0.07609541],\n",
              "       [0.06719289],\n",
              "       [0.07294062],\n",
              "       [0.06603163],\n",
              "       [0.09917922],\n",
              "       [0.06847299],\n",
              "       [0.07505228],\n",
              "       [0.06447455],\n",
              "       [0.23763823],\n",
              "       [0.10181466],\n",
              "       [0.07608183],\n",
              "       [0.08482456],\n",
              "       [0.08975642],\n",
              "       [0.03775711],\n",
              "       [0.06662991],\n",
              "       [0.0922925 ],\n",
              "       [0.06710768],\n",
              "       [0.06951805],\n",
              "       [0.08948363],\n",
              "       [0.07139332],\n",
              "       [0.06662852],\n",
              "       [0.12479968],\n",
              "       [0.08693559],\n",
              "       [0.10375659],\n",
              "       [0.03953273],\n",
              "       [0.08310719],\n",
              "       [0.0844773 ],\n",
              "       [0.08945112],\n",
              "       [0.14591878],\n",
              "       [0.12412498],\n",
              "       [0.08048443],\n",
              "       [0.09546453],\n",
              "       [0.13933521],\n",
              "       [0.13933521],\n",
              "       [0.09331862],\n",
              "       [0.10077155],\n",
              "       [0.08801541],\n",
              "       [0.07862215],\n",
              "       [0.09498157],\n",
              "       [0.1391488 ],\n",
              "       [0.06937396],\n",
              "       [0.09648512],\n",
              "       [0.09850117],\n",
              "       [0.07369657],\n",
              "       [0.12261574],\n",
              "       [0.08180337],\n",
              "       [0.1659637 ],\n",
              "       [0.10692027],\n",
              "       [0.09795009],\n",
              "       [0.08974653],\n",
              "       [0.07567327],\n",
              "       [0.11201776],\n",
              "       [0.08103464],\n",
              "       [0.11142306],\n",
              "       [0.09834655],\n",
              "       [0.07300809],\n",
              "       [0.09483822],\n",
              "       [0.11160176],\n",
              "       [0.12136731],\n",
              "       [0.16295224],\n",
              "       [0.11737963],\n",
              "       [0.1068382 ],\n",
              "       [0.06126844],\n",
              "       [0.09595747],\n",
              "       [0.16245647],\n",
              "       [0.07488232],\n",
              "       [0.09626074],\n",
              "       [0.09574904],\n",
              "       [0.09420366],\n",
              "       [0.09884961],\n",
              "       [0.12059202],\n",
              "       [0.15238925],\n",
              "       [0.11255349],\n",
              "       [0.14320626],\n",
              "       [0.11578028],\n",
              "       [0.10331139],\n",
              "       [0.08110757],\n",
              "       [0.09647611],\n",
              "       [0.10556863],\n",
              "       [0.05221958],\n",
              "       [0.13322107],\n",
              "       [0.11752305],\n",
              "       [0.08016353],\n",
              "       [0.09650384],\n",
              "       [0.26053807],\n",
              "       [0.26053807],\n",
              "       [0.09801667],\n",
              "       [0.12868548],\n",
              "       [0.09132527],\n",
              "       [0.60756765],\n",
              "       [0.14889015],\n",
              "       [0.52473732],\n",
              "       [0.27627272],\n",
              "       [0.15747258],\n",
              "       [0.11782557],\n",
              "       [0.13467705],\n",
              "       [0.05550217],\n",
              "       [0.12104309],\n",
              "       [0.04928059],\n",
              "       [0.0699438 ],\n",
              "       [0.11055118],\n",
              "       [0.12925694],\n",
              "       [0.07364541],\n",
              "       [0.06582014],\n",
              "       [0.05523514],\n",
              "       [0.11005765],\n",
              "       [0.20837744],\n",
              "       [0.29289678],\n",
              "       [0.25527264],\n",
              "       [0.18658753],\n",
              "       [0.31200549],\n",
              "       [0.21315511],\n",
              "       [0.28241659],\n",
              "       [0.22602438],\n",
              "       [0.25066484],\n",
              "       [0.09727633],\n",
              "       [0.07520334],\n",
              "       [0.05349187],\n",
              "       [0.07712375],\n",
              "       [0.0415101 ],\n",
              "       [0.1366537 ],\n",
              "       [0.20212597],\n",
              "       [0.12544482],\n",
              "       [0.07755545],\n",
              "       [0.08915552],\n",
              "       [0.10568214],\n",
              "       [0.12970199],\n",
              "       [0.10556215],\n",
              "       [0.31513549],\n",
              "       [0.06543871],\n",
              "       [0.09297217],\n",
              "       [0.21368634],\n",
              "       [0.13780401],\n",
              "       [0.10289462],\n",
              "       [0.11515838],\n",
              "       [0.10135732],\n",
              "       [0.09716411],\n",
              "       [0.08882367],\n",
              "       [0.1302728 ],\n",
              "       [0.08140963],\n",
              "       [0.13313273],\n",
              "       [0.12904971],\n",
              "       [0.07324057],\n",
              "       [0.05840998],\n",
              "       [0.121734  ],\n",
              "       [0.10085843],\n",
              "       [0.08006298],\n",
              "       [0.17489084],\n",
              "       [0.13538841],\n",
              "       [0.14083191],\n",
              "       [0.0776051 ],\n",
              "       [0.07681646],\n",
              "       [0.09274463],\n",
              "       [0.07949035],\n",
              "       [0.07259802],\n",
              "       [0.24851411],\n",
              "       [0.25174718],\n",
              "       [0.26963149],\n",
              "       [0.18506744],\n",
              "       [0.22991502],\n",
              "       [0.21061434],\n",
              "       [0.21951985],\n",
              "       [0.14876932],\n",
              "       [0.27080662],\n",
              "       [0.21256013]])"
            ]
          },
          "metadata": {
            "tags": []
          },
          "execution_count": 22
        }
      ]
    },
    {
      "cell_type": "code",
      "metadata": {
        "id": "LPD10Msl5CYo"
      },
      "source": [
        "# Create train Test Split\n",
        "from sklearn.model_selection import train_test_split\n",
        "X_train, X_test, y_train, y_test = train_test_split(X_scaled,y_scaled,test_size=0.20, random_state = 5)"
      ],
      "execution_count": 23,
      "outputs": []
    },
    {
      "cell_type": "code",
      "metadata": {
        "colab": {
          "base_uri": "https://localhost:8080/"
        },
        "id": "Au7eezzF5Jvg",
        "outputId": "329b0db1-c0ed-4384-b2f6-f032f2b5679a"
      },
      "source": [
        "print(X_train.shape)\n",
        "print(y_train.shape)\n",
        "print(X_test.shape)\n",
        "print(y_test.shape)"
      ],
      "execution_count": 24,
      "outputs": [
        {
          "output_type": "stream",
          "text": [
            "(388, 14)\n",
            "(388, 1)\n",
            "(97, 14)\n",
            "(97, 1)\n"
          ],
          "name": "stdout"
        }
      ]
    },
    {
      "cell_type": "code",
      "metadata": {
        "id": "q1l1E_cQ5ODX"
      },
      "source": [
        "import tensorflow.keras\n",
        "from keras.models import Sequential\n",
        "from keras.layers import Dense"
      ],
      "execution_count": 25,
      "outputs": []
    },
    {
      "cell_type": "code",
      "metadata": {
        "id": "ojc7IIMY5SRd"
      },
      "source": [
        "model = Sequential()\n",
        "\n",
        "# 50 neurons, input_dim number of features\n",
        "model.add(Dense(50, input_dim = 14, activation='relu'))\n",
        "# 50 neurons connected to 14 input\n",
        "model.add(Dense(50, activation='relu'))\n",
        "# 100 Neurons\n",
        "model.add(Dense(100, activation='relu'))\n",
        "# output layer 1 and linear regrssion          \n",
        "model.add(Dense(1, activation='linear'))"
      ],
      "execution_count": 26,
      "outputs": []
    },
    {
      "cell_type": "code",
      "metadata": {
        "colab": {
          "base_uri": "https://localhost:8080/"
        },
        "id": "ioKhn0o05fF7",
        "outputId": "67f497ea-6d33-4132-a369-968bbd65f639"
      },
      "source": [
        "model.summary()"
      ],
      "execution_count": 27,
      "outputs": [
        {
          "output_type": "stream",
          "text": [
            "Model: \"sequential\"\n",
            "_________________________________________________________________\n",
            "Layer (type)                 Output Shape              Param #   \n",
            "=================================================================\n",
            "dense (Dense)                (None, 50)                750       \n",
            "_________________________________________________________________\n",
            "dense_1 (Dense)              (None, 50)                2550      \n",
            "_________________________________________________________________\n",
            "dense_2 (Dense)              (None, 100)               5100      \n",
            "_________________________________________________________________\n",
            "dense_3 (Dense)              (None, 1)                 101       \n",
            "=================================================================\n",
            "Total params: 8,501\n",
            "Trainable params: 8,501\n",
            "Non-trainable params: 0\n",
            "_________________________________________________________________\n"
          ],
          "name": "stdout"
        }
      ]
    },
    {
      "cell_type": "code",
      "metadata": {
        "id": "DFgiPAHL5iAu"
      },
      "source": [
        "# Set optimizer\n",
        "model.compile(optimizer='Adam', loss = 'mean_squared_error')"
      ],
      "execution_count": 28,
      "outputs": []
    },
    {
      "cell_type": "code",
      "metadata": {
        "colab": {
          "base_uri": "https://localhost:8080/"
        },
        "id": "2-QP1Fyo5p23",
        "outputId": "66309283-307d-4d22-bea1-916239739bb2"
      },
      "source": [
        "epoch_hist = model.fit(X_train, y_train, epochs = 100, batch_size=50, validation_split=0.2)"
      ],
      "execution_count": 29,
      "outputs": [
        {
          "output_type": "stream",
          "text": [
            "Epoch 1/100\n",
            "7/7 [==============================] - 14s 113ms/step - loss: 0.0250 - val_loss: 0.0040\n",
            "Epoch 2/100\n",
            "7/7 [==============================] - 0s 5ms/step - loss: 0.0115 - val_loss: 0.0051\n",
            "Epoch 3/100\n",
            "7/7 [==============================] - 0s 5ms/step - loss: 0.0063 - val_loss: 0.0025\n",
            "Epoch 4/100\n",
            "7/7 [==============================] - 0s 5ms/step - loss: 0.0046 - val_loss: 0.0021\n",
            "Epoch 5/100\n",
            "7/7 [==============================] - 0s 6ms/step - loss: 0.0045 - val_loss: 0.0026\n",
            "Epoch 6/100\n",
            "7/7 [==============================] - 0s 5ms/step - loss: 0.0038 - val_loss: 0.0017\n",
            "Epoch 7/100\n",
            "7/7 [==============================] - 0s 6ms/step - loss: 0.0028 - val_loss: 0.0015\n",
            "Epoch 8/100\n",
            "7/7 [==============================] - 0s 5ms/step - loss: 0.0028 - val_loss: 0.0014\n",
            "Epoch 9/100\n",
            "7/7 [==============================] - 0s 5ms/step - loss: 0.0019 - val_loss: 0.0010\n",
            "Epoch 10/100\n",
            "7/7 [==============================] - 0s 5ms/step - loss: 0.0012 - val_loss: 9.3226e-04\n",
            "Epoch 11/100\n",
            "7/7 [==============================] - 0s 5ms/step - loss: 9.2740e-04 - val_loss: 6.9124e-04\n",
            "Epoch 12/100\n",
            "7/7 [==============================] - 0s 5ms/step - loss: 5.8600e-04 - val_loss: 6.0297e-04\n",
            "Epoch 13/100\n",
            "7/7 [==============================] - 0s 6ms/step - loss: 5.8641e-04 - val_loss: 5.1533e-04\n",
            "Epoch 14/100\n",
            "7/7 [==============================] - 0s 5ms/step - loss: 4.7285e-04 - val_loss: 4.8002e-04\n",
            "Epoch 15/100\n",
            "7/7 [==============================] - 0s 7ms/step - loss: 3.7473e-04 - val_loss: 3.9068e-04\n",
            "Epoch 16/100\n",
            "7/7 [==============================] - 0s 7ms/step - loss: 3.0962e-04 - val_loss: 3.6062e-04\n",
            "Epoch 17/100\n",
            "7/7 [==============================] - 0s 6ms/step - loss: 2.8708e-04 - val_loss: 3.4181e-04\n",
            "Epoch 18/100\n",
            "7/7 [==============================] - 0s 6ms/step - loss: 2.4005e-04 - val_loss: 2.9820e-04\n",
            "Epoch 19/100\n",
            "7/7 [==============================] - 0s 6ms/step - loss: 2.3258e-04 - val_loss: 3.1357e-04\n",
            "Epoch 20/100\n",
            "7/7 [==============================] - 0s 5ms/step - loss: 2.1764e-04 - val_loss: 2.9491e-04\n",
            "Epoch 21/100\n",
            "7/7 [==============================] - 0s 5ms/step - loss: 1.8204e-04 - val_loss: 2.5895e-04\n",
            "Epoch 22/100\n",
            "7/7 [==============================] - 0s 5ms/step - loss: 1.7657e-04 - val_loss: 2.4968e-04\n",
            "Epoch 23/100\n",
            "7/7 [==============================] - 0s 5ms/step - loss: 1.2676e-04 - val_loss: 2.3645e-04\n",
            "Epoch 24/100\n",
            "7/7 [==============================] - 0s 5ms/step - loss: 1.2579e-04 - val_loss: 2.2865e-04\n",
            "Epoch 25/100\n",
            "7/7 [==============================] - 0s 6ms/step - loss: 1.1430e-04 - val_loss: 2.1596e-04\n",
            "Epoch 26/100\n",
            "7/7 [==============================] - 0s 6ms/step - loss: 9.7860e-05 - val_loss: 2.0462e-04\n",
            "Epoch 27/100\n",
            "7/7 [==============================] - 0s 6ms/step - loss: 9.8022e-05 - val_loss: 1.9199e-04\n",
            "Epoch 28/100\n",
            "7/7 [==============================] - 0s 5ms/step - loss: 8.7703e-05 - val_loss: 1.9038e-04\n",
            "Epoch 29/100\n",
            "7/7 [==============================] - 0s 6ms/step - loss: 9.1431e-05 - val_loss: 1.8719e-04\n",
            "Epoch 30/100\n",
            "7/7 [==============================] - 0s 7ms/step - loss: 8.4872e-05 - val_loss: 1.7956e-04\n",
            "Epoch 31/100\n",
            "7/7 [==============================] - 0s 6ms/step - loss: 7.8802e-05 - val_loss: 1.6918e-04\n",
            "Epoch 32/100\n",
            "7/7 [==============================] - 0s 6ms/step - loss: 7.6133e-05 - val_loss: 1.6984e-04\n",
            "Epoch 33/100\n",
            "7/7 [==============================] - 0s 5ms/step - loss: 6.2073e-05 - val_loss: 1.8455e-04\n",
            "Epoch 34/100\n",
            "7/7 [==============================] - 0s 6ms/step - loss: 7.1039e-05 - val_loss: 1.6330e-04\n",
            "Epoch 35/100\n",
            "7/7 [==============================] - 0s 5ms/step - loss: 6.2926e-05 - val_loss: 1.6041e-04\n",
            "Epoch 36/100\n",
            "7/7 [==============================] - 0s 6ms/step - loss: 6.1645e-05 - val_loss: 1.5546e-04\n",
            "Epoch 37/100\n",
            "7/7 [==============================] - 0s 6ms/step - loss: 5.1417e-05 - val_loss: 1.6066e-04\n",
            "Epoch 38/100\n",
            "7/7 [==============================] - 0s 5ms/step - loss: 6.5007e-05 - val_loss: 1.5030e-04\n",
            "Epoch 39/100\n",
            "7/7 [==============================] - 0s 7ms/step - loss: 5.5446e-05 - val_loss: 1.6459e-04\n",
            "Epoch 40/100\n",
            "7/7 [==============================] - 0s 5ms/step - loss: 5.6592e-05 - val_loss: 1.4803e-04\n",
            "Epoch 41/100\n",
            "7/7 [==============================] - 0s 6ms/step - loss: 4.7491e-05 - val_loss: 1.4666e-04\n",
            "Epoch 42/100\n",
            "7/7 [==============================] - 0s 5ms/step - loss: 4.1926e-05 - val_loss: 1.5048e-04\n",
            "Epoch 43/100\n",
            "7/7 [==============================] - 0s 6ms/step - loss: 4.8657e-05 - val_loss: 1.4852e-04\n",
            "Epoch 44/100\n",
            "7/7 [==============================] - 0s 7ms/step - loss: 4.7052e-05 - val_loss: 1.5817e-04\n",
            "Epoch 45/100\n",
            "7/7 [==============================] - 0s 5ms/step - loss: 4.6943e-05 - val_loss: 1.3466e-04\n",
            "Epoch 46/100\n",
            "7/7 [==============================] - 0s 5ms/step - loss: 3.5324e-05 - val_loss: 1.3292e-04\n",
            "Epoch 47/100\n",
            "7/7 [==============================] - 0s 6ms/step - loss: 3.7151e-05 - val_loss: 1.2776e-04\n",
            "Epoch 48/100\n",
            "7/7 [==============================] - 0s 5ms/step - loss: 3.9125e-05 - val_loss: 1.2519e-04\n",
            "Epoch 49/100\n",
            "7/7 [==============================] - 0s 6ms/step - loss: 2.9350e-05 - val_loss: 1.2879e-04\n",
            "Epoch 50/100\n",
            "7/7 [==============================] - 0s 6ms/step - loss: 2.9887e-05 - val_loss: 1.2488e-04\n",
            "Epoch 51/100\n",
            "7/7 [==============================] - 0s 7ms/step - loss: 2.6202e-05 - val_loss: 1.2978e-04\n",
            "Epoch 52/100\n",
            "7/7 [==============================] - 0s 6ms/step - loss: 2.7613e-05 - val_loss: 1.2154e-04\n",
            "Epoch 53/100\n",
            "7/7 [==============================] - 0s 5ms/step - loss: 2.9391e-05 - val_loss: 1.2484e-04\n",
            "Epoch 54/100\n",
            "7/7 [==============================] - 0s 6ms/step - loss: 2.6738e-05 - val_loss: 1.2154e-04\n",
            "Epoch 55/100\n",
            "7/7 [==============================] - 0s 6ms/step - loss: 2.8618e-05 - val_loss: 1.1853e-04\n",
            "Epoch 56/100\n",
            "7/7 [==============================] - 0s 7ms/step - loss: 2.5411e-05 - val_loss: 1.1696e-04\n",
            "Epoch 57/100\n",
            "7/7 [==============================] - 0s 6ms/step - loss: 2.2587e-05 - val_loss: 1.1743e-04\n",
            "Epoch 58/100\n",
            "7/7 [==============================] - 0s 6ms/step - loss: 2.6335e-05 - val_loss: 1.0975e-04\n",
            "Epoch 59/100\n",
            "7/7 [==============================] - 0s 6ms/step - loss: 2.3843e-05 - val_loss: 1.0822e-04\n",
            "Epoch 60/100\n",
            "7/7 [==============================] - 0s 5ms/step - loss: 2.2528e-05 - val_loss: 1.0753e-04\n",
            "Epoch 61/100\n",
            "7/7 [==============================] - 0s 5ms/step - loss: 2.1525e-05 - val_loss: 1.1718e-04\n",
            "Epoch 62/100\n",
            "7/7 [==============================] - 0s 8ms/step - loss: 2.3331e-05 - val_loss: 1.1381e-04\n",
            "Epoch 63/100\n",
            "7/7 [==============================] - 0s 6ms/step - loss: 2.5189e-05 - val_loss: 1.0899e-04\n",
            "Epoch 64/100\n",
            "7/7 [==============================] - 0s 7ms/step - loss: 2.5896e-05 - val_loss: 1.0954e-04\n",
            "Epoch 65/100\n",
            "7/7 [==============================] - 0s 6ms/step - loss: 1.6714e-05 - val_loss: 1.1306e-04\n",
            "Epoch 66/100\n",
            "7/7 [==============================] - 0s 6ms/step - loss: 1.8674e-05 - val_loss: 1.1265e-04\n",
            "Epoch 67/100\n",
            "7/7 [==============================] - 0s 5ms/step - loss: 1.8771e-05 - val_loss: 1.1374e-04\n",
            "Epoch 68/100\n",
            "7/7 [==============================] - 0s 5ms/step - loss: 1.9880e-05 - val_loss: 1.1638e-04\n",
            "Epoch 69/100\n",
            "7/7 [==============================] - 0s 5ms/step - loss: 2.5894e-05 - val_loss: 1.1452e-04\n",
            "Epoch 70/100\n",
            "7/7 [==============================] - 0s 7ms/step - loss: 1.7578e-05 - val_loss: 1.1280e-04\n",
            "Epoch 71/100\n",
            "7/7 [==============================] - 0s 5ms/step - loss: 1.7353e-05 - val_loss: 1.1986e-04\n",
            "Epoch 72/100\n",
            "7/7 [==============================] - 0s 5ms/step - loss: 2.2488e-05 - val_loss: 1.0674e-04\n",
            "Epoch 73/100\n",
            "7/7 [==============================] - 0s 6ms/step - loss: 1.6315e-05 - val_loss: 1.0761e-04\n",
            "Epoch 74/100\n",
            "7/7 [==============================] - 0s 5ms/step - loss: 1.4257e-05 - val_loss: 1.1175e-04\n",
            "Epoch 75/100\n",
            "7/7 [==============================] - 0s 6ms/step - loss: 1.7407e-05 - val_loss: 1.1803e-04\n",
            "Epoch 76/100\n",
            "7/7 [==============================] - 0s 6ms/step - loss: 1.7896e-05 - val_loss: 1.1215e-04\n",
            "Epoch 77/100\n",
            "7/7 [==============================] - 0s 6ms/step - loss: 1.8471e-05 - val_loss: 1.0088e-04\n",
            "Epoch 78/100\n",
            "7/7 [==============================] - 0s 7ms/step - loss: 1.3452e-05 - val_loss: 1.0149e-04\n",
            "Epoch 79/100\n",
            "7/7 [==============================] - 0s 5ms/step - loss: 1.3059e-05 - val_loss: 1.0209e-04\n",
            "Epoch 80/100\n",
            "7/7 [==============================] - 0s 5ms/step - loss: 1.1756e-05 - val_loss: 1.0342e-04\n",
            "Epoch 81/100\n",
            "7/7 [==============================] - 0s 5ms/step - loss: 1.3832e-05 - val_loss: 1.0264e-04\n",
            "Epoch 82/100\n",
            "7/7 [==============================] - 0s 5ms/step - loss: 1.1892e-05 - val_loss: 1.0405e-04\n",
            "Epoch 83/100\n",
            "7/7 [==============================] - 0s 6ms/step - loss: 1.5552e-05 - val_loss: 9.9392e-05\n",
            "Epoch 84/100\n",
            "7/7 [==============================] - 0s 6ms/step - loss: 1.3885e-05 - val_loss: 1.1152e-04\n",
            "Epoch 85/100\n",
            "7/7 [==============================] - 0s 6ms/step - loss: 1.9912e-05 - val_loss: 1.0057e-04\n",
            "Epoch 86/100\n",
            "7/7 [==============================] - 0s 7ms/step - loss: 1.0177e-05 - val_loss: 1.0060e-04\n",
            "Epoch 87/100\n",
            "7/7 [==============================] - 0s 6ms/step - loss: 1.1823e-05 - val_loss: 1.1453e-04\n",
            "Epoch 88/100\n",
            "7/7 [==============================] - 0s 6ms/step - loss: 1.8160e-05 - val_loss: 1.0311e-04\n",
            "Epoch 89/100\n",
            "7/7 [==============================] - 0s 6ms/step - loss: 1.1900e-05 - val_loss: 9.5302e-05\n",
            "Epoch 90/100\n",
            "7/7 [==============================] - 0s 6ms/step - loss: 1.1559e-05 - val_loss: 9.7473e-05\n",
            "Epoch 91/100\n",
            "7/7 [==============================] - 0s 6ms/step - loss: 1.0185e-05 - val_loss: 9.8475e-05\n",
            "Epoch 92/100\n",
            "7/7 [==============================] - 0s 5ms/step - loss: 1.3245e-05 - val_loss: 9.6480e-05\n",
            "Epoch 93/100\n",
            "7/7 [==============================] - 0s 6ms/step - loss: 9.1782e-06 - val_loss: 1.0141e-04\n",
            "Epoch 94/100\n",
            "7/7 [==============================] - 0s 6ms/step - loss: 1.1170e-05 - val_loss: 9.7499e-05\n",
            "Epoch 95/100\n",
            "7/7 [==============================] - 0s 6ms/step - loss: 9.2374e-06 - val_loss: 9.4052e-05\n",
            "Epoch 96/100\n",
            "7/7 [==============================] - 0s 6ms/step - loss: 1.1532e-05 - val_loss: 1.0928e-04\n",
            "Epoch 97/100\n",
            "7/7 [==============================] - 0s 6ms/step - loss: 1.5830e-05 - val_loss: 9.3308e-05\n",
            "Epoch 98/100\n",
            "7/7 [==============================] - 0s 6ms/step - loss: 9.9646e-06 - val_loss: 9.7123e-05\n",
            "Epoch 99/100\n",
            "7/7 [==============================] - 0s 6ms/step - loss: 9.4434e-06 - val_loss: 9.3926e-05\n",
            "Epoch 100/100\n",
            "7/7 [==============================] - 0s 6ms/step - loss: 9.1574e-06 - val_loss: 9.2665e-05\n"
          ],
          "name": "stdout"
        }
      ]
    },
    {
      "cell_type": "code",
      "metadata": {
        "colab": {
          "base_uri": "https://localhost:8080/"
        },
        "id": "AN9qvz6B5sp-",
        "outputId": "96dba0ea-1594-4cb8-f688-a2351ee97cb4"
      },
      "source": [
        "epoch_hist.history.keys()"
      ],
      "execution_count": 30,
      "outputs": [
        {
          "output_type": "execute_result",
          "data": {
            "text/plain": [
              "dict_keys(['loss', 'val_loss'])"
            ]
          },
          "metadata": {
            "tags": []
          },
          "execution_count": 30
        }
      ]
    },
    {
      "cell_type": "code",
      "metadata": {
        "colab": {
          "base_uri": "https://localhost:8080/",
          "height": 312
        },
        "id": "Kf7xyn7T53LX",
        "outputId": "49b5a517-5d75-47a0-8027-50a24c1ef44f"
      },
      "source": [
        "plt.plot(epoch_hist.history['loss'])\n",
        "plt.plot(epoch_hist.history['val_loss'])\n",
        "plt.xlabel('Epoch')\n",
        "plt.ylabel('Training & Validation Loss')\n",
        "plt.title('Model Loss Progress')\n",
        "plt.legend(['Training Loss', ' Validation Loss'])"
      ],
      "execution_count": 31,
      "outputs": [
        {
          "output_type": "execute_result",
          "data": {
            "text/plain": [
              "<matplotlib.legend.Legend at 0x7f564b351e50>"
            ]
          },
          "metadata": {
            "tags": []
          },
          "execution_count": 31
        },
        {
          "output_type": "display_data",
          "data": {
            "image/png": "[encoded data removed]",
            "text/plain": [
              "<Figure size 432x288 with 1 Axes>"
            ]
          },
          "metadata": {
            "tags": [],
            "needs_background": "light"
          }
        }
      ]
    },
    {
      "cell_type": "code",
      "metadata": {
        "id": "ssQYFh8s56aQ"
      },
      "source": [
        "# ['pH',\t'DO',\t'TDS',\t'Alkalinity',\t'EC',\t'Na',\t'Ca',\t'Mg',\t'K',\t'F',\t'Cl',\t'Nitrate',\t'Sulphate',\t'Phosphate' ]\n",
        "X_test_1 = np.array([[8.14,\t8.7,\t84.0,\t52,\t147.8,\t4.48,\t44,\t20,\t1.17,\t0.285,\t7.80,\t0.758000,\t6.534660,\t0.06211]])\n",
        "scaler_1 = MinMaxScaler()\n",
        "X_test_scaled_1 = scaler_1.fit_transform(X_test_1)\n",
        "y_pred_1 = model.predict(X_test_scaled_1)"
      ],
      "execution_count": 32,
      "outputs": []
    },
    {
      "cell_type": "code",
      "metadata": {
        "colab": {
          "base_uri": "https://localhost:8080/"
        },
        "id": "TPf--lUj6Z8V",
        "outputId": "1d14a342-8a88-43fc-a1c7-5e49bd83219a"
      },
      "source": [
        "y_pred_1"
      ],
      "execution_count": 33,
      "outputs": [
        {
          "output_type": "execute_result",
          "data": {
            "text/plain": [
              "array([[-0.01646956]], dtype=float32)"
            ]
          },
          "metadata": {
            "tags": []
          },
          "execution_count": 33
        }
      ]
    },
    {
      "cell_type": "code",
      "metadata": {
        "colab": {
          "base_uri": "https://localhost:8080/"
        },
        "id": "h_tNq_Sn6c2b",
        "outputId": "a2496926-c17e-45ad-f833-45b487dac17e"
      },
      "source": [
        "scaler.inverse_transform(y_pred_1)"
      ],
      "execution_count": 34,
      "outputs": [
        {
          "output_type": "execute_result",
          "data": {
            "text/plain": [
              "array([[0.07881296]], dtype=float32)"
            ]
          },
          "metadata": {
            "tags": []
          },
          "execution_count": 34
        }
      ]
    },
    {
      "cell_type": "code",
      "metadata": {
        "id": "OVKKHcYd6iP4"
      },
      "source": [
        "y_pred = model.predict(X_test)"
      ],
      "execution_count": 35,
      "outputs": []
    },
    {
      "cell_type": "code",
      "metadata": {
        "colab": {
          "base_uri": "https://localhost:8080/",
          "height": 296
        },
        "id": "LfotuYxa6oKs",
        "outputId": "8c2751b4-3483-4f79-ea7a-6db46eabaa48"
      },
      "source": [
        "plt.plot(y_test, y_pred, \"^\", color='r')\n",
        "plt.xlabel('Model Prediction')\n",
        "plt.ylabel('True Values')"
      ],
      "execution_count": 36,
      "outputs": [
        {
          "output_type": "execute_result",
          "data": {
            "text/plain": [
              "Text(0, 0.5, 'True Values')"
            ]
          },
          "metadata": {
            "tags": []
          },
          "execution_count": 36
        },
        {
          "output_type": "display_data",
          "data": {
            "image/png": "[encoded data removed]",
            "text/plain": [
              "<Figure size 432x288 with 1 Axes>"
            ]
          },
          "metadata": {
            "tags": [],
            "needs_background": "light"
          }
        }
      ]
    },
    {
      "cell_type": "code",
      "metadata": {
        "id": "fS7lqgbb6r5L"
      },
      "source": [
        "# Get no scaled data\n",
        "y_pred_orginal = scaler.inverse_transform(y_pred)\n",
        "y_test_orginal = scaler.inverse_transform(y_test)"
      ],
      "execution_count": 37,
      "outputs": []
    },
    {
      "cell_type": "code",
      "metadata": {
        "colab": {
          "base_uri": "https://localhost:8080/",
          "height": 300
        },
        "id": "js0N7sJg6yWB",
        "outputId": "3788a5ab-cfeb-435b-b5ab-a599d2d87056"
      },
      "source": [
        "plt.plot(y_test_orginal, y_pred_orginal, \"^\", color='r')\n",
        "plt.xlabel('Model Prediction')\n",
        "plt.ylabel('True Values')\n",
        "plt.xlim(0,1)\n",
        "plt.ylim(0,1)"
      ],
      "execution_count": 38,
      "outputs": [
        {
          "output_type": "execute_result",
          "data": {
            "text/plain": [
              "(0.0, 1.0)"
            ]
          },
          "metadata": {
            "tags": []
          },
          "execution_count": 38
        },
        {
          "output_type": "display_data",
          "data": {
            "image/png": "[encoded data removed]",
            "text/plain": [
              "<Figure size 432x288 with 1 Axes>"
            ]
          },
          "metadata": {
            "tags": [],
            "needs_background": "light"
          }
        }
      ]
    },
    {
      "cell_type": "code",
      "metadata": {
        "id": "6XUOlyu_61YL"
      },
      "source": [
        "# Get number of independent params\n",
        "k = X_test.shape[1]\n",
        "# Get length of test data\n",
        "n = len(X_test)"
      ],
      "execution_count": 39,
      "outputs": []
    },
    {
      "cell_type": "code",
      "metadata": {
        "id": "iBOSo4m-7QFY"
      },
      "source": [
        "from sklearn.metrics import r2_score, mean_absolute_error, mean_squared_error\n",
        "from math import sqrt\n",
        "\n",
        "RMSE = float(format(np.sqrt(mean_squared_error(y_test_orginal, y_pred_orginal)), '.3f'))\n",
        "MSE = float(format(mean_squared_error(y_test_orginal, y_pred_orginal), '.3f'))\n",
        "MAE = float(format(mean_absolute_error(y_test_orginal, y_pred_orginal), '.3f'))\n",
        "r2 = float(format(r2_score(y_test_orginal, y_pred_orginal), '.3f'))\n",
        "adj_r2 = float(format(1-(1-r2)*(n-1)/(n-k-1), '.3f'))\n",
        "# MAPE = float(format(np.mean(np.abs((y_test_orginal-y_pred_orginal)/y_test_orginal))*100, '.3f'))"
      ],
      "execution_count": 40,
      "outputs": []
    },
    {
      "cell_type": "code",
      "metadata": {
        "colab": {
          "base_uri": "https://localhost:8080/"
        },
        "id": "S1V5MiZM7UDE",
        "outputId": "170f3fc3-1961-4cfc-ba80-dac65df6557b"
      },
      "source": [
        "print('RMSE: ', RMSE)\n",
        "print('MSE: ', MSE)\n",
        "print('MAE: ', MAE)\n",
        "print('r2: ', r2)\n",
        "print('adj_r2: ', adj_r2)\n",
        "# print('MAPE: ', MAPE)"
      ],
      "execution_count": 41,
      "outputs": [
        {
          "output_type": "stream",
          "text": [
            "RMSE:  0.01\n",
            "MSE:  0.0\n",
            "MAE:  0.007\n",
            "r2:  0.985\n",
            "adj_r2:  0.982\n"
          ],
          "name": "stdout"
        }
      ]
    },
    {
      "cell_type": "markdown",
      "metadata": {
        "id": "HMT2aHwE7dKa"
      },
      "source": [
        "Multiple regression model"
      ]
    },
    {
      "cell_type": "code",
      "metadata": {
        "id": "NX0CduSx7XKW"
      },
      "source": [
        "# Create train Test Split\n",
        "from sklearn.model_selection import train_test_split\n",
        "X_train, X_test, y_train, y_test = train_test_split(X,y,test_size=0.20, random_state = 5)"
      ],
      "execution_count": 42,
      "outputs": []
    },
    {
      "cell_type": "code",
      "metadata": {
        "id": "1aeLq-Ie7gJM"
      },
      "source": [
        "from sklearn.linear_model import LinearRegression\n",
        "reg = LinearRegression(fit_intercept=True)"
      ],
      "execution_count": 43,
      "outputs": []
    },
    {
      "cell_type": "code",
      "metadata": {
        "colab": {
          "base_uri": "https://localhost:8080/"
        },
        "id": "Zvun--9x7jhx",
        "outputId": "fbdb0379-0685-4b4e-fb0f-2c347eb8e0ac"
      },
      "source": [
        "reg.fit(X_train, y_train)"
      ],
      "execution_count": 44,
      "outputs": [
        {
          "output_type": "execute_result",
          "data": {
            "text/plain": [
              "LinearRegression(copy_X=True, fit_intercept=True, n_jobs=None, normalize=False)"
            ]
          },
          "metadata": {
            "tags": []
          },
          "execution_count": 44
        }
      ]
    },
    {
      "cell_type": "code",
      "metadata": {
        "id": "CLcpVq0L7maf"
      },
      "source": [
        "y_pred_reg = reg.predict(X_test)"
      ],
      "execution_count": 45,
      "outputs": []
    },
    {
      "cell_type": "code",
      "metadata": {
        "colab": {
          "base_uri": "https://localhost:8080/"
        },
        "id": "Z3600cM67pUi",
        "outputId": "5e3bfbba-beb5-414b-c958-5b87d608363a"
      },
      "source": [
        "y_pred_reg.shape"
      ],
      "execution_count": 46,
      "outputs": [
        {
          "output_type": "execute_result",
          "data": {
            "text/plain": [
              "(97, 1)"
            ]
          },
          "metadata": {
            "tags": []
          },
          "execution_count": 46
        }
      ]
    },
    {
      "cell_type": "code",
      "metadata": {
        "colab": {
          "base_uri": "https://localhost:8080/"
        },
        "id": "lEmezVR57sOD",
        "outputId": "4a3df47d-fb71-4bf9-c845-e159f69059a0"
      },
      "source": [
        "print('Linear Model Coefficient (m)', reg.coef_)\n",
        "print('Linear Model Coefficient (b)', reg.intercept_)"
      ],
      "execution_count": 47,
      "outputs": [
        {
          "output_type": "stream",
          "text": [
            "Linear Model Coefficient (m) [[ 4.76190476e-02 -7.44047620e-03  1.42857139e-04  3.57142858e-04\n",
            "   8.92857155e-05  3.57142842e-04  9.52380953e-04  1.76871958e-12\n",
            "   7.14285699e-04  4.76190476e-02  2.85714301e-04  1.58730161e-03\n",
            "   2.85714287e-04  7.14285714e-01]]\n",
            "Linear Model Coefficient (b) [-0.22470238]\n"
          ],
          "name": "stdout"
        }
      ]
    },
    {
      "cell_type": "code",
      "metadata": {
        "colab": {
          "base_uri": "https://localhost:8080/",
          "height": 312
        },
        "id": "I7j5Oq_H7viM",
        "outputId": "d5ff835e-e3fe-47e9-d481-49c4e3acc1bd"
      },
      "source": [
        "plt.scatter(y_test, y_pred, color = 'r')\n",
        "plt.ylabel('Model Prediction')\n",
        "plt.xlabel('True values')\n",
        "plt.title(' Multiple Linear Regression Predictions')"
      ],
      "execution_count": 48,
      "outputs": [
        {
          "output_type": "execute_result",
          "data": {
            "text/plain": [
              "Text(0.5, 1.0, ' Multiple Linear Regression Predictions')"
            ]
          },
          "metadata": {
            "tags": []
          },
          "execution_count": 48
        },
        {
          "output_type": "display_data",
          "data": {
            "image/png": "[encoded data removed]",
            "text/plain": [
              "<Figure size 432x288 with 1 Axes>"
            ]
          },
          "metadata": {
            "tags": [],
            "needs_background": "light"
          }
        }
      ]
    },
    {
      "cell_type": "code",
      "metadata": {
        "id": "5G0ytAo070CK"
      },
      "source": [
        "# Get number of independent params\n",
        "k = X_test.shape[1]\n",
        "# Get length of test data\n",
        "n = len(X_test)"
      ],
      "execution_count": 49,
      "outputs": []
    },
    {
      "cell_type": "code",
      "metadata": {
        "id": "Gh5j90u475tb"
      },
      "source": [
        "from sklearn.metrics import r2_score, mean_absolute_error, mean_squared_error\n",
        "from math import sqrt\n",
        "\n",
        "RMSE = float(format(np.sqrt(mean_squared_error(y_test, y_pred_reg)), '.3f'))\n",
        "MSE = float(format(mean_squared_error(y_test, y_pred_reg), '.3f'))\n",
        "MAE = float(format(mean_absolute_error(y_test, y_pred_reg), '.3f'))\n",
        "r2 = float(format(r2_score(y_test, y_pred_reg), '.3f'))\n",
        "adj_r2 = float(format(1-(1-r2)*(n-1)/(n-k-1), '.3f'))\n",
        "MAPE = float(format(np.mean(np.abs((y_test-y_pred_reg)/y_test))*100, '.3f'))"
      ],
      "execution_count": 50,
      "outputs": []
    },
    {
      "cell_type": "code",
      "metadata": {
        "colab": {
          "base_uri": "https://localhost:8080/"
        },
        "id": "sW4BbU5x78e-",
        "outputId": "710a08c5-5f1e-42a2-e8a5-ad471164928f"
      },
      "source": [
        "print('RMSE: ', RMSE)\n",
        "print('MSE: ', MSE)\n",
        "print('MAE: ', MAE)\n",
        "print('r2: ', r2)\n",
        "print('adj_r2: ', adj_r2)\n",
        "print('MAPE: ', MAPE)"
      ],
      "execution_count": 51,
      "outputs": [
        {
          "output_type": "stream",
          "text": [
            "RMSE:  0.0\n",
            "MSE:  0.0\n",
            "MAE:  0.0\n",
            "r2:  1.0\n",
            "adj_r2:  1.0\n",
            "MAPE:  0.0\n"
          ],
          "name": "stdout"
        }
      ]
    },
    {
      "cell_type": "code",
      "metadata": {
        "colab": {
          "base_uri": "https://localhost:8080/"
        },
        "id": "CWJCVv7j7_c_",
        "outputId": "a6b1c9de-7779-47f9-c474-459c627065f6"
      },
      "source": [
        "# Print accuracy\n",
        "reg.score(X_test, y_test)"
      ],
      "execution_count": 52,
      "outputs": [
        {
          "output_type": "execute_result",
          "data": {
            "text/plain": [
              "1.0"
            ]
          },
          "metadata": {
            "tags": []
          },
          "execution_count": 52
        }
      ]
    }
  ]
}
