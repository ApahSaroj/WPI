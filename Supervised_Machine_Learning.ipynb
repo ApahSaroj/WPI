{
  "nbformat": 4,
  "nbformat_minor": 0,
  "metadata": {
    "colab": {
      "name": " Supervised Machine Learning.ipynb",
      "provenance": [],
      "collapsed_sections": [],
      "authorship_tag": "ABX9TyMLrAomMkYpewE+J+BRvBST",
      "include_colab_link": true
    },
    "kernelspec": {
      "name": "python3",
      "display_name": "Python 3"
    },
    "language_info": {
      "name": "python"
    }
  },
  "cells": [
    {
      "cell_type": "markdown",
      "metadata": {
        "id": "view-in-github",
        "colab_type": "text"
      },
      "source": [
        "<a href=\"https://colab.research.google.com/github/ApahSaroj/WPI/blob/main/Supervised_Machine_Learning.ipynb\" target=\"_parent\"><img src=\"https://colab.research.google.com/assets/colab-badge.svg\" alt=\"Open In Colab\"/></a>"
      ]
    },
    {
      "cell_type": "code",
      "metadata": {
        "id": "ii-zzjg1UIhA"
      },
      "source": [
        "from google.colab import drive"
      ],
      "execution_count": 1,
      "outputs": []
    },
    {
      "cell_type": "code",
      "metadata": {
        "colab": {
          "base_uri": "https://localhost:8080/"
        },
        "id": "0L0Q8DWcUVWH",
        "outputId": "cfd14a0b-e68e-4ac8-a9fd-21dc7d629c8e"
      },
      "source": [
        "drive.mount('/content/drive')"
      ],
      "execution_count": 2,
      "outputs": [
        {
          "output_type": "stream",
          "text": [
            "Drive already mounted at /content/drive; to attempt to forcibly remount, call drive.mount(\"/content/drive\", force_remount=True).\n"
          ],
          "name": "stdout"
        }
      ]
    },
    {
      "cell_type": "code",
      "metadata": {
        "colab": {
          "base_uri": "https://localhost:8080/",
          "height": 419
        },
        "id": "lVYpPmP1UX5G",
        "outputId": "4400cd7a-bde0-43b3-880c-6455bb755aa3"
      },
      "source": [
        "import pandas as pd\n",
        "df = pd.read_excel('/content/drive/MyDrive/DATA/WQC_test.xlsx')\n",
        "df"
      ],
      "execution_count": 3,
      "outputs": [
        {
          "output_type": "execute_result",
          "data": {
            "text/html": [
              "<div>\n",
              "<style scoped>\n",
              "    .dataframe tbody tr th:only-of-type {\n",
              "        vertical-align: middle;\n",
              "    }\n",
              "\n",
              "    .dataframe tbody tr th {\n",
              "        vertical-align: top;\n",
              "    }\n",
              "\n",
              "    .dataframe thead th {\n",
              "        text-align: right;\n",
              "    }\n",
              "</style>\n",
              "<table border=\"1\" class=\"dataframe\">\n",
              "  <thead>\n",
              "    <tr style=\"text-align: right;\">\n",
              "      <th></th>\n",
              "      <th>Unnamed: 0</th>\n",
              "      <th>pH</th>\n",
              "      <th>DO</th>\n",
              "      <th>TDS</th>\n",
              "      <th>Alkalinity</th>\n",
              "      <th>EC</th>\n",
              "      <th>Na</th>\n",
              "      <th>Ca</th>\n",
              "      <th>Mg</th>\n",
              "      <th>K</th>\n",
              "      <th>F</th>\n",
              "      <th>Cl</th>\n",
              "      <th>Nitrate</th>\n",
              "      <th>Sulphate</th>\n",
              "      <th>Phosphate</th>\n",
              "      <th>WPI</th>\n",
              "      <th>WQC</th>\n",
              "    </tr>\n",
              "  </thead>\n",
              "  <tbody>\n",
              "    <tr>\n",
              "      <th>0</th>\n",
              "      <td>0</td>\n",
              "      <td>8.14</td>\n",
              "      <td>8.7</td>\n",
              "      <td>84.0</td>\n",
              "      <td>52.0</td>\n",
              "      <td>147.8</td>\n",
              "      <td>4.48</td>\n",
              "      <td>44.0</td>\n",
              "      <td>20.0</td>\n",
              "      <td>1.17</td>\n",
              "      <td>0.285</td>\n",
              "      <td>7.80</td>\n",
              "      <td>0.758000</td>\n",
              "      <td>6.534660</td>\n",
              "      <td>0.06211</td>\n",
              "      <td>0.249528</td>\n",
              "      <td>Excellent</td>\n",
              "    </tr>\n",
              "    <tr>\n",
              "      <th>1</th>\n",
              "      <td>1</td>\n",
              "      <td>7.70</td>\n",
              "      <td>8.8</td>\n",
              "      <td>110.0</td>\n",
              "      <td>76.0</td>\n",
              "      <td>188.0</td>\n",
              "      <td>8.61</td>\n",
              "      <td>44.0</td>\n",
              "      <td>36.0</td>\n",
              "      <td>3.46</td>\n",
              "      <td>0.401</td>\n",
              "      <td>14.80</td>\n",
              "      <td>0.196062</td>\n",
              "      <td>8.138620</td>\n",
              "      <td>0.00960</td>\n",
              "      <td>0.216400</td>\n",
              "      <td>Excellent</td>\n",
              "    </tr>\n",
              "    <tr>\n",
              "      <th>2</th>\n",
              "      <td>2</td>\n",
              "      <td>7.60</td>\n",
              "      <td>7.5</td>\n",
              "      <td>75.0</td>\n",
              "      <td>44.0</td>\n",
              "      <td>128.0</td>\n",
              "      <td>8.11</td>\n",
              "      <td>28.0</td>\n",
              "      <td>20.0</td>\n",
              "      <td>2.80</td>\n",
              "      <td>0.379</td>\n",
              "      <td>14.80</td>\n",
              "      <td>0.298875</td>\n",
              "      <td>3.855625</td>\n",
              "      <td>0.01280</td>\n",
              "      <td>0.183814</td>\n",
              "      <td>Excellent</td>\n",
              "    </tr>\n",
              "    <tr>\n",
              "      <th>3</th>\n",
              "      <td>3</td>\n",
              "      <td>8.20</td>\n",
              "      <td>9.1</td>\n",
              "      <td>76.0</td>\n",
              "      <td>56.0</td>\n",
              "      <td>127.0</td>\n",
              "      <td>6.30</td>\n",
              "      <td>44.0</td>\n",
              "      <td>18.0</td>\n",
              "      <td>1.65</td>\n",
              "      <td>0.396</td>\n",
              "      <td>9.60</td>\n",
              "      <td>0.299590</td>\n",
              "      <td>2.238750</td>\n",
              "      <td>0.01536</td>\n",
              "      <td>0.219282</td>\n",
              "      <td>Excellent</td>\n",
              "    </tr>\n",
              "    <tr>\n",
              "      <th>4</th>\n",
              "      <td>4</td>\n",
              "      <td>7.31</td>\n",
              "      <td>7.3</td>\n",
              "      <td>84.0</td>\n",
              "      <td>52.0</td>\n",
              "      <td>140.0</td>\n",
              "      <td>5.50</td>\n",
              "      <td>28.0</td>\n",
              "      <td>20.0</td>\n",
              "      <td>1.61</td>\n",
              "      <td>0.265</td>\n",
              "      <td>8.30</td>\n",
              "      <td>0.106000</td>\n",
              "      <td>5.600000</td>\n",
              "      <td>0.01000</td>\n",
              "      <td>0.165831</td>\n",
              "      <td>Excellent</td>\n",
              "    </tr>\n",
              "    <tr>\n",
              "      <th>...</th>\n",
              "      <td>...</td>\n",
              "      <td>...</td>\n",
              "      <td>...</td>\n",
              "      <td>...</td>\n",
              "      <td>...</td>\n",
              "      <td>...</td>\n",
              "      <td>...</td>\n",
              "      <td>...</td>\n",
              "      <td>...</td>\n",
              "      <td>...</td>\n",
              "      <td>...</td>\n",
              "      <td>...</td>\n",
              "      <td>...</td>\n",
              "      <td>...</td>\n",
              "      <td>...</td>\n",
              "      <td>...</td>\n",
              "      <td>...</td>\n",
              "    </tr>\n",
              "    <tr>\n",
              "      <th>482</th>\n",
              "      <td>482</td>\n",
              "      <td>7.60</td>\n",
              "      <td>5.6</td>\n",
              "      <td>224.0</td>\n",
              "      <td>8.0</td>\n",
              "      <td>370.0</td>\n",
              "      <td>16.14</td>\n",
              "      <td>92.0</td>\n",
              "      <td>24.0</td>\n",
              "      <td>7.60</td>\n",
              "      <td>2.270</td>\n",
              "      <td>23.04</td>\n",
              "      <td>1.352000</td>\n",
              "      <td>104.480000</td>\n",
              "      <td>0.01500</td>\n",
              "      <td>0.419630</td>\n",
              "      <td>Excellent</td>\n",
              "    </tr>\n",
              "    <tr>\n",
              "      <th>483</th>\n",
              "      <td>483</td>\n",
              "      <td>7.30</td>\n",
              "      <td>5.6</td>\n",
              "      <td>266.0</td>\n",
              "      <td>96.0</td>\n",
              "      <td>434.0</td>\n",
              "      <td>20.56</td>\n",
              "      <td>96.0</td>\n",
              "      <td>32.0</td>\n",
              "      <td>9.89</td>\n",
              "      <td>1.550</td>\n",
              "      <td>30.86</td>\n",
              "      <td>7.074000</td>\n",
              "      <td>61.068000</td>\n",
              "      <td>0.03300</td>\n",
              "      <td>0.432996</td>\n",
              "      <td>Excellent</td>\n",
              "    </tr>\n",
              "    <tr>\n",
              "      <th>484</th>\n",
              "      <td>484</td>\n",
              "      <td>5.10</td>\n",
              "      <td>5.8</td>\n",
              "      <td>290.0</td>\n",
              "      <td>12.0</td>\n",
              "      <td>487.0</td>\n",
              "      <td>37.35</td>\n",
              "      <td>60.0</td>\n",
              "      <td>44.0</td>\n",
              "      <td>14.80</td>\n",
              "      <td>0.159</td>\n",
              "      <td>60.13</td>\n",
              "      <td>9.256000</td>\n",
              "      <td>89.910000</td>\n",
              "      <td>0.16300</td>\n",
              "      <td>0.326811</td>\n",
              "      <td>Excellent</td>\n",
              "    </tr>\n",
              "    <tr>\n",
              "      <th>485</th>\n",
              "      <td>485</td>\n",
              "      <td>7.40</td>\n",
              "      <td>6.4</td>\n",
              "      <td>230.0</td>\n",
              "      <td>72.0</td>\n",
              "      <td>385.0</td>\n",
              "      <td>20.06</td>\n",
              "      <td>70.0</td>\n",
              "      <td>42.0</td>\n",
              "      <td>10.35</td>\n",
              "      <td>1.360</td>\n",
              "      <td>32.92</td>\n",
              "      <td>7.110435</td>\n",
              "      <td>48.500000</td>\n",
              "      <td>0.21900</td>\n",
              "      <td>0.509970</td>\n",
              "      <td>Good</td>\n",
              "    </tr>\n",
              "    <tr>\n",
              "      <th>486</th>\n",
              "      <td>486</td>\n",
              "      <td>7.60</td>\n",
              "      <td>6.9</td>\n",
              "      <td>243.0</td>\n",
              "      <td>68.0</td>\n",
              "      <td>410.8</td>\n",
              "      <td>17.41</td>\n",
              "      <td>82.0</td>\n",
              "      <td>50.0</td>\n",
              "      <td>9.92</td>\n",
              "      <td>1.310</td>\n",
              "      <td>34.89</td>\n",
              "      <td>6.385000</td>\n",
              "      <td>59.940000</td>\n",
              "      <td>0.07000</td>\n",
              "      <td>0.422551</td>\n",
              "      <td>Excellent</td>\n",
              "    </tr>\n",
              "  </tbody>\n",
              "</table>\n",
              "<p>487 rows × 17 columns</p>\n",
              "</div>"
            ],
            "text/plain": [
              "     Unnamed: 0    pH   DO    TDS  ...    Sulphate  Phosphate       WPI        WQC\n",
              "0             0  8.14  8.7   84.0  ...    6.534660    0.06211  0.249528  Excellent\n",
              "1             1  7.70  8.8  110.0  ...    8.138620    0.00960  0.216400  Excellent\n",
              "2             2  7.60  7.5   75.0  ...    3.855625    0.01280  0.183814  Excellent\n",
              "3             3  8.20  9.1   76.0  ...    2.238750    0.01536  0.219282  Excellent\n",
              "4             4  7.31  7.3   84.0  ...    5.600000    0.01000  0.165831  Excellent\n",
              "..          ...   ...  ...    ...  ...         ...        ...       ...        ...\n",
              "482         482  7.60  5.6  224.0  ...  104.480000    0.01500  0.419630  Excellent\n",
              "483         483  7.30  5.6  266.0  ...   61.068000    0.03300  0.432996  Excellent\n",
              "484         484  5.10  5.8  290.0  ...   89.910000    0.16300  0.326811  Excellent\n",
              "485         485  7.40  6.4  230.0  ...   48.500000    0.21900  0.509970       Good\n",
              "486         486  7.60  6.9  243.0  ...   59.940000    0.07000  0.422551  Excellent\n",
              "\n",
              "[487 rows x 17 columns]"
            ]
          },
          "metadata": {
            "tags": []
          },
          "execution_count": 3
        }
      ]
    },
    {
      "cell_type": "code",
      "metadata": {
        "colab": {
          "base_uri": "https://localhost:8080/",
          "height": 419
        },
        "id": "CZKdarUNUk7J",
        "outputId": "c4c2030a-b512-4b02-d6e6-d2df8fb0a36b"
      },
      "source": [
        "df.drop(df.columns[df.columns.str.contains('unnamed',case = False)],axis = 1, inplace = True)\n",
        "df.drop('WQC', inplace=True, axis=1)\n",
        "df"
      ],
      "execution_count": 4,
      "outputs": [
        {
          "output_type": "execute_result",
          "data": {
            "text/html": [
              "<div>\n",
              "<style scoped>\n",
              "    .dataframe tbody tr th:only-of-type {\n",
              "        vertical-align: middle;\n",
              "    }\n",
              "\n",
              "    .dataframe tbody tr th {\n",
              "        vertical-align: top;\n",
              "    }\n",
              "\n",
              "    .dataframe thead th {\n",
              "        text-align: right;\n",
              "    }\n",
              "</style>\n",
              "<table border=\"1\" class=\"dataframe\">\n",
              "  <thead>\n",
              "    <tr style=\"text-align: right;\">\n",
              "      <th></th>\n",
              "      <th>pH</th>\n",
              "      <th>DO</th>\n",
              "      <th>TDS</th>\n",
              "      <th>Alkalinity</th>\n",
              "      <th>EC</th>\n",
              "      <th>Na</th>\n",
              "      <th>Ca</th>\n",
              "      <th>Mg</th>\n",
              "      <th>K</th>\n",
              "      <th>F</th>\n",
              "      <th>Cl</th>\n",
              "      <th>Nitrate</th>\n",
              "      <th>Sulphate</th>\n",
              "      <th>Phosphate</th>\n",
              "      <th>WPI</th>\n",
              "    </tr>\n",
              "  </thead>\n",
              "  <tbody>\n",
              "    <tr>\n",
              "      <th>0</th>\n",
              "      <td>8.14</td>\n",
              "      <td>8.7</td>\n",
              "      <td>84.0</td>\n",
              "      <td>52.0</td>\n",
              "      <td>147.8</td>\n",
              "      <td>4.48</td>\n",
              "      <td>44.0</td>\n",
              "      <td>20.0</td>\n",
              "      <td>1.17</td>\n",
              "      <td>0.285</td>\n",
              "      <td>7.80</td>\n",
              "      <td>0.758000</td>\n",
              "      <td>6.534660</td>\n",
              "      <td>0.06211</td>\n",
              "      <td>0.249528</td>\n",
              "    </tr>\n",
              "    <tr>\n",
              "      <th>1</th>\n",
              "      <td>7.70</td>\n",
              "      <td>8.8</td>\n",
              "      <td>110.0</td>\n",
              "      <td>76.0</td>\n",
              "      <td>188.0</td>\n",
              "      <td>8.61</td>\n",
              "      <td>44.0</td>\n",
              "      <td>36.0</td>\n",
              "      <td>3.46</td>\n",
              "      <td>0.401</td>\n",
              "      <td>14.80</td>\n",
              "      <td>0.196062</td>\n",
              "      <td>8.138620</td>\n",
              "      <td>0.00960</td>\n",
              "      <td>0.216400</td>\n",
              "    </tr>\n",
              "    <tr>\n",
              "      <th>2</th>\n",
              "      <td>7.60</td>\n",
              "      <td>7.5</td>\n",
              "      <td>75.0</td>\n",
              "      <td>44.0</td>\n",
              "      <td>128.0</td>\n",
              "      <td>8.11</td>\n",
              "      <td>28.0</td>\n",
              "      <td>20.0</td>\n",
              "      <td>2.80</td>\n",
              "      <td>0.379</td>\n",
              "      <td>14.80</td>\n",
              "      <td>0.298875</td>\n",
              "      <td>3.855625</td>\n",
              "      <td>0.01280</td>\n",
              "      <td>0.183814</td>\n",
              "    </tr>\n",
              "    <tr>\n",
              "      <th>3</th>\n",
              "      <td>8.20</td>\n",
              "      <td>9.1</td>\n",
              "      <td>76.0</td>\n",
              "      <td>56.0</td>\n",
              "      <td>127.0</td>\n",
              "      <td>6.30</td>\n",
              "      <td>44.0</td>\n",
              "      <td>18.0</td>\n",
              "      <td>1.65</td>\n",
              "      <td>0.396</td>\n",
              "      <td>9.60</td>\n",
              "      <td>0.299590</td>\n",
              "      <td>2.238750</td>\n",
              "      <td>0.01536</td>\n",
              "      <td>0.219282</td>\n",
              "    </tr>\n",
              "    <tr>\n",
              "      <th>4</th>\n",
              "      <td>7.31</td>\n",
              "      <td>7.3</td>\n",
              "      <td>84.0</td>\n",
              "      <td>52.0</td>\n",
              "      <td>140.0</td>\n",
              "      <td>5.50</td>\n",
              "      <td>28.0</td>\n",
              "      <td>20.0</td>\n",
              "      <td>1.61</td>\n",
              "      <td>0.265</td>\n",
              "      <td>8.30</td>\n",
              "      <td>0.106000</td>\n",
              "      <td>5.600000</td>\n",
              "      <td>0.01000</td>\n",
              "      <td>0.165831</td>\n",
              "    </tr>\n",
              "    <tr>\n",
              "      <th>...</th>\n",
              "      <td>...</td>\n",
              "      <td>...</td>\n",
              "      <td>...</td>\n",
              "      <td>...</td>\n",
              "      <td>...</td>\n",
              "      <td>...</td>\n",
              "      <td>...</td>\n",
              "      <td>...</td>\n",
              "      <td>...</td>\n",
              "      <td>...</td>\n",
              "      <td>...</td>\n",
              "      <td>...</td>\n",
              "      <td>...</td>\n",
              "      <td>...</td>\n",
              "      <td>...</td>\n",
              "    </tr>\n",
              "    <tr>\n",
              "      <th>482</th>\n",
              "      <td>7.60</td>\n",
              "      <td>5.6</td>\n",
              "      <td>224.0</td>\n",
              "      <td>8.0</td>\n",
              "      <td>370.0</td>\n",
              "      <td>16.14</td>\n",
              "      <td>92.0</td>\n",
              "      <td>24.0</td>\n",
              "      <td>7.60</td>\n",
              "      <td>2.270</td>\n",
              "      <td>23.04</td>\n",
              "      <td>1.352000</td>\n",
              "      <td>104.480000</td>\n",
              "      <td>0.01500</td>\n",
              "      <td>0.419630</td>\n",
              "    </tr>\n",
              "    <tr>\n",
              "      <th>483</th>\n",
              "      <td>7.30</td>\n",
              "      <td>5.6</td>\n",
              "      <td>266.0</td>\n",
              "      <td>96.0</td>\n",
              "      <td>434.0</td>\n",
              "      <td>20.56</td>\n",
              "      <td>96.0</td>\n",
              "      <td>32.0</td>\n",
              "      <td>9.89</td>\n",
              "      <td>1.550</td>\n",
              "      <td>30.86</td>\n",
              "      <td>7.074000</td>\n",
              "      <td>61.068000</td>\n",
              "      <td>0.03300</td>\n",
              "      <td>0.432996</td>\n",
              "    </tr>\n",
              "    <tr>\n",
              "      <th>484</th>\n",
              "      <td>5.10</td>\n",
              "      <td>5.8</td>\n",
              "      <td>290.0</td>\n",
              "      <td>12.0</td>\n",
              "      <td>487.0</td>\n",
              "      <td>37.35</td>\n",
              "      <td>60.0</td>\n",
              "      <td>44.0</td>\n",
              "      <td>14.80</td>\n",
              "      <td>0.159</td>\n",
              "      <td>60.13</td>\n",
              "      <td>9.256000</td>\n",
              "      <td>89.910000</td>\n",
              "      <td>0.16300</td>\n",
              "      <td>0.326811</td>\n",
              "    </tr>\n",
              "    <tr>\n",
              "      <th>485</th>\n",
              "      <td>7.40</td>\n",
              "      <td>6.4</td>\n",
              "      <td>230.0</td>\n",
              "      <td>72.0</td>\n",
              "      <td>385.0</td>\n",
              "      <td>20.06</td>\n",
              "      <td>70.0</td>\n",
              "      <td>42.0</td>\n",
              "      <td>10.35</td>\n",
              "      <td>1.360</td>\n",
              "      <td>32.92</td>\n",
              "      <td>7.110435</td>\n",
              "      <td>48.500000</td>\n",
              "      <td>0.21900</td>\n",
              "      <td>0.509970</td>\n",
              "    </tr>\n",
              "    <tr>\n",
              "      <th>486</th>\n",
              "      <td>7.60</td>\n",
              "      <td>6.9</td>\n",
              "      <td>243.0</td>\n",
              "      <td>68.0</td>\n",
              "      <td>410.8</td>\n",
              "      <td>17.41</td>\n",
              "      <td>82.0</td>\n",
              "      <td>50.0</td>\n",
              "      <td>9.92</td>\n",
              "      <td>1.310</td>\n",
              "      <td>34.89</td>\n",
              "      <td>6.385000</td>\n",
              "      <td>59.940000</td>\n",
              "      <td>0.07000</td>\n",
              "      <td>0.422551</td>\n",
              "    </tr>\n",
              "  </tbody>\n",
              "</table>\n",
              "<p>487 rows × 15 columns</p>\n",
              "</div>"
            ],
            "text/plain": [
              "       pH   DO    TDS  Alkalinity  ...   Nitrate    Sulphate  Phosphate       WPI\n",
              "0    8.14  8.7   84.0        52.0  ...  0.758000    6.534660    0.06211  0.249528\n",
              "1    7.70  8.8  110.0        76.0  ...  0.196062    8.138620    0.00960  0.216400\n",
              "2    7.60  7.5   75.0        44.0  ...  0.298875    3.855625    0.01280  0.183814\n",
              "3    8.20  9.1   76.0        56.0  ...  0.299590    2.238750    0.01536  0.219282\n",
              "4    7.31  7.3   84.0        52.0  ...  0.106000    5.600000    0.01000  0.165831\n",
              "..    ...  ...    ...         ...  ...       ...         ...        ...       ...\n",
              "482  7.60  5.6  224.0         8.0  ...  1.352000  104.480000    0.01500  0.419630\n",
              "483  7.30  5.6  266.0        96.0  ...  7.074000   61.068000    0.03300  0.432996\n",
              "484  5.10  5.8  290.0        12.0  ...  9.256000   89.910000    0.16300  0.326811\n",
              "485  7.40  6.4  230.0        72.0  ...  7.110435   48.500000    0.21900  0.509970\n",
              "486  7.60  6.9  243.0        68.0  ...  6.385000   59.940000    0.07000  0.422551\n",
              "\n",
              "[487 rows x 15 columns]"
            ]
          },
          "metadata": {
            "tags": []
          },
          "execution_count": 4
        }
      ]
    },
    {
      "cell_type": "code",
      "metadata": {
        "colab": {
          "base_uri": "https://localhost:8080/"
        },
        "id": "ghSwfnMKU83z",
        "outputId": "7bd2cf00-0d8f-4690-e65c-6fa751da6bab"
      },
      "source": [
        "df.isnull().sum()"
      ],
      "execution_count": 5,
      "outputs": [
        {
          "output_type": "execute_result",
          "data": {
            "text/plain": [
              "pH            0\n",
              "DO            0\n",
              "TDS           0\n",
              "Alkalinity    0\n",
              "EC            0\n",
              "Na            0\n",
              "Ca            0\n",
              "Mg            0\n",
              "K             0\n",
              "F             0\n",
              "Cl            0\n",
              "Nitrate       0\n",
              "Sulphate      0\n",
              "Phosphate     2\n",
              "WPI           0\n",
              "dtype: int64"
            ]
          },
          "metadata": {
            "tags": []
          },
          "execution_count": 5
        }
      ]
    },
    {
      "cell_type": "code",
      "metadata": {
        "colab": {
          "base_uri": "https://localhost:8080/"
        },
        "id": "1hvkPM-qVM2S",
        "outputId": "3bfa22ec-dcda-44c2-efef-471e1c8ea86d"
      },
      "source": [
        "import numpy as np\n",
        "\n",
        "pho = df['Phosphate']\n",
        "\n",
        "for i in range(len(pho)):\n",
        "    if i>5:\n",
        "        if np.isnan(pho[i]):\n",
        "                pho[i] = np.mean([pho[i-1], pho[i-2], pho[i-3], pho[i-4], pho[i-5]])\n",
        "pho\n",
        "\n",
        "for i in range(4,-1,-1):\n",
        "    if np.isnan(pho[i]):\n",
        "            pho[i] = np.mean([pho[i+1], pho[i+2], pho[i+3], pho[i+4], pho[i+5]])\n",
        "pho"
      ],
      "execution_count": 6,
      "outputs": [
        {
          "output_type": "execute_result",
          "data": {
            "text/plain": [
              "0      0.06211\n",
              "1      0.00960\n",
              "2      0.01280\n",
              "3      0.01536\n",
              "4      0.01000\n",
              "        ...   \n",
              "482    0.01500\n",
              "483    0.03300\n",
              "484    0.16300\n",
              "485    0.21900\n",
              "486    0.07000\n",
              "Name: Phosphate, Length: 487, dtype: float64"
            ]
          },
          "metadata": {
            "tags": []
          },
          "execution_count": 6
        }
      ]
    },
    {
      "cell_type": "code",
      "metadata": {
        "colab": {
          "base_uri": "https://localhost:8080/"
        },
        "id": "k1e2ake7VUiE",
        "outputId": "db1377e9-355a-4027-db5b-3dc299510999"
      },
      "source": [
        "df.isnull().sum()"
      ],
      "execution_count": 7,
      "outputs": [
        {
          "output_type": "execute_result",
          "data": {
            "text/plain": [
              "pH            0\n",
              "DO            0\n",
              "TDS           0\n",
              "Alkalinity    0\n",
              "EC            0\n",
              "Na            0\n",
              "Ca            0\n",
              "Mg            0\n",
              "K             0\n",
              "F             0\n",
              "Cl            0\n",
              "Nitrate       0\n",
              "Sulphate      0\n",
              "Phosphate     0\n",
              "WPI           0\n",
              "dtype: int64"
            ]
          },
          "metadata": {
            "tags": []
          },
          "execution_count": 7
        }
      ]
    },
    {
      "cell_type": "code",
      "metadata": {
        "colab": {
          "base_uri": "https://localhost:8080/",
          "height": 204
        },
        "id": "rkwFy92WVtA4",
        "outputId": "d404917e-149e-488c-a27a-fc91d8cbb8ef"
      },
      "source": [
        "df.tail()"
      ],
      "execution_count": 8,
      "outputs": [
        {
          "output_type": "execute_result",
          "data": {
            "text/html": [
              "<div>\n",
              "<style scoped>\n",
              "    .dataframe tbody tr th:only-of-type {\n",
              "        vertical-align: middle;\n",
              "    }\n",
              "\n",
              "    .dataframe tbody tr th {\n",
              "        vertical-align: top;\n",
              "    }\n",
              "\n",
              "    .dataframe thead th {\n",
              "        text-align: right;\n",
              "    }\n",
              "</style>\n",
              "<table border=\"1\" class=\"dataframe\">\n",
              "  <thead>\n",
              "    <tr style=\"text-align: right;\">\n",
              "      <th></th>\n",
              "      <th>pH</th>\n",
              "      <th>DO</th>\n",
              "      <th>TDS</th>\n",
              "      <th>Alkalinity</th>\n",
              "      <th>EC</th>\n",
              "      <th>Na</th>\n",
              "      <th>Ca</th>\n",
              "      <th>Mg</th>\n",
              "      <th>K</th>\n",
              "      <th>F</th>\n",
              "      <th>Cl</th>\n",
              "      <th>Nitrate</th>\n",
              "      <th>Sulphate</th>\n",
              "      <th>Phosphate</th>\n",
              "      <th>WPI</th>\n",
              "    </tr>\n",
              "  </thead>\n",
              "  <tbody>\n",
              "    <tr>\n",
              "      <th>482</th>\n",
              "      <td>7.6</td>\n",
              "      <td>5.6</td>\n",
              "      <td>224.0</td>\n",
              "      <td>8.0</td>\n",
              "      <td>370.0</td>\n",
              "      <td>16.14</td>\n",
              "      <td>92.0</td>\n",
              "      <td>24.0</td>\n",
              "      <td>7.60</td>\n",
              "      <td>2.270</td>\n",
              "      <td>23.04</td>\n",
              "      <td>1.352000</td>\n",
              "      <td>104.480</td>\n",
              "      <td>0.015</td>\n",
              "      <td>0.419630</td>\n",
              "    </tr>\n",
              "    <tr>\n",
              "      <th>483</th>\n",
              "      <td>7.3</td>\n",
              "      <td>5.6</td>\n",
              "      <td>266.0</td>\n",
              "      <td>96.0</td>\n",
              "      <td>434.0</td>\n",
              "      <td>20.56</td>\n",
              "      <td>96.0</td>\n",
              "      <td>32.0</td>\n",
              "      <td>9.89</td>\n",
              "      <td>1.550</td>\n",
              "      <td>30.86</td>\n",
              "      <td>7.074000</td>\n",
              "      <td>61.068</td>\n",
              "      <td>0.033</td>\n",
              "      <td>0.432996</td>\n",
              "    </tr>\n",
              "    <tr>\n",
              "      <th>484</th>\n",
              "      <td>5.1</td>\n",
              "      <td>5.8</td>\n",
              "      <td>290.0</td>\n",
              "      <td>12.0</td>\n",
              "      <td>487.0</td>\n",
              "      <td>37.35</td>\n",
              "      <td>60.0</td>\n",
              "      <td>44.0</td>\n",
              "      <td>14.80</td>\n",
              "      <td>0.159</td>\n",
              "      <td>60.13</td>\n",
              "      <td>9.256000</td>\n",
              "      <td>89.910</td>\n",
              "      <td>0.163</td>\n",
              "      <td>0.326811</td>\n",
              "    </tr>\n",
              "    <tr>\n",
              "      <th>485</th>\n",
              "      <td>7.4</td>\n",
              "      <td>6.4</td>\n",
              "      <td>230.0</td>\n",
              "      <td>72.0</td>\n",
              "      <td>385.0</td>\n",
              "      <td>20.06</td>\n",
              "      <td>70.0</td>\n",
              "      <td>42.0</td>\n",
              "      <td>10.35</td>\n",
              "      <td>1.360</td>\n",
              "      <td>32.92</td>\n",
              "      <td>7.110435</td>\n",
              "      <td>48.500</td>\n",
              "      <td>0.219</td>\n",
              "      <td>0.509970</td>\n",
              "    </tr>\n",
              "    <tr>\n",
              "      <th>486</th>\n",
              "      <td>7.6</td>\n",
              "      <td>6.9</td>\n",
              "      <td>243.0</td>\n",
              "      <td>68.0</td>\n",
              "      <td>410.8</td>\n",
              "      <td>17.41</td>\n",
              "      <td>82.0</td>\n",
              "      <td>50.0</td>\n",
              "      <td>9.92</td>\n",
              "      <td>1.310</td>\n",
              "      <td>34.89</td>\n",
              "      <td>6.385000</td>\n",
              "      <td>59.940</td>\n",
              "      <td>0.070</td>\n",
              "      <td>0.422551</td>\n",
              "    </tr>\n",
              "  </tbody>\n",
              "</table>\n",
              "</div>"
            ],
            "text/plain": [
              "      pH   DO    TDS  Alkalinity  ...   Nitrate  Sulphate  Phosphate       WPI\n",
              "482  7.6  5.6  224.0         8.0  ...  1.352000   104.480      0.015  0.419630\n",
              "483  7.3  5.6  266.0        96.0  ...  7.074000    61.068      0.033  0.432996\n",
              "484  5.1  5.8  290.0        12.0  ...  9.256000    89.910      0.163  0.326811\n",
              "485  7.4  6.4  230.0        72.0  ...  7.110435    48.500      0.219  0.509970\n",
              "486  7.6  6.9  243.0        68.0  ...  6.385000    59.940      0.070  0.422551\n",
              "\n",
              "[5 rows x 15 columns]"
            ]
          },
          "metadata": {
            "tags": []
          },
          "execution_count": 8
        }
      ]
    },
    {
      "cell_type": "code",
      "metadata": {
        "id": "ue1EIe7XV284"
      },
      "source": [
        "normalized_df=(df-df.min())/(df.max()-df.min())"
      ],
      "execution_count": 9,
      "outputs": []
    },
    {
      "cell_type": "code",
      "metadata": {
        "colab": {
          "base_uri": "https://localhost:8080/",
          "height": 419
        },
        "id": "qbruhBr4WGEx",
        "outputId": "db56bd93-9f64-4fe8-9c20-6f605f638a37"
      },
      "source": [
        "normalized_df"
      ],
      "execution_count": 10,
      "outputs": [
        {
          "output_type": "execute_result",
          "data": {
            "text/html": [
              "<div>\n",
              "<style scoped>\n",
              "    .dataframe tbody tr th:only-of-type {\n",
              "        vertical-align: middle;\n",
              "    }\n",
              "\n",
              "    .dataframe tbody tr th {\n",
              "        vertical-align: top;\n",
              "    }\n",
              "\n",
              "    .dataframe thead th {\n",
              "        text-align: right;\n",
              "    }\n",
              "</style>\n",
              "<table border=\"1\" class=\"dataframe\">\n",
              "  <thead>\n",
              "    <tr style=\"text-align: right;\">\n",
              "      <th></th>\n",
              "      <th>pH</th>\n",
              "      <th>DO</th>\n",
              "      <th>TDS</th>\n",
              "      <th>Alkalinity</th>\n",
              "      <th>EC</th>\n",
              "      <th>Na</th>\n",
              "      <th>Ca</th>\n",
              "      <th>Mg</th>\n",
              "      <th>K</th>\n",
              "      <th>F</th>\n",
              "      <th>Cl</th>\n",
              "      <th>Nitrate</th>\n",
              "      <th>Sulphate</th>\n",
              "      <th>Phosphate</th>\n",
              "      <th>WPI</th>\n",
              "    </tr>\n",
              "  </thead>\n",
              "  <tbody>\n",
              "    <tr>\n",
              "      <th>0</th>\n",
              "      <td>0.876081</td>\n",
              "      <td>0.483871</td>\n",
              "      <td>0.111111</td>\n",
              "      <td>0.271605</td>\n",
              "      <td>0.123267</td>\n",
              "      <td>0.049610</td>\n",
              "      <td>0.227273</td>\n",
              "      <td>0.219512</td>\n",
              "      <td>0.038242</td>\n",
              "      <td>0.075308</td>\n",
              "      <td>0.057554</td>\n",
              "      <td>0.077630</td>\n",
              "      <td>0.055384</td>\n",
              "      <td>0.035190</td>\n",
              "      <td>0.097276</td>\n",
              "    </tr>\n",
              "    <tr>\n",
              "      <th>1</th>\n",
              "      <td>0.749280</td>\n",
              "      <td>0.494624</td>\n",
              "      <td>0.214286</td>\n",
              "      <td>0.419753</td>\n",
              "      <td>0.222772</td>\n",
              "      <td>0.139081</td>\n",
              "      <td>0.227273</td>\n",
              "      <td>0.414634</td>\n",
              "      <td>0.168950</td>\n",
              "      <td>0.113962</td>\n",
              "      <td>0.158273</td>\n",
              "      <td>0.019775</td>\n",
              "      <td>0.070853</td>\n",
              "      <td>0.005439</td>\n",
              "      <td>0.075203</td>\n",
              "    </tr>\n",
              "    <tr>\n",
              "      <th>2</th>\n",
              "      <td>0.720461</td>\n",
              "      <td>0.354839</td>\n",
              "      <td>0.075397</td>\n",
              "      <td>0.222222</td>\n",
              "      <td>0.074257</td>\n",
              "      <td>0.128250</td>\n",
              "      <td>0.106061</td>\n",
              "      <td>0.219512</td>\n",
              "      <td>0.131279</td>\n",
              "      <td>0.106631</td>\n",
              "      <td>0.158273</td>\n",
              "      <td>0.030360</td>\n",
              "      <td>0.029547</td>\n",
              "      <td>0.007252</td>\n",
              "      <td>0.053492</td>\n",
              "    </tr>\n",
              "    <tr>\n",
              "      <th>3</th>\n",
              "      <td>0.893372</td>\n",
              "      <td>0.526882</td>\n",
              "      <td>0.079365</td>\n",
              "      <td>0.296296</td>\n",
              "      <td>0.071782</td>\n",
              "      <td>0.089038</td>\n",
              "      <td>0.227273</td>\n",
              "      <td>0.195122</td>\n",
              "      <td>0.065639</td>\n",
              "      <td>0.112296</td>\n",
              "      <td>0.083453</td>\n",
              "      <td>0.030434</td>\n",
              "      <td>0.013953</td>\n",
              "      <td>0.008703</td>\n",
              "      <td>0.077124</td>\n",
              "    </tr>\n",
              "    <tr>\n",
              "      <th>4</th>\n",
              "      <td>0.636888</td>\n",
              "      <td>0.333333</td>\n",
              "      <td>0.111111</td>\n",
              "      <td>0.271605</td>\n",
              "      <td>0.103960</td>\n",
              "      <td>0.071707</td>\n",
              "      <td>0.106061</td>\n",
              "      <td>0.219512</td>\n",
              "      <td>0.063356</td>\n",
              "      <td>0.068644</td>\n",
              "      <td>0.064748</td>\n",
              "      <td>0.010503</td>\n",
              "      <td>0.046370</td>\n",
              "      <td>0.005666</td>\n",
              "      <td>0.041510</td>\n",
              "    </tr>\n",
              "    <tr>\n",
              "      <th>...</th>\n",
              "      <td>...</td>\n",
              "      <td>...</td>\n",
              "      <td>...</td>\n",
              "      <td>...</td>\n",
              "      <td>...</td>\n",
              "      <td>...</td>\n",
              "      <td>...</td>\n",
              "      <td>...</td>\n",
              "      <td>...</td>\n",
              "      <td>...</td>\n",
              "      <td>...</td>\n",
              "      <td>...</td>\n",
              "      <td>...</td>\n",
              "      <td>...</td>\n",
              "      <td>...</td>\n",
              "    </tr>\n",
              "    <tr>\n",
              "      <th>482</th>\n",
              "      <td>0.720461</td>\n",
              "      <td>0.150538</td>\n",
              "      <td>0.666667</td>\n",
              "      <td>0.000000</td>\n",
              "      <td>0.673267</td>\n",
              "      <td>0.302210</td>\n",
              "      <td>0.590909</td>\n",
              "      <td>0.268293</td>\n",
              "      <td>0.405251</td>\n",
              "      <td>0.736754</td>\n",
              "      <td>0.276835</td>\n",
              "      <td>0.138785</td>\n",
              "      <td>1.000000</td>\n",
              "      <td>0.008499</td>\n",
              "      <td>0.210614</td>\n",
              "    </tr>\n",
              "    <tr>\n",
              "      <th>483</th>\n",
              "      <td>0.634006</td>\n",
              "      <td>0.150538</td>\n",
              "      <td>0.833333</td>\n",
              "      <td>0.543210</td>\n",
              "      <td>0.831683</td>\n",
              "      <td>0.397964</td>\n",
              "      <td>0.621212</td>\n",
              "      <td>0.365854</td>\n",
              "      <td>0.535959</td>\n",
              "      <td>0.496834</td>\n",
              "      <td>0.389353</td>\n",
              "      <td>0.727893</td>\n",
              "      <td>0.581321</td>\n",
              "      <td>0.018697</td>\n",
              "      <td>0.219520</td>\n",
              "    </tr>\n",
              "    <tr>\n",
              "      <th>484</th>\n",
              "      <td>0.000000</td>\n",
              "      <td>0.172043</td>\n",
              "      <td>0.928571</td>\n",
              "      <td>0.024691</td>\n",
              "      <td>0.962871</td>\n",
              "      <td>0.761698</td>\n",
              "      <td>0.348485</td>\n",
              "      <td>0.512195</td>\n",
              "      <td>0.816210</td>\n",
              "      <td>0.033322</td>\n",
              "      <td>0.810504</td>\n",
              "      <td>0.952541</td>\n",
              "      <td>0.859482</td>\n",
              "      <td>0.092351</td>\n",
              "      <td>0.148769</td>\n",
              "    </tr>\n",
              "    <tr>\n",
              "      <th>485</th>\n",
              "      <td>0.662824</td>\n",
              "      <td>0.236559</td>\n",
              "      <td>0.690476</td>\n",
              "      <td>0.395062</td>\n",
              "      <td>0.710396</td>\n",
              "      <td>0.387132</td>\n",
              "      <td>0.424242</td>\n",
              "      <td>0.487805</td>\n",
              "      <td>0.562215</td>\n",
              "      <td>0.433522</td>\n",
              "      <td>0.418993</td>\n",
              "      <td>0.731644</td>\n",
              "      <td>0.460111</td>\n",
              "      <td>0.124079</td>\n",
              "      <td>0.270807</td>\n",
              "    </tr>\n",
              "    <tr>\n",
              "      <th>486</th>\n",
              "      <td>0.720461</td>\n",
              "      <td>0.290323</td>\n",
              "      <td>0.742063</td>\n",
              "      <td>0.370370</td>\n",
              "      <td>0.774257</td>\n",
              "      <td>0.329723</td>\n",
              "      <td>0.515152</td>\n",
              "      <td>0.585366</td>\n",
              "      <td>0.537671</td>\n",
              "      <td>0.416861</td>\n",
              "      <td>0.447338</td>\n",
              "      <td>0.656957</td>\n",
              "      <td>0.570442</td>\n",
              "      <td>0.039660</td>\n",
              "      <td>0.212560</td>\n",
              "    </tr>\n",
              "  </tbody>\n",
              "</table>\n",
              "<p>487 rows × 15 columns</p>\n",
              "</div>"
            ],
            "text/plain": [
              "           pH        DO       TDS  ...  Sulphate  Phosphate       WPI\n",
              "0    0.876081  0.483871  0.111111  ...  0.055384   0.035190  0.097276\n",
              "1    0.749280  0.494624  0.214286  ...  0.070853   0.005439  0.075203\n",
              "2    0.720461  0.354839  0.075397  ...  0.029547   0.007252  0.053492\n",
              "3    0.893372  0.526882  0.079365  ...  0.013953   0.008703  0.077124\n",
              "4    0.636888  0.333333  0.111111  ...  0.046370   0.005666  0.041510\n",
              "..        ...       ...       ...  ...       ...        ...       ...\n",
              "482  0.720461  0.150538  0.666667  ...  1.000000   0.008499  0.210614\n",
              "483  0.634006  0.150538  0.833333  ...  0.581321   0.018697  0.219520\n",
              "484  0.000000  0.172043  0.928571  ...  0.859482   0.092351  0.148769\n",
              "485  0.662824  0.236559  0.690476  ...  0.460111   0.124079  0.270807\n",
              "486  0.720461  0.290323  0.742063  ...  0.570442   0.039660  0.212560\n",
              "\n",
              "[487 rows x 15 columns]"
            ]
          },
          "metadata": {
            "tags": []
          },
          "execution_count": 10
        }
      ]
    },
    {
      "cell_type": "code",
      "metadata": {
        "colab": {
          "base_uri": "https://localhost:8080/",
          "height": 529
        },
        "id": "Y1LBooQyWIWK",
        "outputId": "026d4ddf-60b0-4340-c1ea-2122b4a08bef"
      },
      "source": [
        "import matplotlib.pyplot as plt\n",
        "import seaborn as sns\n",
        "\n",
        "plt.figure(figsize = (16, 8))\n",
        "sns.heatmap(normalized_df.corr(), annot = True)\n",
        "plt.show()"
      ],
      "execution_count": 11,
      "outputs": [
        {
          "output_type": "display_data",
          "data": {
            "image/png": "[encoded data removed]",
            "text/plain": [
              "<Figure size 1152x576 with 2 Axes>"
            ]
          },
          "metadata": {
            "tags": [],
            "needs_background": "light"
          }
        }
      ]
    },
    {
      "cell_type": "code",
      "metadata": {
        "colab": {
          "base_uri": "https://localhost:8080/"
        },
        "id": "EiYOsmVfYk9Q",
        "outputId": "9bcc9eff-92e5-439a-b93a-7db3337a4883"
      },
      "source": [
        "normalized_df.isnull().sum()"
      ],
      "execution_count": 12,
      "outputs": [
        {
          "output_type": "execute_result",
          "data": {
            "text/plain": [
              "pH            0\n",
              "DO            0\n",
              "TDS           0\n",
              "Alkalinity    0\n",
              "EC            0\n",
              "Na            0\n",
              "Ca            0\n",
              "Mg            0\n",
              "K             0\n",
              "F             0\n",
              "Cl            0\n",
              "Nitrate       0\n",
              "Sulphate      0\n",
              "Phosphate     0\n",
              "WPI           0\n",
              "dtype: int64"
            ]
          },
          "metadata": {
            "tags": []
          },
          "execution_count": 12
        }
      ]
    },
    {
      "cell_type": "code",
      "metadata": {
        "colab": {
          "base_uri": "https://localhost:8080/",
          "height": 204
        },
        "id": "D6Q8m03gaAPj",
        "outputId": "69de99fb-454e-47f3-a9d3-f64d61a6153f"
      },
      "source": [
        "x = normalized_df.drop('WPI',axis=1)\n",
        "x.head()"
      ],
      "execution_count": 13,
      "outputs": [
        {
          "output_type": "execute_result",
          "data": {
            "text/html": [
              "<div>\n",
              "<style scoped>\n",
              "    .dataframe tbody tr th:only-of-type {\n",
              "        vertical-align: middle;\n",
              "    }\n",
              "\n",
              "    .dataframe tbody tr th {\n",
              "        vertical-align: top;\n",
              "    }\n",
              "\n",
              "    .dataframe thead th {\n",
              "        text-align: right;\n",
              "    }\n",
              "</style>\n",
              "<table border=\"1\" class=\"dataframe\">\n",
              "  <thead>\n",
              "    <tr style=\"text-align: right;\">\n",
              "      <th></th>\n",
              "      <th>pH</th>\n",
              "      <th>DO</th>\n",
              "      <th>TDS</th>\n",
              "      <th>Alkalinity</th>\n",
              "      <th>EC</th>\n",
              "      <th>Na</th>\n",
              "      <th>Ca</th>\n",
              "      <th>Mg</th>\n",
              "      <th>K</th>\n",
              "      <th>F</th>\n",
              "      <th>Cl</th>\n",
              "      <th>Nitrate</th>\n",
              "      <th>Sulphate</th>\n",
              "      <th>Phosphate</th>\n",
              "    </tr>\n",
              "  </thead>\n",
              "  <tbody>\n",
              "    <tr>\n",
              "      <th>0</th>\n",
              "      <td>0.876081</td>\n",
              "      <td>0.483871</td>\n",
              "      <td>0.111111</td>\n",
              "      <td>0.271605</td>\n",
              "      <td>0.123267</td>\n",
              "      <td>0.049610</td>\n",
              "      <td>0.227273</td>\n",
              "      <td>0.219512</td>\n",
              "      <td>0.038242</td>\n",
              "      <td>0.075308</td>\n",
              "      <td>0.057554</td>\n",
              "      <td>0.077630</td>\n",
              "      <td>0.055384</td>\n",
              "      <td>0.035190</td>\n",
              "    </tr>\n",
              "    <tr>\n",
              "      <th>1</th>\n",
              "      <td>0.749280</td>\n",
              "      <td>0.494624</td>\n",
              "      <td>0.214286</td>\n",
              "      <td>0.419753</td>\n",
              "      <td>0.222772</td>\n",
              "      <td>0.139081</td>\n",
              "      <td>0.227273</td>\n",
              "      <td>0.414634</td>\n",
              "      <td>0.168950</td>\n",
              "      <td>0.113962</td>\n",
              "      <td>0.158273</td>\n",
              "      <td>0.019775</td>\n",
              "      <td>0.070853</td>\n",
              "      <td>0.005439</td>\n",
              "    </tr>\n",
              "    <tr>\n",
              "      <th>2</th>\n",
              "      <td>0.720461</td>\n",
              "      <td>0.354839</td>\n",
              "      <td>0.075397</td>\n",
              "      <td>0.222222</td>\n",
              "      <td>0.074257</td>\n",
              "      <td>0.128250</td>\n",
              "      <td>0.106061</td>\n",
              "      <td>0.219512</td>\n",
              "      <td>0.131279</td>\n",
              "      <td>0.106631</td>\n",
              "      <td>0.158273</td>\n",
              "      <td>0.030360</td>\n",
              "      <td>0.029547</td>\n",
              "      <td>0.007252</td>\n",
              "    </tr>\n",
              "    <tr>\n",
              "      <th>3</th>\n",
              "      <td>0.893372</td>\n",
              "      <td>0.526882</td>\n",
              "      <td>0.079365</td>\n",
              "      <td>0.296296</td>\n",
              "      <td>0.071782</td>\n",
              "      <td>0.089038</td>\n",
              "      <td>0.227273</td>\n",
              "      <td>0.195122</td>\n",
              "      <td>0.065639</td>\n",
              "      <td>0.112296</td>\n",
              "      <td>0.083453</td>\n",
              "      <td>0.030434</td>\n",
              "      <td>0.013953</td>\n",
              "      <td>0.008703</td>\n",
              "    </tr>\n",
              "    <tr>\n",
              "      <th>4</th>\n",
              "      <td>0.636888</td>\n",
              "      <td>0.333333</td>\n",
              "      <td>0.111111</td>\n",
              "      <td>0.271605</td>\n",
              "      <td>0.103960</td>\n",
              "      <td>0.071707</td>\n",
              "      <td>0.106061</td>\n",
              "      <td>0.219512</td>\n",
              "      <td>0.063356</td>\n",
              "      <td>0.068644</td>\n",
              "      <td>0.064748</td>\n",
              "      <td>0.010503</td>\n",
              "      <td>0.046370</td>\n",
              "      <td>0.005666</td>\n",
              "    </tr>\n",
              "  </tbody>\n",
              "</table>\n",
              "</div>"
            ],
            "text/plain": [
              "         pH        DO       TDS  ...   Nitrate  Sulphate  Phosphate\n",
              "0  0.876081  0.483871  0.111111  ...  0.077630  0.055384   0.035190\n",
              "1  0.749280  0.494624  0.214286  ...  0.019775  0.070853   0.005439\n",
              "2  0.720461  0.354839  0.075397  ...  0.030360  0.029547   0.007252\n",
              "3  0.893372  0.526882  0.079365  ...  0.030434  0.013953   0.008703\n",
              "4  0.636888  0.333333  0.111111  ...  0.010503  0.046370   0.005666\n",
              "\n",
              "[5 rows x 14 columns]"
            ]
          },
          "metadata": {
            "tags": []
          },
          "execution_count": 13
        }
      ]
    },
    {
      "cell_type": "code",
      "metadata": {
        "colab": {
          "base_uri": "https://localhost:8080/"
        },
        "id": "xxxjWeDHcMbe",
        "outputId": "01deecd7-bfbc-42f0-ed89-30a40902e473"
      },
      "source": [
        "y = normalized_df['WPI']\n",
        "y.head()"
      ],
      "execution_count": 14,
      "outputs": [
        {
          "output_type": "execute_result",
          "data": {
            "text/plain": [
              "0    0.097276\n",
              "1    0.075203\n",
              "2    0.053492\n",
              "3    0.077124\n",
              "4    0.041510\n",
              "Name: WPI, dtype: float64"
            ]
          },
          "metadata": {
            "tags": []
          },
          "execution_count": 14
        }
      ]
    },
    {
      "cell_type": "markdown",
      "metadata": {
        "id": "159KcsBLec2i"
      },
      "source": [
        "**MLR**\n",
        "Multiple linear regression is a form of linear regression used when there is more than one\n",
        "predicting variable at play"
      ]
    },
    {
      "cell_type": "code",
      "metadata": {
        "id": "VBTMvgDzcSa-"
      },
      "source": [
        "# importing train_test_split from sklearn\n",
        "from sklearn.model_selection import train_test_split\n",
        "# splitting the data\n",
        "x_train, x_test, y_train, y_test = train_test_split(x, y, test_size = 0.2, random_state = 42)"
      ],
      "execution_count": 15,
      "outputs": []
    },
    {
      "cell_type": "code",
      "metadata": {
        "colab": {
          "base_uri": "https://localhost:8080/"
        },
        "id": "HRU4E-GycrmX",
        "outputId": "ac372095-3dd8-4d48-e4fb-d92dc9529ab6"
      },
      "source": [
        "# importing module\n",
        "from sklearn.linear_model import LinearRegression\n",
        "# creating an object of LinearRegression class\n",
        "LR = LinearRegression()\n",
        "# fitting the training data\n",
        "LR.fit(x_train,y_train)"
      ],
      "execution_count": 16,
      "outputs": [
        {
          "output_type": "execute_result",
          "data": {
            "text/plain": [
              "LinearRegression(copy_X=True, fit_intercept=True, n_jobs=None, normalize=False)"
            ]
          },
          "metadata": {
            "tags": []
          },
          "execution_count": 16
        }
      ]
    },
    {
      "cell_type": "code",
      "metadata": {
        "colab": {
          "base_uri": "https://localhost:8080/"
        },
        "id": "6LeLN9AwcvOm",
        "outputId": "a5a74c6a-b028-444b-9198-f1c010fabb50"
      },
      "source": [
        "y_prediction =  LR.predict(x_test)\n",
        "y_prediction"
      ],
      "execution_count": 17,
      "outputs": [
        {
          "output_type": "execute_result",
          "data": {
            "text/plain": [
              "array([0.26780792, 0.10976828, 0.097216  , 0.18148955, 0.13327922,\n",
              "       0.25094018, 0.4424282 , 0.15035981, 0.24367763, 0.12759524,\n",
              "       0.08954772, 0.20220242, 0.1055206 , 0.11150058, 0.04534676,\n",
              "       0.07379373, 0.28315527, 0.06633109, 0.19918869, 0.13679542,\n",
              "       0.10064563, 0.08003358, 0.08031436, 0.1382367 , 0.0414555 ,\n",
              "       0.08947685, 0.22996734, 0.5372088 , 0.17773195, 0.13540975,\n",
              "       0.50749867, 0.25499224, 0.15981046, 0.12815714, 0.06986991,\n",
              "       0.097216  , 0.11566194, 0.2106503 , 0.15295992, 0.40402423,\n",
              "       0.1070818 , 0.11159724, 0.10693068, 0.24865721, 0.05515217,\n",
              "       0.09975501, 0.15020451, 0.08338196, 0.10976828, 0.13485258,\n",
              "       0.06900137, 0.07628456, 0.15843218, 0.13509191, 0.22203892,\n",
              "       0.09238164, 0.08925567, 0.05648512, 0.07455134, 0.60743287,\n",
              "       0.09834674, 0.23044669, 0.15473083, 0.05580411, 0.11957517,\n",
              "       0.07759675, 0.07537406, 0.31211143, 0.26073317, 0.20373699,\n",
              "       0.09832702, 0.12179393, 0.09689875, 0.1290178 , 0.04737476,\n",
              "       0.2927947 , 0.08004056, 0.26803755, 0.08009949, 0.40116053,\n",
              "       0.09206106, 0.06088784, 0.0495828 , 0.11033723, 0.09209917,\n",
              "       0.20758774, 0.07721003, 0.0680937 , 0.07279398, 0.12388902,\n",
              "       0.07871976, 0.09922086, 0.1972124 , 0.06644747, 0.09223954,\n",
              "       0.06583048, 0.081415  , 0.09651762])"
            ]
          },
          "metadata": {
            "tags": []
          },
          "execution_count": 17
        }
      ]
    },
    {
      "cell_type": "code",
      "metadata": {
        "colab": {
          "base_uri": "https://localhost:8080/"
        },
        "id": "h_cUU7zjcyjz",
        "outputId": "05aba6d7-c2c8-49e9-f4c4-73010836cc19"
      },
      "source": [
        "# importing r2_score module\n",
        "from sklearn.metrics import r2_score\n",
        "from sklearn.metrics import mean_squared_error\n",
        "# predicting the accuracy score\n",
        "score=r2_score(y_test,y_prediction)\n",
        "print('r2 score is',score)\n",
        "print('mean_sqrd_error is==',mean_squared_error(y_test,y_prediction))\n",
        "print('root_mean_squared error of is==',np.sqrt(mean_squared_error(y_test,y_prediction)))"
      ],
      "execution_count": 18,
      "outputs": [
        {
          "output_type": "stream",
          "text": [
            "r2 score is 0.9999915829896358\n",
            "mean_sqrd_error is== 9.795137007625089e-08\n",
            "root_mean_squared error of is== 0.00031297183591539175\n"
          ],
          "name": "stdout"
        }
      ]
    },
    {
      "cell_type": "code",
      "metadata": {
        "colab": {
          "base_uri": "https://localhost:8080/"
        },
        "id": "M55iS3zmhmHE",
        "outputId": "5edf7343-ec87-4cf6-8f6d-63788088ce2f"
      },
      "source": [
        "print('The shape of our features is:', normalized_df.shape)"
      ],
      "execution_count": 19,
      "outputs": [
        {
          "output_type": "stream",
          "text": [
            "The shape of our features is: (487, 15)\n"
          ],
          "name": "stdout"
        }
      ]
    },
    {
      "cell_type": "code",
      "metadata": {
        "colab": {
          "base_uri": "https://localhost:8080/",
          "height": 317
        },
        "id": "VgDzIv5ijCrR",
        "outputId": "288bc999-0c65-4e18-ea48-04b877424330"
      },
      "source": [
        "# Descriptive statistics for each column\n",
        "normalized_df.describe()"
      ],
      "execution_count": 20,
      "outputs": [
        {
          "output_type": "execute_result",
          "data": {
            "text/html": [
              "<div>\n",
              "<style scoped>\n",
              "    .dataframe tbody tr th:only-of-type {\n",
              "        vertical-align: middle;\n",
              "    }\n",
              "\n",
              "    .dataframe tbody tr th {\n",
              "        vertical-align: top;\n",
              "    }\n",
              "\n",
              "    .dataframe thead th {\n",
              "        text-align: right;\n",
              "    }\n",
              "</style>\n",
              "<table border=\"1\" class=\"dataframe\">\n",
              "  <thead>\n",
              "    <tr style=\"text-align: right;\">\n",
              "      <th></th>\n",
              "      <th>pH</th>\n",
              "      <th>DO</th>\n",
              "      <th>TDS</th>\n",
              "      <th>Alkalinity</th>\n",
              "      <th>EC</th>\n",
              "      <th>Na</th>\n",
              "      <th>Ca</th>\n",
              "      <th>Mg</th>\n",
              "      <th>K</th>\n",
              "      <th>F</th>\n",
              "      <th>Cl</th>\n",
              "      <th>Nitrate</th>\n",
              "      <th>Sulphate</th>\n",
              "      <th>Phosphate</th>\n",
              "      <th>WPI</th>\n",
              "    </tr>\n",
              "  </thead>\n",
              "  <tbody>\n",
              "    <tr>\n",
              "      <th>count</th>\n",
              "      <td>487.000000</td>\n",
              "      <td>487.000000</td>\n",
              "      <td>487.000000</td>\n",
              "      <td>487.000000</td>\n",
              "      <td>487.000000</td>\n",
              "      <td>487.000000</td>\n",
              "      <td>487.000000</td>\n",
              "      <td>487.000000</td>\n",
              "      <td>487.000000</td>\n",
              "      <td>487.000000</td>\n",
              "      <td>487.000000</td>\n",
              "      <td>487.000000</td>\n",
              "      <td>487.000000</td>\n",
              "      <td>487.000000</td>\n",
              "      <td>487.000000</td>\n",
              "    </tr>\n",
              "    <tr>\n",
              "      <th>mean</th>\n",
              "      <td>0.780771</td>\n",
              "      <td>0.348555</td>\n",
              "      <td>0.237112</td>\n",
              "      <td>0.334728</td>\n",
              "      <td>0.243902</td>\n",
              "      <td>0.145497</td>\n",
              "      <td>0.224877</td>\n",
              "      <td>0.272700</td>\n",
              "      <td>0.144762</td>\n",
              "      <td>0.150881</td>\n",
              "      <td>0.149282</td>\n",
              "      <td>0.132028</td>\n",
              "      <td>0.135017</td>\n",
              "      <td>0.050659</td>\n",
              "      <td>0.126569</td>\n",
              "    </tr>\n",
              "    <tr>\n",
              "      <th>std</th>\n",
              "      <td>0.118506</td>\n",
              "      <td>0.119050</td>\n",
              "      <td>0.187635</td>\n",
              "      <td>0.123879</td>\n",
              "      <td>0.200713</td>\n",
              "      <td>0.123909</td>\n",
              "      <td>0.135200</td>\n",
              "      <td>0.131895</td>\n",
              "      <td>0.131518</td>\n",
              "      <td>0.164653</td>\n",
              "      <td>0.133517</td>\n",
              "      <td>0.189301</td>\n",
              "      <td>0.141233</td>\n",
              "      <td>0.088617</td>\n",
              "      <td>0.088208</td>\n",
              "    </tr>\n",
              "    <tr>\n",
              "      <th>min</th>\n",
              "      <td>0.000000</td>\n",
              "      <td>0.000000</td>\n",
              "      <td>0.000000</td>\n",
              "      <td>0.000000</td>\n",
              "      <td>0.000000</td>\n",
              "      <td>0.000000</td>\n",
              "      <td>0.000000</td>\n",
              "      <td>0.000000</td>\n",
              "      <td>0.000000</td>\n",
              "      <td>0.000000</td>\n",
              "      <td>0.000000</td>\n",
              "      <td>0.000000</td>\n",
              "      <td>0.000000</td>\n",
              "      <td>0.000000</td>\n",
              "      <td>0.000000</td>\n",
              "    </tr>\n",
              "    <tr>\n",
              "      <th>25%</th>\n",
              "      <td>0.708934</td>\n",
              "      <td>0.268817</td>\n",
              "      <td>0.111111</td>\n",
              "      <td>0.259259</td>\n",
              "      <td>0.103960</td>\n",
              "      <td>0.067266</td>\n",
              "      <td>0.136364</td>\n",
              "      <td>0.170732</td>\n",
              "      <td>0.070491</td>\n",
              "      <td>0.063312</td>\n",
              "      <td>0.069433</td>\n",
              "      <td>0.024711</td>\n",
              "      <td>0.045135</td>\n",
              "      <td>0.013241</td>\n",
              "      <td>0.078657</td>\n",
              "    </tr>\n",
              "    <tr>\n",
              "      <th>50%</th>\n",
              "      <td>0.795389</td>\n",
              "      <td>0.344086</td>\n",
              "      <td>0.182540</td>\n",
              "      <td>0.296296</td>\n",
              "      <td>0.180693</td>\n",
              "      <td>0.106369</td>\n",
              "      <td>0.196970</td>\n",
              "      <td>0.243902</td>\n",
              "      <td>0.109018</td>\n",
              "      <td>0.084305</td>\n",
              "      <td>0.105036</td>\n",
              "      <td>0.053847</td>\n",
              "      <td>0.083501</td>\n",
              "      <td>0.026205</td>\n",
              "      <td>0.100333</td>\n",
              "    </tr>\n",
              "    <tr>\n",
              "      <th>75%</th>\n",
              "      <td>0.864553</td>\n",
              "      <td>0.419355</td>\n",
              "      <td>0.289683</td>\n",
              "      <td>0.395062</td>\n",
              "      <td>0.300743</td>\n",
              "      <td>0.174285</td>\n",
              "      <td>0.287879</td>\n",
              "      <td>0.317073</td>\n",
              "      <td>0.165525</td>\n",
              "      <td>0.136288</td>\n",
              "      <td>0.180872</td>\n",
              "      <td>0.154735</td>\n",
              "      <td>0.166249</td>\n",
              "      <td>0.051558</td>\n",
              "      <td>0.139335</td>\n",
              "    </tr>\n",
              "    <tr>\n",
              "      <th>max</th>\n",
              "      <td>1.000000</td>\n",
              "      <td>1.000000</td>\n",
              "      <td>1.000000</td>\n",
              "      <td>1.000000</td>\n",
              "      <td>1.000000</td>\n",
              "      <td>1.000000</td>\n",
              "      <td>1.000000</td>\n",
              "      <td>1.000000</td>\n",
              "      <td>1.000000</td>\n",
              "      <td>1.000000</td>\n",
              "      <td>1.000000</td>\n",
              "      <td>1.000000</td>\n",
              "      <td>1.000000</td>\n",
              "      <td>1.000000</td>\n",
              "      <td>1.000000</td>\n",
              "    </tr>\n",
              "  </tbody>\n",
              "</table>\n",
              "</div>"
            ],
            "text/plain": [
              "               pH          DO         TDS  ...    Sulphate   Phosphate         WPI\n",
              "count  487.000000  487.000000  487.000000  ...  487.000000  487.000000  487.000000\n",
              "mean     0.780771    0.348555    0.237112  ...    0.135017    0.050659    0.126569\n",
              "std      0.118506    0.119050    0.187635  ...    0.141233    0.088617    0.088208\n",
              "min      0.000000    0.000000    0.000000  ...    0.000000    0.000000    0.000000\n",
              "25%      0.708934    0.268817    0.111111  ...    0.045135    0.013241    0.078657\n",
              "50%      0.795389    0.344086    0.182540  ...    0.083501    0.026205    0.100333\n",
              "75%      0.864553    0.419355    0.289683  ...    0.166249    0.051558    0.139335\n",
              "max      1.000000    1.000000    1.000000  ...    1.000000    1.000000    1.000000\n",
              "\n",
              "[8 rows x 15 columns]"
            ]
          },
          "metadata": {
            "tags": []
          },
          "execution_count": 20
        }
      ]
    },
    {
      "cell_type": "markdown",
      "metadata": {
        "id": "J2hHIsJTmbHq"
      },
      "source": [
        "**Random Forest**\n",
        "\n",
        "Random forest is a model that uses multiple base models on subsets of the given data and makes\n",
        "decisions based on all the models. In random forest, the base model is a decision tree, carrying all the\n",
        "pros of a decision tree with the additional efficiency of using multiple models"
      ]
    },
    {
      "cell_type": "code",
      "metadata": {
        "id": "C4RrpEm-kEVa"
      },
      "source": [
        "# Using Skicit-learn to split data into training and testing sets\n",
        "from sklearn.model_selection import train_test_split\n",
        "# Split the data into training and testing sets\n",
        "train_x, test_x, train_y, test_y = train_test_split(x, y, test_size = 0.25, random_state = 42)"
      ],
      "execution_count": 21,
      "outputs": []
    },
    {
      "cell_type": "code",
      "metadata": {
        "colab": {
          "base_uri": "https://localhost:8080/"
        },
        "id": "rtqFpAdqkMhi",
        "outputId": "ecc5793c-466d-4fe6-f5fc-191c1997349e"
      },
      "source": [
        "print('Training X Shape:', train_x.shape)\n",
        "print('Training Y Shape:', train_y.shape)\n",
        "print('Testing X Shape:', test_x.shape)\n",
        "print('Testing Y Shape:', test_y.shape)"
      ],
      "execution_count": 22,
      "outputs": [
        {
          "output_type": "stream",
          "text": [
            "Training X Shape: (365, 14)\n",
            "Training Y Shape: (365,)\n",
            "Testing X Shape: (122, 14)\n",
            "Testing Y Shape: (122,)\n"
          ],
          "name": "stdout"
        }
      ]
    },
    {
      "cell_type": "code",
      "metadata": {
        "id": "DtLQagKIkv_L"
      },
      "source": [
        "# Import the model we are using\n",
        "from sklearn.ensemble import RandomForestRegressor\n",
        "# Instantiate model with 1000 decision trees\n",
        "rf = RandomForestRegressor(n_estimators = 1000, random_state = 42)\n",
        "# Train the model on training data\n",
        "rf.fit(train_x, train_y);"
      ],
      "execution_count": 23,
      "outputs": []
    },
    {
      "cell_type": "code",
      "metadata": {
        "colab": {
          "base_uri": "https://localhost:8080/"
        },
        "id": "QyBizHSblMQu",
        "outputId": "4e97e05f-dfd1-4f3e-ab41-d534acb8f8f9"
      },
      "source": [
        "# Use the forest's predict method on the test data\n",
        "predictions = rf.predict(test_x)\n",
        "# Calculate the absolute errors\n",
        "errors = abs(predictions - test_y)\n",
        "# Print out the mean absolute error (mae)\n",
        "print('Mean Absolute Error:', round(np.mean(errors), 2), 'degrees.')"
      ],
      "execution_count": 24,
      "outputs": [
        {
          "output_type": "stream",
          "text": [
            "Mean Absolute Error: 0.01 degrees.\n"
          ],
          "name": "stdout"
        }
      ]
    },
    {
      "cell_type": "code",
      "metadata": {
        "colab": {
          "base_uri": "https://localhost:8080/"
        },
        "id": "BjWZHWG-lY2_",
        "outputId": "17e38eb3-cbec-44cf-96a6-c10f3812da96"
      },
      "source": [
        "# Calculate mean absolute percentage error (MAPE)\n",
        "mape = 100 * (errors / test_y)\n",
        "# Calculate and display accuracy\n",
        "accuracy = 100 - np.mean(mape)\n",
        "print('Accuracy:', round(accuracy, 2), '%.')"
      ],
      "execution_count": 25,
      "outputs": [
        {
          "output_type": "stream",
          "text": [
            "Accuracy: 90.99 %.\n"
          ],
          "name": "stdout"
        }
      ]
    },
    {
      "cell_type": "code",
      "metadata": {
        "id": "QBDe9Q-tnsrh"
      },
      "source": [
        "# Labels are the values we want to predict\n",
        "labels = np.array(normalized_df['WPI'])\n",
        "# Remove the labels from the features\n",
        "# axis 1 refers to the columns\n",
        "features= normalized_df.drop('WPI', axis = 1)\n",
        "# Saving feature names for later use\n",
        "feature_list = list(features.columns)\n",
        "# Convert to numpy array\n",
        "features = np.array(features)"
      ],
      "execution_count": 26,
      "outputs": []
    },
    {
      "cell_type": "code",
      "metadata": {
        "id": "ZAzQpgi6nGLz"
      },
      "source": [
        "# Import tools needed for visualization\n",
        "from sklearn.tree import export_graphviz\n",
        "import pydot\n",
        "# Pull out one tree from the forest\n",
        "tree = rf.estimators_[5]\n",
        "# Import tools needed for visualization\n",
        "from sklearn.tree import export_graphviz\n",
        "import pydot\n",
        "# Pull out one tree from the forest\n",
        "tree = rf.estimators_[5]\n",
        "# Export the image to a dot file\n",
        "export_graphviz(tree, out_file = 'tree.dot', feature_names = feature_list, rounded = True, precision = 1)\n",
        "# Use dot file to create a graph\n",
        "(graph, ) = pydot.graph_from_dot_file('tree.dot')\n",
        "# Write graph to a png file\n",
        "graph.write_png('tree.png')"
      ],
      "execution_count": 27,
      "outputs": []
    },
    {
      "cell_type": "code",
      "metadata": {
        "id": "LmsBDr2Tom0y"
      },
      "source": [
        "# Limit depth of tree to 3 levels\n",
        "rf_small = RandomForestRegressor(n_estimators=10, max_depth = 3)\n",
        "rf_small.fit(train_x, train_y)\n",
        "# Extract the small tree\n",
        "tree_small = rf_small.estimators_[5]\n",
        "# Save the tree as a png image\n",
        "export_graphviz(tree_small, out_file = 'small_tree.dot', feature_names = feature_list, rounded = True, precision = 1)\n",
        "(graph, ) = pydot.graph_from_dot_file('small_tree.dot')\n",
        "graph.write_png('small_tree.png');"
      ],
      "execution_count": 28,
      "outputs": []
    },
    {
      "cell_type": "code",
      "metadata": {
        "colab": {
          "base_uri": "https://localhost:8080/"
        },
        "id": "Oi-sBw8mpiw1",
        "outputId": "7defe670-e1b7-438f-b282-1309c0bd75c0"
      },
      "source": [
        "# Get numerical feature importances\n",
        "importances = list(rf.feature_importances_)\n",
        "# List of tuples with variable and importance\n",
        "feature_importances = [(feature, round(importance, 2)) for feature, importance in zip(feature_list, importances)]\n",
        "# Sort the feature importances by most important first\n",
        "feature_importances = sorted(feature_importances, key = lambda x: x[1], reverse = True)\n",
        "# Print out the feature and importances \n",
        "[print('Variable: {:20} Importance: {}'.format(*pair)) for pair in feature_importances];"
      ],
      "execution_count": 29,
      "outputs": [
        {
          "output_type": "stream",
          "text": [
            "Variable: Phosphate            Importance: 0.67\n",
            "Variable: TDS                  Importance: 0.11\n",
            "Variable: F                    Importance: 0.06\n",
            "Variable: EC                   Importance: 0.04\n",
            "Variable: DO                   Importance: 0.03\n",
            "Variable: Ca                   Importance: 0.02\n",
            "Variable: pH                   Importance: 0.01\n",
            "Variable: Na                   Importance: 0.01\n",
            "Variable: K                    Importance: 0.01\n",
            "Variable: Cl                   Importance: 0.01\n",
            "Variable: Nitrate              Importance: 0.01\n",
            "Variable: Sulphate             Importance: 0.01\n",
            "Variable: Alkalinity           Importance: 0.0\n",
            "Variable: Mg                   Importance: 0.0\n"
          ],
          "name": "stdout"
        }
      ]
    },
    {
      "cell_type": "code",
      "metadata": {
        "colab": {
          "base_uri": "https://localhost:8080/",
          "height": 384
        },
        "id": "iYfT-i7GqWa_",
        "outputId": "52832c2f-c5d4-4041-f619-04990ef6833e"
      },
      "source": [
        "# Import matplotlib for plotting and use magic command for Jupyter Notebooks\n",
        "import matplotlib.pyplot as plt\n",
        "%matplotlib inline\n",
        "# Set the style\n",
        "plt.style.use('fivethirtyeight')\n",
        "# list of x locations for plotting\n",
        "x_values = list(range(len(importances)))\n",
        "# Make a bar chart\n",
        "plt.bar(x_values, importances, orientation = 'vertical')\n",
        "# Tick labels for x axis\n",
        "plt.xticks(x_values, feature_list, rotation='vertical')\n",
        "# Axis labels and title\n",
        "plt.ylabel('Importance'); plt.xlabel('Variable'); plt.title('Variable Importances');\n"
      ],
      "execution_count": 30,
      "outputs": [
        {
          "output_type": "display_data",
          "data": {
            "image/png": "[encoded data removed]",
            "text/plain": [
              "<Figure size 432x288 with 1 Axes>"
            ]
          },
          "metadata": {
            "tags": []
          }
        }
      ]
    },
    {
      "cell_type": "markdown",
      "metadata": {
        "id": "J5Wj48Hp_7cP"
      },
      "source": [
        "**gradient boosting algorithm**-This is the most contemporary algorithm used in most competitions. It uses an additive model\n",
        "that allows for optimization of differentiable loss function. "
      ]
    },
    {
      "cell_type": "code",
      "metadata": {
        "id": "nQ1Yln_SsD-P"
      },
      "source": [
        "from sklearn.ensemble import GradientBoostingRegressor\n",
        "import numpy as np\n",
        "import pandas as pd\n",
        "from sklearn.model_selection import train_test_split\n",
        "from sklearn.metrics import mean_squared_error\n",
        "from sklearn.metrics import mean_absolute_error"
      ],
      "execution_count": 31,
      "outputs": []
    },
    {
      "cell_type": "code",
      "metadata": {
        "id": "P8M9pkJf__aO"
      },
      "source": [
        "x_train, x_test, y_train, y_test = train_test_split(x, y)"
      ],
      "execution_count": 32,
      "outputs": []
    },
    {
      "cell_type": "code",
      "metadata": {
        "colab": {
          "base_uri": "https://localhost:8080/"
        },
        "id": "9tyhn-DsAfG6",
        "outputId": "9912d27f-0274-4850-8c20-26c26c1660a2"
      },
      "source": [
        "regressor = GradientBoostingRegressor(\n",
        "    max_depth=2,\n",
        "    n_estimators=3,\n",
        "    learning_rate=1.0\n",
        ")\n",
        "regressor.fit(x_train, y_train)"
      ],
      "execution_count": 33,
      "outputs": [
        {
          "output_type": "execute_result",
          "data": {
            "text/plain": [
              "GradientBoostingRegressor(alpha=0.9, ccp_alpha=0.0, criterion='friedman_mse',\n",
              "                          init=None, learning_rate=1.0, loss='ls', max_depth=2,\n",
              "                          max_features=None, max_leaf_nodes=None,\n",
              "                          min_impurity_decrease=0.0, min_impurity_split=None,\n",
              "                          min_samples_leaf=1, min_samples_split=2,\n",
              "                          min_weight_fraction_leaf=0.0, n_estimators=3,\n",
              "                          n_iter_no_change=None, presort='deprecated',\n",
              "                          random_state=None, subsample=1.0, tol=0.0001,\n",
              "                          validation_fraction=0.1, verbose=0, warm_start=False)"
            ]
          },
          "metadata": {
            "tags": []
          },
          "execution_count": 33
        }
      ]
    },
    {
      "cell_type": "code",
      "metadata": {
        "id": "_7V4kKAVAhxq"
      },
      "source": [
        "errors = [mean_squared_error(y_test, y_pred) for y_pred in regressor.staged_predict(x_test)]\n",
        "best_n_estimators = np.argmin(errors)"
      ],
      "execution_count": 34,
      "outputs": []
    },
    {
      "cell_type": "code",
      "metadata": {
        "colab": {
          "base_uri": "https://localhost:8080/"
        },
        "id": "4CxhSAbUA7hy",
        "outputId": "7a9ea60f-b776-4f42-ef83-05ec94cee58f"
      },
      "source": [
        "best_regressor = GradientBoostingRegressor(\n",
        "    max_depth=2,\n",
        "    n_estimators=best_n_estimators,\n",
        "    learning_rate=1.0\n",
        ")\n",
        "best_regressor.fit(x_train, y_train)"
      ],
      "execution_count": 35,
      "outputs": [
        {
          "output_type": "execute_result",
          "data": {
            "text/plain": [
              "GradientBoostingRegressor(alpha=0.9, ccp_alpha=0.0, criterion='friedman_mse',\n",
              "                          init=None, learning_rate=1.0, loss='ls', max_depth=2,\n",
              "                          max_features=None, max_leaf_nodes=None,\n",
              "                          min_impurity_decrease=0.0, min_impurity_split=None,\n",
              "                          min_samples_leaf=1, min_samples_split=2,\n",
              "                          min_weight_fraction_leaf=0.0, n_estimators=2,\n",
              "                          n_iter_no_change=None, presort='deprecated',\n",
              "                          random_state=None, subsample=1.0, tol=0.0001,\n",
              "                          validation_fraction=0.1, verbose=0, warm_start=False)"
            ]
          },
          "metadata": {
            "tags": []
          },
          "execution_count": 35
        }
      ]
    },
    {
      "cell_type": "code",
      "metadata": {
        "colab": {
          "base_uri": "https://localhost:8080/"
        },
        "id": "eC82bCv9BHPN",
        "outputId": "1f19a94c-2544-4685-97cc-5e5a057bb5f8"
      },
      "source": [
        "y_pred = best_regressor.predict(x_test)\n",
        "mean_absolute_error(y_test, y_pred)"
      ],
      "execution_count": 36,
      "outputs": [
        {
          "output_type": "execute_result",
          "data": {
            "text/plain": [
              "0.021723651552345576"
            ]
          },
          "metadata": {
            "tags": []
          },
          "execution_count": 36
        }
      ]
    },
    {
      "cell_type": "markdown",
      "metadata": {
        "id": "L8OFQkRmJxyY"
      },
      "source": [
        "**Ridge Regression**\n",
        "Ridge regression works on the same principles as linear regression, it just adds a certain bias to\n",
        "negate the effect of large variances and to void the requirement of unbiased estimators. It penalizes the\n",
        "coefficients that are far from zero and minimizes the sum of squared residuals"
      ]
    },
    {
      "cell_type": "code",
      "metadata": {
        "id": "EyoQeC4JHSfz"
      },
      "source": [
        "%matplotlib inline\n",
        "\n",
        "from sklearn.preprocessing import scale \n",
        "from sklearn.model_selection import train_test_split\n",
        "from sklearn.linear_model import Ridge, RidgeCV, Lasso, LassoCV\n",
        "from sklearn.metrics import mean_squared_error"
      ],
      "execution_count": 37,
      "outputs": []
    },
    {
      "cell_type": "code",
      "metadata": {
        "colab": {
          "base_uri": "https://localhost:8080/"
        },
        "id": "nf3cHLqAH3ZA",
        "outputId": "dea60cda-b5a9-4c38-c2b8-85ce6dfdcaa1"
      },
      "source": [
        "alphas = 10**np.linspace(10,-2,100)*0.5\n",
        "alphas"
      ],
      "execution_count": 38,
      "outputs": [
        {
          "output_type": "execute_result",
          "data": {
            "text/plain": [
              "array([5.00000000e+09, 3.78231664e+09, 2.86118383e+09, 2.16438064e+09,\n",
              "       1.63727458e+09, 1.23853818e+09, 9.36908711e+08, 7.08737081e+08,\n",
              "       5.36133611e+08, 4.05565415e+08, 3.06795364e+08, 2.32079442e+08,\n",
              "       1.75559587e+08, 1.32804389e+08, 1.00461650e+08, 7.59955541e+07,\n",
              "       5.74878498e+07, 4.34874501e+07, 3.28966612e+07, 2.48851178e+07,\n",
              "       1.88246790e+07, 1.42401793e+07, 1.07721735e+07, 8.14875417e+06,\n",
              "       6.16423370e+06, 4.66301673e+06, 3.52740116e+06, 2.66834962e+06,\n",
              "       2.01850863e+06, 1.52692775e+06, 1.15506485e+06, 8.73764200e+05,\n",
              "       6.60970574e+05, 5.00000000e+05, 3.78231664e+05, 2.86118383e+05,\n",
              "       2.16438064e+05, 1.63727458e+05, 1.23853818e+05, 9.36908711e+04,\n",
              "       7.08737081e+04, 5.36133611e+04, 4.05565415e+04, 3.06795364e+04,\n",
              "       2.32079442e+04, 1.75559587e+04, 1.32804389e+04, 1.00461650e+04,\n",
              "       7.59955541e+03, 5.74878498e+03, 4.34874501e+03, 3.28966612e+03,\n",
              "       2.48851178e+03, 1.88246790e+03, 1.42401793e+03, 1.07721735e+03,\n",
              "       8.14875417e+02, 6.16423370e+02, 4.66301673e+02, 3.52740116e+02,\n",
              "       2.66834962e+02, 2.01850863e+02, 1.52692775e+02, 1.15506485e+02,\n",
              "       8.73764200e+01, 6.60970574e+01, 5.00000000e+01, 3.78231664e+01,\n",
              "       2.86118383e+01, 2.16438064e+01, 1.63727458e+01, 1.23853818e+01,\n",
              "       9.36908711e+00, 7.08737081e+00, 5.36133611e+00, 4.05565415e+00,\n",
              "       3.06795364e+00, 2.32079442e+00, 1.75559587e+00, 1.32804389e+00,\n",
              "       1.00461650e+00, 7.59955541e-01, 5.74878498e-01, 4.34874501e-01,\n",
              "       3.28966612e-01, 2.48851178e-01, 1.88246790e-01, 1.42401793e-01,\n",
              "       1.07721735e-01, 8.14875417e-02, 6.16423370e-02, 4.66301673e-02,\n",
              "       3.52740116e-02, 2.66834962e-02, 2.01850863e-02, 1.52692775e-02,\n",
              "       1.15506485e-02, 8.73764200e-03, 6.60970574e-03, 5.00000000e-03])"
            ]
          },
          "metadata": {
            "tags": []
          },
          "execution_count": 38
        }
      ]
    },
    {
      "cell_type": "code",
      "metadata": {
        "colab": {
          "base_uri": "https://localhost:8080/"
        },
        "id": "QWZHO2aTH9my",
        "outputId": "e647140a-f727-4cfb-f4b0-780d4ceb5547"
      },
      "source": [
        "ridge = Ridge(normalize = True)\n",
        "coefs = []\n",
        "\n",
        "for a in alphas:\n",
        "    ridge.set_params(alpha = a)\n",
        "    ridge.fit(x, y)\n",
        "    coefs.append(ridge.coef_)\n",
        "    \n",
        "np.shape(coefs)"
      ],
      "execution_count": 39,
      "outputs": [
        {
          "output_type": "execute_result",
          "data": {
            "text/plain": [
              "(100, 14)"
            ]
          },
          "metadata": {
            "tags": []
          },
          "execution_count": 39
        }
      ]
    },
    {
      "cell_type": "code",
      "metadata": {
        "colab": {
          "base_uri": "https://localhost:8080/",
          "height": 300
        },
        "id": "_RpIpNy-IXMo",
        "outputId": "d8ce238f-bcc4-4471-960a-5a212b80bcb6"
      },
      "source": [
        "ax = plt.gca()\n",
        "ax.plot(alphas, coefs)\n",
        "ax.set_xscale('log')\n",
        "plt.axis('tight')\n",
        "plt.xlabel('alpha')\n",
        "plt.ylabel('weights')"
      ],
      "execution_count": 40,
      "outputs": [
        {
          "output_type": "execute_result",
          "data": {
            "text/plain": [
              "Text(0, 0.5, 'weights')"
            ]
          },
          "metadata": {
            "tags": []
          },
          "execution_count": 40
        },
        {
          "output_type": "display_data",
          "data": {
            "image/png": "[encoded data removed]",
            "text/plain": [
              "<Figure size 432x288 with 1 Axes>"
            ]
          },
          "metadata": {
            "tags": [],
            "needs_background": "light"
          }
        }
      ]
    },
    {
      "cell_type": "code",
      "metadata": {
        "id": "-LvWtC_lIe0H"
      },
      "source": [
        "# Split data into training and test sets\n",
        "x_train, x_test , y_train, y_test = train_test_split(x, y, test_size=0.5, random_state=1)"
      ],
      "execution_count": 41,
      "outputs": []
    },
    {
      "cell_type": "code",
      "metadata": {
        "colab": {
          "base_uri": "https://localhost:8080/"
        },
        "id": "evy3nIUWIpW1",
        "outputId": "ac9d324d-6b1e-4785-998f-177985c14e19"
      },
      "source": [
        "ridge2 = Ridge(alpha = 4, normalize = True)\n",
        "ridge2.fit(x_train, y_train)             # Fit a ridge regression on the training data\n",
        "pred2 = ridge2.predict(x_test)           # Use this model to predict the test data\n",
        "print(pd.Series(ridge2.coef_, index = x.columns)) # Print coefficients\n",
        "print(mean_squared_error(y_test, pred2))          # Calculate the test MSE"
      ],
      "execution_count": 42,
      "outputs": [
        {
          "output_type": "stream",
          "text": [
            "pH            0.020044\n",
            "DO            0.004127\n",
            "TDS           0.020409\n",
            "Alkalinity    0.016237\n",
            "EC            0.019295\n",
            "Na            0.029886\n",
            "Ca            0.030167\n",
            "Mg            0.012318\n",
            "K             0.018481\n",
            "F             0.031378\n",
            "Cl            0.026106\n",
            "Nitrate       0.016791\n",
            "Sulphate      0.022889\n",
            "Phosphate     0.169060\n",
            "dtype: float64\n",
            "0.00289696425193333\n"
          ],
          "name": "stdout"
        }
      ]
    },
    {
      "cell_type": "code",
      "metadata": {
        "colab": {
          "base_uri": "https://localhost:8080/"
        },
        "id": "97B66YNLIw62",
        "outputId": "610e481e-13e5-4984-d332-4874925868bc"
      },
      "source": [
        "ridge3 = Ridge(alpha = 10**10, normalize = True)\n",
        "ridge3.fit(x_train, y_train)             # Fit a ridge regression on the training data\n",
        "pred3 = ridge3.predict(x_test)           # Use this model to predict the test data\n",
        "print(pd.Series(ridge3.coef_, index = x.columns)) # Print coefficients\n",
        "print(mean_squared_error(y_test, pred3))          # Calculate the test MSE"
      ],
      "execution_count": 43,
      "outputs": [
        {
          "output_type": "stream",
          "text": [
            "pH            1.611172e-12\n",
            "DO           -4.610804e-13\n",
            "TDS           2.485485e-11\n",
            "Alkalinity    1.991443e-11\n",
            "EC            2.298095e-11\n",
            "Na            3.607121e-11\n",
            "Ca            3.312693e-11\n",
            "Mg            2.045203e-11\n",
            "K             2.648586e-11\n",
            "F             2.905440e-11\n",
            "Cl            3.274911e-11\n",
            "Nitrate       1.884097e-11\n",
            "Sulphate      2.812232e-11\n",
            "Phosphate     8.873547e-11\n",
            "dtype: float64\n",
            "0.006140676742544274\n"
          ],
          "name": "stdout"
        }
      ]
    },
    {
      "cell_type": "code",
      "metadata": {
        "colab": {
          "base_uri": "https://localhost:8080/"
        },
        "id": "lgEgUCiBJI83",
        "outputId": "9ee92423-1fd8-496a-ad90-7ec15a3bd889"
      },
      "source": [
        "ridge2 = Ridge(alpha = 0, normalize = True)\n",
        "ridge2.fit(x_train, y_train)             # Fit a ridge regression on the training data\n",
        "pred = ridge2.predict(x_test)            # Use this model to predict the test data\n",
        "print(pd.Series(ridge2.coef_, index = x.columns)) # Print coefficients\n",
        "print(mean_squared_error(y_test, pred))           # Calculate the test MSE"
      ],
      "execution_count": 44,
      "outputs": [
        {
          "output_type": "stream",
          "text": [
            "pH            1.100968e-01\n",
            "DO           -4.610503e-02\n",
            "TDS           2.398651e-02\n",
            "Alkalinity    3.854976e-02\n",
            "EC            2.403411e-02\n",
            "Na            1.098430e-02\n",
            "Ca            8.376243e-02\n",
            "Mg           -4.043862e-16\n",
            "K             8.338169e-03\n",
            "F             9.521631e-02\n",
            "Cl            1.323066e-02\n",
            "Nitrate       1.027252e-02\n",
            "Sulphate      1.973900e-02\n",
            "Phosphate     8.400039e-01\n",
            "dtype: float64\n",
            "4.0864277169150655e-06\n"
          ],
          "name": "stdout"
        }
      ]
    },
    {
      "cell_type": "code",
      "metadata": {
        "colab": {
          "base_uri": "https://localhost:8080/"
        },
        "id": "jmntcrTcJVpH",
        "outputId": "2a67188a-71fa-4513-e69d-535daa4f516b"
      },
      "source": [
        "ridgecv = RidgeCV(alphas = alphas, scoring = 'neg_mean_squared_error', normalize = True)\n",
        "ridgecv.fit(x_train, y_train)\n",
        "ridgecv.alpha_"
      ],
      "execution_count": 45,
      "outputs": [
        {
          "output_type": "execute_result",
          "data": {
            "text/plain": [
              "0.005"
            ]
          },
          "metadata": {
            "tags": []
          },
          "execution_count": 45
        }
      ]
    },
    {
      "cell_type": "code",
      "metadata": {
        "colab": {
          "base_uri": "https://localhost:8080/"
        },
        "id": "PTS8_UplJeVZ",
        "outputId": "e0c4b1f3-4b78-4336-fc25-a05162f4637e"
      },
      "source": [
        "ridge4 = Ridge(alpha = ridgecv.alpha_, normalize = True)\n",
        "ridge4.fit(x_train, y_train)\n",
        "mean_squared_error(y_test, ridge4.predict(x_test))"
      ],
      "execution_count": 46,
      "outputs": [
        {
          "output_type": "execute_result",
          "data": {
            "text/plain": [
              "4.2837753424207646e-06"
            ]
          },
          "metadata": {
            "tags": []
          },
          "execution_count": 46
        }
      ]
    },
    {
      "cell_type": "code",
      "metadata": {
        "colab": {
          "base_uri": "https://localhost:8080/"
        },
        "id": "o5GcENg_Jm35",
        "outputId": "b2856cfb-4c3f-495b-a786-84d096714864"
      },
      "source": [
        "ridge4.fit(x, y)\n",
        "pd.Series(ridge4.coef_, index = x.columns)"
      ],
      "execution_count": 47,
      "outputs": [
        {
          "output_type": "execute_result",
          "data": {
            "text/plain": [
              "pH            0.109291\n",
              "DO           -0.046243\n",
              "TDS           0.026055\n",
              "Alkalinity    0.037005\n",
              "EC            0.024074\n",
              "Na            0.012509\n",
              "Ca            0.083817\n",
              "Mg            0.001150\n",
              "K             0.008612\n",
              "F             0.093613\n",
              "Cl            0.010671\n",
              "Nitrate       0.010738\n",
              "Sulphate      0.018867\n",
              "Phosphate     0.835987\n",
              "dtype: float64"
            ]
          },
          "metadata": {
            "tags": []
          },
          "execution_count": 47
        }
      ]
    },
    {
      "cell_type": "markdown",
      "metadata": {
        "id": "MTGxzRhSKW2-"
      },
      "source": [
        "**Lasso Regression**\n",
        "Lasso regression works on the same principles as ridge regression, the only difference is how they\n",
        "penalize their coefficients that are off. Lasso penalizes the sum of absolute errors instead of the sum of\n",
        "squared coefficients"
      ]
    },
    {
      "cell_type": "code",
      "metadata": {
        "colab": {
          "base_uri": "https://localhost:8080/",
          "height": 300
        },
        "id": "eOXzVr3CJq70",
        "outputId": "69d8fca9-7b8d-48ff-e653-85780b06f4ea"
      },
      "source": [
        "lasso = Lasso(max_iter = 10000, normalize = True)\n",
        "coefs = []\n",
        "\n",
        "for a in alphas:\n",
        "    lasso.set_params(alpha=a)\n",
        "    lasso.fit(scale(x_train), y_train)\n",
        "    coefs.append(lasso.coef_)\n",
        "    \n",
        "ax = plt.gca()\n",
        "ax.plot(alphas*2, coefs)\n",
        "ax.set_xscale('log')\n",
        "plt.axis('tight')\n",
        "plt.xlabel('alpha')\n",
        "plt.ylabel('weights')"
      ],
      "execution_count": 48,
      "outputs": [
        {
          "output_type": "execute_result",
          "data": {
            "text/plain": [
              "Text(0, 0.5, 'weights')"
            ]
          },
          "metadata": {
            "tags": []
          },
          "execution_count": 48
        },
        {
          "output_type": "display_data",
          "data": {
            "image/png": "[encoded data removed]",
            "text/plain": [
              "<Figure size 432x288 with 1 Axes>"
            ]
          },
          "metadata": {
            "tags": [],
            "needs_background": "light"
          }
        }
      ]
    },
    {
      "cell_type": "code",
      "metadata": {
        "colab": {
          "base_uri": "https://localhost:8080/"
        },
        "id": "VM-6e_ZNKBxC",
        "outputId": "1fe4e00d-038f-4beb-b9cf-8f846af2d36c"
      },
      "source": [
        "lassocv = LassoCV(alphas = None, cv = 10, max_iter = 100000, normalize = True)\n",
        "lassocv.fit(x_train, y_train)\n",
        "\n",
        "lasso.set_params(alpha=lassocv.alpha_)\n",
        "lasso.fit(x_train, y_train)\n",
        "mean_squared_error(y_test, lasso.predict(x_test))"
      ],
      "execution_count": 49,
      "outputs": [
        {
          "output_type": "execute_result",
          "data": {
            "text/plain": [
              "4.14819650430147e-06"
            ]
          },
          "metadata": {
            "tags": []
          },
          "execution_count": 49
        }
      ]
    },
    {
      "cell_type": "code",
      "metadata": {
        "colab": {
          "base_uri": "https://localhost:8080/"
        },
        "id": "MHBBhdXuKIee",
        "outputId": "88111a89-c90c-41f6-f666-1585f537d67c"
      },
      "source": [
        "# Some of the coefficients are now reduced to exactly zero.\n",
        "pd.Series(lasso.coef_, index=x.columns)\n"
      ],
      "execution_count": 50,
      "outputs": [
        {
          "output_type": "execute_result",
          "data": {
            "text/plain": [
              "pH            0.108499\n",
              "DO           -0.045287\n",
              "TDS           0.029189\n",
              "Alkalinity    0.036061\n",
              "EC            0.022907\n",
              "Na            0.009431\n",
              "Ca            0.083777\n",
              "Mg            0.000000\n",
              "K             0.008013\n",
              "F             0.095434\n",
              "Cl            0.012346\n",
              "Nitrate       0.009518\n",
              "Sulphate      0.017014\n",
              "Phosphate     0.839281\n",
              "dtype: float64"
            ]
          },
          "metadata": {
            "tags": []
          },
          "execution_count": 50
        }
      ]
    },
    {
      "cell_type": "markdown",
      "metadata": {
        "id": "Muwicf0ALEfP"
      },
      "source": [
        "**Elastic net regression** combines the best of both ridge and lasso regression. It combines the method\n",
        "of penalties of both methods and minimizes the loss function"
      ]
    },
    {
      "cell_type": "code",
      "metadata": {
        "colab": {
          "base_uri": "https://localhost:8080/",
          "height": 500
        },
        "id": "1SIha1hgKObQ",
        "outputId": "cd870708-6d84-45d1-88b9-c54f25a1421a"
      },
      "source": [
        "# import model\n",
        "from sklearn.linear_model import ElasticNet\n",
        " \n",
        "# Train the model\n",
        "e_net = ElasticNet(alpha = 1)\n",
        "e_net.fit(x_train, y_train)\n",
        " \n",
        "# calculate the prediction and mean square error\n",
        "y_pred_elastic = e_net.predict(x_test)\n",
        "mean_squared_error = np.mean((y_pred_elastic - y_test)**2)\n",
        "print(\"Mean Squared Error on test set\", mean_squared_error)\n",
        " \n",
        "e_net_coeff = pd.DataFrame()\n",
        "e_net_coeff[\"Columns\"] = x_train.columns\n",
        "e_net_coeff['Coefficient Estimate'] = pd.Series(e_net.coef_)\n",
        "e_net_coeff"
      ],
      "execution_count": 51,
      "outputs": [
        {
          "output_type": "stream",
          "text": [
            "Mean Squared Error on test set 0.006140676746608994\n"
          ],
          "name": "stdout"
        },
        {
          "output_type": "execute_result",
          "data": {
            "text/html": [
              "<div>\n",
              "<style scoped>\n",
              "    .dataframe tbody tr th:only-of-type {\n",
              "        vertical-align: middle;\n",
              "    }\n",
              "\n",
              "    .dataframe tbody tr th {\n",
              "        vertical-align: top;\n",
              "    }\n",
              "\n",
              "    .dataframe thead th {\n",
              "        text-align: right;\n",
              "    }\n",
              "</style>\n",
              "<table border=\"1\" class=\"dataframe\">\n",
              "  <thead>\n",
              "    <tr style=\"text-align: right;\">\n",
              "      <th></th>\n",
              "      <th>Columns</th>\n",
              "      <th>Coefficient Estimate</th>\n",
              "    </tr>\n",
              "  </thead>\n",
              "  <tbody>\n",
              "    <tr>\n",
              "      <th>0</th>\n",
              "      <td>pH</td>\n",
              "      <td>0.0</td>\n",
              "    </tr>\n",
              "    <tr>\n",
              "      <th>1</th>\n",
              "      <td>DO</td>\n",
              "      <td>-0.0</td>\n",
              "    </tr>\n",
              "    <tr>\n",
              "      <th>2</th>\n",
              "      <td>TDS</td>\n",
              "      <td>0.0</td>\n",
              "    </tr>\n",
              "    <tr>\n",
              "      <th>3</th>\n",
              "      <td>Alkalinity</td>\n",
              "      <td>0.0</td>\n",
              "    </tr>\n",
              "    <tr>\n",
              "      <th>4</th>\n",
              "      <td>EC</td>\n",
              "      <td>0.0</td>\n",
              "    </tr>\n",
              "    <tr>\n",
              "      <th>5</th>\n",
              "      <td>Na</td>\n",
              "      <td>0.0</td>\n",
              "    </tr>\n",
              "    <tr>\n",
              "      <th>6</th>\n",
              "      <td>Ca</td>\n",
              "      <td>0.0</td>\n",
              "    </tr>\n",
              "    <tr>\n",
              "      <th>7</th>\n",
              "      <td>Mg</td>\n",
              "      <td>0.0</td>\n",
              "    </tr>\n",
              "    <tr>\n",
              "      <th>8</th>\n",
              "      <td>K</td>\n",
              "      <td>0.0</td>\n",
              "    </tr>\n",
              "    <tr>\n",
              "      <th>9</th>\n",
              "      <td>F</td>\n",
              "      <td>0.0</td>\n",
              "    </tr>\n",
              "    <tr>\n",
              "      <th>10</th>\n",
              "      <td>Cl</td>\n",
              "      <td>0.0</td>\n",
              "    </tr>\n",
              "    <tr>\n",
              "      <th>11</th>\n",
              "      <td>Nitrate</td>\n",
              "      <td>0.0</td>\n",
              "    </tr>\n",
              "    <tr>\n",
              "      <th>12</th>\n",
              "      <td>Sulphate</td>\n",
              "      <td>0.0</td>\n",
              "    </tr>\n",
              "    <tr>\n",
              "      <th>13</th>\n",
              "      <td>Phosphate</td>\n",
              "      <td>0.0</td>\n",
              "    </tr>\n",
              "  </tbody>\n",
              "</table>\n",
              "</div>"
            ],
            "text/plain": [
              "       Columns  Coefficient Estimate\n",
              "0           pH                   0.0\n",
              "1           DO                  -0.0\n",
              "2          TDS                   0.0\n",
              "3   Alkalinity                   0.0\n",
              "4           EC                   0.0\n",
              "5           Na                   0.0\n",
              "6           Ca                   0.0\n",
              "7           Mg                   0.0\n",
              "8            K                   0.0\n",
              "9            F                   0.0\n",
              "10          Cl                   0.0\n",
              "11     Nitrate                   0.0\n",
              "12    Sulphate                   0.0\n",
              "13   Phosphate                   0.0"
            ]
          },
          "metadata": {
            "tags": []
          },
          "execution_count": 51
        }
      ]
    },
    {
      "cell_type": "code",
      "metadata": {
        "id": "LZRCFrYqP9Xh"
      },
      "source": [
        "import numpy as np\n",
        "import matplotlib.pyplot as plt\n",
        "from sklearn.naive_bayes import GaussianNB\n",
        "import seaborn as sns\n",
        "sns.set(style='whitegrid')"
      ],
      "execution_count": 52,
      "outputs": []
    },
    {
      "cell_type": "code",
      "metadata": {
        "colab": {
          "base_uri": "https://localhost:8080/"
        },
        "id": "-NmFumfKkcvc",
        "outputId": "9f1fb246-4df1-4eb6-beea-5bfb7c70387f"
      },
      "source": [
        " from scipy.stats import shapiro\n",
        "\n",
        " for i in range(0,15):\n",
        "      stat,p = shapiro(df[df.columns[i]])\n",
        "      print(df.columns[i], 'Test-Statistic=%.3f, p-value=%.3f' % (stat, p));\n",
        "      alpha = 0.05\n",
        "      if p > alpha:\n",
        "          print(df.columns[i], 'looks Gaussian (fail to reject H0)')\n",
        "          print('---------------------------------------')\n",
        "      else:\n",
        "          print(df.columns[i],'does not look Gaussian (reject H0)')\n",
        "          print('---------------------------------------')"
      ],
      "execution_count": 53,
      "outputs": [
        {
          "output_type": "stream",
          "text": [
            "pH Test-Statistic=0.940, p-value=0.000\n",
            "pH does not look Gaussian (reject H0)\n",
            "---------------------------------------\n",
            "DO Test-Statistic=0.968, p-value=0.000\n",
            "DO does not look Gaussian (reject H0)\n",
            "---------------------------------------\n",
            "TDS Test-Statistic=0.820, p-value=0.000\n",
            "TDS does not look Gaussian (reject H0)\n",
            "---------------------------------------\n",
            "Alkalinity Test-Statistic=0.900, p-value=0.000\n",
            "Alkalinity does not look Gaussian (reject H0)\n",
            "---------------------------------------\n",
            "EC Test-Statistic=0.829, p-value=0.000\n",
            "EC does not look Gaussian (reject H0)\n",
            "---------------------------------------\n",
            "Na Test-Statistic=0.762, p-value=0.000\n",
            "Na does not look Gaussian (reject H0)\n",
            "---------------------------------------\n",
            "Ca Test-Statistic=0.864, p-value=0.000\n",
            "Ca does not look Gaussian (reject H0)\n",
            "---------------------------------------\n",
            "Mg Test-Statistic=0.872, p-value=0.000\n",
            "Mg does not look Gaussian (reject H0)\n",
            "---------------------------------------\n",
            "K Test-Statistic=0.708, p-value=0.000\n",
            "K does not look Gaussian (reject H0)\n",
            "---------------------------------------\n",
            "F Test-Statistic=0.651, p-value=0.000\n",
            "F does not look Gaussian (reject H0)\n",
            "---------------------------------------\n",
            "Cl Test-Statistic=0.744, p-value=0.000\n",
            "Cl does not look Gaussian (reject H0)\n",
            "---------------------------------------\n",
            "Nitrate Test-Statistic=0.654, p-value=0.000\n",
            "Nitrate does not look Gaussian (reject H0)\n",
            "---------------------------------------\n",
            "Sulphate Test-Statistic=0.747, p-value=0.000\n",
            "Sulphate does not look Gaussian (reject H0)\n",
            "---------------------------------------\n",
            "Phosphate Test-Statistic=0.455, p-value=0.000\n",
            "Phosphate does not look Gaussian (reject H0)\n",
            "---------------------------------------\n",
            "WPI Test-Statistic=0.674, p-value=0.000\n",
            "WPI does not look Gaussian (reject H0)\n",
            "---------------------------------------\n"
          ],
          "name": "stdout"
        }
      ]
    },
    {
      "cell_type": "code",
      "metadata": {
        "colab": {
          "base_uri": "https://localhost:8080/",
          "height": 585
        },
        "id": "obc6kAhVm1x5",
        "outputId": "f990ef6a-7157-45a0-ac2c-45f9353eebbb"
      },
      "source": [
        "df.hist(figsize=(20, 10));"
      ],
      "execution_count": 54,
      "outputs": [
        {
          "output_type": "display_data",
          "data": {
            "image/png": "[encoded data removed]",
            "text/plain": [
              "<Figure size 1440x720 with 16 Axes>"
            ]
          },
          "metadata": {
            "tags": []
          }
        }
      ]
    },
    {
      "cell_type": "code",
      "metadata": {
        "colab": {
          "base_uri": "https://localhost:8080/"
        },
        "id": "UcS5yOkjnoNn",
        "outputId": "0af74a19-cacb-4da9-a98f-c5e86dd00ee3"
      },
      "source": [
        "df.info()"
      ],
      "execution_count": 55,
      "outputs": [
        {
          "output_type": "stream",
          "text": [
            "<class 'pandas.core.frame.DataFrame'>\n",
            "RangeIndex: 487 entries, 0 to 486\n",
            "Data columns (total 15 columns):\n",
            " #   Column      Non-Null Count  Dtype  \n",
            "---  ------      --------------  -----  \n",
            " 0   pH          487 non-null    float64\n",
            " 1   DO          487 non-null    float64\n",
            " 2   TDS         487 non-null    float64\n",
            " 3   Alkalinity  487 non-null    float64\n",
            " 4   EC          487 non-null    float64\n",
            " 5   Na          487 non-null    float64\n",
            " 6   Ca          487 non-null    float64\n",
            " 7   Mg          487 non-null    float64\n",
            " 8   K           487 non-null    float64\n",
            " 9   F           487 non-null    float64\n",
            " 10  Cl          487 non-null    float64\n",
            " 11  Nitrate     487 non-null    float64\n",
            " 12  Sulphate    487 non-null    float64\n",
            " 13  Phosphate   487 non-null    float64\n",
            " 14  WPI         487 non-null    float64\n",
            "dtypes: float64(15)\n",
            "memory usage: 57.2 KB\n"
          ],
          "name": "stdout"
        }
      ]
    },
    {
      "cell_type": "markdown",
      "metadata": {
        "id": "DEa6RHhkvgU4"
      },
      "source": [
        "**Stochastic gradient descent** :This iterative optimization algorithm minimizes the loss function iteratively to find the global\n",
        "optimum. In stochastic gradient descent, the sample selection is random "
      ]
    },
    {
      "cell_type": "code",
      "metadata": {
        "id": "YymrbcCPrDEI"
      },
      "source": [
        "import numpy as np\n",
        "import pandas as pd\n",
        "from sklearn.linear_model import SGDRegressor\n",
        "from sklearn.datasets import load_boston\n",
        "from sklearn.metrics import mean_squared_error"
      ],
      "execution_count": 56,
      "outputs": []
    },
    {
      "cell_type": "code",
      "metadata": {
        "id": "CWJ-Je_RuNDw"
      },
      "source": [
        "X,y = df.drop('WPI',axis=1),df['WPI']\n",
        "\n",
        "thetas = np.zeros(X.shape[1])"
      ],
      "execution_count": 57,
      "outputs": []
    },
    {
      "cell_type": "code",
      "metadata": {
        "id": "WRBquLOjuX4s"
      },
      "source": [
        "def cost_function(X,Y,B):\n",
        "    predictions = np.dot(X,B.T)\n",
        "    \n",
        "    cost = (1/len(Y)) * np.sum((predictions - Y) ** 2)\n",
        "    return cost"
      ],
      "execution_count": 58,
      "outputs": []
    },
    {
      "cell_type": "code",
      "metadata": {
        "colab": {
          "base_uri": "https://localhost:8080/"
        },
        "id": "uCAowEMEuiD4",
        "outputId": "cd6b26cb-fa53-4ffd-a042-dc9e2076a4cc"
      },
      "source": [
        "cost_function(X,y,thetas)"
      ],
      "execution_count": 59,
      "outputs": [
        {
          "output_type": "execute_result",
          "data": {
            "text/plain": [
              "0.10362751509971262"
            ]
          },
          "metadata": {
            "tags": []
          },
          "execution_count": 59
        }
      ]
    },
    {
      "cell_type": "code",
      "metadata": {
        "colab": {
          "base_uri": "https://localhost:8080/"
        },
        "id": "mJBYmI7FumZB",
        "outputId": "ca0418ae-db35-467a-d8fc-8c6bfec9bd4c"
      },
      "source": [
        "mean_squared_error(np.dot(X,thetas.T),y)"
      ],
      "execution_count": 60,
      "outputs": [
        {
          "output_type": "execute_result",
          "data": {
            "text/plain": [
              "0.1036275150997126"
            ]
          },
          "metadata": {
            "tags": []
          },
          "execution_count": 60
        }
      ]
    },
    {
      "cell_type": "code",
      "metadata": {
        "id": "89qZMSHputWd"
      },
      "source": [
        "X_norm = (X - X.min()) / (X.max() - X.min())\n",
        "X = X_norm"
      ],
      "execution_count": 61,
      "outputs": []
    },
    {
      "cell_type": "code",
      "metadata": {
        "id": "wajONPnOuybd"
      },
      "source": [
        "t0,t1 = 5,50 # learning schedule hyperparams\n",
        "def learning_schedule(t):\n",
        "    return t0/(t+t1)"
      ],
      "execution_count": 62,
      "outputs": []
    },
    {
      "cell_type": "code",
      "metadata": {
        "id": "yc2TsWUKu2fW"
      },
      "source": [
        "def stochastic_gradient_descent(X,y,theta,n_epochs=50):\n",
        "    c_hist = [0] * n_epochs\n",
        "    for epoch in range(n_epochs):\n",
        "        for i in range(len(y)):\n",
        "            rand_index = np.random.randint(len(y))\n",
        "            ind_x = X[rand_index:rand_index+1]\n",
        "            ind_y = y[rand_index:rand_index+1]\n",
        "\n",
        "            gradients = 2 * ind_x.T.dot(ind_x.dot(theta) - ind_y)\n",
        "            eta = learning_schedule(epoch * len(y) + i)\n",
        "            theta = theta - eta * gradients\n",
        "            c_hist[epoch] = cost_function(ind_x,ind_y,theta)\n",
        "    return theta,c_hist"
      ],
      "execution_count": 63,
      "outputs": []
    },
    {
      "cell_type": "code",
      "metadata": {
        "id": "lpvO6MPou6sR"
      },
      "source": [
        "th_n,cost_history = stochastic_gradient_descent(X,y,thetas)"
      ],
      "execution_count": 64,
      "outputs": []
    },
    {
      "cell_type": "code",
      "metadata": {
        "colab": {
          "base_uri": "https://localhost:8080/"
        },
        "id": "E5PXJH-pu9sp",
        "outputId": "b6a8e3e2-bc41-4562-a63e-33d851dabd56"
      },
      "source": [
        "mean_squared_error(np.dot(X,th_n.T),y)"
      ],
      "execution_count": 65,
      "outputs": [
        {
          "output_type": "execute_result",
          "data": {
            "text/plain": [
              "0.004720200390513002"
            ]
          },
          "metadata": {
            "tags": []
          },
          "execution_count": 65
        }
      ]
    },
    {
      "cell_type": "code",
      "metadata": {
        "colab": {
          "base_uri": "https://localhost:8080/",
          "height": 268
        },
        "id": "CAnc8i5avQAM",
        "outputId": "b21a5913-ac57-4a6e-88ed-b26cd386825e"
      },
      "source": [
        "plt.plot(range(50),cost_history)\n",
        "plt.show()"
      ],
      "execution_count": 66,
      "outputs": [
        {
          "output_type": "display_data",
          "data": {
            "image/png": "[encoded data removed]",
            "text/plain": [
              "<Figure size 432x288 with 1 Axes>"
            ]
          },
          "metadata": {
            "tags": []
          }
        }
      ]
    },
    {
      "cell_type": "markdown",
      "metadata": {
        "id": "P0bCrLoJxhh0"
      },
      "source": [
        "**K Nearest Neighbor**"
      ]
    },
    {
      "cell_type": "code",
      "metadata": {
        "id": "zbzZKvqnvUVA"
      },
      "source": [
        "#import required packages\n",
        "from sklearn import neighbors\n",
        "from sklearn.metrics import mean_squared_error \n",
        "from math import sqrt\n",
        "import matplotlib.pyplot as plt\n",
        "%matplotlib inline"
      ],
      "execution_count": 67,
      "outputs": []
    },
    {
      "cell_type": "code",
      "metadata": {
        "colab": {
          "base_uri": "https://localhost:8080/"
        },
        "id": "nQkEr4BUv30V",
        "outputId": "ddbee835-74b7-4842-f6b6-b29e922cff59"
      },
      "source": [
        "rmse_val = [] #to store rmse values for different k\n",
        "for K in range(20):\n",
        "    K = K+1\n",
        "    model = neighbors.KNeighborsRegressor(n_neighbors = K)\n",
        "\n",
        "    model.fit(x_train, y_train)  #fit the model\n",
        "    pred=model.predict(x_test) #make prediction on test set\n",
        "    error = sqrt(mean_squared_error(y_test,pred)) #calculate rmse\n",
        "    rmse_val.append(error) #store rmse values\n",
        "    print('RMSE value for k= ' , K , 'is:', error)"
      ],
      "execution_count": 68,
      "outputs": [
        {
          "output_type": "stream",
          "text": [
            "RMSE value for k=  1 is: 0.04348372117052601\n",
            "RMSE value for k=  2 is: 0.04296046702875665\n",
            "RMSE value for k=  3 is: 0.044060950110056306\n",
            "RMSE value for k=  4 is: 0.04517343856382091\n",
            "RMSE value for k=  5 is: 0.044337812246644986\n",
            "RMSE value for k=  6 is: 0.04685909571088255\n",
            "RMSE value for k=  7 is: 0.04822763623179582\n",
            "RMSE value for k=  8 is: 0.049201893707757266\n",
            "RMSE value for k=  9 is: 0.05083714195270867\n",
            "RMSE value for k=  10 is: 0.05065378320815932\n",
            "RMSE value for k=  11 is: 0.0512941350014422\n",
            "RMSE value for k=  12 is: 0.05216127984968573\n",
            "RMSE value for k=  13 is: 0.05237178707860482\n",
            "RMSE value for k=  14 is: 0.05322468307658349\n",
            "RMSE value for k=  15 is: 0.053662800940669816\n",
            "RMSE value for k=  16 is: 0.053486227449663463\n",
            "RMSE value for k=  17 is: 0.05393845797874172\n",
            "RMSE value for k=  18 is: 0.05460109150740892\n",
            "RMSE value for k=  19 is: 0.055079201249308575\n",
            "RMSE value for k=  20 is: 0.05445254594165061\n"
          ],
          "name": "stdout"
        }
      ]
    },
    {
      "cell_type": "code",
      "metadata": {
        "colab": {
          "base_uri": "https://localhost:8080/",
          "height": 285
        },
        "id": "MnMvN24kv-cQ",
        "outputId": "254810ce-6c17-4fc4-dc50-66b8d811c6ee"
      },
      "source": [
        "#plotting the rmse values against k values\n",
        "curve = pd.DataFrame(rmse_val) #elbow curve \n",
        "curve.plot()"
      ],
      "execution_count": 69,
      "outputs": [
        {
          "output_type": "execute_result",
          "data": {
            "text/plain": [
              "<matplotlib.axes._subplots.AxesSubplot at 0x7f210ce0f590>"
            ]
          },
          "metadata": {
            "tags": []
          },
          "execution_count": 69
        },
        {
          "output_type": "display_data",
          "data": {
            "image/png": "[encoded data removed]",
            "text/plain": [
              "<Figure size 432x288 with 1 Axes>"
            ]
          },
          "metadata": {
            "tags": [],
            "needs_background": "light"
          }
        }
      ]
    },
    {
      "cell_type": "markdown",
      "metadata": {
        "id": "90SU-tWfwbxy"
      },
      "source": [
        "At k= 2, the RMSE is approximately 0.164, and shoots up on further increasing the k value. We can safely say that k=2 will give us the best result in this case."
      ]
    },
    {
      "cell_type": "code",
      "metadata": {
        "colab": {
          "base_uri": "https://localhost:8080/"
        },
        "id": "4RghxCf1wHTB",
        "outputId": "0b5e23fe-2bc1-4d2b-9bcc-950173034222"
      },
      "source": [
        "from sklearn.model_selection import GridSearchCV\n",
        "params = {'n_neighbors':[2,3,4,5,6,7,8,9]}\n",
        "\n",
        "knn = neighbors.KNeighborsRegressor()\n",
        "\n",
        "model = GridSearchCV(knn, params, cv=5)\n",
        "model.fit(x_train,y_train)\n",
        "model.best_params_\n"
      ],
      "execution_count": 70,
      "outputs": [
        {
          "output_type": "execute_result",
          "data": {
            "text/plain": [
              "{'n_neighbors': 5}"
            ]
          },
          "metadata": {
            "tags": []
          },
          "execution_count": 70
        }
      ]
    },
    {
      "cell_type": "code",
      "metadata": {
        "colab": {
          "base_uri": "https://localhost:8080/"
        },
        "id": "oL-HnE7wxSqa",
        "outputId": "99667e33-2d2b-4a2f-ec95-daaae45131e0"
      },
      "source": [
        "x = normalized_df.drop('WPI',axis=1).values\n",
        "x"
      ],
      "execution_count": 71,
      "outputs": [
        {
          "output_type": "execute_result",
          "data": {
            "text/plain": [
              "array([[0.87608069, 0.48387097, 0.11111111, ..., 0.07762957, 0.05538404,\n",
              "        0.03519008],\n",
              "       [0.74927954, 0.49462366, 0.21428571, ..., 0.01977528, 0.07085314,\n",
              "        0.00543909],\n",
              "       [0.7204611 , 0.35483871, 0.07539683, ..., 0.03036038, 0.02954657,\n",
              "        0.00725212],\n",
              "       ...,\n",
              "       [0.        , 0.17204301, 0.92857143, ..., 0.95254066, 0.85948229,\n",
              "        0.09235127],\n",
              "       [0.66282421, 0.23655914, 0.69047619, ..., 0.73164419, 0.4601111 ,\n",
              "        0.12407932],\n",
              "       [0.7204611 , 0.29032258, 0.74206349, ..., 0.65695702, 0.5704421 ,\n",
              "        0.03966006]])"
            ]
          },
          "metadata": {
            "tags": []
          },
          "execution_count": 71
        }
      ]
    },
    {
      "cell_type": "code",
      "metadata": {
        "colab": {
          "base_uri": "https://localhost:8080/"
        },
        "id": "ptgyNObVyJQb",
        "outputId": "5810143f-ce7e-45e1-cc56-c32748a18e00"
      },
      "source": [
        "y = normalized_df['WPI'].values\n",
        "y"
      ],
      "execution_count": 72,
      "outputs": [
        {
          "output_type": "execute_result",
          "data": {
            "text/plain": [
              "array([0.09727633, 0.07520334, 0.05349187, 0.07712375, 0.0415101 ,\n",
              "       0.1366537 , 0.20212597, 0.12544482, 0.07755545, 0.08915552,\n",
              "       0.1071943 , 0.11580438, 0.09609265, 0.10254232, 0.27535308,\n",
              "       0.0770535 , 0.10815872, 0.10815872, 0.09936133, 0.12399653,\n",
              "       0.18454926, 0.17326264, 0.12057512, 0.10077749, 0.10073516,\n",
              "       0.17755309, 0.07869256, 0.11629563, 0.10009383, 0.08647194,\n",
              "       0.06686876, 0.12252361, 0.05641125, 0.12850713, 0.11543808,\n",
              "       0.12846973, 0.12951479, 0.09019103, 0.08581482, 0.06918995,\n",
              "       0.08511031, 0.07524431, 0.29145217, 0.05776334, 0.05886534,\n",
              "       0.05886534, 0.1228642 , 0.1109169 , 0.06238051, 0.06379178,\n",
              "       0.0781844 , 0.09674619, 0.10021117, 0.07568704, 0.09060903,\n",
              "       0.15979828, 0.19739811, 0.24280991, 0.22020399, 0.14662642,\n",
              "       0.09911541, 0.1082844 , 0.11406999, 0.1504195 , 0.15401621,\n",
              "       0.19695825, 0.20367557, 0.10213599, 0.20252497, 0.19580921,\n",
              "       0.22200522, 0.21330926, 0.26776983, 0.09655297, 0.14438558,\n",
              "       0.09215124, 0.230984  , 0.12888317, 0.17717318, 0.18161872,\n",
              "       0.20359639, 0.21225465, 0.53689411, 0.20453432, 0.24409758,\n",
              "       0.12520279, 0.13481574, 0.10341338, 0.1040019 , 0.0844773 ,\n",
              "       0.08945112, 0.14591878, 0.12412498, 0.08048443, 0.09546453,\n",
              "       0.13933521, 0.13933521, 0.09331862, 0.10077155, 0.08801541,\n",
              "       0.21205147, 0.20347587, 0.18470275, 0.13659812, 0.40405443,\n",
              "       0.1590856 , 0.18270548, 0.12946528, 0.16791673, 0.42736803,\n",
              "       0.17261293, 0.10033334, 0.04958265, 0.07329039, 0.06214027,\n",
              "       0.16850028, 0.09516449, 0.15851134, 0.19383864, 0.09937098,\n",
              "       0.09791833, 0.21953926, 0.12535498, 0.45574473, 0.26783727,\n",
              "       0.1112042 , 0.07532097, 0.10837433, 0.15874126, 0.11557074,\n",
              "       0.18580649, 0.14166075, 0.15294342, 0.23335011, 0.12513245,\n",
              "       0.17058224, 0.09513916, 0.10749468, 0.08102566, 0.15062787,\n",
              "       0.13261735, 0.26557604, 0.20094151, 1.        , 0.12004246,\n",
              "       0.12032251, 0.1151661 , 0.07592562, 0.07592562, 0.11338038,\n",
              "       0.12316879, 0.12874283, 0.16043462, 0.19867674, 0.13491572,\n",
              "       0.08915728, 0.19673854, 0.18324803, 0.12379599, 0.06361855,\n",
              "       0.09479072, 0.17993059, 0.07320274, 0.06079349, 0.0870223 ,\n",
              "       0.05718815, 0.05794918, 0.10197653, 0.08775414, 0.032884  ,\n",
              "       0.05187226, 0.0459666 , 0.07490154, 0.07535355, 0.09433188,\n",
              "       0.05663409, 0.08958239, 0.08621589, 0.29475378, 0.05166564,\n",
              "       0.05074698, 0.        , 0.09243429, 0.26377952, 0.06842788,\n",
              "       0.12184244, 0.06483503, 0.07013369, 0.07534642, 0.10012558,\n",
              "       0.11959493, 0.06101761, 0.04999601, 0.04776991, 0.06777998,\n",
              "       0.50758677, 0.26704254, 0.16634669, 0.09262237, 0.44226981,\n",
              "       0.44226981, 0.06293668, 0.05290975, 0.39059998, 0.03938516,\n",
              "       0.14148664, 0.04331142, 0.09069451, 0.40102385, 0.09646995,\n",
              "       0.18523054, 0.05594859, 0.1693525 , 0.09322891, 0.09982726,\n",
              "       0.08753942, 0.09179474, 0.07989246, 0.08494905, 0.09975763,\n",
              "       0.06651087, 0.08974797, 0.05688272, 0.13331681, 0.10120143,\n",
              "       0.08058685, 0.10155548, 0.09209055, 0.08273825, 0.08615628,\n",
              "       0.07438265, 0.08102793, 0.1066231 , 0.07104731, 0.08433157,\n",
              "       0.05550216, 0.12104309, 0.04928059, 0.0699438 , 0.11055118,\n",
              "       0.12925694, 0.07364541, 0.06582014, 0.05523514, 0.11005765,\n",
              "       0.05346289, 0.07004122, 0.55978536, 0.08792866, 0.08371375,\n",
              "       0.10114203, 0.06614123, 0.06614123, 0.08328088, 0.17817105,\n",
              "       0.07973269, 0.05541324, 0.10588179, 0.17287268, 0.0778704 ,\n",
              "       0.09510627, 0.08016817, 0.07185503, 0.08455284, 0.10739054,\n",
              "       0.08243388, 0.23084437, 0.09585219, 0.11622612, 0.08519579,\n",
              "       0.07702598, 0.1197678 , 0.04556069, 0.09849239, 0.06795993,\n",
              "       0.15990294, 0.1053661 , 0.0713742 , 0.07278925, 0.09062018,\n",
              "       0.09645704, 0.10353704, 0.1003127 , 0.08543847, 0.11183115,\n",
              "       0.11442122, 0.06925445, 0.07556949, 0.09120572, 0.04114565,\n",
              "       0.0995689 , 0.08205741, 0.14754564, 0.10930791, 0.05156926,\n",
              "       0.07626127, 0.08573233, 0.06125205, 0.06844752, 0.09817003,\n",
              "       0.1131531 , 0.09114093, 0.09353752, 0.07990323, 0.07990323,\n",
              "       0.12986281, 0.21853518, 0.12839361, 0.07102026, 0.11864057,\n",
              "       0.15493569, 0.13834138, 0.12030612, 0.10211632, 0.14474718,\n",
              "       0.20874393, 0.07894387, 0.1163725 , 0.09825849, 0.06977582,\n",
              "       0.14439435, 0.07609541, 0.06719289, 0.07294062, 0.06603163,\n",
              "       0.09917922, 0.06847299, 0.07505228, 0.06447455, 0.23763823,\n",
              "       0.10181466, 0.07608183, 0.08482456, 0.08975642, 0.03775711,\n",
              "       0.06662991, 0.0922925 , 0.06710768, 0.06951805, 0.08948363,\n",
              "       0.07139332, 0.03809202, 0.06662852, 0.12479968, 0.08693559,\n",
              "       0.10375659, 0.03953273, 0.08310719, 0.0844773 , 0.08945112,\n",
              "       0.14591878, 0.12412498, 0.08048443, 0.09546453, 0.13933521,\n",
              "       0.13933521, 0.09331862, 0.10077155, 0.08801541, 0.07862215,\n",
              "       0.09498157, 0.1391488 , 0.06937396, 0.09648512, 0.09850116,\n",
              "       0.07369657, 0.12261574, 0.08180337, 0.1659637 , 0.10692027,\n",
              "       0.09795009, 0.08974653, 0.07567327, 0.11201776, 0.08103463,\n",
              "       0.11142306, 0.09834655, 0.07300809, 0.09483822, 0.11160176,\n",
              "       0.12136731, 0.16295224, 0.11737963, 0.1068382 , 0.06126844,\n",
              "       0.09595747, 0.16245647, 0.07488232, 0.09626074, 0.09574904,\n",
              "       0.09420366, 0.09884961, 0.12059202, 0.15238925, 0.11255349,\n",
              "       0.14320626, 0.11578028, 0.10331139, 0.08110757, 0.09647611,\n",
              "       0.10556863, 0.05221958, 0.13322107, 0.11752305, 0.08016353,\n",
              "       0.09650384, 0.26053807, 0.26053807, 0.09801667, 0.12868548,\n",
              "       0.09132527, 0.60756765, 0.14889015, 0.52473732, 0.27627272,\n",
              "       0.15747258, 0.11782557, 0.13467705, 0.05550216, 0.12104309,\n",
              "       0.04928059, 0.0699438 , 0.11055118, 0.12925694, 0.07364541,\n",
              "       0.06582014, 0.05523514, 0.11005765, 0.20837744, 0.29289678,\n",
              "       0.25527264, 0.18658753, 0.31200549, 0.21315511, 0.28241659,\n",
              "       0.22602438, 0.25066484, 0.09727633, 0.07520334, 0.05349187,\n",
              "       0.07712375, 0.0415101 , 0.1366537 , 0.20212597, 0.12544482,\n",
              "       0.07755545, 0.08915552, 0.10568214, 0.12970199, 0.10556215,\n",
              "       0.31513549, 0.06543871, 0.09297217, 0.21368634, 0.13780401,\n",
              "       0.10289462, 0.11515838, 0.10135732, 0.09716411, 0.08882367,\n",
              "       0.1302728 , 0.08140963, 0.13313273, 0.12904971, 0.07324057,\n",
              "       0.05840998, 0.121734  , 0.10085842, 0.08006298, 0.17489084,\n",
              "       0.13538841, 0.14083191, 0.0776051 , 0.07681646, 0.09274463,\n",
              "       0.07949035, 0.07259802, 0.24851411, 0.25174718, 0.26963149,\n",
              "       0.18506744, 0.22991502, 0.21061434, 0.21951985, 0.14876932,\n",
              "       0.27080662, 0.21256012])"
            ]
          },
          "metadata": {
            "tags": []
          },
          "execution_count": 72
        }
      ]
    },
    {
      "cell_type": "markdown",
      "metadata": {
        "id": "Ha5LH_kU2Mml"
      },
      "source": [
        "**Decision Tree**\n",
        "\n",
        "A decision tree is a simple self-explanatory algorithm, which can be used for both classification\n",
        "and regression. The decision tree, after training, makes decisions based on values of all the relevant\n",
        "input parameters. It uses entropy to select the root variable, and, based on this, it looks towards the\n",
        "other parameters’ values. It has all the parameter decisions arranged in a top-to-down tree and projects\n",
        "the decision based on different values of different parameters "
      ]
    },
    {
      "cell_type": "code",
      "metadata": {
        "colab": {
          "base_uri": "https://localhost:8080/"
        },
        "id": "PpQpqHxozVcZ",
        "outputId": "d4193f8d-4365-4f3b-ec0d-fb1794944df0"
      },
      "source": [
        "# import the regressor\n",
        "from sklearn.tree import DecisionTreeRegressor \n",
        "  \n",
        "# create a regressor object\n",
        "regressor = DecisionTreeRegressor(random_state = 0) \n",
        "  \n",
        "# fit the regressor with X and Y data\n",
        "regressor.fit(x, y)"
      ],
      "execution_count": 73,
      "outputs": [
        {
          "output_type": "execute_result",
          "data": {
            "text/plain": [
              "DecisionTreeRegressor(ccp_alpha=0.0, criterion='mse', max_depth=None,\n",
              "                      max_features=None, max_leaf_nodes=None,\n",
              "                      min_impurity_decrease=0.0, min_impurity_split=None,\n",
              "                      min_samples_leaf=1, min_samples_split=2,\n",
              "                      min_weight_fraction_leaf=0.0, presort='deprecated',\n",
              "                      random_state=0, splitter='best')"
            ]
          },
          "metadata": {
            "tags": []
          },
          "execution_count": 73
        }
      ]
    },
    {
      "cell_type": "code",
      "metadata": {
        "colab": {
          "base_uri": "https://localhost:8080/"
        },
        "id": "_jthbWmEzffd",
        "outputId": "43296245-e966-4e32-8073-16ab043885d0"
      },
      "source": [
        "print(\"Making predictions\")\n",
        "print(x)\n",
        "\n",
        "print(\"Predictions : \")\n",
        "a = model.predict(x)\n",
        "a"
      ],
      "execution_count": 74,
      "outputs": [
        {
          "output_type": "stream",
          "text": [
            "Making predictions\n",
            "[[0.87608069 0.48387097 0.11111111 ... 0.07762957 0.05538404 0.03519008]\n",
            " [0.74927954 0.49462366 0.21428571 ... 0.01977528 0.07085314 0.00543909]\n",
            " [0.7204611  0.35483871 0.07539683 ... 0.03036038 0.02954657 0.00725212]\n",
            " ...\n",
            " [0.         0.17204301 0.92857143 ... 0.95254066 0.85948229 0.09235127]\n",
            " [0.66282421 0.23655914 0.69047619 ... 0.73164419 0.4601111  0.12407932]\n",
            " [0.7204611  0.29032258 0.74206349 ... 0.65695702 0.5704421  0.03966006]]\n",
            "Predictions : \n"
          ],
          "name": "stdout"
        },
        {
          "output_type": "execute_result",
          "data": {
            "text/plain": [
              "array([0.08097746, 0.08982842, 0.06159295, 0.06931658, 0.06948207,\n",
              "       0.10663331, 0.10688748, 0.11517302, 0.08485976, 0.09366468,\n",
              "       0.08460512, 0.10080626, 0.07165733, 0.0953633 , 0.24577662,\n",
              "       0.08644106, 0.10302443, 0.10302443, 0.10047213, 0.11539183,\n",
              "       0.12324139, 0.1202297 , 0.11054291, 0.09277498, 0.08244133,\n",
              "       0.1206878 , 0.07482931, 0.10774491, 0.08246328, 0.09916984,\n",
              "       0.07449768, 0.06875604, 0.06495893, 0.11261036, 0.1062558 ,\n",
              "       0.11302909, 0.07802366, 0.09390008, 0.07839703, 0.06155372,\n",
              "       0.06590135, 0.06667706, 0.26261357, 0.07743171, 0.09985914,\n",
              "       0.09985914, 0.09040424, 0.10548536, 0.07201324, 0.0705128 ,\n",
              "       0.0809329 , 0.09732448, 0.0962223 , 0.06338801, 0.09274627,\n",
              "       0.16649975, 0.22101006, 0.21294757, 0.24599862, 0.19275578,\n",
              "       0.17859543, 0.12987496, 0.08391604, 0.16245163, 0.11291839,\n",
              "       0.25566623, 0.23157514, 0.1330331 , 0.20384447, 0.227724  ,\n",
              "       0.24777135, 0.24995776, 0.24995776, 0.10441645, 0.11574619,\n",
              "       0.0900796 , 0.22994344, 0.13787772, 0.19227052, 0.19064683,\n",
              "       0.22297726, 0.18659151, 0.21795761, 0.26261357, 0.16434581,\n",
              "       0.10838009, 0.1313472 , 0.09129966, 0.10062248, 0.0747725 ,\n",
              "       0.06842157, 0.09817955, 0.10425355, 0.0975371 , 0.08944417,\n",
              "       0.09985914, 0.09985914, 0.10762466, 0.09585713, 0.09162652,\n",
              "       0.19571351, 0.21029661, 0.15077872, 0.17777157, 0.26477137,\n",
              "       0.1282934 , 0.22223581, 0.15285208, 0.24777135, 0.24377788,\n",
              "       0.17835434, 0.17243691, 0.08194613, 0.07592276, 0.07927631,\n",
              "       0.17835434, 0.10192649, 0.18148482, 0.17283786, 0.10405643,\n",
              "       0.10578945, 0.16305267, 0.13492306, 0.2411844 , 0.24995776,\n",
              "       0.11143629, 0.09018503, 0.09912296, 0.20310174, 0.11956978,\n",
              "       0.19645177, 0.14261194, 0.12649396, 0.18297322, 0.15261116,\n",
              "       0.16470244, 0.1055687 , 0.10838009, 0.09539577, 0.09691565,\n",
              "       0.12284359, 0.19919217, 0.2079146 , 0.39945758, 0.11901361,\n",
              "       0.09016658, 0.10291611, 0.10393007, 0.10393007, 0.12026839,\n",
              "       0.1167303 , 0.1282934 , 0.17108395, 0.17777157, 0.11658128,\n",
              "       0.13494544, 0.15786349, 0.14305263, 0.10850456, 0.05872568,\n",
              "       0.11469726, 0.13986953, 0.08010443, 0.07346864, 0.10745962,\n",
              "       0.06017858, 0.07893002, 0.10770115, 0.06941777, 0.04918971,\n",
              "       0.06158671, 0.06158671, 0.0929791 , 0.08097746, 0.08648154,\n",
              "       0.06240418, 0.09053809, 0.07841536, 0.16428097, 0.05842593,\n",
              "       0.06559441, 0.04987837, 0.08941874, 0.17606838, 0.07878991,\n",
              "       0.07724483, 0.07515537, 0.08243393, 0.1056864 , 0.06753523,\n",
              "       0.10138852, 0.06810486, 0.05914879, 0.05836881, 0.08515662,\n",
              "       0.40865289, 0.16381887, 0.12396617, 0.09829316, 0.41549603,\n",
              "       0.41549603, 0.06735708, 0.06851587, 0.38244823, 0.06819442,\n",
              "       0.13653201, 0.06026736, 0.07120464, 0.26541282, 0.10137665,\n",
              "       0.13777368, 0.06648516, 0.10347801, 0.10396292, 0.1619193 ,\n",
              "       0.08423385, 0.10685447, 0.088478  , 0.0774007 , 0.0884781 ,\n",
              "       0.07606942, 0.08862042, 0.06851587, 0.07468536, 0.09603656,\n",
              "       0.09660227, 0.09780733, 0.09709051, 0.09223351, 0.08264908,\n",
              "       0.11182511, 0.08262851, 0.10139739, 0.07687096, 0.0751527 ,\n",
              "       0.05719935, 0.11303224, 0.06013614, 0.07149569, 0.09924535,\n",
              "       0.10762466, 0.07600788, 0.06730224, 0.0692919 , 0.09950844,\n",
              "       0.06034241, 0.0975371 , 0.39928254, 0.1004444 , 0.09663508,\n",
              "       0.10877984, 0.0708125 , 0.0708125 , 0.08683896, 0.10816782,\n",
              "       0.06346197, 0.06922051, 0.08412831, 0.13830509, 0.08897386,\n",
              "       0.07577924, 0.07010305, 0.07577988, 0.08260553, 0.10333034,\n",
              "       0.0842086 , 0.15042083, 0.09737755, 0.10964361, 0.08268082,\n",
              "       0.07430783, 0.08920134, 0.07245938, 0.08967798, 0.08957595,\n",
              "       0.12473325, 0.09336742, 0.06883991, 0.07219971, 0.08881252,\n",
              "       0.08609963, 0.08904489, 0.12157898, 0.09137242, 0.11764537,\n",
              "       0.09485797, 0.07321708, 0.05719935, 0.09473812, 0.09455693,\n",
              "       0.09063182, 0.08989192, 0.11969901, 0.13223929, 0.06614496,\n",
              "       0.08523726, 0.08412831, 0.06034241, 0.06851813, 0.09817955,\n",
              "       0.09667004, 0.0987041 , 0.09127285, 0.08234857, 0.08234857,\n",
              "       0.12819631, 0.17418514, 0.12160938, 0.07369915, 0.10400646,\n",
              "       0.13216779, 0.10949275, 0.11817268, 0.07906375, 0.11151362,\n",
              "       0.14571745, 0.09828652, 0.11052224, 0.07722284, 0.06656067,\n",
              "       0.1222962 , 0.08239999, 0.07212187, 0.07756347, 0.07026927,\n",
              "       0.07508318, 0.05910804, 0.06559441, 0.06926075, 0.1871769 ,\n",
              "       0.09613128, 0.08165117, 0.07869086, 0.10294302, 0.05585904,\n",
              "       0.07253642, 0.1095554 , 0.06742288, 0.07851488, 0.09415301,\n",
              "       0.08393355, 0.06176935, 0.07012649, 0.11525003, 0.07900659,\n",
              "       0.07963139, 0.0552841 , 0.09516698, 0.0747725 , 0.06842157,\n",
              "       0.09817955, 0.10425355, 0.0975371 , 0.08944417, 0.09985914,\n",
              "       0.09985914, 0.10762466, 0.09585713, 0.09162652, 0.08577262,\n",
              "       0.09157012, 0.10001441, 0.08410118, 0.09808599, 0.09367667,\n",
              "       0.07896769, 0.15519236, 0.08869217, 0.12843275, 0.10456008,\n",
              "       0.10045668, 0.1075816 , 0.07514125, 0.18804971, 0.10127465,\n",
              "       0.10338722, 0.10344168, 0.07934504, 0.09942709, 0.12475595,\n",
              "       0.11983627, 0.14921286, 0.13455647, 0.10326653, 0.0695861 ,\n",
              "       0.10935228, 0.06674098, 0.09420894, 0.106351  , 0.08980572,\n",
              "       0.12218282, 0.08980572, 0.1201958 , 0.11852681, 0.18278084,\n",
              "       0.13483973, 0.1040494 , 0.09942899, 0.09623064, 0.10291611,\n",
              "       0.11402532, 0.06502993, 0.10691981, 0.12253806, 0.09117561,\n",
              "       0.09779697, 0.17373502, 0.17373502, 0.10690238, 0.12014916,\n",
              "       0.09510271, 0.28024363, 0.12132209, 0.29520008, 0.17501618,\n",
              "       0.11793515, 0.10101787, 0.11438951, 0.05719935, 0.11303224,\n",
              "       0.06013614, 0.07149569, 0.09924535, 0.10762466, 0.07600788,\n",
              "       0.06730224, 0.0692919 , 0.09950844, 0.19684876, 0.2333994 ,\n",
              "       0.23719273, 0.1853786 , 0.26417193, 0.2063    , 0.26739432,\n",
              "       0.18832432, 0.2146551 , 0.08097746, 0.08982842, 0.06159295,\n",
              "       0.06931658, 0.06948207, 0.10663331, 0.10688748, 0.11517302,\n",
              "       0.08485976, 0.09366468, 0.09812264, 0.11754057, 0.12530004,\n",
              "       0.22063696, 0.07280914, 0.09196785, 0.13187285, 0.11136776,\n",
              "       0.09985914, 0.10681444, 0.068003  , 0.08844529, 0.10771552,\n",
              "       0.10328249, 0.1056864 , 0.12506638, 0.10464699, 0.09985914,\n",
              "       0.08895012, 0.11449589, 0.09004138, 0.10230193, 0.1238991 ,\n",
              "       0.11303224, 0.11339662, 0.09364648, 0.08601426, 0.10513918,\n",
              "       0.07882526, 0.0661083 , 0.23362027, 0.24468031, 0.24468031,\n",
              "       0.23428355, 0.2723294 , 0.26942164, 0.22906705, 0.18836546,\n",
              "       0.23780378, 0.21978239])"
            ]
          },
          "metadata": {
            "tags": []
          },
          "execution_count": 74
        }
      ]
    },
    {
      "cell_type": "code",
      "metadata": {
        "colab": {
          "base_uri": "https://localhost:8080/"
        },
        "id": "SzVkOaa-0CvQ",
        "outputId": "3f99dc8a-39ee-4a86-e1aa-9a0caa9bc482"
      },
      "source": [
        "mean_absolute_error(y,a)"
      ],
      "execution_count": 75,
      "outputs": [
        {
          "output_type": "execute_result",
          "data": {
            "text/plain": [
              "0.02369842195885846"
            ]
          },
          "metadata": {
            "tags": []
          },
          "execution_count": 75
        }
      ]
    },
    {
      "cell_type": "code",
      "metadata": {
        "id": "M-YDgFBH0odL"
      },
      "source": [
        "train_x,val_x,train_y,val_y = train_test_split(x,y,random_state=0)"
      ],
      "execution_count": 76,
      "outputs": []
    },
    {
      "cell_type": "code",
      "metadata": {
        "colab": {
          "base_uri": "https://localhost:8080/"
        },
        "id": "yzi8SYTD0t8_",
        "outputId": "f3bb7ed7-ec9c-4dd0-8899-aa3d960444ef"
      },
      "source": [
        "model = DecisionTreeRegressor()\n",
        "\n",
        "model.fit(train_x,train_y)"
      ],
      "execution_count": 77,
      "outputs": [
        {
          "output_type": "execute_result",
          "data": {
            "text/plain": [
              "DecisionTreeRegressor(ccp_alpha=0.0, criterion='mse', max_depth=None,\n",
              "                      max_features=None, max_leaf_nodes=None,\n",
              "                      min_impurity_decrease=0.0, min_impurity_split=None,\n",
              "                      min_samples_leaf=1, min_samples_split=2,\n",
              "                      min_weight_fraction_leaf=0.0, presort='deprecated',\n",
              "                      random_state=None, splitter='best')"
            ]
          },
          "metadata": {
            "tags": []
          },
          "execution_count": 77
        }
      ]
    },
    {
      "cell_type": "code",
      "metadata": {
        "colab": {
          "base_uri": "https://localhost:8080/"
        },
        "id": "ghXwcabp0xeR",
        "outputId": "36c561ef-538c-415f-d62c-a374cfa5d10e"
      },
      "source": [
        "a = model.predict(val_x)\n",
        "print(a)"
      ],
      "execution_count": 78,
      "outputs": [
        {
          "output_type": "stream",
          "text": [
            "[0.08562664 0.12839361 0.16850028 0.13933521 0.08945112 0.06662852\n",
            " 0.11557074 0.08103463 0.13933521 0.17287268 0.10085842 0.08562664\n",
            " 0.13322107 0.13481574 0.19580921 0.11201776 0.21225465 0.05617992\n",
            " 0.12850713 0.07712375 0.17287268 0.05840998 0.20453432 0.08562664\n",
            " 0.21225465 0.05840998 0.0878414  0.21853518 0.11959493 0.12399653\n",
            " 0.1366537  0.14591878 0.09069451 0.17261293 0.20359639 0.1053661\n",
            " 0.08945112 0.0699438  0.06719289 0.06662852 0.07510165 0.08948363\n",
            " 0.13467705 0.1003127  0.20347587 0.12412498 0.07520334 0.08801541\n",
            " 0.05074698 0.05187226 0.10135732 0.09510627 0.09627738 0.16634669\n",
            " 0.08801541 0.1001525  0.09574904 0.10588179 0.39059998 0.18580649\n",
            " 0.16043462 0.12412498 0.17261293 0.07301491 0.11201776 0.44226981\n",
            " 0.04958265 0.07364541 0.10225943 0.53689411 0.23335011 0.10225943\n",
            " 0.07104731 0.08573233 0.20347587 0.13538841 0.09627738 0.07702598\n",
            " 0.21225465 0.0415101  0.0626586  0.07490154 0.19673854 0.12925694\n",
            " 0.20212597 0.07520334 0.12104309 0.08801541 0.20252497 0.12544482\n",
            " 0.0699438  0.07755545 0.05349187 0.09069451 0.05523514 0.11752305\n",
            " 0.22991502 0.05663409 0.08915552 0.10085842 0.10077452 0.12399653\n",
            " 0.09062018 0.20252497 0.09795009 0.25066484 0.08915728 0.121734\n",
            " 0.05840998 0.20252497 0.09062018 0.05886534 0.09114093 0.17993059\n",
            " 0.06918995 0.1659637  0.07364541 0.25066484 0.26776983 0.06686876\n",
            " 0.07981257 0.10077452]\n"
          ],
          "name": "stdout"
        }
      ]
    },
    {
      "cell_type": "code",
      "metadata": {
        "colab": {
          "base_uri": "https://localhost:8080/"
        },
        "id": "pjXH-Ioh00wq",
        "outputId": "3b3ce115-0f08-4c30-8fb2-e322c5ebea83"
      },
      "source": [
        "print(mean_absolute_error(val_y,a))"
      ],
      "execution_count": 79,
      "outputs": [
        {
          "output_type": "stream",
          "text": [
            "0.015409689629990833\n"
          ],
          "name": "stdout"
        }
      ]
    },
    {
      "cell_type": "code",
      "metadata": {
        "id": "nGIrfFLB042G"
      },
      "source": [
        "def get_mae(leaf_nodes,train_x,val_x,train_y,val_y):\n",
        "    model = DecisionTreeRegressor(max_leaf_nodes=leaf_nodes,random_state=0)\n",
        "    model.fit(train_x,train_y)\n",
        "    a = model.predict(val_x)\n",
        "    mae = mean_absolute_error(val_y,a)\n",
        "    return(mae)"
      ],
      "execution_count": 80,
      "outputs": []
    },
    {
      "cell_type": "code",
      "metadata": {
        "colab": {
          "base_uri": "https://localhost:8080/"
        },
        "id": "TcLYOWc2081E",
        "outputId": "8b5d6a49-dfd8-4ed0-eb1e-35ec11690d8b"
      },
      "source": [
        "for leaf_nodes in np.arange(5,5000,500):\n",
        "    mae = get_mae(leaf_nodes,train_x,val_x,train_y,val_y)\n",
        "    print(leaf_nodes,\"  >>>>>>>>>>  \",mae)"
      ],
      "execution_count": 81,
      "outputs": [
        {
          "output_type": "stream",
          "text": [
            "5   >>>>>>>>>>   0.0302322314914258\n",
            "505   >>>>>>>>>>   0.01527344019420233\n",
            "1005   >>>>>>>>>>   0.01527344019420233\n",
            "1505   >>>>>>>>>>   0.01527344019420233\n",
            "2005   >>>>>>>>>>   0.01527344019420233\n",
            "2505   >>>>>>>>>>   0.01527344019420233\n",
            "3005   >>>>>>>>>>   0.01527344019420233\n",
            "3505   >>>>>>>>>>   0.01527344019420233\n",
            "4005   >>>>>>>>>>   0.01527344019420233\n",
            "4505   >>>>>>>>>>   0.01527344019420233\n"
          ],
          "name": "stdout"
        }
      ]
    },
    {
      "cell_type": "code",
      "metadata": {
        "colab": {
          "base_uri": "https://localhost:8080/"
        },
        "id": "X3rSSWel1Ald",
        "outputId": "1f29be61-54dc-4857-8b15-f1096f3e9caa"
      },
      "source": [
        "from sklearn.ensemble import RandomForestRegressor\n",
        "\n",
        "model = RandomForestRegressor(random_state=1)\n",
        "model.fit(train_x,train_y)\n",
        "a=model.predict(val_x)\n",
        "mean_absolute_error(val_y,a)"
      ],
      "execution_count": 82,
      "outputs": [
        {
          "output_type": "execute_result",
          "data": {
            "text/plain": [
              "0.010090485172735357"
            ]
          },
          "metadata": {
            "tags": []
          },
          "execution_count": 82
        }
      ]
    },
    {
      "cell_type": "code",
      "metadata": {
        "id": "cRNFULTC1GFh"
      },
      "source": [
        "#Regressors = ['MLR', 'Random Forest', 'Gradient Boosting', 'Ridge Regression','Lasso Regression', 'Elastic Net Regression','Decision Tree']\n",
        "#r_sq = [score]\n",
        "#MSE = [mse_mlr]\n",
        "#RMSE = []\n",
        "#comparision = pd.DataFrame({'Algorithm':Regressors,'R Square':r_sq,'MSE':MSE,'RMSE':RMSE}, index = [i for i in range(1,5)])\n",
        "#comparision"
      ],
      "execution_count": 83,
      "outputs": []
    },
    {
      "cell_type": "code",
      "metadata": {
        "id": "n26rEvf06ZjC"
      },
      "source": [
        ""
      ],
      "execution_count": 83,
      "outputs": []
    }
  ]
}