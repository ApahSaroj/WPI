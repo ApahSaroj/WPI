{
  "nbformat": 4,
  "nbformat_minor": 0,
  "metadata": {
    "colab": {
      "name": " Supervised Machine Learning.ipynb",
      "provenance": [],
      "authorship_tag": "ABX9TyPIbT8imuvSr5PJ0NeQJH5/",
      "include_colab_link": true
    },
    "kernelspec": {
      "name": "python3",
      "display_name": "Python 3"
    },
    "language_info": {
      "name": "python"
    }
  },
  "cells": [
    {
      "cell_type": "markdown",
      "metadata": {
        "id": "view-in-github",
        "colab_type": "text"
      },
      "source": [
        "<a href=\"https://colab.research.google.com/github/ApahSaroj/WPI/blob/main/Supervised_Machine_Learning.ipynb\" target=\"_parent\"><img src=\"https://colab.research.google.com/assets/colab-badge.svg\" alt=\"Open In Colab\"/></a>"
      ]
    },
    {
      "cell_type": "code",
      "metadata": {
        "id": "ii-zzjg1UIhA"
      },
      "source": [
        "from google.colab import drive"
      ],
      "execution_count": 1,
      "outputs": []
    },
    {
      "cell_type": "code",
      "metadata": {
        "colab": {
          "base_uri": "https://localhost:8080/"
        },
        "id": "0L0Q8DWcUVWH",
        "outputId": "82e76247-6253-4240-a86b-6d473459b4b7"
      },
      "source": [
        "drive.mount('/content/drive')"
      ],
      "execution_count": 2,
      "outputs": [
        {
          "output_type": "stream",
          "text": [
            "Drive already mounted at /content/drive; to attempt to forcibly remount, call drive.mount(\"/content/drive\", force_remount=True).\n"
          ],
          "name": "stdout"
        }
      ]
    },
    {
      "cell_type": "code",
      "metadata": {
        "colab": {
          "base_uri": "https://localhost:8080/",
          "height": 419
        },
        "id": "lVYpPmP1UX5G",
        "outputId": "7bc0ecb0-2b09-45be-b987-b6c98244c1e4"
      },
      "source": [
        "import pandas as pd\n",
        "df = pd.read_excel('/content/drive/MyDrive/DATA/WQC_test.xlsx')\n",
        "df"
      ],
      "execution_count": 3,
      "outputs": [
        {
          "output_type": "execute_result",
          "data": {
            "text/html": [
              "<div>\n",
              "<style scoped>\n",
              "    .dataframe tbody tr th:only-of-type {\n",
              "        vertical-align: middle;\n",
              "    }\n",
              "\n",
              "    .dataframe tbody tr th {\n",
              "        vertical-align: top;\n",
              "    }\n",
              "\n",
              "    .dataframe thead th {\n",
              "        text-align: right;\n",
              "    }\n",
              "</style>\n",
              "<table border=\"1\" class=\"dataframe\">\n",
              "  <thead>\n",
              "    <tr style=\"text-align: right;\">\n",
              "      <th></th>\n",
              "      <th>Unnamed: 0</th>\n",
              "      <th>pH</th>\n",
              "      <th>DO</th>\n",
              "      <th>TDS</th>\n",
              "      <th>Alkalinity</th>\n",
              "      <th>EC</th>\n",
              "      <th>Na</th>\n",
              "      <th>Ca</th>\n",
              "      <th>Mg</th>\n",
              "      <th>K</th>\n",
              "      <th>F</th>\n",
              "      <th>Cl</th>\n",
              "      <th>Nitrate</th>\n",
              "      <th>Sulphate</th>\n",
              "      <th>Phosphate</th>\n",
              "      <th>WPI</th>\n",
              "      <th>WQC</th>\n",
              "    </tr>\n",
              "  </thead>\n",
              "  <tbody>\n",
              "    <tr>\n",
              "      <th>0</th>\n",
              "      <td>0</td>\n",
              "      <td>8.14</td>\n",
              "      <td>8.7</td>\n",
              "      <td>84.0</td>\n",
              "      <td>52.0</td>\n",
              "      <td>147.8</td>\n",
              "      <td>4.48</td>\n",
              "      <td>44.0</td>\n",
              "      <td>20.0</td>\n",
              "      <td>1.17</td>\n",
              "      <td>0.285</td>\n",
              "      <td>7.80</td>\n",
              "      <td>0.758000</td>\n",
              "      <td>6.534660</td>\n",
              "      <td>0.06211</td>\n",
              "      <td>0.249528</td>\n",
              "      <td>Excellent</td>\n",
              "    </tr>\n",
              "    <tr>\n",
              "      <th>1</th>\n",
              "      <td>1</td>\n",
              "      <td>7.70</td>\n",
              "      <td>8.8</td>\n",
              "      <td>110.0</td>\n",
              "      <td>76.0</td>\n",
              "      <td>188.0</td>\n",
              "      <td>8.61</td>\n",
              "      <td>44.0</td>\n",
              "      <td>36.0</td>\n",
              "      <td>3.46</td>\n",
              "      <td>0.401</td>\n",
              "      <td>14.80</td>\n",
              "      <td>0.196062</td>\n",
              "      <td>8.138620</td>\n",
              "      <td>0.00960</td>\n",
              "      <td>0.216400</td>\n",
              "      <td>Excellent</td>\n",
              "    </tr>\n",
              "    <tr>\n",
              "      <th>2</th>\n",
              "      <td>2</td>\n",
              "      <td>7.60</td>\n",
              "      <td>7.5</td>\n",
              "      <td>75.0</td>\n",
              "      <td>44.0</td>\n",
              "      <td>128.0</td>\n",
              "      <td>8.11</td>\n",
              "      <td>28.0</td>\n",
              "      <td>20.0</td>\n",
              "      <td>2.80</td>\n",
              "      <td>0.379</td>\n",
              "      <td>14.80</td>\n",
              "      <td>0.298875</td>\n",
              "      <td>3.855625</td>\n",
              "      <td>0.01280</td>\n",
              "      <td>0.183814</td>\n",
              "      <td>Excellent</td>\n",
              "    </tr>\n",
              "    <tr>\n",
              "      <th>3</th>\n",
              "      <td>3</td>\n",
              "      <td>8.20</td>\n",
              "      <td>9.1</td>\n",
              "      <td>76.0</td>\n",
              "      <td>56.0</td>\n",
              "      <td>127.0</td>\n",
              "      <td>6.30</td>\n",
              "      <td>44.0</td>\n",
              "      <td>18.0</td>\n",
              "      <td>1.65</td>\n",
              "      <td>0.396</td>\n",
              "      <td>9.60</td>\n",
              "      <td>0.299590</td>\n",
              "      <td>2.238750</td>\n",
              "      <td>0.01536</td>\n",
              "      <td>0.219282</td>\n",
              "      <td>Excellent</td>\n",
              "    </tr>\n",
              "    <tr>\n",
              "      <th>4</th>\n",
              "      <td>4</td>\n",
              "      <td>7.31</td>\n",
              "      <td>7.3</td>\n",
              "      <td>84.0</td>\n",
              "      <td>52.0</td>\n",
              "      <td>140.0</td>\n",
              "      <td>5.50</td>\n",
              "      <td>28.0</td>\n",
              "      <td>20.0</td>\n",
              "      <td>1.61</td>\n",
              "      <td>0.265</td>\n",
              "      <td>8.30</td>\n",
              "      <td>0.106000</td>\n",
              "      <td>5.600000</td>\n",
              "      <td>0.01000</td>\n",
              "      <td>0.165831</td>\n",
              "      <td>Excellent</td>\n",
              "    </tr>\n",
              "    <tr>\n",
              "      <th>...</th>\n",
              "      <td>...</td>\n",
              "      <td>...</td>\n",
              "      <td>...</td>\n",
              "      <td>...</td>\n",
              "      <td>...</td>\n",
              "      <td>...</td>\n",
              "      <td>...</td>\n",
              "      <td>...</td>\n",
              "      <td>...</td>\n",
              "      <td>...</td>\n",
              "      <td>...</td>\n",
              "      <td>...</td>\n",
              "      <td>...</td>\n",
              "      <td>...</td>\n",
              "      <td>...</td>\n",
              "      <td>...</td>\n",
              "      <td>...</td>\n",
              "    </tr>\n",
              "    <tr>\n",
              "      <th>482</th>\n",
              "      <td>482</td>\n",
              "      <td>7.60</td>\n",
              "      <td>5.6</td>\n",
              "      <td>224.0</td>\n",
              "      <td>8.0</td>\n",
              "      <td>370.0</td>\n",
              "      <td>16.14</td>\n",
              "      <td>92.0</td>\n",
              "      <td>24.0</td>\n",
              "      <td>7.60</td>\n",
              "      <td>2.270</td>\n",
              "      <td>23.04</td>\n",
              "      <td>1.352000</td>\n",
              "      <td>104.480000</td>\n",
              "      <td>0.01500</td>\n",
              "      <td>0.419630</td>\n",
              "      <td>Excellent</td>\n",
              "    </tr>\n",
              "    <tr>\n",
              "      <th>483</th>\n",
              "      <td>483</td>\n",
              "      <td>7.30</td>\n",
              "      <td>5.6</td>\n",
              "      <td>266.0</td>\n",
              "      <td>96.0</td>\n",
              "      <td>434.0</td>\n",
              "      <td>20.56</td>\n",
              "      <td>96.0</td>\n",
              "      <td>32.0</td>\n",
              "      <td>9.89</td>\n",
              "      <td>1.550</td>\n",
              "      <td>30.86</td>\n",
              "      <td>7.074000</td>\n",
              "      <td>61.068000</td>\n",
              "      <td>0.03300</td>\n",
              "      <td>0.432996</td>\n",
              "      <td>Excellent</td>\n",
              "    </tr>\n",
              "    <tr>\n",
              "      <th>484</th>\n",
              "      <td>484</td>\n",
              "      <td>5.10</td>\n",
              "      <td>5.8</td>\n",
              "      <td>290.0</td>\n",
              "      <td>12.0</td>\n",
              "      <td>487.0</td>\n",
              "      <td>37.35</td>\n",
              "      <td>60.0</td>\n",
              "      <td>44.0</td>\n",
              "      <td>14.80</td>\n",
              "      <td>0.159</td>\n",
              "      <td>60.13</td>\n",
              "      <td>9.256000</td>\n",
              "      <td>89.910000</td>\n",
              "      <td>0.16300</td>\n",
              "      <td>0.326811</td>\n",
              "      <td>Excellent</td>\n",
              "    </tr>\n",
              "    <tr>\n",
              "      <th>485</th>\n",
              "      <td>485</td>\n",
              "      <td>7.40</td>\n",
              "      <td>6.4</td>\n",
              "      <td>230.0</td>\n",
              "      <td>72.0</td>\n",
              "      <td>385.0</td>\n",
              "      <td>20.06</td>\n",
              "      <td>70.0</td>\n",
              "      <td>42.0</td>\n",
              "      <td>10.35</td>\n",
              "      <td>1.360</td>\n",
              "      <td>32.92</td>\n",
              "      <td>7.110435</td>\n",
              "      <td>48.500000</td>\n",
              "      <td>0.21900</td>\n",
              "      <td>0.509970</td>\n",
              "      <td>Good</td>\n",
              "    </tr>\n",
              "    <tr>\n",
              "      <th>486</th>\n",
              "      <td>486</td>\n",
              "      <td>7.60</td>\n",
              "      <td>6.9</td>\n",
              "      <td>243.0</td>\n",
              "      <td>68.0</td>\n",
              "      <td>410.8</td>\n",
              "      <td>17.41</td>\n",
              "      <td>82.0</td>\n",
              "      <td>50.0</td>\n",
              "      <td>9.92</td>\n",
              "      <td>1.310</td>\n",
              "      <td>34.89</td>\n",
              "      <td>6.385000</td>\n",
              "      <td>59.940000</td>\n",
              "      <td>0.07000</td>\n",
              "      <td>0.422551</td>\n",
              "      <td>Excellent</td>\n",
              "    </tr>\n",
              "  </tbody>\n",
              "</table>\n",
              "<p>487 rows × 17 columns</p>\n",
              "</div>"
            ],
            "text/plain": [
              "     Unnamed: 0    pH   DO    TDS  ...    Sulphate  Phosphate       WPI        WQC\n",
              "0             0  8.14  8.7   84.0  ...    6.534660    0.06211  0.249528  Excellent\n",
              "1             1  7.70  8.8  110.0  ...    8.138620    0.00960  0.216400  Excellent\n",
              "2             2  7.60  7.5   75.0  ...    3.855625    0.01280  0.183814  Excellent\n",
              "3             3  8.20  9.1   76.0  ...    2.238750    0.01536  0.219282  Excellent\n",
              "4             4  7.31  7.3   84.0  ...    5.600000    0.01000  0.165831  Excellent\n",
              "..          ...   ...  ...    ...  ...         ...        ...       ...        ...\n",
              "482         482  7.60  5.6  224.0  ...  104.480000    0.01500  0.419630  Excellent\n",
              "483         483  7.30  5.6  266.0  ...   61.068000    0.03300  0.432996  Excellent\n",
              "484         484  5.10  5.8  290.0  ...   89.910000    0.16300  0.326811  Excellent\n",
              "485         485  7.40  6.4  230.0  ...   48.500000    0.21900  0.509970       Good\n",
              "486         486  7.60  6.9  243.0  ...   59.940000    0.07000  0.422551  Excellent\n",
              "\n",
              "[487 rows x 17 columns]"
            ]
          },
          "metadata": {
            "tags": []
          },
          "execution_count": 3
        }
      ]
    },
    {
      "cell_type": "code",
      "metadata": {
        "colab": {
          "base_uri": "https://localhost:8080/",
          "height": 419
        },
        "id": "CZKdarUNUk7J",
        "outputId": "68036676-9f6e-4db7-c828-221285082180"
      },
      "source": [
        "df.drop(df.columns[df.columns.str.contains('unnamed',case = False)],axis = 1, inplace = True)\n",
        "df.drop('WQC', inplace=True, axis=1)\n",
        "df"
      ],
      "execution_count": 4,
      "outputs": [
        {
          "output_type": "execute_result",
          "data": {
            "text/html": [
              "<div>\n",
              "<style scoped>\n",
              "    .dataframe tbody tr th:only-of-type {\n",
              "        vertical-align: middle;\n",
              "    }\n",
              "\n",
              "    .dataframe tbody tr th {\n",
              "        vertical-align: top;\n",
              "    }\n",
              "\n",
              "    .dataframe thead th {\n",
              "        text-align: right;\n",
              "    }\n",
              "</style>\n",
              "<table border=\"1\" class=\"dataframe\">\n",
              "  <thead>\n",
              "    <tr style=\"text-align: right;\">\n",
              "      <th></th>\n",
              "      <th>pH</th>\n",
              "      <th>DO</th>\n",
              "      <th>TDS</th>\n",
              "      <th>Alkalinity</th>\n",
              "      <th>EC</th>\n",
              "      <th>Na</th>\n",
              "      <th>Ca</th>\n",
              "      <th>Mg</th>\n",
              "      <th>K</th>\n",
              "      <th>F</th>\n",
              "      <th>Cl</th>\n",
              "      <th>Nitrate</th>\n",
              "      <th>Sulphate</th>\n",
              "      <th>Phosphate</th>\n",
              "      <th>WPI</th>\n",
              "    </tr>\n",
              "  </thead>\n",
              "  <tbody>\n",
              "    <tr>\n",
              "      <th>0</th>\n",
              "      <td>8.14</td>\n",
              "      <td>8.7</td>\n",
              "      <td>84.0</td>\n",
              "      <td>52.0</td>\n",
              "      <td>147.8</td>\n",
              "      <td>4.48</td>\n",
              "      <td>44.0</td>\n",
              "      <td>20.0</td>\n",
              "      <td>1.17</td>\n",
              "      <td>0.285</td>\n",
              "      <td>7.80</td>\n",
              "      <td>0.758000</td>\n",
              "      <td>6.534660</td>\n",
              "      <td>0.06211</td>\n",
              "      <td>0.249528</td>\n",
              "    </tr>\n",
              "    <tr>\n",
              "      <th>1</th>\n",
              "      <td>7.70</td>\n",
              "      <td>8.8</td>\n",
              "      <td>110.0</td>\n",
              "      <td>76.0</td>\n",
              "      <td>188.0</td>\n",
              "      <td>8.61</td>\n",
              "      <td>44.0</td>\n",
              "      <td>36.0</td>\n",
              "      <td>3.46</td>\n",
              "      <td>0.401</td>\n",
              "      <td>14.80</td>\n",
              "      <td>0.196062</td>\n",
              "      <td>8.138620</td>\n",
              "      <td>0.00960</td>\n",
              "      <td>0.216400</td>\n",
              "    </tr>\n",
              "    <tr>\n",
              "      <th>2</th>\n",
              "      <td>7.60</td>\n",
              "      <td>7.5</td>\n",
              "      <td>75.0</td>\n",
              "      <td>44.0</td>\n",
              "      <td>128.0</td>\n",
              "      <td>8.11</td>\n",
              "      <td>28.0</td>\n",
              "      <td>20.0</td>\n",
              "      <td>2.80</td>\n",
              "      <td>0.379</td>\n",
              "      <td>14.80</td>\n",
              "      <td>0.298875</td>\n",
              "      <td>3.855625</td>\n",
              "      <td>0.01280</td>\n",
              "      <td>0.183814</td>\n",
              "    </tr>\n",
              "    <tr>\n",
              "      <th>3</th>\n",
              "      <td>8.20</td>\n",
              "      <td>9.1</td>\n",
              "      <td>76.0</td>\n",
              "      <td>56.0</td>\n",
              "      <td>127.0</td>\n",
              "      <td>6.30</td>\n",
              "      <td>44.0</td>\n",
              "      <td>18.0</td>\n",
              "      <td>1.65</td>\n",
              "      <td>0.396</td>\n",
              "      <td>9.60</td>\n",
              "      <td>0.299590</td>\n",
              "      <td>2.238750</td>\n",
              "      <td>0.01536</td>\n",
              "      <td>0.219282</td>\n",
              "    </tr>\n",
              "    <tr>\n",
              "      <th>4</th>\n",
              "      <td>7.31</td>\n",
              "      <td>7.3</td>\n",
              "      <td>84.0</td>\n",
              "      <td>52.0</td>\n",
              "      <td>140.0</td>\n",
              "      <td>5.50</td>\n",
              "      <td>28.0</td>\n",
              "      <td>20.0</td>\n",
              "      <td>1.61</td>\n",
              "      <td>0.265</td>\n",
              "      <td>8.30</td>\n",
              "      <td>0.106000</td>\n",
              "      <td>5.600000</td>\n",
              "      <td>0.01000</td>\n",
              "      <td>0.165831</td>\n",
              "    </tr>\n",
              "    <tr>\n",
              "      <th>...</th>\n",
              "      <td>...</td>\n",
              "      <td>...</td>\n",
              "      <td>...</td>\n",
              "      <td>...</td>\n",
              "      <td>...</td>\n",
              "      <td>...</td>\n",
              "      <td>...</td>\n",
              "      <td>...</td>\n",
              "      <td>...</td>\n",
              "      <td>...</td>\n",
              "      <td>...</td>\n",
              "      <td>...</td>\n",
              "      <td>...</td>\n",
              "      <td>...</td>\n",
              "      <td>...</td>\n",
              "    </tr>\n",
              "    <tr>\n",
              "      <th>482</th>\n",
              "      <td>7.60</td>\n",
              "      <td>5.6</td>\n",
              "      <td>224.0</td>\n",
              "      <td>8.0</td>\n",
              "      <td>370.0</td>\n",
              "      <td>16.14</td>\n",
              "      <td>92.0</td>\n",
              "      <td>24.0</td>\n",
              "      <td>7.60</td>\n",
              "      <td>2.270</td>\n",
              "      <td>23.04</td>\n",
              "      <td>1.352000</td>\n",
              "      <td>104.480000</td>\n",
              "      <td>0.01500</td>\n",
              "      <td>0.419630</td>\n",
              "    </tr>\n",
              "    <tr>\n",
              "      <th>483</th>\n",
              "      <td>7.30</td>\n",
              "      <td>5.6</td>\n",
              "      <td>266.0</td>\n",
              "      <td>96.0</td>\n",
              "      <td>434.0</td>\n",
              "      <td>20.56</td>\n",
              "      <td>96.0</td>\n",
              "      <td>32.0</td>\n",
              "      <td>9.89</td>\n",
              "      <td>1.550</td>\n",
              "      <td>30.86</td>\n",
              "      <td>7.074000</td>\n",
              "      <td>61.068000</td>\n",
              "      <td>0.03300</td>\n",
              "      <td>0.432996</td>\n",
              "    </tr>\n",
              "    <tr>\n",
              "      <th>484</th>\n",
              "      <td>5.10</td>\n",
              "      <td>5.8</td>\n",
              "      <td>290.0</td>\n",
              "      <td>12.0</td>\n",
              "      <td>487.0</td>\n",
              "      <td>37.35</td>\n",
              "      <td>60.0</td>\n",
              "      <td>44.0</td>\n",
              "      <td>14.80</td>\n",
              "      <td>0.159</td>\n",
              "      <td>60.13</td>\n",
              "      <td>9.256000</td>\n",
              "      <td>89.910000</td>\n",
              "      <td>0.16300</td>\n",
              "      <td>0.326811</td>\n",
              "    </tr>\n",
              "    <tr>\n",
              "      <th>485</th>\n",
              "      <td>7.40</td>\n",
              "      <td>6.4</td>\n",
              "      <td>230.0</td>\n",
              "      <td>72.0</td>\n",
              "      <td>385.0</td>\n",
              "      <td>20.06</td>\n",
              "      <td>70.0</td>\n",
              "      <td>42.0</td>\n",
              "      <td>10.35</td>\n",
              "      <td>1.360</td>\n",
              "      <td>32.92</td>\n",
              "      <td>7.110435</td>\n",
              "      <td>48.500000</td>\n",
              "      <td>0.21900</td>\n",
              "      <td>0.509970</td>\n",
              "    </tr>\n",
              "    <tr>\n",
              "      <th>486</th>\n",
              "      <td>7.60</td>\n",
              "      <td>6.9</td>\n",
              "      <td>243.0</td>\n",
              "      <td>68.0</td>\n",
              "      <td>410.8</td>\n",
              "      <td>17.41</td>\n",
              "      <td>82.0</td>\n",
              "      <td>50.0</td>\n",
              "      <td>9.92</td>\n",
              "      <td>1.310</td>\n",
              "      <td>34.89</td>\n",
              "      <td>6.385000</td>\n",
              "      <td>59.940000</td>\n",
              "      <td>0.07000</td>\n",
              "      <td>0.422551</td>\n",
              "    </tr>\n",
              "  </tbody>\n",
              "</table>\n",
              "<p>487 rows × 15 columns</p>\n",
              "</div>"
            ],
            "text/plain": [
              "       pH   DO    TDS  Alkalinity  ...   Nitrate    Sulphate  Phosphate       WPI\n",
              "0    8.14  8.7   84.0        52.0  ...  0.758000    6.534660    0.06211  0.249528\n",
              "1    7.70  8.8  110.0        76.0  ...  0.196062    8.138620    0.00960  0.216400\n",
              "2    7.60  7.5   75.0        44.0  ...  0.298875    3.855625    0.01280  0.183814\n",
              "3    8.20  9.1   76.0        56.0  ...  0.299590    2.238750    0.01536  0.219282\n",
              "4    7.31  7.3   84.0        52.0  ...  0.106000    5.600000    0.01000  0.165831\n",
              "..    ...  ...    ...         ...  ...       ...         ...        ...       ...\n",
              "482  7.60  5.6  224.0         8.0  ...  1.352000  104.480000    0.01500  0.419630\n",
              "483  7.30  5.6  266.0        96.0  ...  7.074000   61.068000    0.03300  0.432996\n",
              "484  5.10  5.8  290.0        12.0  ...  9.256000   89.910000    0.16300  0.326811\n",
              "485  7.40  6.4  230.0        72.0  ...  7.110435   48.500000    0.21900  0.509970\n",
              "486  7.60  6.9  243.0        68.0  ...  6.385000   59.940000    0.07000  0.422551\n",
              "\n",
              "[487 rows x 15 columns]"
            ]
          },
          "metadata": {
            "tags": []
          },
          "execution_count": 4
        }
      ]
    },
    {
      "cell_type": "code",
      "metadata": {
        "colab": {
          "base_uri": "https://localhost:8080/"
        },
        "id": "ghSwfnMKU83z",
        "outputId": "4f767fe4-891f-42a4-c82c-601e604cc372"
      },
      "source": [
        "df.isnull().sum()"
      ],
      "execution_count": 5,
      "outputs": [
        {
          "output_type": "execute_result",
          "data": {
            "text/plain": [
              "pH            0\n",
              "DO            0\n",
              "TDS           0\n",
              "Alkalinity    0\n",
              "EC            0\n",
              "Na            0\n",
              "Ca            0\n",
              "Mg            0\n",
              "K             0\n",
              "F             0\n",
              "Cl            0\n",
              "Nitrate       0\n",
              "Sulphate      0\n",
              "Phosphate     2\n",
              "WPI           0\n",
              "dtype: int64"
            ]
          },
          "metadata": {
            "tags": []
          },
          "execution_count": 5
        }
      ]
    },
    {
      "cell_type": "code",
      "metadata": {
        "colab": {
          "base_uri": "https://localhost:8080/"
        },
        "id": "1hvkPM-qVM2S",
        "outputId": "7bfd6751-cde2-4a9e-c9e4-44f911572ab7"
      },
      "source": [
        "import numpy as np\n",
        "\n",
        "pho = df['Phosphate']\n",
        "\n",
        "for i in range(len(pho)):\n",
        "    if i>5:\n",
        "        if np.isnan(pho[i]):\n",
        "                pho[i] = np.mean([pho[i-1], pho[i-2], pho[i-3], pho[i-4], pho[i-5]])\n",
        "pho\n",
        "\n",
        "for i in range(4,-1,-1):\n",
        "    if np.isnan(pho[i]):\n",
        "            pho[i] = np.mean([pho[i+1], pho[i+2], pho[i+3], pho[i+4], pho[i+5]])\n",
        "pho"
      ],
      "execution_count": 6,
      "outputs": [
        {
          "output_type": "execute_result",
          "data": {
            "text/plain": [
              "0      0.06211\n",
              "1      0.00960\n",
              "2      0.01280\n",
              "3      0.01536\n",
              "4      0.01000\n",
              "        ...   \n",
              "482    0.01500\n",
              "483    0.03300\n",
              "484    0.16300\n",
              "485    0.21900\n",
              "486    0.07000\n",
              "Name: Phosphate, Length: 487, dtype: float64"
            ]
          },
          "metadata": {
            "tags": []
          },
          "execution_count": 6
        }
      ]
    },
    {
      "cell_type": "code",
      "metadata": {
        "colab": {
          "base_uri": "https://localhost:8080/"
        },
        "id": "k1e2ake7VUiE",
        "outputId": "48b8edde-5014-4473-b9cc-c86192ec85a4"
      },
      "source": [
        "df.isnull().sum()"
      ],
      "execution_count": 7,
      "outputs": [
        {
          "output_type": "execute_result",
          "data": {
            "text/plain": [
              "pH            0\n",
              "DO            0\n",
              "TDS           0\n",
              "Alkalinity    0\n",
              "EC            0\n",
              "Na            0\n",
              "Ca            0\n",
              "Mg            0\n",
              "K             0\n",
              "F             0\n",
              "Cl            0\n",
              "Nitrate       0\n",
              "Sulphate      0\n",
              "Phosphate     0\n",
              "WPI           0\n",
              "dtype: int64"
            ]
          },
          "metadata": {
            "tags": []
          },
          "execution_count": 7
        }
      ]
    },
    {
      "cell_type": "code",
      "metadata": {
        "colab": {
          "base_uri": "https://localhost:8080/",
          "height": 204
        },
        "id": "rkwFy92WVtA4",
        "outputId": "0a5a3515-6ccc-4745-8e18-2a15e9c6956b"
      },
      "source": [
        "df.tail()"
      ],
      "execution_count": 8,
      "outputs": [
        {
          "output_type": "execute_result",
          "data": {
            "text/html": [
              "<div>\n",
              "<style scoped>\n",
              "    .dataframe tbody tr th:only-of-type {\n",
              "        vertical-align: middle;\n",
              "    }\n",
              "\n",
              "    .dataframe tbody tr th {\n",
              "        vertical-align: top;\n",
              "    }\n",
              "\n",
              "    .dataframe thead th {\n",
              "        text-align: right;\n",
              "    }\n",
              "</style>\n",
              "<table border=\"1\" class=\"dataframe\">\n",
              "  <thead>\n",
              "    <tr style=\"text-align: right;\">\n",
              "      <th></th>\n",
              "      <th>pH</th>\n",
              "      <th>DO</th>\n",
              "      <th>TDS</th>\n",
              "      <th>Alkalinity</th>\n",
              "      <th>EC</th>\n",
              "      <th>Na</th>\n",
              "      <th>Ca</th>\n",
              "      <th>Mg</th>\n",
              "      <th>K</th>\n",
              "      <th>F</th>\n",
              "      <th>Cl</th>\n",
              "      <th>Nitrate</th>\n",
              "      <th>Sulphate</th>\n",
              "      <th>Phosphate</th>\n",
              "      <th>WPI</th>\n",
              "    </tr>\n",
              "  </thead>\n",
              "  <tbody>\n",
              "    <tr>\n",
              "      <th>482</th>\n",
              "      <td>7.6</td>\n",
              "      <td>5.6</td>\n",
              "      <td>224.0</td>\n",
              "      <td>8.0</td>\n",
              "      <td>370.0</td>\n",
              "      <td>16.14</td>\n",
              "      <td>92.0</td>\n",
              "      <td>24.0</td>\n",
              "      <td>7.60</td>\n",
              "      <td>2.270</td>\n",
              "      <td>23.04</td>\n",
              "      <td>1.352000</td>\n",
              "      <td>104.480</td>\n",
              "      <td>0.015</td>\n",
              "      <td>0.419630</td>\n",
              "    </tr>\n",
              "    <tr>\n",
              "      <th>483</th>\n",
              "      <td>7.3</td>\n",
              "      <td>5.6</td>\n",
              "      <td>266.0</td>\n",
              "      <td>96.0</td>\n",
              "      <td>434.0</td>\n",
              "      <td>20.56</td>\n",
              "      <td>96.0</td>\n",
              "      <td>32.0</td>\n",
              "      <td>9.89</td>\n",
              "      <td>1.550</td>\n",
              "      <td>30.86</td>\n",
              "      <td>7.074000</td>\n",
              "      <td>61.068</td>\n",
              "      <td>0.033</td>\n",
              "      <td>0.432996</td>\n",
              "    </tr>\n",
              "    <tr>\n",
              "      <th>484</th>\n",
              "      <td>5.1</td>\n",
              "      <td>5.8</td>\n",
              "      <td>290.0</td>\n",
              "      <td>12.0</td>\n",
              "      <td>487.0</td>\n",
              "      <td>37.35</td>\n",
              "      <td>60.0</td>\n",
              "      <td>44.0</td>\n",
              "      <td>14.80</td>\n",
              "      <td>0.159</td>\n",
              "      <td>60.13</td>\n",
              "      <td>9.256000</td>\n",
              "      <td>89.910</td>\n",
              "      <td>0.163</td>\n",
              "      <td>0.326811</td>\n",
              "    </tr>\n",
              "    <tr>\n",
              "      <th>485</th>\n",
              "      <td>7.4</td>\n",
              "      <td>6.4</td>\n",
              "      <td>230.0</td>\n",
              "      <td>72.0</td>\n",
              "      <td>385.0</td>\n",
              "      <td>20.06</td>\n",
              "      <td>70.0</td>\n",
              "      <td>42.0</td>\n",
              "      <td>10.35</td>\n",
              "      <td>1.360</td>\n",
              "      <td>32.92</td>\n",
              "      <td>7.110435</td>\n",
              "      <td>48.500</td>\n",
              "      <td>0.219</td>\n",
              "      <td>0.509970</td>\n",
              "    </tr>\n",
              "    <tr>\n",
              "      <th>486</th>\n",
              "      <td>7.6</td>\n",
              "      <td>6.9</td>\n",
              "      <td>243.0</td>\n",
              "      <td>68.0</td>\n",
              "      <td>410.8</td>\n",
              "      <td>17.41</td>\n",
              "      <td>82.0</td>\n",
              "      <td>50.0</td>\n",
              "      <td>9.92</td>\n",
              "      <td>1.310</td>\n",
              "      <td>34.89</td>\n",
              "      <td>6.385000</td>\n",
              "      <td>59.940</td>\n",
              "      <td>0.070</td>\n",
              "      <td>0.422551</td>\n",
              "    </tr>\n",
              "  </tbody>\n",
              "</table>\n",
              "</div>"
            ],
            "text/plain": [
              "      pH   DO    TDS  Alkalinity  ...   Nitrate  Sulphate  Phosphate       WPI\n",
              "482  7.6  5.6  224.0         8.0  ...  1.352000   104.480      0.015  0.419630\n",
              "483  7.3  5.6  266.0        96.0  ...  7.074000    61.068      0.033  0.432996\n",
              "484  5.1  5.8  290.0        12.0  ...  9.256000    89.910      0.163  0.326811\n",
              "485  7.4  6.4  230.0        72.0  ...  7.110435    48.500      0.219  0.509970\n",
              "486  7.6  6.9  243.0        68.0  ...  6.385000    59.940      0.070  0.422551\n",
              "\n",
              "[5 rows x 15 columns]"
            ]
          },
          "metadata": {
            "tags": []
          },
          "execution_count": 8
        }
      ]
    },
    {
      "cell_type": "code",
      "metadata": {
        "id": "ue1EIe7XV284"
      },
      "source": [
        "normalized_df=(df-df.min())/(df.max()-df.min())"
      ],
      "execution_count": 9,
      "outputs": []
    },
    {
      "cell_type": "code",
      "metadata": {
        "colab": {
          "base_uri": "https://localhost:8080/",
          "height": 419
        },
        "id": "qbruhBr4WGEx",
        "outputId": "69d5bd92-a222-4df5-a1c4-b88ccc98abb4"
      },
      "source": [
        "normalized_df"
      ],
      "execution_count": 10,
      "outputs": [
        {
          "output_type": "execute_result",
          "data": {
            "text/html": [
              "<div>\n",
              "<style scoped>\n",
              "    .dataframe tbody tr th:only-of-type {\n",
              "        vertical-align: middle;\n",
              "    }\n",
              "\n",
              "    .dataframe tbody tr th {\n",
              "        vertical-align: top;\n",
              "    }\n",
              "\n",
              "    .dataframe thead th {\n",
              "        text-align: right;\n",
              "    }\n",
              "</style>\n",
              "<table border=\"1\" class=\"dataframe\">\n",
              "  <thead>\n",
              "    <tr style=\"text-align: right;\">\n",
              "      <th></th>\n",
              "      <th>pH</th>\n",
              "      <th>DO</th>\n",
              "      <th>TDS</th>\n",
              "      <th>Alkalinity</th>\n",
              "      <th>EC</th>\n",
              "      <th>Na</th>\n",
              "      <th>Ca</th>\n",
              "      <th>Mg</th>\n",
              "      <th>K</th>\n",
              "      <th>F</th>\n",
              "      <th>Cl</th>\n",
              "      <th>Nitrate</th>\n",
              "      <th>Sulphate</th>\n",
              "      <th>Phosphate</th>\n",
              "      <th>WPI</th>\n",
              "    </tr>\n",
              "  </thead>\n",
              "  <tbody>\n",
              "    <tr>\n",
              "      <th>0</th>\n",
              "      <td>0.876081</td>\n",
              "      <td>0.483871</td>\n",
              "      <td>0.111111</td>\n",
              "      <td>0.271605</td>\n",
              "      <td>0.123267</td>\n",
              "      <td>0.049610</td>\n",
              "      <td>0.227273</td>\n",
              "      <td>0.219512</td>\n",
              "      <td>0.038242</td>\n",
              "      <td>0.075308</td>\n",
              "      <td>0.057554</td>\n",
              "      <td>0.077630</td>\n",
              "      <td>0.055384</td>\n",
              "      <td>0.035190</td>\n",
              "      <td>0.097276</td>\n",
              "    </tr>\n",
              "    <tr>\n",
              "      <th>1</th>\n",
              "      <td>0.749280</td>\n",
              "      <td>0.494624</td>\n",
              "      <td>0.214286</td>\n",
              "      <td>0.419753</td>\n",
              "      <td>0.222772</td>\n",
              "      <td>0.139081</td>\n",
              "      <td>0.227273</td>\n",
              "      <td>0.414634</td>\n",
              "      <td>0.168950</td>\n",
              "      <td>0.113962</td>\n",
              "      <td>0.158273</td>\n",
              "      <td>0.019775</td>\n",
              "      <td>0.070853</td>\n",
              "      <td>0.005439</td>\n",
              "      <td>0.075203</td>\n",
              "    </tr>\n",
              "    <tr>\n",
              "      <th>2</th>\n",
              "      <td>0.720461</td>\n",
              "      <td>0.354839</td>\n",
              "      <td>0.075397</td>\n",
              "      <td>0.222222</td>\n",
              "      <td>0.074257</td>\n",
              "      <td>0.128250</td>\n",
              "      <td>0.106061</td>\n",
              "      <td>0.219512</td>\n",
              "      <td>0.131279</td>\n",
              "      <td>0.106631</td>\n",
              "      <td>0.158273</td>\n",
              "      <td>0.030360</td>\n",
              "      <td>0.029547</td>\n",
              "      <td>0.007252</td>\n",
              "      <td>0.053492</td>\n",
              "    </tr>\n",
              "    <tr>\n",
              "      <th>3</th>\n",
              "      <td>0.893372</td>\n",
              "      <td>0.526882</td>\n",
              "      <td>0.079365</td>\n",
              "      <td>0.296296</td>\n",
              "      <td>0.071782</td>\n",
              "      <td>0.089038</td>\n",
              "      <td>0.227273</td>\n",
              "      <td>0.195122</td>\n",
              "      <td>0.065639</td>\n",
              "      <td>0.112296</td>\n",
              "      <td>0.083453</td>\n",
              "      <td>0.030434</td>\n",
              "      <td>0.013953</td>\n",
              "      <td>0.008703</td>\n",
              "      <td>0.077124</td>\n",
              "    </tr>\n",
              "    <tr>\n",
              "      <th>4</th>\n",
              "      <td>0.636888</td>\n",
              "      <td>0.333333</td>\n",
              "      <td>0.111111</td>\n",
              "      <td>0.271605</td>\n",
              "      <td>0.103960</td>\n",
              "      <td>0.071707</td>\n",
              "      <td>0.106061</td>\n",
              "      <td>0.219512</td>\n",
              "      <td>0.063356</td>\n",
              "      <td>0.068644</td>\n",
              "      <td>0.064748</td>\n",
              "      <td>0.010503</td>\n",
              "      <td>0.046370</td>\n",
              "      <td>0.005666</td>\n",
              "      <td>0.041510</td>\n",
              "    </tr>\n",
              "    <tr>\n",
              "      <th>...</th>\n",
              "      <td>...</td>\n",
              "      <td>...</td>\n",
              "      <td>...</td>\n",
              "      <td>...</td>\n",
              "      <td>...</td>\n",
              "      <td>...</td>\n",
              "      <td>...</td>\n",
              "      <td>...</td>\n",
              "      <td>...</td>\n",
              "      <td>...</td>\n",
              "      <td>...</td>\n",
              "      <td>...</td>\n",
              "      <td>...</td>\n",
              "      <td>...</td>\n",
              "      <td>...</td>\n",
              "    </tr>\n",
              "    <tr>\n",
              "      <th>482</th>\n",
              "      <td>0.720461</td>\n",
              "      <td>0.150538</td>\n",
              "      <td>0.666667</td>\n",
              "      <td>0.000000</td>\n",
              "      <td>0.673267</td>\n",
              "      <td>0.302210</td>\n",
              "      <td>0.590909</td>\n",
              "      <td>0.268293</td>\n",
              "      <td>0.405251</td>\n",
              "      <td>0.736754</td>\n",
              "      <td>0.276835</td>\n",
              "      <td>0.138785</td>\n",
              "      <td>1.000000</td>\n",
              "      <td>0.008499</td>\n",
              "      <td>0.210614</td>\n",
              "    </tr>\n",
              "    <tr>\n",
              "      <th>483</th>\n",
              "      <td>0.634006</td>\n",
              "      <td>0.150538</td>\n",
              "      <td>0.833333</td>\n",
              "      <td>0.543210</td>\n",
              "      <td>0.831683</td>\n",
              "      <td>0.397964</td>\n",
              "      <td>0.621212</td>\n",
              "      <td>0.365854</td>\n",
              "      <td>0.535959</td>\n",
              "      <td>0.496834</td>\n",
              "      <td>0.389353</td>\n",
              "      <td>0.727893</td>\n",
              "      <td>0.581321</td>\n",
              "      <td>0.018697</td>\n",
              "      <td>0.219520</td>\n",
              "    </tr>\n",
              "    <tr>\n",
              "      <th>484</th>\n",
              "      <td>0.000000</td>\n",
              "      <td>0.172043</td>\n",
              "      <td>0.928571</td>\n",
              "      <td>0.024691</td>\n",
              "      <td>0.962871</td>\n",
              "      <td>0.761698</td>\n",
              "      <td>0.348485</td>\n",
              "      <td>0.512195</td>\n",
              "      <td>0.816210</td>\n",
              "      <td>0.033322</td>\n",
              "      <td>0.810504</td>\n",
              "      <td>0.952541</td>\n",
              "      <td>0.859482</td>\n",
              "      <td>0.092351</td>\n",
              "      <td>0.148769</td>\n",
              "    </tr>\n",
              "    <tr>\n",
              "      <th>485</th>\n",
              "      <td>0.662824</td>\n",
              "      <td>0.236559</td>\n",
              "      <td>0.690476</td>\n",
              "      <td>0.395062</td>\n",
              "      <td>0.710396</td>\n",
              "      <td>0.387132</td>\n",
              "      <td>0.424242</td>\n",
              "      <td>0.487805</td>\n",
              "      <td>0.562215</td>\n",
              "      <td>0.433522</td>\n",
              "      <td>0.418993</td>\n",
              "      <td>0.731644</td>\n",
              "      <td>0.460111</td>\n",
              "      <td>0.124079</td>\n",
              "      <td>0.270807</td>\n",
              "    </tr>\n",
              "    <tr>\n",
              "      <th>486</th>\n",
              "      <td>0.720461</td>\n",
              "      <td>0.290323</td>\n",
              "      <td>0.742063</td>\n",
              "      <td>0.370370</td>\n",
              "      <td>0.774257</td>\n",
              "      <td>0.329723</td>\n",
              "      <td>0.515152</td>\n",
              "      <td>0.585366</td>\n",
              "      <td>0.537671</td>\n",
              "      <td>0.416861</td>\n",
              "      <td>0.447338</td>\n",
              "      <td>0.656957</td>\n",
              "      <td>0.570442</td>\n",
              "      <td>0.039660</td>\n",
              "      <td>0.212560</td>\n",
              "    </tr>\n",
              "  </tbody>\n",
              "</table>\n",
              "<p>487 rows × 15 columns</p>\n",
              "</div>"
            ],
            "text/plain": [
              "           pH        DO       TDS  ...  Sulphate  Phosphate       WPI\n",
              "0    0.876081  0.483871  0.111111  ...  0.055384   0.035190  0.097276\n",
              "1    0.749280  0.494624  0.214286  ...  0.070853   0.005439  0.075203\n",
              "2    0.720461  0.354839  0.075397  ...  0.029547   0.007252  0.053492\n",
              "3    0.893372  0.526882  0.079365  ...  0.013953   0.008703  0.077124\n",
              "4    0.636888  0.333333  0.111111  ...  0.046370   0.005666  0.041510\n",
              "..        ...       ...       ...  ...       ...        ...       ...\n",
              "482  0.720461  0.150538  0.666667  ...  1.000000   0.008499  0.210614\n",
              "483  0.634006  0.150538  0.833333  ...  0.581321   0.018697  0.219520\n",
              "484  0.000000  0.172043  0.928571  ...  0.859482   0.092351  0.148769\n",
              "485  0.662824  0.236559  0.690476  ...  0.460111   0.124079  0.270807\n",
              "486  0.720461  0.290323  0.742063  ...  0.570442   0.039660  0.212560\n",
              "\n",
              "[487 rows x 15 columns]"
            ]
          },
          "metadata": {
            "tags": []
          },
          "execution_count": 10
        }
      ]
    },
    {
      "cell_type": "code",
      "metadata": {
        "colab": {
          "base_uri": "https://localhost:8080/",
          "height": 529
        },
        "id": "Y1LBooQyWIWK",
        "outputId": "642282e1-31e6-4fbe-9130-25283af0f022"
      },
      "source": [
        "import matplotlib.pyplot as plt\n",
        "import seaborn as sns\n",
        "\n",
        "plt.figure(figsize = (16, 8))\n",
        "sns.heatmap(normalized_df.corr(), annot = True)\n",
        "plt.show()"
      ],
      "execution_count": 11,
      "outputs": [
        {
          "output_type": "display_data",
          "data": {
            "image/png": "[encoded data removed]",
            "text/plain": [
              "<Figure size 1152x576 with 2 Axes>"
            ]
          },
          "metadata": {
            "tags": [],
            "needs_background": "light"
          }
        }
      ]
    },
    {
      "cell_type": "code",
      "metadata": {
        "colab": {
          "base_uri": "https://localhost:8080/"
        },
        "id": "EiYOsmVfYk9Q",
        "outputId": "b64a3586-6ba1-40a4-a0d1-2f3c1bb4ed96"
      },
      "source": [
        "normalized_df.isnull().sum()"
      ],
      "execution_count": 12,
      "outputs": [
        {
          "output_type": "execute_result",
          "data": {
            "text/plain": [
              "pH            0\n",
              "DO            0\n",
              "TDS           0\n",
              "Alkalinity    0\n",
              "EC            0\n",
              "Na            0\n",
              "Ca            0\n",
              "Mg            0\n",
              "K             0\n",
              "F             0\n",
              "Cl            0\n",
              "Nitrate       0\n",
              "Sulphate      0\n",
              "Phosphate     0\n",
              "WPI           0\n",
              "dtype: int64"
            ]
          },
          "metadata": {
            "tags": []
          },
          "execution_count": 12
        }
      ]
    },
    {
      "cell_type": "code",
      "metadata": {
        "colab": {
          "base_uri": "https://localhost:8080/",
          "height": 204
        },
        "id": "D6Q8m03gaAPj",
        "outputId": "853e1fcd-de4a-4f1e-980e-6691df35e9bc"
      },
      "source": [
        "x = normalized_df.drop('WPI',axis=1)\n",
        "x.head()"
      ],
      "execution_count": 13,
      "outputs": [
        {
          "output_type": "execute_result",
          "data": {
            "text/html": [
              "<div>\n",
              "<style scoped>\n",
              "    .dataframe tbody tr th:only-of-type {\n",
              "        vertical-align: middle;\n",
              "    }\n",
              "\n",
              "    .dataframe tbody tr th {\n",
              "        vertical-align: top;\n",
              "    }\n",
              "\n",
              "    .dataframe thead th {\n",
              "        text-align: right;\n",
              "    }\n",
              "</style>\n",
              "<table border=\"1\" class=\"dataframe\">\n",
              "  <thead>\n",
              "    <tr style=\"text-align: right;\">\n",
              "      <th></th>\n",
              "      <th>pH</th>\n",
              "      <th>DO</th>\n",
              "      <th>TDS</th>\n",
              "      <th>Alkalinity</th>\n",
              "      <th>EC</th>\n",
              "      <th>Na</th>\n",
              "      <th>Ca</th>\n",
              "      <th>Mg</th>\n",
              "      <th>K</th>\n",
              "      <th>F</th>\n",
              "      <th>Cl</th>\n",
              "      <th>Nitrate</th>\n",
              "      <th>Sulphate</th>\n",
              "      <th>Phosphate</th>\n",
              "    </tr>\n",
              "  </thead>\n",
              "  <tbody>\n",
              "    <tr>\n",
              "      <th>0</th>\n",
              "      <td>0.876081</td>\n",
              "      <td>0.483871</td>\n",
              "      <td>0.111111</td>\n",
              "      <td>0.271605</td>\n",
              "      <td>0.123267</td>\n",
              "      <td>0.049610</td>\n",
              "      <td>0.227273</td>\n",
              "      <td>0.219512</td>\n",
              "      <td>0.038242</td>\n",
              "      <td>0.075308</td>\n",
              "      <td>0.057554</td>\n",
              "      <td>0.077630</td>\n",
              "      <td>0.055384</td>\n",
              "      <td>0.035190</td>\n",
              "    </tr>\n",
              "    <tr>\n",
              "      <th>1</th>\n",
              "      <td>0.749280</td>\n",
              "      <td>0.494624</td>\n",
              "      <td>0.214286</td>\n",
              "      <td>0.419753</td>\n",
              "      <td>0.222772</td>\n",
              "      <td>0.139081</td>\n",
              "      <td>0.227273</td>\n",
              "      <td>0.414634</td>\n",
              "      <td>0.168950</td>\n",
              "      <td>0.113962</td>\n",
              "      <td>0.158273</td>\n",
              "      <td>0.019775</td>\n",
              "      <td>0.070853</td>\n",
              "      <td>0.005439</td>\n",
              "    </tr>\n",
              "    <tr>\n",
              "      <th>2</th>\n",
              "      <td>0.720461</td>\n",
              "      <td>0.354839</td>\n",
              "      <td>0.075397</td>\n",
              "      <td>0.222222</td>\n",
              "      <td>0.074257</td>\n",
              "      <td>0.128250</td>\n",
              "      <td>0.106061</td>\n",
              "      <td>0.219512</td>\n",
              "      <td>0.131279</td>\n",
              "      <td>0.106631</td>\n",
              "      <td>0.158273</td>\n",
              "      <td>0.030360</td>\n",
              "      <td>0.029547</td>\n",
              "      <td>0.007252</td>\n",
              "    </tr>\n",
              "    <tr>\n",
              "      <th>3</th>\n",
              "      <td>0.893372</td>\n",
              "      <td>0.526882</td>\n",
              "      <td>0.079365</td>\n",
              "      <td>0.296296</td>\n",
              "      <td>0.071782</td>\n",
              "      <td>0.089038</td>\n",
              "      <td>0.227273</td>\n",
              "      <td>0.195122</td>\n",
              "      <td>0.065639</td>\n",
              "      <td>0.112296</td>\n",
              "      <td>0.083453</td>\n",
              "      <td>0.030434</td>\n",
              "      <td>0.013953</td>\n",
              "      <td>0.008703</td>\n",
              "    </tr>\n",
              "    <tr>\n",
              "      <th>4</th>\n",
              "      <td>0.636888</td>\n",
              "      <td>0.333333</td>\n",
              "      <td>0.111111</td>\n",
              "      <td>0.271605</td>\n",
              "      <td>0.103960</td>\n",
              "      <td>0.071707</td>\n",
              "      <td>0.106061</td>\n",
              "      <td>0.219512</td>\n",
              "      <td>0.063356</td>\n",
              "      <td>0.068644</td>\n",
              "      <td>0.064748</td>\n",
              "      <td>0.010503</td>\n",
              "      <td>0.046370</td>\n",
              "      <td>0.005666</td>\n",
              "    </tr>\n",
              "  </tbody>\n",
              "</table>\n",
              "</div>"
            ],
            "text/plain": [
              "         pH        DO       TDS  ...   Nitrate  Sulphate  Phosphate\n",
              "0  0.876081  0.483871  0.111111  ...  0.077630  0.055384   0.035190\n",
              "1  0.749280  0.494624  0.214286  ...  0.019775  0.070853   0.005439\n",
              "2  0.720461  0.354839  0.075397  ...  0.030360  0.029547   0.007252\n",
              "3  0.893372  0.526882  0.079365  ...  0.030434  0.013953   0.008703\n",
              "4  0.636888  0.333333  0.111111  ...  0.010503  0.046370   0.005666\n",
              "\n",
              "[5 rows x 14 columns]"
            ]
          },
          "metadata": {
            "tags": []
          },
          "execution_count": 13
        }
      ]
    },
    {
      "cell_type": "code",
      "metadata": {
        "colab": {
          "base_uri": "https://localhost:8080/"
        },
        "id": "xxxjWeDHcMbe",
        "outputId": "7add8485-fcf5-4794-a969-2299fe69af38"
      },
      "source": [
        "y = normalized_df['WPI']\n",
        "y.head()"
      ],
      "execution_count": 14,
      "outputs": [
        {
          "output_type": "execute_result",
          "data": {
            "text/plain": [
              "0    0.097276\n",
              "1    0.075203\n",
              "2    0.053492\n",
              "3    0.077124\n",
              "4    0.041510\n",
              "Name: WPI, dtype: float64"
            ]
          },
          "metadata": {
            "tags": []
          },
          "execution_count": 14
        }
      ]
    },
    {
      "cell_type": "markdown",
      "metadata": {
        "id": "159KcsBLec2i"
      },
      "source": [
        "MLR\n",
        "Multiple linear regression is a form of linear regression used when there is more than one\n",
        "predicting variable at play"
      ]
    },
    {
      "cell_type": "code",
      "metadata": {
        "id": "VBTMvgDzcSa-"
      },
      "source": [
        "# importing train_test_split from sklearn\n",
        "from sklearn.model_selection import train_test_split\n",
        "# splitting the data\n",
        "x_train, x_test, y_train, y_test = train_test_split(x, y, test_size = 0.2, random_state = 42)"
      ],
      "execution_count": 15,
      "outputs": []
    },
    {
      "cell_type": "code",
      "metadata": {
        "colab": {
          "base_uri": "https://localhost:8080/"
        },
        "id": "HRU4E-GycrmX",
        "outputId": "699df9d4-5c05-4259-a5fe-b8dff005f355"
      },
      "source": [
        "# importing module\n",
        "from sklearn.linear_model import LinearRegression\n",
        "# creating an object of LinearRegression class\n",
        "LR = LinearRegression()\n",
        "# fitting the training data\n",
        "LR.fit(x_train,y_train)"
      ],
      "execution_count": 16,
      "outputs": [
        {
          "output_type": "execute_result",
          "data": {
            "text/plain": [
              "LinearRegression()"
            ]
          },
          "metadata": {
            "tags": []
          },
          "execution_count": 16
        }
      ]
    },
    {
      "cell_type": "code",
      "metadata": {
        "colab": {
          "base_uri": "https://localhost:8080/"
        },
        "id": "6LeLN9AwcvOm",
        "outputId": "fdb5a71b-bca9-4d06-99d0-e9dda7a38679"
      },
      "source": [
        "y_prediction =  LR.predict(x_test)\n",
        "y_prediction"
      ],
      "execution_count": 17,
      "outputs": [
        {
          "output_type": "execute_result",
          "data": {
            "text/plain": [
              "array([0.26780792, 0.10976828, 0.097216  , 0.18148955, 0.13327922,\n",
              "       0.25094018, 0.4424282 , 0.15035981, 0.24367763, 0.12759524,\n",
              "       0.08954772, 0.20220242, 0.1055206 , 0.11150058, 0.04534676,\n",
              "       0.07379373, 0.28315527, 0.06633109, 0.19918869, 0.13679542,\n",
              "       0.10064563, 0.08003358, 0.08031436, 0.1382367 , 0.0414555 ,\n",
              "       0.08947685, 0.22996734, 0.5372088 , 0.17773195, 0.13540975,\n",
              "       0.50749867, 0.25499224, 0.15981046, 0.12815714, 0.06986991,\n",
              "       0.097216  , 0.11566194, 0.2106503 , 0.15295992, 0.40402423,\n",
              "       0.1070818 , 0.11159724, 0.10693068, 0.24865721, 0.05515217,\n",
              "       0.09975501, 0.15020451, 0.08338196, 0.10976828, 0.13485258,\n",
              "       0.06900137, 0.07628456, 0.15843218, 0.13509191, 0.22203892,\n",
              "       0.09238164, 0.08925567, 0.05648512, 0.07455134, 0.60743287,\n",
              "       0.09834674, 0.23044669, 0.15473083, 0.05580411, 0.11957517,\n",
              "       0.07759675, 0.07537406, 0.31211143, 0.26073317, 0.20373699,\n",
              "       0.09832702, 0.12179393, 0.09689875, 0.1290178 , 0.04737476,\n",
              "       0.2927947 , 0.08004056, 0.26803755, 0.08009949, 0.40116053,\n",
              "       0.09206106, 0.06088784, 0.0495828 , 0.11033723, 0.09209917,\n",
              "       0.20758774, 0.07721003, 0.0680937 , 0.07279398, 0.12388902,\n",
              "       0.07871976, 0.09922086, 0.1972124 , 0.06644747, 0.09223954,\n",
              "       0.06583048, 0.081415  , 0.09651762])"
            ]
          },
          "metadata": {
            "tags": []
          },
          "execution_count": 17
        }
      ]
    },
    {
      "cell_type": "code",
      "metadata": {
        "colab": {
          "base_uri": "https://localhost:8080/"
        },
        "id": "h_cUU7zjcyjz",
        "outputId": "c8c94d9e-36ca-4a81-8047-213f7e877586"
      },
      "source": [
        "# importing r2_score module\n",
        "from sklearn.metrics import r2_score\n",
        "from sklearn.metrics import mean_squared_error\n",
        "# predicting the accuracy score\n",
        "score=r2_score(y_test,y_prediction)\n",
        "print('r2 score is',score)\n",
        "print('mean_sqrd_error is==',mean_squared_error(y_test,y_prediction))\n",
        "print('root_mean_squared error of is==',np.sqrt(mean_squared_error(y_test,y_prediction)))"
      ],
      "execution_count": 18,
      "outputs": [
        {
          "output_type": "stream",
          "text": [
            "r2 score is 0.9999915829896358\n",
            "mean_sqrd_error is== 9.795137007625016e-08\n",
            "root_mean_squared error of is== 0.00031297183591539056\n"
          ],
          "name": "stdout"
        }
      ]
    },
    {
      "cell_type": "code",
      "metadata": {
        "colab": {
          "base_uri": "https://localhost:8080/"
        },
        "id": "M55iS3zmhmHE",
        "outputId": "4d6a0c13-09be-4214-95d3-2727d95a11ae"
      },
      "source": [
        "print('The shape of our features is:', normalized_df.shape)"
      ],
      "execution_count": 19,
      "outputs": [
        {
          "output_type": "stream",
          "text": [
            "The shape of our features is: (487, 15)\n"
          ],
          "name": "stdout"
        }
      ]
    },
    {
      "cell_type": "code",
      "metadata": {
        "colab": {
          "base_uri": "https://localhost:8080/",
          "height": 317
        },
        "id": "VgDzIv5ijCrR",
        "outputId": "e3b57c34-b71f-4be9-94f6-2cabf8b65444"
      },
      "source": [
        "# Descriptive statistics for each column\n",
        "normalized_df.describe()"
      ],
      "execution_count": 20,
      "outputs": [
        {
          "output_type": "execute_result",
          "data": {
            "text/html": [
              "<div>\n",
              "<style scoped>\n",
              "    .dataframe tbody tr th:only-of-type {\n",
              "        vertical-align: middle;\n",
              "    }\n",
              "\n",
              "    .dataframe tbody tr th {\n",
              "        vertical-align: top;\n",
              "    }\n",
              "\n",
              "    .dataframe thead th {\n",
              "        text-align: right;\n",
              "    }\n",
              "</style>\n",
              "<table border=\"1\" class=\"dataframe\">\n",
              "  <thead>\n",
              "    <tr style=\"text-align: right;\">\n",
              "      <th></th>\n",
              "      <th>pH</th>\n",
              "      <th>DO</th>\n",
              "      <th>TDS</th>\n",
              "      <th>Alkalinity</th>\n",
              "      <th>EC</th>\n",
              "      <th>Na</th>\n",
              "      <th>Ca</th>\n",
              "      <th>Mg</th>\n",
              "      <th>K</th>\n",
              "      <th>F</th>\n",
              "      <th>Cl</th>\n",
              "      <th>Nitrate</th>\n",
              "      <th>Sulphate</th>\n",
              "      <th>Phosphate</th>\n",
              "      <th>WPI</th>\n",
              "    </tr>\n",
              "  </thead>\n",
              "  <tbody>\n",
              "    <tr>\n",
              "      <th>count</th>\n",
              "      <td>487.000000</td>\n",
              "      <td>487.000000</td>\n",
              "      <td>487.000000</td>\n",
              "      <td>487.000000</td>\n",
              "      <td>487.000000</td>\n",
              "      <td>487.000000</td>\n",
              "      <td>487.000000</td>\n",
              "      <td>487.000000</td>\n",
              "      <td>487.000000</td>\n",
              "      <td>487.000000</td>\n",
              "      <td>487.000000</td>\n",
              "      <td>487.000000</td>\n",
              "      <td>487.000000</td>\n",
              "      <td>487.000000</td>\n",
              "      <td>487.000000</td>\n",
              "    </tr>\n",
              "    <tr>\n",
              "      <th>mean</th>\n",
              "      <td>0.780771</td>\n",
              "      <td>0.348555</td>\n",
              "      <td>0.237112</td>\n",
              "      <td>0.334728</td>\n",
              "      <td>0.243902</td>\n",
              "      <td>0.145497</td>\n",
              "      <td>0.224877</td>\n",
              "      <td>0.272700</td>\n",
              "      <td>0.144762</td>\n",
              "      <td>0.150881</td>\n",
              "      <td>0.149282</td>\n",
              "      <td>0.132028</td>\n",
              "      <td>0.135017</td>\n",
              "      <td>0.050659</td>\n",
              "      <td>0.126569</td>\n",
              "    </tr>\n",
              "    <tr>\n",
              "      <th>std</th>\n",
              "      <td>0.118506</td>\n",
              "      <td>0.119050</td>\n",
              "      <td>0.187635</td>\n",
              "      <td>0.123879</td>\n",
              "      <td>0.200713</td>\n",
              "      <td>0.123909</td>\n",
              "      <td>0.135200</td>\n",
              "      <td>0.131895</td>\n",
              "      <td>0.131518</td>\n",
              "      <td>0.164653</td>\n",
              "      <td>0.133517</td>\n",
              "      <td>0.189301</td>\n",
              "      <td>0.141233</td>\n",
              "      <td>0.088617</td>\n",
              "      <td>0.088208</td>\n",
              "    </tr>\n",
              "    <tr>\n",
              "      <th>min</th>\n",
              "      <td>0.000000</td>\n",
              "      <td>0.000000</td>\n",
              "      <td>0.000000</td>\n",
              "      <td>0.000000</td>\n",
              "      <td>0.000000</td>\n",
              "      <td>0.000000</td>\n",
              "      <td>0.000000</td>\n",
              "      <td>0.000000</td>\n",
              "      <td>0.000000</td>\n",
              "      <td>0.000000</td>\n",
              "      <td>0.000000</td>\n",
              "      <td>0.000000</td>\n",
              "      <td>0.000000</td>\n",
              "      <td>0.000000</td>\n",
              "      <td>0.000000</td>\n",
              "    </tr>\n",
              "    <tr>\n",
              "      <th>25%</th>\n",
              "      <td>0.708934</td>\n",
              "      <td>0.268817</td>\n",
              "      <td>0.111111</td>\n",
              "      <td>0.259259</td>\n",
              "      <td>0.103960</td>\n",
              "      <td>0.067266</td>\n",
              "      <td>0.136364</td>\n",
              "      <td>0.170732</td>\n",
              "      <td>0.070491</td>\n",
              "      <td>0.063312</td>\n",
              "      <td>0.069433</td>\n",
              "      <td>0.024711</td>\n",
              "      <td>0.045135</td>\n",
              "      <td>0.013241</td>\n",
              "      <td>0.078657</td>\n",
              "    </tr>\n",
              "    <tr>\n",
              "      <th>50%</th>\n",
              "      <td>0.795389</td>\n",
              "      <td>0.344086</td>\n",
              "      <td>0.182540</td>\n",
              "      <td>0.296296</td>\n",
              "      <td>0.180693</td>\n",
              "      <td>0.106369</td>\n",
              "      <td>0.196970</td>\n",
              "      <td>0.243902</td>\n",
              "      <td>0.109018</td>\n",
              "      <td>0.084305</td>\n",
              "      <td>0.105036</td>\n",
              "      <td>0.053847</td>\n",
              "      <td>0.083501</td>\n",
              "      <td>0.026205</td>\n",
              "      <td>0.100333</td>\n",
              "    </tr>\n",
              "    <tr>\n",
              "      <th>75%</th>\n",
              "      <td>0.864553</td>\n",
              "      <td>0.419355</td>\n",
              "      <td>0.289683</td>\n",
              "      <td>0.395062</td>\n",
              "      <td>0.300743</td>\n",
              "      <td>0.174285</td>\n",
              "      <td>0.287879</td>\n",
              "      <td>0.317073</td>\n",
              "      <td>0.165525</td>\n",
              "      <td>0.136288</td>\n",
              "      <td>0.180872</td>\n",
              "      <td>0.154735</td>\n",
              "      <td>0.166249</td>\n",
              "      <td>0.051558</td>\n",
              "      <td>0.139335</td>\n",
              "    </tr>\n",
              "    <tr>\n",
              "      <th>max</th>\n",
              "      <td>1.000000</td>\n",
              "      <td>1.000000</td>\n",
              "      <td>1.000000</td>\n",
              "      <td>1.000000</td>\n",
              "      <td>1.000000</td>\n",
              "      <td>1.000000</td>\n",
              "      <td>1.000000</td>\n",
              "      <td>1.000000</td>\n",
              "      <td>1.000000</td>\n",
              "      <td>1.000000</td>\n",
              "      <td>1.000000</td>\n",
              "      <td>1.000000</td>\n",
              "      <td>1.000000</td>\n",
              "      <td>1.000000</td>\n",
              "      <td>1.000000</td>\n",
              "    </tr>\n",
              "  </tbody>\n",
              "</table>\n",
              "</div>"
            ],
            "text/plain": [
              "               pH          DO         TDS  ...    Sulphate   Phosphate         WPI\n",
              "count  487.000000  487.000000  487.000000  ...  487.000000  487.000000  487.000000\n",
              "mean     0.780771    0.348555    0.237112  ...    0.135017    0.050659    0.126569\n",
              "std      0.118506    0.119050    0.187635  ...    0.141233    0.088617    0.088208\n",
              "min      0.000000    0.000000    0.000000  ...    0.000000    0.000000    0.000000\n",
              "25%      0.708934    0.268817    0.111111  ...    0.045135    0.013241    0.078657\n",
              "50%      0.795389    0.344086    0.182540  ...    0.083501    0.026205    0.100333\n",
              "75%      0.864553    0.419355    0.289683  ...    0.166249    0.051558    0.139335\n",
              "max      1.000000    1.000000    1.000000  ...    1.000000    1.000000    1.000000\n",
              "\n",
              "[8 rows x 15 columns]"
            ]
          },
          "metadata": {
            "tags": []
          },
          "execution_count": 20
        }
      ]
    },
    {
      "cell_type": "markdown",
      "metadata": {
        "id": "J2hHIsJTmbHq"
      },
      "source": [
        "Random Forest\n",
        "Random forest is a model that uses multiple base models on subsets of the given data and makes\n",
        "decisions based on all the models. In random forest, the base model is a decision tree, carrying all the\n",
        "pros of a decision tree with the additional efficiency of using multiple models"
      ]
    },
    {
      "cell_type": "code",
      "metadata": {
        "id": "C4RrpEm-kEVa"
      },
      "source": [
        "# Using Skicit-learn to split data into training and testing sets\n",
        "from sklearn.model_selection import train_test_split\n",
        "# Split the data into training and testing sets\n",
        "train_x, test_x, train_y, test_y = train_test_split(x, y, test_size = 0.25, random_state = 42)"
      ],
      "execution_count": 21,
      "outputs": []
    },
    {
      "cell_type": "code",
      "metadata": {
        "colab": {
          "base_uri": "https://localhost:8080/"
        },
        "id": "rtqFpAdqkMhi",
        "outputId": "e99d91fc-5b32-451b-edf2-8cb36bee02dc"
      },
      "source": [
        "print('Training X Shape:', train_x.shape)\n",
        "print('Training Y Shape:', train_y.shape)\n",
        "print('Testing X Shape:', test_x.shape)\n",
        "print('Testing Y Shape:', test_y.shape)"
      ],
      "execution_count": 22,
      "outputs": [
        {
          "output_type": "stream",
          "text": [
            "Training X Shape: (365, 14)\n",
            "Training Y Shape: (365,)\n",
            "Testing X Shape: (122, 14)\n",
            "Testing Y Shape: (122,)\n"
          ],
          "name": "stdout"
        }
      ]
    },
    {
      "cell_type": "code",
      "metadata": {
        "id": "DtLQagKIkv_L"
      },
      "source": [
        "# Import the model we are using\n",
        "from sklearn.ensemble import RandomForestRegressor\n",
        "# Instantiate model with 1000 decision trees\n",
        "rf = RandomForestRegressor(n_estimators = 1000, random_state = 42)\n",
        "# Train the model on training data\n",
        "rf.fit(train_x, train_y);"
      ],
      "execution_count": 23,
      "outputs": []
    },
    {
      "cell_type": "code",
      "metadata": {
        "colab": {
          "base_uri": "https://localhost:8080/"
        },
        "id": "QyBizHSblMQu",
        "outputId": "2943839c-915e-44da-ee6f-f38f26a33b5b"
      },
      "source": [
        "# Use the forest's predict method on the test data\n",
        "predictions = rf.predict(test_x)\n",
        "# Calculate the absolute errors\n",
        "errors = abs(predictions - test_y)\n",
        "# Print out the mean absolute error (mae)\n",
        "print('Mean Absolute Error:', round(np.mean(errors), 2), 'degrees.')"
      ],
      "execution_count": 24,
      "outputs": [
        {
          "output_type": "stream",
          "text": [
            "Mean Absolute Error: 0.01 degrees.\n"
          ],
          "name": "stdout"
        }
      ]
    },
    {
      "cell_type": "code",
      "metadata": {
        "colab": {
          "base_uri": "https://localhost:8080/"
        },
        "id": "BjWZHWG-lY2_",
        "outputId": "e70b120c-30e9-48db-e9e0-20c9ffdbb3e9"
      },
      "source": [
        "# Calculate mean absolute percentage error (MAPE)\n",
        "mape = 100 * (errors / test_y)\n",
        "# Calculate and display accuracy\n",
        "accuracy = 100 - np.mean(mape)\n",
        "print('Accuracy:', round(accuracy, 2), '%.')"
      ],
      "execution_count": 25,
      "outputs": [
        {
          "output_type": "stream",
          "text": [
            "Accuracy: 90.9 %.\n"
          ],
          "name": "stdout"
        }
      ]
    },
    {
      "cell_type": "code",
      "metadata": {
        "id": "QBDe9Q-tnsrh"
      },
      "source": [
        "# Labels are the values we want to predict\n",
        "labels = np.array(normalized_df['WPI'])\n",
        "# Remove the labels from the features\n",
        "# axis 1 refers to the columns\n",
        "features= normalized_df.drop('WPI', axis = 1)\n",
        "# Saving feature names for later use\n",
        "feature_list = list(features.columns)\n",
        "# Convert to numpy array\n",
        "features = np.array(features)"
      ],
      "execution_count": 26,
      "outputs": []
    },
    {
      "cell_type": "code",
      "metadata": {
        "id": "ZAzQpgi6nGLz"
      },
      "source": [
        "# Import tools needed for visualization\n",
        "from sklearn.tree import export_graphviz\n",
        "import pydot\n",
        "# Pull out one tree from the forest\n",
        "tree = rf.estimators_[5]\n",
        "# Import tools needed for visualization\n",
        "from sklearn.tree import export_graphviz\n",
        "import pydot\n",
        "# Pull out one tree from the forest\n",
        "tree = rf.estimators_[5]\n",
        "# Export the image to a dot file\n",
        "export_graphviz(tree, out_file = 'tree.dot', feature_names = feature_list, rounded = True, precision = 1)\n",
        "# Use dot file to create a graph\n",
        "(graph, ) = pydot.graph_from_dot_file('tree.dot')\n",
        "# Write graph to a png file\n",
        "graph.write_png('tree.png')"
      ],
      "execution_count": 27,
      "outputs": []
    },
    {
      "cell_type": "code",
      "metadata": {
        "id": "LmsBDr2Tom0y"
      },
      "source": [
        "# Limit depth of tree to 3 levels\n",
        "rf_small = RandomForestRegressor(n_estimators=10, max_depth = 3)\n",
        "rf_small.fit(train_x, train_y)\n",
        "# Extract the small tree\n",
        "tree_small = rf_small.estimators_[5]\n",
        "# Save the tree as a png image\n",
        "export_graphviz(tree_small, out_file = 'small_tree.dot', feature_names = feature_list, rounded = True, precision = 1)\n",
        "(graph, ) = pydot.graph_from_dot_file('small_tree.dot')\n",
        "graph.write_png('small_tree.png');"
      ],
      "execution_count": 28,
      "outputs": []
    },
    {
      "cell_type": "code",
      "metadata": {
        "colab": {
          "base_uri": "https://localhost:8080/"
        },
        "id": "Oi-sBw8mpiw1",
        "outputId": "4489cc60-09ed-40b6-eced-935b18a2d346"
      },
      "source": [
        "# Get numerical feature importances\n",
        "importances = list(rf.feature_importances_)\n",
        "# List of tuples with variable and importance\n",
        "feature_importances = [(feature, round(importance, 2)) for feature, importance in zip(feature_list, importances)]\n",
        "# Sort the feature importances by most important first\n",
        "feature_importances = sorted(feature_importances, key = lambda x: x[1], reverse = True)\n",
        "# Print out the feature and importances \n",
        "[print('Variable: {:20} Importance: {}'.format(*pair)) for pair in feature_importances];"
      ],
      "execution_count": 29,
      "outputs": [
        {
          "output_type": "stream",
          "text": [
            "Variable: Phosphate            Importance: 0.67\n",
            "Variable: TDS                  Importance: 0.11\n",
            "Variable: F                    Importance: 0.06\n",
            "Variable: EC                   Importance: 0.05\n",
            "Variable: DO                   Importance: 0.03\n",
            "Variable: Ca                   Importance: 0.02\n",
            "Variable: pH                   Importance: 0.01\n",
            "Variable: Na                   Importance: 0.01\n",
            "Variable: K                    Importance: 0.01\n",
            "Variable: Cl                   Importance: 0.01\n",
            "Variable: Nitrate              Importance: 0.01\n",
            "Variable: Sulphate             Importance: 0.01\n",
            "Variable: Alkalinity           Importance: 0.0\n",
            "Variable: Mg                   Importance: 0.0\n"
          ],
          "name": "stdout"
        }
      ]
    },
    {
      "cell_type": "code",
      "metadata": {
        "colab": {
          "base_uri": "https://localhost:8080/",
          "height": 384
        },
        "id": "iYfT-i7GqWa_",
        "outputId": "b4c8101a-9c84-426e-93bf-f104622eb668"
      },
      "source": [
        "# Import matplotlib for plotting and use magic command for Jupyter Notebooks\n",
        "import matplotlib.pyplot as plt\n",
        "%matplotlib inline\n",
        "# Set the style\n",
        "plt.style.use('fivethirtyeight')\n",
        "# list of x locations for plotting\n",
        "x_values = list(range(len(importances)))\n",
        "# Make a bar chart\n",
        "plt.bar(x_values, importances, orientation = 'vertical')\n",
        "# Tick labels for x axis\n",
        "plt.xticks(x_values, feature_list, rotation='vertical')\n",
        "# Axis labels and title\n",
        "plt.ylabel('Importance'); plt.xlabel('Variable'); plt.title('Variable Importances');\n"
      ],
      "execution_count": 30,
      "outputs": [
        {
          "output_type": "display_data",
          "data": {
            "image/png": "[encoded data removed]",
            "text/plain": [
              "<Figure size 432x288 with 1 Axes>"
            ]
          },
          "metadata": {
            "tags": []
          }
        }
      ]
    },
    {
      "cell_type": "markdown",
      "metadata": {
        "id": "J5Wj48Hp_7cP"
      },
      "source": [
        "gradient boosting algorithm-This is the most contemporary algorithm used in most competitions. It uses an additive model\n",
        "that allows for optimization of differentiable loss function. "
      ]
    },
    {
      "cell_type": "code",
      "metadata": {
        "id": "nQ1Yln_SsD-P"
      },
      "source": [
        "from sklearn.ensemble import GradientBoostingRegressor\n",
        "import numpy as np\n",
        "import pandas as pd\n",
        "from sklearn.model_selection import train_test_split\n",
        "from sklearn.metrics import mean_squared_error\n",
        "from sklearn.metrics import mean_absolute_error"
      ],
      "execution_count": 31,
      "outputs": []
    },
    {
      "cell_type": "code",
      "metadata": {
        "id": "P8M9pkJf__aO"
      },
      "source": [
        "x_train, x_test, y_train, y_test = train_test_split(x, y)"
      ],
      "execution_count": 32,
      "outputs": []
    },
    {
      "cell_type": "code",
      "metadata": {
        "colab": {
          "base_uri": "https://localhost:8080/"
        },
        "id": "9tyhn-DsAfG6",
        "outputId": "e141b878-e627-47fb-dc4e-3c43cf8d5c30"
      },
      "source": [
        "regressor = GradientBoostingRegressor(\n",
        "    max_depth=2,\n",
        "    n_estimators=3,\n",
        "    learning_rate=1.0\n",
        ")\n",
        "regressor.fit(x_train, y_train)"
      ],
      "execution_count": 33,
      "outputs": [
        {
          "output_type": "execute_result",
          "data": {
            "text/plain": [
              "GradientBoostingRegressor(learning_rate=1.0, max_depth=2, n_estimators=3)"
            ]
          },
          "metadata": {
            "tags": []
          },
          "execution_count": 33
        }
      ]
    },
    {
      "cell_type": "code",
      "metadata": {
        "id": "_7V4kKAVAhxq"
      },
      "source": [
        "errors = [mean_squared_error(y_test, y_pred) for y_pred in regressor.staged_predict(x_test)]\n",
        "best_n_estimators = np.argmin(errors)"
      ],
      "execution_count": 34,
      "outputs": []
    },
    {
      "cell_type": "code",
      "metadata": {
        "colab": {
          "base_uri": "https://localhost:8080/"
        },
        "id": "4CxhSAbUA7hy",
        "outputId": "77ce1c02-ab63-46af-9718-8d4a810d7fef"
      },
      "source": [
        "best_regressor = GradientBoostingRegressor(\n",
        "    max_depth=2,\n",
        "    n_estimators=best_n_estimators,\n",
        "    learning_rate=1.0\n",
        ")\n",
        "best_regressor.fit(x_train, y_train)"
      ],
      "execution_count": 35,
      "outputs": [
        {
          "output_type": "execute_result",
          "data": {
            "text/plain": [
              "GradientBoostingRegressor(learning_rate=1.0, max_depth=2, n_estimators=2)"
            ]
          },
          "metadata": {
            "tags": []
          },
          "execution_count": 35
        }
      ]
    },
    {
      "cell_type": "code",
      "metadata": {
        "colab": {
          "base_uri": "https://localhost:8080/"
        },
        "id": "eC82bCv9BHPN",
        "outputId": "759eb5a0-038a-4a93-aa75-82207a6e4ffa"
      },
      "source": [
        "y_pred = best_regressor.predict(x_test)\n",
        "mean_absolute_error(y_test, y_pred)"
      ],
      "execution_count": 36,
      "outputs": [
        {
          "output_type": "execute_result",
          "data": {
            "text/plain": [
              "0.026092267293081083"
            ]
          },
          "metadata": {
            "tags": []
          },
          "execution_count": 36
        }
      ]
    },
    {
      "cell_type": "markdown",
      "metadata": {
        "id": "L8OFQkRmJxyY"
      },
      "source": [
        "**Ridge Regression**\n",
        "Ridge regression works on the same principles as linear regression, it just adds a certain bias to\n",
        "negate the effect of large variances and to void the requirement of unbiased estimators. It penalizes the\n",
        "coefficients that are far from zero and minimizes the sum of squared residuals"
      ]
    },
    {
      "cell_type": "code",
      "metadata": {
        "id": "EyoQeC4JHSfz"
      },
      "source": [
        "%matplotlib inline\n",
        "\n",
        "from sklearn.preprocessing import scale \n",
        "from sklearn.model_selection import train_test_split\n",
        "from sklearn.linear_model import Ridge, RidgeCV, Lasso, LassoCV\n",
        "from sklearn.metrics import mean_squared_error"
      ],
      "execution_count": 49,
      "outputs": []
    },
    {
      "cell_type": "code",
      "metadata": {
        "colab": {
          "base_uri": "https://localhost:8080/"
        },
        "id": "nf3cHLqAH3ZA",
        "outputId": "5268067f-1663-460b-c73b-4514076c4974"
      },
      "source": [
        "alphas = 10**np.linspace(10,-2,100)*0.5\n",
        "alphas"
      ],
      "execution_count": 50,
      "outputs": [
        {
          "output_type": "execute_result",
          "data": {
            "text/plain": [
              "array([5.00000000e+09, 3.78231664e+09, 2.86118383e+09, 2.16438064e+09,\n",
              "       1.63727458e+09, 1.23853818e+09, 9.36908711e+08, 7.08737081e+08,\n",
              "       5.36133611e+08, 4.05565415e+08, 3.06795364e+08, 2.32079442e+08,\n",
              "       1.75559587e+08, 1.32804389e+08, 1.00461650e+08, 7.59955541e+07,\n",
              "       5.74878498e+07, 4.34874501e+07, 3.28966612e+07, 2.48851178e+07,\n",
              "       1.88246790e+07, 1.42401793e+07, 1.07721735e+07, 8.14875417e+06,\n",
              "       6.16423370e+06, 4.66301673e+06, 3.52740116e+06, 2.66834962e+06,\n",
              "       2.01850863e+06, 1.52692775e+06, 1.15506485e+06, 8.73764200e+05,\n",
              "       6.60970574e+05, 5.00000000e+05, 3.78231664e+05, 2.86118383e+05,\n",
              "       2.16438064e+05, 1.63727458e+05, 1.23853818e+05, 9.36908711e+04,\n",
              "       7.08737081e+04, 5.36133611e+04, 4.05565415e+04, 3.06795364e+04,\n",
              "       2.32079442e+04, 1.75559587e+04, 1.32804389e+04, 1.00461650e+04,\n",
              "       7.59955541e+03, 5.74878498e+03, 4.34874501e+03, 3.28966612e+03,\n",
              "       2.48851178e+03, 1.88246790e+03, 1.42401793e+03, 1.07721735e+03,\n",
              "       8.14875417e+02, 6.16423370e+02, 4.66301673e+02, 3.52740116e+02,\n",
              "       2.66834962e+02, 2.01850863e+02, 1.52692775e+02, 1.15506485e+02,\n",
              "       8.73764200e+01, 6.60970574e+01, 5.00000000e+01, 3.78231664e+01,\n",
              "       2.86118383e+01, 2.16438064e+01, 1.63727458e+01, 1.23853818e+01,\n",
              "       9.36908711e+00, 7.08737081e+00, 5.36133611e+00, 4.05565415e+00,\n",
              "       3.06795364e+00, 2.32079442e+00, 1.75559587e+00, 1.32804389e+00,\n",
              "       1.00461650e+00, 7.59955541e-01, 5.74878498e-01, 4.34874501e-01,\n",
              "       3.28966612e-01, 2.48851178e-01, 1.88246790e-01, 1.42401793e-01,\n",
              "       1.07721735e-01, 8.14875417e-02, 6.16423370e-02, 4.66301673e-02,\n",
              "       3.52740116e-02, 2.66834962e-02, 2.01850863e-02, 1.52692775e-02,\n",
              "       1.15506485e-02, 8.73764200e-03, 6.60970574e-03, 5.00000000e-03])"
            ]
          },
          "metadata": {
            "tags": []
          },
          "execution_count": 50
        }
      ]
    },
    {
      "cell_type": "code",
      "metadata": {
        "colab": {
          "base_uri": "https://localhost:8080/"
        },
        "id": "QWZHO2aTH9my",
        "outputId": "299360d7-d6b0-4e8b-c69b-0d727329d58a"
      },
      "source": [
        "ridge = Ridge(normalize = True)\n",
        "coefs = []\n",
        "\n",
        "for a in alphas:\n",
        "    ridge.set_params(alpha = a)\n",
        "    ridge.fit(x, y)\n",
        "    coefs.append(ridge.coef_)\n",
        "    \n",
        "np.shape(coefs)"
      ],
      "execution_count": 51,
      "outputs": [
        {
          "output_type": "execute_result",
          "data": {
            "text/plain": [
              "(100, 14)"
            ]
          },
          "metadata": {
            "tags": []
          },
          "execution_count": 51
        }
      ]
    },
    {
      "cell_type": "code",
      "metadata": {
        "colab": {
          "base_uri": "https://localhost:8080/",
          "height": 300
        },
        "id": "_RpIpNy-IXMo",
        "outputId": "06739c57-4963-4da3-f17a-75051ffd5dea"
      },
      "source": [
        "ax = plt.gca()\n",
        "ax.plot(alphas, coefs)\n",
        "ax.set_xscale('log')\n",
        "plt.axis('tight')\n",
        "plt.xlabel('alpha')\n",
        "plt.ylabel('weights')"
      ],
      "execution_count": 52,
      "outputs": [
        {
          "output_type": "execute_result",
          "data": {
            "text/plain": [
              "Text(0, 0.5, 'weights')"
            ]
          },
          "metadata": {
            "tags": []
          },
          "execution_count": 52
        },
        {
          "output_type": "display_data",
          "data": {
            "image/png": "[encoded data removed]",
            "text/plain": [
              "<Figure size 432x288 with 1 Axes>"
            ]
          },
          "metadata": {
            "tags": [],
            "needs_background": "light"
          }
        }
      ]
    },
    {
      "cell_type": "code",
      "metadata": {
        "id": "-LvWtC_lIe0H"
      },
      "source": [
        "# Split data into training and test sets\n",
        "x_train, x_test , y_train, y_test = train_test_split(x, y, test_size=0.5, random_state=1)"
      ],
      "execution_count": 53,
      "outputs": []
    },
    {
      "cell_type": "code",
      "metadata": {
        "colab": {
          "base_uri": "https://localhost:8080/"
        },
        "id": "evy3nIUWIpW1",
        "outputId": "22fe95e0-6651-4bd2-83b6-8e9c84f8a3a6"
      },
      "source": [
        "ridge2 = Ridge(alpha = 4, normalize = True)\n",
        "ridge2.fit(x_train, y_train)             # Fit a ridge regression on the training data\n",
        "pred2 = ridge2.predict(x_test)           # Use this model to predict the test data\n",
        "print(pd.Series(ridge2.coef_, index = x.columns)) # Print coefficients\n",
        "print(mean_squared_error(y_test, pred2))          # Calculate the test MSE"
      ],
      "execution_count": 54,
      "outputs": [
        {
          "output_type": "stream",
          "text": [
            "pH            0.020044\n",
            "DO            0.004127\n",
            "TDS           0.020409\n",
            "Alkalinity    0.016237\n",
            "EC            0.019295\n",
            "Na            0.029886\n",
            "Ca            0.030167\n",
            "Mg            0.012318\n",
            "K             0.018481\n",
            "F             0.031378\n",
            "Cl            0.026106\n",
            "Nitrate       0.016791\n",
            "Sulphate      0.022889\n",
            "Phosphate     0.169060\n",
            "dtype: float64\n",
            "0.0028969642519333294\n"
          ],
          "name": "stdout"
        }
      ]
    },
    {
      "cell_type": "code",
      "metadata": {
        "colab": {
          "base_uri": "https://localhost:8080/"
        },
        "id": "97B66YNLIw62",
        "outputId": "4a8b910c-90d4-4be2-cd8d-c3ad760ce48b"
      },
      "source": [
        "ridge3 = Ridge(alpha = 10**10, normalize = True)\n",
        "ridge3.fit(x_train, y_train)             # Fit a ridge regression on the training data\n",
        "pred3 = ridge3.predict(x_test)           # Use this model to predict the test data\n",
        "print(pd.Series(ridge3.coef_, index = x.columns)) # Print coefficients\n",
        "print(mean_squared_error(y_test, pred3))          # Calculate the test MSE"
      ],
      "execution_count": 55,
      "outputs": [
        {
          "output_type": "stream",
          "text": [
            "pH            1.611172e-12\n",
            "DO           -4.610804e-13\n",
            "TDS           2.485485e-11\n",
            "Alkalinity    1.991443e-11\n",
            "EC            2.298095e-11\n",
            "Na            3.607121e-11\n",
            "Ca            3.312693e-11\n",
            "Mg            2.045203e-11\n",
            "K             2.648586e-11\n",
            "F             2.905440e-11\n",
            "Cl            3.274911e-11\n",
            "Nitrate       1.884097e-11\n",
            "Sulphate      2.812232e-11\n",
            "Phosphate     8.873547e-11\n",
            "dtype: float64\n",
            "0.006140676742544274\n"
          ],
          "name": "stdout"
        }
      ]
    },
    {
      "cell_type": "code",
      "metadata": {
        "colab": {
          "base_uri": "https://localhost:8080/"
        },
        "id": "lgEgUCiBJI83",
        "outputId": "91e211a6-15ea-4c10-9a04-ec50a3f01887"
      },
      "source": [
        "ridge2 = Ridge(alpha = 0, normalize = True)\n",
        "ridge2.fit(x_train, y_train)             # Fit a ridge regression on the training data\n",
        "pred = ridge2.predict(x_test)            # Use this model to predict the test data\n",
        "print(pd.Series(ridge2.coef_, index = x.columns)) # Print coefficients\n",
        "print(mean_squared_error(y_test, pred))           # Calculate the test MSE"
      ],
      "execution_count": 56,
      "outputs": [
        {
          "output_type": "stream",
          "text": [
            "pH            1.100968e-01\n",
            "DO           -4.610503e-02\n",
            "TDS           2.398651e-02\n",
            "Alkalinity    3.854976e-02\n",
            "EC            2.403411e-02\n",
            "Na            1.098430e-02\n",
            "Ca            8.376243e-02\n",
            "Mg           -4.043862e-16\n",
            "K             8.338169e-03\n",
            "F             9.521631e-02\n",
            "Cl            1.323066e-02\n",
            "Nitrate       1.027252e-02\n",
            "Sulphate      1.973900e-02\n",
            "Phosphate     8.400039e-01\n",
            "dtype: float64\n",
            "4.0864277169150655e-06\n"
          ],
          "name": "stdout"
        }
      ]
    },
    {
      "cell_type": "code",
      "metadata": {
        "colab": {
          "base_uri": "https://localhost:8080/"
        },
        "id": "jmntcrTcJVpH",
        "outputId": "38c910f2-dcda-494e-9ca4-d737e8627b42"
      },
      "source": [
        "ridgecv = RidgeCV(alphas = alphas, scoring = 'neg_mean_squared_error', normalize = True)\n",
        "ridgecv.fit(x_train, y_train)\n",
        "ridgecv.alpha_"
      ],
      "execution_count": 57,
      "outputs": [
        {
          "output_type": "execute_result",
          "data": {
            "text/plain": [
              "0.005"
            ]
          },
          "metadata": {
            "tags": []
          },
          "execution_count": 57
        }
      ]
    },
    {
      "cell_type": "code",
      "metadata": {
        "colab": {
          "base_uri": "https://localhost:8080/"
        },
        "id": "PTS8_UplJeVZ",
        "outputId": "7b101285-a335-4823-9264-5693ad7452ef"
      },
      "source": [
        "ridge4 = Ridge(alpha = ridgecv.alpha_, normalize = True)\n",
        "ridge4.fit(x_train, y_train)\n",
        "mean_squared_error(y_test, ridge4.predict(x_test))"
      ],
      "execution_count": 58,
      "outputs": [
        {
          "output_type": "execute_result",
          "data": {
            "text/plain": [
              "4.2837753424207646e-06"
            ]
          },
          "metadata": {
            "tags": []
          },
          "execution_count": 58
        }
      ]
    },
    {
      "cell_type": "code",
      "metadata": {
        "colab": {
          "base_uri": "https://localhost:8080/"
        },
        "id": "o5GcENg_Jm35",
        "outputId": "a216f899-8ce4-4395-9772-771ce6cd2918"
      },
      "source": [
        "ridge4.fit(x, y)\n",
        "pd.Series(ridge4.coef_, index = x.columns)"
      ],
      "execution_count": 60,
      "outputs": [
        {
          "output_type": "execute_result",
          "data": {
            "text/plain": [
              "pH            0.109291\n",
              "DO           -0.046243\n",
              "TDS           0.026055\n",
              "Alkalinity    0.037005\n",
              "EC            0.024074\n",
              "Na            0.012509\n",
              "Ca            0.083817\n",
              "Mg            0.001150\n",
              "K             0.008612\n",
              "F             0.093613\n",
              "Cl            0.010671\n",
              "Nitrate       0.010738\n",
              "Sulphate      0.018867\n",
              "Phosphate     0.835987\n",
              "dtype: float64"
            ]
          },
          "metadata": {
            "tags": []
          },
          "execution_count": 60
        }
      ]
    },
    {
      "cell_type": "markdown",
      "metadata": {
        "id": "MTGxzRhSKW2-"
      },
      "source": [
        "**Lasso Regression**\n",
        "Lasso regression works on the same principles as ridge regression, the only difference is how they\n",
        "penalize their coefficients that are off. Lasso penalizes the sum of absolute errors instead of the sum of\n",
        "squared coefficients"
      ]
    },
    {
      "cell_type": "code",
      "metadata": {
        "colab": {
          "base_uri": "https://localhost:8080/",
          "height": 300
        },
        "id": "eOXzVr3CJq70",
        "outputId": "a3663be0-d445-432d-8c36-3980c317c2e4"
      },
      "source": [
        "lasso = Lasso(max_iter = 10000, normalize = True)\n",
        "coefs = []\n",
        "\n",
        "for a in alphas:\n",
        "    lasso.set_params(alpha=a)\n",
        "    lasso.fit(scale(x_train), y_train)\n",
        "    coefs.append(lasso.coef_)\n",
        "    \n",
        "ax = plt.gca()\n",
        "ax.plot(alphas*2, coefs)\n",
        "ax.set_xscale('log')\n",
        "plt.axis('tight')\n",
        "plt.xlabel('alpha')\n",
        "plt.ylabel('weights')"
      ],
      "execution_count": 61,
      "outputs": [
        {
          "output_type": "execute_result",
          "data": {
            "text/plain": [
              "Text(0, 0.5, 'weights')"
            ]
          },
          "metadata": {
            "tags": []
          },
          "execution_count": 61
        },
        {
          "output_type": "display_data",
          "data": {
            "image/png": "[encoded data removed]",
            "text/plain": [
              "<Figure size 432x288 with 1 Axes>"
            ]
          },
          "metadata": {
            "tags": [],
            "needs_background": "light"
          }
        }
      ]
    },
    {
      "cell_type": "code",
      "metadata": {
        "colab": {
          "base_uri": "https://localhost:8080/"
        },
        "id": "VM-6e_ZNKBxC",
        "outputId": "05965ce1-b1a1-406b-9cc2-1e67dd04905a"
      },
      "source": [
        "lassocv = LassoCV(alphas = None, cv = 10, max_iter = 100000, normalize = True)\n",
        "lassocv.fit(x_train, y_train)\n",
        "\n",
        "lasso.set_params(alpha=lassocv.alpha_)\n",
        "lasso.fit(x_train, y_train)\n",
        "mean_squared_error(y_test, lasso.predict(x_test))"
      ],
      "execution_count": 62,
      "outputs": [
        {
          "output_type": "execute_result",
          "data": {
            "text/plain": [
              "4.148196504301469e-06"
            ]
          },
          "metadata": {
            "tags": []
          },
          "execution_count": 62
        }
      ]
    },
    {
      "cell_type": "code",
      "metadata": {
        "colab": {
          "base_uri": "https://localhost:8080/"
        },
        "id": "MHBBhdXuKIee",
        "outputId": "000928f3-0dc7-4c0e-943f-734c121ee86d"
      },
      "source": [
        "# Some of the coefficients are now reduced to exactly zero.\n",
        "pd.Series(lasso.coef_, index=x.columns)\n"
      ],
      "execution_count": 63,
      "outputs": [
        {
          "output_type": "execute_result",
          "data": {
            "text/plain": [
              "pH            0.108499\n",
              "DO           -0.045287\n",
              "TDS           0.029189\n",
              "Alkalinity    0.036061\n",
              "EC            0.022907\n",
              "Na            0.009431\n",
              "Ca            0.083777\n",
              "Mg            0.000000\n",
              "K             0.008013\n",
              "F             0.095434\n",
              "Cl            0.012346\n",
              "Nitrate       0.009518\n",
              "Sulphate      0.017014\n",
              "Phosphate     0.839281\n",
              "dtype: float64"
            ]
          },
          "metadata": {
            "tags": []
          },
          "execution_count": 63
        }
      ]
    },
    {
      "cell_type": "markdown",
      "metadata": {
        "id": "Muwicf0ALEfP"
      },
      "source": [
        "**Elastic net regression** combines the best of both ridge and lasso regression. It combines the method\n",
        "of penalties of both methods and minimizes the loss function"
      ]
    },
    {
      "cell_type": "code",
      "metadata": {
        "colab": {
          "base_uri": "https://localhost:8080/",
          "height": 500
        },
        "id": "1SIha1hgKObQ",
        "outputId": "446ba543-9c32-4ce3-bb2f-1a716c4c06ee"
      },
      "source": [
        "# import model\n",
        "from sklearn.linear_model import ElasticNet\n",
        " \n",
        "# Train the model\n",
        "e_net = ElasticNet(alpha = 1)\n",
        "e_net.fit(x_train, y_train)\n",
        " \n",
        "# calculate the prediction and mean square error\n",
        "y_pred_elastic = e_net.predict(x_test)\n",
        "mean_squared_error = np.mean((y_pred_elastic - y_test)**2)\n",
        "print(\"Mean Squared Error on test set\", mean_squared_error)\n",
        " \n",
        "e_net_coeff = pd.DataFrame()\n",
        "e_net_coeff[\"Columns\"] = x_train.columns\n",
        "e_net_coeff['Coefficient Estimate'] = pd.Series(e_net.coef_)\n",
        "e_net_coeff"
      ],
      "execution_count": 64,
      "outputs": [
        {
          "output_type": "stream",
          "text": [
            "Mean Squared Error on test set 0.006140676746608994\n"
          ],
          "name": "stdout"
        },
        {
          "output_type": "execute_result",
          "data": {
            "text/html": [
              "<div>\n",
              "<style scoped>\n",
              "    .dataframe tbody tr th:only-of-type {\n",
              "        vertical-align: middle;\n",
              "    }\n",
              "\n",
              "    .dataframe tbody tr th {\n",
              "        vertical-align: top;\n",
              "    }\n",
              "\n",
              "    .dataframe thead th {\n",
              "        text-align: right;\n",
              "    }\n",
              "</style>\n",
              "<table border=\"1\" class=\"dataframe\">\n",
              "  <thead>\n",
              "    <tr style=\"text-align: right;\">\n",
              "      <th></th>\n",
              "      <th>Columns</th>\n",
              "      <th>Coefficient Estimate</th>\n",
              "    </tr>\n",
              "  </thead>\n",
              "  <tbody>\n",
              "    <tr>\n",
              "      <th>0</th>\n",
              "      <td>pH</td>\n",
              "      <td>0.0</td>\n",
              "    </tr>\n",
              "    <tr>\n",
              "      <th>1</th>\n",
              "      <td>DO</td>\n",
              "      <td>-0.0</td>\n",
              "    </tr>\n",
              "    <tr>\n",
              "      <th>2</th>\n",
              "      <td>TDS</td>\n",
              "      <td>0.0</td>\n",
              "    </tr>\n",
              "    <tr>\n",
              "      <th>3</th>\n",
              "      <td>Alkalinity</td>\n",
              "      <td>0.0</td>\n",
              "    </tr>\n",
              "    <tr>\n",
              "      <th>4</th>\n",
              "      <td>EC</td>\n",
              "      <td>0.0</td>\n",
              "    </tr>\n",
              "    <tr>\n",
              "      <th>5</th>\n",
              "      <td>Na</td>\n",
              "      <td>0.0</td>\n",
              "    </tr>\n",
              "    <tr>\n",
              "      <th>6</th>\n",
              "      <td>Ca</td>\n",
              "      <td>0.0</td>\n",
              "    </tr>\n",
              "    <tr>\n",
              "      <th>7</th>\n",
              "      <td>Mg</td>\n",
              "      <td>0.0</td>\n",
              "    </tr>\n",
              "    <tr>\n",
              "      <th>8</th>\n",
              "      <td>K</td>\n",
              "      <td>0.0</td>\n",
              "    </tr>\n",
              "    <tr>\n",
              "      <th>9</th>\n",
              "      <td>F</td>\n",
              "      <td>0.0</td>\n",
              "    </tr>\n",
              "    <tr>\n",
              "      <th>10</th>\n",
              "      <td>Cl</td>\n",
              "      <td>0.0</td>\n",
              "    </tr>\n",
              "    <tr>\n",
              "      <th>11</th>\n",
              "      <td>Nitrate</td>\n",
              "      <td>0.0</td>\n",
              "    </tr>\n",
              "    <tr>\n",
              "      <th>12</th>\n",
              "      <td>Sulphate</td>\n",
              "      <td>0.0</td>\n",
              "    </tr>\n",
              "    <tr>\n",
              "      <th>13</th>\n",
              "      <td>Phosphate</td>\n",
              "      <td>0.0</td>\n",
              "    </tr>\n",
              "  </tbody>\n",
              "</table>\n",
              "</div>"
            ],
            "text/plain": [
              "       Columns  Coefficient Estimate\n",
              "0           pH                   0.0\n",
              "1           DO                  -0.0\n",
              "2          TDS                   0.0\n",
              "3   Alkalinity                   0.0\n",
              "4           EC                   0.0\n",
              "5           Na                   0.0\n",
              "6           Ca                   0.0\n",
              "7           Mg                   0.0\n",
              "8            K                   0.0\n",
              "9            F                   0.0\n",
              "10          Cl                   0.0\n",
              "11     Nitrate                   0.0\n",
              "12    Sulphate                   0.0\n",
              "13   Phosphate                   0.0"
            ]
          },
          "metadata": {
            "tags": []
          },
          "execution_count": 64
        }
      ]
    },
    {
      "cell_type": "code",
      "metadata": {
        "id": "LZRCFrYqP9Xh"
      },
      "source": [
        ""
      ],
      "execution_count": null,
      "outputs": []
    }
  ]
}