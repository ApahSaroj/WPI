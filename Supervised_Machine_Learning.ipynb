{
  "nbformat": 4,
  "nbformat_minor": 0,
  "metadata": {
    "colab": {
      "name": " Supervised Machine Learning.ipynb",
      "provenance": [],
      "authorship_tag": "ABX9TyOOCptzwRVrCi7L1kxi4f+L",
      "include_colab_link": true
    },
    "kernelspec": {
      "name": "python3",
      "display_name": "Python 3"
    },
    "language_info": {
      "name": "python"
    }
  },
  "cells": [
    {
      "cell_type": "markdown",
      "metadata": {
        "id": "view-in-github",
        "colab_type": "text"
      },
      "source": [
        "<a href=\"https://colab.research.google.com/github/ApahSaroj/WPI/blob/main/Supervised_Machine_Learning.ipynb\" target=\"_parent\"><img src=\"https://colab.research.google.com/assets/colab-badge.svg\" alt=\"Open In Colab\"/></a>"
      ]
    },
    {
      "cell_type": "code",
      "metadata": {
        "id": "ii-zzjg1UIhA"
      },
      "source": [
        "from google.colab import drive"
      ],
      "execution_count": 1,
      "outputs": []
    },
    {
      "cell_type": "code",
      "metadata": {
        "colab": {
          "base_uri": "https://localhost:8080/"
        },
        "id": "0L0Q8DWcUVWH",
        "outputId": "be1b1d2a-eb8d-4321-d38c-f361ccd85b19"
      },
      "source": [
        "drive.mount('/content/drive')"
      ],
      "execution_count": 2,
      "outputs": [
        {
          "output_type": "stream",
          "text": [
            "Mounted at /content/drive\n"
          ],
          "name": "stdout"
        }
      ]
    },
    {
      "cell_type": "code",
      "metadata": {
        "colab": {
          "base_uri": "https://localhost:8080/",
          "height": 419
        },
        "id": "lVYpPmP1UX5G",
        "outputId": "a76ef23a-2986-4cd8-e754-e8174247cde7"
      },
      "source": [
        "import pandas as pd\n",
        "df = pd.read_excel('/content/drive/MyDrive/DATA/WQC_test.xlsx')\n",
        "df"
      ],
      "execution_count": 4,
      "outputs": [
        {
          "output_type": "execute_result",
          "data": {
            "text/html": [
              "<div>\n",
              "<style scoped>\n",
              "    .dataframe tbody tr th:only-of-type {\n",
              "        vertical-align: middle;\n",
              "    }\n",
              "\n",
              "    .dataframe tbody tr th {\n",
              "        vertical-align: top;\n",
              "    }\n",
              "\n",
              "    .dataframe thead th {\n",
              "        text-align: right;\n",
              "    }\n",
              "</style>\n",
              "<table border=\"1\" class=\"dataframe\">\n",
              "  <thead>\n",
              "    <tr style=\"text-align: right;\">\n",
              "      <th></th>\n",
              "      <th>Unnamed: 0</th>\n",
              "      <th>pH</th>\n",
              "      <th>DO</th>\n",
              "      <th>TDS</th>\n",
              "      <th>Alkalinity</th>\n",
              "      <th>EC</th>\n",
              "      <th>Na</th>\n",
              "      <th>Ca</th>\n",
              "      <th>Mg</th>\n",
              "      <th>K</th>\n",
              "      <th>F</th>\n",
              "      <th>Cl</th>\n",
              "      <th>Nitrate</th>\n",
              "      <th>Sulphate</th>\n",
              "      <th>Phosphate</th>\n",
              "      <th>WPI</th>\n",
              "      <th>WQC</th>\n",
              "    </tr>\n",
              "  </thead>\n",
              "  <tbody>\n",
              "    <tr>\n",
              "      <th>0</th>\n",
              "      <td>0</td>\n",
              "      <td>8.14</td>\n",
              "      <td>8.7</td>\n",
              "      <td>84.0</td>\n",
              "      <td>52.0</td>\n",
              "      <td>147.8</td>\n",
              "      <td>4.48</td>\n",
              "      <td>44.0</td>\n",
              "      <td>20.0</td>\n",
              "      <td>1.17</td>\n",
              "      <td>0.285</td>\n",
              "      <td>7.80</td>\n",
              "      <td>0.758000</td>\n",
              "      <td>6.534660</td>\n",
              "      <td>0.06211</td>\n",
              "      <td>0.249528</td>\n",
              "      <td>Excellent</td>\n",
              "    </tr>\n",
              "    <tr>\n",
              "      <th>1</th>\n",
              "      <td>1</td>\n",
              "      <td>7.70</td>\n",
              "      <td>8.8</td>\n",
              "      <td>110.0</td>\n",
              "      <td>76.0</td>\n",
              "      <td>188.0</td>\n",
              "      <td>8.61</td>\n",
              "      <td>44.0</td>\n",
              "      <td>36.0</td>\n",
              "      <td>3.46</td>\n",
              "      <td>0.401</td>\n",
              "      <td>14.80</td>\n",
              "      <td>0.196062</td>\n",
              "      <td>8.138620</td>\n",
              "      <td>0.00960</td>\n",
              "      <td>0.216400</td>\n",
              "      <td>Excellent</td>\n",
              "    </tr>\n",
              "    <tr>\n",
              "      <th>2</th>\n",
              "      <td>2</td>\n",
              "      <td>7.60</td>\n",
              "      <td>7.5</td>\n",
              "      <td>75.0</td>\n",
              "      <td>44.0</td>\n",
              "      <td>128.0</td>\n",
              "      <td>8.11</td>\n",
              "      <td>28.0</td>\n",
              "      <td>20.0</td>\n",
              "      <td>2.80</td>\n",
              "      <td>0.379</td>\n",
              "      <td>14.80</td>\n",
              "      <td>0.298875</td>\n",
              "      <td>3.855625</td>\n",
              "      <td>0.01280</td>\n",
              "      <td>0.183814</td>\n",
              "      <td>Excellent</td>\n",
              "    </tr>\n",
              "    <tr>\n",
              "      <th>3</th>\n",
              "      <td>3</td>\n",
              "      <td>8.20</td>\n",
              "      <td>9.1</td>\n",
              "      <td>76.0</td>\n",
              "      <td>56.0</td>\n",
              "      <td>127.0</td>\n",
              "      <td>6.30</td>\n",
              "      <td>44.0</td>\n",
              "      <td>18.0</td>\n",
              "      <td>1.65</td>\n",
              "      <td>0.396</td>\n",
              "      <td>9.60</td>\n",
              "      <td>0.299590</td>\n",
              "      <td>2.238750</td>\n",
              "      <td>0.01536</td>\n",
              "      <td>0.219282</td>\n",
              "      <td>Excellent</td>\n",
              "    </tr>\n",
              "    <tr>\n",
              "      <th>4</th>\n",
              "      <td>4</td>\n",
              "      <td>7.31</td>\n",
              "      <td>7.3</td>\n",
              "      <td>84.0</td>\n",
              "      <td>52.0</td>\n",
              "      <td>140.0</td>\n",
              "      <td>5.50</td>\n",
              "      <td>28.0</td>\n",
              "      <td>20.0</td>\n",
              "      <td>1.61</td>\n",
              "      <td>0.265</td>\n",
              "      <td>8.30</td>\n",
              "      <td>0.106000</td>\n",
              "      <td>5.600000</td>\n",
              "      <td>0.01000</td>\n",
              "      <td>0.165831</td>\n",
              "      <td>Excellent</td>\n",
              "    </tr>\n",
              "    <tr>\n",
              "      <th>...</th>\n",
              "      <td>...</td>\n",
              "      <td>...</td>\n",
              "      <td>...</td>\n",
              "      <td>...</td>\n",
              "      <td>...</td>\n",
              "      <td>...</td>\n",
              "      <td>...</td>\n",
              "      <td>...</td>\n",
              "      <td>...</td>\n",
              "      <td>...</td>\n",
              "      <td>...</td>\n",
              "      <td>...</td>\n",
              "      <td>...</td>\n",
              "      <td>...</td>\n",
              "      <td>...</td>\n",
              "      <td>...</td>\n",
              "      <td>...</td>\n",
              "    </tr>\n",
              "    <tr>\n",
              "      <th>482</th>\n",
              "      <td>482</td>\n",
              "      <td>7.60</td>\n",
              "      <td>5.6</td>\n",
              "      <td>224.0</td>\n",
              "      <td>8.0</td>\n",
              "      <td>370.0</td>\n",
              "      <td>16.14</td>\n",
              "      <td>92.0</td>\n",
              "      <td>24.0</td>\n",
              "      <td>7.60</td>\n",
              "      <td>2.270</td>\n",
              "      <td>23.04</td>\n",
              "      <td>1.352000</td>\n",
              "      <td>104.480000</td>\n",
              "      <td>0.01500</td>\n",
              "      <td>0.419630</td>\n",
              "      <td>Excellent</td>\n",
              "    </tr>\n",
              "    <tr>\n",
              "      <th>483</th>\n",
              "      <td>483</td>\n",
              "      <td>7.30</td>\n",
              "      <td>5.6</td>\n",
              "      <td>266.0</td>\n",
              "      <td>96.0</td>\n",
              "      <td>434.0</td>\n",
              "      <td>20.56</td>\n",
              "      <td>96.0</td>\n",
              "      <td>32.0</td>\n",
              "      <td>9.89</td>\n",
              "      <td>1.550</td>\n",
              "      <td>30.86</td>\n",
              "      <td>7.074000</td>\n",
              "      <td>61.068000</td>\n",
              "      <td>0.03300</td>\n",
              "      <td>0.432996</td>\n",
              "      <td>Excellent</td>\n",
              "    </tr>\n",
              "    <tr>\n",
              "      <th>484</th>\n",
              "      <td>484</td>\n",
              "      <td>5.10</td>\n",
              "      <td>5.8</td>\n",
              "      <td>290.0</td>\n",
              "      <td>12.0</td>\n",
              "      <td>487.0</td>\n",
              "      <td>37.35</td>\n",
              "      <td>60.0</td>\n",
              "      <td>44.0</td>\n",
              "      <td>14.80</td>\n",
              "      <td>0.159</td>\n",
              "      <td>60.13</td>\n",
              "      <td>9.256000</td>\n",
              "      <td>89.910000</td>\n",
              "      <td>0.16300</td>\n",
              "      <td>0.326811</td>\n",
              "      <td>Excellent</td>\n",
              "    </tr>\n",
              "    <tr>\n",
              "      <th>485</th>\n",
              "      <td>485</td>\n",
              "      <td>7.40</td>\n",
              "      <td>6.4</td>\n",
              "      <td>230.0</td>\n",
              "      <td>72.0</td>\n",
              "      <td>385.0</td>\n",
              "      <td>20.06</td>\n",
              "      <td>70.0</td>\n",
              "      <td>42.0</td>\n",
              "      <td>10.35</td>\n",
              "      <td>1.360</td>\n",
              "      <td>32.92</td>\n",
              "      <td>7.110435</td>\n",
              "      <td>48.500000</td>\n",
              "      <td>0.21900</td>\n",
              "      <td>0.509970</td>\n",
              "      <td>Good</td>\n",
              "    </tr>\n",
              "    <tr>\n",
              "      <th>486</th>\n",
              "      <td>486</td>\n",
              "      <td>7.60</td>\n",
              "      <td>6.9</td>\n",
              "      <td>243.0</td>\n",
              "      <td>68.0</td>\n",
              "      <td>410.8</td>\n",
              "      <td>17.41</td>\n",
              "      <td>82.0</td>\n",
              "      <td>50.0</td>\n",
              "      <td>9.92</td>\n",
              "      <td>1.310</td>\n",
              "      <td>34.89</td>\n",
              "      <td>6.385000</td>\n",
              "      <td>59.940000</td>\n",
              "      <td>0.07000</td>\n",
              "      <td>0.422551</td>\n",
              "      <td>Excellent</td>\n",
              "    </tr>\n",
              "  </tbody>\n",
              "</table>\n",
              "<p>487 rows × 17 columns</p>\n",
              "</div>"
            ],
            "text/plain": [
              "     Unnamed: 0    pH   DO    TDS  ...    Sulphate  Phosphate       WPI        WQC\n",
              "0             0  8.14  8.7   84.0  ...    6.534660    0.06211  0.249528  Excellent\n",
              "1             1  7.70  8.8  110.0  ...    8.138620    0.00960  0.216400  Excellent\n",
              "2             2  7.60  7.5   75.0  ...    3.855625    0.01280  0.183814  Excellent\n",
              "3             3  8.20  9.1   76.0  ...    2.238750    0.01536  0.219282  Excellent\n",
              "4             4  7.31  7.3   84.0  ...    5.600000    0.01000  0.165831  Excellent\n",
              "..          ...   ...  ...    ...  ...         ...        ...       ...        ...\n",
              "482         482  7.60  5.6  224.0  ...  104.480000    0.01500  0.419630  Excellent\n",
              "483         483  7.30  5.6  266.0  ...   61.068000    0.03300  0.432996  Excellent\n",
              "484         484  5.10  5.8  290.0  ...   89.910000    0.16300  0.326811  Excellent\n",
              "485         485  7.40  6.4  230.0  ...   48.500000    0.21900  0.509970       Good\n",
              "486         486  7.60  6.9  243.0  ...   59.940000    0.07000  0.422551  Excellent\n",
              "\n",
              "[487 rows x 17 columns]"
            ]
          },
          "metadata": {
            "tags": []
          },
          "execution_count": 4
        }
      ]
    },
    {
      "cell_type": "code",
      "metadata": {
        "colab": {
          "base_uri": "https://localhost:8080/",
          "height": 419
        },
        "id": "CZKdarUNUk7J",
        "outputId": "c7d4e0c6-f675-4ce9-addb-480735312299"
      },
      "source": [
        "df.drop(df.columns[df.columns.str.contains('unnamed',case = False)],axis = 1, inplace = True)\n",
        "df.drop('WQC', inplace=True, axis=1)\n",
        "df"
      ],
      "execution_count": 6,
      "outputs": [
        {
          "output_type": "execute_result",
          "data": {
            "text/html": [
              "<div>\n",
              "<style scoped>\n",
              "    .dataframe tbody tr th:only-of-type {\n",
              "        vertical-align: middle;\n",
              "    }\n",
              "\n",
              "    .dataframe tbody tr th {\n",
              "        vertical-align: top;\n",
              "    }\n",
              "\n",
              "    .dataframe thead th {\n",
              "        text-align: right;\n",
              "    }\n",
              "</style>\n",
              "<table border=\"1\" class=\"dataframe\">\n",
              "  <thead>\n",
              "    <tr style=\"text-align: right;\">\n",
              "      <th></th>\n",
              "      <th>pH</th>\n",
              "      <th>DO</th>\n",
              "      <th>TDS</th>\n",
              "      <th>Alkalinity</th>\n",
              "      <th>EC</th>\n",
              "      <th>Na</th>\n",
              "      <th>Ca</th>\n",
              "      <th>Mg</th>\n",
              "      <th>K</th>\n",
              "      <th>F</th>\n",
              "      <th>Cl</th>\n",
              "      <th>Nitrate</th>\n",
              "      <th>Sulphate</th>\n",
              "      <th>Phosphate</th>\n",
              "      <th>WPI</th>\n",
              "    </tr>\n",
              "  </thead>\n",
              "  <tbody>\n",
              "    <tr>\n",
              "      <th>0</th>\n",
              "      <td>8.14</td>\n",
              "      <td>8.7</td>\n",
              "      <td>84.0</td>\n",
              "      <td>52.0</td>\n",
              "      <td>147.8</td>\n",
              "      <td>4.48</td>\n",
              "      <td>44.0</td>\n",
              "      <td>20.0</td>\n",
              "      <td>1.17</td>\n",
              "      <td>0.285</td>\n",
              "      <td>7.80</td>\n",
              "      <td>0.758000</td>\n",
              "      <td>6.534660</td>\n",
              "      <td>0.06211</td>\n",
              "      <td>0.249528</td>\n",
              "    </tr>\n",
              "    <tr>\n",
              "      <th>1</th>\n",
              "      <td>7.70</td>\n",
              "      <td>8.8</td>\n",
              "      <td>110.0</td>\n",
              "      <td>76.0</td>\n",
              "      <td>188.0</td>\n",
              "      <td>8.61</td>\n",
              "      <td>44.0</td>\n",
              "      <td>36.0</td>\n",
              "      <td>3.46</td>\n",
              "      <td>0.401</td>\n",
              "      <td>14.80</td>\n",
              "      <td>0.196062</td>\n",
              "      <td>8.138620</td>\n",
              "      <td>0.00960</td>\n",
              "      <td>0.216400</td>\n",
              "    </tr>\n",
              "    <tr>\n",
              "      <th>2</th>\n",
              "      <td>7.60</td>\n",
              "      <td>7.5</td>\n",
              "      <td>75.0</td>\n",
              "      <td>44.0</td>\n",
              "      <td>128.0</td>\n",
              "      <td>8.11</td>\n",
              "      <td>28.0</td>\n",
              "      <td>20.0</td>\n",
              "      <td>2.80</td>\n",
              "      <td>0.379</td>\n",
              "      <td>14.80</td>\n",
              "      <td>0.298875</td>\n",
              "      <td>3.855625</td>\n",
              "      <td>0.01280</td>\n",
              "      <td>0.183814</td>\n",
              "    </tr>\n",
              "    <tr>\n",
              "      <th>3</th>\n",
              "      <td>8.20</td>\n",
              "      <td>9.1</td>\n",
              "      <td>76.0</td>\n",
              "      <td>56.0</td>\n",
              "      <td>127.0</td>\n",
              "      <td>6.30</td>\n",
              "      <td>44.0</td>\n",
              "      <td>18.0</td>\n",
              "      <td>1.65</td>\n",
              "      <td>0.396</td>\n",
              "      <td>9.60</td>\n",
              "      <td>0.299590</td>\n",
              "      <td>2.238750</td>\n",
              "      <td>0.01536</td>\n",
              "      <td>0.219282</td>\n",
              "    </tr>\n",
              "    <tr>\n",
              "      <th>4</th>\n",
              "      <td>7.31</td>\n",
              "      <td>7.3</td>\n",
              "      <td>84.0</td>\n",
              "      <td>52.0</td>\n",
              "      <td>140.0</td>\n",
              "      <td>5.50</td>\n",
              "      <td>28.0</td>\n",
              "      <td>20.0</td>\n",
              "      <td>1.61</td>\n",
              "      <td>0.265</td>\n",
              "      <td>8.30</td>\n",
              "      <td>0.106000</td>\n",
              "      <td>5.600000</td>\n",
              "      <td>0.01000</td>\n",
              "      <td>0.165831</td>\n",
              "    </tr>\n",
              "    <tr>\n",
              "      <th>...</th>\n",
              "      <td>...</td>\n",
              "      <td>...</td>\n",
              "      <td>...</td>\n",
              "      <td>...</td>\n",
              "      <td>...</td>\n",
              "      <td>...</td>\n",
              "      <td>...</td>\n",
              "      <td>...</td>\n",
              "      <td>...</td>\n",
              "      <td>...</td>\n",
              "      <td>...</td>\n",
              "      <td>...</td>\n",
              "      <td>...</td>\n",
              "      <td>...</td>\n",
              "      <td>...</td>\n",
              "    </tr>\n",
              "    <tr>\n",
              "      <th>482</th>\n",
              "      <td>7.60</td>\n",
              "      <td>5.6</td>\n",
              "      <td>224.0</td>\n",
              "      <td>8.0</td>\n",
              "      <td>370.0</td>\n",
              "      <td>16.14</td>\n",
              "      <td>92.0</td>\n",
              "      <td>24.0</td>\n",
              "      <td>7.60</td>\n",
              "      <td>2.270</td>\n",
              "      <td>23.04</td>\n",
              "      <td>1.352000</td>\n",
              "      <td>104.480000</td>\n",
              "      <td>0.01500</td>\n",
              "      <td>0.419630</td>\n",
              "    </tr>\n",
              "    <tr>\n",
              "      <th>483</th>\n",
              "      <td>7.30</td>\n",
              "      <td>5.6</td>\n",
              "      <td>266.0</td>\n",
              "      <td>96.0</td>\n",
              "      <td>434.0</td>\n",
              "      <td>20.56</td>\n",
              "      <td>96.0</td>\n",
              "      <td>32.0</td>\n",
              "      <td>9.89</td>\n",
              "      <td>1.550</td>\n",
              "      <td>30.86</td>\n",
              "      <td>7.074000</td>\n",
              "      <td>61.068000</td>\n",
              "      <td>0.03300</td>\n",
              "      <td>0.432996</td>\n",
              "    </tr>\n",
              "    <tr>\n",
              "      <th>484</th>\n",
              "      <td>5.10</td>\n",
              "      <td>5.8</td>\n",
              "      <td>290.0</td>\n",
              "      <td>12.0</td>\n",
              "      <td>487.0</td>\n",
              "      <td>37.35</td>\n",
              "      <td>60.0</td>\n",
              "      <td>44.0</td>\n",
              "      <td>14.80</td>\n",
              "      <td>0.159</td>\n",
              "      <td>60.13</td>\n",
              "      <td>9.256000</td>\n",
              "      <td>89.910000</td>\n",
              "      <td>0.16300</td>\n",
              "      <td>0.326811</td>\n",
              "    </tr>\n",
              "    <tr>\n",
              "      <th>485</th>\n",
              "      <td>7.40</td>\n",
              "      <td>6.4</td>\n",
              "      <td>230.0</td>\n",
              "      <td>72.0</td>\n",
              "      <td>385.0</td>\n",
              "      <td>20.06</td>\n",
              "      <td>70.0</td>\n",
              "      <td>42.0</td>\n",
              "      <td>10.35</td>\n",
              "      <td>1.360</td>\n",
              "      <td>32.92</td>\n",
              "      <td>7.110435</td>\n",
              "      <td>48.500000</td>\n",
              "      <td>0.21900</td>\n",
              "      <td>0.509970</td>\n",
              "    </tr>\n",
              "    <tr>\n",
              "      <th>486</th>\n",
              "      <td>7.60</td>\n",
              "      <td>6.9</td>\n",
              "      <td>243.0</td>\n",
              "      <td>68.0</td>\n",
              "      <td>410.8</td>\n",
              "      <td>17.41</td>\n",
              "      <td>82.0</td>\n",
              "      <td>50.0</td>\n",
              "      <td>9.92</td>\n",
              "      <td>1.310</td>\n",
              "      <td>34.89</td>\n",
              "      <td>6.385000</td>\n",
              "      <td>59.940000</td>\n",
              "      <td>0.07000</td>\n",
              "      <td>0.422551</td>\n",
              "    </tr>\n",
              "  </tbody>\n",
              "</table>\n",
              "<p>487 rows × 15 columns</p>\n",
              "</div>"
            ],
            "text/plain": [
              "       pH   DO    TDS  Alkalinity  ...   Nitrate    Sulphate  Phosphate       WPI\n",
              "0    8.14  8.7   84.0        52.0  ...  0.758000    6.534660    0.06211  0.249528\n",
              "1    7.70  8.8  110.0        76.0  ...  0.196062    8.138620    0.00960  0.216400\n",
              "2    7.60  7.5   75.0        44.0  ...  0.298875    3.855625    0.01280  0.183814\n",
              "3    8.20  9.1   76.0        56.0  ...  0.299590    2.238750    0.01536  0.219282\n",
              "4    7.31  7.3   84.0        52.0  ...  0.106000    5.600000    0.01000  0.165831\n",
              "..    ...  ...    ...         ...  ...       ...         ...        ...       ...\n",
              "482  7.60  5.6  224.0         8.0  ...  1.352000  104.480000    0.01500  0.419630\n",
              "483  7.30  5.6  266.0        96.0  ...  7.074000   61.068000    0.03300  0.432996\n",
              "484  5.10  5.8  290.0        12.0  ...  9.256000   89.910000    0.16300  0.326811\n",
              "485  7.40  6.4  230.0        72.0  ...  7.110435   48.500000    0.21900  0.509970\n",
              "486  7.60  6.9  243.0        68.0  ...  6.385000   59.940000    0.07000  0.422551\n",
              "\n",
              "[487 rows x 15 columns]"
            ]
          },
          "metadata": {
            "tags": []
          },
          "execution_count": 6
        }
      ]
    },
    {
      "cell_type": "code",
      "metadata": {
        "colab": {
          "base_uri": "https://localhost:8080/"
        },
        "id": "ghSwfnMKU83z",
        "outputId": "b82794ce-da1d-4759-8b75-a261b3e7b6c3"
      },
      "source": [
        "df.isnull().sum()"
      ],
      "execution_count": 7,
      "outputs": [
        {
          "output_type": "execute_result",
          "data": {
            "text/plain": [
              "pH            0\n",
              "DO            0\n",
              "TDS           0\n",
              "Alkalinity    0\n",
              "EC            0\n",
              "Na            0\n",
              "Ca            0\n",
              "Mg            0\n",
              "K             0\n",
              "F             0\n",
              "Cl            0\n",
              "Nitrate       0\n",
              "Sulphate      0\n",
              "Phosphate     2\n",
              "WPI           0\n",
              "dtype: int64"
            ]
          },
          "metadata": {
            "tags": []
          },
          "execution_count": 7
        }
      ]
    },
    {
      "cell_type": "code",
      "metadata": {
        "colab": {
          "base_uri": "https://localhost:8080/"
        },
        "id": "1hvkPM-qVM2S",
        "outputId": "7ac2e873-996f-4632-b6d9-16da14b18423"
      },
      "source": [
        "import numpy as np\n",
        "\n",
        "pho = df['Phosphate']\n",
        "\n",
        "for i in range(len(pho)):\n",
        "    if i>5:\n",
        "        if np.isnan(pho[i]):\n",
        "                pho[i] = np.mean([pho[i-1], pho[i-2], pho[i-3], pho[i-4], pho[i-5]])\n",
        "pho\n",
        "\n",
        "for i in range(4,-1,-1):\n",
        "    if np.isnan(pho[i]):\n",
        "            pho[i] = np.mean([pho[i+1], pho[i+2], pho[i+3], pho[i+4], pho[i+5]])\n",
        "pho"
      ],
      "execution_count": 10,
      "outputs": [
        {
          "output_type": "execute_result",
          "data": {
            "text/plain": [
              "0      0.06211\n",
              "1      0.00960\n",
              "2      0.01280\n",
              "3      0.01536\n",
              "4      0.01000\n",
              "        ...   \n",
              "482    0.01500\n",
              "483    0.03300\n",
              "484    0.16300\n",
              "485    0.21900\n",
              "486    0.07000\n",
              "Name: Phosphate, Length: 487, dtype: float64"
            ]
          },
          "metadata": {
            "tags": []
          },
          "execution_count": 10
        }
      ]
    },
    {
      "cell_type": "code",
      "metadata": {
        "colab": {
          "base_uri": "https://localhost:8080/"
        },
        "id": "k1e2ake7VUiE",
        "outputId": "8db80e1a-516a-4d9b-f615-597844df2f9a"
      },
      "source": [
        "df.isnull().sum()"
      ],
      "execution_count": 11,
      "outputs": [
        {
          "output_type": "execute_result",
          "data": {
            "text/plain": [
              "pH            0\n",
              "DO            0\n",
              "TDS           0\n",
              "Alkalinity    0\n",
              "EC            0\n",
              "Na            0\n",
              "Ca            0\n",
              "Mg            0\n",
              "K             0\n",
              "F             0\n",
              "Cl            0\n",
              "Nitrate       0\n",
              "Sulphate      0\n",
              "Phosphate     0\n",
              "WPI           0\n",
              "dtype: int64"
            ]
          },
          "metadata": {
            "tags": []
          },
          "execution_count": 11
        }
      ]
    },
    {
      "cell_type": "code",
      "metadata": {
        "colab": {
          "base_uri": "https://localhost:8080/",
          "height": 204
        },
        "id": "rkwFy92WVtA4",
        "outputId": "c0ed177d-ff57-4633-b3cc-ec62e56a90b5"
      },
      "source": [
        "df.tail()"
      ],
      "execution_count": 13,
      "outputs": [
        {
          "output_type": "execute_result",
          "data": {
            "text/html": [
              "<div>\n",
              "<style scoped>\n",
              "    .dataframe tbody tr th:only-of-type {\n",
              "        vertical-align: middle;\n",
              "    }\n",
              "\n",
              "    .dataframe tbody tr th {\n",
              "        vertical-align: top;\n",
              "    }\n",
              "\n",
              "    .dataframe thead th {\n",
              "        text-align: right;\n",
              "    }\n",
              "</style>\n",
              "<table border=\"1\" class=\"dataframe\">\n",
              "  <thead>\n",
              "    <tr style=\"text-align: right;\">\n",
              "      <th></th>\n",
              "      <th>pH</th>\n",
              "      <th>DO</th>\n",
              "      <th>TDS</th>\n",
              "      <th>Alkalinity</th>\n",
              "      <th>EC</th>\n",
              "      <th>Na</th>\n",
              "      <th>Ca</th>\n",
              "      <th>Mg</th>\n",
              "      <th>K</th>\n",
              "      <th>F</th>\n",
              "      <th>Cl</th>\n",
              "      <th>Nitrate</th>\n",
              "      <th>Sulphate</th>\n",
              "      <th>Phosphate</th>\n",
              "      <th>WPI</th>\n",
              "    </tr>\n",
              "  </thead>\n",
              "  <tbody>\n",
              "    <tr>\n",
              "      <th>482</th>\n",
              "      <td>7.6</td>\n",
              "      <td>5.6</td>\n",
              "      <td>224.0</td>\n",
              "      <td>8.0</td>\n",
              "      <td>370.0</td>\n",
              "      <td>16.14</td>\n",
              "      <td>92.0</td>\n",
              "      <td>24.0</td>\n",
              "      <td>7.60</td>\n",
              "      <td>2.270</td>\n",
              "      <td>23.04</td>\n",
              "      <td>1.352000</td>\n",
              "      <td>104.480</td>\n",
              "      <td>0.015</td>\n",
              "      <td>0.419630</td>\n",
              "    </tr>\n",
              "    <tr>\n",
              "      <th>483</th>\n",
              "      <td>7.3</td>\n",
              "      <td>5.6</td>\n",
              "      <td>266.0</td>\n",
              "      <td>96.0</td>\n",
              "      <td>434.0</td>\n",
              "      <td>20.56</td>\n",
              "      <td>96.0</td>\n",
              "      <td>32.0</td>\n",
              "      <td>9.89</td>\n",
              "      <td>1.550</td>\n",
              "      <td>30.86</td>\n",
              "      <td>7.074000</td>\n",
              "      <td>61.068</td>\n",
              "      <td>0.033</td>\n",
              "      <td>0.432996</td>\n",
              "    </tr>\n",
              "    <tr>\n",
              "      <th>484</th>\n",
              "      <td>5.1</td>\n",
              "      <td>5.8</td>\n",
              "      <td>290.0</td>\n",
              "      <td>12.0</td>\n",
              "      <td>487.0</td>\n",
              "      <td>37.35</td>\n",
              "      <td>60.0</td>\n",
              "      <td>44.0</td>\n",
              "      <td>14.80</td>\n",
              "      <td>0.159</td>\n",
              "      <td>60.13</td>\n",
              "      <td>9.256000</td>\n",
              "      <td>89.910</td>\n",
              "      <td>0.163</td>\n",
              "      <td>0.326811</td>\n",
              "    </tr>\n",
              "    <tr>\n",
              "      <th>485</th>\n",
              "      <td>7.4</td>\n",
              "      <td>6.4</td>\n",
              "      <td>230.0</td>\n",
              "      <td>72.0</td>\n",
              "      <td>385.0</td>\n",
              "      <td>20.06</td>\n",
              "      <td>70.0</td>\n",
              "      <td>42.0</td>\n",
              "      <td>10.35</td>\n",
              "      <td>1.360</td>\n",
              "      <td>32.92</td>\n",
              "      <td>7.110435</td>\n",
              "      <td>48.500</td>\n",
              "      <td>0.219</td>\n",
              "      <td>0.509970</td>\n",
              "    </tr>\n",
              "    <tr>\n",
              "      <th>486</th>\n",
              "      <td>7.6</td>\n",
              "      <td>6.9</td>\n",
              "      <td>243.0</td>\n",
              "      <td>68.0</td>\n",
              "      <td>410.8</td>\n",
              "      <td>17.41</td>\n",
              "      <td>82.0</td>\n",
              "      <td>50.0</td>\n",
              "      <td>9.92</td>\n",
              "      <td>1.310</td>\n",
              "      <td>34.89</td>\n",
              "      <td>6.385000</td>\n",
              "      <td>59.940</td>\n",
              "      <td>0.070</td>\n",
              "      <td>0.422551</td>\n",
              "    </tr>\n",
              "  </tbody>\n",
              "</table>\n",
              "</div>"
            ],
            "text/plain": [
              "      pH   DO    TDS  Alkalinity  ...   Nitrate  Sulphate  Phosphate       WPI\n",
              "482  7.6  5.6  224.0         8.0  ...  1.352000   104.480      0.015  0.419630\n",
              "483  7.3  5.6  266.0        96.0  ...  7.074000    61.068      0.033  0.432996\n",
              "484  5.1  5.8  290.0        12.0  ...  9.256000    89.910      0.163  0.326811\n",
              "485  7.4  6.4  230.0        72.0  ...  7.110435    48.500      0.219  0.509970\n",
              "486  7.6  6.9  243.0        68.0  ...  6.385000    59.940      0.070  0.422551\n",
              "\n",
              "[5 rows x 15 columns]"
            ]
          },
          "metadata": {
            "tags": []
          },
          "execution_count": 13
        }
      ]
    },
    {
      "cell_type": "code",
      "metadata": {
        "id": "ue1EIe7XV284"
      },
      "source": [
        "normalized_df=(df-df.min())/(df.max()-df.min())"
      ],
      "execution_count": 14,
      "outputs": []
    },
    {
      "cell_type": "code",
      "metadata": {
        "colab": {
          "base_uri": "https://localhost:8080/",
          "height": 419
        },
        "id": "qbruhBr4WGEx",
        "outputId": "82a09b2e-7256-41cb-f5ce-6ca863e9b6a7"
      },
      "source": [
        "normalized_df"
      ],
      "execution_count": 15,
      "outputs": [
        {
          "output_type": "execute_result",
          "data": {
            "text/html": [
              "<div>\n",
              "<style scoped>\n",
              "    .dataframe tbody tr th:only-of-type {\n",
              "        vertical-align: middle;\n",
              "    }\n",
              "\n",
              "    .dataframe tbody tr th {\n",
              "        vertical-align: top;\n",
              "    }\n",
              "\n",
              "    .dataframe thead th {\n",
              "        text-align: right;\n",
              "    }\n",
              "</style>\n",
              "<table border=\"1\" class=\"dataframe\">\n",
              "  <thead>\n",
              "    <tr style=\"text-align: right;\">\n",
              "      <th></th>\n",
              "      <th>pH</th>\n",
              "      <th>DO</th>\n",
              "      <th>TDS</th>\n",
              "      <th>Alkalinity</th>\n",
              "      <th>EC</th>\n",
              "      <th>Na</th>\n",
              "      <th>Ca</th>\n",
              "      <th>Mg</th>\n",
              "      <th>K</th>\n",
              "      <th>F</th>\n",
              "      <th>Cl</th>\n",
              "      <th>Nitrate</th>\n",
              "      <th>Sulphate</th>\n",
              "      <th>Phosphate</th>\n",
              "      <th>WPI</th>\n",
              "    </tr>\n",
              "  </thead>\n",
              "  <tbody>\n",
              "    <tr>\n",
              "      <th>0</th>\n",
              "      <td>0.876081</td>\n",
              "      <td>0.483871</td>\n",
              "      <td>0.111111</td>\n",
              "      <td>0.271605</td>\n",
              "      <td>0.123267</td>\n",
              "      <td>0.049610</td>\n",
              "      <td>0.227273</td>\n",
              "      <td>0.219512</td>\n",
              "      <td>0.038242</td>\n",
              "      <td>0.075308</td>\n",
              "      <td>0.057554</td>\n",
              "      <td>0.077630</td>\n",
              "      <td>0.055384</td>\n",
              "      <td>0.035190</td>\n",
              "      <td>0.097276</td>\n",
              "    </tr>\n",
              "    <tr>\n",
              "      <th>1</th>\n",
              "      <td>0.749280</td>\n",
              "      <td>0.494624</td>\n",
              "      <td>0.214286</td>\n",
              "      <td>0.419753</td>\n",
              "      <td>0.222772</td>\n",
              "      <td>0.139081</td>\n",
              "      <td>0.227273</td>\n",
              "      <td>0.414634</td>\n",
              "      <td>0.168950</td>\n",
              "      <td>0.113962</td>\n",
              "      <td>0.158273</td>\n",
              "      <td>0.019775</td>\n",
              "      <td>0.070853</td>\n",
              "      <td>0.005439</td>\n",
              "      <td>0.075203</td>\n",
              "    </tr>\n",
              "    <tr>\n",
              "      <th>2</th>\n",
              "      <td>0.720461</td>\n",
              "      <td>0.354839</td>\n",
              "      <td>0.075397</td>\n",
              "      <td>0.222222</td>\n",
              "      <td>0.074257</td>\n",
              "      <td>0.128250</td>\n",
              "      <td>0.106061</td>\n",
              "      <td>0.219512</td>\n",
              "      <td>0.131279</td>\n",
              "      <td>0.106631</td>\n",
              "      <td>0.158273</td>\n",
              "      <td>0.030360</td>\n",
              "      <td>0.029547</td>\n",
              "      <td>0.007252</td>\n",
              "      <td>0.053492</td>\n",
              "    </tr>\n",
              "    <tr>\n",
              "      <th>3</th>\n",
              "      <td>0.893372</td>\n",
              "      <td>0.526882</td>\n",
              "      <td>0.079365</td>\n",
              "      <td>0.296296</td>\n",
              "      <td>0.071782</td>\n",
              "      <td>0.089038</td>\n",
              "      <td>0.227273</td>\n",
              "      <td>0.195122</td>\n",
              "      <td>0.065639</td>\n",
              "      <td>0.112296</td>\n",
              "      <td>0.083453</td>\n",
              "      <td>0.030434</td>\n",
              "      <td>0.013953</td>\n",
              "      <td>0.008703</td>\n",
              "      <td>0.077124</td>\n",
              "    </tr>\n",
              "    <tr>\n",
              "      <th>4</th>\n",
              "      <td>0.636888</td>\n",
              "      <td>0.333333</td>\n",
              "      <td>0.111111</td>\n",
              "      <td>0.271605</td>\n",
              "      <td>0.103960</td>\n",
              "      <td>0.071707</td>\n",
              "      <td>0.106061</td>\n",
              "      <td>0.219512</td>\n",
              "      <td>0.063356</td>\n",
              "      <td>0.068644</td>\n",
              "      <td>0.064748</td>\n",
              "      <td>0.010503</td>\n",
              "      <td>0.046370</td>\n",
              "      <td>0.005666</td>\n",
              "      <td>0.041510</td>\n",
              "    </tr>\n",
              "    <tr>\n",
              "      <th>...</th>\n",
              "      <td>...</td>\n",
              "      <td>...</td>\n",
              "      <td>...</td>\n",
              "      <td>...</td>\n",
              "      <td>...</td>\n",
              "      <td>...</td>\n",
              "      <td>...</td>\n",
              "      <td>...</td>\n",
              "      <td>...</td>\n",
              "      <td>...</td>\n",
              "      <td>...</td>\n",
              "      <td>...</td>\n",
              "      <td>...</td>\n",
              "      <td>...</td>\n",
              "      <td>...</td>\n",
              "    </tr>\n",
              "    <tr>\n",
              "      <th>482</th>\n",
              "      <td>0.720461</td>\n",
              "      <td>0.150538</td>\n",
              "      <td>0.666667</td>\n",
              "      <td>0.000000</td>\n",
              "      <td>0.673267</td>\n",
              "      <td>0.302210</td>\n",
              "      <td>0.590909</td>\n",
              "      <td>0.268293</td>\n",
              "      <td>0.405251</td>\n",
              "      <td>0.736754</td>\n",
              "      <td>0.276835</td>\n",
              "      <td>0.138785</td>\n",
              "      <td>1.000000</td>\n",
              "      <td>0.008499</td>\n",
              "      <td>0.210614</td>\n",
              "    </tr>\n",
              "    <tr>\n",
              "      <th>483</th>\n",
              "      <td>0.634006</td>\n",
              "      <td>0.150538</td>\n",
              "      <td>0.833333</td>\n",
              "      <td>0.543210</td>\n",
              "      <td>0.831683</td>\n",
              "      <td>0.397964</td>\n",
              "      <td>0.621212</td>\n",
              "      <td>0.365854</td>\n",
              "      <td>0.535959</td>\n",
              "      <td>0.496834</td>\n",
              "      <td>0.389353</td>\n",
              "      <td>0.727893</td>\n",
              "      <td>0.581321</td>\n",
              "      <td>0.018697</td>\n",
              "      <td>0.219520</td>\n",
              "    </tr>\n",
              "    <tr>\n",
              "      <th>484</th>\n",
              "      <td>0.000000</td>\n",
              "      <td>0.172043</td>\n",
              "      <td>0.928571</td>\n",
              "      <td>0.024691</td>\n",
              "      <td>0.962871</td>\n",
              "      <td>0.761698</td>\n",
              "      <td>0.348485</td>\n",
              "      <td>0.512195</td>\n",
              "      <td>0.816210</td>\n",
              "      <td>0.033322</td>\n",
              "      <td>0.810504</td>\n",
              "      <td>0.952541</td>\n",
              "      <td>0.859482</td>\n",
              "      <td>0.092351</td>\n",
              "      <td>0.148769</td>\n",
              "    </tr>\n",
              "    <tr>\n",
              "      <th>485</th>\n",
              "      <td>0.662824</td>\n",
              "      <td>0.236559</td>\n",
              "      <td>0.690476</td>\n",
              "      <td>0.395062</td>\n",
              "      <td>0.710396</td>\n",
              "      <td>0.387132</td>\n",
              "      <td>0.424242</td>\n",
              "      <td>0.487805</td>\n",
              "      <td>0.562215</td>\n",
              "      <td>0.433522</td>\n",
              "      <td>0.418993</td>\n",
              "      <td>0.731644</td>\n",
              "      <td>0.460111</td>\n",
              "      <td>0.124079</td>\n",
              "      <td>0.270807</td>\n",
              "    </tr>\n",
              "    <tr>\n",
              "      <th>486</th>\n",
              "      <td>0.720461</td>\n",
              "      <td>0.290323</td>\n",
              "      <td>0.742063</td>\n",
              "      <td>0.370370</td>\n",
              "      <td>0.774257</td>\n",
              "      <td>0.329723</td>\n",
              "      <td>0.515152</td>\n",
              "      <td>0.585366</td>\n",
              "      <td>0.537671</td>\n",
              "      <td>0.416861</td>\n",
              "      <td>0.447338</td>\n",
              "      <td>0.656957</td>\n",
              "      <td>0.570442</td>\n",
              "      <td>0.039660</td>\n",
              "      <td>0.212560</td>\n",
              "    </tr>\n",
              "  </tbody>\n",
              "</table>\n",
              "<p>487 rows × 15 columns</p>\n",
              "</div>"
            ],
            "text/plain": [
              "           pH        DO       TDS  ...  Sulphate  Phosphate       WPI\n",
              "0    0.876081  0.483871  0.111111  ...  0.055384   0.035190  0.097276\n",
              "1    0.749280  0.494624  0.214286  ...  0.070853   0.005439  0.075203\n",
              "2    0.720461  0.354839  0.075397  ...  0.029547   0.007252  0.053492\n",
              "3    0.893372  0.526882  0.079365  ...  0.013953   0.008703  0.077124\n",
              "4    0.636888  0.333333  0.111111  ...  0.046370   0.005666  0.041510\n",
              "..        ...       ...       ...  ...       ...        ...       ...\n",
              "482  0.720461  0.150538  0.666667  ...  1.000000   0.008499  0.210614\n",
              "483  0.634006  0.150538  0.833333  ...  0.581321   0.018697  0.219520\n",
              "484  0.000000  0.172043  0.928571  ...  0.859482   0.092351  0.148769\n",
              "485  0.662824  0.236559  0.690476  ...  0.460111   0.124079  0.270807\n",
              "486  0.720461  0.290323  0.742063  ...  0.570442   0.039660  0.212560\n",
              "\n",
              "[487 rows x 15 columns]"
            ]
          },
          "metadata": {
            "tags": []
          },
          "execution_count": 15
        }
      ]
    },
    {
      "cell_type": "code",
      "metadata": {
        "colab": {
          "base_uri": "https://localhost:8080/",
          "height": 529
        },
        "id": "Y1LBooQyWIWK",
        "outputId": "a6d1b42c-a44f-453b-9a8f-5e7b1ee8b74f"
      },
      "source": [
        "import matplotlib.pyplot as plt\n",
        "import seaborn as sns\n",
        "\n",
        "plt.figure(figsize = (16, 8))\n",
        "sns.heatmap(normalized_df.corr(), annot = True)\n",
        "plt.show()"
      ],
      "execution_count": 18,
      "outputs": [
        {
          "output_type": "display_data",
          "data": {
            "image/png": "[encoded data removed]",
            "text/plain": [
              "<Figure size 1152x576 with 2 Axes>"
            ]
          },
          "metadata": {
            "tags": [],
            "needs_background": "light"
          }
        }
      ]
    },
    {
      "cell_type": "code",
      "metadata": {
        "colab": {
          "base_uri": "https://localhost:8080/"
        },
        "id": "EiYOsmVfYk9Q",
        "outputId": "4a9900e1-4ce5-4583-8019-b29020368596"
      },
      "source": [
        "normalized_df.isnull().sum()"
      ],
      "execution_count": 30,
      "outputs": [
        {
          "output_type": "execute_result",
          "data": {
            "text/plain": [
              "pH            0\n",
              "DO            0\n",
              "TDS           0\n",
              "Alkalinity    0\n",
              "EC            0\n",
              "Na            0\n",
              "Ca            0\n",
              "Mg            0\n",
              "K             0\n",
              "F             0\n",
              "Cl            0\n",
              "Nitrate       0\n",
              "Sulphate      0\n",
              "Phosphate     0\n",
              "WPI           0\n",
              "dtype: int64"
            ]
          },
          "metadata": {
            "tags": []
          },
          "execution_count": 30
        }
      ]
    },
    {
      "cell_type": "code",
      "metadata": {
        "colab": {
          "base_uri": "https://localhost:8080/",
          "height": 204
        },
        "id": "D6Q8m03gaAPj",
        "outputId": "a7e35678-552d-4d99-f679-a675fc18c09c"
      },
      "source": [
        "x = normalized_df.drop('WPI',axis=1)\n",
        "x.head()"
      ],
      "execution_count": 34,
      "outputs": [
        {
          "output_type": "execute_result",
          "data": {
            "text/html": [
              "<div>\n",
              "<style scoped>\n",
              "    .dataframe tbody tr th:only-of-type {\n",
              "        vertical-align: middle;\n",
              "    }\n",
              "\n",
              "    .dataframe tbody tr th {\n",
              "        vertical-align: top;\n",
              "    }\n",
              "\n",
              "    .dataframe thead th {\n",
              "        text-align: right;\n",
              "    }\n",
              "</style>\n",
              "<table border=\"1\" class=\"dataframe\">\n",
              "  <thead>\n",
              "    <tr style=\"text-align: right;\">\n",
              "      <th></th>\n",
              "      <th>pH</th>\n",
              "      <th>DO</th>\n",
              "      <th>TDS</th>\n",
              "      <th>Alkalinity</th>\n",
              "      <th>EC</th>\n",
              "      <th>Na</th>\n",
              "      <th>Ca</th>\n",
              "      <th>Mg</th>\n",
              "      <th>K</th>\n",
              "      <th>F</th>\n",
              "      <th>Cl</th>\n",
              "      <th>Nitrate</th>\n",
              "      <th>Sulphate</th>\n",
              "      <th>Phosphate</th>\n",
              "    </tr>\n",
              "  </thead>\n",
              "  <tbody>\n",
              "    <tr>\n",
              "      <th>0</th>\n",
              "      <td>0.876081</td>\n",
              "      <td>0.483871</td>\n",
              "      <td>0.111111</td>\n",
              "      <td>0.271605</td>\n",
              "      <td>0.123267</td>\n",
              "      <td>0.049610</td>\n",
              "      <td>0.227273</td>\n",
              "      <td>0.219512</td>\n",
              "      <td>0.038242</td>\n",
              "      <td>0.075308</td>\n",
              "      <td>0.057554</td>\n",
              "      <td>0.077630</td>\n",
              "      <td>0.055384</td>\n",
              "      <td>0.035190</td>\n",
              "    </tr>\n",
              "    <tr>\n",
              "      <th>1</th>\n",
              "      <td>0.749280</td>\n",
              "      <td>0.494624</td>\n",
              "      <td>0.214286</td>\n",
              "      <td>0.419753</td>\n",
              "      <td>0.222772</td>\n",
              "      <td>0.139081</td>\n",
              "      <td>0.227273</td>\n",
              "      <td>0.414634</td>\n",
              "      <td>0.168950</td>\n",
              "      <td>0.113962</td>\n",
              "      <td>0.158273</td>\n",
              "      <td>0.019775</td>\n",
              "      <td>0.070853</td>\n",
              "      <td>0.005439</td>\n",
              "    </tr>\n",
              "    <tr>\n",
              "      <th>2</th>\n",
              "      <td>0.720461</td>\n",
              "      <td>0.354839</td>\n",
              "      <td>0.075397</td>\n",
              "      <td>0.222222</td>\n",
              "      <td>0.074257</td>\n",
              "      <td>0.128250</td>\n",
              "      <td>0.106061</td>\n",
              "      <td>0.219512</td>\n",
              "      <td>0.131279</td>\n",
              "      <td>0.106631</td>\n",
              "      <td>0.158273</td>\n",
              "      <td>0.030360</td>\n",
              "      <td>0.029547</td>\n",
              "      <td>0.007252</td>\n",
              "    </tr>\n",
              "    <tr>\n",
              "      <th>3</th>\n",
              "      <td>0.893372</td>\n",
              "      <td>0.526882</td>\n",
              "      <td>0.079365</td>\n",
              "      <td>0.296296</td>\n",
              "      <td>0.071782</td>\n",
              "      <td>0.089038</td>\n",
              "      <td>0.227273</td>\n",
              "      <td>0.195122</td>\n",
              "      <td>0.065639</td>\n",
              "      <td>0.112296</td>\n",
              "      <td>0.083453</td>\n",
              "      <td>0.030434</td>\n",
              "      <td>0.013953</td>\n",
              "      <td>0.008703</td>\n",
              "    </tr>\n",
              "    <tr>\n",
              "      <th>4</th>\n",
              "      <td>0.636888</td>\n",
              "      <td>0.333333</td>\n",
              "      <td>0.111111</td>\n",
              "      <td>0.271605</td>\n",
              "      <td>0.103960</td>\n",
              "      <td>0.071707</td>\n",
              "      <td>0.106061</td>\n",
              "      <td>0.219512</td>\n",
              "      <td>0.063356</td>\n",
              "      <td>0.068644</td>\n",
              "      <td>0.064748</td>\n",
              "      <td>0.010503</td>\n",
              "      <td>0.046370</td>\n",
              "      <td>0.005666</td>\n",
              "    </tr>\n",
              "  </tbody>\n",
              "</table>\n",
              "</div>"
            ],
            "text/plain": [
              "         pH        DO       TDS  ...   Nitrate  Sulphate  Phosphate\n",
              "0  0.876081  0.483871  0.111111  ...  0.077630  0.055384   0.035190\n",
              "1  0.749280  0.494624  0.214286  ...  0.019775  0.070853   0.005439\n",
              "2  0.720461  0.354839  0.075397  ...  0.030360  0.029547   0.007252\n",
              "3  0.893372  0.526882  0.079365  ...  0.030434  0.013953   0.008703\n",
              "4  0.636888  0.333333  0.111111  ...  0.010503  0.046370   0.005666\n",
              "\n",
              "[5 rows x 14 columns]"
            ]
          },
          "metadata": {
            "tags": []
          },
          "execution_count": 34
        }
      ]
    },
    {
      "cell_type": "code",
      "metadata": {
        "colab": {
          "base_uri": "https://localhost:8080/"
        },
        "id": "xxxjWeDHcMbe",
        "outputId": "d3987ee1-ec75-4ae4-c5d1-2341a4578dae"
      },
      "source": [
        "y = normalized_df['WPI']\n",
        "y.head()"
      ],
      "execution_count": 39,
      "outputs": [
        {
          "output_type": "execute_result",
          "data": {
            "text/plain": [
              "0    0.097276\n",
              "1    0.075203\n",
              "2    0.053492\n",
              "3    0.077124\n",
              "4    0.041510\n",
              "Name: WPI, dtype: float64"
            ]
          },
          "metadata": {
            "tags": []
          },
          "execution_count": 39
        }
      ]
    },
    {
      "cell_type": "markdown",
      "metadata": {
        "id": "159KcsBLec2i"
      },
      "source": [
        "MLR\n",
        "Multiple linear regression is a form of linear regression used when there is more than one\n",
        "predicting variable at play"
      ]
    },
    {
      "cell_type": "code",
      "metadata": {
        "id": "VBTMvgDzcSa-"
      },
      "source": [
        "# importing train_test_split from sklearn\n",
        "from sklearn.model_selection import train_test_split\n",
        "# splitting the data\n",
        "x_train, x_test, y_train, y_test = train_test_split(x, y, test_size = 0.2, random_state = 42)"
      ],
      "execution_count": 40,
      "outputs": []
    },
    {
      "cell_type": "code",
      "metadata": {
        "colab": {
          "base_uri": "https://localhost:8080/"
        },
        "id": "HRU4E-GycrmX",
        "outputId": "798b5684-ca38-4dac-a4c5-c303bc721c8a"
      },
      "source": [
        "# importing module\n",
        "from sklearn.linear_model import LinearRegression\n",
        "# creating an object of LinearRegression class\n",
        "LR = LinearRegression()\n",
        "# fitting the training data\n",
        "LR.fit(x_train,y_train)"
      ],
      "execution_count": 41,
      "outputs": [
        {
          "output_type": "execute_result",
          "data": {
            "text/plain": [
              "LinearRegression(copy_X=True, fit_intercept=True, n_jobs=None, normalize=False)"
            ]
          },
          "metadata": {
            "tags": []
          },
          "execution_count": 41
        }
      ]
    },
    {
      "cell_type": "code",
      "metadata": {
        "colab": {
          "base_uri": "https://localhost:8080/"
        },
        "id": "6LeLN9AwcvOm",
        "outputId": "369be02e-9be0-4b55-dc8f-f5b9dd56f1e2"
      },
      "source": [
        "y_prediction =  LR.predict(x_test)\n",
        "y_prediction"
      ],
      "execution_count": 42,
      "outputs": [
        {
          "output_type": "execute_result",
          "data": {
            "text/plain": [
              "array([0.26780792, 0.10976828, 0.097216  , 0.18148955, 0.13327922,\n",
              "       0.25094018, 0.4424282 , 0.15035981, 0.24367763, 0.12759524,\n",
              "       0.08954772, 0.20220242, 0.1055206 , 0.11150058, 0.04534676,\n",
              "       0.07379373, 0.28315527, 0.06633109, 0.19918869, 0.13679542,\n",
              "       0.10064563, 0.08003358, 0.08031436, 0.1382367 , 0.0414555 ,\n",
              "       0.08947685, 0.22996734, 0.5372088 , 0.17773195, 0.13540975,\n",
              "       0.50749867, 0.25499224, 0.15981046, 0.12815714, 0.06986991,\n",
              "       0.097216  , 0.11566194, 0.2106503 , 0.15295992, 0.40402423,\n",
              "       0.1070818 , 0.11159724, 0.10693068, 0.24865721, 0.05515217,\n",
              "       0.09975501, 0.15020451, 0.08338196, 0.10976828, 0.13485258,\n",
              "       0.06900137, 0.07628456, 0.15843218, 0.13509191, 0.22203892,\n",
              "       0.09238164, 0.08925567, 0.05648512, 0.07455134, 0.60743287,\n",
              "       0.09834674, 0.23044669, 0.15473083, 0.05580411, 0.11957517,\n",
              "       0.07759675, 0.07537406, 0.31211143, 0.26073317, 0.20373699,\n",
              "       0.09832702, 0.12179393, 0.09689875, 0.1290178 , 0.04737476,\n",
              "       0.2927947 , 0.08004056, 0.26803755, 0.08009949, 0.40116053,\n",
              "       0.09206106, 0.06088784, 0.0495828 , 0.11033723, 0.09209917,\n",
              "       0.20758774, 0.07721003, 0.0680937 , 0.07279398, 0.12388902,\n",
              "       0.07871976, 0.09922086, 0.1972124 , 0.06644747, 0.09223954,\n",
              "       0.06583048, 0.081415  , 0.09651762])"
            ]
          },
          "metadata": {
            "tags": []
          },
          "execution_count": 42
        }
      ]
    },
    {
      "cell_type": "code",
      "metadata": {
        "colab": {
          "base_uri": "https://localhost:8080/"
        },
        "id": "h_cUU7zjcyjz",
        "outputId": "f4277e5e-883e-4628-f61e-7fe0c4bbd7f1"
      },
      "source": [
        "# importing r2_score module\n",
        "from sklearn.metrics import r2_score\n",
        "from sklearn.metrics import mean_squared_error\n",
        "# predicting the accuracy score\n",
        "score=r2_score(y_test,y_prediction)\n",
        "print('r2 score is',score)\n",
        "print('mean_sqrd_error is==',mean_squared_error(y_test,y_prediction))\n",
        "print('root_mean_squared error of is==',np.sqrt(mean_squared_error(y_test,y_prediction)))"
      ],
      "execution_count": 48,
      "outputs": [
        {
          "output_type": "stream",
          "text": [
            "r2 score is 0.9999915829896358\n",
            "mean_sqrd_error is== 9.795137007625089e-08\n",
            "root_mean_squared error of is== 0.00031297183591539175\n"
          ],
          "name": "stdout"
        }
      ]
    },
    {
      "cell_type": "code",
      "metadata": {
        "colab": {
          "base_uri": "https://localhost:8080/"
        },
        "id": "M55iS3zmhmHE",
        "outputId": "2eaaa06d-f4d5-4d2a-8a7a-3610295a67d1"
      },
      "source": [
        "print('The shape of our features is:', normalized_df.shape)"
      ],
      "execution_count": 61,
      "outputs": [
        {
          "output_type": "stream",
          "text": [
            "The shape of our features is: (487, 15)\n"
          ],
          "name": "stdout"
        }
      ]
    },
    {
      "cell_type": "code",
      "metadata": {
        "colab": {
          "base_uri": "https://localhost:8080/",
          "height": 317
        },
        "id": "VgDzIv5ijCrR",
        "outputId": "17a42e25-70ec-44c0-a9be-ca5c4ba2903e"
      },
      "source": [
        "# Descriptive statistics for each column\n",
        "normalized_df.describe()"
      ],
      "execution_count": 62,
      "outputs": [
        {
          "output_type": "execute_result",
          "data": {
            "text/html": [
              "<div>\n",
              "<style scoped>\n",
              "    .dataframe tbody tr th:only-of-type {\n",
              "        vertical-align: middle;\n",
              "    }\n",
              "\n",
              "    .dataframe tbody tr th {\n",
              "        vertical-align: top;\n",
              "    }\n",
              "\n",
              "    .dataframe thead th {\n",
              "        text-align: right;\n",
              "    }\n",
              "</style>\n",
              "<table border=\"1\" class=\"dataframe\">\n",
              "  <thead>\n",
              "    <tr style=\"text-align: right;\">\n",
              "      <th></th>\n",
              "      <th>pH</th>\n",
              "      <th>DO</th>\n",
              "      <th>TDS</th>\n",
              "      <th>Alkalinity</th>\n",
              "      <th>EC</th>\n",
              "      <th>Na</th>\n",
              "      <th>Ca</th>\n",
              "      <th>Mg</th>\n",
              "      <th>K</th>\n",
              "      <th>F</th>\n",
              "      <th>Cl</th>\n",
              "      <th>Nitrate</th>\n",
              "      <th>Sulphate</th>\n",
              "      <th>Phosphate</th>\n",
              "      <th>WPI</th>\n",
              "    </tr>\n",
              "  </thead>\n",
              "  <tbody>\n",
              "    <tr>\n",
              "      <th>count</th>\n",
              "      <td>487.000000</td>\n",
              "      <td>487.000000</td>\n",
              "      <td>487.000000</td>\n",
              "      <td>487.000000</td>\n",
              "      <td>487.000000</td>\n",
              "      <td>487.000000</td>\n",
              "      <td>487.000000</td>\n",
              "      <td>487.000000</td>\n",
              "      <td>487.000000</td>\n",
              "      <td>487.000000</td>\n",
              "      <td>487.000000</td>\n",
              "      <td>487.000000</td>\n",
              "      <td>487.000000</td>\n",
              "      <td>487.000000</td>\n",
              "      <td>487.000000</td>\n",
              "    </tr>\n",
              "    <tr>\n",
              "      <th>mean</th>\n",
              "      <td>0.780771</td>\n",
              "      <td>0.348555</td>\n",
              "      <td>0.237112</td>\n",
              "      <td>0.334728</td>\n",
              "      <td>0.243902</td>\n",
              "      <td>0.145497</td>\n",
              "      <td>0.224877</td>\n",
              "      <td>0.272700</td>\n",
              "      <td>0.144762</td>\n",
              "      <td>0.150881</td>\n",
              "      <td>0.149282</td>\n",
              "      <td>0.132028</td>\n",
              "      <td>0.135017</td>\n",
              "      <td>0.050659</td>\n",
              "      <td>0.126569</td>\n",
              "    </tr>\n",
              "    <tr>\n",
              "      <th>std</th>\n",
              "      <td>0.118506</td>\n",
              "      <td>0.119050</td>\n",
              "      <td>0.187635</td>\n",
              "      <td>0.123879</td>\n",
              "      <td>0.200713</td>\n",
              "      <td>0.123909</td>\n",
              "      <td>0.135200</td>\n",
              "      <td>0.131895</td>\n",
              "      <td>0.131518</td>\n",
              "      <td>0.164653</td>\n",
              "      <td>0.133517</td>\n",
              "      <td>0.189301</td>\n",
              "      <td>0.141233</td>\n",
              "      <td>0.088617</td>\n",
              "      <td>0.088208</td>\n",
              "    </tr>\n",
              "    <tr>\n",
              "      <th>min</th>\n",
              "      <td>0.000000</td>\n",
              "      <td>0.000000</td>\n",
              "      <td>0.000000</td>\n",
              "      <td>0.000000</td>\n",
              "      <td>0.000000</td>\n",
              "      <td>0.000000</td>\n",
              "      <td>0.000000</td>\n",
              "      <td>0.000000</td>\n",
              "      <td>0.000000</td>\n",
              "      <td>0.000000</td>\n",
              "      <td>0.000000</td>\n",
              "      <td>0.000000</td>\n",
              "      <td>0.000000</td>\n",
              "      <td>0.000000</td>\n",
              "      <td>0.000000</td>\n",
              "    </tr>\n",
              "    <tr>\n",
              "      <th>25%</th>\n",
              "      <td>0.708934</td>\n",
              "      <td>0.268817</td>\n",
              "      <td>0.111111</td>\n",
              "      <td>0.259259</td>\n",
              "      <td>0.103960</td>\n",
              "      <td>0.067266</td>\n",
              "      <td>0.136364</td>\n",
              "      <td>0.170732</td>\n",
              "      <td>0.070491</td>\n",
              "      <td>0.063312</td>\n",
              "      <td>0.069433</td>\n",
              "      <td>0.024711</td>\n",
              "      <td>0.045135</td>\n",
              "      <td>0.013241</td>\n",
              "      <td>0.078657</td>\n",
              "    </tr>\n",
              "    <tr>\n",
              "      <th>50%</th>\n",
              "      <td>0.795389</td>\n",
              "      <td>0.344086</td>\n",
              "      <td>0.182540</td>\n",
              "      <td>0.296296</td>\n",
              "      <td>0.180693</td>\n",
              "      <td>0.106369</td>\n",
              "      <td>0.196970</td>\n",
              "      <td>0.243902</td>\n",
              "      <td>0.109018</td>\n",
              "      <td>0.084305</td>\n",
              "      <td>0.105036</td>\n",
              "      <td>0.053847</td>\n",
              "      <td>0.083501</td>\n",
              "      <td>0.026205</td>\n",
              "      <td>0.100333</td>\n",
              "    </tr>\n",
              "    <tr>\n",
              "      <th>75%</th>\n",
              "      <td>0.864553</td>\n",
              "      <td>0.419355</td>\n",
              "      <td>0.289683</td>\n",
              "      <td>0.395062</td>\n",
              "      <td>0.300743</td>\n",
              "      <td>0.174285</td>\n",
              "      <td>0.287879</td>\n",
              "      <td>0.317073</td>\n",
              "      <td>0.165525</td>\n",
              "      <td>0.136288</td>\n",
              "      <td>0.180872</td>\n",
              "      <td>0.154735</td>\n",
              "      <td>0.166249</td>\n",
              "      <td>0.051558</td>\n",
              "      <td>0.139335</td>\n",
              "    </tr>\n",
              "    <tr>\n",
              "      <th>max</th>\n",
              "      <td>1.000000</td>\n",
              "      <td>1.000000</td>\n",
              "      <td>1.000000</td>\n",
              "      <td>1.000000</td>\n",
              "      <td>1.000000</td>\n",
              "      <td>1.000000</td>\n",
              "      <td>1.000000</td>\n",
              "      <td>1.000000</td>\n",
              "      <td>1.000000</td>\n",
              "      <td>1.000000</td>\n",
              "      <td>1.000000</td>\n",
              "      <td>1.000000</td>\n",
              "      <td>1.000000</td>\n",
              "      <td>1.000000</td>\n",
              "      <td>1.000000</td>\n",
              "    </tr>\n",
              "  </tbody>\n",
              "</table>\n",
              "</div>"
            ],
            "text/plain": [
              "               pH          DO         TDS  ...    Sulphate   Phosphate         WPI\n",
              "count  487.000000  487.000000  487.000000  ...  487.000000  487.000000  487.000000\n",
              "mean     0.780771    0.348555    0.237112  ...    0.135017    0.050659    0.126569\n",
              "std      0.118506    0.119050    0.187635  ...    0.141233    0.088617    0.088208\n",
              "min      0.000000    0.000000    0.000000  ...    0.000000    0.000000    0.000000\n",
              "25%      0.708934    0.268817    0.111111  ...    0.045135    0.013241    0.078657\n",
              "50%      0.795389    0.344086    0.182540  ...    0.083501    0.026205    0.100333\n",
              "75%      0.864553    0.419355    0.289683  ...    0.166249    0.051558    0.139335\n",
              "max      1.000000    1.000000    1.000000  ...    1.000000    1.000000    1.000000\n",
              "\n",
              "[8 rows x 15 columns]"
            ]
          },
          "metadata": {
            "tags": []
          },
          "execution_count": 62
        }
      ]
    },
    {
      "cell_type": "markdown",
      "metadata": {
        "id": "J2hHIsJTmbHq"
      },
      "source": [
        "Random Forest\n",
        "Random forest is a model that uses multiple base models on subsets of the given data and makes\n",
        "decisions based on all the models. In random forest, the base model is a decision tree, carrying all the\n",
        "pros of a decision tree with the additional efficiency of using multiple models"
      ]
    },
    {
      "cell_type": "code",
      "metadata": {
        "id": "C4RrpEm-kEVa"
      },
      "source": [
        "# Using Skicit-learn to split data into training and testing sets\n",
        "from sklearn.model_selection import train_test_split\n",
        "# Split the data into training and testing sets\n",
        "train_x, test_x, train_y, test_y = train_test_split(x, y, test_size = 0.25, random_state = 42)"
      ],
      "execution_count": 63,
      "outputs": []
    },
    {
      "cell_type": "code",
      "metadata": {
        "colab": {
          "base_uri": "https://localhost:8080/"
        },
        "id": "rtqFpAdqkMhi",
        "outputId": "264ea8b5-fc14-4025-d282-dd78edbc04d8"
      },
      "source": [
        "print('Training X Shape:', train_x.shape)\n",
        "print('Training Y Shape:', train_y.shape)\n",
        "print('Testing X Shape:', test_x.shape)\n",
        "print('Testing Y Shape:', test_y.shape)"
      ],
      "execution_count": 64,
      "outputs": [
        {
          "output_type": "stream",
          "text": [
            "Training X Shape: (365, 14)\n",
            "Training Y Shape: (365,)\n",
            "Testing X Shape: (122, 14)\n",
            "Testing Y Shape: (122,)\n"
          ],
          "name": "stdout"
        }
      ]
    },
    {
      "cell_type": "code",
      "metadata": {
        "id": "DtLQagKIkv_L"
      },
      "source": [
        "# Import the model we are using\n",
        "from sklearn.ensemble import RandomForestRegressor\n",
        "# Instantiate model with 1000 decision trees\n",
        "rf = RandomForestRegressor(n_estimators = 1000, random_state = 42)\n",
        "# Train the model on training data\n",
        "rf.fit(train_x, train_y);"
      ],
      "execution_count": 67,
      "outputs": []
    },
    {
      "cell_type": "code",
      "metadata": {
        "colab": {
          "base_uri": "https://localhost:8080/"
        },
        "id": "QyBizHSblMQu",
        "outputId": "43e0384b-fa74-4e0f-d9ec-3053f0f770d3"
      },
      "source": [
        "# Use the forest's predict method on the test data\n",
        "predictions = rf.predict(test_x)\n",
        "# Calculate the absolute errors\n",
        "errors = abs(predictions - test_y)\n",
        "# Print out the mean absolute error (mae)\n",
        "print('Mean Absolute Error:', round(np.mean(errors), 2), 'degrees.')"
      ],
      "execution_count": 68,
      "outputs": [
        {
          "output_type": "stream",
          "text": [
            "Mean Absolute Error: 0.01 degrees.\n"
          ],
          "name": "stdout"
        }
      ]
    },
    {
      "cell_type": "code",
      "metadata": {
        "colab": {
          "base_uri": "https://localhost:8080/"
        },
        "id": "BjWZHWG-lY2_",
        "outputId": "37729ad7-3ee7-4a0c-dc18-860986f7db30"
      },
      "source": [
        "# Calculate mean absolute percentage error (MAPE)\n",
        "mape = 100 * (errors / test_y)\n",
        "# Calculate and display accuracy\n",
        "accuracy = 100 - np.mean(mape)\n",
        "print('Accuracy:', round(accuracy, 2), '%.')"
      ],
      "execution_count": 69,
      "outputs": [
        {
          "output_type": "stream",
          "text": [
            "Accuracy: 90.99 %.\n"
          ],
          "name": "stdout"
        }
      ]
    },
    {
      "cell_type": "code",
      "metadata": {
        "id": "QBDe9Q-tnsrh"
      },
      "source": [
        "# Labels are the values we want to predict\n",
        "labels = np.array(normalized_df['WPI'])\n",
        "# Remove the labels from the features\n",
        "# axis 1 refers to the columns\n",
        "features= normalized_df.drop('WPI', axis = 1)\n",
        "# Saving feature names for later use\n",
        "feature_list = list(features.columns)\n",
        "# Convert to numpy array\n",
        "features = np.array(features)"
      ],
      "execution_count": 72,
      "outputs": []
    },
    {
      "cell_type": "code",
      "metadata": {
        "id": "ZAzQpgi6nGLz"
      },
      "source": [
        "# Import tools needed for visualization\n",
        "from sklearn.tree import export_graphviz\n",
        "import pydot\n",
        "# Pull out one tree from the forest\n",
        "tree = rf.estimators_[5]\n",
        "# Import tools needed for visualization\n",
        "from sklearn.tree import export_graphviz\n",
        "import pydot\n",
        "# Pull out one tree from the forest\n",
        "tree = rf.estimators_[5]\n",
        "# Export the image to a dot file\n",
        "export_graphviz(tree, out_file = 'tree.dot', feature_names = feature_list, rounded = True, precision = 1)\n",
        "# Use dot file to create a graph\n",
        "(graph, ) = pydot.graph_from_dot_file('tree.dot')\n",
        "# Write graph to a png file\n",
        "graph.write_png('tree.png')"
      ],
      "execution_count": 73,
      "outputs": []
    },
    {
      "cell_type": "code",
      "metadata": {
        "id": "LmsBDr2Tom0y"
      },
      "source": [
        "# Limit depth of tree to 3 levels\n",
        "rf_small = RandomForestRegressor(n_estimators=10, max_depth = 3)\n",
        "rf_small.fit(train_x, train_y)\n",
        "# Extract the small tree\n",
        "tree_small = rf_small.estimators_[5]\n",
        "# Save the tree as a png image\n",
        "export_graphviz(tree_small, out_file = 'small_tree.dot', feature_names = feature_list, rounded = True, precision = 1)\n",
        "(graph, ) = pydot.graph_from_dot_file('small_tree.dot')\n",
        "graph.write_png('small_tree.png');"
      ],
      "execution_count": 75,
      "outputs": []
    },
    {
      "cell_type": "code",
      "metadata": {
        "colab": {
          "base_uri": "https://localhost:8080/"
        },
        "id": "Oi-sBw8mpiw1",
        "outputId": "69c14227-9e11-432f-c97a-972e51174878"
      },
      "source": [
        "# Get numerical feature importances\n",
        "importances = list(rf.feature_importances_)\n",
        "# List of tuples with variable and importance\n",
        "feature_importances = [(feature, round(importance, 2)) for feature, importance in zip(feature_list, importances)]\n",
        "# Sort the feature importances by most important first\n",
        "feature_importances = sorted(feature_importances, key = lambda x: x[1], reverse = True)\n",
        "# Print out the feature and importances \n",
        "[print('Variable: {:20} Importance: {}'.format(*pair)) for pair in feature_importances];"
      ],
      "execution_count": 76,
      "outputs": [
        {
          "output_type": "stream",
          "text": [
            "Variable: Phosphate            Importance: 0.67\n",
            "Variable: TDS                  Importance: 0.11\n",
            "Variable: F                    Importance: 0.06\n",
            "Variable: EC                   Importance: 0.04\n",
            "Variable: DO                   Importance: 0.03\n",
            "Variable: Ca                   Importance: 0.02\n",
            "Variable: pH                   Importance: 0.01\n",
            "Variable: Na                   Importance: 0.01\n",
            "Variable: K                    Importance: 0.01\n",
            "Variable: Cl                   Importance: 0.01\n",
            "Variable: Nitrate              Importance: 0.01\n",
            "Variable: Sulphate             Importance: 0.01\n",
            "Variable: Alkalinity           Importance: 0.0\n",
            "Variable: Mg                   Importance: 0.0\n"
          ],
          "name": "stdout"
        }
      ]
    },
    {
      "cell_type": "code",
      "metadata": {
        "colab": {
          "base_uri": "https://localhost:8080/",
          "height": 384
        },
        "id": "iYfT-i7GqWa_",
        "outputId": "2ae91b6b-391d-4309-beee-e56968677c6e"
      },
      "source": [
        "# Import matplotlib for plotting and use magic command for Jupyter Notebooks\n",
        "import matplotlib.pyplot as plt\n",
        "%matplotlib inline\n",
        "# Set the style\n",
        "plt.style.use('fivethirtyeight')\n",
        "# list of x locations for plotting\n",
        "x_values = list(range(len(importances)))\n",
        "# Make a bar chart\n",
        "plt.bar(x_values, importances, orientation = 'vertical')\n",
        "# Tick labels for x axis\n",
        "plt.xticks(x_values, feature_list, rotation='vertical')\n",
        "# Axis labels and title\n",
        "plt.ylabel('Importance'); plt.xlabel('Variable'); plt.title('Variable Importances');\n"
      ],
      "execution_count": 79,
      "outputs": [
        {
          "output_type": "display_data",
          "data": {
            "image/png": "[encoded data removed]",
            "text/plain": [
              "<Figure size 432x288 with 1 Axes>"
            ]
          },
          "metadata": {
            "tags": []
          }
        }
      ]
    },
    {
      "cell_type": "code",
      "metadata": {
        "id": "nQ1Yln_SsD-P"
      },
      "source": [
        ""
      ],
      "execution_count": null,
      "outputs": []
    }
  ]
}