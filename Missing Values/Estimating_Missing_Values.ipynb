{
  "nbformat": 4,
  "nbformat_minor": 0,
  "metadata": {
    "colab": {
      "name": "Estimating Missing Values.ipynb",
      "provenance": [],
      "collapsed_sections": [],
      "authorship_tag": "ABX9TyMw7FOgiYu8xcDKgwCwzhMq",
      "include_colab_link": true
    },
    "kernelspec": {
      "name": "python3",
      "display_name": "Python 3"
    },
    "language_info": {
      "name": "python"
    }
  },
  "cells": [
    {
      "cell_type": "markdown",
      "metadata": {
        "id": "view-in-github",
        "colab_type": "text"
      },
      "source": [
        "<a href=\"https://colab.research.google.com/github/ApahSaroj/WPI/blob/main/Estimating_Missing_Values.ipynb\" target=\"_parent\"><img src=\"https://colab.research.google.com/assets/colab-badge.svg\" alt=\"Open In Colab\"/></a>"
      ]
    },
    {
      "cell_type": "code",
      "metadata": {
        "id": "LKwpiZUH-Lds"
      },
      "source": [
        "from google.colab import drive"
      ],
      "execution_count": 1,
      "outputs": []
    },
    {
      "cell_type": "code",
      "metadata": {
        "colab": {
          "base_uri": "https://localhost:8080/"
        },
        "id": "0obKgvuL_zwm",
        "outputId": "b8f5dd75-b060-4f8e-ddcf-231e6654cfee"
      },
      "source": [
        "drive.mount('/content/drive')"
      ],
      "execution_count": 2,
      "outputs": [
        {
          "output_type": "stream",
          "text": [
            "Mounted at /content/drive\n"
          ],
          "name": "stdout"
        }
      ]
    },
    {
      "cell_type": "code",
      "metadata": {
        "colab": {
          "base_uri": "https://localhost:8080/",
          "height": 419
        },
        "id": "3JSW7n3l_3rF",
        "outputId": "fb87cd57-2595-4955-fb3b-4ff4cdbc3fc5"
      },
      "source": [
        "import pandas as pd\n",
        "df = pd.read_csv('/content/drive/MyDrive/DATA/missdata.csv')\n",
        "df"
      ],
      "execution_count": 3,
      "outputs": [
        {
          "output_type": "execute_result",
          "data": {
            "text/html": [
              "<div>\n",
              "<style scoped>\n",
              "    .dataframe tbody tr th:only-of-type {\n",
              "        vertical-align: middle;\n",
              "    }\n",
              "\n",
              "    .dataframe tbody tr th {\n",
              "        vertical-align: top;\n",
              "    }\n",
              "\n",
              "    .dataframe thead th {\n",
              "        text-align: right;\n",
              "    }\n",
              "</style>\n",
              "<table border=\"1\" class=\"dataframe\">\n",
              "  <thead>\n",
              "    <tr style=\"text-align: right;\">\n",
              "      <th></th>\n",
              "      <th>Date</th>\n",
              "      <th>pH</th>\n",
              "      <th>DO</th>\n",
              "      <th>TDS</th>\n",
              "      <th>Alkalinity</th>\n",
              "      <th>EC</th>\n",
              "      <th>Na</th>\n",
              "      <th>Ca</th>\n",
              "      <th>Mg</th>\n",
              "      <th>K</th>\n",
              "      <th>F</th>\n",
              "      <th>Cl</th>\n",
              "      <th>Nitrate</th>\n",
              "      <th>Sulphate</th>\n",
              "      <th>Phosphate</th>\n",
              "      <th>WPI</th>\n",
              "    </tr>\n",
              "  </thead>\n",
              "  <tbody>\n",
              "    <tr>\n",
              "      <th>0</th>\n",
              "      <td>01-Jan-14</td>\n",
              "      <td>8.14</td>\n",
              "      <td>8.7</td>\n",
              "      <td>84.0</td>\n",
              "      <td>52</td>\n",
              "      <td>147.8</td>\n",
              "      <td>4.48</td>\n",
              "      <td>44.0</td>\n",
              "      <td>20.0</td>\n",
              "      <td>1.17</td>\n",
              "      <td>0.285</td>\n",
              "      <td>7.80</td>\n",
              "      <td>0.758000</td>\n",
              "      <td>6.534660</td>\n",
              "      <td>0.06211</td>\n",
              "      <td>0.249528</td>\n",
              "    </tr>\n",
              "    <tr>\n",
              "      <th>1</th>\n",
              "      <td>02-Jan-14</td>\n",
              "      <td>7.70</td>\n",
              "      <td>8.8</td>\n",
              "      <td>110.0</td>\n",
              "      <td>76</td>\n",
              "      <td>188.0</td>\n",
              "      <td>8.61</td>\n",
              "      <td>44.0</td>\n",
              "      <td>36.0</td>\n",
              "      <td>3.46</td>\n",
              "      <td>0.401</td>\n",
              "      <td>14.80</td>\n",
              "      <td>0.196062</td>\n",
              "      <td>8.138620</td>\n",
              "      <td>0.00960</td>\n",
              "      <td>0.216400</td>\n",
              "    </tr>\n",
              "    <tr>\n",
              "      <th>2</th>\n",
              "      <td>03-Jan-14</td>\n",
              "      <td>7.60</td>\n",
              "      <td>7.5</td>\n",
              "      <td>75.0</td>\n",
              "      <td>44</td>\n",
              "      <td>128.0</td>\n",
              "      <td>8.11</td>\n",
              "      <td>28.0</td>\n",
              "      <td>20.0</td>\n",
              "      <td>2.80</td>\n",
              "      <td>0.379</td>\n",
              "      <td>14.80</td>\n",
              "      <td>0.298875</td>\n",
              "      <td>3.855625</td>\n",
              "      <td>0.01280</td>\n",
              "      <td>0.183814</td>\n",
              "    </tr>\n",
              "    <tr>\n",
              "      <th>3</th>\n",
              "      <td>04-Jan-14</td>\n",
              "      <td>NaN</td>\n",
              "      <td>9.1</td>\n",
              "      <td>76.0</td>\n",
              "      <td>56</td>\n",
              "      <td>127.0</td>\n",
              "      <td>NaN</td>\n",
              "      <td>44.0</td>\n",
              "      <td>18.0</td>\n",
              "      <td>1.65</td>\n",
              "      <td>0.396</td>\n",
              "      <td>9.60</td>\n",
              "      <td>0.299591</td>\n",
              "      <td>2.238750</td>\n",
              "      <td>0.01536</td>\n",
              "      <td>0.219282</td>\n",
              "    </tr>\n",
              "    <tr>\n",
              "      <th>4</th>\n",
              "      <td>05-Jan-14</td>\n",
              "      <td>NaN</td>\n",
              "      <td>7.3</td>\n",
              "      <td>84.0</td>\n",
              "      <td>52</td>\n",
              "      <td>140.0</td>\n",
              "      <td>NaN</td>\n",
              "      <td>28.0</td>\n",
              "      <td>20.0</td>\n",
              "      <td>1.61</td>\n",
              "      <td>0.265</td>\n",
              "      <td>8.30</td>\n",
              "      <td>0.106000</td>\n",
              "      <td>5.600000</td>\n",
              "      <td>0.01000</td>\n",
              "      <td>0.165831</td>\n",
              "    </tr>\n",
              "    <tr>\n",
              "      <th>...</th>\n",
              "      <td>...</td>\n",
              "      <td>...</td>\n",
              "      <td>...</td>\n",
              "      <td>...</td>\n",
              "      <td>...</td>\n",
              "      <td>...</td>\n",
              "      <td>...</td>\n",
              "      <td>...</td>\n",
              "      <td>...</td>\n",
              "      <td>...</td>\n",
              "      <td>...</td>\n",
              "      <td>...</td>\n",
              "      <td>...</td>\n",
              "      <td>...</td>\n",
              "      <td>...</td>\n",
              "      <td>...</td>\n",
              "    </tr>\n",
              "    <tr>\n",
              "      <th>482</th>\n",
              "      <td>28-Apr-15</td>\n",
              "      <td>7.60</td>\n",
              "      <td>5.6</td>\n",
              "      <td>NaN</td>\n",
              "      <td>8</td>\n",
              "      <td>370.0</td>\n",
              "      <td>16.14</td>\n",
              "      <td>92.0</td>\n",
              "      <td>24.0</td>\n",
              "      <td>7.60</td>\n",
              "      <td>2.270</td>\n",
              "      <td>23.04</td>\n",
              "      <td>1.352000</td>\n",
              "      <td>104.480000</td>\n",
              "      <td>0.01500</td>\n",
              "      <td>0.419630</td>\n",
              "    </tr>\n",
              "    <tr>\n",
              "      <th>483</th>\n",
              "      <td>29-Apr-15</td>\n",
              "      <td>7.30</td>\n",
              "      <td>5.6</td>\n",
              "      <td>NaN</td>\n",
              "      <td>96</td>\n",
              "      <td>434.0</td>\n",
              "      <td>20.56</td>\n",
              "      <td>96.0</td>\n",
              "      <td>32.0</td>\n",
              "      <td>9.89</td>\n",
              "      <td>1.550</td>\n",
              "      <td>30.86</td>\n",
              "      <td>7.074000</td>\n",
              "      <td>61.068000</td>\n",
              "      <td>0.03300</td>\n",
              "      <td>0.432996</td>\n",
              "    </tr>\n",
              "    <tr>\n",
              "      <th>484</th>\n",
              "      <td>30-Apr-15</td>\n",
              "      <td>5.10</td>\n",
              "      <td>5.8</td>\n",
              "      <td>290.0</td>\n",
              "      <td>12</td>\n",
              "      <td>487.0</td>\n",
              "      <td>37.35</td>\n",
              "      <td>60.0</td>\n",
              "      <td>44.0</td>\n",
              "      <td>14.80</td>\n",
              "      <td>0.159</td>\n",
              "      <td>60.13</td>\n",
              "      <td>9.256000</td>\n",
              "      <td>89.910000</td>\n",
              "      <td>0.16300</td>\n",
              "      <td>0.326811</td>\n",
              "    </tr>\n",
              "    <tr>\n",
              "      <th>485</th>\n",
              "      <td>01-May-15</td>\n",
              "      <td>7.40</td>\n",
              "      <td>6.4</td>\n",
              "      <td>NaN</td>\n",
              "      <td>72</td>\n",
              "      <td>385.0</td>\n",
              "      <td>20.06</td>\n",
              "      <td>70.0</td>\n",
              "      <td>42.0</td>\n",
              "      <td>10.35</td>\n",
              "      <td>1.360</td>\n",
              "      <td>32.92</td>\n",
              "      <td>7.110435</td>\n",
              "      <td>48.500000</td>\n",
              "      <td>0.21900</td>\n",
              "      <td>0.509970</td>\n",
              "    </tr>\n",
              "    <tr>\n",
              "      <th>486</th>\n",
              "      <td>02-May-15</td>\n",
              "      <td>7.60</td>\n",
              "      <td>6.9</td>\n",
              "      <td>NaN</td>\n",
              "      <td>68</td>\n",
              "      <td>410.8</td>\n",
              "      <td>17.41</td>\n",
              "      <td>82.0</td>\n",
              "      <td>50.0</td>\n",
              "      <td>9.92</td>\n",
              "      <td>1.310</td>\n",
              "      <td>34.89</td>\n",
              "      <td>6.385000</td>\n",
              "      <td>59.940000</td>\n",
              "      <td>0.07000</td>\n",
              "      <td>0.422551</td>\n",
              "    </tr>\n",
              "  </tbody>\n",
              "</table>\n",
              "<p>487 rows × 16 columns</p>\n",
              "</div>"
            ],
            "text/plain": [
              "          Date    pH   DO    TDS  ...   Nitrate    Sulphate  Phosphate       WPI\n",
              "0    01-Jan-14  8.14  8.7   84.0  ...  0.758000    6.534660    0.06211  0.249528\n",
              "1    02-Jan-14  7.70  8.8  110.0  ...  0.196062    8.138620    0.00960  0.216400\n",
              "2    03-Jan-14  7.60  7.5   75.0  ...  0.298875    3.855625    0.01280  0.183814\n",
              "3    04-Jan-14   NaN  9.1   76.0  ...  0.299591    2.238750    0.01536  0.219282\n",
              "4    05-Jan-14   NaN  7.3   84.0  ...  0.106000    5.600000    0.01000  0.165831\n",
              "..         ...   ...  ...    ...  ...       ...         ...        ...       ...\n",
              "482  28-Apr-15  7.60  5.6    NaN  ...  1.352000  104.480000    0.01500  0.419630\n",
              "483  29-Apr-15  7.30  5.6    NaN  ...  7.074000   61.068000    0.03300  0.432996\n",
              "484  30-Apr-15  5.10  5.8  290.0  ...  9.256000   89.910000    0.16300  0.326811\n",
              "485  01-May-15  7.40  6.4    NaN  ...  7.110435   48.500000    0.21900  0.509970\n",
              "486  02-May-15  7.60  6.9    NaN  ...  6.385000   59.940000    0.07000  0.422551\n",
              "\n",
              "[487 rows x 16 columns]"
            ]
          },
          "metadata": {
            "tags": []
          },
          "execution_count": 3
        }
      ]
    },
    {
      "cell_type": "code",
      "metadata": {
        "colab": {
          "base_uri": "https://localhost:8080/"
        },
        "id": "S4MjbuW8AIEK",
        "outputId": "91056cb6-0bd3-4fe3-b14f-63cb0c45722f"
      },
      "source": [
        "df.info()"
      ],
      "execution_count": 4,
      "outputs": [
        {
          "output_type": "stream",
          "text": [
            "<class 'pandas.core.frame.DataFrame'>\n",
            "RangeIndex: 487 entries, 0 to 486\n",
            "Data columns (total 16 columns):\n",
            " #   Column      Non-Null Count  Dtype  \n",
            "---  ------      --------------  -----  \n",
            " 0   Date        487 non-null    object \n",
            " 1   pH          485 non-null    float64\n",
            " 2   DO          486 non-null    float64\n",
            " 3   TDS         383 non-null    float64\n",
            " 4   Alkalinity  487 non-null    int64  \n",
            " 5   EC          483 non-null    float64\n",
            " 6   Na          485 non-null    float64\n",
            " 7   Ca          445 non-null    float64\n",
            " 8   Mg          448 non-null    float64\n",
            " 9   K           433 non-null    float64\n",
            " 10  F           422 non-null    float64\n",
            " 11  Cl          466 non-null    float64\n",
            " 12  Nitrate     485 non-null    float64\n",
            " 13  Sulphate    460 non-null    float64\n",
            " 14  Phosphate   395 non-null    float64\n",
            " 15  WPI         400 non-null    float64\n",
            "dtypes: float64(14), int64(1), object(1)\n",
            "memory usage: 61.0+ KB\n"
          ],
          "name": "stdout"
        }
      ]
    },
    {
      "cell_type": "code",
      "metadata": {
        "colab": {
          "base_uri": "https://localhost:8080/",
          "height": 419
        },
        "id": "Isd1KHIiAOpF",
        "outputId": "6b73f6a7-cce4-4598-ad35-30f9dd004391"
      },
      "source": [
        "df.isnull()"
      ],
      "execution_count": 5,
      "outputs": [
        {
          "output_type": "execute_result",
          "data": {
            "text/html": [
              "<div>\n",
              "<style scoped>\n",
              "    .dataframe tbody tr th:only-of-type {\n",
              "        vertical-align: middle;\n",
              "    }\n",
              "\n",
              "    .dataframe tbody tr th {\n",
              "        vertical-align: top;\n",
              "    }\n",
              "\n",
              "    .dataframe thead th {\n",
              "        text-align: right;\n",
              "    }\n",
              "</style>\n",
              "<table border=\"1\" class=\"dataframe\">\n",
              "  <thead>\n",
              "    <tr style=\"text-align: right;\">\n",
              "      <th></th>\n",
              "      <th>Date</th>\n",
              "      <th>pH</th>\n",
              "      <th>DO</th>\n",
              "      <th>TDS</th>\n",
              "      <th>Alkalinity</th>\n",
              "      <th>EC</th>\n",
              "      <th>Na</th>\n",
              "      <th>Ca</th>\n",
              "      <th>Mg</th>\n",
              "      <th>K</th>\n",
              "      <th>F</th>\n",
              "      <th>Cl</th>\n",
              "      <th>Nitrate</th>\n",
              "      <th>Sulphate</th>\n",
              "      <th>Phosphate</th>\n",
              "      <th>WPI</th>\n",
              "    </tr>\n",
              "  </thead>\n",
              "  <tbody>\n",
              "    <tr>\n",
              "      <th>0</th>\n",
              "      <td>False</td>\n",
              "      <td>False</td>\n",
              "      <td>False</td>\n",
              "      <td>False</td>\n",
              "      <td>False</td>\n",
              "      <td>False</td>\n",
              "      <td>False</td>\n",
              "      <td>False</td>\n",
              "      <td>False</td>\n",
              "      <td>False</td>\n",
              "      <td>False</td>\n",
              "      <td>False</td>\n",
              "      <td>False</td>\n",
              "      <td>False</td>\n",
              "      <td>False</td>\n",
              "      <td>False</td>\n",
              "    </tr>\n",
              "    <tr>\n",
              "      <th>1</th>\n",
              "      <td>False</td>\n",
              "      <td>False</td>\n",
              "      <td>False</td>\n",
              "      <td>False</td>\n",
              "      <td>False</td>\n",
              "      <td>False</td>\n",
              "      <td>False</td>\n",
              "      <td>False</td>\n",
              "      <td>False</td>\n",
              "      <td>False</td>\n",
              "      <td>False</td>\n",
              "      <td>False</td>\n",
              "      <td>False</td>\n",
              "      <td>False</td>\n",
              "      <td>False</td>\n",
              "      <td>False</td>\n",
              "    </tr>\n",
              "    <tr>\n",
              "      <th>2</th>\n",
              "      <td>False</td>\n",
              "      <td>False</td>\n",
              "      <td>False</td>\n",
              "      <td>False</td>\n",
              "      <td>False</td>\n",
              "      <td>False</td>\n",
              "      <td>False</td>\n",
              "      <td>False</td>\n",
              "      <td>False</td>\n",
              "      <td>False</td>\n",
              "      <td>False</td>\n",
              "      <td>False</td>\n",
              "      <td>False</td>\n",
              "      <td>False</td>\n",
              "      <td>False</td>\n",
              "      <td>False</td>\n",
              "    </tr>\n",
              "    <tr>\n",
              "      <th>3</th>\n",
              "      <td>False</td>\n",
              "      <td>True</td>\n",
              "      <td>False</td>\n",
              "      <td>False</td>\n",
              "      <td>False</td>\n",
              "      <td>False</td>\n",
              "      <td>True</td>\n",
              "      <td>False</td>\n",
              "      <td>False</td>\n",
              "      <td>False</td>\n",
              "      <td>False</td>\n",
              "      <td>False</td>\n",
              "      <td>False</td>\n",
              "      <td>False</td>\n",
              "      <td>False</td>\n",
              "      <td>False</td>\n",
              "    </tr>\n",
              "    <tr>\n",
              "      <th>4</th>\n",
              "      <td>False</td>\n",
              "      <td>True</td>\n",
              "      <td>False</td>\n",
              "      <td>False</td>\n",
              "      <td>False</td>\n",
              "      <td>False</td>\n",
              "      <td>True</td>\n",
              "      <td>False</td>\n",
              "      <td>False</td>\n",
              "      <td>False</td>\n",
              "      <td>False</td>\n",
              "      <td>False</td>\n",
              "      <td>False</td>\n",
              "      <td>False</td>\n",
              "      <td>False</td>\n",
              "      <td>False</td>\n",
              "    </tr>\n",
              "    <tr>\n",
              "      <th>...</th>\n",
              "      <td>...</td>\n",
              "      <td>...</td>\n",
              "      <td>...</td>\n",
              "      <td>...</td>\n",
              "      <td>...</td>\n",
              "      <td>...</td>\n",
              "      <td>...</td>\n",
              "      <td>...</td>\n",
              "      <td>...</td>\n",
              "      <td>...</td>\n",
              "      <td>...</td>\n",
              "      <td>...</td>\n",
              "      <td>...</td>\n",
              "      <td>...</td>\n",
              "      <td>...</td>\n",
              "      <td>...</td>\n",
              "    </tr>\n",
              "    <tr>\n",
              "      <th>482</th>\n",
              "      <td>False</td>\n",
              "      <td>False</td>\n",
              "      <td>False</td>\n",
              "      <td>True</td>\n",
              "      <td>False</td>\n",
              "      <td>False</td>\n",
              "      <td>False</td>\n",
              "      <td>False</td>\n",
              "      <td>False</td>\n",
              "      <td>False</td>\n",
              "      <td>False</td>\n",
              "      <td>False</td>\n",
              "      <td>False</td>\n",
              "      <td>False</td>\n",
              "      <td>False</td>\n",
              "      <td>False</td>\n",
              "    </tr>\n",
              "    <tr>\n",
              "      <th>483</th>\n",
              "      <td>False</td>\n",
              "      <td>False</td>\n",
              "      <td>False</td>\n",
              "      <td>True</td>\n",
              "      <td>False</td>\n",
              "      <td>False</td>\n",
              "      <td>False</td>\n",
              "      <td>False</td>\n",
              "      <td>False</td>\n",
              "      <td>False</td>\n",
              "      <td>False</td>\n",
              "      <td>False</td>\n",
              "      <td>False</td>\n",
              "      <td>False</td>\n",
              "      <td>False</td>\n",
              "      <td>False</td>\n",
              "    </tr>\n",
              "    <tr>\n",
              "      <th>484</th>\n",
              "      <td>False</td>\n",
              "      <td>False</td>\n",
              "      <td>False</td>\n",
              "      <td>False</td>\n",
              "      <td>False</td>\n",
              "      <td>False</td>\n",
              "      <td>False</td>\n",
              "      <td>False</td>\n",
              "      <td>False</td>\n",
              "      <td>False</td>\n",
              "      <td>False</td>\n",
              "      <td>False</td>\n",
              "      <td>False</td>\n",
              "      <td>False</td>\n",
              "      <td>False</td>\n",
              "      <td>False</td>\n",
              "    </tr>\n",
              "    <tr>\n",
              "      <th>485</th>\n",
              "      <td>False</td>\n",
              "      <td>False</td>\n",
              "      <td>False</td>\n",
              "      <td>True</td>\n",
              "      <td>False</td>\n",
              "      <td>False</td>\n",
              "      <td>False</td>\n",
              "      <td>False</td>\n",
              "      <td>False</td>\n",
              "      <td>False</td>\n",
              "      <td>False</td>\n",
              "      <td>False</td>\n",
              "      <td>False</td>\n",
              "      <td>False</td>\n",
              "      <td>False</td>\n",
              "      <td>False</td>\n",
              "    </tr>\n",
              "    <tr>\n",
              "      <th>486</th>\n",
              "      <td>False</td>\n",
              "      <td>False</td>\n",
              "      <td>False</td>\n",
              "      <td>True</td>\n",
              "      <td>False</td>\n",
              "      <td>False</td>\n",
              "      <td>False</td>\n",
              "      <td>False</td>\n",
              "      <td>False</td>\n",
              "      <td>False</td>\n",
              "      <td>False</td>\n",
              "      <td>False</td>\n",
              "      <td>False</td>\n",
              "      <td>False</td>\n",
              "      <td>False</td>\n",
              "      <td>False</td>\n",
              "    </tr>\n",
              "  </tbody>\n",
              "</table>\n",
              "<p>487 rows × 16 columns</p>\n",
              "</div>"
            ],
            "text/plain": [
              "      Date     pH     DO    TDS  ...  Nitrate  Sulphate  Phosphate    WPI\n",
              "0    False  False  False  False  ...    False     False      False  False\n",
              "1    False  False  False  False  ...    False     False      False  False\n",
              "2    False  False  False  False  ...    False     False      False  False\n",
              "3    False   True  False  False  ...    False     False      False  False\n",
              "4    False   True  False  False  ...    False     False      False  False\n",
              "..     ...    ...    ...    ...  ...      ...       ...        ...    ...\n",
              "482  False  False  False   True  ...    False     False      False  False\n",
              "483  False  False  False   True  ...    False     False      False  False\n",
              "484  False  False  False  False  ...    False     False      False  False\n",
              "485  False  False  False   True  ...    False     False      False  False\n",
              "486  False  False  False   True  ...    False     False      False  False\n",
              "\n",
              "[487 rows x 16 columns]"
            ]
          },
          "metadata": {
            "tags": []
          },
          "execution_count": 5
        }
      ]
    },
    {
      "cell_type": "code",
      "metadata": {
        "colab": {
          "base_uri": "https://localhost:8080/"
        },
        "id": "K_9XTYFKAWyk",
        "outputId": "d5839a58-7bc6-403b-a179-2d8e64123c09"
      },
      "source": [
        "print(df.describe())"
      ],
      "execution_count": 6,
      "outputs": [
        {
          "output_type": "stream",
          "text": [
            "               pH          DO         TDS  ...    Sulphate   Phosphate         WPI\n",
            "count  485.000000  486.000000  383.000000  ...  460.000000  395.000000  400.000000\n",
            "mean     7.809499    7.445144  115.851958  ...   14.195187    0.094645    0.296527\n",
            "std      0.411056    1.105480   46.954561  ...   14.264553    0.167975    0.141283\n",
            "min      5.100000    4.200000   56.000000  ...    0.792000    0.000000    0.160199\n",
            "25%      7.570000    6.712500   84.000000  ...    5.347729    0.024500    0.221366\n",
            "50%      7.860000    7.400000  102.000000  ...    9.109687    0.047000    0.253162\n",
            "75%      8.100000    8.100000  128.500000  ...   17.160000    0.093252    0.312652\n",
            "max      8.570000   13.500000  294.000000  ...  104.480000    1.765000    1.604375\n",
            "\n",
            "[8 rows x 15 columns]\n"
          ],
          "name": "stdout"
        }
      ]
    },
    {
      "cell_type": "code",
      "metadata": {
        "colab": {
          "base_uri": "https://localhost:8080/"
        },
        "id": "BB4-HOvwBkSa",
        "outputId": "15702a5d-a09c-4025-fec0-f8c323a78fed"
      },
      "source": [
        "print(df.isnull().sum())"
      ],
      "execution_count": 7,
      "outputs": [
        {
          "output_type": "stream",
          "text": [
            "Date            0\n",
            "pH              2\n",
            "DO              1\n",
            "TDS           104\n",
            "Alkalinity      0\n",
            "EC              4\n",
            "Na              2\n",
            "Ca             42\n",
            "Mg             39\n",
            "K              54\n",
            "F              65\n",
            "Cl             21\n",
            "Nitrate         2\n",
            "Sulphate       27\n",
            "Phosphate      92\n",
            "WPI            87\n",
            "dtype: int64\n"
          ],
          "name": "stdout"
        }
      ]
    },
    {
      "cell_type": "code",
      "metadata": {
        "colab": {
          "base_uri": "https://localhost:8080/"
        },
        "id": "jZqkyF2jBzib",
        "outputId": "2b3fcd34-55be-4b7e-c9d5-fa7971cb4545"
      },
      "source": [
        "print(df.head())"
      ],
      "execution_count": 8,
      "outputs": [
        {
          "output_type": "stream",
          "text": [
            "        Date    pH   DO    TDS  ...   Nitrate  Sulphate  Phosphate       WPI\n",
            "0  01-Jan-14  8.14  8.7   84.0  ...  0.758000  6.534660    0.06211  0.249528\n",
            "1  02-Jan-14  7.70  8.8  110.0  ...  0.196062  8.138620    0.00960  0.216400\n",
            "2  03-Jan-14  7.60  7.5   75.0  ...  0.298875  3.855625    0.01280  0.183814\n",
            "3  04-Jan-14   NaN  9.1   76.0  ...  0.299591  2.238750    0.01536  0.219282\n",
            "4  05-Jan-14   NaN  7.3   84.0  ...  0.106000  5.600000    0.01000  0.165831\n",
            "\n",
            "[5 rows x 16 columns]\n"
          ],
          "name": "stdout"
        }
      ]
    },
    {
      "cell_type": "code",
      "metadata": {
        "colab": {
          "base_uri": "https://localhost:8080/"
        },
        "id": "OlGK43P3C2ym",
        "outputId": "8480f6df-97f7-44c1-e99f-57e906107d90"
      },
      "source": [
        "print(df['TDS'].head(100))"
      ],
      "execution_count": 9,
      "outputs": [
        {
          "output_type": "stream",
          "text": [
            "0      84.0\n",
            "1     110.0\n",
            "2      75.0\n",
            "3      76.0\n",
            "4      84.0\n",
            "      ...  \n",
            "95     88.0\n",
            "96     88.0\n",
            "97     98.0\n",
            "98    108.0\n",
            "99     92.0\n",
            "Name: TDS, Length: 100, dtype: float64\n"
          ],
          "name": "stdout"
        }
      ]
    },
    {
      "cell_type": "code",
      "metadata": {
        "colab": {
          "base_uri": "https://localhost:8080/"
        },
        "id": "F-7ghHDqEKPP",
        "outputId": "c4e10d1c-380e-4d40-82f4-0738b6e416eb"
      },
      "source": [
        "# a list with all missing value formats\n",
        "missing_value_formats = [\"n.a.\",\"?\",\"NA\",\"n/a\", \"na\", \"--\"]\n",
        "df = pd.read_csv(\"/content/drive/MyDrive/DATA/missdata.csv\", na_values = missing_value_formats)\n",
        "\n",
        "\n",
        "print(df['pH'].head(10))"
      ],
      "execution_count": 10,
      "outputs": [
        {
          "output_type": "stream",
          "text": [
            "0    8.14\n",
            "1    7.70\n",
            "2    7.60\n",
            "3     NaN\n",
            "4     NaN\n",
            "5    8.40\n",
            "6    7.40\n",
            "7    7.90\n",
            "8    8.00\n",
            "9    7.40\n",
            "Name: pH, dtype: float64\n"
          ],
          "name": "stdout"
        }
      ]
    },
    {
      "cell_type": "code",
      "metadata": {
        "colab": {
          "base_uri": "https://localhost:8080/"
        },
        "id": "FHjCgJQLEh2f",
        "outputId": "bb3562c8-c0f2-473d-ec54-c9543170265f"
      },
      "source": [
        "import pandas as pd\n",
        "\n",
        "missing_value_formats = [\"n.a.\",\"?\",\"NA\",\"n/a\", \"na\", \"--\"]\n",
        "df = pd.read_csv(\"/content/drive/MyDrive/DATA/missdata.csv\", na_values = missing_value_formats)\n",
        "\n",
        "def make_int(i):\n",
        "    try:\n",
        "        return int(i)\n",
        "    except:\n",
        "        return pd.np.nan\n",
        "\n",
        "# apply make_int function to the entire series using map\n",
        "df['pH'] = df['pH'].map(make_int)\n",
        "print(df['pH'].head())"
      ],
      "execution_count": 11,
      "outputs": [
        {
          "output_type": "stream",
          "text": [
            "0    8.0\n",
            "1    7.0\n",
            "2    7.0\n",
            "3    NaN\n",
            "4    NaN\n",
            "Name: pH, dtype: float64\n"
          ],
          "name": "stdout"
        },
        {
          "output_type": "stream",
          "text": [
            "/usr/local/lib/python3.7/dist-packages/ipykernel_launcher.py:10: FutureWarning: The pandas.np module is deprecated and will be removed from pandas in a future version. Import numpy directly instead\n",
            "  # Remove the CWD from sys.path while we load stuff.\n"
          ],
          "name": "stderr"
        }
      ]
    },
    {
      "cell_type": "code",
      "metadata": {
        "colab": {
          "base_uri": "https://localhost:8080/"
        },
        "id": "V5tzLmN6E4UV",
        "outputId": "ae22c65a-8bbd-428d-e5d4-4da8e5bf3d78"
      },
      "source": [
        "# NaN values are marked True\n",
        "print(df['pH'].isnull().head(10))\n",
        "# NaN values are marked False \n",
        "print(df['pH'].notnull().head(10))"
      ],
      "execution_count": 12,
      "outputs": [
        {
          "output_type": "stream",
          "text": [
            "0    False\n",
            "1    False\n",
            "2    False\n",
            "3     True\n",
            "4     True\n",
            "5    False\n",
            "6    False\n",
            "7    False\n",
            "8    False\n",
            "9    False\n",
            "Name: pH, dtype: bool\n",
            "0     True\n",
            "1     True\n",
            "2     True\n",
            "3    False\n",
            "4    False\n",
            "5     True\n",
            "6     True\n",
            "7     True\n",
            "8     True\n",
            "9     True\n",
            "Name: pH, dtype: bool\n"
          ],
          "name": "stdout"
        }
      ]
    },
    {
      "cell_type": "code",
      "metadata": {
        "colab": {
          "base_uri": "https://localhost:8080/"
        },
        "id": "8zffSXeNFJ4I",
        "outputId": "a3a2ecdb-c307-4315-f9b8-87e2218331fb"
      },
      "source": [
        "# notnull will return False for all NaN values\n",
        "null_filter = df['pH'].notnull()\n",
        "# prints only those rows where null_filter is True\n",
        "print(df[null_filter])"
      ],
      "execution_count": 13,
      "outputs": [
        {
          "output_type": "stream",
          "text": [
            "          Date   pH   DO    TDS  ...   Nitrate    Sulphate  Phosphate       WPI\n",
            "0    01-Jan-14  8.0  8.7   84.0  ...  0.758000    6.534660    0.06211  0.249528\n",
            "1    02-Jan-14  7.0  8.8  110.0  ...  0.196062    8.138620    0.00960  0.216400\n",
            "2    03-Jan-14  7.0  7.5   75.0  ...  0.298875    3.855625    0.01280  0.183814\n",
            "5    06-Jan-14  8.0  7.4  103.0  ...  0.506000   12.810000    0.10600  0.308627\n",
            "6    07-Jan-14  7.0  NaN    NaN  ...  0.314000   20.521000    0.24300  0.406891\n",
            "..         ...  ...  ...    ...  ...       ...         ...        ...       ...\n",
            "482  28-Apr-15  7.0  5.6    NaN  ...  1.352000  104.480000    0.01500  0.419630\n",
            "483  29-Apr-15  7.0  5.6    NaN  ...  7.074000   61.068000    0.03300  0.432996\n",
            "484  30-Apr-15  5.0  5.8  290.0  ...  9.256000   89.910000    0.16300  0.326811\n",
            "485  01-May-15  7.0  6.4    NaN  ...  7.110435   48.500000    0.21900  0.509970\n",
            "486  02-May-15  7.0  6.9    NaN  ...  6.385000   59.940000    0.07000  0.422551\n",
            "\n",
            "[485 rows x 16 columns]\n"
          ],
          "name": "stdout"
        }
      ]
    },
    {
      "cell_type": "code",
      "metadata": {
        "colab": {
          "base_uri": "https://localhost:8080/"
        },
        "id": "Dsk-VbePFd4k",
        "outputId": "9b9d26ef-f001-4395-f6f5-08f7223258c1"
      },
      "source": [
        "print(df.isnull().values.any())\n"
      ],
      "execution_count": 14,
      "outputs": [
        {
          "output_type": "stream",
          "text": [
            "True\n"
          ],
          "name": "stdout"
        }
      ]
    },
    {
      "cell_type": "code",
      "metadata": {
        "colab": {
          "base_uri": "https://localhost:8080/"
        },
        "id": "4N85p1dxFkO6",
        "outputId": "869e857b-fc2d-4283-a6c2-02f8c68b5621"
      },
      "source": [
        "print(df.isnull().sum())"
      ],
      "execution_count": 15,
      "outputs": [
        {
          "output_type": "stream",
          "text": [
            "Date            0\n",
            "pH              2\n",
            "DO              1\n",
            "TDS           104\n",
            "Alkalinity      0\n",
            "EC              4\n",
            "Na              2\n",
            "Ca             42\n",
            "Mg             39\n",
            "K              54\n",
            "F              65\n",
            "Cl             21\n",
            "Nitrate         2\n",
            "Sulphate       27\n",
            "Phosphate      92\n",
            "WPI            87\n",
            "dtype: int64\n"
          ],
          "name": "stdout"
        }
      ]
    },
    {
      "cell_type": "markdown",
      "metadata": {
        "id": "UBFPJp2uGBkl"
      },
      "source": [
        "**Imputing Missing Values in our Dataset**"
      ]
    },
    {
      "cell_type": "markdown",
      "metadata": {
        "id": "RVaV-ygNGZKP"
      },
      "source": [
        "**replace missing values with 0**"
      ]
    },
    {
      "cell_type": "code",
      "metadata": {
        "colab": {
          "base_uri": "https://localhost:8080/"
        },
        "id": "CNt2dPGPFqGy",
        "outputId": "1d93a609-8679-45d6-9145-9d50b5215b9d"
      },
      "source": [
        "df['pH'].fillna(0, inplace=True)\n",
        "print(df['pH'].head(10))"
      ],
      "execution_count": 16,
      "outputs": [
        {
          "output_type": "stream",
          "text": [
            "0    8.0\n",
            "1    7.0\n",
            "2    7.0\n",
            "3    0.0\n",
            "4    0.0\n",
            "5    8.0\n",
            "6    7.0\n",
            "7    7.0\n",
            "8    8.0\n",
            "9    7.0\n",
            "Name: pH, dtype: float64\n"
          ],
          "name": "stdout"
        }
      ]
    },
    {
      "cell_type": "code",
      "metadata": {
        "colab": {
          "base_uri": "https://localhost:8080/"
        },
        "id": "CSKJPrgiGQfG",
        "outputId": "6f4ac887-8364-4093-9601-eb75407c2b8b"
      },
      "source": [
        "df.fillna(0, inplace=True)\n",
        "print(df.head(10))"
      ],
      "execution_count": 17,
      "outputs": [
        {
          "output_type": "stream",
          "text": [
            "        Date   pH   DO    TDS  ...   Nitrate   Sulphate  Phosphate       WPI\n",
            "0  01-Jan-14  8.0  8.7   84.0  ...  0.758000   6.534660    0.06211  0.249528\n",
            "1  02-Jan-14  7.0  8.8  110.0  ...  0.196062   8.138620    0.00960  0.216400\n",
            "2  03-Jan-14  7.0  7.5   75.0  ...  0.298875   3.855625    0.01280  0.183814\n",
            "3  04-Jan-14  0.0  9.1   76.0  ...  0.299591   2.238750    0.01536  0.219282\n",
            "4  05-Jan-14  0.0  7.3   84.0  ...  0.106000   5.600000    0.01000  0.165831\n",
            "5  06-Jan-14  8.0  7.4  103.0  ...  0.506000  12.810000    0.10600  0.308627\n",
            "6  07-Jan-14  7.0  0.0    0.0  ...  0.314000  20.521000    0.24300  0.406891\n",
            "7  08-Jan-14  7.0  6.8   94.0  ...  1.423000   8.830000    0.04500  0.291804\n",
            "8  09-Jan-14  8.0  8.0  106.0  ...  0.157806   7.400000    0.01400  0.219930\n",
            "9  10-Jan-14  7.0  5.9  117.0  ...  0.059000   7.711000    0.00000  0.237340\n",
            "\n",
            "[10 rows x 16 columns]\n"
          ],
          "name": "stdout"
        }
      ]
    },
    {
      "cell_type": "markdown",
      "metadata": {
        "id": "9wveKAIhGjsu"
      },
      "source": [
        "**Replacing NaNs with the value from the previous row or the next row**"
      ]
    },
    {
      "cell_type": "code",
      "metadata": {
        "colab": {
          "base_uri": "https://localhost:8080/"
        },
        "id": "Ku5oMZG7I6Ns",
        "outputId": "159282c0-aeec-4009-863c-afdbd8a144d6"
      },
      "source": [
        "import numpy as np\n",
        "df = df.replace(0, np.nan)\n",
        "print(df.head(10))"
      ],
      "execution_count": 18,
      "outputs": [
        {
          "output_type": "stream",
          "text": [
            "        Date   pH   DO    TDS  ...   Nitrate   Sulphate  Phosphate       WPI\n",
            "0  01-Jan-14  8.0  8.7   84.0  ...  0.758000   6.534660    0.06211  0.249528\n",
            "1  02-Jan-14  7.0  8.8  110.0  ...  0.196062   8.138620    0.00960  0.216400\n",
            "2  03-Jan-14  7.0  7.5   75.0  ...  0.298875   3.855625    0.01280  0.183814\n",
            "3  04-Jan-14  NaN  9.1   76.0  ...  0.299591   2.238750    0.01536  0.219282\n",
            "4  05-Jan-14  NaN  7.3   84.0  ...  0.106000   5.600000    0.01000  0.165831\n",
            "5  06-Jan-14  8.0  7.4  103.0  ...  0.506000  12.810000    0.10600  0.308627\n",
            "6  07-Jan-14  7.0  NaN    NaN  ...  0.314000  20.521000    0.24300  0.406891\n",
            "7  08-Jan-14  7.0  6.8   94.0  ...  1.423000   8.830000    0.04500  0.291804\n",
            "8  09-Jan-14  8.0  8.0  106.0  ...  0.157806   7.400000    0.01400  0.219930\n",
            "9  10-Jan-14  7.0  5.9  117.0  ...  0.059000   7.711000        NaN  0.237340\n",
            "\n",
            "[10 rows x 16 columns]\n"
          ],
          "name": "stdout"
        }
      ]
    },
    {
      "cell_type": "code",
      "metadata": {
        "colab": {
          "base_uri": "https://localhost:8080/"
        },
        "id": "hCMmyY4EGXfl",
        "outputId": "bc3df8f4-3f6a-4477-ff38-5206fc52cc21"
      },
      "source": [
        "df['pH'].fillna(method='pad', inplace=True)\n",
        "print(df['pH'].head(10))"
      ],
      "execution_count": 19,
      "outputs": [
        {
          "output_type": "stream",
          "text": [
            "0    8.0\n",
            "1    7.0\n",
            "2    7.0\n",
            "3    7.0\n",
            "4    7.0\n",
            "5    8.0\n",
            "6    7.0\n",
            "7    7.0\n",
            "8    8.0\n",
            "9    7.0\n",
            "Name: pH, dtype: float64\n"
          ],
          "name": "stdout"
        }
      ]
    },
    {
      "cell_type": "code",
      "metadata": {
        "colab": {
          "base_uri": "https://localhost:8080/"
        },
        "id": "y4nVk35AGvn_",
        "outputId": "598ae82f-42de-4070-f661-1d799079baa8"
      },
      "source": [
        "df['pH'].fillna(method='bfill', inplace=True)\n",
        "print(df['pH'].head(10))"
      ],
      "execution_count": 20,
      "outputs": [
        {
          "output_type": "stream",
          "text": [
            "0    8.0\n",
            "1    7.0\n",
            "2    7.0\n",
            "3    7.0\n",
            "4    7.0\n",
            "5    8.0\n",
            "6    7.0\n",
            "7    7.0\n",
            "8    8.0\n",
            "9    7.0\n",
            "Name: pH, dtype: float64\n"
          ],
          "name": "stdout"
        }
      ]
    },
    {
      "cell_type": "code",
      "metadata": {
        "colab": {
          "base_uri": "https://localhost:8080/"
        },
        "id": "hmyVuVC6G4T8",
        "outputId": "b225e00f-66a6-4368-f65f-7217a2f09f1d"
      },
      "source": [
        "df.fillna(method='pad', inplace=True)\n",
        "print(df.head(10))"
      ],
      "execution_count": 21,
      "outputs": [
        {
          "output_type": "stream",
          "text": [
            "        Date   pH   DO    TDS  ...   Nitrate   Sulphate  Phosphate       WPI\n",
            "0  01-Jan-14  8.0  8.7   84.0  ...  0.758000   6.534660    0.06211  0.249528\n",
            "1  02-Jan-14  7.0  8.8  110.0  ...  0.196062   8.138620    0.00960  0.216400\n",
            "2  03-Jan-14  7.0  7.5   75.0  ...  0.298875   3.855625    0.01280  0.183814\n",
            "3  04-Jan-14  7.0  9.1   76.0  ...  0.299591   2.238750    0.01536  0.219282\n",
            "4  05-Jan-14  7.0  7.3   84.0  ...  0.106000   5.600000    0.01000  0.165831\n",
            "5  06-Jan-14  8.0  7.4  103.0  ...  0.506000  12.810000    0.10600  0.308627\n",
            "6  07-Jan-14  7.0  7.4  103.0  ...  0.314000  20.521000    0.24300  0.406891\n",
            "7  08-Jan-14  7.0  6.8   94.0  ...  1.423000   8.830000    0.04500  0.291804\n",
            "8  09-Jan-14  8.0  8.0  106.0  ...  0.157806   7.400000    0.01400  0.219930\n",
            "9  10-Jan-14  7.0  5.9  117.0  ...  0.059000   7.711000    0.01400  0.237340\n",
            "\n",
            "[10 rows x 16 columns]\n"
          ],
          "name": "stdout"
        }
      ]
    },
    {
      "cell_type": "code",
      "metadata": {
        "colab": {
          "base_uri": "https://localhost:8080/"
        },
        "id": "vpjnYyyDHAjO",
        "outputId": "73d48c1c-9b1d-4cb7-8db4-cb9ea68d3c14"
      },
      "source": [
        "df.fillna(method='bfill', inplace=True)\n",
        "print(df.head(10))"
      ],
      "execution_count": 22,
      "outputs": [
        {
          "output_type": "stream",
          "text": [
            "        Date   pH   DO    TDS  ...   Nitrate   Sulphate  Phosphate       WPI\n",
            "0  01-Jan-14  8.0  8.7   84.0  ...  0.758000   6.534660    0.06211  0.249528\n",
            "1  02-Jan-14  7.0  8.8  110.0  ...  0.196062   8.138620    0.00960  0.216400\n",
            "2  03-Jan-14  7.0  7.5   75.0  ...  0.298875   3.855625    0.01280  0.183814\n",
            "3  04-Jan-14  7.0  9.1   76.0  ...  0.299591   2.238750    0.01536  0.219282\n",
            "4  05-Jan-14  7.0  7.3   84.0  ...  0.106000   5.600000    0.01000  0.165831\n",
            "5  06-Jan-14  8.0  7.4  103.0  ...  0.506000  12.810000    0.10600  0.308627\n",
            "6  07-Jan-14  7.0  7.4  103.0  ...  0.314000  20.521000    0.24300  0.406891\n",
            "7  08-Jan-14  7.0  6.8   94.0  ...  1.423000   8.830000    0.04500  0.291804\n",
            "8  09-Jan-14  8.0  8.0  106.0  ...  0.157806   7.400000    0.01400  0.219930\n",
            "9  10-Jan-14  7.0  5.9  117.0  ...  0.059000   7.711000    0.01400  0.237340\n",
            "\n",
            "[10 rows x 16 columns]\n"
          ],
          "name": "stdout"
        }
      ]
    },
    {
      "cell_type": "markdown",
      "metadata": {
        "id": "gS2uRTSeHQO3"
      },
      "source": [
        "**Replacing NaNs using Median/Mean of the column**"
      ]
    },
    {
      "cell_type": "code",
      "metadata": {
        "colab": {
          "base_uri": "https://localhost:8080/"
        },
        "id": "1O1eQTQKHLoV",
        "outputId": "14fad706-214f-4fe7-d365-dca179be1e3c"
      },
      "source": [
        "# using median\n",
        "df['pH'].fillna(df['pH'].median(), inplace=True)\n",
        "print(df['pH'].head(10))"
      ],
      "execution_count": 23,
      "outputs": [
        {
          "output_type": "stream",
          "text": [
            "0    8.0\n",
            "1    7.0\n",
            "2    7.0\n",
            "3    7.0\n",
            "4    7.0\n",
            "5    8.0\n",
            "6    7.0\n",
            "7    7.0\n",
            "8    8.0\n",
            "9    7.0\n",
            "Name: pH, dtype: float64\n"
          ],
          "name": "stdout"
        }
      ]
    },
    {
      "cell_type": "code",
      "metadata": {
        "colab": {
          "base_uri": "https://localhost:8080/"
        },
        "id": "1jiMgCwSHazz",
        "outputId": "c2292bb8-f71f-4bb4-b325-4a5cce84ddb9"
      },
      "source": [
        "#using mean\n",
        "df['pH'].fillna(int(df['pH'].mean()), inplace=True)\n",
        "print(df['pH'].head(10))"
      ],
      "execution_count": 24,
      "outputs": [
        {
          "output_type": "stream",
          "text": [
            "0    8.0\n",
            "1    7.0\n",
            "2    7.0\n",
            "3    7.0\n",
            "4    7.0\n",
            "5    8.0\n",
            "6    7.0\n",
            "7    7.0\n",
            "8    8.0\n",
            "9    7.0\n",
            "Name: pH, dtype: float64\n"
          ],
          "name": "stdout"
        }
      ]
    },
    {
      "cell_type": "code",
      "metadata": {
        "colab": {
          "base_uri": "https://localhost:8080/"
        },
        "id": "bpIoR3h_IOk5",
        "outputId": "54de57d2-4929-4f02-fbd3-d7d03f7c93db"
      },
      "source": [
        "df.isnull().values.any()"
      ],
      "execution_count": 25,
      "outputs": [
        {
          "output_type": "execute_result",
          "data": {
            "text/plain": [
              "False"
            ]
          },
          "metadata": {
            "tags": []
          },
          "execution_count": 25
        }
      ]
    },
    {
      "cell_type": "code",
      "metadata": {
        "colab": {
          "base_uri": "https://localhost:8080/"
        },
        "id": "ZFbz2C2GIfKK",
        "outputId": "a09f79e9-b3c0-4acf-dcd0-edcfb446d900"
      },
      "source": [
        "df.isnull().sum().sum()"
      ],
      "execution_count": 26,
      "outputs": [
        {
          "output_type": "execute_result",
          "data": {
            "text/plain": [
              "0"
            ]
          },
          "metadata": {
            "tags": []
          },
          "execution_count": 26
        }
      ]
    },
    {
      "cell_type": "code",
      "metadata": {
        "colab": {
          "base_uri": "https://localhost:8080/"
        },
        "id": "L7QngcTZKMUB",
        "outputId": "92a6b2e9-13a8-4de2-dd20-fe22d4591b94"
      },
      "source": [
        "# using median\n",
        "df.fillna(df.median(), inplace=True)\n",
        "print(df.head(10))"
      ],
      "execution_count": 27,
      "outputs": [
        {
          "output_type": "stream",
          "text": [
            "        Date   pH   DO    TDS  ...   Nitrate   Sulphate  Phosphate       WPI\n",
            "0  01-Jan-14  8.0  8.7   84.0  ...  0.758000   6.534660    0.06211  0.249528\n",
            "1  02-Jan-14  7.0  8.8  110.0  ...  0.196062   8.138620    0.00960  0.216400\n",
            "2  03-Jan-14  7.0  7.5   75.0  ...  0.298875   3.855625    0.01280  0.183814\n",
            "3  04-Jan-14  7.0  9.1   76.0  ...  0.299591   2.238750    0.01536  0.219282\n",
            "4  05-Jan-14  7.0  7.3   84.0  ...  0.106000   5.600000    0.01000  0.165831\n",
            "5  06-Jan-14  8.0  7.4  103.0  ...  0.506000  12.810000    0.10600  0.308627\n",
            "6  07-Jan-14  7.0  7.4  103.0  ...  0.314000  20.521000    0.24300  0.406891\n",
            "7  08-Jan-14  7.0  6.8   94.0  ...  1.423000   8.830000    0.04500  0.291804\n",
            "8  09-Jan-14  8.0  8.0  106.0  ...  0.157806   7.400000    0.01400  0.219930\n",
            "9  10-Jan-14  7.0  5.9  117.0  ...  0.059000   7.711000    0.01400  0.237340\n",
            "\n",
            "[10 rows x 16 columns]\n"
          ],
          "name": "stdout"
        }
      ]
    },
    {
      "cell_type": "markdown",
      "metadata": {
        "id": "ju1QoBBgKz-b"
      },
      "source": [
        "**Using the interpolation method**"
      ]
    },
    {
      "cell_type": "code",
      "metadata": {
        "colab": {
          "base_uri": "https://localhost:8080/"
        },
        "id": "9etuD4XpKfR1",
        "outputId": "13c990a6-b798-4d56-a3b2-b1ff6522a85b"
      },
      "source": [
        "df['pH'].interpolate(method='linear', direction = 'forward', inplace=True) \n",
        "print(df['pH'].head(10))"
      ],
      "execution_count": 28,
      "outputs": [
        {
          "output_type": "stream",
          "text": [
            "0    8.0\n",
            "1    7.0\n",
            "2    7.0\n",
            "3    7.0\n",
            "4    7.0\n",
            "5    8.0\n",
            "6    7.0\n",
            "7    7.0\n",
            "8    8.0\n",
            "9    7.0\n",
            "Name: pH, dtype: float64\n"
          ],
          "name": "stdout"
        }
      ]
    },
    {
      "cell_type": "code",
      "metadata": {
        "colab": {
          "base_uri": "https://localhost:8080/"
        },
        "id": "arq6z9FvK7fm",
        "outputId": "05346421-8225-4eda-85ff-201639792517"
      },
      "source": [
        "df.interpolate(method='linear', direction = 'forward', inplace=True) \n",
        "print(df.head(10))"
      ],
      "execution_count": 29,
      "outputs": [
        {
          "output_type": "stream",
          "text": [
            "        Date   pH   DO    TDS  ...   Nitrate   Sulphate  Phosphate       WPI\n",
            "0  01-Jan-14  8.0  8.7   84.0  ...  0.758000   6.534660    0.06211  0.249528\n",
            "1  02-Jan-14  7.0  8.8  110.0  ...  0.196062   8.138620    0.00960  0.216400\n",
            "2  03-Jan-14  7.0  7.5   75.0  ...  0.298875   3.855625    0.01280  0.183814\n",
            "3  04-Jan-14  7.0  9.1   76.0  ...  0.299591   2.238750    0.01536  0.219282\n",
            "4  05-Jan-14  7.0  7.3   84.0  ...  0.106000   5.600000    0.01000  0.165831\n",
            "5  06-Jan-14  8.0  7.4  103.0  ...  0.506000  12.810000    0.10600  0.308627\n",
            "6  07-Jan-14  7.0  7.4  103.0  ...  0.314000  20.521000    0.24300  0.406891\n",
            "7  08-Jan-14  7.0  6.8   94.0  ...  1.423000   8.830000    0.04500  0.291804\n",
            "8  09-Jan-14  8.0  8.0  106.0  ...  0.157806   7.400000    0.01400  0.219930\n",
            "9  10-Jan-14  7.0  5.9  117.0  ...  0.059000   7.711000    0.01400  0.237340\n",
            "\n",
            "[10 rows x 16 columns]\n"
          ],
          "name": "stdout"
        }
      ]
    },
    {
      "cell_type": "code",
      "metadata": {
        "colab": {
          "base_uri": "https://localhost:8080/",
          "height": 17
        },
        "id": "ivcRUuSeL5TN",
        "outputId": "68822e27-11f3-48ec-84cd-ad215b6e1f36"
      },
      "source": [
        "from google.colab import files\n",
        "\n",
        "# e.g. save pandas output as csv\n",
        "df.to_csv('inter.csv')\n",
        "\n",
        "# or any other file as usual\n",
        "# with open('example.csv', 'w') as f:\n",
        "#   f.write('your strings here')\n",
        "\n",
        "files.download('inter.csv')"
      ],
      "execution_count": 30,
      "outputs": [
        {
          "output_type": "display_data",
          "data": {
            "application/javascript": [
              "\n",
              "    async function download(id, filename, size) {\n",
              "      if (!google.colab.kernel.accessAllowed) {\n",
              "        return;\n",
              "      }\n",
              "      const div = document.createElement('div');\n",
              "      const label = document.createElement('label');\n",
              "      label.textContent = `Downloading \"${filename}\": `;\n",
              "      div.appendChild(label);\n",
              "      const progress = document.createElement('progress');\n",
              "      progress.max = size;\n",
              "      div.appendChild(progress);\n",
              "      document.body.appendChild(div);\n",
              "\n",
              "      const buffers = [];\n",
              "      let downloaded = 0;\n",
              "\n",
              "      const channel = await google.colab.kernel.comms.open(id);\n",
              "      // Send a message to notify the kernel that we're ready.\n",
              "      channel.send({})\n",
              "\n",
              "      for await (const message of channel.messages) {\n",
              "        // Send a message to notify the kernel that we're ready.\n",
              "        channel.send({})\n",
              "        if (message.buffers) {\n",
              "          for (const buffer of message.buffers) {\n",
              "            buffers.push(buffer);\n",
              "            downloaded += buffer.byteLength;\n",
              "            progress.value = downloaded;\n",
              "          }\n",
              "        }\n",
              "      }\n",
              "      const blob = new Blob(buffers, {type: 'application/binary'});\n",
              "      const a = document.createElement('a');\n",
              "      a.href = window.URL.createObjectURL(blob);\n",
              "      a.download = filename;\n",
              "      div.appendChild(a);\n",
              "      a.click();\n",
              "      div.remove();\n",
              "    }\n",
              "  "
            ],
            "text/plain": [
              "<IPython.core.display.Javascript object>"
            ]
          },
          "metadata": {
            "tags": []
          }
        },
        {
          "output_type": "display_data",
          "data": {
            "application/javascript": [
              "download(\"download_528dd4fe-45b1-4121-9c7a-cf8df774796f\", \"inter.csv\", 54095)"
            ],
            "text/plain": [
              "<IPython.core.display.Javascript object>"
            ]
          },
          "metadata": {
            "tags": []
          }
        }
      ]
    },
    {
      "cell_type": "code",
      "metadata": {
        "id": "h08jQ8ZyN8OB",
        "colab": {
          "base_uri": "https://localhost:8080/",
          "height": 419
        },
        "outputId": "89f794ea-4239-4903-b670-10b5883ae408"
      },
      "source": [
        "df"
      ],
      "execution_count": 31,
      "outputs": [
        {
          "output_type": "execute_result",
          "data": {
            "text/html": [
              "<div>\n",
              "<style scoped>\n",
              "    .dataframe tbody tr th:only-of-type {\n",
              "        vertical-align: middle;\n",
              "    }\n",
              "\n",
              "    .dataframe tbody tr th {\n",
              "        vertical-align: top;\n",
              "    }\n",
              "\n",
              "    .dataframe thead th {\n",
              "        text-align: right;\n",
              "    }\n",
              "</style>\n",
              "<table border=\"1\" class=\"dataframe\">\n",
              "  <thead>\n",
              "    <tr style=\"text-align: right;\">\n",
              "      <th></th>\n",
              "      <th>Date</th>\n",
              "      <th>pH</th>\n",
              "      <th>DO</th>\n",
              "      <th>TDS</th>\n",
              "      <th>Alkalinity</th>\n",
              "      <th>EC</th>\n",
              "      <th>Na</th>\n",
              "      <th>Ca</th>\n",
              "      <th>Mg</th>\n",
              "      <th>K</th>\n",
              "      <th>F</th>\n",
              "      <th>Cl</th>\n",
              "      <th>Nitrate</th>\n",
              "      <th>Sulphate</th>\n",
              "      <th>Phosphate</th>\n",
              "      <th>WPI</th>\n",
              "    </tr>\n",
              "  </thead>\n",
              "  <tbody>\n",
              "    <tr>\n",
              "      <th>0</th>\n",
              "      <td>01-Jan-14</td>\n",
              "      <td>8.0</td>\n",
              "      <td>8.7</td>\n",
              "      <td>84.0</td>\n",
              "      <td>52</td>\n",
              "      <td>147.8</td>\n",
              "      <td>4.48</td>\n",
              "      <td>44.0</td>\n",
              "      <td>20.0</td>\n",
              "      <td>1.17</td>\n",
              "      <td>0.285</td>\n",
              "      <td>7.80</td>\n",
              "      <td>0.758000</td>\n",
              "      <td>6.534660</td>\n",
              "      <td>0.06211</td>\n",
              "      <td>0.249528</td>\n",
              "    </tr>\n",
              "    <tr>\n",
              "      <th>1</th>\n",
              "      <td>02-Jan-14</td>\n",
              "      <td>7.0</td>\n",
              "      <td>8.8</td>\n",
              "      <td>110.0</td>\n",
              "      <td>76</td>\n",
              "      <td>188.0</td>\n",
              "      <td>8.61</td>\n",
              "      <td>44.0</td>\n",
              "      <td>36.0</td>\n",
              "      <td>3.46</td>\n",
              "      <td>0.401</td>\n",
              "      <td>14.80</td>\n",
              "      <td>0.196062</td>\n",
              "      <td>8.138620</td>\n",
              "      <td>0.00960</td>\n",
              "      <td>0.216400</td>\n",
              "    </tr>\n",
              "    <tr>\n",
              "      <th>2</th>\n",
              "      <td>03-Jan-14</td>\n",
              "      <td>7.0</td>\n",
              "      <td>7.5</td>\n",
              "      <td>75.0</td>\n",
              "      <td>44</td>\n",
              "      <td>128.0</td>\n",
              "      <td>8.11</td>\n",
              "      <td>28.0</td>\n",
              "      <td>20.0</td>\n",
              "      <td>2.80</td>\n",
              "      <td>0.379</td>\n",
              "      <td>14.80</td>\n",
              "      <td>0.298875</td>\n",
              "      <td>3.855625</td>\n",
              "      <td>0.01280</td>\n",
              "      <td>0.183814</td>\n",
              "    </tr>\n",
              "    <tr>\n",
              "      <th>3</th>\n",
              "      <td>04-Jan-14</td>\n",
              "      <td>7.0</td>\n",
              "      <td>9.1</td>\n",
              "      <td>76.0</td>\n",
              "      <td>56</td>\n",
              "      <td>127.0</td>\n",
              "      <td>8.11</td>\n",
              "      <td>44.0</td>\n",
              "      <td>18.0</td>\n",
              "      <td>1.65</td>\n",
              "      <td>0.396</td>\n",
              "      <td>9.60</td>\n",
              "      <td>0.299591</td>\n",
              "      <td>2.238750</td>\n",
              "      <td>0.01536</td>\n",
              "      <td>0.219282</td>\n",
              "    </tr>\n",
              "    <tr>\n",
              "      <th>4</th>\n",
              "      <td>05-Jan-14</td>\n",
              "      <td>7.0</td>\n",
              "      <td>7.3</td>\n",
              "      <td>84.0</td>\n",
              "      <td>52</td>\n",
              "      <td>140.0</td>\n",
              "      <td>8.11</td>\n",
              "      <td>28.0</td>\n",
              "      <td>20.0</td>\n",
              "      <td>1.61</td>\n",
              "      <td>0.265</td>\n",
              "      <td>8.30</td>\n",
              "      <td>0.106000</td>\n",
              "      <td>5.600000</td>\n",
              "      <td>0.01000</td>\n",
              "      <td>0.165831</td>\n",
              "    </tr>\n",
              "    <tr>\n",
              "      <th>...</th>\n",
              "      <td>...</td>\n",
              "      <td>...</td>\n",
              "      <td>...</td>\n",
              "      <td>...</td>\n",
              "      <td>...</td>\n",
              "      <td>...</td>\n",
              "      <td>...</td>\n",
              "      <td>...</td>\n",
              "      <td>...</td>\n",
              "      <td>...</td>\n",
              "      <td>...</td>\n",
              "      <td>...</td>\n",
              "      <td>...</td>\n",
              "      <td>...</td>\n",
              "      <td>...</td>\n",
              "      <td>...</td>\n",
              "    </tr>\n",
              "    <tr>\n",
              "      <th>482</th>\n",
              "      <td>28-Apr-15</td>\n",
              "      <td>7.0</td>\n",
              "      <td>5.6</td>\n",
              "      <td>259.0</td>\n",
              "      <td>8</td>\n",
              "      <td>370.0</td>\n",
              "      <td>16.14</td>\n",
              "      <td>92.0</td>\n",
              "      <td>24.0</td>\n",
              "      <td>7.60</td>\n",
              "      <td>2.270</td>\n",
              "      <td>23.04</td>\n",
              "      <td>1.352000</td>\n",
              "      <td>104.480000</td>\n",
              "      <td>0.01500</td>\n",
              "      <td>0.419630</td>\n",
              "    </tr>\n",
              "    <tr>\n",
              "      <th>483</th>\n",
              "      <td>29-Apr-15</td>\n",
              "      <td>7.0</td>\n",
              "      <td>5.6</td>\n",
              "      <td>259.0</td>\n",
              "      <td>96</td>\n",
              "      <td>434.0</td>\n",
              "      <td>20.56</td>\n",
              "      <td>96.0</td>\n",
              "      <td>32.0</td>\n",
              "      <td>9.89</td>\n",
              "      <td>1.550</td>\n",
              "      <td>30.86</td>\n",
              "      <td>7.074000</td>\n",
              "      <td>61.068000</td>\n",
              "      <td>0.03300</td>\n",
              "      <td>0.432996</td>\n",
              "    </tr>\n",
              "    <tr>\n",
              "      <th>484</th>\n",
              "      <td>30-Apr-15</td>\n",
              "      <td>5.0</td>\n",
              "      <td>5.8</td>\n",
              "      <td>290.0</td>\n",
              "      <td>12</td>\n",
              "      <td>487.0</td>\n",
              "      <td>37.35</td>\n",
              "      <td>60.0</td>\n",
              "      <td>44.0</td>\n",
              "      <td>14.80</td>\n",
              "      <td>0.159</td>\n",
              "      <td>60.13</td>\n",
              "      <td>9.256000</td>\n",
              "      <td>89.910000</td>\n",
              "      <td>0.16300</td>\n",
              "      <td>0.326811</td>\n",
              "    </tr>\n",
              "    <tr>\n",
              "      <th>485</th>\n",
              "      <td>01-May-15</td>\n",
              "      <td>7.0</td>\n",
              "      <td>6.4</td>\n",
              "      <td>290.0</td>\n",
              "      <td>72</td>\n",
              "      <td>385.0</td>\n",
              "      <td>20.06</td>\n",
              "      <td>70.0</td>\n",
              "      <td>42.0</td>\n",
              "      <td>10.35</td>\n",
              "      <td>1.360</td>\n",
              "      <td>32.92</td>\n",
              "      <td>7.110435</td>\n",
              "      <td>48.500000</td>\n",
              "      <td>0.21900</td>\n",
              "      <td>0.509970</td>\n",
              "    </tr>\n",
              "    <tr>\n",
              "      <th>486</th>\n",
              "      <td>02-May-15</td>\n",
              "      <td>7.0</td>\n",
              "      <td>6.9</td>\n",
              "      <td>290.0</td>\n",
              "      <td>68</td>\n",
              "      <td>410.8</td>\n",
              "      <td>17.41</td>\n",
              "      <td>82.0</td>\n",
              "      <td>50.0</td>\n",
              "      <td>9.92</td>\n",
              "      <td>1.310</td>\n",
              "      <td>34.89</td>\n",
              "      <td>6.385000</td>\n",
              "      <td>59.940000</td>\n",
              "      <td>0.07000</td>\n",
              "      <td>0.422551</td>\n",
              "    </tr>\n",
              "  </tbody>\n",
              "</table>\n",
              "<p>487 rows × 16 columns</p>\n",
              "</div>"
            ],
            "text/plain": [
              "          Date   pH   DO    TDS  ...   Nitrate    Sulphate  Phosphate       WPI\n",
              "0    01-Jan-14  8.0  8.7   84.0  ...  0.758000    6.534660    0.06211  0.249528\n",
              "1    02-Jan-14  7.0  8.8  110.0  ...  0.196062    8.138620    0.00960  0.216400\n",
              "2    03-Jan-14  7.0  7.5   75.0  ...  0.298875    3.855625    0.01280  0.183814\n",
              "3    04-Jan-14  7.0  9.1   76.0  ...  0.299591    2.238750    0.01536  0.219282\n",
              "4    05-Jan-14  7.0  7.3   84.0  ...  0.106000    5.600000    0.01000  0.165831\n",
              "..         ...  ...  ...    ...  ...       ...         ...        ...       ...\n",
              "482  28-Apr-15  7.0  5.6  259.0  ...  1.352000  104.480000    0.01500  0.419630\n",
              "483  29-Apr-15  7.0  5.6  259.0  ...  7.074000   61.068000    0.03300  0.432996\n",
              "484  30-Apr-15  5.0  5.8  290.0  ...  9.256000   89.910000    0.16300  0.326811\n",
              "485  01-May-15  7.0  6.4  290.0  ...  7.110435   48.500000    0.21900  0.509970\n",
              "486  02-May-15  7.0  6.9  290.0  ...  6.385000   59.940000    0.07000  0.422551\n",
              "\n",
              "[487 rows x 16 columns]"
            ]
          },
          "metadata": {
            "tags": []
          },
          "execution_count": 31
        }
      ]
    },
    {
      "cell_type": "code",
      "metadata": {
        "colab": {
          "base_uri": "https://localhost:8080/",
          "height": 235
        },
        "id": "eEOR9PLH37zC",
        "outputId": "dc4be710-4557-48c9-b414-522df7282145"
      },
      "source": [
        "data = pd.read_csv('/content/drive/MyDrive/DATA/missdata.csv',parse_dates=True,index_col='Date')\n",
        "data_new=data.copy(deep=True)\n",
        "data_new.head()"
      ],
      "execution_count": 32,
      "outputs": [
        {
          "output_type": "execute_result",
          "data": {
            "text/html": [
              "<div>\n",
              "<style scoped>\n",
              "    .dataframe tbody tr th:only-of-type {\n",
              "        vertical-align: middle;\n",
              "    }\n",
              "\n",
              "    .dataframe tbody tr th {\n",
              "        vertical-align: top;\n",
              "    }\n",
              "\n",
              "    .dataframe thead th {\n",
              "        text-align: right;\n",
              "    }\n",
              "</style>\n",
              "<table border=\"1\" class=\"dataframe\">\n",
              "  <thead>\n",
              "    <tr style=\"text-align: right;\">\n",
              "      <th></th>\n",
              "      <th>pH</th>\n",
              "      <th>DO</th>\n",
              "      <th>TDS</th>\n",
              "      <th>Alkalinity</th>\n",
              "      <th>EC</th>\n",
              "      <th>Na</th>\n",
              "      <th>Ca</th>\n",
              "      <th>Mg</th>\n",
              "      <th>K</th>\n",
              "      <th>F</th>\n",
              "      <th>Cl</th>\n",
              "      <th>Nitrate</th>\n",
              "      <th>Sulphate</th>\n",
              "      <th>Phosphate</th>\n",
              "      <th>WPI</th>\n",
              "    </tr>\n",
              "    <tr>\n",
              "      <th>Date</th>\n",
              "      <th></th>\n",
              "      <th></th>\n",
              "      <th></th>\n",
              "      <th></th>\n",
              "      <th></th>\n",
              "      <th></th>\n",
              "      <th></th>\n",
              "      <th></th>\n",
              "      <th></th>\n",
              "      <th></th>\n",
              "      <th></th>\n",
              "      <th></th>\n",
              "      <th></th>\n",
              "      <th></th>\n",
              "      <th></th>\n",
              "    </tr>\n",
              "  </thead>\n",
              "  <tbody>\n",
              "    <tr>\n",
              "      <th>2014-01-01</th>\n",
              "      <td>8.14</td>\n",
              "      <td>8.7</td>\n",
              "      <td>84.0</td>\n",
              "      <td>52</td>\n",
              "      <td>147.8</td>\n",
              "      <td>4.48</td>\n",
              "      <td>44.0</td>\n",
              "      <td>20.0</td>\n",
              "      <td>1.17</td>\n",
              "      <td>0.285</td>\n",
              "      <td>7.8</td>\n",
              "      <td>0.758000</td>\n",
              "      <td>6.534660</td>\n",
              "      <td>0.06211</td>\n",
              "      <td>0.249528</td>\n",
              "    </tr>\n",
              "    <tr>\n",
              "      <th>2014-01-02</th>\n",
              "      <td>7.70</td>\n",
              "      <td>8.8</td>\n",
              "      <td>110.0</td>\n",
              "      <td>76</td>\n",
              "      <td>188.0</td>\n",
              "      <td>8.61</td>\n",
              "      <td>44.0</td>\n",
              "      <td>36.0</td>\n",
              "      <td>3.46</td>\n",
              "      <td>0.401</td>\n",
              "      <td>14.8</td>\n",
              "      <td>0.196062</td>\n",
              "      <td>8.138620</td>\n",
              "      <td>0.00960</td>\n",
              "      <td>0.216400</td>\n",
              "    </tr>\n",
              "    <tr>\n",
              "      <th>2014-01-03</th>\n",
              "      <td>7.60</td>\n",
              "      <td>7.5</td>\n",
              "      <td>75.0</td>\n",
              "      <td>44</td>\n",
              "      <td>128.0</td>\n",
              "      <td>8.11</td>\n",
              "      <td>28.0</td>\n",
              "      <td>20.0</td>\n",
              "      <td>2.80</td>\n",
              "      <td>0.379</td>\n",
              "      <td>14.8</td>\n",
              "      <td>0.298875</td>\n",
              "      <td>3.855625</td>\n",
              "      <td>0.01280</td>\n",
              "      <td>0.183814</td>\n",
              "    </tr>\n",
              "    <tr>\n",
              "      <th>2014-01-04</th>\n",
              "      <td>NaN</td>\n",
              "      <td>9.1</td>\n",
              "      <td>76.0</td>\n",
              "      <td>56</td>\n",
              "      <td>127.0</td>\n",
              "      <td>NaN</td>\n",
              "      <td>44.0</td>\n",
              "      <td>18.0</td>\n",
              "      <td>1.65</td>\n",
              "      <td>0.396</td>\n",
              "      <td>9.6</td>\n",
              "      <td>0.299591</td>\n",
              "      <td>2.238750</td>\n",
              "      <td>0.01536</td>\n",
              "      <td>0.219282</td>\n",
              "    </tr>\n",
              "    <tr>\n",
              "      <th>2014-01-05</th>\n",
              "      <td>NaN</td>\n",
              "      <td>7.3</td>\n",
              "      <td>84.0</td>\n",
              "      <td>52</td>\n",
              "      <td>140.0</td>\n",
              "      <td>NaN</td>\n",
              "      <td>28.0</td>\n",
              "      <td>20.0</td>\n",
              "      <td>1.61</td>\n",
              "      <td>0.265</td>\n",
              "      <td>8.3</td>\n",
              "      <td>0.106000</td>\n",
              "      <td>5.600000</td>\n",
              "      <td>0.01000</td>\n",
              "      <td>0.165831</td>\n",
              "    </tr>\n",
              "  </tbody>\n",
              "</table>\n",
              "</div>"
            ],
            "text/plain": [
              "              pH   DO    TDS  ...  Sulphate  Phosphate       WPI\n",
              "Date                          ...                               \n",
              "2014-01-01  8.14  8.7   84.0  ...  6.534660    0.06211  0.249528\n",
              "2014-01-02  7.70  8.8  110.0  ...  8.138620    0.00960  0.216400\n",
              "2014-01-03  7.60  7.5   75.0  ...  3.855625    0.01280  0.183814\n",
              "2014-01-04   NaN  9.1   76.0  ...  2.238750    0.01536  0.219282\n",
              "2014-01-05   NaN  7.3   84.0  ...  5.600000    0.01000  0.165831\n",
              "\n",
              "[5 rows x 15 columns]"
            ]
          },
          "metadata": {
            "tags": []
          },
          "execution_count": 32
        }
      ]
    },
    {
      "cell_type": "code",
      "metadata": {
        "id": "7tGqdOcf6hVo"
      },
      "source": [
        "def missing_values_table(data):\n",
        "        # Total missing values\n",
        "        mis_val = data.isnull().sum()\n",
        "        \n",
        "        # Percentage of missing values\n",
        "        mis_val_percent = 100 * data.isnull().sum() / len(data)\n",
        "        \n",
        "        # Make a table with the results\n",
        "        mis_val_table = pd.concat([mis_val, mis_val_percent], axis=1)\n",
        "        \n",
        "        # Rename the columns\n",
        "        mis_val_table_ren_columns = mis_val_table.rename(\n",
        "        columns = {0 : 'Missing Values', 1 : '% of Total Values'})\n",
        "        \n",
        "        # Sort the table by percentage of missing descending\n",
        "        mis_val_table_ren_columns = mis_val_table_ren_columns[\n",
        "            mis_val_table_ren_columns.iloc[:,1] != 0].sort_values(\n",
        "        '% of Total Values', ascending=False).round(1)\n",
        "        \n",
        "        # Print some summary information\n",
        "        print (\"Your selected dataframe has \" + str(data.shape[1]) + \" columns.\\n\" \n",
        "               \"There are \" + str(mis_val_table_ren_columns.shape[0]) +\n",
        "              \" columns that have missing values.\")\n",
        "        \n",
        "        # Return the dataframe with missing information\n",
        "        return mis_val_table_ren_columns"
      ],
      "execution_count": 33,
      "outputs": []
    },
    {
      "cell_type": "code",
      "metadata": {
        "colab": {
          "base_uri": "https://localhost:8080/",
          "height": 517
        },
        "id": "x9IeWwXf4x6T",
        "outputId": "d07be5d7-7ee0-40c7-c81b-6761c76952fa"
      },
      "source": [
        "data_missing= missing_values_table(data_new)\n",
        "data_missing"
      ],
      "execution_count": 34,
      "outputs": [
        {
          "output_type": "stream",
          "text": [
            "Your selected dataframe has 15 columns.\n",
            "There are 14 columns that have missing values.\n"
          ],
          "name": "stdout"
        },
        {
          "output_type": "execute_result",
          "data": {
            "text/html": [
              "<div>\n",
              "<style scoped>\n",
              "    .dataframe tbody tr th:only-of-type {\n",
              "        vertical-align: middle;\n",
              "    }\n",
              "\n",
              "    .dataframe tbody tr th {\n",
              "        vertical-align: top;\n",
              "    }\n",
              "\n",
              "    .dataframe thead th {\n",
              "        text-align: right;\n",
              "    }\n",
              "</style>\n",
              "<table border=\"1\" class=\"dataframe\">\n",
              "  <thead>\n",
              "    <tr style=\"text-align: right;\">\n",
              "      <th></th>\n",
              "      <th>Missing Values</th>\n",
              "      <th>% of Total Values</th>\n",
              "    </tr>\n",
              "  </thead>\n",
              "  <tbody>\n",
              "    <tr>\n",
              "      <th>TDS</th>\n",
              "      <td>104</td>\n",
              "      <td>21.4</td>\n",
              "    </tr>\n",
              "    <tr>\n",
              "      <th>Phosphate</th>\n",
              "      <td>92</td>\n",
              "      <td>18.9</td>\n",
              "    </tr>\n",
              "    <tr>\n",
              "      <th>WPI</th>\n",
              "      <td>87</td>\n",
              "      <td>17.9</td>\n",
              "    </tr>\n",
              "    <tr>\n",
              "      <th>F</th>\n",
              "      <td>65</td>\n",
              "      <td>13.3</td>\n",
              "    </tr>\n",
              "    <tr>\n",
              "      <th>K</th>\n",
              "      <td>54</td>\n",
              "      <td>11.1</td>\n",
              "    </tr>\n",
              "    <tr>\n",
              "      <th>Ca</th>\n",
              "      <td>42</td>\n",
              "      <td>8.6</td>\n",
              "    </tr>\n",
              "    <tr>\n",
              "      <th>Mg</th>\n",
              "      <td>39</td>\n",
              "      <td>8.0</td>\n",
              "    </tr>\n",
              "    <tr>\n",
              "      <th>Sulphate</th>\n",
              "      <td>27</td>\n",
              "      <td>5.5</td>\n",
              "    </tr>\n",
              "    <tr>\n",
              "      <th>Cl</th>\n",
              "      <td>21</td>\n",
              "      <td>4.3</td>\n",
              "    </tr>\n",
              "    <tr>\n",
              "      <th>EC</th>\n",
              "      <td>4</td>\n",
              "      <td>0.8</td>\n",
              "    </tr>\n",
              "    <tr>\n",
              "      <th>pH</th>\n",
              "      <td>2</td>\n",
              "      <td>0.4</td>\n",
              "    </tr>\n",
              "    <tr>\n",
              "      <th>Na</th>\n",
              "      <td>2</td>\n",
              "      <td>0.4</td>\n",
              "    </tr>\n",
              "    <tr>\n",
              "      <th>Nitrate</th>\n",
              "      <td>2</td>\n",
              "      <td>0.4</td>\n",
              "    </tr>\n",
              "    <tr>\n",
              "      <th>DO</th>\n",
              "      <td>1</td>\n",
              "      <td>0.2</td>\n",
              "    </tr>\n",
              "  </tbody>\n",
              "</table>\n",
              "</div>"
            ],
            "text/plain": [
              "           Missing Values  % of Total Values\n",
              "TDS                   104               21.4\n",
              "Phosphate              92               18.9\n",
              "WPI                    87               17.9\n",
              "F                      65               13.3\n",
              "K                      54               11.1\n",
              "Ca                     42                8.6\n",
              "Mg                     39                8.0\n",
              "Sulphate               27                5.5\n",
              "Cl                     21                4.3\n",
              "EC                      4                0.8\n",
              "pH                      2                0.4\n",
              "Na                      2                0.4\n",
              "Nitrate                 2                0.4\n",
              "DO                      1                0.2"
            ]
          },
          "metadata": {
            "tags": []
          },
          "execution_count": 34
        }
      ]
    },
    {
      "cell_type": "code",
      "metadata": {
        "colab": {
          "base_uri": "https://localhost:8080/"
        },
        "id": "kzTNFcbc5N5e",
        "outputId": "1b2cce3b-3265-4780-b8b2-ab28e8062539"
      },
      "source": [
        "data_new['TDS'][50:64]"
      ],
      "execution_count": 35,
      "outputs": [
        {
          "output_type": "execute_result",
          "data": {
            "text/plain": [
              "Date\n",
              "2014-02-20    102.0\n",
              "2014-02-21     98.0\n",
              "2014-02-22     80.0\n",
              "2014-02-23     80.0\n",
              "2014-02-24      NaN\n",
              "2014-02-25      NaN\n",
              "2014-02-26      NaN\n",
              "2014-02-27      NaN\n",
              "2014-02-28      NaN\n",
              "2014-03-01      NaN\n",
              "2014-03-02      NaN\n",
              "2014-03-03      NaN\n",
              "2014-03-04      NaN\n",
              "2014-03-05      NaN\n",
              "Name: TDS, dtype: float64"
            ]
          },
          "metadata": {
            "tags": []
          },
          "execution_count": 35
        }
      ]
    },
    {
      "cell_type": "code",
      "metadata": {
        "colab": {
          "base_uri": "https://localhost:8080/"
        },
        "id": "YmwTY2vV7ewd",
        "outputId": "17e1400e-0c45-473f-e7fc-c2085dc3fcdf"
      },
      "source": [
        "data_new.fillna(method='ffill',inplace=True)\n",
        "data_new['TDS'][50:65]"
      ],
      "execution_count": 36,
      "outputs": [
        {
          "output_type": "execute_result",
          "data": {
            "text/plain": [
              "Date\n",
              "2014-02-20    102.0\n",
              "2014-02-21     98.0\n",
              "2014-02-22     80.0\n",
              "2014-02-23     80.0\n",
              "2014-02-24     80.0\n",
              "2014-02-25     80.0\n",
              "2014-02-26     80.0\n",
              "2014-02-27     80.0\n",
              "2014-02-28     80.0\n",
              "2014-03-01     80.0\n",
              "2014-03-02     80.0\n",
              "2014-03-03     80.0\n",
              "2014-03-04     80.0\n",
              "2014-03-05     80.0\n",
              "2014-03-06     80.0\n",
              "Name: TDS, dtype: float64"
            ]
          },
          "metadata": {
            "tags": []
          },
          "execution_count": 36
        }
      ]
    },
    {
      "cell_type": "code",
      "metadata": {
        "colab": {
          "base_uri": "https://localhost:8080/"
        },
        "id": "5OOiBm6N703B",
        "outputId": "eeb6177e-de62-4e90-ac01-535ae3a55094"
      },
      "source": [
        "data_new['WPI'][20:30]"
      ],
      "execution_count": 37,
      "outputs": [
        {
          "output_type": "execute_result",
          "data": {
            "text/plain": [
              "Date\n",
              "2014-01-21    0.380511\n",
              "2014-01-22    0.363571\n",
              "2014-01-23    0.284496\n",
              "2014-01-24    0.254782\n",
              "2014-01-25    0.254719\n",
              "2014-01-26    0.254719\n",
              "2014-01-27    0.254719\n",
              "2014-01-28    0.254719\n",
              "2014-01-29    0.253756\n",
              "2014-01-30    0.233312\n",
              "Name: WPI, dtype: float64"
            ]
          },
          "metadata": {
            "tags": []
          },
          "execution_count": 37
        }
      ]
    },
    {
      "cell_type": "code",
      "metadata": {
        "colab": {
          "base_uri": "https://localhost:8080/"
        },
        "id": "ZnSFZzKX8ALG",
        "outputId": "48556f52-0728-444c-e156-d01627b861f8"
      },
      "source": [
        "data_new.fillna(method='bfill',inplace=True)\n",
        "data_new['WPI'][50:65]"
      ],
      "execution_count": 38,
      "outputs": [
        {
          "output_type": "execute_result",
          "data": {
            "text/plain": [
              "Date\n",
              "2014-02-20    0.220874\n",
              "2014-02-21    0.220874\n",
              "2014-02-22    0.253932\n",
              "2014-02-23    0.217126\n",
              "2014-02-24    0.239521\n",
              "2014-02-25    0.239521\n",
              "2014-02-26    0.399795\n",
              "2014-02-27    0.467951\n",
              "2014-02-28    0.434023\n",
              "2014-03-01    0.323594\n",
              "2014-03-02    0.252288\n",
              "2014-03-03    0.266049\n",
              "2014-03-04    0.274732\n",
              "2014-03-05    0.274732\n",
              "2014-03-06    0.334685\n",
              "Name: WPI, dtype: float64"
            ]
          },
          "metadata": {
            "tags": []
          },
          "execution_count": 38
        }
      ]
    },
    {
      "cell_type": "code",
      "metadata": {
        "colab": {
          "base_uri": "https://localhost:8080/"
        },
        "id": "Zmmveegy8N_z",
        "outputId": "55f5d183-ed62-41ca-b7ab-90c87c6df1c8"
      },
      "source": [
        "data_new['TDS'][50:65]"
      ],
      "execution_count": 39,
      "outputs": [
        {
          "output_type": "execute_result",
          "data": {
            "text/plain": [
              "Date\n",
              "2014-02-20    102.0\n",
              "2014-02-21     98.0\n",
              "2014-02-22     80.0\n",
              "2014-02-23     80.0\n",
              "2014-02-24     80.0\n",
              "2014-02-25     80.0\n",
              "2014-02-26     80.0\n",
              "2014-02-27     80.0\n",
              "2014-02-28     80.0\n",
              "2014-03-01     80.0\n",
              "2014-03-02     80.0\n",
              "2014-03-03     80.0\n",
              "2014-03-04     80.0\n",
              "2014-03-05     80.0\n",
              "2014-03-06     80.0\n",
              "Name: TDS, dtype: float64"
            ]
          },
          "metadata": {
            "tags": []
          },
          "execution_count": 39
        }
      ]
    },
    {
      "cell_type": "code",
      "metadata": {
        "colab": {
          "base_uri": "https://localhost:8080/"
        },
        "id": "vT6IOGqk8e3r",
        "outputId": "53a4b95f-9c3e-4f87-e9b4-800fde191199"
      },
      "source": [
        "data_new['Phosphate'][50:65]"
      ],
      "execution_count": 40,
      "outputs": [
        {
          "output_type": "execute_result",
          "data": {
            "text/plain": [
              "Date\n",
              "2014-02-20    0.070000\n",
              "2014-02-21    0.062000\n",
              "2014-02-22    0.065000\n",
              "2014-02-23    0.045000\n",
              "2014-02-24    0.067000\n",
              "2014-02-25    0.018501\n",
              "2014-02-26    0.018501\n",
              "2014-02-27    0.153294\n",
              "2014-02-28    0.066075\n",
              "2014-03-01    0.005286\n",
              "2014-03-02    0.033037\n",
              "2014-03-03    0.074000\n",
              "2014-03-04    0.089000\n",
              "2014-03-05    0.039000\n",
              "2014-03-06    0.138000\n",
              "Name: Phosphate, dtype: float64"
            ]
          },
          "metadata": {
            "tags": []
          },
          "execution_count": 40
        }
      ]
    },
    {
      "cell_type": "code",
      "metadata": {
        "colab": {
          "base_uri": "https://localhost:8080/"
        },
        "id": "PpgX6FCm8vCX",
        "outputId": "abf48d0e-8ff6-4e6c-9709-0f5c6ec03719"
      },
      "source": [
        "data_new.interpolate(limit_direction=\"both\",inplace=True)\n",
        "data_new['Phosphate'][50:65]"
      ],
      "execution_count": 41,
      "outputs": [
        {
          "output_type": "execute_result",
          "data": {
            "text/plain": [
              "Date\n",
              "2014-02-20    0.070000\n",
              "2014-02-21    0.062000\n",
              "2014-02-22    0.065000\n",
              "2014-02-23    0.045000\n",
              "2014-02-24    0.067000\n",
              "2014-02-25    0.018501\n",
              "2014-02-26    0.018501\n",
              "2014-02-27    0.153294\n",
              "2014-02-28    0.066075\n",
              "2014-03-01    0.005286\n",
              "2014-03-02    0.033037\n",
              "2014-03-03    0.074000\n",
              "2014-03-04    0.089000\n",
              "2014-03-05    0.039000\n",
              "2014-03-06    0.138000\n",
              "Name: Phosphate, dtype: float64"
            ]
          },
          "metadata": {
            "tags": []
          },
          "execution_count": 41
        }
      ]
    },
    {
      "cell_type": "code",
      "metadata": {
        "colab": {
          "base_uri": "https://localhost:8080/"
        },
        "id": "kXK8c6vB9MFi",
        "outputId": "aa6e5e81-2ad4-4468-8833-c0084d069116"
      },
      "source": [
        "pip install missingno\n"
      ],
      "execution_count": 42,
      "outputs": [
        {
          "output_type": "stream",
          "text": [
            "Requirement already satisfied: missingno in /usr/local/lib/python3.7/dist-packages (0.4.2)\n",
            "Requirement already satisfied: seaborn in /usr/local/lib/python3.7/dist-packages (from missingno) (0.11.1)\n",
            "Requirement already satisfied: scipy in /usr/local/lib/python3.7/dist-packages (from missingno) (1.4.1)\n",
            "Requirement already satisfied: numpy in /usr/local/lib/python3.7/dist-packages (from missingno) (1.19.5)\n",
            "Requirement already satisfied: matplotlib in /usr/local/lib/python3.7/dist-packages (from missingno) (3.2.2)\n",
            "Requirement already satisfied: pandas>=0.23 in /usr/local/lib/python3.7/dist-packages (from seaborn->missingno) (1.1.5)\n",
            "Requirement already satisfied: cycler>=0.10 in /usr/local/lib/python3.7/dist-packages (from matplotlib->missingno) (0.10.0)\n",
            "Requirement already satisfied: pyparsing!=2.0.4,!=2.1.2,!=2.1.6,>=2.0.1 in /usr/local/lib/python3.7/dist-packages (from matplotlib->missingno) (2.4.7)\n",
            "Requirement already satisfied: python-dateutil>=2.1 in /usr/local/lib/python3.7/dist-packages (from matplotlib->missingno) (2.8.1)\n",
            "Requirement already satisfied: kiwisolver>=1.0.1 in /usr/local/lib/python3.7/dist-packages (from matplotlib->missingno) (1.3.1)\n",
            "Requirement already satisfied: pytz>=2017.2 in /usr/local/lib/python3.7/dist-packages (from pandas>=0.23->seaborn->missingno) (2018.9)\n",
            "Requirement already satisfied: six in /usr/local/lib/python3.7/dist-packages (from cycler>=0.10->matplotlib->missingno) (1.15.0)\n"
          ],
          "name": "stdout"
        }
      ]
    },
    {
      "cell_type": "code",
      "metadata": {
        "id": "qU48m8RD9q4r"
      },
      "source": [
        "import missingno as msns"
      ],
      "execution_count": 43,
      "outputs": []
    },
    {
      "cell_type": "code",
      "metadata": {
        "colab": {
          "base_uri": "https://localhost:8080/",
          "height": 580
        },
        "id": "B6FiYq4Z9_De",
        "outputId": "964668cb-c62f-42e2-e6b5-0946e55375e4"
      },
      "source": [
        "%matplotlib inline\n",
        "msns.matrix(data.sample(450))"
      ],
      "execution_count": 44,
      "outputs": [
        {
          "output_type": "execute_result",
          "data": {
            "text/plain": [
              "<matplotlib.axes._subplots.AxesSubplot at 0x7feeb6958490>"
            ]
          },
          "metadata": {
            "tags": []
          },
          "execution_count": 44
        },
        {
          "output_type": "display_data",
          "data": {
            "image/png": "[encoded data removed]",
            "text/plain": [
              "<Figure size 1800x720 with 2 Axes>"
            ]
          },
          "metadata": {
            "tags": [],
            "needs_background": "light"
          }
        }
      ]
    },
    {
      "cell_type": "code",
      "metadata": {
        "colab": {
          "base_uri": "https://localhost:8080/",
          "height": 580
        },
        "id": "_mwDubQ1-K9h",
        "outputId": "08f1599c-3a11-44dd-ec93-999f6a9c0f3f"
      },
      "source": [
        "msns.matrix(data_new.sample(450))"
      ],
      "execution_count": 45,
      "outputs": [
        {
          "output_type": "execute_result",
          "data": {
            "text/plain": [
              "<matplotlib.axes._subplots.AxesSubplot at 0x7feeac3bc150>"
            ]
          },
          "metadata": {
            "tags": []
          },
          "execution_count": 45
        },
        {
          "output_type": "display_data",
          "data": {
            "image/png": "[encoded data removed]",
            "text/plain": [
              "<Figure size 1800x720 with 2 Axes>"
            ]
          },
          "metadata": {
            "tags": [],
            "needs_background": "light"
          }
        }
      ]
    },
    {
      "cell_type": "code",
      "metadata": {
        "colab": {
          "base_uri": "https://localhost:8080/",
          "height": 450
        },
        "id": "4KUIOW_--pa3",
        "outputId": "e7cd6a9a-a770-43f8-927a-232b68fba82e"
      },
      "source": [
        "data_new"
      ],
      "execution_count": 46,
      "outputs": [
        {
          "output_type": "execute_result",
          "data": {
            "text/html": [
              "<div>\n",
              "<style scoped>\n",
              "    .dataframe tbody tr th:only-of-type {\n",
              "        vertical-align: middle;\n",
              "    }\n",
              "\n",
              "    .dataframe tbody tr th {\n",
              "        vertical-align: top;\n",
              "    }\n",
              "\n",
              "    .dataframe thead th {\n",
              "        text-align: right;\n",
              "    }\n",
              "</style>\n",
              "<table border=\"1\" class=\"dataframe\">\n",
              "  <thead>\n",
              "    <tr style=\"text-align: right;\">\n",
              "      <th></th>\n",
              "      <th>pH</th>\n",
              "      <th>DO</th>\n",
              "      <th>TDS</th>\n",
              "      <th>Alkalinity</th>\n",
              "      <th>EC</th>\n",
              "      <th>Na</th>\n",
              "      <th>Ca</th>\n",
              "      <th>Mg</th>\n",
              "      <th>K</th>\n",
              "      <th>F</th>\n",
              "      <th>Cl</th>\n",
              "      <th>Nitrate</th>\n",
              "      <th>Sulphate</th>\n",
              "      <th>Phosphate</th>\n",
              "      <th>WPI</th>\n",
              "    </tr>\n",
              "    <tr>\n",
              "      <th>Date</th>\n",
              "      <th></th>\n",
              "      <th></th>\n",
              "      <th></th>\n",
              "      <th></th>\n",
              "      <th></th>\n",
              "      <th></th>\n",
              "      <th></th>\n",
              "      <th></th>\n",
              "      <th></th>\n",
              "      <th></th>\n",
              "      <th></th>\n",
              "      <th></th>\n",
              "      <th></th>\n",
              "      <th></th>\n",
              "      <th></th>\n",
              "    </tr>\n",
              "  </thead>\n",
              "  <tbody>\n",
              "    <tr>\n",
              "      <th>2014-01-01</th>\n",
              "      <td>8.14</td>\n",
              "      <td>8.7</td>\n",
              "      <td>84.0</td>\n",
              "      <td>52</td>\n",
              "      <td>147.8</td>\n",
              "      <td>4.48</td>\n",
              "      <td>44.0</td>\n",
              "      <td>20.0</td>\n",
              "      <td>1.17</td>\n",
              "      <td>0.285</td>\n",
              "      <td>7.80</td>\n",
              "      <td>0.758000</td>\n",
              "      <td>6.534660</td>\n",
              "      <td>0.06211</td>\n",
              "      <td>0.249528</td>\n",
              "    </tr>\n",
              "    <tr>\n",
              "      <th>2014-01-02</th>\n",
              "      <td>7.70</td>\n",
              "      <td>8.8</td>\n",
              "      <td>110.0</td>\n",
              "      <td>76</td>\n",
              "      <td>188.0</td>\n",
              "      <td>8.61</td>\n",
              "      <td>44.0</td>\n",
              "      <td>36.0</td>\n",
              "      <td>3.46</td>\n",
              "      <td>0.401</td>\n",
              "      <td>14.80</td>\n",
              "      <td>0.196062</td>\n",
              "      <td>8.138620</td>\n",
              "      <td>0.00960</td>\n",
              "      <td>0.216400</td>\n",
              "    </tr>\n",
              "    <tr>\n",
              "      <th>2014-01-03</th>\n",
              "      <td>7.60</td>\n",
              "      <td>7.5</td>\n",
              "      <td>75.0</td>\n",
              "      <td>44</td>\n",
              "      <td>128.0</td>\n",
              "      <td>8.11</td>\n",
              "      <td>28.0</td>\n",
              "      <td>20.0</td>\n",
              "      <td>2.80</td>\n",
              "      <td>0.379</td>\n",
              "      <td>14.80</td>\n",
              "      <td>0.298875</td>\n",
              "      <td>3.855625</td>\n",
              "      <td>0.01280</td>\n",
              "      <td>0.183814</td>\n",
              "    </tr>\n",
              "    <tr>\n",
              "      <th>2014-01-04</th>\n",
              "      <td>7.60</td>\n",
              "      <td>9.1</td>\n",
              "      <td>76.0</td>\n",
              "      <td>56</td>\n",
              "      <td>127.0</td>\n",
              "      <td>8.11</td>\n",
              "      <td>44.0</td>\n",
              "      <td>18.0</td>\n",
              "      <td>1.65</td>\n",
              "      <td>0.396</td>\n",
              "      <td>9.60</td>\n",
              "      <td>0.299591</td>\n",
              "      <td>2.238750</td>\n",
              "      <td>0.01536</td>\n",
              "      <td>0.219282</td>\n",
              "    </tr>\n",
              "    <tr>\n",
              "      <th>2014-01-05</th>\n",
              "      <td>7.60</td>\n",
              "      <td>7.3</td>\n",
              "      <td>84.0</td>\n",
              "      <td>52</td>\n",
              "      <td>140.0</td>\n",
              "      <td>8.11</td>\n",
              "      <td>28.0</td>\n",
              "      <td>20.0</td>\n",
              "      <td>1.61</td>\n",
              "      <td>0.265</td>\n",
              "      <td>8.30</td>\n",
              "      <td>0.106000</td>\n",
              "      <td>5.600000</td>\n",
              "      <td>0.01000</td>\n",
              "      <td>0.165831</td>\n",
              "    </tr>\n",
              "    <tr>\n",
              "      <th>...</th>\n",
              "      <td>...</td>\n",
              "      <td>...</td>\n",
              "      <td>...</td>\n",
              "      <td>...</td>\n",
              "      <td>...</td>\n",
              "      <td>...</td>\n",
              "      <td>...</td>\n",
              "      <td>...</td>\n",
              "      <td>...</td>\n",
              "      <td>...</td>\n",
              "      <td>...</td>\n",
              "      <td>...</td>\n",
              "      <td>...</td>\n",
              "      <td>...</td>\n",
              "      <td>...</td>\n",
              "    </tr>\n",
              "    <tr>\n",
              "      <th>2015-04-28</th>\n",
              "      <td>7.60</td>\n",
              "      <td>5.6</td>\n",
              "      <td>259.0</td>\n",
              "      <td>8</td>\n",
              "      <td>370.0</td>\n",
              "      <td>16.14</td>\n",
              "      <td>92.0</td>\n",
              "      <td>24.0</td>\n",
              "      <td>7.60</td>\n",
              "      <td>2.270</td>\n",
              "      <td>23.04</td>\n",
              "      <td>1.352000</td>\n",
              "      <td>104.480000</td>\n",
              "      <td>0.01500</td>\n",
              "      <td>0.419630</td>\n",
              "    </tr>\n",
              "    <tr>\n",
              "      <th>2015-04-29</th>\n",
              "      <td>7.30</td>\n",
              "      <td>5.6</td>\n",
              "      <td>259.0</td>\n",
              "      <td>96</td>\n",
              "      <td>434.0</td>\n",
              "      <td>20.56</td>\n",
              "      <td>96.0</td>\n",
              "      <td>32.0</td>\n",
              "      <td>9.89</td>\n",
              "      <td>1.550</td>\n",
              "      <td>30.86</td>\n",
              "      <td>7.074000</td>\n",
              "      <td>61.068000</td>\n",
              "      <td>0.03300</td>\n",
              "      <td>0.432996</td>\n",
              "    </tr>\n",
              "    <tr>\n",
              "      <th>2015-04-30</th>\n",
              "      <td>5.10</td>\n",
              "      <td>5.8</td>\n",
              "      <td>290.0</td>\n",
              "      <td>12</td>\n",
              "      <td>487.0</td>\n",
              "      <td>37.35</td>\n",
              "      <td>60.0</td>\n",
              "      <td>44.0</td>\n",
              "      <td>14.80</td>\n",
              "      <td>0.159</td>\n",
              "      <td>60.13</td>\n",
              "      <td>9.256000</td>\n",
              "      <td>89.910000</td>\n",
              "      <td>0.16300</td>\n",
              "      <td>0.326811</td>\n",
              "    </tr>\n",
              "    <tr>\n",
              "      <th>2015-05-01</th>\n",
              "      <td>7.40</td>\n",
              "      <td>6.4</td>\n",
              "      <td>290.0</td>\n",
              "      <td>72</td>\n",
              "      <td>385.0</td>\n",
              "      <td>20.06</td>\n",
              "      <td>70.0</td>\n",
              "      <td>42.0</td>\n",
              "      <td>10.35</td>\n",
              "      <td>1.360</td>\n",
              "      <td>32.92</td>\n",
              "      <td>7.110435</td>\n",
              "      <td>48.500000</td>\n",
              "      <td>0.21900</td>\n",
              "      <td>0.509970</td>\n",
              "    </tr>\n",
              "    <tr>\n",
              "      <th>2015-05-02</th>\n",
              "      <td>7.60</td>\n",
              "      <td>6.9</td>\n",
              "      <td>290.0</td>\n",
              "      <td>68</td>\n",
              "      <td>410.8</td>\n",
              "      <td>17.41</td>\n",
              "      <td>82.0</td>\n",
              "      <td>50.0</td>\n",
              "      <td>9.92</td>\n",
              "      <td>1.310</td>\n",
              "      <td>34.89</td>\n",
              "      <td>6.385000</td>\n",
              "      <td>59.940000</td>\n",
              "      <td>0.07000</td>\n",
              "      <td>0.422551</td>\n",
              "    </tr>\n",
              "  </tbody>\n",
              "</table>\n",
              "<p>487 rows × 15 columns</p>\n",
              "</div>"
            ],
            "text/plain": [
              "              pH   DO    TDS  ...    Sulphate  Phosphate       WPI\n",
              "Date                          ...                                 \n",
              "2014-01-01  8.14  8.7   84.0  ...    6.534660    0.06211  0.249528\n",
              "2014-01-02  7.70  8.8  110.0  ...    8.138620    0.00960  0.216400\n",
              "2014-01-03  7.60  7.5   75.0  ...    3.855625    0.01280  0.183814\n",
              "2014-01-04  7.60  9.1   76.0  ...    2.238750    0.01536  0.219282\n",
              "2014-01-05  7.60  7.3   84.0  ...    5.600000    0.01000  0.165831\n",
              "...          ...  ...    ...  ...         ...        ...       ...\n",
              "2015-04-28  7.60  5.6  259.0  ...  104.480000    0.01500  0.419630\n",
              "2015-04-29  7.30  5.6  259.0  ...   61.068000    0.03300  0.432996\n",
              "2015-04-30  5.10  5.8  290.0  ...   89.910000    0.16300  0.326811\n",
              "2015-05-01  7.40  6.4  290.0  ...   48.500000    0.21900  0.509970\n",
              "2015-05-02  7.60  6.9  290.0  ...   59.940000    0.07000  0.422551\n",
              "\n",
              "[487 rows x 15 columns]"
            ]
          },
          "metadata": {
            "tags": []
          },
          "execution_count": 46
        }
      ]
    },
    {
      "cell_type": "code",
      "metadata": {
        "colab": {
          "base_uri": "https://localhost:8080/"
        },
        "id": "wjzikdpg-uyI",
        "outputId": "f1382870-e784-4d57-8036-520c7ba754f8"
      },
      "source": [
        "print(data_new.isnull().sum())"
      ],
      "execution_count": 47,
      "outputs": [
        {
          "output_type": "stream",
          "text": [
            "pH            0\n",
            "DO            0\n",
            "TDS           0\n",
            "Alkalinity    0\n",
            "EC            0\n",
            "Na            0\n",
            "Ca            0\n",
            "Mg            0\n",
            "K             0\n",
            "F             0\n",
            "Cl            0\n",
            "Nitrate       0\n",
            "Sulphate      0\n",
            "Phosphate     0\n",
            "WPI           0\n",
            "dtype: int64\n"
          ],
          "name": "stdout"
        }
      ]
    },
    {
      "cell_type": "markdown",
      "metadata": {
        "id": "qDw-GZCDZwso"
      },
      "source": [
        "**k-Nearest Neighbors (kNN) Imputation**"
      ]
    },
    {
      "cell_type": "code",
      "metadata": {
        "colab": {
          "base_uri": "https://localhost:8080/"
        },
        "id": "mhJyKs57U9Do",
        "outputId": "065b5620-4a06-4116-bfcc-eafc62b755ff"
      },
      "source": [
        "pip install missingpy"
      ],
      "execution_count": 61,
      "outputs": [
        {
          "output_type": "stream",
          "text": [
            "Collecting missingpy\n",
            "\u001b[?25l  Downloading https://files.pythonhosted.org/packages/b5/be/998d04d27054b58f0974b5f09f8457778a0a72d4355e0b7ae877b6cfb850/missingpy-0.2.0-py3-none-any.whl (49kB)\n",
            "\u001b[K     |████████████████████████████████| 51kB 2.0MB/s \n",
            "\u001b[?25hInstalling collected packages: missingpy\n",
            "Successfully installed missingpy-0.2.0\n"
          ],
          "name": "stdout"
        }
      ]
    },
    {
      "cell_type": "code",
      "metadata": {
        "colab": {
          "base_uri": "https://localhost:8080/",
          "height": 450
        },
        "id": "n5MMdfFrVemR",
        "outputId": "e8837731-679e-43df-d4b7-b4d801bd0cf6"
      },
      "source": [
        "miss_data=data\n",
        "miss_data"
      ],
      "execution_count": 62,
      "outputs": [
        {
          "output_type": "execute_result",
          "data": {
            "text/html": [
              "<div>\n",
              "<style scoped>\n",
              "    .dataframe tbody tr th:only-of-type {\n",
              "        vertical-align: middle;\n",
              "    }\n",
              "\n",
              "    .dataframe tbody tr th {\n",
              "        vertical-align: top;\n",
              "    }\n",
              "\n",
              "    .dataframe thead th {\n",
              "        text-align: right;\n",
              "    }\n",
              "</style>\n",
              "<table border=\"1\" class=\"dataframe\">\n",
              "  <thead>\n",
              "    <tr style=\"text-align: right;\">\n",
              "      <th></th>\n",
              "      <th>pH</th>\n",
              "      <th>DO</th>\n",
              "      <th>TDS</th>\n",
              "      <th>Alkalinity</th>\n",
              "      <th>EC</th>\n",
              "      <th>Na</th>\n",
              "      <th>Ca</th>\n",
              "      <th>Mg</th>\n",
              "      <th>K</th>\n",
              "      <th>F</th>\n",
              "      <th>Cl</th>\n",
              "      <th>Nitrate</th>\n",
              "      <th>Sulphate</th>\n",
              "      <th>Phosphate</th>\n",
              "      <th>WPI</th>\n",
              "    </tr>\n",
              "    <tr>\n",
              "      <th>Date</th>\n",
              "      <th></th>\n",
              "      <th></th>\n",
              "      <th></th>\n",
              "      <th></th>\n",
              "      <th></th>\n",
              "      <th></th>\n",
              "      <th></th>\n",
              "      <th></th>\n",
              "      <th></th>\n",
              "      <th></th>\n",
              "      <th></th>\n",
              "      <th></th>\n",
              "      <th></th>\n",
              "      <th></th>\n",
              "      <th></th>\n",
              "    </tr>\n",
              "  </thead>\n",
              "  <tbody>\n",
              "    <tr>\n",
              "      <th>2014-01-01</th>\n",
              "      <td>8.14</td>\n",
              "      <td>8.7</td>\n",
              "      <td>84.0</td>\n",
              "      <td>52</td>\n",
              "      <td>147.8</td>\n",
              "      <td>4.48</td>\n",
              "      <td>44.0</td>\n",
              "      <td>20.0</td>\n",
              "      <td>1.17</td>\n",
              "      <td>0.285</td>\n",
              "      <td>7.80</td>\n",
              "      <td>0.758000</td>\n",
              "      <td>6.534660</td>\n",
              "      <td>0.06211</td>\n",
              "      <td>0.249528</td>\n",
              "    </tr>\n",
              "    <tr>\n",
              "      <th>2014-01-02</th>\n",
              "      <td>7.70</td>\n",
              "      <td>8.8</td>\n",
              "      <td>110.0</td>\n",
              "      <td>76</td>\n",
              "      <td>188.0</td>\n",
              "      <td>8.61</td>\n",
              "      <td>44.0</td>\n",
              "      <td>36.0</td>\n",
              "      <td>3.46</td>\n",
              "      <td>0.401</td>\n",
              "      <td>14.80</td>\n",
              "      <td>0.196062</td>\n",
              "      <td>8.138620</td>\n",
              "      <td>0.00960</td>\n",
              "      <td>0.216400</td>\n",
              "    </tr>\n",
              "    <tr>\n",
              "      <th>2014-01-03</th>\n",
              "      <td>7.60</td>\n",
              "      <td>7.5</td>\n",
              "      <td>75.0</td>\n",
              "      <td>44</td>\n",
              "      <td>128.0</td>\n",
              "      <td>8.11</td>\n",
              "      <td>28.0</td>\n",
              "      <td>20.0</td>\n",
              "      <td>2.80</td>\n",
              "      <td>0.379</td>\n",
              "      <td>14.80</td>\n",
              "      <td>0.298875</td>\n",
              "      <td>3.855625</td>\n",
              "      <td>0.01280</td>\n",
              "      <td>0.183814</td>\n",
              "    </tr>\n",
              "    <tr>\n",
              "      <th>2014-01-04</th>\n",
              "      <td>NaN</td>\n",
              "      <td>9.1</td>\n",
              "      <td>76.0</td>\n",
              "      <td>56</td>\n",
              "      <td>127.0</td>\n",
              "      <td>NaN</td>\n",
              "      <td>44.0</td>\n",
              "      <td>18.0</td>\n",
              "      <td>1.65</td>\n",
              "      <td>0.396</td>\n",
              "      <td>9.60</td>\n",
              "      <td>0.299591</td>\n",
              "      <td>2.238750</td>\n",
              "      <td>0.01536</td>\n",
              "      <td>0.219282</td>\n",
              "    </tr>\n",
              "    <tr>\n",
              "      <th>2014-01-05</th>\n",
              "      <td>NaN</td>\n",
              "      <td>7.3</td>\n",
              "      <td>84.0</td>\n",
              "      <td>52</td>\n",
              "      <td>140.0</td>\n",
              "      <td>NaN</td>\n",
              "      <td>28.0</td>\n",
              "      <td>20.0</td>\n",
              "      <td>1.61</td>\n",
              "      <td>0.265</td>\n",
              "      <td>8.30</td>\n",
              "      <td>0.106000</td>\n",
              "      <td>5.600000</td>\n",
              "      <td>0.01000</td>\n",
              "      <td>0.165831</td>\n",
              "    </tr>\n",
              "    <tr>\n",
              "      <th>...</th>\n",
              "      <td>...</td>\n",
              "      <td>...</td>\n",
              "      <td>...</td>\n",
              "      <td>...</td>\n",
              "      <td>...</td>\n",
              "      <td>...</td>\n",
              "      <td>...</td>\n",
              "      <td>...</td>\n",
              "      <td>...</td>\n",
              "      <td>...</td>\n",
              "      <td>...</td>\n",
              "      <td>...</td>\n",
              "      <td>...</td>\n",
              "      <td>...</td>\n",
              "      <td>...</td>\n",
              "    </tr>\n",
              "    <tr>\n",
              "      <th>2015-04-28</th>\n",
              "      <td>7.60</td>\n",
              "      <td>5.6</td>\n",
              "      <td>NaN</td>\n",
              "      <td>8</td>\n",
              "      <td>370.0</td>\n",
              "      <td>16.14</td>\n",
              "      <td>92.0</td>\n",
              "      <td>24.0</td>\n",
              "      <td>7.60</td>\n",
              "      <td>2.270</td>\n",
              "      <td>23.04</td>\n",
              "      <td>1.352000</td>\n",
              "      <td>104.480000</td>\n",
              "      <td>0.01500</td>\n",
              "      <td>0.419630</td>\n",
              "    </tr>\n",
              "    <tr>\n",
              "      <th>2015-04-29</th>\n",
              "      <td>7.30</td>\n",
              "      <td>5.6</td>\n",
              "      <td>NaN</td>\n",
              "      <td>96</td>\n",
              "      <td>434.0</td>\n",
              "      <td>20.56</td>\n",
              "      <td>96.0</td>\n",
              "      <td>32.0</td>\n",
              "      <td>9.89</td>\n",
              "      <td>1.550</td>\n",
              "      <td>30.86</td>\n",
              "      <td>7.074000</td>\n",
              "      <td>61.068000</td>\n",
              "      <td>0.03300</td>\n",
              "      <td>0.432996</td>\n",
              "    </tr>\n",
              "    <tr>\n",
              "      <th>2015-04-30</th>\n",
              "      <td>5.10</td>\n",
              "      <td>5.8</td>\n",
              "      <td>290.0</td>\n",
              "      <td>12</td>\n",
              "      <td>487.0</td>\n",
              "      <td>37.35</td>\n",
              "      <td>60.0</td>\n",
              "      <td>44.0</td>\n",
              "      <td>14.80</td>\n",
              "      <td>0.159</td>\n",
              "      <td>60.13</td>\n",
              "      <td>9.256000</td>\n",
              "      <td>89.910000</td>\n",
              "      <td>0.16300</td>\n",
              "      <td>0.326811</td>\n",
              "    </tr>\n",
              "    <tr>\n",
              "      <th>2015-05-01</th>\n",
              "      <td>7.40</td>\n",
              "      <td>6.4</td>\n",
              "      <td>NaN</td>\n",
              "      <td>72</td>\n",
              "      <td>385.0</td>\n",
              "      <td>20.06</td>\n",
              "      <td>70.0</td>\n",
              "      <td>42.0</td>\n",
              "      <td>10.35</td>\n",
              "      <td>1.360</td>\n",
              "      <td>32.92</td>\n",
              "      <td>7.110435</td>\n",
              "      <td>48.500000</td>\n",
              "      <td>0.21900</td>\n",
              "      <td>0.509970</td>\n",
              "    </tr>\n",
              "    <tr>\n",
              "      <th>2015-05-02</th>\n",
              "      <td>7.60</td>\n",
              "      <td>6.9</td>\n",
              "      <td>NaN</td>\n",
              "      <td>68</td>\n",
              "      <td>410.8</td>\n",
              "      <td>17.41</td>\n",
              "      <td>82.0</td>\n",
              "      <td>50.0</td>\n",
              "      <td>9.92</td>\n",
              "      <td>1.310</td>\n",
              "      <td>34.89</td>\n",
              "      <td>6.385000</td>\n",
              "      <td>59.940000</td>\n",
              "      <td>0.07000</td>\n",
              "      <td>0.422551</td>\n",
              "    </tr>\n",
              "  </tbody>\n",
              "</table>\n",
              "<p>487 rows × 15 columns</p>\n",
              "</div>"
            ],
            "text/plain": [
              "              pH   DO    TDS  ...    Sulphate  Phosphate       WPI\n",
              "Date                          ...                                 \n",
              "2014-01-01  8.14  8.7   84.0  ...    6.534660    0.06211  0.249528\n",
              "2014-01-02  7.70  8.8  110.0  ...    8.138620    0.00960  0.216400\n",
              "2014-01-03  7.60  7.5   75.0  ...    3.855625    0.01280  0.183814\n",
              "2014-01-04   NaN  9.1   76.0  ...    2.238750    0.01536  0.219282\n",
              "2014-01-05   NaN  7.3   84.0  ...    5.600000    0.01000  0.165831\n",
              "...          ...  ...    ...  ...         ...        ...       ...\n",
              "2015-04-28  7.60  5.6    NaN  ...  104.480000    0.01500  0.419630\n",
              "2015-04-29  7.30  5.6    NaN  ...   61.068000    0.03300  0.432996\n",
              "2015-04-30  5.10  5.8  290.0  ...   89.910000    0.16300  0.326811\n",
              "2015-05-01  7.40  6.4    NaN  ...   48.500000    0.21900  0.509970\n",
              "2015-05-02  7.60  6.9    NaN  ...   59.940000    0.07000  0.422551\n",
              "\n",
              "[487 rows x 15 columns]"
            ]
          },
          "metadata": {
            "tags": []
          },
          "execution_count": 62
        }
      ]
    },
    {
      "cell_type": "code",
      "metadata": {
        "colab": {
          "base_uri": "https://localhost:8080/"
        },
        "id": "exy2z4BxWZYN",
        "outputId": "b5bd491c-d3bf-44e5-9f44-66225275afdd"
      },
      "source": [
        "from missingpy import KNNImputer\n",
        "imputer = KNNImputer()\n",
        "miss_data_imputed = imputer.fit_transform(miss_data)"
      ],
      "execution_count": 63,
      "outputs": [
        {
          "output_type": "stream",
          "text": [
            "/usr/local/lib/python3.7/dist-packages/sklearn/utils/deprecation.py:144: FutureWarning: The sklearn.neighbors.base module is  deprecated in version 0.22 and will be removed in version 0.24. The corresponding classes / functions should instead be imported from sklearn.neighbors. Anything that cannot be imported from sklearn.neighbors is now part of the private API.\n",
            "  warnings.warn(message, FutureWarning)\n",
            "/usr/local/lib/python3.7/dist-packages/missingpy/pairwise_external.py:135: FutureWarning: 'warn_on_dtype' is deprecated in version 0.21 and will be removed in 0.23. Don't set `warn_on_dtype` to remove this warning.\n",
            "  warn_on_dtype=warn_on_dtype, estimator=estimator)\n",
            "/usr/local/lib/python3.7/dist-packages/missingpy/pairwise_external.py:138: FutureWarning: 'warn_on_dtype' is deprecated in version 0.21 and will be removed in 0.23. Don't set `warn_on_dtype` to remove this warning.\n",
            "  warn_on_dtype=warn_on_dtype, estimator=estimator)\n",
            "/usr/local/lib/python3.7/dist-packages/missingpy/utils.py:124: RuntimeWarning: invalid value encountered in sqrt\n",
            "  return distances if squared else np.sqrt(distances, out=distances)\n"
          ],
          "name": "stderr"
        }
      ]
    },
    {
      "cell_type": "code",
      "metadata": {
        "colab": {
          "base_uri": "https://localhost:8080/"
        },
        "id": "ZMbUwyKPWien",
        "outputId": "d157d986-110b-4ed6-f291-23399696b732"
      },
      "source": [
        "miss_data_imputed"
      ],
      "execution_count": 64,
      "outputs": [
        {
          "output_type": "execute_result",
          "data": {
            "text/plain": [
              "array([[8.14000000e+00, 8.70000000e+00, 8.40000000e+01, ...,\n",
              "        6.53466000e+00, 6.21105000e-02, 2.49527720e-01],\n",
              "       [7.70000000e+00, 8.80000000e+00, 1.10000000e+02, ...,\n",
              "        8.13862000e+00, 9.60000000e-03, 2.16399625e-01],\n",
              "       [7.60000000e+00, 7.50000000e+00, 7.50000000e+01, ...,\n",
              "        3.85562500e+00, 1.28000000e-02, 1.83814107e-01],\n",
              "       ...,\n",
              "       [5.10000000e+00, 5.80000000e+00, 2.90000000e+02, ...,\n",
              "        8.99100000e+01, 1.63000000e-01, 3.26810635e-01],\n",
              "       [7.40000000e+00, 6.40000000e+00, 2.15000000e+02, ...,\n",
              "        4.85000000e+01, 2.19000000e-01, 5.09969501e-01],\n",
              "       [7.60000000e+00, 6.90000000e+00, 2.33200000e+02, ...,\n",
              "        5.99400000e+01, 7.00000000e-02, 4.22550635e-01]])"
            ]
          },
          "metadata": {
            "tags": []
          },
          "execution_count": 64
        }
      ]
    },
    {
      "cell_type": "code",
      "metadata": {
        "colab": {
          "base_uri": "https://localhost:8080/"
        },
        "id": "1TNQdwebWl3r",
        "outputId": "6d501785-f252-4c26-b150-0241e19e6745"
      },
      "source": [
        "miss_data_imputed.shape"
      ],
      "execution_count": 66,
      "outputs": [
        {
          "output_type": "execute_result",
          "data": {
            "text/plain": [
              "(487, 15)"
            ]
          },
          "metadata": {
            "tags": []
          },
          "execution_count": 66
        }
      ]
    },
    {
      "cell_type": "code",
      "metadata": {
        "id": "zfMyTxjEXM9J"
      },
      "source": [
        "data1=miss_data_imputed"
      ],
      "execution_count": 73,
      "outputs": []
    },
    {
      "cell_type": "code",
      "metadata": {
        "colab": {
          "base_uri": "https://localhost:8080/",
          "height": 453
        },
        "id": "l2WloTYWXpF8",
        "outputId": "7c78e4cc-f70a-45c4-ad43-2a03a7fc33ff"
      },
      "source": [
        "df = pd.DataFrame(data1, columns =['pH', 'DO', 'TDS',\t'Alkalinity',\t'EC',\t'Na',\t'Ca',\t'Mg',\t'K',\t'F',\t'Cl',\t'Nitrate',\t'Sulphate',\t'Phosphate',\t'WPI'])\n",
        "print(\"\\nPandas DataFrame: \")\n",
        "df"
      ],
      "execution_count": 74,
      "outputs": [
        {
          "output_type": "stream",
          "text": [
            "\n",
            "Pandas DataFrame: \n"
          ],
          "name": "stdout"
        },
        {
          "output_type": "execute_result",
          "data": {
            "text/html": [
              "<div>\n",
              "<style scoped>\n",
              "    .dataframe tbody tr th:only-of-type {\n",
              "        vertical-align: middle;\n",
              "    }\n",
              "\n",
              "    .dataframe tbody tr th {\n",
              "        vertical-align: top;\n",
              "    }\n",
              "\n",
              "    .dataframe thead th {\n",
              "        text-align: right;\n",
              "    }\n",
              "</style>\n",
              "<table border=\"1\" class=\"dataframe\">\n",
              "  <thead>\n",
              "    <tr style=\"text-align: right;\">\n",
              "      <th></th>\n",
              "      <th>pH</th>\n",
              "      <th>DO</th>\n",
              "      <th>TDS</th>\n",
              "      <th>Alkalinity</th>\n",
              "      <th>EC</th>\n",
              "      <th>Na</th>\n",
              "      <th>Ca</th>\n",
              "      <th>Mg</th>\n",
              "      <th>K</th>\n",
              "      <th>F</th>\n",
              "      <th>Cl</th>\n",
              "      <th>Nitrate</th>\n",
              "      <th>Sulphate</th>\n",
              "      <th>Phosphate</th>\n",
              "      <th>WPI</th>\n",
              "    </tr>\n",
              "  </thead>\n",
              "  <tbody>\n",
              "    <tr>\n",
              "      <th>0</th>\n",
              "      <td>8.140</td>\n",
              "      <td>8.7</td>\n",
              "      <td>84.0</td>\n",
              "      <td>52.0</td>\n",
              "      <td>147.8</td>\n",
              "      <td>4.480</td>\n",
              "      <td>44.0</td>\n",
              "      <td>20.0</td>\n",
              "      <td>1.17</td>\n",
              "      <td>0.285</td>\n",
              "      <td>7.80</td>\n",
              "      <td>0.758000</td>\n",
              "      <td>6.534660</td>\n",
              "      <td>0.06211</td>\n",
              "      <td>0.249528</td>\n",
              "    </tr>\n",
              "    <tr>\n",
              "      <th>1</th>\n",
              "      <td>7.700</td>\n",
              "      <td>8.8</td>\n",
              "      <td>110.0</td>\n",
              "      <td>76.0</td>\n",
              "      <td>188.0</td>\n",
              "      <td>8.610</td>\n",
              "      <td>44.0</td>\n",
              "      <td>36.0</td>\n",
              "      <td>3.46</td>\n",
              "      <td>0.401</td>\n",
              "      <td>14.80</td>\n",
              "      <td>0.196062</td>\n",
              "      <td>8.138620</td>\n",
              "      <td>0.00960</td>\n",
              "      <td>0.216400</td>\n",
              "    </tr>\n",
              "    <tr>\n",
              "      <th>2</th>\n",
              "      <td>7.600</td>\n",
              "      <td>7.5</td>\n",
              "      <td>75.0</td>\n",
              "      <td>44.0</td>\n",
              "      <td>128.0</td>\n",
              "      <td>8.110</td>\n",
              "      <td>28.0</td>\n",
              "      <td>20.0</td>\n",
              "      <td>2.80</td>\n",
              "      <td>0.379</td>\n",
              "      <td>14.80</td>\n",
              "      <td>0.298875</td>\n",
              "      <td>3.855625</td>\n",
              "      <td>0.01280</td>\n",
              "      <td>0.183814</td>\n",
              "    </tr>\n",
              "    <tr>\n",
              "      <th>3</th>\n",
              "      <td>8.294</td>\n",
              "      <td>9.1</td>\n",
              "      <td>76.0</td>\n",
              "      <td>56.0</td>\n",
              "      <td>127.0</td>\n",
              "      <td>5.138</td>\n",
              "      <td>44.0</td>\n",
              "      <td>18.0</td>\n",
              "      <td>1.65</td>\n",
              "      <td>0.396</td>\n",
              "      <td>9.60</td>\n",
              "      <td>0.299591</td>\n",
              "      <td>2.238750</td>\n",
              "      <td>0.01536</td>\n",
              "      <td>0.219282</td>\n",
              "    </tr>\n",
              "    <tr>\n",
              "      <th>4</th>\n",
              "      <td>7.702</td>\n",
              "      <td>7.3</td>\n",
              "      <td>84.0</td>\n",
              "      <td>52.0</td>\n",
              "      <td>140.0</td>\n",
              "      <td>6.196</td>\n",
              "      <td>28.0</td>\n",
              "      <td>20.0</td>\n",
              "      <td>1.61</td>\n",
              "      <td>0.265</td>\n",
              "      <td>8.30</td>\n",
              "      <td>0.106000</td>\n",
              "      <td>5.600000</td>\n",
              "      <td>0.01000</td>\n",
              "      <td>0.165831</td>\n",
              "    </tr>\n",
              "    <tr>\n",
              "      <th>...</th>\n",
              "      <td>...</td>\n",
              "      <td>...</td>\n",
              "      <td>...</td>\n",
              "      <td>...</td>\n",
              "      <td>...</td>\n",
              "      <td>...</td>\n",
              "      <td>...</td>\n",
              "      <td>...</td>\n",
              "      <td>...</td>\n",
              "      <td>...</td>\n",
              "      <td>...</td>\n",
              "      <td>...</td>\n",
              "      <td>...</td>\n",
              "      <td>...</td>\n",
              "      <td>...</td>\n",
              "    </tr>\n",
              "    <tr>\n",
              "      <th>482</th>\n",
              "      <td>7.600</td>\n",
              "      <td>5.6</td>\n",
              "      <td>201.0</td>\n",
              "      <td>8.0</td>\n",
              "      <td>370.0</td>\n",
              "      <td>16.140</td>\n",
              "      <td>92.0</td>\n",
              "      <td>24.0</td>\n",
              "      <td>7.60</td>\n",
              "      <td>2.270</td>\n",
              "      <td>23.04</td>\n",
              "      <td>1.352000</td>\n",
              "      <td>104.480000</td>\n",
              "      <td>0.01500</td>\n",
              "      <td>0.419630</td>\n",
              "    </tr>\n",
              "    <tr>\n",
              "      <th>483</th>\n",
              "      <td>7.300</td>\n",
              "      <td>5.6</td>\n",
              "      <td>251.0</td>\n",
              "      <td>96.0</td>\n",
              "      <td>434.0</td>\n",
              "      <td>20.560</td>\n",
              "      <td>96.0</td>\n",
              "      <td>32.0</td>\n",
              "      <td>9.89</td>\n",
              "      <td>1.550</td>\n",
              "      <td>30.86</td>\n",
              "      <td>7.074000</td>\n",
              "      <td>61.068000</td>\n",
              "      <td>0.03300</td>\n",
              "      <td>0.432996</td>\n",
              "    </tr>\n",
              "    <tr>\n",
              "      <th>484</th>\n",
              "      <td>5.100</td>\n",
              "      <td>5.8</td>\n",
              "      <td>290.0</td>\n",
              "      <td>12.0</td>\n",
              "      <td>487.0</td>\n",
              "      <td>37.350</td>\n",
              "      <td>60.0</td>\n",
              "      <td>44.0</td>\n",
              "      <td>14.80</td>\n",
              "      <td>0.159</td>\n",
              "      <td>60.13</td>\n",
              "      <td>9.256000</td>\n",
              "      <td>89.910000</td>\n",
              "      <td>0.16300</td>\n",
              "      <td>0.326811</td>\n",
              "    </tr>\n",
              "    <tr>\n",
              "      <th>485</th>\n",
              "      <td>7.400</td>\n",
              "      <td>6.4</td>\n",
              "      <td>215.0</td>\n",
              "      <td>72.0</td>\n",
              "      <td>385.0</td>\n",
              "      <td>20.060</td>\n",
              "      <td>70.0</td>\n",
              "      <td>42.0</td>\n",
              "      <td>10.35</td>\n",
              "      <td>1.360</td>\n",
              "      <td>32.92</td>\n",
              "      <td>7.110435</td>\n",
              "      <td>48.500000</td>\n",
              "      <td>0.21900</td>\n",
              "      <td>0.509970</td>\n",
              "    </tr>\n",
              "    <tr>\n",
              "      <th>486</th>\n",
              "      <td>7.600</td>\n",
              "      <td>6.9</td>\n",
              "      <td>233.2</td>\n",
              "      <td>68.0</td>\n",
              "      <td>410.8</td>\n",
              "      <td>17.410</td>\n",
              "      <td>82.0</td>\n",
              "      <td>50.0</td>\n",
              "      <td>9.92</td>\n",
              "      <td>1.310</td>\n",
              "      <td>34.89</td>\n",
              "      <td>6.385000</td>\n",
              "      <td>59.940000</td>\n",
              "      <td>0.07000</td>\n",
              "      <td>0.422551</td>\n",
              "    </tr>\n",
              "  </tbody>\n",
              "</table>\n",
              "<p>487 rows × 15 columns</p>\n",
              "</div>"
            ],
            "text/plain": [
              "        pH   DO    TDS  Alkalinity  ...   Nitrate    Sulphate  Phosphate       WPI\n",
              "0    8.140  8.7   84.0        52.0  ...  0.758000    6.534660    0.06211  0.249528\n",
              "1    7.700  8.8  110.0        76.0  ...  0.196062    8.138620    0.00960  0.216400\n",
              "2    7.600  7.5   75.0        44.0  ...  0.298875    3.855625    0.01280  0.183814\n",
              "3    8.294  9.1   76.0        56.0  ...  0.299591    2.238750    0.01536  0.219282\n",
              "4    7.702  7.3   84.0        52.0  ...  0.106000    5.600000    0.01000  0.165831\n",
              "..     ...  ...    ...         ...  ...       ...         ...        ...       ...\n",
              "482  7.600  5.6  201.0         8.0  ...  1.352000  104.480000    0.01500  0.419630\n",
              "483  7.300  5.6  251.0        96.0  ...  7.074000   61.068000    0.03300  0.432996\n",
              "484  5.100  5.8  290.0        12.0  ...  9.256000   89.910000    0.16300  0.326811\n",
              "485  7.400  6.4  215.0        72.0  ...  7.110435   48.500000    0.21900  0.509970\n",
              "486  7.600  6.9  233.2        68.0  ...  6.385000   59.940000    0.07000  0.422551\n",
              "\n",
              "[487 rows x 15 columns]"
            ]
          },
          "metadata": {
            "tags": []
          },
          "execution_count": 74
        }
      ]
    },
    {
      "cell_type": "code",
      "metadata": {
        "colab": {
          "base_uri": "https://localhost:8080/"
        },
        "id": "6jcq8ep8Ze4q",
        "outputId": "e43b1573-ed5b-4175-db3a-619147106ec0"
      },
      "source": [
        "print(df.isnull().sum())"
      ],
      "execution_count": 75,
      "outputs": [
        {
          "output_type": "stream",
          "text": [
            "pH            0\n",
            "DO            0\n",
            "TDS           0\n",
            "Alkalinity    0\n",
            "EC            0\n",
            "Na            0\n",
            "Ca            0\n",
            "Mg            0\n",
            "K             0\n",
            "F             0\n",
            "Cl            0\n",
            "Nitrate       0\n",
            "Sulphate      0\n",
            "Phosphate     0\n",
            "WPI           0\n",
            "dtype: int64\n"
          ],
          "name": "stdout"
        }
      ]
    },
    {
      "cell_type": "markdown",
      "metadata": {
        "id": "HkJDElIGaz-H"
      },
      "source": [
        "**Random Forest Imputation (MissForest)**"
      ]
    },
    {
      "cell_type": "code",
      "metadata": {
        "colab": {
          "base_uri": "https://localhost:8080/"
        },
        "id": "WFq3SKbLZ_9A",
        "outputId": "fce05c0f-6d94-4201-a0f6-47b06ebd4eff"
      },
      "source": [
        "from missingpy import MissForest\n",
        "imputer = MissForest()\n",
        "rf_imputed = imputer.fit_transform(miss_data)"
      ],
      "execution_count": 76,
      "outputs": [
        {
          "output_type": "stream",
          "text": [
            "Iteration: 0\n",
            "Iteration: 1\n",
            "Iteration: 2\n",
            "Iteration: 3\n",
            "Iteration: 4\n",
            "Iteration: 5\n"
          ],
          "name": "stdout"
        }
      ]
    },
    {
      "cell_type": "code",
      "metadata": {
        "colab": {
          "base_uri": "https://localhost:8080/"
        },
        "id": "wzhd5-omaR2P",
        "outputId": "8010a714-35b0-4cdd-bb7e-06c448624ded"
      },
      "source": [
        "rf_imputed"
      ],
      "execution_count": 77,
      "outputs": [
        {
          "output_type": "execute_result",
          "data": {
            "text/plain": [
              "array([[8.14000000e+00, 8.70000000e+00, 8.40000000e+01, ...,\n",
              "        6.53466000e+00, 6.21105000e-02, 2.49527720e-01],\n",
              "       [7.70000000e+00, 8.80000000e+00, 1.10000000e+02, ...,\n",
              "        8.13862000e+00, 9.60000000e-03, 2.16399625e-01],\n",
              "       [7.60000000e+00, 7.50000000e+00, 7.50000000e+01, ...,\n",
              "        3.85562500e+00, 1.28000000e-02, 1.83814107e-01],\n",
              "       ...,\n",
              "       [5.10000000e+00, 5.80000000e+00, 2.90000000e+02, ...,\n",
              "        8.99100000e+01, 1.63000000e-01, 3.26810635e-01],\n",
              "       [7.40000000e+00, 6.40000000e+00, 2.21340000e+02, ...,\n",
              "        4.85000000e+01, 2.19000000e-01, 5.09969501e-01],\n",
              "       [7.60000000e+00, 6.90000000e+00, 2.45330000e+02, ...,\n",
              "        5.99400000e+01, 7.00000000e-02, 4.22550635e-01]])"
            ]
          },
          "metadata": {
            "tags": []
          },
          "execution_count": 77
        }
      ]
    },
    {
      "cell_type": "code",
      "metadata": {
        "colab": {
          "base_uri": "https://localhost:8080/",
          "height": 453
        },
        "id": "9r_LksPvajHJ",
        "outputId": "da118fa9-5e24-49c1-ea11-57d4440c5a53"
      },
      "source": [
        "df = pd.DataFrame(rf_imputed, columns =['pH', 'DO', 'TDS',\t'Alkalinity',\t'EC',\t'Na',\t'Ca',\t'Mg',\t'K',\t'F',\t'Cl',\t'Nitrate',\t'Sulphate',\t'Phosphate',\t'WPI'])\n",
        "print(\"\\nPandas DataFrame: \")\n",
        "df"
      ],
      "execution_count": 78,
      "outputs": [
        {
          "output_type": "stream",
          "text": [
            "\n",
            "Pandas DataFrame: \n"
          ],
          "name": "stdout"
        },
        {
          "output_type": "execute_result",
          "data": {
            "text/html": [
              "<div>\n",
              "<style scoped>\n",
              "    .dataframe tbody tr th:only-of-type {\n",
              "        vertical-align: middle;\n",
              "    }\n",
              "\n",
              "    .dataframe tbody tr th {\n",
              "        vertical-align: top;\n",
              "    }\n",
              "\n",
              "    .dataframe thead th {\n",
              "        text-align: right;\n",
              "    }\n",
              "</style>\n",
              "<table border=\"1\" class=\"dataframe\">\n",
              "  <thead>\n",
              "    <tr style=\"text-align: right;\">\n",
              "      <th></th>\n",
              "      <th>pH</th>\n",
              "      <th>DO</th>\n",
              "      <th>TDS</th>\n",
              "      <th>Alkalinity</th>\n",
              "      <th>EC</th>\n",
              "      <th>Na</th>\n",
              "      <th>Ca</th>\n",
              "      <th>Mg</th>\n",
              "      <th>K</th>\n",
              "      <th>F</th>\n",
              "      <th>Cl</th>\n",
              "      <th>Nitrate</th>\n",
              "      <th>Sulphate</th>\n",
              "      <th>Phosphate</th>\n",
              "      <th>WPI</th>\n",
              "    </tr>\n",
              "  </thead>\n",
              "  <tbody>\n",
              "    <tr>\n",
              "      <th>0</th>\n",
              "      <td>8.14000</td>\n",
              "      <td>8.7</td>\n",
              "      <td>84.00</td>\n",
              "      <td>52.0</td>\n",
              "      <td>147.8</td>\n",
              "      <td>4.4800</td>\n",
              "      <td>44.0</td>\n",
              "      <td>20.0</td>\n",
              "      <td>1.17</td>\n",
              "      <td>0.285</td>\n",
              "      <td>7.80</td>\n",
              "      <td>0.758000</td>\n",
              "      <td>6.534660</td>\n",
              "      <td>0.06211</td>\n",
              "      <td>0.249528</td>\n",
              "    </tr>\n",
              "    <tr>\n",
              "      <th>1</th>\n",
              "      <td>7.70000</td>\n",
              "      <td>8.8</td>\n",
              "      <td>110.00</td>\n",
              "      <td>76.0</td>\n",
              "      <td>188.0</td>\n",
              "      <td>8.6100</td>\n",
              "      <td>44.0</td>\n",
              "      <td>36.0</td>\n",
              "      <td>3.46</td>\n",
              "      <td>0.401</td>\n",
              "      <td>14.80</td>\n",
              "      <td>0.196062</td>\n",
              "      <td>8.138620</td>\n",
              "      <td>0.00960</td>\n",
              "      <td>0.216400</td>\n",
              "    </tr>\n",
              "    <tr>\n",
              "      <th>2</th>\n",
              "      <td>7.60000</td>\n",
              "      <td>7.5</td>\n",
              "      <td>75.00</td>\n",
              "      <td>44.0</td>\n",
              "      <td>128.0</td>\n",
              "      <td>8.1100</td>\n",
              "      <td>28.0</td>\n",
              "      <td>20.0</td>\n",
              "      <td>2.80</td>\n",
              "      <td>0.379</td>\n",
              "      <td>14.80</td>\n",
              "      <td>0.298875</td>\n",
              "      <td>3.855625</td>\n",
              "      <td>0.01280</td>\n",
              "      <td>0.183814</td>\n",
              "    </tr>\n",
              "    <tr>\n",
              "      <th>3</th>\n",
              "      <td>8.15237</td>\n",
              "      <td>9.1</td>\n",
              "      <td>76.00</td>\n",
              "      <td>56.0</td>\n",
              "      <td>127.0</td>\n",
              "      <td>6.0874</td>\n",
              "      <td>44.0</td>\n",
              "      <td>18.0</td>\n",
              "      <td>1.65</td>\n",
              "      <td>0.396</td>\n",
              "      <td>9.60</td>\n",
              "      <td>0.299591</td>\n",
              "      <td>2.238750</td>\n",
              "      <td>0.01536</td>\n",
              "      <td>0.219282</td>\n",
              "    </tr>\n",
              "    <tr>\n",
              "      <th>4</th>\n",
              "      <td>7.48430</td>\n",
              "      <td>7.3</td>\n",
              "      <td>84.00</td>\n",
              "      <td>52.0</td>\n",
              "      <td>140.0</td>\n",
              "      <td>5.4066</td>\n",
              "      <td>28.0</td>\n",
              "      <td>20.0</td>\n",
              "      <td>1.61</td>\n",
              "      <td>0.265</td>\n",
              "      <td>8.30</td>\n",
              "      <td>0.106000</td>\n",
              "      <td>5.600000</td>\n",
              "      <td>0.01000</td>\n",
              "      <td>0.165831</td>\n",
              "    </tr>\n",
              "    <tr>\n",
              "      <th>...</th>\n",
              "      <td>...</td>\n",
              "      <td>...</td>\n",
              "      <td>...</td>\n",
              "      <td>...</td>\n",
              "      <td>...</td>\n",
              "      <td>...</td>\n",
              "      <td>...</td>\n",
              "      <td>...</td>\n",
              "      <td>...</td>\n",
              "      <td>...</td>\n",
              "      <td>...</td>\n",
              "      <td>...</td>\n",
              "      <td>...</td>\n",
              "      <td>...</td>\n",
              "      <td>...</td>\n",
              "    </tr>\n",
              "    <tr>\n",
              "      <th>482</th>\n",
              "      <td>7.60000</td>\n",
              "      <td>5.6</td>\n",
              "      <td>213.79</td>\n",
              "      <td>8.0</td>\n",
              "      <td>370.0</td>\n",
              "      <td>16.1400</td>\n",
              "      <td>92.0</td>\n",
              "      <td>24.0</td>\n",
              "      <td>7.60</td>\n",
              "      <td>2.270</td>\n",
              "      <td>23.04</td>\n",
              "      <td>1.352000</td>\n",
              "      <td>104.480000</td>\n",
              "      <td>0.01500</td>\n",
              "      <td>0.419630</td>\n",
              "    </tr>\n",
              "    <tr>\n",
              "      <th>483</th>\n",
              "      <td>7.30000</td>\n",
              "      <td>5.6</td>\n",
              "      <td>259.50</td>\n",
              "      <td>96.0</td>\n",
              "      <td>434.0</td>\n",
              "      <td>20.5600</td>\n",
              "      <td>96.0</td>\n",
              "      <td>32.0</td>\n",
              "      <td>9.89</td>\n",
              "      <td>1.550</td>\n",
              "      <td>30.86</td>\n",
              "      <td>7.074000</td>\n",
              "      <td>61.068000</td>\n",
              "      <td>0.03300</td>\n",
              "      <td>0.432996</td>\n",
              "    </tr>\n",
              "    <tr>\n",
              "      <th>484</th>\n",
              "      <td>5.10000</td>\n",
              "      <td>5.8</td>\n",
              "      <td>290.00</td>\n",
              "      <td>12.0</td>\n",
              "      <td>487.0</td>\n",
              "      <td>37.3500</td>\n",
              "      <td>60.0</td>\n",
              "      <td>44.0</td>\n",
              "      <td>14.80</td>\n",
              "      <td>0.159</td>\n",
              "      <td>60.13</td>\n",
              "      <td>9.256000</td>\n",
              "      <td>89.910000</td>\n",
              "      <td>0.16300</td>\n",
              "      <td>0.326811</td>\n",
              "    </tr>\n",
              "    <tr>\n",
              "      <th>485</th>\n",
              "      <td>7.40000</td>\n",
              "      <td>6.4</td>\n",
              "      <td>221.34</td>\n",
              "      <td>72.0</td>\n",
              "      <td>385.0</td>\n",
              "      <td>20.0600</td>\n",
              "      <td>70.0</td>\n",
              "      <td>42.0</td>\n",
              "      <td>10.35</td>\n",
              "      <td>1.360</td>\n",
              "      <td>32.92</td>\n",
              "      <td>7.110435</td>\n",
              "      <td>48.500000</td>\n",
              "      <td>0.21900</td>\n",
              "      <td>0.509970</td>\n",
              "    </tr>\n",
              "    <tr>\n",
              "      <th>486</th>\n",
              "      <td>7.60000</td>\n",
              "      <td>6.9</td>\n",
              "      <td>245.33</td>\n",
              "      <td>68.0</td>\n",
              "      <td>410.8</td>\n",
              "      <td>17.4100</td>\n",
              "      <td>82.0</td>\n",
              "      <td>50.0</td>\n",
              "      <td>9.92</td>\n",
              "      <td>1.310</td>\n",
              "      <td>34.89</td>\n",
              "      <td>6.385000</td>\n",
              "      <td>59.940000</td>\n",
              "      <td>0.07000</td>\n",
              "      <td>0.422551</td>\n",
              "    </tr>\n",
              "  </tbody>\n",
              "</table>\n",
              "<p>487 rows × 15 columns</p>\n",
              "</div>"
            ],
            "text/plain": [
              "          pH   DO     TDS  ...    Sulphate  Phosphate       WPI\n",
              "0    8.14000  8.7   84.00  ...    6.534660    0.06211  0.249528\n",
              "1    7.70000  8.8  110.00  ...    8.138620    0.00960  0.216400\n",
              "2    7.60000  7.5   75.00  ...    3.855625    0.01280  0.183814\n",
              "3    8.15237  9.1   76.00  ...    2.238750    0.01536  0.219282\n",
              "4    7.48430  7.3   84.00  ...    5.600000    0.01000  0.165831\n",
              "..       ...  ...     ...  ...         ...        ...       ...\n",
              "482  7.60000  5.6  213.79  ...  104.480000    0.01500  0.419630\n",
              "483  7.30000  5.6  259.50  ...   61.068000    0.03300  0.432996\n",
              "484  5.10000  5.8  290.00  ...   89.910000    0.16300  0.326811\n",
              "485  7.40000  6.4  221.34  ...   48.500000    0.21900  0.509970\n",
              "486  7.60000  6.9  245.33  ...   59.940000    0.07000  0.422551\n",
              "\n",
              "[487 rows x 15 columns]"
            ]
          },
          "metadata": {
            "tags": []
          },
          "execution_count": 78
        }
      ]
    },
    {
      "cell_type": "code",
      "metadata": {
        "id": "aUtCDgOncYmu"
      },
      "source": [
        ""
      ],
      "execution_count": null,
      "outputs": []
    }
  ]
}
